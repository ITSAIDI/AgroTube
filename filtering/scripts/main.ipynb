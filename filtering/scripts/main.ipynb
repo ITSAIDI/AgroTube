{
 "cells": [
  {
   "cell_type": "code",
   "execution_count": 1,
   "id": "8e931bf3",
   "metadata": {},
   "outputs": [],
   "source": [
    "import json \n",
    "from collections import Counter\n",
    "from tqdm import tqdm \n",
    "from colorama import Style,Fore"
   ]
  },
  {
   "cell_type": "code",
   "execution_count": 2,
   "id": "7b68e515",
   "metadata": {},
   "outputs": [
    {
     "name": "stdout",
     "output_type": "stream",
     "text": [
      "2025-04-18 01:53:44,049 SequenceTagger predicts: Dictionary with 19 tags: O, S-LOC, B-LOC, E-LOC, I-LOC, S-PER, B-PER, E-PER, I-PER, S-MISC, B-MISC, E-MISC, I-MISC, S-ORG, B-ORG, E-ORG, I-ORG, <START>, <STOP>\n",
      "2025-04-18 01:54:14,885 SequenceTagger predicts: Dictionary with 19 tags: O, S-LOC, B-LOC, E-LOC, I-LOC, S-PER, B-PER, E-PER, I-PER, S-MISC, B-MISC, E-MISC, I-MISC, S-ORG, B-ORG, E-ORG, I-ORG, <START>, <STOP>\n"
     ]
    },
    {
     "data": {
      "text/plain": [
       "<module 'utils' from 'c:\\\\Users\\\\hp\\\\AgroTube\\\\filtering\\\\scripts\\\\utils.py'>"
      ]
     },
     "execution_count": 2,
     "metadata": {},
     "output_type": "execute_result"
    }
   ],
   "source": [
    "import importlib\n",
    "import utils  # or whatever your module is called\n",
    "importlib.reload(utils)"
   ]
  },
  {
   "cell_type": "markdown",
   "id": "2e4a2295",
   "metadata": {},
   "source": [
    "## Refining 1"
   ]
  },
  {
   "cell_type": "markdown",
   "id": "179c2de0",
   "metadata": {},
   "source": [
    "- Refine the language field of the videos"
   ]
  },
  {
   "cell_type": "code",
   "execution_count": null,
   "id": "92baa6b4",
   "metadata": {},
   "outputs": [],
   "source": [
    "from utils import RefineLanguage1\n"
   ]
  },
  {
   "cell_type": "code",
   "execution_count": null,
   "id": "1f0d635c",
   "metadata": {},
   "outputs": [],
   "source": [
    "RefineLanguage1()"
   ]
  },
  {
   "cell_type": "code",
   "execution_count": null,
   "id": "b8f6b351",
   "metadata": {},
   "outputs": [],
   "source": [
    "with open(\"../jsons/videosR1.json\", \"r\", encoding=\"utf-8\") as file:\n",
    "    videosR1 = json.load(file)\n",
    "len(videosR1)"
   ]
  },
  {
   "cell_type": "code",
   "execution_count": null,
   "id": "522d930f",
   "metadata": {},
   "outputs": [],
   "source": [
    "langue_counter = Counter(video['langue'] for video in videosR1)\n",
    "print(\"Toutes les valeurs uniques de langue avec leur nombre d'occurrences :\")\n",
    "for langue, count in langue_counter.items():\n",
    "    print(f\"- {langue} : {count}\")\n"
   ]
  },
  {
   "cell_type": "markdown",
   "id": "1352e2ab",
   "metadata": {},
   "source": [
    "## Refining 2"
   ]
  },
  {
   "cell_type": "markdown",
   "id": "6eae7e95",
   "metadata": {},
   "source": [
    "- Add the Localisation Information"
   ]
  },
  {
   "cell_type": "code",
   "execution_count": null,
   "id": "0293aec3",
   "metadata": {},
   "outputs": [],
   "source": [
    "from utils import RefineLanguage2"
   ]
  },
  {
   "cell_type": "code",
   "execution_count": null,
   "id": "10da376a",
   "metadata": {},
   "outputs": [],
   "source": [
    "RefineLanguage2()"
   ]
  },
  {
   "cell_type": "code",
   "execution_count": null,
   "id": "a570648d",
   "metadata": {},
   "outputs": [],
   "source": [
    "with open(\"../jsons/videosR2.json\", \"r\", encoding=\"utf-8\") as file:\n",
    "    videosR2 = json.load(file)\n",
    "len(videosR2)"
   ]
  },
  {
   "cell_type": "code",
   "execution_count": null,
   "id": "602cb3e4",
   "metadata": {},
   "outputs": [],
   "source": [
    "langue_counter = Counter(video['langue'] for video in videosR2)\n",
    "print(\"Toutes les valeurs uniques de langue avec leur nombre d'occurrences :\")\n",
    "for langue, count in sorted(langue_counter.items(), key=lambda x: x[1], reverse=True):\n",
    "    print(f\"- {langue} : {count}\")\n"
   ]
  },
  {
   "cell_type": "code",
   "execution_count": null,
   "metadata": {},
   "outputs": [],
   "source": [
    "total = len(videosR2)\n",
    "\n",
    "count_fr = sum(1 for video in videosR2 if video['langue'] == 'fr')\n",
    "count_frFR = sum(1 for video in videosR2 if video['langue'] == 'fr-FR')\n",
    "count_fr_autre = sum(1 for video in videosR2 if video['langue'].startswith('fr') and video['langue'] not in ['fr', 'fr-FR'])\n",
    "count_autre = total - (count_fr + count_frFR + count_fr_autre)\n",
    "\n",
    "print(f\"Total de vidéos : {total}\")\n",
    "print(f\"- fr       : {count_fr} ({count_fr / total:.2%})\")\n",
    "print(f\"- fr-FR    : {count_frFR} ({count_frFR / total:.2%})\")\n",
    "print(f\"- fr-autre : {count_fr_autre} ({count_fr_autre / total:.2%})\")\n",
    "print(f\"- autre    : {count_autre} ({count_autre / total:.2%})\")"
   ]
  },
  {
   "cell_type": "code",
   "execution_count": null,
   "metadata": {},
   "outputs": [],
   "source": [
    "1332+4312+632"
   ]
  },
  {
   "cell_type": "markdown",
   "id": "b40fe841",
   "metadata": {},
   "source": [
    "## Refining 3"
   ]
  },
  {
   "cell_type": "markdown",
   "id": "42ad6a6b",
   "metadata": {},
   "source": [
    "- Get the localisation information for 'fr' videos :\n",
    "  - Try to explore the video description+Title and Bio of the corresponding channel."
   ]
  },
  {
   "cell_type": "markdown",
   "id": "1a778435",
   "metadata": {},
   "source": [
    "### 1.Seperate These videos "
   ]
  },
  {
   "cell_type": "code",
   "execution_count": null,
   "id": "ccc9b902",
   "metadata": {},
   "outputs": [],
   "source": [
    "with open(\"../jsons/videosR2.json\", \"r\", encoding=\"utf-8\") as file:\n",
    "    videosR2 = json.load(file)\n",
    "videosfr = []\n",
    "for video in videosR2:\n",
    "    if video['langue']=='fr':\n",
    "        videosfr.append(video)\n",
    "with open(\"../jsons/videosfr.json\", \"w\", encoding=\"utf-8\") as f:\n",
    "    json.dump(videosfr, f, ensure_ascii=False, indent=2)\n",
    "    print(Style.BRIGHT+Fore.GREEN+'\\n json saved'+Style.RESET_ALL)\n",
    "    print(Style.BRIGHT+Fore.YELLOW+f'\\n json length is : {len(videosfr)}'+Style.RESET_ALL)"
   ]
  },
  {
   "cell_type": "markdown",
   "id": "1440f9a2",
   "metadata": {},
   "source": [
    "### 2. Get the location by using metadata:"
   ]
  },
  {
   "cell_type": "code",
   "execution_count": null,
   "id": "9bb94364",
   "metadata": {},
   "outputs": [],
   "source": [
    "# Get the Context first\n",
    "import importlib\n",
    "import utils  # or whatever your module is called\n",
    "importlib.reload(utils)\n",
    "\n",
    "from utils import getContextAll\n"
   ]
  },
  {
   "cell_type": "code",
   "execution_count": null,
   "id": "3fc66499",
   "metadata": {},
   "outputs": [],
   "source": [
    "getContextAll()"
   ]
  },
  {
   "cell_type": "markdown",
   "id": "8f5caa90",
   "metadata": {},
   "source": [
    "### 3.NER"
   ]
  },
  {
   "cell_type": "markdown",
   "id": "5fe30f06",
   "metadata": {},
   "source": [
    "- with spacy (not realy accurate)"
   ]
  },
  {
   "cell_type": "code",
   "execution_count": 12,
   "id": "6c4f56cf",
   "metadata": {},
   "outputs": [],
   "source": [
    "import spacy\n",
    "\n",
    "nlp = spacy.load(\"fr_core_news_lg\")"
   ]
  },
  {
   "cell_type": "code",
   "execution_count": 27,
   "id": "e9901e89",
   "metadata": {},
   "outputs": [
    {
     "name": "stdout",
     "output_type": "stream",
     "text": [
      "\n",
      "Le bio de la chaine : \n",
      " \n",
      "        \n",
      "###############\n",
      "        \n",
      "Description : Hello ! Aujourd’hui Bruno nous invite à questionner l'usage que faisons de notre habitat et nous propose de réduire nos surfaces de vie tout en gardant notre confort, de construire notre maison sans faire de prêt bancaire sur 20 ans. Et si on voyait dans le fait de construire notre maison plus qu'un défi, un cheminement, une expérience humaine, un accomplissement ?\n",
      "Découvrez la construction d’un habitat autonome avec une structure bois, isolation paille, enduit terre de 24m2 avec cuisine, séjour, chambre et salle de bain pour 5000€ ! \n",
      "Prenez bien soin de vous.  \n",
      "Je vous embrasse, \n",
      "\n",
      "A bientôt 🌸 \n",
      "\n",
      "Sarah \n",
      "\n",
      "\n",
      "\n",
      "Le site internet d’Alter’éco 30 : https://bit.ly/37pw1uj \n",
      "\n",
      "#OurInnerTravels #Autonomie #Habitat #Maison #HabitatAutonome #Ecologie \n",
      "\n",
      "\n",
      "Retrouve moi aussi sur : \n",
      "🎙PODCAST : https://anchor.fm/our-inner-travels\n",
      "\n",
      "📸 I N S T A G R A M : https://instagram.com/ourinnertravels \n",
      "✍️ B L O G : https://ourinnertravels.com \n",
      "📸 FACEBOOK : https://www.facebook.com/OurInnerTravels \n",
      "💕 Abonne-toi à la chaine : https://bit.ly/2PUxikr \n",
      "💌 Me Contacter 💌: contact@ourinnertravels.com\n",
      "        \n",
      "        \n",
      "###############\n",
      "        \n",
      "Description : Hello, Aujourd’hui je vous retrouve dans la première partie d’une série de 5 entretiens avec Bruno sur le thème : L’écologie et l’alternativité comme invitation à trouver un sens à la vie.\n",
      "Partie 1 : Echovert, la construction d’un lieu alternatif, autonome et écologique\n",
      "Partie 2 : Vivre de façon alternative, les joies\n",
      "Partie 3 : Vivre de façon alternative, les défis \n",
      "Partie 4 : L’écologie, une invitation à trouver un sens à la vie\n",
      "Partie 5 : Les 3 kiffs de Bruno\n",
      "\n",
      "Vous préférez écouter la vidéo sous format podcast ? C'est ici : https://bit.ly/3gmy5ZF\n",
      "\n",
      "En octobre, de retour de voyage la réadaptation à la vie parisienne est difficile, est-ce peut-être car je n’ai pas envie de me réadapter, que je n’y vois plus de sens ? Je pars donc en Camargue, à une demi-heure de Nîmes et passe un mois dans un éco-lieu à la recherche de sens, de rencontres, de personnes qui partagent mes idées et mes aspirations. Bruno et Anne ont créé ce lieu de vie alternatif où naissent inventions respectueuses de l’environnement et expérimentations d’outils pour l’autonomie alimentaire et énergétique. Avec Bruno, on a commencé par parler de ce lieu de vie alternatif et de ce qu’implique le fait de vivre en communauté. On s’est aussi demander comment se reconnecter à soi et aux autres dans un monde qui semble parfois déconnecté du réel. Au fil de nos paroles, on en est finalement venu à se questionner sur le sens de la vie, et en quoi le fait de cultiver son écologie intérieure est peut-être la première forme d’engagement écologique à avoir. Aujourd’hui je vous propose de partir en voyage intérieur grâce à Bruno. L’écologie et l’alternativité comme invitation à trouver un sens à la vie.\n",
      "\n",
      "A bientôt 🌸 \n",
      "\n",
      "Sarah \n",
      "\n",
      "Le site internet d’Alter’éco 30 : https://bit.ly/37pw1uj \n",
      "\n",
      "Retrouve moi aussi sur : \n",
      "🎙PODCAST : https://anchor.fm/our-inner-travels\n",
      "📸 I N S T A G R A M : https://instagram.com/ourinnertravels \n",
      "✍️ B L O G : https://ourinnertravels.com \n",
      "📸 FACEBOOK : https://www.facebook.com/OurInnerTravels \n",
      "💕 Abonne-toi à la chaine : https://bit.ly/2PUxikr \n",
      "💌 Me Contacter 💌: contact@ourinnertravels.com\n",
      "        \n",
      "        \n",
      "###############\n",
      "\n",
      "        titre : Habitat autonome et autoconstruction\n",
      "        \n",
      "        \n",
      "###############\n",
      "\n",
      "        titre : PARLONS #2 - 1 : Echovert, la construction d’un lieu alternatif, autonome et écologique - Bruno\n",
      "       \n",
      "\n",
      "\n"
     ]
    }
   ],
   "source": [
    "context = \"\"\"\n",
    "Le bio de la chaine : \\n \\n        \\n###############\\n        \\nDescription : Hello ! Aujourd’hui Bruno nous invite à questionner l'usage que faisons de notre habitat et nous propose de réduire nos surfaces de vie tout en gardant notre confort, de construire notre maison sans faire de prêt bancaire sur 20 ans. Et si on voyait dans le fait de construire notre maison plus qu'un défi, un cheminement, une expérience humaine, un accomplissement ?\\nDécouvrez la construction d’un habitat autonome avec une structure bois, isolation paille, enduit terre de 24m2 avec cuisine, séjour, chambre et salle de bain pour 5000€ ! \\nPrenez bien soin de vous.  \\nJe vous embrasse, \\n\\nA bientôt 🌸 \\n\\nSarah \\n\\n\\n\\nLe site internet d’Alter’éco 30 : https://bit.ly/37pw1uj \\n\\n#OurInnerTravels #Autonomie #Habitat #Maison #HabitatAutonome #Ecologie \\n\\n\\nRetrouve moi aussi sur : \\n🎙PODCAST : https://anchor.fm/our-inner-travels\\n\\n📸 I N S T A G R A M : https://instagram.com/ourinnertravels \\n✍️ B L O G : https://ourinnertravels.com \\n📸 FACEBOOK : https://www.facebook.com/OurInnerTravels \\n💕 Abonne-toi à la chaine : https://bit.ly/2PUxikr \\n💌 Me Contacter 💌: contact@ourinnertravels.com\\n        \\n        \\n###############\\n        \\nDescription : Hello, Aujourd’hui je vous retrouve dans la première partie d’une série de 5 entretiens avec Bruno sur le thème : L’écologie et l’alternativité comme invitation à trouver un sens à la vie.\\nPartie 1 : Echovert, la construction d’un lieu alternatif, autonome et écologique\\nPartie 2 : Vivre de façon alternative, les joies\\nPartie 3 : Vivre de façon alternative, les défis \\nPartie 4 : L’écologie, une invitation à trouver un sens à la vie\\nPartie 5 : Les 3 kiffs de Bruno\\n\\nVous préférez écouter la vidéo sous format podcast ? C'est ici : https://bit.ly/3gmy5ZF\\n\\nEn octobre, de retour de voyage la réadaptation à la vie parisienne est difficile, est-ce peut-être car je n’ai pas envie de me réadapter, que je n’y vois plus de sens ? Je pars donc en Camargue, à une demi-heure de Nîmes et passe un mois dans un éco-lieu à la recherche de sens, de rencontres, de personnes qui partagent mes idées et mes aspirations. Bruno et Anne ont créé ce lieu de vie alternatif où naissent inventions respectueuses de l’environnement et expérimentations d’outils pour l’autonomie alimentaire et énergétique. Avec Bruno, on a commencé par parler de ce lieu de vie alternatif et de ce qu’implique le fait de vivre en communauté. On s’est aussi demander comment se reconnecter à soi et aux autres dans un monde qui semble parfois déconnecté du réel. Au fil de nos paroles, on en est finalement venu à se questionner sur le sens de la vie, et en quoi le fait de cultiver son écologie intérieure est peut-être la première forme d’engagement écologique à avoir. Aujourd’hui je vous propose de partir en voyage intérieur grâce à Bruno. L’écologie et l’alternativité comme invitation à trouver un sens à la vie.\\n\\nA bientôt 🌸 \\n\\nSarah \\n\\nLe site internet d’Alter’éco 30 : https://bit.ly/37pw1uj \\n\\nRetrouve moi aussi sur : \\n🎙PODCAST : https://anchor.fm/our-inner-travels\\n📸 I N S T A G R A M : https://instagram.com/ourinnertravels \\n✍️ B L O G : https://ourinnertravels.com \\n📸 FACEBOOK : https://www.facebook.com/OurInnerTravels \\n💕 Abonne-toi à la chaine : https://bit.ly/2PUxikr \\n💌 Me Contacter 💌: contact@ourinnertravels.com\\n        \\n        \\n###############\\n\\n        titre : Habitat autonome et autoconstruction\\n        \\n        \\n###############\\n\\n        titre : PARLONS #2 - 1 : Echovert, la construction d’un lieu alternatif, autonome et écologique - Bruno\\n       \n",
    "\n",
    "\"\"\"\n",
    "\n",
    "print(context)"
   ]
  },
  {
   "cell_type": "code",
   "execution_count": 28,
   "metadata": {},
   "outputs": [
    {
     "name": "stdout",
     "output_type": "stream",
     "text": [
      "📸 I  :  LOC\n",
      "✍️ B  :  LOC\n",
      "📸 FACEBOOK  :  LOC\n",
      "Camargue  :  LOC\n",
      "Nîmes  :  LOC\n",
      "📸 I N  :  LOC\n",
      "✍️ B  :  LOC\n",
      "📸 FACEBOOK  :  LOC\n",
      "Echovert  :  LOC\n"
     ]
    }
   ],
   "source": [
    "doc = nlp(context)\n",
    "\n",
    "for ent in doc.ents:\n",
    "    if ent.label_ == \"LOC\":\n",
    "        print(f\"{ent}  :  {ent.label_}\" )"
   ]
  },
  {
   "cell_type": "code",
   "execution_count": 3,
   "id": "6216fe2d",
   "metadata": {},
   "outputs": [],
   "source": [
    "from utils import RefineLanguage3"
   ]
  },
  {
   "cell_type": "code",
   "execution_count": 4,
   "id": "0181d606",
   "metadata": {},
   "outputs": [
    {
     "name": "stderr",
     "output_type": "stream",
     "text": [
      "  0%|          | 1/1332 [00:00<15:29,  1.43it/s]"
     ]
    },
    {
     "name": "stdout",
     "output_type": "stream",
     "text": [
      "\u001b[1m\u001b[32m\n",
      "--unknown--\n",
      "\u001b[0m\n",
      "{}\n"
     ]
    },
    {
     "name": "stderr",
     "output_type": "stream",
     "text": [
      "  0%|          | 2/1332 [00:13<2:56:19,  7.95s/it]"
     ]
    },
    {
     "name": "stdout",
     "output_type": "stream",
     "text": [
      "\u001b[1m\u001b[32m\n",
      "--FR--\n",
      "\u001b[0m\n",
      "{\n",
      "  \"Vosges du Nord\": \"FR\",\n",
      "  \"Région\": \"CN\",\n",
      "  \"Parc naturel régional des Vosges\": \"FR\",\n",
      "  \"Neuwiller-lès-Saverne\": \"FR\"\n",
      "}\n"
     ]
    },
    {
     "name": "stderr",
     "output_type": "stream",
     "text": [
      "  0%|          | 3/1332 [00:31<4:33:04, 12.33s/it]"
     ]
    },
    {
     "name": "stdout",
     "output_type": "stream",
     "text": [
      "\u001b[1m\u001b[32m\n",
      "--FR--\n",
      "\u001b[0m\n",
      "{\n",
      "  \"A\": \"AR\",\n",
      "  \"Camargue\": \"FR\",\n",
      "  \"Nîmes\": \"FR\"\n",
      "}\n"
     ]
    },
    {
     "name": "stderr",
     "output_type": "stream",
     "text": [
      "  0%|          | 4/1332 [00:32<2:54:52,  7.90s/it]"
     ]
    },
    {
     "name": "stdout",
     "output_type": "stream",
     "text": [
      "\u001b[1m\u001b[32m\n",
      "--unknown--\n",
      "\u001b[0m\n",
      "{}\n"
     ]
    },
    {
     "name": "stderr",
     "output_type": "stream",
     "text": [
      "  0%|          | 5/1332 [00:37<2:30:56,  6.82s/it]"
     ]
    },
    {
     "name": "stdout",
     "output_type": "stream",
     "text": [
      "\u001b[1m\u001b[32m\n",
      "--unknown--\n",
      "\u001b[0m\n",
      "{}\n"
     ]
    },
    {
     "name": "stderr",
     "output_type": "stream",
     "text": [
      "  0%|          | 6/1332 [00:39<1:53:37,  5.14s/it]"
     ]
    },
    {
     "name": "stdout",
     "output_type": "stream",
     "text": [
      "\u001b[1m\u001b[32m\n",
      "--unknown--\n",
      "\u001b[0m\n",
      "{}\n"
     ]
    },
    {
     "name": "stderr",
     "output_type": "stream",
     "text": [
      "  1%|          | 7/1332 [00:40<1:23:53,  3.80s/it]"
     ]
    },
    {
     "name": "stdout",
     "output_type": "stream",
     "text": [
      "\u001b[1m\u001b[32m\n",
      "--unknown--\n",
      "\u001b[0m\n",
      "{}\n"
     ]
    },
    {
     "name": "stderr",
     "output_type": "stream",
     "text": [
      "  1%|          | 8/1332 [01:29<6:46:02, 18.40s/it]"
     ]
    },
    {
     "name": "stdout",
     "output_type": "stream",
     "text": [
      "\u001b[1m\u001b[32m\n",
      "--FR--\n",
      "\u001b[0m\n",
      "{\n",
      "  \"Johannesburg\": \"ZA\",\n",
      "  \"l'Afrique du Sud\": \"ZA\",\n",
      "  \"Normandie\": \"FR\",\n",
      "  \"Rouen\": \"FR\",\n",
      "  \"la Pologne\": \"FR\",\n",
      "  \"Suresnes\": \"FR\",\n",
      "  \"Mont-Valérien\": \"FR\",\n",
      "  \"du Nord\": \"CH\",\n",
      "  \"Marseille\": \"FR\",\n",
      "  \"Bénin\": \"BJ\",\n",
      "  \"Afrique\": \"TD\",\n",
      "  \"Ferme du Logis\": \"FR\",\n",
      "  \"France\": \"FR\",\n",
      "  \"Chili\": \"CL\",\n",
      "  \"Stavanger\": \"NO\",\n",
      "  \"Norvège\": \"NO\",\n",
      "  \"Puebla\": \"MX\",\n",
      "  \"Bordeaux\": \"FR\",\n",
      "  \"La Pologne\": \"FR\"\n",
      "}\n"
     ]
    },
    {
     "name": "stderr",
     "output_type": "stream",
     "text": [
      "  1%|          | 9/1332 [01:31<4:46:47, 13.01s/it]"
     ]
    },
    {
     "name": "stdout",
     "output_type": "stream",
     "text": [
      "\u001b[1m\u001b[32m\n",
      "--unknown--\n",
      "\u001b[0m\n",
      "{}\n"
     ]
    },
    {
     "name": "stderr",
     "output_type": "stream",
     "text": [
      "  1%|          | 10/1332 [01:45<4:54:20, 13.36s/it]"
     ]
    },
    {
     "name": "stdout",
     "output_type": "stream",
     "text": [
      "\u001b[1m\u001b[32m\n",
      "--unknown--\n",
      "\u001b[0m\n",
      "{}\n"
     ]
    },
    {
     "name": "stderr",
     "output_type": "stream",
     "text": [
      "  1%|          | 11/1332 [01:46<3:31:39,  9.61s/it]"
     ]
    },
    {
     "name": "stdout",
     "output_type": "stream",
     "text": [
      "\u001b[1m\u001b[32m\n",
      "--unknown--\n",
      "\u001b[0m\n",
      "{}\n"
     ]
    },
    {
     "name": "stderr",
     "output_type": "stream",
     "text": [
      "  1%|          | 12/1332 [02:08<4:57:18, 13.51s/it]"
     ]
    },
    {
     "name": "stdout",
     "output_type": "stream",
     "text": [
      "\u001b[1m\u001b[32m\n",
      "--FR--\n",
      "\u001b[0m\n",
      "{\n",
      "  \"Nouville\": \"FR\",\n",
      "  \"province Nord\": \"PG\",\n",
      "  \"Calédonienne\": \"FR\"\n",
      "}\n"
     ]
    },
    {
     "name": "stderr",
     "output_type": "stream",
     "text": [
      "  1%|          | 12/1332 [06:50<12:32:26, 34.20s/it]\n"
     ]
    },
    {
     "ename": "KeyboardInterrupt",
     "evalue": "",
     "output_type": "error",
     "traceback": [
      "\u001b[1;31m---------------------------------------------------------------------------\u001b[0m",
      "\u001b[1;31mKeyboardInterrupt\u001b[0m                         Traceback (most recent call last)",
      "Cell \u001b[1;32mIn[4], line 1\u001b[0m\n\u001b[1;32m----> 1\u001b[0m \u001b[43mRefineLanguage3\u001b[49m\u001b[43m(\u001b[49m\u001b[43m)\u001b[49m\n",
      "File \u001b[1;32mc:\\Users\\hp\\AgroTube\\filtering\\scripts\\utils.py:160\u001b[0m, in \u001b[0;36mRefineLanguage3\u001b[1;34m()\u001b[0m\n\u001b[0;32m    157\u001b[0m tempsave \u001b[38;5;241m=\u001b[39m \u001b[38;5;241m0\u001b[39m \u001b[38;5;66;03m# For safety reason,in case the loop is breaked a temporary save is executed.\u001b[39;00m\n\u001b[0;32m    159\u001b[0m \u001b[38;5;28;01mfor\u001b[39;00m videofr \u001b[38;5;129;01min\u001b[39;00m tqdm(videosfrR3):\n\u001b[1;32m--> 160\u001b[0m     country,locations \u001b[38;5;241m=\u001b[39m \u001b[43mgetCountry\u001b[49m\u001b[43m(\u001b[49m\u001b[43mvideofr\u001b[49m\u001b[43m[\u001b[49m\u001b[38;5;124;43m'\u001b[39;49m\u001b[38;5;124;43mcontext\u001b[39;49m\u001b[38;5;124;43m'\u001b[39;49m\u001b[43m]\u001b[49m\u001b[43m)\u001b[49m\n\u001b[0;32m    161\u001b[0m     videofr[\u001b[38;5;124m'\u001b[39m\u001b[38;5;124mcountry\u001b[39m\u001b[38;5;124m'\u001b[39m] \u001b[38;5;241m=\u001b[39m country\n\u001b[0;32m    162\u001b[0m     videofr[\u001b[38;5;124m'\u001b[39m\u001b[38;5;124mfinded_locations\u001b[39m\u001b[38;5;124m'\u001b[39m] \u001b[38;5;241m=\u001b[39m locations\n",
      "File \u001b[1;32mc:\\Users\\hp\\AgroTube\\filtering\\scripts\\utils.py:137\u001b[0m, in \u001b[0;36mgetCountry\u001b[1;34m(text)\u001b[0m\n\u001b[0;32m    135\u001b[0m \u001b[38;5;28;01mif\u001b[39;00m label\u001b[38;5;241m.\u001b[39mvalue \u001b[38;5;241m==\u001b[39m \u001b[38;5;124m\"\u001b[39m\u001b[38;5;124mLOC\u001b[39m\u001b[38;5;124m\"\u001b[39m \u001b[38;5;129;01mand\u001b[39;00m label\u001b[38;5;241m.\u001b[39mscore \u001b[38;5;241m>\u001b[39m\u001b[38;5;241m=\u001b[39m \u001b[38;5;241m0.6\u001b[39m:\n\u001b[0;32m    136\u001b[0m     \u001b[38;5;28;01mtry\u001b[39;00m:\n\u001b[1;32m--> 137\u001b[0m         location \u001b[38;5;241m=\u001b[39m \u001b[43mgeolocator\u001b[49m\u001b[38;5;241;43m.\u001b[39;49m\u001b[43mgeocode\u001b[49m\u001b[43m(\u001b[49m\u001b[43mentity\u001b[49m\u001b[38;5;241;43m.\u001b[39;49m\u001b[43mtext\u001b[49m\u001b[43m,\u001b[49m\u001b[43m \u001b[49m\u001b[43mlanguage\u001b[49m\u001b[38;5;241;43m=\u001b[39;49m\u001b[38;5;124;43m'\u001b[39;49m\u001b[38;5;124;43mfr\u001b[39;49m\u001b[38;5;124;43m'\u001b[39;49m\u001b[43m,\u001b[49m\u001b[43m \u001b[49m\u001b[43maddressdetails\u001b[49m\u001b[38;5;241;43m=\u001b[39;49m\u001b[38;5;28;43;01mTrue\u001b[39;49;00m\u001b[43m,\u001b[49m\u001b[43m \u001b[49m\u001b[43mtimeout\u001b[49m\u001b[38;5;241;43m=\u001b[39;49m\u001b[38;5;241;43m10\u001b[39;49m\u001b[43m)\u001b[49m\n\u001b[0;32m    138\u001b[0m         \u001b[38;5;28;01mif\u001b[39;00m location \u001b[38;5;129;01mand\u001b[39;00m \u001b[38;5;124m\"\u001b[39m\u001b[38;5;124mcountry_code\u001b[39m\u001b[38;5;124m\"\u001b[39m \u001b[38;5;129;01min\u001b[39;00m location\u001b[38;5;241m.\u001b[39mraw[\u001b[38;5;124m'\u001b[39m\u001b[38;5;124maddress\u001b[39m\u001b[38;5;124m'\u001b[39m]:\n\u001b[0;32m    139\u001b[0m             code \u001b[38;5;241m=\u001b[39m location\u001b[38;5;241m.\u001b[39mraw[\u001b[38;5;124m'\u001b[39m\u001b[38;5;124maddress\u001b[39m\u001b[38;5;124m'\u001b[39m][\u001b[38;5;124m'\u001b[39m\u001b[38;5;124mcountry_code\u001b[39m\u001b[38;5;124m'\u001b[39m]\u001b[38;5;241m.\u001b[39mupper()\n",
      "File \u001b[1;32mc:\\Users\\hp\\AgroTube\\.venv\\lib\\site-packages\\geopy\\geocoders\\nominatim.py:297\u001b[0m, in \u001b[0;36mNominatim.geocode\u001b[1;34m(self, query, exactly_one, timeout, limit, addressdetails, language, geometry, extratags, country_codes, viewbox, bounded, featuretype, namedetails)\u001b[0m\n\u001b[0;32m    295\u001b[0m logger\u001b[38;5;241m.\u001b[39mdebug(\u001b[38;5;124m\"\u001b[39m\u001b[38;5;132;01m%s\u001b[39;00m\u001b[38;5;124m.geocode: \u001b[39m\u001b[38;5;132;01m%s\u001b[39;00m\u001b[38;5;124m\"\u001b[39m, \u001b[38;5;28mself\u001b[39m\u001b[38;5;241m.\u001b[39m\u001b[38;5;18m__class__\u001b[39m\u001b[38;5;241m.\u001b[39m\u001b[38;5;18m__name__\u001b[39m, url)\n\u001b[0;32m    296\u001b[0m callback \u001b[38;5;241m=\u001b[39m partial(\u001b[38;5;28mself\u001b[39m\u001b[38;5;241m.\u001b[39m_parse_json, exactly_one\u001b[38;5;241m=\u001b[39mexactly_one)\n\u001b[1;32m--> 297\u001b[0m \u001b[38;5;28;01mreturn\u001b[39;00m \u001b[38;5;28;43mself\u001b[39;49m\u001b[38;5;241;43m.\u001b[39;49m\u001b[43m_call_geocoder\u001b[49m\u001b[43m(\u001b[49m\u001b[43murl\u001b[49m\u001b[43m,\u001b[49m\u001b[43m \u001b[49m\u001b[43mcallback\u001b[49m\u001b[43m,\u001b[49m\u001b[43m \u001b[49m\u001b[43mtimeout\u001b[49m\u001b[38;5;241;43m=\u001b[39;49m\u001b[43mtimeout\u001b[49m\u001b[43m)\u001b[49m\n",
      "File \u001b[1;32mc:\\Users\\hp\\AgroTube\\.venv\\lib\\site-packages\\geopy\\geocoders\\base.py:368\u001b[0m, in \u001b[0;36mGeocoder._call_geocoder\u001b[1;34m(self, url, callback, timeout, is_json, headers)\u001b[0m\n\u001b[0;32m    366\u001b[0m \u001b[38;5;28;01mtry\u001b[39;00m:\n\u001b[0;32m    367\u001b[0m     \u001b[38;5;28;01mif\u001b[39;00m is_json:\n\u001b[1;32m--> 368\u001b[0m         result \u001b[38;5;241m=\u001b[39m \u001b[38;5;28;43mself\u001b[39;49m\u001b[38;5;241;43m.\u001b[39;49m\u001b[43madapter\u001b[49m\u001b[38;5;241;43m.\u001b[39;49m\u001b[43mget_json\u001b[49m\u001b[43m(\u001b[49m\u001b[43murl\u001b[49m\u001b[43m,\u001b[49m\u001b[43m \u001b[49m\u001b[43mtimeout\u001b[49m\u001b[38;5;241;43m=\u001b[39;49m\u001b[43mtimeout\u001b[49m\u001b[43m,\u001b[49m\u001b[43m \u001b[49m\u001b[43mheaders\u001b[49m\u001b[38;5;241;43m=\u001b[39;49m\u001b[43mreq_headers\u001b[49m\u001b[43m)\u001b[49m\n\u001b[0;32m    369\u001b[0m     \u001b[38;5;28;01melse\u001b[39;00m:\n\u001b[0;32m    370\u001b[0m         result \u001b[38;5;241m=\u001b[39m \u001b[38;5;28mself\u001b[39m\u001b[38;5;241m.\u001b[39madapter\u001b[38;5;241m.\u001b[39mget_text(url, timeout\u001b[38;5;241m=\u001b[39mtimeout, headers\u001b[38;5;241m=\u001b[39mreq_headers)\n",
      "File \u001b[1;32mc:\\Users\\hp\\AgroTube\\.venv\\lib\\site-packages\\geopy\\adapters.py:472\u001b[0m, in \u001b[0;36mRequestsAdapter.get_json\u001b[1;34m(self, url, timeout, headers)\u001b[0m\n\u001b[0;32m    471\u001b[0m \u001b[38;5;28;01mdef\u001b[39;00m\u001b[38;5;250m \u001b[39m\u001b[38;5;21mget_json\u001b[39m(\u001b[38;5;28mself\u001b[39m, url, \u001b[38;5;241m*\u001b[39m, timeout, headers):\n\u001b[1;32m--> 472\u001b[0m     resp \u001b[38;5;241m=\u001b[39m \u001b[38;5;28;43mself\u001b[39;49m\u001b[38;5;241;43m.\u001b[39;49m\u001b[43m_request\u001b[49m\u001b[43m(\u001b[49m\u001b[43murl\u001b[49m\u001b[43m,\u001b[49m\u001b[43m \u001b[49m\u001b[43mtimeout\u001b[49m\u001b[38;5;241;43m=\u001b[39;49m\u001b[43mtimeout\u001b[49m\u001b[43m,\u001b[49m\u001b[43m \u001b[49m\u001b[43mheaders\u001b[49m\u001b[38;5;241;43m=\u001b[39;49m\u001b[43mheaders\u001b[49m\u001b[43m)\u001b[49m\n\u001b[0;32m    473\u001b[0m     \u001b[38;5;28;01mtry\u001b[39;00m:\n\u001b[0;32m    474\u001b[0m         \u001b[38;5;28;01mreturn\u001b[39;00m resp\u001b[38;5;241m.\u001b[39mjson()\n",
      "File \u001b[1;32mc:\\Users\\hp\\AgroTube\\.venv\\lib\\site-packages\\geopy\\adapters.py:482\u001b[0m, in \u001b[0;36mRequestsAdapter._request\u001b[1;34m(self, url, timeout, headers)\u001b[0m\n\u001b[0;32m    480\u001b[0m \u001b[38;5;28;01mdef\u001b[39;00m\u001b[38;5;250m \u001b[39m\u001b[38;5;21m_request\u001b[39m(\u001b[38;5;28mself\u001b[39m, url, \u001b[38;5;241m*\u001b[39m, timeout, headers):\n\u001b[0;32m    481\u001b[0m     \u001b[38;5;28;01mtry\u001b[39;00m:\n\u001b[1;32m--> 482\u001b[0m         resp \u001b[38;5;241m=\u001b[39m \u001b[38;5;28;43mself\u001b[39;49m\u001b[38;5;241;43m.\u001b[39;49m\u001b[43msession\u001b[49m\u001b[38;5;241;43m.\u001b[39;49m\u001b[43mget\u001b[49m\u001b[43m(\u001b[49m\u001b[43murl\u001b[49m\u001b[43m,\u001b[49m\u001b[43m \u001b[49m\u001b[43mtimeout\u001b[49m\u001b[38;5;241;43m=\u001b[39;49m\u001b[43mtimeout\u001b[49m\u001b[43m,\u001b[49m\u001b[43m \u001b[49m\u001b[43mheaders\u001b[49m\u001b[38;5;241;43m=\u001b[39;49m\u001b[43mheaders\u001b[49m\u001b[43m)\u001b[49m\n\u001b[0;32m    483\u001b[0m     \u001b[38;5;28;01mexcept\u001b[39;00m \u001b[38;5;167;01mException\u001b[39;00m \u001b[38;5;28;01mas\u001b[39;00m error:\n\u001b[0;32m    484\u001b[0m         message \u001b[38;5;241m=\u001b[39m \u001b[38;5;28mstr\u001b[39m(error)\n",
      "File \u001b[1;32mc:\\Users\\hp\\AgroTube\\.venv\\lib\\site-packages\\requests\\sessions.py:602\u001b[0m, in \u001b[0;36mSession.get\u001b[1;34m(self, url, **kwargs)\u001b[0m\n\u001b[0;32m    594\u001b[0m \u001b[38;5;250m\u001b[39m\u001b[38;5;124mr\u001b[39m\u001b[38;5;124;03m\"\"\"Sends a GET request. Returns :class:`Response` object.\u001b[39;00m\n\u001b[0;32m    595\u001b[0m \n\u001b[0;32m    596\u001b[0m \u001b[38;5;124;03m:param url: URL for the new :class:`Request` object.\u001b[39;00m\n\u001b[0;32m    597\u001b[0m \u001b[38;5;124;03m:param \\*\\*kwargs: Optional arguments that ``request`` takes.\u001b[39;00m\n\u001b[0;32m    598\u001b[0m \u001b[38;5;124;03m:rtype: requests.Response\u001b[39;00m\n\u001b[0;32m    599\u001b[0m \u001b[38;5;124;03m\"\"\"\u001b[39;00m\n\u001b[0;32m    601\u001b[0m kwargs\u001b[38;5;241m.\u001b[39msetdefault(\u001b[38;5;124m\"\u001b[39m\u001b[38;5;124mallow_redirects\u001b[39m\u001b[38;5;124m\"\u001b[39m, \u001b[38;5;28;01mTrue\u001b[39;00m)\n\u001b[1;32m--> 602\u001b[0m \u001b[38;5;28;01mreturn\u001b[39;00m \u001b[38;5;28mself\u001b[39m\u001b[38;5;241m.\u001b[39mrequest(\u001b[38;5;124m\"\u001b[39m\u001b[38;5;124mGET\u001b[39m\u001b[38;5;124m\"\u001b[39m, url, \u001b[38;5;241m*\u001b[39m\u001b[38;5;241m*\u001b[39mkwargs)\n",
      "File \u001b[1;32mc:\\Users\\hp\\AgroTube\\.venv\\lib\\site-packages\\requests\\sessions.py:589\u001b[0m, in \u001b[0;36mSession.request\u001b[1;34m(self, method, url, params, data, headers, cookies, files, auth, timeout, allow_redirects, proxies, hooks, stream, verify, cert, json)\u001b[0m\n\u001b[0;32m    584\u001b[0m send_kwargs \u001b[38;5;241m=\u001b[39m {\n\u001b[0;32m    585\u001b[0m     \u001b[38;5;124m\"\u001b[39m\u001b[38;5;124mtimeout\u001b[39m\u001b[38;5;124m\"\u001b[39m: timeout,\n\u001b[0;32m    586\u001b[0m     \u001b[38;5;124m\"\u001b[39m\u001b[38;5;124mallow_redirects\u001b[39m\u001b[38;5;124m\"\u001b[39m: allow_redirects,\n\u001b[0;32m    587\u001b[0m }\n\u001b[0;32m    588\u001b[0m send_kwargs\u001b[38;5;241m.\u001b[39mupdate(settings)\n\u001b[1;32m--> 589\u001b[0m resp \u001b[38;5;241m=\u001b[39m \u001b[38;5;28mself\u001b[39m\u001b[38;5;241m.\u001b[39msend(prep, \u001b[38;5;241m*\u001b[39m\u001b[38;5;241m*\u001b[39msend_kwargs)\n\u001b[0;32m    591\u001b[0m \u001b[38;5;28;01mreturn\u001b[39;00m resp\n",
      "File \u001b[1;32mc:\\Users\\hp\\AgroTube\\.venv\\lib\\site-packages\\requests\\sessions.py:703\u001b[0m, in \u001b[0;36mSession.send\u001b[1;34m(self, request, **kwargs)\u001b[0m\n\u001b[0;32m    700\u001b[0m start \u001b[38;5;241m=\u001b[39m preferred_clock()\n\u001b[0;32m    702\u001b[0m \u001b[38;5;66;03m# Send the request\u001b[39;00m\n\u001b[1;32m--> 703\u001b[0m r \u001b[38;5;241m=\u001b[39m adapter\u001b[38;5;241m.\u001b[39msend(request, \u001b[38;5;241m*\u001b[39m\u001b[38;5;241m*\u001b[39mkwargs)\n\u001b[0;32m    705\u001b[0m \u001b[38;5;66;03m# Total elapsed time of the request (approximately)\u001b[39;00m\n\u001b[0;32m    706\u001b[0m elapsed \u001b[38;5;241m=\u001b[39m preferred_clock() \u001b[38;5;241m-\u001b[39m start\n",
      "File \u001b[1;32mc:\\Users\\hp\\AgroTube\\.venv\\lib\\site-packages\\requests\\adapters.py:667\u001b[0m, in \u001b[0;36mHTTPAdapter.send\u001b[1;34m(self, request, stream, timeout, verify, cert, proxies)\u001b[0m\n\u001b[0;32m    664\u001b[0m     timeout \u001b[38;5;241m=\u001b[39m TimeoutSauce(connect\u001b[38;5;241m=\u001b[39mtimeout, read\u001b[38;5;241m=\u001b[39mtimeout)\n\u001b[0;32m    666\u001b[0m \u001b[38;5;28;01mtry\u001b[39;00m:\n\u001b[1;32m--> 667\u001b[0m     resp \u001b[38;5;241m=\u001b[39m \u001b[43mconn\u001b[49m\u001b[38;5;241;43m.\u001b[39;49m\u001b[43murlopen\u001b[49m\u001b[43m(\u001b[49m\n\u001b[0;32m    668\u001b[0m \u001b[43m        \u001b[49m\u001b[43mmethod\u001b[49m\u001b[38;5;241;43m=\u001b[39;49m\u001b[43mrequest\u001b[49m\u001b[38;5;241;43m.\u001b[39;49m\u001b[43mmethod\u001b[49m\u001b[43m,\u001b[49m\n\u001b[0;32m    669\u001b[0m \u001b[43m        \u001b[49m\u001b[43murl\u001b[49m\u001b[38;5;241;43m=\u001b[39;49m\u001b[43murl\u001b[49m\u001b[43m,\u001b[49m\n\u001b[0;32m    670\u001b[0m \u001b[43m        \u001b[49m\u001b[43mbody\u001b[49m\u001b[38;5;241;43m=\u001b[39;49m\u001b[43mrequest\u001b[49m\u001b[38;5;241;43m.\u001b[39;49m\u001b[43mbody\u001b[49m\u001b[43m,\u001b[49m\n\u001b[0;32m    671\u001b[0m \u001b[43m        \u001b[49m\u001b[43mheaders\u001b[49m\u001b[38;5;241;43m=\u001b[39;49m\u001b[43mrequest\u001b[49m\u001b[38;5;241;43m.\u001b[39;49m\u001b[43mheaders\u001b[49m\u001b[43m,\u001b[49m\n\u001b[0;32m    672\u001b[0m \u001b[43m        \u001b[49m\u001b[43mredirect\u001b[49m\u001b[38;5;241;43m=\u001b[39;49m\u001b[38;5;28;43;01mFalse\u001b[39;49;00m\u001b[43m,\u001b[49m\n\u001b[0;32m    673\u001b[0m \u001b[43m        \u001b[49m\u001b[43massert_same_host\u001b[49m\u001b[38;5;241;43m=\u001b[39;49m\u001b[38;5;28;43;01mFalse\u001b[39;49;00m\u001b[43m,\u001b[49m\n\u001b[0;32m    674\u001b[0m \u001b[43m        \u001b[49m\u001b[43mpreload_content\u001b[49m\u001b[38;5;241;43m=\u001b[39;49m\u001b[38;5;28;43;01mFalse\u001b[39;49;00m\u001b[43m,\u001b[49m\n\u001b[0;32m    675\u001b[0m \u001b[43m        \u001b[49m\u001b[43mdecode_content\u001b[49m\u001b[38;5;241;43m=\u001b[39;49m\u001b[38;5;28;43;01mFalse\u001b[39;49;00m\u001b[43m,\u001b[49m\n\u001b[0;32m    676\u001b[0m \u001b[43m        \u001b[49m\u001b[43mretries\u001b[49m\u001b[38;5;241;43m=\u001b[39;49m\u001b[38;5;28;43mself\u001b[39;49m\u001b[38;5;241;43m.\u001b[39;49m\u001b[43mmax_retries\u001b[49m\u001b[43m,\u001b[49m\n\u001b[0;32m    677\u001b[0m \u001b[43m        \u001b[49m\u001b[43mtimeout\u001b[49m\u001b[38;5;241;43m=\u001b[39;49m\u001b[43mtimeout\u001b[49m\u001b[43m,\u001b[49m\n\u001b[0;32m    678\u001b[0m \u001b[43m        \u001b[49m\u001b[43mchunked\u001b[49m\u001b[38;5;241;43m=\u001b[39;49m\u001b[43mchunked\u001b[49m\u001b[43m,\u001b[49m\n\u001b[0;32m    679\u001b[0m \u001b[43m    \u001b[49m\u001b[43m)\u001b[49m\n\u001b[0;32m    681\u001b[0m \u001b[38;5;28;01mexcept\u001b[39;00m (ProtocolError, \u001b[38;5;167;01mOSError\u001b[39;00m) \u001b[38;5;28;01mas\u001b[39;00m err:\n\u001b[0;32m    682\u001b[0m     \u001b[38;5;28;01mraise\u001b[39;00m \u001b[38;5;167;01mConnectionError\u001b[39;00m(err, request\u001b[38;5;241m=\u001b[39mrequest)\n",
      "File \u001b[1;32mc:\\Users\\hp\\AgroTube\\.venv\\lib\\site-packages\\urllib3\\connectionpool.py:787\u001b[0m, in \u001b[0;36mHTTPConnectionPool.urlopen\u001b[1;34m(self, method, url, body, headers, retries, redirect, assert_same_host, timeout, pool_timeout, release_conn, chunked, body_pos, preload_content, decode_content, **response_kw)\u001b[0m\n\u001b[0;32m    784\u001b[0m response_conn \u001b[38;5;241m=\u001b[39m conn \u001b[38;5;28;01mif\u001b[39;00m \u001b[38;5;129;01mnot\u001b[39;00m release_conn \u001b[38;5;28;01melse\u001b[39;00m \u001b[38;5;28;01mNone\u001b[39;00m\n\u001b[0;32m    786\u001b[0m \u001b[38;5;66;03m# Make the request on the HTTPConnection object\u001b[39;00m\n\u001b[1;32m--> 787\u001b[0m response \u001b[38;5;241m=\u001b[39m \u001b[38;5;28mself\u001b[39m\u001b[38;5;241m.\u001b[39m_make_request(\n\u001b[0;32m    788\u001b[0m     conn,\n\u001b[0;32m    789\u001b[0m     method,\n\u001b[0;32m    790\u001b[0m     url,\n\u001b[0;32m    791\u001b[0m     timeout\u001b[38;5;241m=\u001b[39mtimeout_obj,\n\u001b[0;32m    792\u001b[0m     body\u001b[38;5;241m=\u001b[39mbody,\n\u001b[0;32m    793\u001b[0m     headers\u001b[38;5;241m=\u001b[39mheaders,\n\u001b[0;32m    794\u001b[0m     chunked\u001b[38;5;241m=\u001b[39mchunked,\n\u001b[0;32m    795\u001b[0m     retries\u001b[38;5;241m=\u001b[39mretries,\n\u001b[0;32m    796\u001b[0m     response_conn\u001b[38;5;241m=\u001b[39mresponse_conn,\n\u001b[0;32m    797\u001b[0m     preload_content\u001b[38;5;241m=\u001b[39mpreload_content,\n\u001b[0;32m    798\u001b[0m     decode_content\u001b[38;5;241m=\u001b[39mdecode_content,\n\u001b[0;32m    799\u001b[0m     \u001b[38;5;241m*\u001b[39m\u001b[38;5;241m*\u001b[39mresponse_kw,\n\u001b[0;32m    800\u001b[0m )\n\u001b[0;32m    802\u001b[0m \u001b[38;5;66;03m# Everything went great!\u001b[39;00m\n\u001b[0;32m    803\u001b[0m clean_exit \u001b[38;5;241m=\u001b[39m \u001b[38;5;28;01mTrue\u001b[39;00m\n",
      "File \u001b[1;32mc:\\Users\\hp\\AgroTube\\.venv\\lib\\site-packages\\urllib3\\connectionpool.py:534\u001b[0m, in \u001b[0;36mHTTPConnectionPool._make_request\u001b[1;34m(self, conn, method, url, body, headers, retries, timeout, chunked, response_conn, preload_content, decode_content, enforce_content_length)\u001b[0m\n\u001b[0;32m    532\u001b[0m \u001b[38;5;66;03m# Receive the response from the server\u001b[39;00m\n\u001b[0;32m    533\u001b[0m \u001b[38;5;28;01mtry\u001b[39;00m:\n\u001b[1;32m--> 534\u001b[0m     response \u001b[38;5;241m=\u001b[39m \u001b[43mconn\u001b[49m\u001b[38;5;241;43m.\u001b[39;49m\u001b[43mgetresponse\u001b[49m\u001b[43m(\u001b[49m\u001b[43m)\u001b[49m\n\u001b[0;32m    535\u001b[0m \u001b[38;5;28;01mexcept\u001b[39;00m (BaseSSLError, \u001b[38;5;167;01mOSError\u001b[39;00m) \u001b[38;5;28;01mas\u001b[39;00m e:\n\u001b[0;32m    536\u001b[0m     \u001b[38;5;28mself\u001b[39m\u001b[38;5;241m.\u001b[39m_raise_timeout(err\u001b[38;5;241m=\u001b[39me, url\u001b[38;5;241m=\u001b[39murl, timeout_value\u001b[38;5;241m=\u001b[39mread_timeout)\n",
      "File \u001b[1;32mc:\\Users\\hp\\AgroTube\\.venv\\lib\\site-packages\\urllib3\\connection.py:516\u001b[0m, in \u001b[0;36mHTTPConnection.getresponse\u001b[1;34m(self)\u001b[0m\n\u001b[0;32m    513\u001b[0m _shutdown \u001b[38;5;241m=\u001b[39m \u001b[38;5;28mgetattr\u001b[39m(\u001b[38;5;28mself\u001b[39m\u001b[38;5;241m.\u001b[39msock, \u001b[38;5;124m\"\u001b[39m\u001b[38;5;124mshutdown\u001b[39m\u001b[38;5;124m\"\u001b[39m, \u001b[38;5;28;01mNone\u001b[39;00m)\n\u001b[0;32m    515\u001b[0m \u001b[38;5;66;03m# Get the response from http.client.HTTPConnection\u001b[39;00m\n\u001b[1;32m--> 516\u001b[0m httplib_response \u001b[38;5;241m=\u001b[39m \u001b[38;5;28;43msuper\u001b[39;49m\u001b[43m(\u001b[49m\u001b[43m)\u001b[49m\u001b[38;5;241;43m.\u001b[39;49m\u001b[43mgetresponse\u001b[49m\u001b[43m(\u001b[49m\u001b[43m)\u001b[49m\n\u001b[0;32m    518\u001b[0m \u001b[38;5;28;01mtry\u001b[39;00m:\n\u001b[0;32m    519\u001b[0m     assert_header_parsing(httplib_response\u001b[38;5;241m.\u001b[39mmsg)\n",
      "File \u001b[1;32m~\\AppData\\Roaming\\uv\\python\\cpython-3.10.16-windows-x86_64-none\\lib\\http\\client.py:1375\u001b[0m, in \u001b[0;36mHTTPConnection.getresponse\u001b[1;34m(self)\u001b[0m\n\u001b[0;32m   1373\u001b[0m \u001b[38;5;28;01mtry\u001b[39;00m:\n\u001b[0;32m   1374\u001b[0m     \u001b[38;5;28;01mtry\u001b[39;00m:\n\u001b[1;32m-> 1375\u001b[0m         \u001b[43mresponse\u001b[49m\u001b[38;5;241;43m.\u001b[39;49m\u001b[43mbegin\u001b[49m\u001b[43m(\u001b[49m\u001b[43m)\u001b[49m\n\u001b[0;32m   1376\u001b[0m     \u001b[38;5;28;01mexcept\u001b[39;00m \u001b[38;5;167;01mConnectionError\u001b[39;00m:\n\u001b[0;32m   1377\u001b[0m         \u001b[38;5;28mself\u001b[39m\u001b[38;5;241m.\u001b[39mclose()\n",
      "File \u001b[1;32m~\\AppData\\Roaming\\uv\\python\\cpython-3.10.16-windows-x86_64-none\\lib\\http\\client.py:318\u001b[0m, in \u001b[0;36mHTTPResponse.begin\u001b[1;34m(self)\u001b[0m\n\u001b[0;32m    316\u001b[0m \u001b[38;5;66;03m# read until we get a non-100 response\u001b[39;00m\n\u001b[0;32m    317\u001b[0m \u001b[38;5;28;01mwhile\u001b[39;00m \u001b[38;5;28;01mTrue\u001b[39;00m:\n\u001b[1;32m--> 318\u001b[0m     version, status, reason \u001b[38;5;241m=\u001b[39m \u001b[38;5;28;43mself\u001b[39;49m\u001b[38;5;241;43m.\u001b[39;49m\u001b[43m_read_status\u001b[49m\u001b[43m(\u001b[49m\u001b[43m)\u001b[49m\n\u001b[0;32m    319\u001b[0m     \u001b[38;5;28;01mif\u001b[39;00m status \u001b[38;5;241m!=\u001b[39m CONTINUE:\n\u001b[0;32m    320\u001b[0m         \u001b[38;5;28;01mbreak\u001b[39;00m\n",
      "File \u001b[1;32m~\\AppData\\Roaming\\uv\\python\\cpython-3.10.16-windows-x86_64-none\\lib\\http\\client.py:279\u001b[0m, in \u001b[0;36mHTTPResponse._read_status\u001b[1;34m(self)\u001b[0m\n\u001b[0;32m    278\u001b[0m \u001b[38;5;28;01mdef\u001b[39;00m\u001b[38;5;250m \u001b[39m\u001b[38;5;21m_read_status\u001b[39m(\u001b[38;5;28mself\u001b[39m):\n\u001b[1;32m--> 279\u001b[0m     line \u001b[38;5;241m=\u001b[39m \u001b[38;5;28mstr\u001b[39m(\u001b[38;5;28;43mself\u001b[39;49m\u001b[38;5;241;43m.\u001b[39;49m\u001b[43mfp\u001b[49m\u001b[38;5;241;43m.\u001b[39;49m\u001b[43mreadline\u001b[49m\u001b[43m(\u001b[49m\u001b[43m_MAXLINE\u001b[49m\u001b[43m \u001b[49m\u001b[38;5;241;43m+\u001b[39;49m\u001b[43m \u001b[49m\u001b[38;5;241;43m1\u001b[39;49m\u001b[43m)\u001b[49m, \u001b[38;5;124m\"\u001b[39m\u001b[38;5;124miso-8859-1\u001b[39m\u001b[38;5;124m\"\u001b[39m)\n\u001b[0;32m    280\u001b[0m     \u001b[38;5;28;01mif\u001b[39;00m \u001b[38;5;28mlen\u001b[39m(line) \u001b[38;5;241m>\u001b[39m _MAXLINE:\n\u001b[0;32m    281\u001b[0m         \u001b[38;5;28;01mraise\u001b[39;00m LineTooLong(\u001b[38;5;124m\"\u001b[39m\u001b[38;5;124mstatus line\u001b[39m\u001b[38;5;124m\"\u001b[39m)\n",
      "File \u001b[1;32m~\\AppData\\Roaming\\uv\\python\\cpython-3.10.16-windows-x86_64-none\\lib\\socket.py:717\u001b[0m, in \u001b[0;36mSocketIO.readinto\u001b[1;34m(self, b)\u001b[0m\n\u001b[0;32m    715\u001b[0m \u001b[38;5;28;01mwhile\u001b[39;00m \u001b[38;5;28;01mTrue\u001b[39;00m:\n\u001b[0;32m    716\u001b[0m     \u001b[38;5;28;01mtry\u001b[39;00m:\n\u001b[1;32m--> 717\u001b[0m         \u001b[38;5;28;01mreturn\u001b[39;00m \u001b[38;5;28;43mself\u001b[39;49m\u001b[38;5;241;43m.\u001b[39;49m\u001b[43m_sock\u001b[49m\u001b[38;5;241;43m.\u001b[39;49m\u001b[43mrecv_into\u001b[49m\u001b[43m(\u001b[49m\u001b[43mb\u001b[49m\u001b[43m)\u001b[49m\n\u001b[0;32m    718\u001b[0m     \u001b[38;5;28;01mexcept\u001b[39;00m timeout:\n\u001b[0;32m    719\u001b[0m         \u001b[38;5;28mself\u001b[39m\u001b[38;5;241m.\u001b[39m_timeout_occurred \u001b[38;5;241m=\u001b[39m \u001b[38;5;28;01mTrue\u001b[39;00m\n",
      "File \u001b[1;32m~\\AppData\\Roaming\\uv\\python\\cpython-3.10.16-windows-x86_64-none\\lib\\ssl.py:1307\u001b[0m, in \u001b[0;36mSSLSocket.recv_into\u001b[1;34m(self, buffer, nbytes, flags)\u001b[0m\n\u001b[0;32m   1303\u001b[0m     \u001b[38;5;28;01mif\u001b[39;00m flags \u001b[38;5;241m!=\u001b[39m \u001b[38;5;241m0\u001b[39m:\n\u001b[0;32m   1304\u001b[0m         \u001b[38;5;28;01mraise\u001b[39;00m \u001b[38;5;167;01mValueError\u001b[39;00m(\n\u001b[0;32m   1305\u001b[0m           \u001b[38;5;124m\"\u001b[39m\u001b[38;5;124mnon-zero flags not allowed in calls to recv_into() on \u001b[39m\u001b[38;5;132;01m%s\u001b[39;00m\u001b[38;5;124m\"\u001b[39m \u001b[38;5;241m%\u001b[39m\n\u001b[0;32m   1306\u001b[0m           \u001b[38;5;28mself\u001b[39m\u001b[38;5;241m.\u001b[39m\u001b[38;5;18m__class__\u001b[39m)\n\u001b[1;32m-> 1307\u001b[0m     \u001b[38;5;28;01mreturn\u001b[39;00m \u001b[38;5;28;43mself\u001b[39;49m\u001b[38;5;241;43m.\u001b[39;49m\u001b[43mread\u001b[49m\u001b[43m(\u001b[49m\u001b[43mnbytes\u001b[49m\u001b[43m,\u001b[49m\u001b[43m \u001b[49m\u001b[43mbuffer\u001b[49m\u001b[43m)\u001b[49m\n\u001b[0;32m   1308\u001b[0m \u001b[38;5;28;01melse\u001b[39;00m:\n\u001b[0;32m   1309\u001b[0m     \u001b[38;5;28;01mreturn\u001b[39;00m \u001b[38;5;28msuper\u001b[39m()\u001b[38;5;241m.\u001b[39mrecv_into(buffer, nbytes, flags)\n",
      "File \u001b[1;32m~\\AppData\\Roaming\\uv\\python\\cpython-3.10.16-windows-x86_64-none\\lib\\ssl.py:1163\u001b[0m, in \u001b[0;36mSSLSocket.read\u001b[1;34m(self, len, buffer)\u001b[0m\n\u001b[0;32m   1161\u001b[0m \u001b[38;5;28;01mtry\u001b[39;00m:\n\u001b[0;32m   1162\u001b[0m     \u001b[38;5;28;01mif\u001b[39;00m buffer \u001b[38;5;129;01mis\u001b[39;00m \u001b[38;5;129;01mnot\u001b[39;00m \u001b[38;5;28;01mNone\u001b[39;00m:\n\u001b[1;32m-> 1163\u001b[0m         \u001b[38;5;28;01mreturn\u001b[39;00m \u001b[38;5;28;43mself\u001b[39;49m\u001b[38;5;241;43m.\u001b[39;49m\u001b[43m_sslobj\u001b[49m\u001b[38;5;241;43m.\u001b[39;49m\u001b[43mread\u001b[49m\u001b[43m(\u001b[49m\u001b[38;5;28;43mlen\u001b[39;49m\u001b[43m,\u001b[49m\u001b[43m \u001b[49m\u001b[43mbuffer\u001b[49m\u001b[43m)\u001b[49m\n\u001b[0;32m   1164\u001b[0m     \u001b[38;5;28;01melse\u001b[39;00m:\n\u001b[0;32m   1165\u001b[0m         \u001b[38;5;28;01mreturn\u001b[39;00m \u001b[38;5;28mself\u001b[39m\u001b[38;5;241m.\u001b[39m_sslobj\u001b[38;5;241m.\u001b[39mread(\u001b[38;5;28mlen\u001b[39m)\n",
      "\u001b[1;31mKeyboardInterrupt\u001b[0m: "
     ]
    }
   ],
   "source": [
    "RefineLanguage3()"
   ]
  },
  {
   "cell_type": "code",
   "execution_count": null,
   "id": "ea039f04",
   "metadata": {},
   "outputs": [],
   "source": []
  },
  {
   "cell_type": "code",
   "execution_count": 1,
   "id": "444ec9a1",
   "metadata": {},
   "outputs": [],
   "source": [
    "from dotenv import load_dotenv\n",
    "import os\n",
    "from huggingface_hub import login\n",
    "\n",
    "load_dotenv()\n",
    "login(os.getenv(\"HUGG_TOKEN\"))\n"
   ]
  },
  {
   "cell_type": "code",
   "execution_count": 8,
   "id": "35e814e2",
   "metadata": {},
   "outputs": [
    {
     "name": "stdout",
     "output_type": "stream",
     "text": [
      "2025-04-18 00:51:33,563 SequenceTagger predicts: Dictionary with 19 tags: O, S-LOC, B-LOC, E-LOC, I-LOC, S-PER, B-PER, E-PER, I-PER, S-MISC, B-MISC, E-MISC, I-MISC, S-ORG, B-ORG, E-ORG, I-ORG, <START>, <STOP>\n"
     ]
    }
   ],
   "source": [
    "from tqdm import tqdm\n",
    "from flair.models import SequenceTagger\n",
    "from flair.data import Sentence\n",
    "\n",
    "# Enable tqdm progress bar explicitly\n",
    "tagger = SequenceTagger.load(\"flair/ner-french\")\n"
   ]
  },
  {
   "cell_type": "code",
   "execution_count": 30,
   "id": "5aabb25e",
   "metadata": {},
   "outputs": [
    {
     "name": "stdout",
     "output_type": "stream",
     "text": [
      "Text: I N S T A G R A M\n",
      "Label: LOC\n",
      "Score: 0.7772900197241042\n",
      "Text: Camargue\n",
      "Label: LOC\n",
      "Score: 0.9831439852714539\n",
      "Text: Nîmes\n",
      "Label: LOC\n",
      "Score: 0.7069959044456482\n"
     ]
    }
   ],
   "source": [
    "text = \"\"\"\n",
    "Le bio de la chaine : \\n \\n        \\n###############\\n        \\nDescription : Hello ! Aujourd’hui Bruno nous invite à questionner l'usage que faisons de notre habitat et nous propose de réduire nos surfaces de vie tout en gardant notre confort, de construire notre maison sans faire de prêt bancaire sur 20 ans. Et si on voyait dans le fait de construire notre maison plus qu'un défi, un cheminement, une expérience humaine, un accomplissement ?\\nDécouvrez la construction d’un habitat autonome avec une structure bois, isolation paille, enduit terre de 24m2 avec cuisine, séjour, chambre et salle de bain pour 5000€ ! \\nPrenez bien soin de vous.  \\nJe vous embrasse, \\n\\nA bientôt 🌸 \\n\\nSarah \\n\\n\\n\\nLe site internet d’Alter’éco 30 : https://bit.ly/37pw1uj \\n\\n#OurInnerTravels #Autonomie #Habitat #Maison #HabitatAutonome #Ecologie \\n\\n\\nRetrouve moi aussi sur : \\n🎙PODCAST : https://anchor.fm/our-inner-travels\\n\\n📸 I N S T A G R A M : https://instagram.com/ourinnertravels \\n✍️ B L O G : https://ourinnertravels.com \\n📸 FACEBOOK : https://www.facebook.com/OurInnerTravels \\n💕 Abonne-toi à la chaine : https://bit.ly/2PUxikr \\n💌 Me Contacter 💌: contact@ourinnertravels.com\\n        \\n        \\n###############\\n        \\nDescription : Hello, Aujourd’hui je vous retrouve dans la première partie d’une série de 5 entretiens avec Bruno sur le thème : L’écologie et l’alternativité comme invitation à trouver un sens à la vie.\\nPartie 1 : Echovert, la construction d’un lieu alternatif, autonome et écologique\\nPartie 2 : Vivre de façon alternative, les joies\\nPartie 3 : Vivre de façon alternative, les défis \\nPartie 4 : L’écologie, une invitation à trouver un sens à la vie\\nPartie 5 : Les 3 kiffs de Bruno\\n\\nVous préférez écouter la vidéo sous format podcast ? C'est ici : https://bit.ly/3gmy5ZF\\n\\nEn octobre, de retour de voyage la réadaptation à la vie parisienne est difficile, est-ce peut-être car je n’ai pas envie de me réadapter, que je n’y vois plus de sens ? Je pars donc en Camargue, à une demi-heure de Nîmes et passe un mois dans un éco-lieu à la recherche de sens, de rencontres, de personnes qui partagent mes idées et mes aspirations. Bruno et Anne ont créé ce lieu de vie alternatif où naissent inventions respectueuses de l’environnement et expérimentations d’outils pour l’autonomie alimentaire et énergétique. Avec Bruno, on a commencé par parler de ce lieu de vie alternatif et de ce qu’implique le fait de vivre en communauté. On s’est aussi demander comment se reconnecter à soi et aux autres dans un monde qui semble parfois déconnecté du réel. Au fil de nos paroles, on en est finalement venu à se questionner sur le sens de la vie, et en quoi le fait de cultiver son écologie intérieure est peut-être la première forme d’engagement écologique à avoir. Aujourd’hui je vous propose de partir en voyage intérieur grâce à Bruno. L’écologie et l’alternativité comme invitation à trouver un sens à la vie.\\n\\nA bientôt 🌸 \\n\\nSarah \\n\\nLe site internet d’Alter’éco 30 : https://bit.ly/37pw1uj \\n\\nRetrouve moi aussi sur : \\n🎙PODCAST : https://anchor.fm/our-inner-travels\\n📸 I N S T A G R A M : https://instagram.com/ourinnertravels \\n✍️ B L O G : https://ourinnertravels.com \\n📸 FACEBOOK : https://www.facebook.com/OurInnerTravels \\n💕 Abonne-toi à la chaine : https://bit.ly/2PUxikr \\n💌 Me Contacter 💌: contact@ourinnertravels.com\\n        \\n        \\n###############\\n\\n        titre : Habitat autonome et autoconstruction\\n        \\n        \\n###############\\n\\n        titre : PARLONS #2 - 1 : Echovert, la construction d’un lieu alternatif, autonome et écologique - Bruno\\n       \n",
    "\"\"\"\n",
    "sentence = Sentence(text)\n",
    "tagger.predict(sentence)\n",
    "\n",
    "for entity in sentence.get_spans('ner'):\n",
    "    label = entity.get_label(\"ner\")\n",
    "    if label.value == \"LOC\" and label.score >= 0.7:\n",
    "        entity_text = entity.text\n",
    "        entity_label = label.value\n",
    "        entity_score = label.score\n",
    "        print(\"Text:\", entity_text)\n",
    "        print(\"Label:\", entity_label)\n",
    "        print(\"Score:\", entity_score)"
   ]
  },
  {
   "cell_type": "code",
   "execution_count": 35,
   "metadata": {},
   "outputs": [
    {
     "data": {
      "text/plain": [
       "Location(Facebook Artificial Intelligence Research, Avenue de Wagram, Quartier de la Plaine-de-Monceau, Paris 17e Arrondissement, Paris, France métropolitaine, 75017, France, (48.8833715, 2.3022931, 0.0))"
      ]
     },
     "execution_count": 35,
     "metadata": {},
     "output_type": "execute_result"
    }
   ],
   "source": [
    "from geopy.geocoders import Nominatim\n",
    "\n",
    "geolocator = Nominatim(user_agent=\"geoapi\")\n",
    "location = geolocator.geocode(\"FAcebook\", language='fr', addressdetails=True, timeout=10)\n",
    "location"
   ]
  },
  {
   "cell_type": "markdown",
   "id": "b2a38097",
   "metadata": {},
   "source": [
    "## Filtering 1"
   ]
  },
  {
   "cell_type": "markdown",
   "id": "88ae9f21",
   "metadata": {},
   "source": [
    "- Remove fr-autre,autre\n",
    "- keep only fr and fr-FR , a big amount of fr are for france.\n",
    "- obtain the localisation of a channel if it's not providled by youtube api can be complexe because you can't find it anywhere."
   ]
  },
  {
   "cell_type": "code",
   "execution_count": null,
   "metadata": {},
   "outputs": [],
   "source": []
  },
  {
   "cell_type": "code",
   "execution_count": null,
   "metadata": {},
   "outputs": [],
   "source": []
  },
  {
   "cell_type": "code",
   "execution_count": null,
   "metadata": {},
   "outputs": [],
   "source": []
  },
  {
   "cell_type": "code",
   "execution_count": null,
   "metadata": {},
   "outputs": [],
   "source": []
  },
  {
   "cell_type": "code",
   "execution_count": null,
   "id": "16256aec",
   "metadata": {},
   "outputs": [],
   "source": []
  },
  {
   "cell_type": "code",
   "execution_count": null,
   "id": "e5189d28",
   "metadata": {},
   "outputs": [],
   "source": []
  },
  {
   "cell_type": "code",
   "execution_count": null,
   "id": "8d430df4",
   "metadata": {},
   "outputs": [],
   "source": []
  },
  {
   "cell_type": "code",
   "execution_count": null,
   "metadata": {},
   "outputs": [],
   "source": []
  },
  {
   "cell_type": "code",
   "execution_count": null,
   "id": "b27df94d",
   "metadata": {},
   "outputs": [],
   "source": []
  },
  {
   "cell_type": "code",
   "execution_count": null,
   "metadata": {},
   "outputs": [],
   "source": []
  },
  {
   "cell_type": "code",
   "execution_count": null,
   "id": "66616ae9",
   "metadata": {},
   "outputs": [],
   "source": []
  }
 ],
 "metadata": {
  "kernelspec": {
   "display_name": ".venv",
   "language": "python",
   "name": "python3"
  },
  "language_info": {
   "codemirror_mode": {
    "name": "ipython",
    "version": 3
   },
   "file_extension": ".py",
   "mimetype": "text/x-python",
   "name": "python",
   "nbconvert_exporter": "python",
   "pygments_lexer": "ipython3",
   "version": "3.10.16"
  }
 },
 "nbformat": 4,
 "nbformat_minor": 5
}
