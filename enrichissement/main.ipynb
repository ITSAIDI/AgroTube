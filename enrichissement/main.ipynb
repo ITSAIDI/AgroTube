{
 "cells": [
  {
   "cell_type": "code",
   "execution_count": 22,
   "id": "5da13fd1",
   "metadata": {},
   "outputs": [
    {
     "data": {
      "text/plain": [
       "True"
      ]
     },
     "execution_count": 22,
     "metadata": {},
     "output_type": "execute_result"
    }
   ],
   "source": [
    "import os\n",
    "import psycopg\n",
    "from datetime import date\n",
    "from googleapiclient.discovery import build\n",
    "from dotenv import load_dotenv\n",
    "from tqdm import tqdm\n",
    "\n",
    "load_dotenv()"
   ]
  },
  {
   "cell_type": "markdown",
   "id": "2d7a16e7",
   "metadata": {},
   "source": [
    "# Collecter et enregistrer les métriques des chaînes\n",
    "\n",
    "- On va collecter et enregistrer en même temps les métriques de chaque chaîne pertinente (en évitant de passer par un JSON).\n"
   ]
  },
  {
   "cell_type": "code",
   "execution_count": 4,
   "id": "2bbaad0a",
   "metadata": {},
   "outputs": [],
   "source": [
    "youtube = build('youtube', 'v3', developerKey=os.getenv(\"YOUTUBE_API_KEY1\"))"
   ]
  },
  {
   "cell_type": "code",
   "execution_count": 5,
   "id": "ea5712c0",
   "metadata": {},
   "outputs": [],
   "source": [
    "def getMetrics(id_chaine):\n",
    "    request = youtube.channels().list(\n",
    "        part='statistics',\n",
    "        id=id_chaine\n",
    "    )\n",
    "    response = request.execute()\n",
    "    \n",
    "    if not response['items']:\n",
    "        return None\n",
    "    \n",
    "    stats = response['items'][0]['statistics']\n",
    "    date_releve_chaine = date.today().isoformat()\n",
    "    nombre_vues_total = int(stats.get('viewCount', 0))\n",
    "    nombre_abonnes_total = int(stats.get('subscriberCount', 0))\n",
    "    nombre_videos_total = int(stats.get('videoCount', 0))\n",
    "    \n",
    "    return {\n",
    "        'date_releve_chaine': date_releve_chaine,\n",
    "        'nombre_vues_total': nombre_vues_total,\n",
    "        'nombre_abonnes_total': nombre_abonnes_total,\n",
    "        'nombre_videos_total': nombre_videos_total\n",
    "    }"
   ]
  },
  {
   "cell_type": "code",
   "execution_count": 6,
   "id": "d0c0200d",
   "metadata": {},
   "outputs": [
    {
     "data": {
      "text/plain": [
       "{'date_releve_chaine': '2025-05-19',\n",
       " 'nombre_vues_total': 18189595,\n",
       " 'nombre_abonnes_total': 127000,\n",
       " 'nombre_videos_total': 543}"
      ]
     },
     "execution_count": 6,
     "metadata": {},
     "output_type": "execute_result"
    }
   ],
   "source": [
    "getMetrics(\"UCVQeGg4Fdrrr8vDXa7yjOYg\")"
   ]
  },
  {
   "cell_type": "code",
   "execution_count": 10,
   "id": "48ff4934",
   "metadata": {},
   "outputs": [
    {
     "name": "stdout",
     "output_type": "stream",
     "text": [
      "[('UCVQeGg4Fdrrr8vDXa7yjOYg',), ('UCbXqpYCVTjdz2dx1nRx6W_A',), ('UCmx-LdHmmK5uoeCxLCro0lA',), ('UCbLlJlku_L6ghxMd4BqBpqg',), ('UCPCydRQqXBQ91WXbJE0m_Nw',), ('UCfJJcIcDpbUc9BFl9pv2OBQ',), ('UCch-g_np5WDQ9ij7CYLrI5Q',), ('UCe4QsdtZez5As391tzqo-7w',), ('UC7hv6V49I7swZIRmXBFVwLw',), ('UCcC2GY6XydggENLpcHIvrBA',), ('UCYctOAjl8RwxBCK6NlrVT-A',), ('UCp9v5Q6s2d_z1veY0XlS0sw',), ('UCTvSwcc5QfrOvlwsRp7Jdkg',), ('UCRxJ9juyvkuuqYbrBo-XgDQ',), ('UCeUF6Dout6yAhjtjceN8nrQ',), ('UC8faCqAK0uZnM9hXI1Qk8xw',), ('UCQNGVe31gbZOy4d1gHapxhA',), ('UC27v4mmvgzj_FNR7wCpC-6w',), ('UCpgHjOxIX3hHHqjZmApSO4Q',), ('UCsM7-d9_ytHv7m10vjyKdtA',), ('UCbEtxe1mYGy-GEGaC8QLaBQ',), ('UC9fxyl7ooZ7ubFNJg6JbbPA',), ('UCKQKLYeuCqcQbLV4-1chMjQ',), ('UC4hs6L5YmSs6hUmajWCBciA',), ('UC1xOodWhUU4BOLuSkdxFFBg',), ('UCjhzCd-CwbB8S3JAbHtOppg',), ('UChasF4_C2X8KwAlYzwFZm-g',), ('UCHyDU7TOALJj1ITzlNGj1HA',), ('UCkmeteRExUxbtPVtLTy7brw',), ('UCvjjRRrjwYj3aKCW4zIyszw',), ('UCXXLmTUI4nSXE-gCTk4zCNw',), ('UC6CuXpTj5CxVRlau_uK-hMw',), ('UC7wyFrqgzXzg2X88-u8ScqQ',), ('UCnytbqBKci2Ae6h3AMwK18A',), ('UCz-8jZjeRXLug7ZIg-tLzyw',), ('UCfDYAIHvjNFmt3wIMvVTiIQ',), ('UC96_eZLW4qFK_qnGvIfDT8g',), ('UCpR8WGuUPYqn9r0UdWF_xWg',), ('UCxBJustR1tuXVy7tLivER2g',), ('UCxf9-XTS-z0ebpi8ABQ-QeQ',), ('UCTNci8Q9uhmeA3MNhMPKWUA',), ('UC3mMbHCVEwbiTUrGp_0qw8g',), ('UC0tckGtKwYafjgByiJN17HQ',), ('UC-DnOQoBmnYkBFbIjx0IJ5g',), ('UCLm4J1knGHRHnPMosq6i86Q',), ('UCcMzWGb42gwrnDIiuea1L1w',), ('UCKe7wg1Xz-CYQEUCsFfkBXA',), ('UCFu8NDyVTKFe9G2pTI7bTMw',), ('UC66N4WHOMlEj8Hr1Teh1lOA',), ('UCFiG3Q_TJpEci70-ovCw92w',), ('UCKTJiNMMxk2W0CpOxPLoUkQ',), ('UCmtnui842gi9-HBC6JoN73Q',), ('UCCL5Dun4igJb85eqaBbomhw',), ('UCoZBUzrKAH_cfWQoAgwbzIA',), ('UCNbPPMcK05xqiDgMsvRRgKA',), ('UCPnPKmSeOn5M26z0LjX4wMA',), ('UCTFxTs1NC1s1F5Sm_I7peOw',), ('UC11ZxXzqcFOZi0FxxvFb4Wg',), ('UCf74LvM7IOczD8MR7OfMGdA',), ('UCc6ccC4EOnhOQHQCgur2Jaw',), ('UCMpUWBHcnv1r2_GsSb0YWvA',), ('UCjG_X8B7RG0dPeKCvd4nVRQ',), ('UCBG6K1EAGUi1h-xjdS8ijZw',), ('UCGf9y_d2U2dan14IRbe4-YA',), ('UCvX9bPZbkcaiPfo85c-K5Jg',), ('UCAG2pbnUf-MdLpE4Wf7Q1mg',), ('UCkC_8OFnebf2mgo-f-kR4ng',), ('UCm-SeCr6-0dPzfUT8gZvYLg',), ('UCTRkpbMW4BES9Th8f6WAdkw',), ('UCbr5ltnH2tSU9VbhTO8CP8g',), ('UCZte6mI9FloV8WOTJkY2nNA',), ('UC72zWCoeu2lsw9KthgdP1AA',), ('UCEVmxjvp1oBvtHQ2jpD9frw',), ('UCp0QrxHH9okgTjwSHgeaPTw',), ('UCRIh8eMxvfVn4rQc42CSxSQ',), ('UCTpOTnJY4eYL9JBV_Nh5R5Q',), ('UClSMZeGrMI48edGgY3dHRvw',), ('UCpqv6Ev7CPZrhWaGG9mdtCA',), ('UCbC6d1Et0_JOB59Ntwwa_cQ',), ('UC7pN5YBSKvcEetsbh3HOxHA',), ('UC_HQ88lOTgL2CfAd9MkKgxg',), ('UCz_S16LnKgxePn_VoQoG7PA',), ('UCS9ykfADHzqECX9BMwipx0w',), ('UCns6NYTd8d_0trsrDTJIYNw',), ('UCdwvgwMAV66OVckB07psJBg',), ('UCD7CDvJjOQPNAFpe8olNQgA',), ('UCUBDBzmd_cdXNigezV-dhow',), ('UCSKdJoK73RLL-zOs4Sq_tTQ',), ('UCv2mgmhMoJ82F-NVgmapOpg',), ('UC4Q2EebrNVAbB6w4PnFGmyw',), ('UCmqB1UDWJrol9x8vSm-VnFw',), ('UCn2g3BTNELQVsE-igH-5bRA',), ('UCEwdK_gBph3KW_8k0a_eGow',), ('UC4p4n-NuIMl_TAMhx5n9whw',), ('UCf2UuMRcg7EFqw8iE7MuWRw',), ('UCQYIeFEC_iPsU5K6DwSy-MQ',), ('UC6-cJronXdYQuHIGjYLRzRw',), ('UCluzmCK9asR8FPFTYSCMKeg',), ('UCR3vx3EOQoNXR3pnCxIerFg',), ('UC-HLRGqgS0BbvROwRhm9gBw',), ('UCnZKZLURJ9MDY7RoJbLsXxA',), ('UCfC4N-odpc6VfONKJy_NJew',), ('UCI0LxStaLEshTt98-VpoGdw',), ('UCPaJGAjCTHWWB_DhkhtSY1g',), ('UCQv64BhRo8Rit_3mz66-Fcg',), ('UCdxuzd-C0gnP0OfDVRHGxCA',), ('UCt2UiK0CR5KcgZ6iRraeeTQ',), ('UCXmLVCelW0RnEpfLO-xJiUw',), ('UCmDWz7BhlNwoBle_jfBLdDg',), ('UCf74Af8bmk0YTMkYWAQHWpw',), ('UCSPgIMrK_1bhpzRqYP09RUA',), ('UCswnrYUFywB_aW-ZxGqD0hw',), ('UCglBSkKSjG-Mqq3qzbC-Oiw',), ('UCGFxEh2SvcvN_lv13G1-i2A',), ('UCXnQffG_ocXT8OZyDuYKpJg',), ('UC0I9SxzFFbnTcXs6wARmOqg',), ('UCOvwEq39trxfwnB5c99YndA',), ('UC1E9WBs_mB47te9BiYvslUw',), ('UC2avy3Pwc3yVtt-tPKJn33A',), ('UC5l6bhUvgAvdWeGgXsALfDQ',), ('UC-9_Sm-wqs2SVpc_jIkHCrA',), ('UClakn_gjvZ36wxyMfyUxDWQ',), ('UCXqMUGfDetjnqv0FbAyjUcA',), ('UCMoz3nVKtvHSmUhlnM-qaVg',), ('UCzqDA2VBsxL392LggWjmaGw',), ('UC4xi-U92YZEUGdoVCXIpP6g',), ('UCMSKFr78refvRm6q67wBrFg',), ('UCk8V44jDAXbY-N4wG_K53Kw',), ('UCbMxKIvWCMysVUQXGHiriTA',), ('UCDjdlzEEkidWWTUH0DDSdGg',), ('UCLohCn3coF0Q-fffiub9Q5Q',), ('UCYJs2__vjjPF9SL62zV-u-A',), ('UC_v9obyTc6y1HrEmWAJVDyA',), ('UCPWs3fL-GHZHMfS883Lwbkw',), ('UC4Y0AItc7Qpm0cIDMxF4rZg',), ('UCPX3JUOYEuREXz6tQbmTRbg',), ('UClp5S7yiye7foaRWbJke4rw',), ('UCeCMBKAGUNQtn370Tk_1_1A',), ('UCZUG-Tp5rGU63lwk5or6B7g',), ('UC8mcqqkkMQqkw0A8GflYBOg',), ('UCk_o7iGpK_zEOKs8NCRZndg',), ('UCznfrRlY_E_V3pfGnf5Jd4g',), ('UC85B66rhokyOTaplS6sK1rg',), ('UCl5Rl5ptScGIAf_3KRzjAnw',), ('UC1tZVahhJtUiBv8KpsZlFNg',), ('UCahI7Aflv4lJOpk_eKP9Jrw',), ('UCED_T4_Wxisu0xKGdsrCNNA',), ('UCM0ynYQ233LFwA75h3OOWgw',), ('UC5x6ksDxBLNxRqoQisLJCfw',), ('UCzXgi5NuTa7LP2glTUs3EVw',), ('UCNRcppsj-SM4FrdCgPsyrDA',), ('UC221shDkPCj68FygrhlEZsA',), ('UCfIJ_n3xEeJx-ArOdg4eIFg',), ('UCpfX7QA3Mn0kbl69ZMzCTKA',), ('UC9eXA9BI7B7FH6XCt8tro1A',), ('UCP-bLekBa5kL5u0NCEBYKqA',), ('UCNqADXg6dTqov4klT703jYg',), ('UC0Jqi9VATR7p05Gc7gVe9zQ',), ('UCVLqtRS0qxpnbemks8ZyUsQ',), ('UCnUJHUUoniGWOI7czooAngg',), ('UCJfcABj0bAqFrK3tjhGsSpw',), ('UCRy_VO61E6P8pKcpSMf4EsA',), ('UC8cburo43hFaqxAiJoJe4lg',), ('UCnIGrvSrQF7uCovnIm8LCSQ',), ('UCIZgLhWToAdV9wV_9tDmF3g',), ('UCrwxr7K7R_ZSBOl-Q5PrXTg',), ('UCVzeTt3WP5_zAzOIJm3NDNw',), ('UCySWk4RAtqZZqIZYNO7JdMQ',), ('UCXdEIUUBD8jUl9M0BxnpqxA',), ('UCHeCB7CxvuGYrCpXbTPKR6A',), ('UCU_7MBwMwU2KHFiAlN04XKw',), ('UCUhmih42DDDqX33OPR99a7g',), ('UCPYhocPO6DSx94fQGb01tmw',), ('UCkpYculPz2D7ph3rND2CZfg',), ('UCIXF82JbHvwuNmqC1QxJ6eg',), ('UCfC5OXHwxfpzwmNl5iV9v9Q',), ('UC2M77RNyW6O9JQhpj1-6GOA',), ('UCxEWdEjd056HMQvssPSmQcg',), ('UCpWOkdK17og5jvrIOfxDB8w',), ('UCLqH3CdFkxesXpYt7Isg0nA',), ('UCXjRdohDrLLBhURjATBilzw',), ('UCeYvYyTKber9qNdgj0j0rQQ',), ('UCogn8MT66hz8zd-NANI7xiA',), ('UCezSHYC49qWrj9_YdOiQ3Vg',), ('UClTp2Y75kahXitX1rMqJsBA',), ('UCfDanT5efmtfRiYfDrYZE_w',), ('UCDYNynOb2xUH_hVpiLz_9SQ',), ('UC__bbOCmtplL8X2bQYNW7Xg',), ('UCiYVrkYGgmmcOF-mI1bKDSg',), ('UCsaPURTHTStf0V_ubcUA9xg',), ('UCgjc6SfV0IXb_M14o7xRopg',), ('UCnetstsllsKoZUGoGZZnNUg',), ('UCnVqL_RE4mZTc0tpW0egxjw',), ('UCiusFKWbx0TV8t9WM1GLizA',), ('UCVZjT9Kl30jGA-fIhZvKUcA',), ('UCDhJdvMAa9e2ONZfsLwJ7Zw',), ('UCF3ZkmtzsjKlnB1EmdBspIg',), ('UCKCNTKfF3TTflH4_YupZUqw',), ('UCKMXYLv36kRfy79cE8jovMA',), ('UCpiZ02tCVPbxRZvEIVQtaCg',), ('UCDxWQwoBkFCx3NuwtJcqRpQ',), ('UCFM6NcJ7pAd_6wWmcyYe7ZQ',), ('UCDQkcPk9hgLpM9zDw5OGFTQ',), ('UC8hLBGU5BnxmdkzuG0V286w',), ('UCoKoL-dBRPkx9B6zFLaHeUQ',), ('UC1sZ3rssorqtkrP40mcJLtw',), ('UChdZfc0Lhbb-nlPePZWKzWQ',), ('UCNxEU3a_U0aaXF6tTlXuT9A',), ('UCES2VaNlGItR3SontH6AugQ',), ('UCB7bnDTjX_LVy1bgzasyzqQ',), ('UChefYBra7_igVhBOzSUvXKw',), ('UCx4JfVHUT4SCEzRNa6qZ4YA',), ('UC0ZksqxjFgHSDiSKpRT4lgg',), ('UChavs3jhKaUus4mTVlOfing',), ('UCg36ugErEPBs4JK-gOn4bQA',), ('UCvkfWUVJIFCXQLMutWwWNPA',), ('UCA-J1ICXOMzYoZ9wSbQ5zQg',), ('UCzyEc8VCIwRTy602PK5c4-Q',), ('UCfD5ibY4rWK5hb_pG5S6geg',), ('UCD9V59z6CTIwdjufI_wOiww',), ('UCfeqxpa1gXIlTsnvjxcw9mQ',), ('UCm8-Ft8PdYGiSrB9cY2inDg',), ('UCnU_TPJaxjPAiWtsFTCnzjQ',), ('UCS_vPW-OxAscHLr6p_V-l6g',), ('UCbgoIFuIMaCSJWWMENfhBDg',), ('UCs8OR4BWWpBA4QA_mzmTNJw',), ('UCBtHd_nV-ugcBKe_5qvHn0w',), ('UCu49bZdv6DbgSs7D1_4QgSA',), ('UCZ-M_wh75ue4ug8694Keymg',), ('UCMMXm_BV1vzphpHhbrhyPwQ',), ('UC8mMX4JZAkYrBcjQiBVq0SA',), ('UCdFHrcQ7VYurn8msrQq_Rug',), ('UCmtdNirvxYC74vNmWrsPiwQ',), ('UCSmH2NIWM5Ue5jMx0WjU1_A',), ('UCz2HstlE5WoFzxJgYicclgw',), ('UCA3hA38lukzlSFXDbJXUJLw',), ('UCg7HRuQ93hl9v8dTSt_XDHA',), ('UCBl5NKVm6Qn0D8LRjd7hPFQ',), ('UCsM4_jihNFYe4CtSkXvDR-Q',), ('UCoTM9SHikhcRYUbnw0N-lyQ',), ('UC4oeoPH5rWUe5PgtqaDd-tA',), ('UChbo2qWbje-xHKXfMIV6llA',), ('UCTOcrMtM1piJtSUNXw3tOVg',), ('UCokVDNQlyx8Ae_5Ll4zJ63A',), ('UC6lD-zU7SB0nExUr2_L6WNA',), ('UC4t6PnvBAtS3jHJzaPkuzBg',), ('UCH9nMkpd2IzFc3cTThLV9nQ',), ('UCL-4QXmzLIt6kl3lkHYeC3g',), ('UCv5gTFFUPw2JuvG6C9OUDQg',), ('UCOc43VE8KbZbwMX7fikucyw',), ('UCckoe6G3NNGBEO_eK0R3VrA',), ('UCI0U5XCEXZnUtf7h0BPAJ1w',), ('UC_cSLWBMn53unjKJswGmh4w',), ('UCu6mFdACj_quODcUujiT62Q',), ('UCITV77iHSp-2_cgwdZNaxKQ',), ('UCdyVkCCE38454PhQueaCEuA',), ('UCU8H1biOMElBjUxgsCWgRBQ',), ('UCPiHkHuvop9C0l5uLjLtMng',), ('UCNjnBUHZIh3jPwGi7E3SAjw',), ('UCdryzzigyBOcHtYsztoAYYA',), ('UCbWrjExXrZHU1UL5_zTUFHQ',), ('UCc8rtbR53-q39oDGf643x2A',), ('UCBHp0uxB-2aJcoi_MFpFd-Q',), ('UCHBjfRn5PWXh7H-R3fv3hVA',), ('UC8PEEf3BBouA4pAaqWUQvNg',), ('UCYQKB7SDGHuRrfWjMoh1drQ',), ('UCqR3ENTNtclSFPHt-8KaOLw',), ('UClu3x-HNbVLYta5eyHQfwWQ',), ('UCk_DfP_z1GkhC6dOOik4RHQ',), ('UCDMZX6iKZQCOQ2kurXBZVUw',), ('UCjslVKnkSikvjE48trO48rQ',), ('UCZWFUZDdFSpuaP768ezslTg',), ('UCzEynpP1gvsnVGXDAvq7g3A',), ('UCsPzB_990exJyOdCsDPWT0w',), ('UC8Fm175HSQBzY2t8lS6lyZQ',), ('UC3R2jNcJV5RdXCJUiTWbn_w',), ('UCpTEuX7IHoo2GKcls4w8rZw',), ('UCjs4gTNzsI_Tiz-jQhMxdNA',), ('UCsBgP5ZZAXfJG7JG5J_gG0w',), ('UCTpc4qXuZ6xqprmhSEDNWsg',)]\n",
      "280\n"
     ]
    }
   ],
   "source": [
    "conn = psycopg.connect(\n",
    "    dbname=\"mydatabase\",\n",
    "    user=\"postgres\",\n",
    "    password=os.getenv(\"POSTGRE_PASSWORD\"),\n",
    "    host=\"localhost\",\n",
    "    port=\"5432\"\n",
    ")\n",
    "cur = conn.cursor()\n",
    "\n",
    "# Récupérer les chaînes pertinentes\n",
    "cur.execute(\"SELECT id_chaine FROM chaines WHERE pertinente = TRUE\")\n",
    "chaines = cur.fetchall()\n",
    "\n",
    "\n",
    "print(chaines)\n",
    "print(len(chaines))"
   ]
  },
  {
   "cell_type": "code",
   "execution_count": null,
   "id": "a2d2f0f1",
   "metadata": {},
   "outputs": [],
   "source": [
    "# Pour chaque chaîne, récupérer et insérer les métriques\n",
    "for (id_chaine,) in chaines:\n",
    "    metriques = getMetrics(id_chaine)\n",
    "    if metriques:\n",
    "        cur.execute(\"\"\"\n",
    "            INSERT INTO chaines_metriques (\n",
    "                id_chaine, date_releve_chaine,\n",
    "                nombre_vues_total, nombre_abonnes_total, nombre_videos_total\n",
    "            )\n",
    "            VALUES (%s, %s, %s, %s, %s)\n",
    "            ON CONFLICT (id_chaine, date_releve_chaine) DO NOTHING\n",
    "        \"\"\", (\n",
    "            id_chaine,\n",
    "            metriques['date_releve_chaine'],\n",
    "            metriques['nombre_vues_total'],\n",
    "            metriques['nombre_abonnes_total'],\n",
    "            metriques['nombre_videos_total']\n",
    "        ))\n",
    "\n",
    "conn.commit()\n",
    "cur.close()\n",
    "conn.close()"
   ]
  },
  {
   "cell_type": "markdown",
   "id": "26240104",
   "metadata": {},
   "source": [
    "# Calcul de la couverture"
   ]
  },
  {
   "cell_type": "markdown",
   "id": "e066aca7",
   "metadata": {},
   "source": [
    "$$\n",
    "\\text{Couverture} = \\frac{\\text{Nombre de vidéos pertinentes collectées}}{\\text{Nombre total de vidéos (le plus récent) de la chaîne pertinente}}\n",
    "$$\n"
   ]
  },
  {
   "cell_type": "code",
   "execution_count": 23,
   "id": "71e87b86",
   "metadata": {},
   "outputs": [],
   "source": [
    "def get_couverture(id_chaine,conn):\n",
    "    \n",
    "    cur = conn.cursor()\n",
    "\n",
    "    # Récupérer le nombre de vidéos collectées\n",
    "    cur.execute(\"\"\"\n",
    "        SELECT COUNT(*) FROM videos\n",
    "        WHERE id_chaine = %s\n",
    "    \"\"\", (id_chaine,))\n",
    "    nb_collectees = cur.fetchone()[0]\n",
    "\n",
    "    # Récupérer le nombre total de vidéos le plus récent\n",
    "    cur.execute(\"\"\"\n",
    "        SELECT nombre_videos_total\n",
    "        FROM chaines_metriques\n",
    "        WHERE id_chaine = %s\n",
    "        ORDER BY date_releve_chaine DESC\n",
    "        LIMIT 1\n",
    "    \"\"\", (id_chaine,))\n",
    "    row = cur.fetchone()\n",
    "\n",
    "\n",
    "    if not row:\n",
    "        return None  # Pas de métrique pour cette chaîne\n",
    "\n",
    "    nb_total = row[0]\n",
    "\n",
    "    if nb_total == 0:\n",
    "        return 0.0  # Évite division par zéro\n",
    "\n",
    "    couverture = nb_collectees / nb_total\n",
    "    return round(couverture, 3)\n"
   ]
  },
  {
   "cell_type": "code",
   "execution_count": 24,
   "id": "8fdcf1b7",
   "metadata": {},
   "outputs": [
    {
     "name": "stdout",
     "output_type": "stream",
     "text": [
      "Couverture : 0.016\n"
     ]
    }
   ],
   "source": [
    "conn = psycopg.connect(\n",
    "        dbname=\"mydatabase\",\n",
    "        user=\"postgres\",\n",
    "        password=os.getenv(\"POSTGRE_PASSWORD\"),\n",
    "        host=\"localhost\",\n",
    "        port=\"5432\"\n",
    "    )\n",
    "\n",
    "couverture = get_couverture(\"UCxBJustR1tuXVy7tLivER2g\",conn)\n",
    "print(\"Couverture :\", couverture)\n",
    "\n",
    "conn.close()\n"
   ]
  },
  {
   "cell_type": "code",
   "execution_count": 27,
   "id": "fbdb7264",
   "metadata": {},
   "outputs": [],
   "source": [
    "def get_couverture_moyenne():\n",
    "    conn = psycopg.connect(\n",
    "        dbname=\"mydatabase\",\n",
    "        user=\"postgres\",\n",
    "        password=os.getenv(\"POSTGRE_PASSWORD\"),\n",
    "        host=\"localhost\",\n",
    "        port=\"5432\"\n",
    "    )\n",
    "    cur = conn.cursor()\n",
    "\n",
    "    cur.execute(\"\"\"\n",
    "        SELECT id_chaine FROM chaines WHERE pertinente = TRUE\n",
    "    \"\"\")\n",
    "    chaines = cur.fetchall()\n",
    "\n",
    "    total = 0.0\n",
    "    count = 0\n",
    "\n",
    "    for (id_chaine,) in tqdm(chaines):\n",
    "        couverture = get_couverture(id_chaine,conn)\n",
    "        if couverture is not None:\n",
    "            total += couverture\n",
    "            count += 1\n",
    "\n",
    "    conn.close()\n",
    "\n",
    "    if count == 0:\n",
    "        return 0.0\n",
    "    return round(total / count, 3)\n"
   ]
  },
  {
   "cell_type": "code",
   "execution_count": 28,
   "id": "2075d19b",
   "metadata": {},
   "outputs": [
    {
     "name": "stderr",
     "output_type": "stream",
     "text": [
      "100%|██████████| 280/280 [00:00<00:00, 380.83it/s]\n"
     ]
    },
    {
     "data": {
      "text/plain": [
       "0.081"
      ]
     },
     "execution_count": 28,
     "metadata": {},
     "output_type": "execute_result"
    }
   ],
   "source": [
    "get_couverture_moyenne()"
   ]
  },
  {
   "cell_type": "code",
   "execution_count": null,
   "id": "e560d594",
   "metadata": {},
   "outputs": [],
   "source": []
  },
  {
   "cell_type": "code",
   "execution_count": null,
   "metadata": {},
   "outputs": [],
   "source": []
  }
 ],
 "metadata": {
  "kernelspec": {
   "display_name": ".venv",
   "language": "python",
   "name": "python3"
  },
  "language_info": {
   "codemirror_mode": {
    "name": "ipython",
    "version": 3
   },
   "file_extension": ".py",
   "mimetype": "text/x-python",
   "name": "python",
   "nbconvert_exporter": "python",
   "pygments_lexer": "ipython3",
   "version": "3.10.16"
  }
 },
 "nbformat": 4,
 "nbformat_minor": 5
}
