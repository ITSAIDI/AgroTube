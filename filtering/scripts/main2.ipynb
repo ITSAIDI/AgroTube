{
 "cells": [
  {
   "cell_type": "code",
   "execution_count": 1,
   "id": "99e3887a",
   "metadata": {},
   "outputs": [
    {
     "data": {
      "text/plain": [
       "True"
      ]
     },
     "execution_count": 1,
     "metadata": {},
     "output_type": "execute_result"
    }
   ],
   "source": [
    "import json \n",
    "from collections import Counter\n",
    "from tqdm import tqdm \n",
    "from colorama import Style,Fore\n",
    "import os\n",
    "from dotenv import load_dotenv\n",
    "import time\n",
    "import matplotlib.pyplot as plt\n",
    "\n",
    "load_dotenv()"
   ]
  },
  {
   "cell_type": "code",
   "execution_count": 2,
   "id": "65d64c1f",
   "metadata": {},
   "outputs": [],
   "source": [
    "from utils1 import openJson,saveJson"
   ]
  },
  {
   "cell_type": "markdown",
   "id": "f7f1883a",
   "metadata": {},
   "source": [
    "## Filtering 1"
   ]
  },
  {
   "cell_type": "markdown",
   "id": "90f9957c",
   "metadata": {},
   "source": [
    "- videosF1.json contain the videos with fr-FR on the language parameter"
   ]
  },
  {
   "cell_type": "code",
   "execution_count": null,
   "id": "3808438d",
   "metadata": {},
   "outputs": [],
   "source": [
    "videosR3 = openJson(\"../jsons/videosR3.json\")\n",
    "len(videosR3)"
   ]
  },
  {
   "cell_type": "code",
   "execution_count": null,
   "id": "70157702",
   "metadata": {},
   "outputs": [],
   "source": [
    "videosF1 = []\n",
    "for video in videosR3:\n",
    "    if video['langue']== 'fr-FR':\n",
    "        videosF1.append(video)\n",
    "saveJson(\"../jsons/videosF1.json\",videosF1)\n",
    "len(videosF1)"
   ]
  },
  {
   "cell_type": "code",
   "execution_count": null,
   "id": "e425fc46",
   "metadata": {},
   "outputs": [],
   "source": [
    "videosF1 = openJson(\"../jsons/videosF1.json\")\n",
    "len(videosF1)"
   ]
  },
  {
   "cell_type": "code",
   "execution_count": null,
   "id": "ea3116da",
   "metadata": {},
   "outputs": [],
   "source": []
  },
  {
   "cell_type": "code",
   "execution_count": null,
   "id": "402ace6a",
   "metadata": {},
   "outputs": [],
   "source": []
  },
  {
   "cell_type": "code",
   "execution_count": null,
   "id": "2fc12b9e",
   "metadata": {},
   "outputs": [],
   "source": []
  },
  {
   "cell_type": "markdown",
   "id": "0d0c5eb6",
   "metadata": {},
   "source": [
    "## Filtering 2"
   ]
  },
  {
   "cell_type": "markdown",
   "id": "e9308cab",
   "metadata": {},
   "source": [
    "### Detecter les videos des Chaines TV "
   ]
  },
  {
   "cell_type": "code",
   "execution_count": null,
   "id": "3f61bf02",
   "metadata": {},
   "outputs": [],
   "source": [
    "chainesTv = [\n",
    "    \"France 2\", \"France 3\", \"France 4\",\"France 5\",\"Franceinfo\",\n",
    "    \"BFMTV\", \"C8\", \"CStar\", \"Gulli\", \"Cnews\",\n",
    "    \"Canal+\", \"Planète+\", \"LCI\", \"Paris première\",\n",
    "    \"6ter\", \"Arte\", \"M6\", \"W9\",\n",
    "    \"TFX\", \"TMC\", \"NRJ12\", \"TF1\",\"La Chaîne parlementaire\",\n",
    "    \"Chérie 25\", \"RMC\"\n",
    "]\n",
    "chainesTv = [nomTV.lower().replace(\" \", \"\") for nomTV in chainesTv]\n",
    "\n",
    "print(len(chainesTv))\n",
    "print(chainesTv)"
   ]
  },
  {
   "cell_type": "code",
   "execution_count": null,
   "id": "7952b5b6",
   "metadata": {},
   "outputs": [],
   "source": [
    "videosF1 = openJson(\"../jsons/videosF1.json\")\n",
    "len(videosF1)"
   ]
  },
  {
   "cell_type": "code",
   "execution_count": null,
   "id": "bdb7ef51",
   "metadata": {},
   "outputs": [],
   "source": [
    "channels = openJson(\"../../collecting/jsons/channels.json\")\n",
    "def getChannelName(channelId):\n",
    "    for channel in channels:\n",
    "        if channel['id_chaine']==channelId:\n",
    "            return channel['nom_chaine'].lower().replace(\" \", \"\")"
   ]
  },
  {
   "cell_type": "code",
   "execution_count": null,
   "id": "2359fa91",
   "metadata": {},
   "outputs": [],
   "source": [
    "chainesTVCounter = Counter()\n",
    "videosChainesTV = []\n",
    "for video in videosF1:\n",
    "    channelName = getChannelName(video['id_chaine'])\n",
    "    for name in chainesTv:\n",
    "        if name in channelName:  \n",
    "            print(name,' ',channelName,' ',video['id_video'])\n",
    "            chainesTVCounter[name]+=1\n",
    "            videosChainesTV.append(video['id_video'])"
   ]
  },
  {
   "cell_type": "code",
   "execution_count": null,
   "id": "0897215d",
   "metadata": {},
   "outputs": [],
   "source": [
    "chainesTVCounter"
   ]
  },
  {
   "cell_type": "code",
   "execution_count": null,
   "id": "b34a2f35",
   "metadata": {},
   "outputs": [],
   "source": [
    "import matplotlib.pyplot as plt\n",
    "\n",
    "labels = list(chainesTVCounter.keys())\n",
    "sizes = list(chainesTVCounter.values())\n",
    "\n",
    "plt.figure(figsize=(10, 6))\n",
    "bars = plt.bar(labels, sizes, color='skyblue')\n",
    "\n",
    "plt.title(\"Répartition des vidéos des chaînes TV\", fontsize=14)\n",
    "plt.xlabel(\"Chaînes TV\", fontsize=12)\n",
    "plt.ylabel(\"Nombre de vidéos\", fontsize=12)\n",
    "plt.xticks(rotation=45, ha='right')\n",
    "\n",
    "total_videos_tv = sum(sizes)\n",
    "plt.text(len(labels) - 2, max(sizes) * 0.8, f\"Total : {total_videos_tv} vidéos\", fontsize=12, ha='center')\n",
    "plt.text(len(labels) - 2, max(sizes) * 0.74, \"4.62% d'ensemble des vidéos\", fontsize=12, ha='center')\n",
    "\n",
    "# Ajouter les nombres au-dessus des barres et les rendre en gras\n",
    "for bar in bars:\n",
    "    yval = bar.get_height()\n",
    "    plt.text(bar.get_x() + bar.get_width() / 2, yval + 1, f'{int(yval)}', ha='center', va='bottom', fontsize=12)\n",
    "\n",
    "plt.tight_layout()\n",
    "plt.show()\n"
   ]
  },
  {
   "cell_type": "code",
   "execution_count": null,
   "id": "7e073204",
   "metadata": {},
   "outputs": [],
   "source": [
    "(218/len(videosF1))*100"
   ]
  },
  {
   "cell_type": "markdown",
   "id": "d545f6db",
   "metadata": {},
   "source": [
    "### Creer videosF2.json"
   ]
  },
  {
   "cell_type": "code",
   "execution_count": null,
   "id": "ee1ccc2d",
   "metadata": {},
   "outputs": [],
   "source": [
    "videosChainesTV"
   ]
  },
  {
   "cell_type": "code",
   "execution_count": null,
   "id": "10a140c3",
   "metadata": {},
   "outputs": [],
   "source": [
    "len(videosChainesTV)"
   ]
  },
  {
   "cell_type": "code",
   "execution_count": null,
   "id": "b291bd8b",
   "metadata": {},
   "outputs": [],
   "source": [
    "videosF2 = []\n",
    "for video in videosF1:\n",
    "    if video['id_video'] not in videosChainesTV:\n",
    "        videosF2.append(video)\n",
    "saveJson(\"../jsons/videosF2.json\",videosF2)"
   ]
  },
  {
   "cell_type": "markdown",
   "id": "f8f067c2",
   "metadata": {},
   "source": [
    "verification"
   ]
  },
  {
   "cell_type": "code",
   "execution_count": null,
   "id": "59d7bd5d",
   "metadata": {},
   "outputs": [],
   "source": [
    "len(videosF1)-len(videosF2)"
   ]
  },
  {
   "cell_type": "code",
   "execution_count": null,
   "id": "5a279aed",
   "metadata": {},
   "outputs": [],
   "source": [
    "len(videosF1)"
   ]
  },
  {
   "cell_type": "markdown",
   "id": "208c175f",
   "metadata": {},
   "source": [
    "## Filtering 3"
   ]
  },
  {
   "cell_type": "markdown",
   "id": "197f44f5",
   "metadata": {},
   "source": [
    "### With Embedding model"
   ]
  },
  {
   "cell_type": "code",
   "execution_count": 10,
   "id": "2cbae660",
   "metadata": {},
   "outputs": [],
   "source": [
    "from sentence_transformers import SentenceTransformer\n",
    "\n",
    "model = SentenceTransformer(\"dangvantuan/sentence-camembert-base\")"
   ]
  },
  {
   "cell_type": "code",
   "execution_count": 11,
   "id": "f90b6c5c",
   "metadata": {},
   "outputs": [],
   "source": [
    "from sentence_transformers import util\n",
    "\n",
    "def calculateSimilarity(videoMD, documents):\n",
    "    embedding_video = model.encode([videoMD], convert_to_tensor=True, normalize_embeddings=True)\n",
    "    embeddings_documents = model.encode(documents, convert_to_tensor=True, normalize_embeddings=True)\n",
    "    scores = util.cos_sim(embedding_video, embeddings_documents)[0]\n",
    "    simScore = scores.mean().item()\n",
    "    return simScore\n"
   ]
  },
  {
   "cell_type": "code",
   "execution_count": 12,
   "id": "b040f0fc",
   "metadata": {},
   "outputs": [],
   "source": [
    "Vocabulary = openJson(\"../jsons/Voc.json\")\n",
    "\n",
    "def construire_phrases(mots_cles, taille=25):\n",
    "    phrases = []\n",
    "    for i in range(0, len(mots_cles), taille):\n",
    "        groupe = mots_cles[i:i+taille]\n",
    "        phrase = ' '.join(groupe)\n",
    "        phrases.append(phrase)\n",
    "    return phrases\n",
    "\n",
    "documents = construire_phrases(Vocabulary)"
   ]
  },
  {
   "cell_type": "code",
   "execution_count": null,
   "id": "67eeb21f",
   "metadata": {},
   "outputs": [],
   "source": [
    "print(len(documents))\n",
    "print(documents[7])"
   ]
  },
  {
   "cell_type": "code",
   "execution_count": 27,
   "id": "3b542f16",
   "metadata": {},
   "outputs": [
    {
     "data": {
      "text/plain": [
       "0.10253167897462845"
      ]
     },
     "execution_count": 27,
     "metadata": {},
     "output_type": "execute_result"
    }
   ],
   "source": [
    "requete = \"\"\"\n",
    "On a testé la cuisinière à bois... Vous connaissez?\n",
    "🙋‍♂️Et vous, vous êtes-vous déjà servi d'une cuisinière à bois? Avez-vous des conseils à nous donner pour garantir son utilisation et la sécurité inhérente à cet appareil ancestral? ❔\\n\\n➕La cuisinière à bois, c'était clairement un bonus qu'on n'avait mis dans nos préférences en visitant la maison. On connaissait certains de ses avantages, mais en l'utilisant pour la première fois, non seulement on a été conquis, mais cette expérience a révélé de nombreux points positifs qu'on ignorait. On vous raconte tout ça dans cette nouvelle vidéo! \\n\\n🙅‍♂️J'ai oublié d'évoquer un des avantages dans cette vidéo: PRENDRE LE TEMPS! C'est tellement bon de prendre plus de temps pour faire sensiblement la même chose!\\n\\n✍️On a hâte d'avoir vos retours. Depuis cette vidéo, on est retournés une fois à nos fourneaux pour fêter la Thanksgiving canadienne, et on a définitivement adopté ce nouveau compagnon de route! En plus de tous les avantages cités dans cette vidéo, c'est ultra convivial!\\n\\n😎 Si c'est votre première fois, bienvenue sur notre chaîne. Ici on va parler autonomie bien sûr, mais transition en général, que ce soit vers des nouveaux modes de consommation, vers d'autres manières de voyager, vers un vivre-ensemble qui a du sens. En famille ou sans, c'est pareil, on est dans le même bateau.\\n\\nBonne vidéo, merci de nous soutenir en vous abonnant et à très vite dans les commentaires!\\n\\n00:00 On n'y connaissait rien\\n01:12 On présente le four (avant utilisation)\\n02:55 Premier essai: Pain...\\n05:37 ... et plein d'autres trucs (on optimise)\\n06:54 On a adoré cette première expérience!\\n07:50 On déguste. Vous venez?\\n\\n( ͡❛ ᴗ ͡❛)✊ LA FAMILLE EN TRANSITION\\n\\n❤ Abonne-toi à la Chaîne pour ne rater aucune vidéo https://www.youtube.com/channel/UC2M77RNyW6O9JQhpj1-6GOA\\n✌ Laisse-nous un pouce bleu si la vidéo t'a plue\\n\\nContacte-nous à lafamilleentransition@gmail.com\",\n",
    " \"#lafamilleentransition\",\n",
    "      \"#LFET\",\n",
    "      \"#Florian Guéret\",\n",
    "      \"#Cuisinière à bois\",\n",
    "      \"#comment cuisiner avec une cuisinière à bois\",\n",
    "      \"#bois de chauffage\",\n",
    "      \"#cuisiner comme au bon vieux temps\",\n",
    "      \"#cuisiner à l'ancienne\",\n",
    "      \"#cuisine\",\n",
    "      \"#cuisiner au feu de bois\",\n",
    "      \"#cuisine moderne\",\n",
    "      \"#cuisine traditionnelle\",\n",
    "      \"#transition\",\n",
    "      \"#entransition\",\n",
    "      \"#la famille\",\n",
    "      \"#vlog famille\",\n",
    "      \"#vlog\",\n",
    "      \"#bretagne\",\n",
    "      \"#pontivy\",\n",
    "      \"#à l'abri de la pluie\",\n",
    "      \"#comment cuisiner du pain\",\n",
    "      \"#comment faire son pain en cocotte\",\n",
    "      \"#faire son pain en baguette\"\n",
    "\"\"\"\n",
    "\n",
    "\n",
    "calculateSimilarity(requete,contexte_autosuffisance)"
   ]
  },
  {
   "cell_type": "markdown",
   "id": "1a75ef40",
   "metadata": {},
   "source": [
    "#### Keywords VS Video Metadata"
   ]
  },
  {
   "cell_type": "code",
   "execution_count": null,
   "id": "07017dd0",
   "metadata": {},
   "outputs": [],
   "source": [
    "videosF2 = openJson(\"../jsons/videosF2.json\")\n",
    "\n",
    "scores = []\n",
    "for video in tqdm(videosF2):\n",
    "    context = video['titre_video'] + video['description'] + ' '.join(video['tags'])\n",
    "    score = calculateSimilarity(context,documents)\n",
    "    print(score,'  ',video['id_video'])\n",
    "    scores.append(\n",
    "        {\n",
    "            'id_video':video['id_video'],\n",
    "            'similarity':score\n",
    "        }\n",
    "    )\n",
    "\n",
    "saveJson(\"../jsons/keywordsVsMTD.json\",scores)"
   ]
  },
  {
   "cell_type": "markdown",
   "id": "3114f89e",
   "metadata": {},
   "source": [
    "- Analyzing"
   ]
  },
  {
   "cell_type": "code",
   "execution_count": 8,
   "metadata": {},
   "outputs": [
    {
     "data": {
      "text/plain": [
       "1100"
      ]
     },
     "execution_count": 8,
     "metadata": {},
     "output_type": "execute_result"
    }
   ],
   "source": [
    "keywordsVsMTD = openJson(\"../jsons/keywordsVsMTD.json\")\n",
    "len(keywordsVsMTD)"
   ]
  },
  {
   "cell_type": "code",
   "execution_count": 4,
   "id": "36edb7e6",
   "metadata": {},
   "outputs": [
    {
     "data": {
      "image/png": "[encoded data removed]",
      "text/plain": [
       "<Figure size 600x400 with 1 Axes>"
      ]
     },
     "metadata": {},
     "output_type": "display_data"
    }
   ],
   "source": [
    "import matplotlib.pyplot as plt\n",
    "import seaborn as sns\n",
    "\n",
    "similarites = [item[\"similarity\"] for item in keywordsVsMTD]\n",
    "\n",
    "plt.figure(figsize=(6, 4))\n",
    "sns.boxplot(y=similarites)\n",
    "plt.title('Répartition des Similarités')\n",
    "plt.ylabel('Score de Similarité')\n",
    "plt.grid(True)\n",
    "plt.show()\n"
   ]
  },
  {
   "cell_type": "code",
   "execution_count": 7,
   "id": "baf3a5a6",
   "metadata": {},
   "outputs": [
    {
     "data": {
      "text/plain": [
       "0.30013680393722925"
      ]
     },
     "execution_count": 7,
     "metadata": {},
     "output_type": "execute_result"
    }
   ],
   "source": [
    "sum_similarities = 0 \n",
    "for item in keywordsVsMTD :\n",
    "    sum_similarities+=item['similarity']\n",
    "    \n",
    "sum_similarities/len(keywordsVsMTD)"
   ]
  },
  {
   "cell_type": "code",
   "execution_count": 5,
   "id": "b4c74cdf",
   "metadata": {},
   "outputs": [
    {
     "name": "stdout",
     "output_type": "stream",
     "text": [
      "Nombre de vidéos avec similarité > 0.15 : 1039\n",
      "Pourcentage : 94.45%\n"
     ]
    }
   ],
   "source": [
    "similarites = [item[\"similarity\"] for item in keywordsVsMTD]\n",
    "\n",
    "nombre_total = len(similarites)\n",
    "nombre_sup_015 = sum(s > 0.15 for s in similarites)\n",
    "pourcentage_sup_015 = (nombre_sup_015 / nombre_total) * 100\n",
    "\n",
    "print(f\"Nombre de vidéos avec similarité > 0.15 : {nombre_sup_015}\")\n",
    "print(f\"Pourcentage : {pourcentage_sup_015:.2f}%\")\n"
   ]
  },
  {
   "cell_type": "code",
   "execution_count": 28,
   "id": "ee20e15e",
   "metadata": {},
   "outputs": [
    {
     "data": {
      "text/plain": [
       "1100"
      ]
     },
     "execution_count": 28,
     "metadata": {},
     "output_type": "execute_result"
    }
   ],
   "source": [
    "llmEvaluation = openJson(\"../jsons/llmEvaluation.json\")\n",
    "len(llmEvaluation)"
   ]
  },
  {
   "cell_type": "code",
   "execution_count": 33,
   "id": "f2a2ec48",
   "metadata": {},
   "outputs": [],
   "source": [
    "videos_sous_015 = [item for item in keywordsVsMTD if item[\"similarity\"] <= 0.15]\n",
    "videos_sous_015 = sorted(videos_sous_015, key=lambda x: x[\"similarity\"])\n",
    "\n",
    "videos_sur_015 = [item for item in keywordsVsMTD if item[\"similarity\"] > 0.15]\n",
    "videos_sur_015 = sorted(videos_sur_015, key=lambda x: x[\"similarity\"])"
   ]
  },
  {
   "cell_type": "code",
   "execution_count": 31,
   "id": "1c65d95b",
   "metadata": {},
   "outputs": [
    {
     "name": "stdout",
     "output_type": "stream",
     "text": [
      "{'id_video': 'Yc24O1r7FfU', 'similarity': 0.01691398024559021}\n",
      "{'id_video': 'Yc24O1r7FfU', 'decision': 'oui', 'justification': 'Le titre mentionne une méthode de fabrication de lessive à partir de cendre, ce qui est une technique permettant de subvenir à un besoin (laver son linge) de manière autonome.', 'score': 7}\n",
      "\n",
      "\n",
      "{'id_video': 'iaUboIY9X4Q', 'similarity': 0.016999468207359314}\n",
      "{'id_video': 'iaUboIY9X4Q', 'decision': 'oui', 'justification': \"Le titre suggère une production agricole importante, ce qui est un élément clé de l'autosuffisance alimentaire. Bien qu'il manque une description et des tags, le titre est suffisamment pertinent pour indiquer un lien avec la thématique.\", 'score': 6}\n",
      "\n",
      "\n",
      "{'id_video': 'qePUdJIw0Z4', 'similarity': 0.04405586048960686}\n",
      "{'id_video': 'qePUdJIw0Z4', 'decision': 'oui', 'justification': 'Le titre \"Habitat Résilient\" suggère une approche visant à créer un lieu de vie autonome et durable, ce qui est un aspect central de l\\'autosuffisance. Bien que la description soit très courte, l\\'association du titre avec le mot \"Présentation\" laisse entendre que la vidéo présentera des aspects liés à un habitat conçu pour l\\'autosuffisance, comme des techniques de construction écologiques ou des systèmes d\\'énergie renouvelable. L\\'absence de tags plus spécifiques est un point faible, mais le titre est suffisamment évocateur.', 'score': 7}\n",
      "\n",
      "\n",
      "{'id_video': 'KYHEJVVgxg8', 'similarity': 0.044674284756183624}\n",
      "{'id_video': 'KYHEJVVgxg8', 'decision': 'oui', 'justification': \"La vidéo traite de la possibilité de vivre en habitat mobile sur un terrain, ce qui est une composante de l'autosuffisance, notamment en termes de logement autonome et de choix de vie alternatifs. Les tags confirment cette orientation vers des modes de vie plus autonomes et moins dépendants des structures immobilières traditionnelles.\", 'score': 7}\n",
      "\n",
      "\n",
      "{'id_video': 'lSoWicUMVlM', 'similarity': 0.04827428609132767}\n",
      "{'id_video': 'lSoWicUMVlM', 'decision': 'oui', 'justification': \"La vidéo traite de l'utilisation d'une cuisinière à bois, un appareil ancien permettant de cuisiner en utilisant une ressource naturelle. Cela contribue à l'autonomie énergétique et alimentaire, en réduisant la dépendance aux systèmes modernes d'énergie et de cuisson. De plus, la description mentionne l'autonomie et la transition vers de nouveaux modes de consommation, ce qui est directement lié à la thématique de l'autosuffisance.\", 'score': 8}\n",
      "\n",
      "\n",
      "{'id_video': 'nNK2KRrjj1s', 'similarity': 0.06257562339305878}\n",
      "{'id_video': 'nNK2KRrjj1s', 'decision': 'oui', 'justification': \"Le titre mentionne la permaculture, qui est une technique de conception de systèmes agricoles et sociaux durables et autosuffisants. Cela suggère que la vidéo pourrait traiter de la création d'un environnement autosuffisant.\", 'score': 8}\n",
      "\n",
      "\n",
      "{'id_video': 'SrFPFZ14loQ', 'similarity': 0.0627913624048233}\n",
      "{'id_video': 'SrFPFZ14loQ', 'decision': 'oui', 'justification': \"Le titre mentionne une maison autonome, ce qui est directement lié à l'autosuffisance. Le concept de maison autonome implique de subvenir à ses propres besoins, ce qui est au cœur de la définition de l'autosuffisance.\", 'score': 9}\n",
      "\n",
      "\n",
      "{'id_video': 'SGslcr5UEwQ', 'similarity': 0.07229715585708618}\n",
      "{'id_video': 'SGslcr5UEwQ', 'decision': 'oui', 'justification': \"Le titre et les tags mentionnent l'autonomie et la production de pommes de terre, ce qui est directement lié à l'autosuffisance alimentaire. La description indique que la chaîne traite de jardinage et d'agriculture biologique, renforçant la pertinence.\", 'score': 9}\n",
      "\n",
      "\n",
      "{'id_video': 'ZYI5bSJK1tU', 'similarity': 0.0840480625629425}\n",
      "{'id_video': 'ZYI5bSJK1tU', 'decision': 'oui', 'justification': \"Le titre de la vidéo mentionne explicitement l'autosuffisance. Bien qu'il n'y ait pas de description ni de tags, le titre seul est suffisant pour indiquer que la vidéo traite de ce sujet.\", 'score': 7}\n",
      "\n",
      "\n",
      "{'id_video': '7pNeqTZuT7E', 'similarity': 0.08621447533369064}\n",
      "{'id_video': '7pNeqTZuT7E', 'decision': 'oui', 'justification': \"La vidéo décrit l'achat d'une BAD (Base Autonome Durable) et la visite des installations. Les tags incluent des termes liés à l'autonomie, l'autarcie et la survie, ce qui correspond à la thématique de l'autosuffisance.\", 'score': 8}\n",
      "\n",
      "\n",
      "{'id_video': 'e-UlGJIa6RI', 'similarity': 0.09039362519979477}\n",
      "{'id_video': 'e-UlGJIa6RI', 'decision': 'oui', 'justification': 'Le titre de la vidéo contient le mot-clé \"autonomie\", qui est fortement lié à l\\'autosuffisance. Bien que la description et les tags soient vides, le titre suggère un contenu pertinent.', 'score': 6}\n",
      "\n",
      "\n",
      "{'id_video': 'jhs5BvrlT88', 'similarity': 0.10129667818546295}\n",
      "{'id_video': 'jhs5BvrlT88', 'decision': 'oui', 'justification': \"La lessive à la cendre est une technique traditionnelle permettant de produire son propre produit de nettoyage, contribuant ainsi à l'autosuffisance en réduisant la dépendance aux produits commerciaux.\", 'score': 7}\n",
      "\n",
      "\n",
      "{'id_video': 'Npz3P9yABz8', 'similarity': 0.11031167209148407}\n",
      "{'id_video': 'Npz3P9yABz8', 'decision': 'oui', 'justification': \"La vidéo décrit une famille vivant dans une maison autonome (Earthship) en Dordogne. Le titre, la description et les tags mettent en évidence l'autonomie, l'écologie et la construction d'une habitation autonome, ce qui correspond parfaitement à la thématique de l'autosuffisance.\", 'score': 9}\n",
      "\n",
      "\n",
      "{'id_video': 'CpCFEaqU47E', 'similarity': 0.11215770244598389}\n",
      "{'id_video': 'CpCFEaqU47E', 'decision': 'oui', 'justification': \"La vidéo présente une autoconstruction écologique inspirée des maisons de Hobbit. L'autoconstruction est une démarche qui peut contribuer à l'autosuffisance en réduisant la dépendance au logement traditionnel et en favorisant l'utilisation de matériaux naturels et locaux.\", 'score': 7}\n",
      "\n",
      "\n",
      "{'id_video': 'ye7_V7-C5Hc', 'similarity': 0.11371544748544693}\n",
      "{'id_video': 'ye7_V7-C5Hc', 'decision': 'oui', 'justification': 'La vidéo présente une \"micro-maison\" ou \"tiny house\", une habitation légère et mobile construite avec des matériaux durables et ayant une empreinte environnementale réduite. Ce type d\\'habitation s\\'inscrit dans une démarche d\\'autonomie et de réduction de la dépendance au système économique et social extérieur, ce qui correspond à la définition de l\\'autosuffisance.', 'score': 8}\n",
      "\n",
      "\n",
      "{'id_video': 'vtPM40WibPA', 'similarity': 0.11439142376184464}\n",
      "{'id_video': 'vtPM40WibPA', 'decision': 'oui', 'justification': \"La vidéo parle de faire pousser de la salade dans l'espace, ce qui est lié à l'autonomie alimentaire et donc à l'autosuffisance, même dans un contexte extrême.\", 'score': 7}\n",
      "\n",
      "\n",
      "{'id_video': 'VJT2VzgLkkw', 'similarity': 0.11657208204269409}\n",
      "{'id_video': 'VJT2VzgLkkw', 'decision': 'oui', 'justification': 'Le titre de la vidéo mentionne une \"maison autonome\", ce qui est directement lié à l\\'autosuffisance. L\\'absence de description et de tags ne permet pas d\\'évaluer plus précisément le contenu, mais le titre seul justifie un intérêt.', 'score': 7}\n",
      "\n",
      "\n",
      "{'id_video': 'Z6il8lZvrZY', 'similarity': 0.11743080615997314}\n",
      "{'id_video': 'Z6il8lZvrZY', 'decision': 'oui', 'justification': \"Le titre suggère un choix de vie alternatif et une distance par rapport au système dominant, ce qui est cohérent avec la recherche d'autonomie et d'autosuffisance. Bien que la description et les tags soient manquants, le titre est suffisamment évocateur.\", 'score': 7}\n",
      "\n",
      "\n",
      "{'id_video': 'lDtaQw_T0rM', 'similarity': 0.11890161037445068}\n",
      "{'id_video': 'lDtaQw_T0rM', 'decision': 'oui', 'justification': \"Bien que la vidéo ne traite pas directement de la production de nourriture, elle présente un habitat flottant autonome qui pourrait être utilisé dans le cadre d'un mode de vie autosuffisant, notamment en offrant un espace pour cultiver de la nourriture ou collecter des ressources naturelles.\", 'score': 6}\n",
      "\n",
      "\n",
      "{'id_video': 'VZt9NBqKZHY', 'similarity': 0.12220096588134766}\n",
      "{'id_video': 'VZt9NBqKZHY', 'decision': 'oui', 'justification': 'Le titre mentionne explicitement \"autosuffisance\" et la description indique qu\\'il s\\'agit d\\'une nouvelle vie en Alaska, ce qui suggère un mode de vie potentiellement axé sur l\\'autosuffisance.', 'score': 8}\n",
      "\n",
      "\n",
      "{'id_video': 'x8NLEDvgESk', 'similarity': 0.12239329516887665}\n",
      "{'id_video': 'x8NLEDvgESk', 'decision': 'oui', 'justification': \"La vidéo porte sur une maison autoconstruite, ce qui est lié à l'autosuffisance en termes de logement. La description mentionne également un projet d'autonomie énergétique et alimentaire à long terme, ainsi que des vidéos sur le potager en permaculture et des installations pour tendre vers l'autonomie énergétique.  Bien que le titre puisse sembler axé sur la valeur financière de la maison, le contenu semble pertinent pour la thématique de l'autosuffisance.\", 'score': 7}\n",
      "\n",
      "\n",
      "{'id_video': 's9sHWgLEX9A', 'similarity': 0.12242940813302994}\n",
      "{'id_video': 's9sHWgLEX9A', 'decision': 'oui', 'justification': \"La description et les tags de la vidéo mentionnent des thèmes clés liés à l'autosuffisance tels que l'écologie, la nature, la permaculture, le potager et le changement de vie. L'idée d'un jardin nourricier est également un argument fort en faveur de la pertinence de la vidéo.\", 'score': 8}\n",
      "\n",
      "\n",
      "{'id_video': 'Z_YrUANhmOc', 'similarity': 0.12559697031974792}\n",
      "{'id_video': 'Z_YrUANhmOc', 'decision': 'oui', 'justification': \"La vidéo traite de l'autonomie énergétique des villes face au réchauffement climatique. Cela s'inscrit dans une démarche d'autosuffisance à une échelle plus large que l'individu, mais reste pertinent car cela concerne la capacité à subvenir à ses propres besoins (énergétiques en l'occurrence) sans dépendre excessivement de sources extérieures.\", 'score': 7}\n",
      "\n",
      "\n",
      "{'id_video': 'ptdvYZ7uO5w', 'similarity': 0.12603144347667694}\n",
      "{'id_video': 'ptdvYZ7uO5w', 'decision': 'oui', 'justification': \"La description mentionne des initiatives solidaires et le titre suggère un mode de vie alternatif, ce qui peut inclure des aspects d'autosuffisance. Un village alternatif peut explorer des solutions locales et communautaires pour répondre aux besoins, ce qui est pertinent pour l'autosuffisance.\", 'score': 6}\n",
      "\n",
      "\n",
      "{'id_video': 'jCFsMCbpeQU', 'similarity': 0.12653623521327972}\n",
      "{'id_video': 'jCFsMCbpeQU', 'decision': 'oui', 'justification': \"Le titre mentionne explicitement l'autonomie, ce qui est un synonyme d'autosuffisance. La description, bien que courte, suggère que la vidéo aborde des aspects pratiques liés à l'autonomie, probablement des travaux ou des projets concrets.\", 'score': 7}\n",
      "\n",
      "\n",
      "{'id_video': 'xxqlfsXfjn8', 'similarity': 0.126768559217453}\n",
      "{'id_video': 'xxqlfsXfjn8', 'decision': 'oui', 'justification': \"La description mentionne une maison qui fonctionne sans énergie et maintient une température constante, ce qui est lié à l'autosuffisance énergétique et à la réduction de la dépendance aux systèmes extérieurs.\", 'score': 7}\n",
      "\n",
      "\n",
      "{'id_video': 'e2gMKuiDxQY', 'similarity': 0.13378454744815826}\n",
      "{'id_video': 'e2gMKuiDxQY', 'decision': 'oui', 'justification': \"Le torchis est une technique de construction traditionnelle qui utilise des matériaux naturels et locaux, ce qui correspond à la démarche d'autosuffisance en réduisant la dépendance aux matériaux industriels et en favorisant l'utilisation de ressources locales. La vidéo est un DIY, donc un tutoriel, qui explique comment réaliser du torchis à l'ancienne, ce qui est pertinent pour l'autosuffisance en matière de construction.\", 'score': 7}\n",
      "\n",
      "\n",
      "{'id_video': 'RZem8E2Gp_0', 'similarity': 0.13689963519573212}\n",
      "{'id_video': 'RZem8E2Gp_0', 'decision': 'oui', 'justification': 'La vidéo décrit un couple qui quitte Paris pour s\\'installer à la campagne. Bien que le terme \"autosuffisance\" ne soit pas explicitement mentionné, le fait de \"quitter la grisaille parisienne\" et de \"déménager\" dans le \"monde rural\" suggère une recherche d\\'une vie plus autonome et potentiellement plus proche de la nature, ce qui est lié à la thématique de l\\'autosuffisance.', 'score': 6}\n",
      "\n",
      "\n",
      "{'id_video': 'hr_vD5fy8FA', 'similarity': 0.1371789276599884}\n",
      "{'id_video': 'hr_vD5fy8FA', 'decision': 'oui', 'justification': \"La vidéo présente une maison écologique construite par des particuliers, mettant en avant l'aspect économique, l'économie d'énergie, et la récupération d'eau de pluie pour le potager. Ces éléments sont en lien direct avec la recherche d'autonomie et la réduction de la dépendance au système extérieur, caractéristiques de l'autosuffisance.\", 'score': 8}\n",
      "\n",
      "\n",
      "{'id_video': 'yiWyqXgkCQ0', 'similarity': 0.1391844004392624}\n",
      "{'id_video': 'yiWyqXgkCQ0', 'decision': 'oui', 'justification': \"La vidéo traite de l'autonomie, de la réduction des factures et de l'utilisation d'énergies renouvelables, notamment l'énergie solaire. Elle aborde également la permaculture et l'autonomie alimentaire, ce qui correspond à la thématique de l'autosuffisance.\", 'score': 9}\n",
      "\n",
      "\n",
      "{'id_video': 'e3msYAj_6ic', 'similarity': 0.13933917880058289}\n",
      "{'id_video': 'e3msYAj_6ic', 'decision': 'oui', 'justification': \"La vidéo décrit le mode de vie d'une personne vivant en autonomie depuis 26 ans, incluant son jardin, son potager et son activité d'artisan coutelier. Les tags incluent des termes comme 'autonomie', 'autarcie', 'permaculture', et 'potager'. La description mentionne un mode de vie proche de l'autarcie.\", 'score': 10}\n",
      "\n",
      "\n",
      "{'id_video': 'HFBBxaCYO6Q', 'similarity': 0.14214842021465302}\n",
      "{'id_video': 'HFBBxaCYO6Q', 'decision': 'oui', 'justification': \"La vidéo décrit la création d'un écolieu, un lieu de vie basé sur l'autonomie et le partage, ce qui correspond à la thématique de l'autosuffisance. Les mots-clés #Écolieu et #Autonomie confirment également la pertinence.\", 'score': 9}\n",
      "\n",
      "\n",
      "{'id_video': 'HFBBxaCYO6Q', 'similarity': 0.14214842021465302}\n",
      "{'id_video': 'HFBBxaCYO6Q', 'decision': 'oui', 'justification': 'La vidéo décrit la création d\\'un écolieu, un lieu de vie axé sur l\\'autonomie et le partage, ce qui correspond à la thématique de l\\'autosuffisance. Les mots-clés \"Autonomie\" et \"Écovillage\" confirment la pertinence de la vidéo.', 'score': 9}\n",
      "\n",
      "\n",
      "{'id_video': 'b1iQuwUOttw', 'similarity': 0.1437789499759674}\n",
      "{'id_video': 'b1iQuwUOttw', 'decision': 'oui', 'justification': \"La vidéo présente un tutoriel DIY pour réaliser des tours Zip Grow, utilisées en aquaponie et hydroponie. Ces techniques contribuent à l'autosuffisance alimentaire en permettant de cultiver des aliments de manière autonome.\", 'score': 8}\n",
      "\n",
      "\n",
      "{'id_video': 'd5dXHazLMPw', 'similarity': 0.14451909065246582}\n",
      "{'id_video': 'd5dXHazLMPw', 'decision': 'oui', 'justification': \"La vidéo traite de la résistance face aux autorités pour vivre en habitats légers, ce qui est lié à la recherche d'autonomie et de modes de vie alternatifs, un aspect important de l'autosuffisance. Elle fournit des conseils et des stratégies pour défendre ce choix de vie.\", 'score': 7}\n",
      "\n",
      "\n",
      "{'id_video': 'XzD5byHxW68', 'similarity': 0.145072340965271}\n",
      "{'id_video': 'XzD5byHxW68', 'decision': 'oui', 'justification': \"La vidéo traite du bouturage d'un légume perpétuel, le chou de Daubenton, ce qui contribue à l'autosuffisance alimentaire en permettant de cultiver facilement et gratuitement ses propres légumes.\", 'score': 8}\n",
      "\n",
      "\n",
      "{'id_video': 'XwqZ2MV97aI', 'similarity': 0.14583203196525574}\n",
      "{'id_video': 'XwqZ2MV97aI', 'decision': 'oui', 'justification': \"La vidéo présente Auroville, une communauté qui ambitionne de vivre de manière autonome et indépendante du système traditionnel. Les thèmes abordés, tels que l'absence de nationalité, de politique, de religion et d'argent, suggèrent une recherche d'autosuffisance et d'alternatives au modèle de société dominant.\", 'score': 7}\n",
      "\n",
      "\n",
      "{'id_video': 'Panln2bGkxY', 'similarity': 0.14604859054088593}\n",
      "{'id_video': 'Panln2bGkxY', 'decision': 'oui', 'justification': \"Le titre et la description mentionnent explicitement l'autosuffisance et l'autonomie. Les tags confirment également la thématique.\", 'score': 9}\n",
      "\n",
      "\n",
      "{'id_video': '_3X3muyDFKY', 'similarity': 0.1463872194290161}\n",
      "{'id_video': '_3X3muyDFKY', 'decision': 'oui', 'justification': 'La vidéo présente une technique de préparation de saumon fumé \"maison\", ce qui peut être considéré comme une forme d\\'autosuffisance alimentaire. De plus, la chaîne est dédiée à l\\'autosuffisance et aborde des thèmes comme la permaculture et la vie à la campagne.', 'score': 8}\n",
      "\n",
      "\n",
      "{'id_video': 'rh6i_5WfBuE', 'similarity': 0.1474798172712326}\n",
      "{'id_video': 'rh6i_5WfBuE', 'decision': 'oui', 'justification': \"La vidéo traite de l'eau structurée, qui peut être pertinente pour l'autosuffisance en fournissant une source d'eau plus saine et potentiellement plus efficace. Bien que le titre et la description soient généraux, les tags indiquent clairement le sujet de la vidéo, ce qui justifie son inclusion dans la thématique de l'autosuffisance.\", 'score': 6}\n",
      "\n",
      "\n",
      "{'id_video': '1jpCwM3BtVg', 'similarity': 0.14752061665058136}\n",
      "{'id_video': '1jpCwM3BtVg', 'decision': 'oui', 'justification': \"La vidéo décrit une interview d'un expert en habitat autonome qui a autoconstruit une maison autonome en s'inspirant des concepts des Earthships. Le sujet de la vidéo est donc directement lié à l'autosuffisance.\", 'score': 9}\n",
      "\n",
      "\n",
      "{'id_video': 'nzNP7CI7v7M', 'similarity': 0.14762136340141296}\n",
      "{'id_video': 'nzNP7CI7v7M', 'decision': 'oui', 'justification': 'La vidéo décrit les travaux réalisés sur un Earthship, une maison écologique autonome. Les tags incluent \"maison autonome\", \"autoconstruction\", \"resilience\", et \"maison bioclimatique\", indiquant un lien fort avec l\\'autosuffisance.', 'score': 9}\n",
      "\n",
      "\n",
      "{'id_video': '8ldnXd65o1s', 'similarity': 0.14821341633796692}\n",
      "{'id_video': '8ldnXd65o1s', 'decision': 'oui', 'justification': 'La vidéo décrit une rencontre avec une personne qui a développé son autonomie, ce qui correspond à la définition de l\\'autosuffisance. Les tags \"Autonomie\" et \"Résilience\" confirment la pertinence de la vidéo par rapport à la thématique.', 'score': 9}\n",
      "\n",
      "\n",
      "{'id_video': 'Apcq7ggQTWU', 'similarity': 0.148664191365242}\n",
      "{'id_video': 'Apcq7ggQTWU', 'decision': 'oui', 'justification': 'Bien que les tags soient orientés cuisine, la description de la chaîne secondaire mentionne l\\'autonomie et le survivalisme. Le titre, \"comment faire du saumon fumé\", peut être pertinent dans un contexte d\\'autosuffisance alimentaire (conservation des aliments).', 'score': 6}\n",
      "\n",
      "\n"
     ]
    }
   ],
   "source": [
    "for v in videos_sous_015:\n",
    "    for Eval in llmEvaluation:\n",
    "        if Eval['id_video']==v['id_video'] and Eval['decision']=='oui':\n",
    "            print(v)\n",
    "            print(Eval)\n",
    "            print(\"\\n\")"
   ]
  },
  {
   "cell_type": "code",
   "execution_count": 34,
   "id": "40588004",
   "metadata": {},
   "outputs": [
    {
     "name": "stdout",
     "output_type": "stream",
     "text": [
      "{'id_video': 'CDBkv2Az8RY', 'similarity': 0.1502985656261444}\n",
      "{'id_video': 'CDBkv2Az8RY', 'decision': 'non', 'justification': \"La vidéo parle de l'autonomie des jeunes handicapés, ce qui est différent de l'autosuffisance (qui se concentre sur la capacité à subvenir à ses besoins fondamentaux par soi-même, notamment alimentaires).\", 'score': 2}\n",
      "\n",
      "\n",
      "{'id_video': '6LEvKg8qKao', 'similarity': 0.15943597257137299}\n",
      "{'id_video': '6LEvKg8qKao', 'decision': 'non', 'justification': 'La vidéo traite du financement de l\\'autonomie des retraités, un sujet lié à la politique et au financement de la dépendance, mais pas directement à l\\'autosuffisance telle que définie (production de sa propre nourriture, réduction de la dépendance au système économique). Le terme \"autonomie\" est utilisé ici dans un sens différent.', 'score': 2}\n",
      "\n",
      "\n",
      "{'id_video': 'BMuf64URw5E', 'similarity': 0.1608438789844513}\n",
      "{'id_video': 'BMuf64URw5E', 'decision': 'non', 'justification': \"La vidéo semble être une présentation d'une campagne scientifique sous-marine. Bien qu'intéressante, elle n'a aucun lien direct avec l'autosuffisance telle que définie.\", 'score': 1}\n",
      "\n",
      "\n",
      "{'id_video': 'Xm2oot3MaSc', 'similarity': 0.1624375879764557}\n",
      "{'id_video': 'Xm2oot3MaSc', 'decision': 'non', 'justification': \"La vidéo décrit la plantation d'une micro forêt Miyawaki. Bien que la plantation d'arbres puisse contribuer à l'environnement, elle ne relève pas directement de l'autosuffisance alimentaire ou de la réduction de la dépendance au système économique et social. Les tags sont généraux et ne mentionnent pas l'autosuffisance.\", 'score': 2}\n",
      "\n",
      "\n",
      "{'id_video': 'kGvWR6cAFg4', 'similarity': 0.16425389051437378}\n",
      "{'id_video': 'kGvWR6cAFg4', 'decision': 'non', 'justification': \"La vidéo traite de l'adaptabilité des bâtiments face au changement climatique et au vieillissement de la population. Bien que cela puisse indirectement impacter la manière dont on conçoit l'habitat, le contenu ne se concentre pas sur les aspects pratiques de l'autosuffisance (production alimentaire, gestion des ressources, etc.).\", 'score': 2}\n",
      "\n",
      "\n",
      "{'id_video': 'lspeei6_c1o', 'similarity': 0.16758760809898376}\n",
      "{'id_video': 'lspeei6_c1o', 'decision': 'non', 'justification': \"La vidéo décrit la fabrication et le fonctionnement d'une fontaine perpétuelle, qui est un projet scientifique ludique. Bien que cela puisse potentiellement être lié à un système d'autosuffisance en eau dans un contexte plus large, la description et les tags se concentrent principalement sur l'aspect scientifique et éducatif de la fontaine plutôt que sur son application pratique à l'autosuffisance. Il n'y a aucune mention de l'utilisation de la fontaine dans un but d'autosuffisance.\", 'score': 2}\n",
      "\n",
      "\n",
      "{'id_video': '1c3AV5X1exg', 'similarity': 0.16819684207439423}\n",
      "{'id_video': '1c3AV5X1exg', 'decision': 'non', 'justification': 'La vidéo traite d\\'une taxe sur les revenus du capital pour financer l\\'autonomie (prise en charge des personnes âgées). Bien que le mot \"autonomie\" soit présent, il s\\'agit d\\'autonomie financière au niveau social et non d\\'autosuffisance au niveau individuel (production de nourriture, etc.). La vidéo ne correspond pas à la définition d\\'autosuffisance.', 'score': 2}\n",
      "\n",
      "\n",
      "{'id_video': 'bWgOk2dzDug', 'similarity': 0.17402228713035583}\n",
      "{'id_video': 'bWgOk2dzDug', 'decision': 'non', 'justification': 'La vidéo semble promouvoir une entreprise qui fabrique des ascenseurs pour les maisons, en particulier pour les personnes âgées. Bien qu\\'elle mentionne un \"habitat autonome et durable\", le focus principal est sur la fabrication et l\\'installation d\\'ascenseurs, et non sur les aspects de l\\'autosuffisance tels que la production alimentaire, la permaculture, ou la réduction de la dépendance au système économique extérieur.', 'score': 3}\n",
      "\n",
      "\n",
      "{'id_video': 'doE7K4miGN8', 'similarity': 0.18030989170074463}\n",
      "{'id_video': 'doE7K4miGN8', 'decision': 'non', 'justification': 'La vidéo semble traiter de l\\'habitat durable et de la construction écologique, ce qui est lié à l\\'autosuffisance, mais pas directement. Le titre mentionne \"Zéro Carbone dans l\\'habitat\", ce qui suggère un focus sur l\\'impact environnemental du logement plutôt que sur la production de ressources ou la réduction de la dépendance au système économique. Les intervenants semblent être des experts dans le domaine de la construction durable. L\\'autosuffisance implique plus que la réduction de l\\'empreinte carbone d\\'un habitat.', 'score': 3}\n",
      "\n",
      "\n",
      "{'id_video': 'pnD2v5lLT0o', 'similarity': 0.18382926285266876}\n",
      "{'id_video': 'pnD2v5lLT0o', 'decision': 'non', 'justification': \"La vidéo présente un tracteur électrique utilisé dans la logistique. Bien que cela puisse contribuer à une logistique plus durable, ce n'est pas directement lié à la production de nourriture ou à la réduction de la dépendance au système économique et social, qui sont des aspects centraux de l'autosuffisance.\", 'score': 2}\n",
      "\n",
      "\n",
      "{'id_video': 'JMDYrLQQZ5s', 'similarity': 0.19237956404685974}\n",
      "{'id_video': 'JMDYrLQQZ5s', 'decision': 'non', 'justification': \"La vidéo traite des changements climatiques et de leur impact sur une espèce animale. Bien que le changement climatique puisse être une motivation pour l'autosuffisance, la vidéo elle-même ne traite pas directement de ce sujet.\", 'score': 2}\n",
      "\n",
      "\n",
      "{'id_video': 'SofzCFGsp28', 'similarity': 0.1969488561153412}\n",
      "{'id_video': 'SofzCFGsp28', 'decision': 'non', 'justification': \"La vidéo présente une ferme avec chambres et tables d'hôtes à vendre. Bien que la vie à la ferme puisse être associée à l'autosuffisance, le but principal de la vidéo est de promouvoir la vente de la propriété, et non de présenter des pratiques d'autosuffisance.\", 'score': 2}\n",
      "\n",
      "\n",
      "{'id_video': 'jOfIx3VegOE', 'similarity': 0.20742538571357727}\n",
      "{'id_video': 'jOfIx3VegOE', 'decision': 'non', 'justification': \"La vidéo semble concerner la valorisation des cendres industrielles pour l'agriculture, ce qui peut avoir un lien indirect avec l'autosuffisance (amélioration des sols), mais ce n'est pas le sujet principal. Le focus est sur la gestion des déchets industriels et l'épandage agricole, pas sur la production autonome de nourriture.\", 'score': 3}\n",
      "\n",
      "\n",
      "{'id_video': 'Ywjn3ZjFL-Q', 'similarity': 0.2077063024044037}\n",
      "{'id_video': 'Ywjn3ZjFL-Q', 'decision': 'non', 'justification': \"La vidéo concerne la randonnée en semi-autonomie sur le GR20. Bien que l'autonomie soit un aspect de l'autosuffisance, le focus principal est sur l'équipement et l'itinéraire de randonnée, pas sur la production de nourriture ou la réduction de la dépendance au système économique et social.\", 'score': 3}\n",
      "\n",
      "\n",
      "{'id_video': 'cxpt9QTgc5w', 'similarity': 0.20870497822761536}\n",
      "{'id_video': 'cxpt9QTgc5w', 'decision': 'non', 'justification': \"La vidéo décrit une initiative de recyclage du marc de café, ce qui est une pratique durable mais ne relève pas directement de l'autosuffisance alimentaire ou de la réduction de la dépendance au système économique personnel. Bien que cela contribue à une économie circulaire, l'objectif principal n'est pas de produire sa propre nourriture ou de devenir plus autonome.\", 'score': 3}\n",
      "\n",
      "\n",
      "{'id_video': 'J9yQZcdkIH8', 'similarity': 0.21582236886024475}\n",
      "{'id_video': 'J9yQZcdkIH8', 'decision': 'non', 'justification': \"La description mentionne une ferme géante au Brésil, mais ne précise pas si elle est orientée vers l'autosuffisance, l'autoconsommation, ou des pratiques biologiques. Bien que la ferme soit présentée comme respectueuse de l'environnement, le gigantisme de l'exploitation suggère une approche plus industrielle que d'autosuffisance.\", 'score': 3}\n",
      "\n",
      "\n",
      "{'id_video': 'J9yQZcdkIH8', 'similarity': 0.21582236886024475}\n",
      "{'id_video': 'J9yQZcdkIH8', 'decision': 'non', 'justification': \"Bien que la vidéo parle d'une ferme, l'échelle industrielle mentionnée (100 000 hectares) et l'absence d'éléments liés à l'autoconsommation, à la permaculture ou à une démarche d'autonomie individuelle indiquent que ce n'est pas lié à l'autosuffisance. L'accent est mis sur la taille et l'aspect environnemental, et non sur la réduction de la dépendance au système économique extérieur.\", 'score': 2}\n",
      "\n",
      "\n",
      "{'id_video': 'xyOThYaeP7Q', 'similarity': 0.22191984951496124}\n",
      "{'id_video': 'xyOThYaeP7Q', 'decision': 'non', 'justification': \"La vidéo décrit la simulation d'une forêt et son évolution, mais ne présente pas d'aspects liés à la production de nourriture, à l'autonomie matérielle, ou à la réduction de la dépendance au système économique et social. Elle ne relève donc pas directement de l'autosuffisance.\", 'score': 2}\n",
      "\n",
      "\n",
      "{'id_video': 'pzLlUbeRpkU', 'similarity': 0.2256837785243988}\n",
      "{'id_video': 'pzLlUbeRpkU', 'decision': 'non', 'justification': \"La vidéo décrit une technique pour la mise en eau d'un plancher chauffant. Bien que cela puisse contribuer au confort d'une habitation, ce n'est pas directement lié à la production de nourriture ou à la réduction de la dépendance au système économique et social extérieur, qui sont les piliers de l'autosuffisance.\", 'score': 2}\n",
      "\n",
      "\n",
      "{'id_video': '5nvExzbNXoY', 'similarity': 0.22844040393829346}\n",
      "{'id_video': '5nvExzbNXoY', 'decision': 'non', 'justification': \"La vidéo traite de la valorisation de l'azote dans les eaux usées, ce qui est lié au recyclage des nutriments. Bien que cela puisse contribuer à une agriculture plus durable, le sujet principal n'est pas directement lié à la production de nourriture pour l'autoconsommation ou à la réduction de la dépendance au système économique extérieur.\", 'score': 2}\n",
      "\n",
      "\n",
      "{'id_video': 'sJGZIAdyaRI', 'similarity': 0.23402783274650574}\n",
      "{'id_video': 'sJGZIAdyaRI', 'decision': 'non', 'justification': \"Bien que la vidéo traite du réchauffement climatique et des efforts des Français pour changer leurs habitudes, elle ne se concentre pas spécifiquement sur l'autosuffisance, l'autoconsommation ou les techniques associées. Le titre et la description sont trop généraux.\", 'score': 2}\n",
      "\n",
      "\n",
      "{'id_video': '9giIzWhP8zI', 'similarity': 0.23916630446910858}\n",
      "{'id_video': '9giIzWhP8zI', 'decision': 'non', 'justification': \"La vidéo traite de l'entretien et de la réparation d'un système solaire thermique pour la production d'eau chaude ou de chauffage. Bien que cela puisse contribuer à une certaine forme d'autonomie énergétique, le contenu ne se concentre pas sur la production de nourriture, la permaculture, ou d'autres aspects clés de l'autosuffisance alimentaire ou matérielle. Le sujet principal est l'optimisation d'une installation existante, et non la création d'un système autonome.\", 'score': 3}\n",
      "\n",
      "\n",
      "{'id_video': '9giIzWhP8zI', 'similarity': 0.23916630446910858}\n",
      "{'id_video': '9giIzWhP8zI', 'decision': 'non', 'justification': \"La vidéo traite de l'entretien et de la réparation d'un système solaire thermique pour la production d'eau chaude ou de chauffage. Bien que cela puisse contribuer à une certaine autonomie énergétique, le sujet principal n'est pas directement lié à l'autosuffisance alimentaire ou à la réduction de la dépendance au système économique et social au sens large tel que défini. La vidéo se concentre davantage sur l'efficacité énergétique et la maintenance technique.\", 'score': 3}\n",
      "\n",
      "\n",
      "{'id_video': '52B-ewzWROY', 'similarity': 0.24198539555072784}\n",
      "{'id_video': '52B-ewzWROY', 'decision': 'non', 'justification': \"La vidéo décrit le comportement social des fourmis rousses et leur rôle dans l'écosystème. Bien que les fourmis contribuent à l'équilibre écologique, la vidéo ne traite pas directement de l'autosuffisance humaine, de techniques de production alimentaire ou de réduction de la dépendance au système économique.\", 'score': 1}\n",
      "\n",
      "\n",
      "{'id_video': 'RmN529MFKpU', 'similarity': 0.2499293088912964}\n",
      "{'id_video': 'RmN529MFKpU', 'decision': 'non', 'justification': \"La vidéo traite de la dynamisation de l'eau et de la purification de l'eau, ce qui n'est pas directement lié à l'autosuffisance. Bien que l'accès à une eau de qualité soit important, le sujet principal n'est pas centré sur la production de ressources essentielles par soi-même.\", 'score': 2}\n",
      "\n",
      "\n",
      "{'id_video': 'b6jWmnORmwM', 'similarity': 0.2510215640068054}\n",
      "{'id_video': 'b6jWmnORmwM', 'decision': 'non', 'justification': \"La vidéo décrit les difficultés d'un éleveur face à la sécheresse. Bien que l'élevage puisse être une composante de l'autosuffisance, la vidéo se concentre sur les problèmes économiques et les défis posés par les conditions climatiques, et non sur des solutions ou des pratiques liées à l'autosuffisance. Le sujet principal est la vulnérabilité face aux facteurs externes, ce qui est l'opposé de l'autosuffisance.\", 'score': 2}\n",
      "\n",
      "\n",
      "{'id_video': 'nmapTAJcA4E', 'similarity': 0.25198614597320557}\n",
      "{'id_video': 'nmapTAJcA4E', 'decision': 'non', 'justification': \"La vidéo semble concerner l'élevage de poulets, ce qui peut être lié à l'autosuffisance alimentaire. Cependant, le titre et la description sont très spécifiques au chauffage des poussins et ne mentionnent pas directement l'autosuffisance. Il s'agit plus d'un aspect technique de l'élevage.\", 'score': 4}\n",
      "\n",
      "\n",
      "{'id_video': 'U6dJ6AJVI8U', 'similarity': 0.2546618580818176}\n",
      "{'id_video': 'U6dJ6AJVI8U', 'decision': 'non', 'justification': \"La vidéo parle du recyclage du marc de café par une entreprise de nettoyage. Bien que le recyclage soit une pratique durable, la vidéo ne se concentre pas sur l'autosuffisance individuelle ou communautaire. Elle met en avant une initiative d'entreprise.\", 'score': 2}\n",
      "\n",
      "\n",
      "{'id_video': 'NRVsgoI8kBM', 'similarity': 0.2574109435081482}\n",
      "{'id_video': 'NRVsgoI8kBM', 'decision': 'non', 'justification': \"Bien que la description mentionne l'autonomie alimentaire nationale, le sujet principal de la vidéo est l'agriculture française et le régime paléo. Il ne s'agit pas directement de techniques ou de partages d'expériences liés à l'autosuffisance individuelle.\", 'score': 3}\n",
      "\n",
      "\n",
      "{'id_video': 'uPIyZCw-Odk', 'similarity': 0.3045061230659485}\n",
      "{'id_video': 'uPIyZCw-Odk', 'decision': 'non', 'justification': \"La vidéo décrit un distributeur automatique de nourriture et d'eau pour rongeurs. Bien que cela puisse réduire la fréquence à laquelle une personne doit s'occuper de son animal, cela n'est pas directement lié à la production de nourriture ou à la réduction de la dépendance au système économique et social, qui sont des aspects centraux de l'autosuffisance.\", 'score': 2}\n",
      "\n",
      "\n",
      "{'id_video': '8waoAttTffY', 'similarity': 0.31291523575782776}\n",
      "{'id_video': '8waoAttTffY', 'decision': 'non', 'justification': \"La vidéo semble promouvoir un système de filtration d'eau. Bien que l'accès à l'eau soit un besoin fondamental, la vidéo ne traite pas directement de la production ou de la gestion autonome des ressources, ni d'une démarche globale d'autosuffisance.\", 'score': 2}\n",
      "\n",
      "\n",
      "{'id_video': 'ophO6Om8EDU', 'similarity': 0.31872421503067017}\n",
      "{'id_video': 'ophO6Om8EDU', 'decision': 'non', 'justification': \"La vidéo décrit la création d'un écosystème désertique miniature. Bien que cela puisse impliquer une certaine forme d'autonomie pour cet écosystème, elle ne correspond pas directement à l'autosuffisance humaine telle que définie (production de nourriture, réduction de la dépendance au système économique).\", 'score': 2}\n",
      "\n",
      "\n",
      "{'id_video': 'pUsYsHfdgtc', 'similarity': 0.34426793456077576}\n",
      "{'id_video': 'pUsYsHfdgtc', 'decision': 'non', 'justification': \"La vidéo présente un tracteur autonome. Bien que l'automatisation puisse contribuer à l'efficacité agricole, la vidéo ne se concentre pas directement sur l'autosuffisance, l'autoconsommation, ou les méthodes de production alimentaire à petite échelle. Elle semble plutôt axée sur la technologie agricole à grande échelle.\", 'score': 2}\n",
      "\n",
      "\n",
      "{'id_video': '6ZDmDWITp9I', 'similarity': 0.3456891179084778}\n",
      "{'id_video': '6ZDmDWITp9I', 'decision': 'non', 'justification': \"La vidéo aborde l'optimisation de l'azote dans les systèmes agricoles, ce qui peut contribuer à une agriculture plus durable, mais ne se concentre pas directement sur l'autosuffisance alimentaire ou la réduction de la dépendance au système économique extérieur. Elle semble plus axée sur l'efficacité agricole et la réduction de l'impact environnemental.\", 'score': 3}\n",
      "\n",
      "\n",
      "{'id_video': 'zakYfUoo7fg', 'similarity': 0.35787028074264526}\n",
      "{'id_video': 'zakYfUoo7fg', 'decision': 'non', 'justification': \"La vidéo décrit une initiative d'économie circulaire en entreprise, axée sur la collecte de marc de café pour la culture de pleurotes. Bien que cela puisse s'inscrire dans une démarche de développement durable, elle ne touche pas directement à l'autosuffisance alimentaire ou à la réduction de la dépendance au système économique personnel, tel que défini dans la description de l'autosuffisance.\", 'score': 3}\n",
      "\n",
      "\n",
      "{'id_video': 'gFy9fwQwT30', 'similarity': 0.359218031167984}\n",
      "{'id_video': 'gFy9fwQwT30', 'decision': 'non', 'justification': \"La vidéo traite de la fertilisation du maïs, ce qui est un aspect de l'agriculture, mais pas nécessairement lié à l'autosuffisance. L'autosuffisance implique une démarche plus large visant à produire sa propre nourriture et à réduire sa dépendance au système économique extérieur.\", 'score': 3}\n",
      "\n",
      "\n",
      "{'id_video': 'qppDyOgwygI', 'similarity': 0.4151611924171448}\n",
      "{'id_video': 'qppDyOgwygI', 'decision': 'non', 'justification': \"La vidéo décrit les pratiques agricoles intensives et les problèmes environnementaux liés à la production de légumes en Andalousie. Bien que cela puisse sensibiliser aux enjeux de la production alimentaire, elle ne traite pas directement de l'autosuffisance, qui vise à produire sa propre nourriture de manière autonome et durable.\", 'score': 2}\n",
      "\n",
      "\n"
     ]
    }
   ],
   "source": [
    "for v in videos_sur_015:\n",
    "    for Eval in llmEvaluation:\n",
    "        if Eval['id_video']==v['id_video'] and Eval['decision']=='non':\n",
    "            print(v)\n",
    "            print(Eval)\n",
    "            print(\"\\n\")"
   ]
  },
  {
   "cell_type": "code",
   "execution_count": 32,
   "metadata": {},
   "outputs": [
    {
     "name": "stdout",
     "output_type": "stream",
     "text": [
      "ID vidéo: Yc24O1r7FfU - Similarité: 0.0169\n",
      "ID vidéo: iaUboIY9X4Q - Similarité: 0.0170\n",
      "ID vidéo: wL_7d-gH7ek - Similarité: 0.0231\n",
      "ID vidéo: 7xPUcKSaU-k - Similarité: 0.0254\n",
      "ID vidéo: qePUdJIw0Z4 - Similarité: 0.0441\n",
      "ID vidéo: KYHEJVVgxg8 - Similarité: 0.0447\n",
      "ID vidéo: lSoWicUMVlM - Similarité: 0.0483\n",
      "ID vidéo: nNK2KRrjj1s - Similarité: 0.0626\n",
      "ID vidéo: SrFPFZ14loQ - Similarité: 0.0628\n",
      "ID vidéo: uIib2jT2r3w - Similarité: 0.0688\n",
      "ID vidéo: SGslcr5UEwQ - Similarité: 0.0723\n",
      "ID vidéo: p7P39qBv9J4 - Similarité: 0.0743\n",
      "ID vidéo: 8SW7OsOWlRY - Similarité: 0.0766\n",
      "ID vidéo: De1X6ThCx9k - Similarité: 0.0802\n",
      "ID vidéo: ZYI5bSJK1tU - Similarité: 0.0840\n",
      "ID vidéo: 7pNeqTZuT7E - Similarité: 0.0862\n",
      "ID vidéo: e-UlGJIa6RI - Similarité: 0.0904\n",
      "ID vidéo: jhs5BvrlT88 - Similarité: 0.1013\n",
      "ID vidéo: 7JIDkOO9PP0 - Similarité: 0.1028\n",
      "ID vidéo: 2grH3e2-LxA - Similarité: 0.1060\n",
      "ID vidéo: iDIIKfmqNZ8 - Similarité: 0.1102\n",
      "ID vidéo: Npz3P9yABz8 - Similarité: 0.1103\n",
      "ID vidéo: CpCFEaqU47E - Similarité: 0.1122\n",
      "ID vidéo: ye7_V7-C5Hc - Similarité: 0.1137\n",
      "ID vidéo: QCcYN8qIOAI - Similarité: 0.1141\n",
      "ID vidéo: vtPM40WibPA - Similarité: 0.1144\n",
      "ID vidéo: 4ZEEHqsGhRY - Similarité: 0.1150\n",
      "ID vidéo: N25RH8ttBdY - Similarité: 0.1161\n",
      "ID vidéo: VJT2VzgLkkw - Similarité: 0.1166\n",
      "ID vidéo: Z6il8lZvrZY - Similarité: 0.1174\n",
      "ID vidéo: lDtaQw_T0rM - Similarité: 0.1189\n",
      "ID vidéo: l-3ekLSsDmY - Similarité: 0.1207\n",
      "ID vidéo: VZt9NBqKZHY - Similarité: 0.1222\n",
      "ID vidéo: x8NLEDvgESk - Similarité: 0.1224\n",
      "ID vidéo: s9sHWgLEX9A - Similarité: 0.1224\n",
      "ID vidéo: Z_YrUANhmOc - Similarité: 0.1256\n",
      "ID vidéo: ptdvYZ7uO5w - Similarité: 0.1260\n",
      "ID vidéo: jCFsMCbpeQU - Similarité: 0.1265\n",
      "ID vidéo: xxqlfsXfjn8 - Similarité: 0.1268\n",
      "ID vidéo: e2gMKuiDxQY - Similarité: 0.1338\n",
      "ID vidéo: dbaNB7-_JKY - Similarité: 0.1340\n",
      "ID vidéo: X3A2Wfqcoko - Similarité: 0.1344\n",
      "ID vidéo: RZem8E2Gp_0 - Similarité: 0.1369\n",
      "ID vidéo: hr_vD5fy8FA - Similarité: 0.1372\n",
      "ID vidéo: iCDYAunYQFA - Similarité: 0.1391\n",
      "ID vidéo: yiWyqXgkCQ0 - Similarité: 0.1392\n",
      "ID vidéo: e3msYAj_6ic - Similarité: 0.1393\n",
      "ID vidéo: HFBBxaCYO6Q - Similarité: 0.1421\n",
      "ID vidéo: sRrrObKA9k8 - Similarité: 0.1426\n",
      "ID vidéo: b1iQuwUOttw - Similarité: 0.1438\n",
      "ID vidéo: xwZ6U6wwrlU - Similarité: 0.1439\n",
      "ID vidéo: d5dXHazLMPw - Similarité: 0.1445\n",
      "ID vidéo: XzD5byHxW68 - Similarité: 0.1451\n",
      "ID vidéo: XwqZ2MV97aI - Similarité: 0.1458\n",
      "ID vidéo: Panln2bGkxY - Similarité: 0.1460\n",
      "ID vidéo: _3X3muyDFKY - Similarité: 0.1464\n",
      "ID vidéo: rh6i_5WfBuE - Similarité: 0.1475\n",
      "ID vidéo: 1jpCwM3BtVg - Similarité: 0.1475\n",
      "ID vidéo: nzNP7CI7v7M - Similarité: 0.1476\n",
      "ID vidéo: 8ldnXd65o1s - Similarité: 0.1482\n",
      "ID vidéo: Apcq7ggQTWU - Similarité: 0.1487\n",
      "ID vidéo: lSoWicUMVlM - Similarité: 0.0483\n",
      "ID vidéo: e2gMKuiDxQY - Similarité: 0.1338\n",
      "ID vidéo: _3X3muyDFKY - Similarité: 0.1464\n",
      "ID vidéo: hr_vD5fy8FA - Similarité: 0.1372\n",
      "ID vidéo: x8NLEDvgESk - Similarité: 0.1224\n",
      "ID vidéo: SGslcr5UEwQ - Similarité: 0.0723\n",
      "ID vidéo: De1X6ThCx9k - Similarité: 0.0802\n",
      "ID vidéo: jhs5BvrlT88 - Similarité: 0.1013\n",
      "ID vidéo: ZYI5bSJK1tU - Similarité: 0.0840\n",
      "ID vidéo: iCDYAunYQFA - Similarité: 0.1391\n",
      "ID vidéo: X3A2Wfqcoko - Similarité: 0.1344\n",
      "ID vidéo: XzD5byHxW68 - Similarité: 0.1451\n",
      "ID vidéo: nzNP7CI7v7M - Similarité: 0.1476\n",
      "ID vidéo: Apcq7ggQTWU - Similarité: 0.1487\n",
      "ID vidéo: e3msYAj_6ic - Similarité: 0.1393\n",
      "ID vidéo: Npz3P9yABz8 - Similarité: 0.1103\n",
      "ID vidéo: Yc24O1r7FfU - Similarité: 0.0169\n",
      "ID vidéo: sRrrObKA9k8 - Similarité: 0.1426\n",
      "ID vidéo: jCFsMCbpeQU - Similarité: 0.1265\n",
      "ID vidéo: Z_YrUANhmOc - Similarité: 0.1256\n",
      "ID vidéo: l-3ekLSsDmY - Similarité: 0.1207\n",
      "ID vidéo: 7JIDkOO9PP0 - Similarité: 0.1028\n",
      "ID vidéo: uIib2jT2r3w - Similarité: 0.0688\n",
      "ID vidéo: yiWyqXgkCQ0 - Similarité: 0.1392\n",
      "ID vidéo: 8ldnXd65o1s - Similarité: 0.1482\n",
      "ID vidéo: QCcYN8qIOAI - Similarité: 0.1141\n",
      "ID vidéo: b1iQuwUOttw - Similarité: 0.1438\n",
      "ID vidéo: Z6il8lZvrZY - Similarité: 0.1174\n",
      "ID vidéo: VZt9NBqKZHY - Similarité: 0.1222\n",
      "ID vidéo: 8SW7OsOWlRY - Similarité: 0.0766\n",
      "ID vidéo: Panln2bGkxY - Similarité: 0.1460\n",
      "ID vidéo: 2grH3e2-LxA - Similarité: 0.1060\n",
      "ID vidéo: dbaNB7-_JKY - Similarité: 0.1340\n",
      "ID vidéo: XwqZ2MV97aI - Similarité: 0.1458\n",
      "ID vidéo: ptdvYZ7uO5w - Similarité: 0.1260\n",
      "ID vidéo: nNK2KRrjj1s - Similarité: 0.0626\n",
      "ID vidéo: iaUboIY9X4Q - Similarité: 0.0170\n",
      "ID vidéo: rh6i_5WfBuE - Similarité: 0.1475\n",
      "ID vidéo: RZem8E2Gp_0 - Similarité: 0.1369\n",
      "ID vidéo: iDIIKfmqNZ8 - Similarité: 0.1102\n",
      "ID vidéo: s9sHWgLEX9A - Similarité: 0.1224\n",
      "ID vidéo: e-UlGJIa6RI - Similarité: 0.0904\n",
      "ID vidéo: 7pNeqTZuT7E - Similarité: 0.0862\n",
      "ID vidéo: SrFPFZ14loQ - Similarité: 0.0628\n",
      "ID vidéo: HFBBxaCYO6Q - Similarité: 0.1421\n",
      "ID vidéo: vtPM40WibPA - Similarité: 0.1144\n",
      "ID vidéo: CpCFEaqU47E - Similarité: 0.1122\n",
      "ID vidéo: d5dXHazLMPw - Similarité: 0.1445\n",
      "ID vidéo: 7xPUcKSaU-k - Similarité: 0.0254\n",
      "ID vidéo: xxqlfsXfjn8 - Similarité: 0.1268\n",
      "ID vidéo: ye7_V7-C5Hc - Similarité: 0.1137\n",
      "ID vidéo: p7P39qBv9J4 - Similarité: 0.0743\n",
      "ID vidéo: wL_7d-gH7ek - Similarité: 0.0231\n",
      "ID vidéo: KYHEJVVgxg8 - Similarité: 0.0447\n",
      "ID vidéo: lDtaQw_T0rM - Similarité: 0.1189\n",
      "ID vidéo: qePUdJIw0Z4 - Similarité: 0.0441\n",
      "ID vidéo: 1jpCwM3BtVg - Similarité: 0.1475\n",
      "ID vidéo: VJT2VzgLkkw - Similarité: 0.1166\n",
      "ID vidéo: N25RH8ttBdY - Similarité: 0.1161\n",
      "ID vidéo: 4ZEEHqsGhRY - Similarité: 0.1150\n",
      "ID vidéo: xwZ6U6wwrlU - Similarité: 0.1439\n"
     ]
    }
   ],
   "source": [
    "videos_sous_015 = [item for item in keywordsVsMTD if item[\"similarity\"] <= 0.15]\n",
    "videos_sous_015 = sorted(videos_sous_015, key=lambda x: x[\"similarity\"])\n",
    "\n",
    "for item in videos_sous_015:\n",
    "    print(f\"ID vidéo: {item['id_video']} - Similarité: {item['similarity']:.4f}\")\n",
    "for item in keywordsVsMTD:\n",
    "    if item[\"similarity\"] <= 0.15:\n",
    "        print(f\"ID vidéo: {item['id_video']} - Similarité: {item['similarity']:.4f}\")\n"
   ]
  },
  {
   "cell_type": "code",
   "execution_count": null,
   "metadata": {},
   "outputs": [],
   "source": []
  },
  {
   "cell_type": "code",
   "execution_count": 25,
   "id": "1235db59",
   "metadata": {},
   "outputs": [],
   "source": [
    "contexte_autosuffisance = [\n",
    "    \"Potager familial productif pour l'autonomie en légumes\",\n",
    "    \"Élevage de poules, moutons et canards pour l’autonomie alimentaire\",\n",
    "    \"Utilisation de plantes médicinales et aromatiques cultivées sur place\",\n",
    "    \"Récupération et filtration de l'eau via un puits et osmose inverse\",\n",
    "    \"Construction de bacs permacoles faits maison pour une culture efficace\",\n",
    "    \"Transformation du sol en terre fertile pour maximiser les rendements\",\n",
    "    \"Vie en sobriété heureuse et respect de la nature\",\n",
    "    \"Utilisation de semences locales et choix variétal réfléchi\",\n",
    "    \"Production locale de viande, œufs et légumes\",\n",
    "    \"Utilisation d'une serre pour prolonger les cultures\",\n",
    "    \"Métiers artisanaux (ébénisterie, photographie culinaire) intégrés dans le mode de vie\",\n",
    "    \"Conception d’un lieu de vie en autonomie énergétique et alimentaire\"\n",
    "]\n"
   ]
  },
  {
   "cell_type": "code",
   "execution_count": null,
   "id": "9b1027eb",
   "metadata": {},
   "outputs": [],
   "source": [
    "videosF2 = openJson(\"../jsons/videosF2.json\")\n",
    "scores = {}\n",
    "for video in tqdm(videosF2):\n",
    "    context = video['titre_video'] + video['description'] + ' '.join(video['tags'])\n",
    "    score = calculateSimilarity(context,documents)\n",
    "    print(score,'  ',video['id_video'])\n",
    "    scores[video['id_video']]=score\n"
   ]
  },
  {
   "cell_type": "code",
   "execution_count": null,
   "id": "f8579331",
   "metadata": {},
   "outputs": [],
   "source": [
    "videosF2 = openJson(\"../jsons/videosF2.json\")\n",
    "scores = {}\n",
    "for video in tqdm(videosF2):\n",
    "    context = video['titre_video'] + video['description'] + ' '.join(video['tags'])\n",
    "    score = calculateSimilarity(context,contexte_autosuffisance)\n",
    "    print(score,'  ',video['id_video'])\n",
    "    scores[video['id_video']]=score\n"
   ]
  },
  {
   "cell_type": "markdown",
   "id": "f7d311a9",
   "metadata": {},
   "source": [
    "### LLM Scoring"
   ]
  },
  {
   "cell_type": "code",
   "execution_count": 3,
   "id": "7155182c",
   "metadata": {},
   "outputs": [],
   "source": [
    "from langchain_google_genai import GoogleGenerativeAI\n",
    "from langchain_core.prompts import ChatPromptTemplate"
   ]
  },
  {
   "cell_type": "code",
   "execution_count": 4,
   "id": "1fa0a4dd",
   "metadata": {},
   "outputs": [],
   "source": [
    "gemini_flash_1 = GoogleGenerativeAI(model=\"gemini-2.0-flash\", google_api_key=os.getenv(\"GOOGLE_API_KEY_1\"))\n",
    "gemini_flash_2 = GoogleGenerativeAI(model=\"gemini-2.0-flash\", google_api_key=os.getenv(\"GOOGLE_API_KEY_2\"))"
   ]
  },
  {
   "cell_type": "code",
   "execution_count": 5,
   "id": "b9e48db2",
   "metadata": {},
   "outputs": [],
   "source": [
    "sysprompt = \"\"\"\n",
    "# La definition d'autossuffinnce\n",
    "\n",
    "L'autosuffisance est la démarche visant à acquérir la capacité de subvenir par soi-même à ses besoins fondamentaux, \n",
    "en premier lieu alimentaires par l'autoconsommation – c'est-à-dire produire, récolter et conserver un maximum de sa propre nourriture, \n",
    "souvent en privilégiant le bio, le local et le saisonnier. \n",
    "\n",
    "L'autosuffisance Plus qu'une simple recherche d'autonomie matérielle, elle représente un engagement pour être moins dépendant du système économique et social extérieur, impliquant des choix concrets comme trouver un lieu propice et le concevoir judicieusement (par exemple en permaculture), \n",
    "ainsi qu'un changement dans la manière de valoriser son temps et de consommer, formant ainsi le fondement d'une vie plus autonome.\n",
    "\n",
    "---\n",
    "\n",
    "# Votre mission\n",
    "\n",
    "- Décider si une vidéo concerne la thématique de l'autosuffisance en se basant sur ses métadonnées (titre, description, tags).  \n",
    "- Les vlogs, les interviews et les vidéos de partage d'expériences en lien avec l'autosuffisance sont intéressants.  \n",
    "- Les tutoriels et les vidéos de conseils sont également pertinents.  \n",
    "- Les vidéos présentant une technique liée à l'autosuffisance ou y contribuant sont utiles.  \n",
    "- Attribuer un score entier de 1 à 10 pour évaluer la pertinence de la vidéo par rapport à la thématique de l'autosuffisance.\n",
    "\n",
    "---\n",
    "\n",
    "# Votre réponse  \n",
    "\n",
    "- La réponse doit être au format JSON :  \n",
    "  \n",
    "    \"decision\": \"oui ou non\",\n",
    "    \"justification\": \"Justifiez votre décision avec des arguments\"\n",
    "    \"score\": votre èvaluation\n",
    " \n",
    "\"\"\"\n",
    "\n",
    "userprompt = \"\"\"\n",
    "Titre\n",
    "---\n",
    "{titre}\n",
    "Description\n",
    "---\n",
    "{description}\n",
    "tags\n",
    "---\n",
    "{tags}\n",
    "\"\"\"\n",
    "\n",
    "prompt = ChatPromptTemplate([\n",
    "    (\"system\", sysprompt),\n",
    "    (\"user\", userprompt)\n",
    "])\n",
    "\n",
    "chain_1 = prompt | gemini_flash_1\n",
    "chain_2 = prompt | gemini_flash_2\n"
   ]
  },
  {
   "cell_type": "markdown",
   "id": "22da5f6b",
   "metadata": {},
   "source": [
    "- Test"
   ]
  },
  {
   "cell_type": "code",
   "execution_count": 6,
   "id": "cd6a972e",
   "metadata": {},
   "outputs": [
    {
     "name": "stdout",
     "output_type": "stream",
     "text": [
      "{'titre': 'Tuteurer et redresser un arbre 🌳', 'description': \"Dans cette vidéo nous allons voir ensemble comment mettre un tuteur afin de redresser un arbre qui penche suite à la tempête.\\nCette vidéo vous aideras pour placer un tuteur en travers , sangler un arbre selon le sens du vent,\\n\\nIl existe plusieurs facon de tuteurer un arbre, haubanage, tripode,.. mais dans le cas présent un tuteur en biais suffiras puisque l'arbre n'est pas trés gros.\\n\\n\\n▬▬▬▬▬▬▬▬▬▬▬ POUR ALLER PLUS LOIN  ▬▬▬▬▬▬▬▬▬▬▬\\n\\n💡 Abonnez-vous pour me soutenir 🧡\\n\\n\\n💡Rejoignez-nous sur twitter\\net tik tok\\n\\n\\n▬▬▬▬▬▬▬▬▬▬▬ CHAPITRES DE CETTE VIDÉO ▬▬▬▬▬▬▬▬▬▬\\n\\n00:00 : Introduction\\n00:23 : Mise en place tuteur\\n01:54 : Sanglage et Redresser l'arbre\\n02:54 : Sens du vent et détails tuteurage\\n\\n▬▬▬▬▬▬▬▬▬▬▬ A PROPOS DE CETTE VIDÉO ▬▬▬▬▬▬▬▬▬▬▬\\n\\nLe Jardin du moulin\\nFrancois\\n#potager #jardindumoulin\", 'tags': 'TCS, Agriculture Biologique, Bio, GAB 85, FNAB, Vendée, Techniques Culturales Simplifiées, GAEC Les Jonquilles, ECOPHYTO, Demain Vendée, Conservation des sols, Sol vivant, Productions végétales, Maïs'}\n",
      "```json\n",
      "{\n",
      "  \"decision\": \"oui\",\n",
      "  \"justification\": \"La vidéo montre une technique de jardinage pour aider les arbres à pousser droit. Cela contribue à la production alimentaire et à la gestion de son propre jardin, ce qui est lié à l'autosuffisance.\",\n",
      "  \"score\": 7\n",
      "}\n",
      "```\n"
     ]
    }
   ],
   "source": [
    "input = {\"titre\":\"Tuteurer et redresser un arbre 🌳\",\n",
    "         \"description\":\"Dans cette vidéo nous allons voir ensemble comment mettre un tuteur afin de redresser un arbre qui penche suite à la tempête.\\nCette vidéo vous aideras pour placer un tuteur en travers , sangler un arbre selon le sens du vent,\\n\\nIl existe plusieurs facon de tuteurer un arbre, haubanage, tripode,.. mais dans le cas présent un tuteur en biais suffiras puisque l'arbre n'est pas trés gros.\\n\\n\\n▬▬▬▬▬▬▬▬▬▬▬ POUR ALLER PLUS LOIN  ▬▬▬▬▬▬▬▬▬▬▬\\n\\n💡 Abonnez-vous pour me soutenir 🧡\\n\\n\\n💡Rejoignez-nous sur twitter\\net tik tok\\n\\n\\n▬▬▬▬▬▬▬▬▬▬▬ CHAPITRES DE CETTE VIDÉO ▬▬▬▬▬▬▬▬▬▬\\n\\n00:00 : Introduction\\n00:23 : Mise en place tuteur\\n01:54 : Sanglage et Redresser l'arbre\\n02:54 : Sens du vent et détails tuteurage\\n\\n▬▬▬▬▬▬▬▬▬▬▬ A PROPOS DE CETTE VIDÉO ▬▬▬▬▬▬▬▬▬▬▬\\n\\nLe Jardin du moulin\\nFrancois\\n#potager #jardindumoulin\",\n",
    "         \"tags\":', '.join( [\n",
    "      \"TCS\",\n",
    "      \"Agriculture Biologique\",\n",
    "      \"Bio\",\n",
    "      \"GAB 85\",\n",
    "      \"FNAB\",\n",
    "      \"Vendée\",\n",
    "      \"Techniques Culturales Simplifiées\",\n",
    "      \"GAEC Les Jonquilles\",\n",
    "      \"ECOPHYTO\",\n",
    "      \"Demain Vendée\",\n",
    "      \"Conservation des sols\",\n",
    "      \"Sol vivant\",\n",
    "      \"Productions végétales\",\n",
    "      \"Maïs\"\n",
    "    ])}\n",
    "print(input)\n",
    "print(chain_2.invoke(input))"
   ]
  },
  {
   "cell_type": "code",
   "execution_count": null,
   "id": "6fcd0cb1",
   "metadata": {},
   "outputs": [],
   "source": [
    "def cleanAnswer(answer):\n",
    "    answer = answer.strip(\"`\")   # Supprimer tous les backticks\n",
    "    if answer.startswith(\"json\"):\n",
    "        answer = answer[4:].strip() \n",
    "    return  answer"
   ]
  },
  {
   "cell_type": "code",
   "execution_count": null,
   "id": "82038bcb",
   "metadata": {},
   "outputs": [],
   "source": [
    "videosF2 = openJson(\"../jsons/videosF2.json\")\n",
    "llmEvaluation = []\n",
    "count1 = 0\n",
    "count2 = 0\n",
    "temp = 0\n",
    "\n",
    "for video in tqdm(videosF2):\n",
    "    input = {\"titre\":video['titre_video'],\n",
    "             \"description\":video['description'],\n",
    "             \"tags\":', '.join(video['tags']),}\n",
    "    try:\n",
    "        if count1  <= 13:\n",
    "            print(\"KEY 1\")\n",
    "        \n",
    "            answer = cleanAnswer(chain_1.invoke(input))\n",
    "            #print(video['id_video'],'/n',answer)\n",
    "            evaluation = {}\n",
    "            evaluation['id_video']=video['id_video']\n",
    "            evaluation.update(json.loads(answer))\n",
    "            llmEvaluation.append(evaluation)\n",
    "            \n",
    "            count1+=1\n",
    "            temp+=1            \n",
    "             \n",
    "            print(\"count1 \",count1)  \n",
    "            \n",
    "        if count1  > 13 and count2 <= 13:\n",
    "            print(\"KEY 2\")\n",
    "            \n",
    "            answer =  cleanAnswer(chain_2.invoke(input))\n",
    "            #print(video['id_video'],'/n',answer)\n",
    "            evaluation = {}\n",
    "            evaluation['id_video']=video['id_video']\n",
    "            evaluation.update(json.loads(answer))\n",
    "            llmEvaluation.append(evaluation)\n",
    "            \n",
    "            count2+=1\n",
    "            temp+=1\n",
    "            print(\"count2 \",count2)  \n",
    "            \n",
    "        if count1 > 13 and count2 > 13 :\n",
    "            print(\"sleep for 1 min\")\n",
    "            time.sleep(60)\n",
    "            count1 = 0\n",
    "            count2 = 0\n",
    "        \n",
    "\n",
    "        if temp >= 100:\n",
    "            saveJson(\"../jsons/llmEvaluation.json\",llmEvaluation)\n",
    "            temp=0\n",
    "            \n",
    "    except Exception as e:\n",
    "        print(f\"error {e}\")"
   ]
  },
  {
   "cell_type": "markdown",
   "id": "074ed73c",
   "metadata": {},
   "source": [
    "- Seperate the videos classified as not relevent"
   ]
  },
  {
   "cell_type": "code",
   "execution_count": 9,
   "id": "4e48bb15",
   "metadata": {},
   "outputs": [],
   "source": [
    "llmEvaluations = openJson(\"../jsons/llmEvaluation.json\")\n",
    "videosF2 = openJson(\"../jsons/videosF2.json\")\n",
    "\n",
    "def getNonVideo(ID):\n",
    "    for video in videosF2:\n",
    "        if video['id_video']==ID:\n",
    "            return video"
   ]
  },
  {
   "cell_type": "code",
   "execution_count": 4,
   "id": "da49e72f",
   "metadata": {},
   "outputs": [
    {
     "data": {
      "text/plain": [
       "4504"
      ]
     },
     "execution_count": 4,
     "metadata": {},
     "output_type": "execute_result"
    }
   ],
   "source": [
    "len(videosF2)"
   ]
  },
  {
   "cell_type": "code",
   "execution_count": 10,
   "id": "333b1eee",
   "metadata": {},
   "outputs": [
    {
     "data": {
      "text/plain": [
       "1100"
      ]
     },
     "execution_count": 10,
     "metadata": {},
     "output_type": "execute_result"
    }
   ],
   "source": [
    "len(llmEvaluations)"
   ]
  },
  {
   "cell_type": "code",
   "execution_count": null,
   "id": "a95e6bf0",
   "metadata": {},
   "outputs": [],
   "source": [
    "videosNon = []\n",
    "for evaluation in llmEvaluations:\n",
    "    try:\n",
    "\n",
    "        if evaluation['decision'] =='non':\n",
    "            videoNo = getNonVideo(evaluation['id_video'])\n",
    "            videoNo.update(evaluation)\n",
    "            videosNon.append(videoNo)\n",
    "    except:\n",
    "        print(evaluation)\n",
    "        break\n",
    "    \n",
    "saveJson(\"../jsons/llmVideosNon.json\",videosNon)"
   ]
  },
  {
   "cell_type": "code",
   "execution_count": null,
   "id": "d0df5f32",
   "metadata": {},
   "outputs": [],
   "source": [
    "len(videosNon)"
   ]
  },
  {
   "cell_type": "code",
   "execution_count": 11,
   "id": "66809b47",
   "metadata": {},
   "outputs": [
    {
     "data": {
      "text/plain": [
       "45"
      ]
     },
     "execution_count": 11,
     "metadata": {},
     "output_type": "execute_result"
    }
   ],
   "source": [
    "videosNon = openJson(\"../jsons/llmVideosNon.json\")\n",
    "len(videosNon)"
   ]
  },
  {
   "cell_type": "code",
   "execution_count": 13,
   "id": "0b38b2e7",
   "metadata": {},
   "outputs": [
    {
     "data": {
      "text/plain": [
       "4.090909090909091"
      ]
     },
     "execution_count": 13,
     "metadata": {},
     "output_type": "execute_result"
    }
   ],
   "source": [
    "(45/1100)*100"
   ]
  },
  {
   "cell_type": "code",
   "execution_count": 15,
   "metadata": {},
   "outputs": [],
   "source": [
    "scorellm = []\n",
    "for v in videosNon:\n",
    "    scorellm.append(v['score'])"
   ]
  },
  {
   "cell_type": "code",
   "execution_count": 20,
   "id": "86533647",
   "metadata": {},
   "outputs": [
    {
     "data": {
      "text/plain": [
       "3"
      ]
     },
     "execution_count": 20,
     "metadata": {},
     "output_type": "execute_result"
    }
   ],
   "source": [
    "max(scorellm)"
   ]
  },
  {
   "cell_type": "code",
   "execution_count": 21,
   "metadata": {},
   "outputs": [],
   "source": [
    "import pandas as pd\n",
    "\n",
    "data = []\n",
    "for video in videosNon:\n",
    "    data.append({\n",
    "        \"lien_video\": f\"https://www.youtube.com/watch?v={video['id_video']}\",\n",
    "        \"titre\": video[\"titre_video\"],\n",
    "        \"decision\": video[\"decision\"],\n",
    "        \"justification\": video[\"justification\"],\n",
    "        \"score\": video[\"score\"]\n",
    "    })\n",
    "\n",
    "df = pd.DataFrame(data)\n",
    "df.to_excel(\"../jsons/videosNon.xlsx\", index=False)\n"
   ]
  },
  {
   "cell_type": "markdown",
   "id": "cbc15e19",
   "metadata": {},
   "source": [
    "- Number of search queries"
   ]
  },
  {
   "cell_type": "code",
   "execution_count": 13,
   "id": "de49d5cf",
   "metadata": {},
   "outputs": [],
   "source": [
    "channelsR1 = openJson(\"../jsons/channelsR1.json\")"
   ]
  },
  {
   "cell_type": "code",
   "execution_count": 25,
   "id": "2f40f176",
   "metadata": {},
   "outputs": [
    {
     "name": "stdout",
     "output_type": "stream",
     "text": [
      "[{'id_video': 'iF3O2TSheXI', 'numQueries': 162, 'channelname': \"L'ArchiPelle\"}, {'id_video': 'B21So1_VYMY', 'numQueries': 112, 'channelname': \"L'ArchiPelle\"}, {'id_video': '6CI-4_XszYg', 'numQueries': 107, 'channelname': \"Le Jardin d'Emerveille\"}, {'id_video': 'POPtzy-5jLg', 'numQueries': 97, 'channelname': \"L'ArchiPelle\"}, {'id_video': 'FZBgBkMdgTg', 'numQueries': 88, 'channelname': 'Comme un pingouin dans le désert (autoconstruction bois)'}]\n",
      "2.861234458259325\n"
     ]
    }
   ],
   "source": [
    "queriesCounter = []\n",
    "for video in videosF2:\n",
    "    for channel in channelsR1:\n",
    "        if channel['id_chaine'] == video['id_chaine']:\n",
    "            channelname = channel['nom_chaine']\n",
    "    queriesCounter.append({\n",
    "        'id_video': video['id_video'],\n",
    "        'numQueries': len(video['requete']),\n",
    "        'channelname': channelname\n",
    "    })\n",
    "\n",
    "queriesCounter = sorted(queriesCounter, key=lambda x: x['numQueries'], reverse=True)\n",
    "\n",
    "total_queries = sum(item['numQueries'] for item in queriesCounter)\n",
    "nombre_videos = len(queriesCounter)\n",
    "moyenne_queries = total_queries / nombre_videos\n",
    "\n",
    "print(queriesCounter[:5])\n",
    "print(moyenne_queries)"
   ]
  },
  {
   "cell_type": "code",
   "execution_count": 35,
   "id": "3b41416c",
   "metadata": {},
   "outputs": [
    {
     "name": "stdout",
     "output_type": "stream",
     "text": [
      "Pourcentage de vidéos (Parmi les 45 non-pertinents) avec <= 2 requêtes : 86.67%\n"
     ]
    }
   ],
   "source": [
    "queriesCounterNon = []\n",
    "for video in videosNon:\n",
    "    for channel in channelsR1:\n",
    "        if channel['id_chaine']==video['id_chaine']:\n",
    "            channelname = channel['nom_chaine']\n",
    "    queriesCounterNon.append(\n",
    "        {\n",
    "            'id_video':video['id_video'],\n",
    "            'numQueries':len(video['requete']),\n",
    "            'channelname':channelname\n",
    "        }\n",
    "    )\n",
    "\n",
    "queriesCounterNon = sorted(queriesCounterNon, key=lambda x: x['numQueries'], reverse=True)\n",
    "\n",
    "videos_less_than_2_queries = [video for video in queriesCounterNon if video['numQueries'] <= 2]\n",
    "percentage = (len(videos_less_than_2_queries) / len(queriesCounterNon)) * 100\n",
    "print(f\"Pourcentage de vidéos (Parmi les 45 non-pertinents) avec <= 2 requêtes : {percentage:.2f}%\")\n"
   ]
  },
  {
   "cell_type": "markdown",
   "id": "a31efb7a",
   "metadata": {},
   "source": [
    "### Indice de pertinence"
   ]
  },
  {
   "cell_type": "markdown",
   "id": "0e23e0ea",
   "metadata": {},
   "source": [
    "I.P = llmScore × α + numQueries × β\n",
    "\n",
    "- On teste au depart avec alpha= 0.7 et beta = 0.3"
   ]
  },
  {
   "cell_type": "code",
   "execution_count": 17,
   "id": "fbb53d36",
   "metadata": {},
   "outputs": [],
   "source": [
    "llmEvaluations = openJson(\"../jsons/llmEvaluation.json\")\n",
    "videosF2 = openJson(\"../jsons/videosF2.json\")\n",
    "\n",
    "def getnbrQueries(ID):\n",
    "    for video in videosF2:\n",
    "        if video['id_video']==ID:\n",
    "            return len(video['requete'])"
   ]
  },
  {
   "cell_type": "code",
   "execution_count": 18,
   "metadata": {},
   "outputs": [],
   "source": [
    "def calculateIP(alpha,beta):\n",
    "    echantillonIP = []\n",
    "\n",
    "    for eval in llmEvaluations:\n",
    "        nbrQueries = getnbrQueries(eval['id_video'])\n",
    "        llmScore = eval['score']\n",
    "        ip = llmScore*alpha + nbrQueries*beta\n",
    "        echantillonIP.append(\n",
    "            {\n",
    "                'id_video':eval['id_video'],\n",
    "                'llmScore':eval['score'],\n",
    "                'nbrQueries':nbrQueries,\n",
    "                'IP':ip\n",
    "            }\n",
    "        )\n",
    "    return echantillonIP    "
   ]
  },
  {
   "cell_type": "code",
   "execution_count": 19,
   "metadata": {},
   "outputs": [
    {
     "name": "stdout",
     "output_type": "stream",
     "text": [
      "\u001b[1m\u001b[32m\n",
      " json saved\u001b[0m\n"
     ]
    }
   ],
   "source": [
    "echantillonIP = calculateIP(0.7,0.3)\n",
    "saveJson(\"../jsons/echantillonIP.json\",echantillonIP)"
   ]
  },
  {
   "cell_type": "code",
   "execution_count": 20,
   "id": "3590829d",
   "metadata": {},
   "outputs": [
    {
     "data": {
      "text/plain": [
       "1100"
      ]
     },
     "execution_count": 20,
     "metadata": {},
     "output_type": "execute_result"
    }
   ],
   "source": [
    "len(echantillonIP)"
   ]
  },
  {
   "cell_type": "code",
   "execution_count": 21,
   "id": "3b3963f6",
   "metadata": {},
   "outputs": [
    {
     "data": {
      "image/png": "[encoded data removed]",
      "text/plain": [
       "<Figure size 640x480 with 1 Axes>"
      ]
     },
     "metadata": {},
     "output_type": "display_data"
    },
    {
     "name": "stdout",
     "output_type": "stream",
     "text": [
      "Min     = 1.00\n",
      "Q1      = 5.90\n",
      "Median  = 6.80\n",
      "Q3      = 7.90\n",
      "Max     = 55.60\n",
      "IQR     = 2.00\n",
      "Limite inférieure des moustaches = 2.90\n",
      "Limite supérieure des moustaches = 10.90\n"
     ]
    }
   ],
   "source": [
    "import numpy as np\n",
    "\n",
    "ip_values = [item['IP'] for item in echantillonIP]\n",
    "\n",
    "plt.boxplot(ip_values, vert=True)\n",
    "plt.title('Boxplot des valeurs de IP')\n",
    "plt.show()\n",
    "\n",
    "min_val = np.min(ip_values)\n",
    "q1 = np.percentile(ip_values, 25)\n",
    "median = np.median(ip_values)\n",
    "q3 = np.percentile(ip_values, 75)\n",
    "max_val = np.max(ip_values)\n",
    "\n",
    "iqr = q3 - q1\n",
    "lower_limit = q1 - 1.5 * iqr\n",
    "upper_limit = q3 + 1.5 * iqr\n",
    "\n",
    "print(f'Min     = {min_val:.2f}')\n",
    "print(f'Q1      = {q1:.2f}')\n",
    "print(f'Median  = {median:.2f}')\n",
    "print(f'Q3      = {q3:.2f}')\n",
    "print(f'Max     = {max_val:.2f}')\n",
    "print(f'IQR     = {iqr:.2f}')\n",
    "print(f'Limite inférieure des moustaches = {lower_limit:.2f}')\n",
    "print(f'Limite supérieure des moustaches = {upper_limit:.2f}')\n"
   ]
  },
  {
   "cell_type": "code",
   "execution_count": 22,
   "id": "29134a63",
   "metadata": {},
   "outputs": [
    {
     "name": "stdout",
     "output_type": "stream",
     "text": [
      "\u001b[1m\u001b[32m\n",
      " json saved\u001b[0m\n"
     ]
    }
   ],
   "source": [
    "echantillonIP=openJson(\"../jsons/echantillonIP.json\")\n",
    "filtredVidoesIP = []\n",
    "for ech in echantillonIP:\n",
    "    if ech['IP'] < 2.9:\n",
    "        filtredVidoesIP.append(ech)\n",
    "    \n",
    "saveJson(\"../jsons/filtredVidoesIP.json\",filtredVidoesIP)"
   ]
  },
  {
   "cell_type": "code",
   "execution_count": 23,
   "metadata": {},
   "outputs": [
    {
     "data": {
      "text/plain": [
       "49"
      ]
     },
     "execution_count": 23,
     "metadata": {},
     "output_type": "execute_result"
    }
   ],
   "source": [
    "filtredVidoesIP = openJson(\"../jsons/filtredVidoesIP.json\")\n",
    "len(filtredVidoesIP)"
   ]
  },
  {
   "cell_type": "code",
   "execution_count": 24,
   "id": "72a0da99",
   "metadata": {},
   "outputs": [
    {
     "data": {
      "text/plain": [
       "48"
      ]
     },
     "execution_count": 24,
     "metadata": {},
     "output_type": "execute_result"
    }
   ],
   "source": [
    "llmVideosNon = openJson(\"../jsons/llmVideosNon.json\")\n",
    "len(llmVideosNon)"
   ]
  },
  {
   "cell_type": "code",
   "execution_count": 25,
   "id": "369e2b61",
   "metadata": {},
   "outputs": [],
   "source": [
    "for filteredvid in filtredVidoesIP:\n",
    "    exist = False\n",
    "    for vid in llmVideosNon:\n",
    "        if filteredvid['id_video']==vid['id_video']:\n",
    "            exist = True\n",
    "            break\n",
    "    if exist == False:\n",
    "        print(filteredvid['id_video'])    "
   ]
  },
  {
   "cell_type": "code",
   "execution_count": null,
   "id": "2d57b07b",
   "metadata": {},
   "outputs": [],
   "source": [
    "# RmN529MFKpU,8waoAttTffY doit revenir a LLM non\n",
    "# QCcYN8qIOAI est pertinente "
   ]
  },
  {
   "cell_type": "code",
   "execution_count": null,
   "metadata": {},
   "outputs": [],
   "source": []
  }
 ],
 "metadata": {
  "kernelspec": {
   "display_name": ".venv",
   "language": "python",
   "name": "python3"
  },
  "language_info": {
   "codemirror_mode": {
    "name": "ipython",
    "version": 3
   },
   "file_extension": ".py",
   "mimetype": "text/x-python",
   "name": "python",
   "nbconvert_exporter": "python",
   "pygments_lexer": "ipython3",
   "version": "3.10.16"
  }
 },
 "nbformat": 4,
 "nbformat_minor": 5
}
