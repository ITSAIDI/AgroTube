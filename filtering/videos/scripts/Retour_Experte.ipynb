{
 "cells": [
  {
   "cell_type": "markdown",
   "id": "250da74f",
   "metadata": {},
   "source": [
    "En donnant à l’experte deux fichiers Excel (*videos\\_pertinentes.xlsx* et *videos\\_non\\_pertinentes.xlsx*), elle a coloré les cellules correspondant à :\n",
    "\n",
    "* **Faux négatifs** : vidéos réellement pertinentes mais prédites comme non pertinentes\n",
    "* **Faux positifs** : vidéos réellement non pertinentes mais prédites comme pertinentes\n"
   ]
  },
  {
   "cell_type": "code",
   "execution_count": 1,
   "id": "4eb61ddc",
   "metadata": {},
   "outputs": [
    {
     "data": {
      "text/plain": [
       "True"
      ]
     },
     "execution_count": 1,
     "metadata": {},
     "output_type": "execute_result"
    }
   ],
   "source": [
    "from collections import Counter\n",
    "from tqdm import tqdm \n",
    "from colorama import Style,Fore\n",
    "import os\n",
    "from utils1 import openJson,saveJson\n",
    "from dotenv import load_dotenv\n",
    "import json\n",
    "import time\n",
    "load_dotenv()"
   ]
  },
  {
   "cell_type": "markdown",
   "id": "a9cf7c85",
   "metadata": {},
   "source": [
    "# Faux négatifs"
   ]
  },
  {
   "cell_type": "markdown",
   "id": "f5dc1550",
   "metadata": {},
   "source": [
    "## Collecter \n",
    "\n",
    "- En utilisant les cellules colorées par l'experte dans le fichier Excel"
   ]
  },
  {
   "cell_type": "code",
   "execution_count": 2,
   "id": "c5216939",
   "metadata": {},
   "outputs": [
    {
     "name": "stdout",
     "output_type": "stream",
     "text": [
      "Liste des IDs des Faux négatifs :\n",
      "['Yb-ujblpLDQ', 'Yc24O1r7FfU', 'jCFsMCbpeQU', 'bTPs8Q5XWqI', 'iaUboIY9X4Q', 'bxKPfPnSdK0', 'UcRpcyK61lg', 'VqM9iY_VnYw', '59tr5CwIo2k', '4LcZpws5NXs', 'dlE9z6o98tU', 'JXM37dFVa3Y', 'Q6LBWZUyD7k', '_eH4_L_4h6U', 'kfgdbexwdvQ', '78HJs4s0UGw', 'hOTW7F_ANj8', 'FDMUxduCG-E', 'RqIHYrth0K0', 'kGz8wybwLXI', 'oMazIgjhJc0', 'SvPDihkf9Ok', 'nN-4vukYGEY', 'IQDS8x3RoU0', 'A5NXVOS9FrE', 'DD2vJ1U9Idw', 'teUj6GeJ93A', '4ctTmvq3JvY', 'hdLuhejUKeU', 'xvMKW0Nlonc', 'DdzpreePx6Q', 'MAdOsBjGhiE', 'QxBEtwqNk34', 'ViczdDgcTDw', 'Y_MshcXrnj8', '0SJIW9GnaMY', 'e6AB7GKctN4', 'BfCIvl4VjbQ', 'LPobB6_IE1s', '6PoH5j_CJxc', 'd06ssNOndOk', '7S0fANnj5bY', 'aa4j72ncF4c', 'dolrcneBWlI', '1XQalJkN2iM', 'RLM7W6eHKfM', '2JffEu5fPLw', '80HSWRSk24M', '396LC6lbtZQ', 'j19l2Fgg81A', 'Oa_8LgMIm8I', 'o7jKR1jjlsA']\n",
      "52\n"
     ]
    }
   ],
   "source": [
    "from openpyxl import load_workbook\n",
    "\n",
    "# Charger le fichier Excel\n",
    "wb = load_workbook(\"../xlsx/videos_non_pertinentes_RE.xlsx\")\n",
    "ws = wb.active\n",
    "\n",
    "FN_video_Ids = []\n",
    "\n",
    "for row in ws.iter_rows(min_col=1, max_col=1):\n",
    "    cell = row[0]\n",
    "    fill = cell.fill\n",
    "\n",
    "    if fill and fill.fill_type == \"solid\":\n",
    "        color = fill.start_color.rgb\n",
    "        if color and color != \"00000000\":\n",
    "            url = cell.value\n",
    "            if isinstance(url, str) and \"v=\" in url:\n",
    "                video_id = url.split(\"v=\")[-1].split(\"&\")[0]\n",
    "                FN_video_Ids.append(video_id)\n",
    "\n",
    "print(\"Liste des IDs des Faux négatifs :\")\n",
    "print(FN_video_Ids)\n",
    "print(len(FN_video_Ids))"
   ]
  },
  {
   "cell_type": "markdown",
   "id": "6a13b216",
   "metadata": {},
   "source": [
    "## Analyser"
   ]
  },
  {
   "cell_type": "code",
   "execution_count": null,
   "id": "a9c061a4",
   "metadata": {},
   "outputs": [],
   "source": [
    "# Les vidéos prédites comme non pertinentes\n",
    "\n",
    "videosF3Non = openJson(\"../jsons/videosF3Non.json\")\n",
    "len(videosF3Non)"
   ]
  },
  {
   "cell_type": "code",
   "execution_count": null,
   "id": "f1ea78e3",
   "metadata": {},
   "outputs": [],
   "source": [
    "scores = []\n",
    "for video in videosF3Non:\n",
    "    if video['id_video'] in FN_video_Ids:\n",
    "        scores.append(video['score'])\n",
    "        \n",
    "Counter(scores)"
   ]
  },
  {
   "cell_type": "markdown",
   "id": "74d8e078",
   "metadata": {},
   "source": [
    "**50** ont un score LLM de 6 ou 7 (c’est comme une frontière de décision pour le LLM).\n",
    "\n",
    "**Ajustement de system prompt :**\n",
    "\n",
    "- Attribuer un score (float) de 1 à 10 pour évaluer la pertinence de la vidéo par rapport à la thématique de l'autosuffisance.\n",
    "- Donner un score plus élevé pour les vidéos qui mentionnent explicitement des mots-clés liés à cette thématique.\n"
   ]
  },
  {
   "cell_type": "markdown",
   "id": "b3c51b43",
   "metadata": {},
   "source": [
    "# Faux positifs"
   ]
  },
  {
   "cell_type": "markdown",
   "id": "acf15c01",
   "metadata": {},
   "source": [
    "## Collecter\n",
    "\n",
    "- En utilisant les cellules colorées par l'experte dans le fichier Excel"
   ]
  },
  {
   "cell_type": "code",
   "execution_count": 3,
   "metadata": {},
   "outputs": [
    {
     "name": "stdout",
     "output_type": "stream",
     "text": [
      "Dictionnaire des vidéos colorées avec leur FP_type :\n",
      "{'LXoDDQ_GpiA': 'A', 'kUIPnI6fBCU': 'A', 'hAgGD_YiFlA': 'EP', 'ZFfc0R9IiZU': 'A', 'x0vRWEFKlb8': 'M', 'bIMjariydVA': 'A', 'NzoaJgzKWIU': 'A', 'EWNjhLPss8o': 'EP', 'heOuHHI_C4I': 'H', '5iNpvA7uwg4': 'D', 'ebwA9efjDyg': 'A', 'S-YEu_UJiio': 'D', '70phFq2MnD4': 'D', 'Kg_moYtLH0Q': 'H', 'B_-g9Pp2bBQ': 'A', 'sgm_zU_W5jc': 'H', 'hdeJUcDYTqY': 'M', 'bLoHGlpQdaU': 'M', 'eKudrSrjwFM': 'EP', 'MOSzLYnA_14': 'EP', 'TOPIXbkj70k': 'H', 'aDbbH734ThA': 'EP', 'VgUVzkHVc7I': 'EP', '2U5jfAsuV18': 'H', 'aOza7UCfi1o': 'H', '3OXbnQutAt0': 'D', 'NtC_xg3vYWg': 'D', 'AYYl7SuXbS0': 'D', 'oQ-EeHQAo58': 'D', 'nSXLLml9OJc': 'D', 'N0cVC5zO-aE': 'D', '9AHEkShwi5Y': 'H', 'jH-VSZSc8-Y': 'D', 'CbJQZwDEqU4': 'D', 'XeJWoVSBhNA': 'D', 'fMCtESAAMuc': 'D', 'cbaiO5-q0mI': 'D', '8_f6RxY93EA': 'D', '9_OgldCDNvY': 'D', 'V4GQ5dcUHis': 'M', 'MbnrZ8rB1oI': 'D', 'VZt9NBqKZHY': 'A', '8SW7OsOWlRY': 'H', '6hfS2VhRzqQ': 'A', 'qppDyOgwygI': 'A', '3P3Cm8gyOsg': 'D', 'SOweVg7cFUE': 'D'}\n",
      "47\n"
     ]
    }
   ],
   "source": [
    "from openpyxl import load_workbook\n",
    "\n",
    "wb = load_workbook(\"../xlsx/videos_pertinentes_RE.xlsx\")\n",
    "ws = wb.active\n",
    "\n",
    "FP_dict = {}\n",
    "\n",
    "for row in ws.iter_rows(min_row=2, min_col=1, max_col=3):\n",
    "    fp_type_cell = row[0]\n",
    "    lien_cell = row[1]\n",
    "\n",
    "    fill = lien_cell.fill\n",
    "\n",
    "    if fill and fill.fill_type == \"solid\":\n",
    "        color = lien_cell.fill.start_color.rgb\n",
    "        if color and color != \"00000000\":\n",
    "            url = lien_cell.value\n",
    "            if isinstance(url, str) and \"v=\" in url:\n",
    "                video_id = url.split(\"v=\")[-1].split(\"&\")[0]\n",
    "                fp_type = fp_type_cell.value\n",
    "                FP_dict[video_id] = fp_type\n",
    "\n",
    "print(\"Dictionnaire des vidéos colorées avec leur FP_type :\")\n",
    "print(FP_dict)\n",
    "print (len(FP_dict))\n"
   ]
  },
  {
   "cell_type": "markdown",
   "id": "5d3ec174",
   "metadata": {},
   "source": [
    "## Analyser"
   ]
  },
  {
   "cell_type": "code",
   "execution_count": null,
   "id": "de3bfab7",
   "metadata": {},
   "outputs": [],
   "source": [
    "# Les vidéos prédites comme non pertinentes\n",
    "\n",
    "videosF3 = openJson(\"../jsons/videosF3.json\")\n",
    "len(videosF3)"
   ]
  },
  {
   "cell_type": "code",
   "execution_count": null,
   "id": "f9a81c59",
   "metadata": {},
   "outputs": [],
   "source": [
    "scores = []\n",
    "for video in videosF3:\n",
    "    if video['id_video'] in FP_dict.keys():\n",
    "        scores.append(video['score'])\n",
    "        \n",
    "Counter(scores)"
   ]
  },
  {
   "cell_type": "markdown",
   "id": "a026f6b4",
   "metadata": {},
   "source": [
    "**12** ont un score LLM de 7.\n"
   ]
  },
  {
   "cell_type": "markdown",
   "id": "4cdf0a68",
   "metadata": {},
   "source": [
    "- Autre que la France (A)\n",
    "- Médias (M)\n",
    "- Entreprises-pubs (EP)\n",
    "- Difficile (D)\n",
    "- Hors sujet (H)\n",
    "\n",
    "**Ajustement de prompt**\n",
    "\n",
    "Les vidéos suivants doivent être exclus, même s’ils parlent d’autosuffisance ou sont liés à la thématique :\n",
    "\n",
    "- Les vidéos provenant d'une chaîne TV ou radio.\n",
    "- Les vidéos concernant un emplacement hors de la France.\n",
    "- Les vidéos d'entreprises commercialisant des produits ou des vidéos publicitaires.\n",
    "- Les vidéos hors sujet telles que les webinaires, webconférences, ou présentations commerciales.\n"
   ]
  },
  {
   "cell_type": "markdown",
   "id": "26d755fd",
   "metadata": {},
   "source": [
    "# Préparer un JSON"
   ]
  },
  {
   "cell_type": "code",
   "execution_count": 9,
   "id": "424c3695",
   "metadata": {},
   "outputs": [
    {
     "data": {
      "text/plain": [
       "4504"
      ]
     },
     "execution_count": 9,
     "metadata": {},
     "output_type": "execute_result"
    }
   ],
   "source": [
    "videosF2 = openJson('../jsons/videosF2.json')\n",
    "len(videosF2)"
   ]
  },
  {
   "cell_type": "code",
   "execution_count": 10,
   "id": "c2b7ed2c",
   "metadata": {},
   "outputs": [],
   "source": [
    "def getVideo(ID):\n",
    "    for video in videosF2:\n",
    "        if video['id_video']==ID:\n",
    "            return video"
   ]
  },
  {
   "cell_type": "code",
   "execution_count": null,
   "id": "53f9fba8",
   "metadata": {},
   "outputs": [],
   "source": [
    "retourExperte = []\n",
    "\n",
    "for FNid in FN_video_Ids:\n",
    "    FN_video = getVideo(FNid)\n",
    "    FN_video['groundTruth']='pertinente'\n",
    "    retourExperte.append(FN_video)\n",
    "        \n",
    "saveJson('../jsons/retourExperte.json',retourExperte)\n",
    "print(len(retourExperte))"
   ]
  },
  {
   "cell_type": "code",
   "execution_count": null,
   "id": "fd266a6a",
   "metadata": {},
   "outputs": [],
   "source": [
    "for FPid in FP_dict.keys():\n",
    "    FP_video = getVideo(FPid)\n",
    "    FP_video['groundTruth']='Non_pertinente'\n",
    "    FP_video['FP_type']= FP_dict[FPid]\n",
    "    retourExperte.append(FP_video)\n",
    "        \n",
    "saveJson('../jsons/retourExperte.json',retourExperte)\n",
    "print(len(retourExperte))"
   ]
  },
  {
   "cell_type": "markdown",
   "id": "0e285043",
   "metadata": {},
   "source": [
    "# Tester le nouveau prompt"
   ]
  },
  {
   "cell_type": "code",
   "execution_count": null,
   "id": "16a0855b",
   "metadata": {},
   "outputs": [],
   "source": [
    "from langchain_google_genai import GoogleGenerativeAI\n",
    "from langchain_core.prompts import ChatPromptTemplate"
   ]
  },
  {
   "cell_type": "code",
   "execution_count": null,
   "id": "dd1177de",
   "metadata": {},
   "outputs": [],
   "source": [
    "gemini_flash_1 = GoogleGenerativeAI(model=\"gemini-2.0-flash\", google_api_key=os.getenv(\"GOOGLE_API_KEY_1\"),temperature = 0.1)\n",
    "gemini_flash_2 = GoogleGenerativeAI(model=\"gemini-2.0-flash\", google_api_key=os.getenv(\"GOOGLE_API_KEY_2\"),temperature = 0.1)\n",
    "gemini_flash_3 = GoogleGenerativeAI(model=\"gemini-2.0-flash\", google_api_key=os.getenv(\"GOOGLE_API_KEY_3\"),temperature = 0.1)"
   ]
  },
  {
   "cell_type": "code",
   "execution_count": null,
   "id": "76a32b93",
   "metadata": {},
   "outputs": [],
   "source": [
    "sysprompt = \"\"\"\n",
    "# La définition d’autosuffisance\n",
    "---\n",
    "\n",
    "L'autosuffisance est la démarche visant à acquérir la capacité de subvenir par soi-même à ses besoins fondamentaux, \n",
    "en premier lieu alimentaires par l'autoconsommation – c'est-à-dire produire, récolter et conserver un maximum de sa propre nourriture, \n",
    "souvent en privilégiant le bio, le local et le saisonnier. \n",
    "\n",
    "L'autosuffisance Plus qu'une simple recherche d'autonomie matérielle, elle représente un engagement pour être moins dépendant du système économique et social extérieur, impliquant des choix concrets comme trouver un lieu propice et le concevoir judicieusement (par exemple en permaculture), \n",
    "ainsi qu'un changement dans la manière de valoriser son temps et de consommer, formant ainsi le fondement d'une vie plus autonome.\n",
    "\n",
    "---\n",
    "\n",
    "# Votre mission\n",
    "---\n",
    "\n",
    "- Décider si une vidéo concerne la thématique de l'autosuffisance en se basant sur ses métadonnées (titre, description, tags).  \n",
    "\n",
    "- Attribuer un score (float) de 1 à 10 pour évaluer la pertinence de la vidéo par rapport à la thématique de l'autosuffisance.\n",
    "\n",
    "- Donner un score plus élevé pour les vidéos qui mentionnent explicitement des mots-clés liés à cette thématique.\n",
    "\n",
    "# **Les vidéos non pertinentes (Répondre par non)**\n",
    "---\n",
    "\n",
    "Les vidéos suivants doivent être **exclus**, même s’ils parlent d’autosuffisance ou sont liés à la thématique :\n",
    "\n",
    "\n",
    "- **Les vidéos provenant d'une chaîne TV ou radio**  \n",
    "- **Les vidéos concernant un emplacement hors de la France** \n",
    "- **Les vidéos d'entreprises commercialisant des produits ou des vidéos publicitaires.**  \n",
    "- **Les vidéos hors sujet**, telles que les webinaires, webconférences, ou présentations commerciales.\n",
    "\n",
    "---\n",
    "\n",
    "# **Les vidéos pertinentes (Répondre par oui)**\n",
    "---\n",
    "\n",
    "- Les vlogs, les interviews et les vidéos de partage d'expériences en lien avec l'autosuffisance sont intéressants.  \n",
    "- Les tutoriels et les vidéos de conseils sont également pertinents.  \n",
    "- Les vidéos présentant une technique trés liée à l'autosuffisance.  \n",
    "\n",
    "\n",
    "# Votre réponse  \n",
    "--- \n",
    "\n",
    "- La réponse doit être au format JSON :  \n",
    "\n",
    "    \"decision\": \"oui ou non\",\n",
    "    \"justification\": \"Justifiez votre décision avec des arguments\",\n",
    "    \"score\": Votre évaluation en format décimal pour que ce soit plus précis.\n",
    "\"\"\"\n",
    "\n",
    "userprompt = \"\"\"\n",
    "Titre\n",
    "---\n",
    "{titre}\n",
    "Description\n",
    "---\n",
    "{description}\n",
    "tags\n",
    "---\n",
    "{tags}\n",
    "\"\"\"\n",
    "\n",
    "prompt = ChatPromptTemplate([\n",
    "    (\"system\", sysprompt),\n",
    "    (\"user\", userprompt)\n",
    "])\n",
    "\n",
    "chain_1 = prompt | gemini_flash_1\n",
    "chain_2 = prompt | gemini_flash_2\n",
    "chain_3 = prompt | gemini_flash_3"
   ]
  },
  {
   "cell_type": "markdown",
   "id": "88c69fdd",
   "metadata": {},
   "source": [
    "## Test"
   ]
  },
  {
   "cell_type": "code",
   "execution_count": null,
   "id": "9b8b7bbc",
   "metadata": {},
   "outputs": [],
   "source": [
    "input = {\"titre\":\"Des solutions bon marché pour moderniser ses tracteurs !\",\n",
    "         \"description\":\"Cette semaine, Jean-Paul Hébrard vous emmène à AgriMax ! L'occasion de discuter de l'autonomie des exploitations agricoles, mais aussi de découvrir quelques innovations étonnantes, comme un robot nettoyeur de panneaux photovoltaïques, ou des technolgies de guidage bons marchés et efficaces !\\nEnjoy !\\n\\nS'abonner en 1 clic !\\nhttps://www.youtube.com/channel/UCXur-8uR91-dEiafZevXwGQ/?sub_confirmation=1\\n\\nBonjour à toutes et à tous,\\n\\nPowerBoost est l’émission TV entièrement consacrée à l'agriculture !\\n\\nSi vous avez aimé cette émission n’hésitez pas à la partager, et à venir parler agriculture avec nous sur :\\nInstagram : Powerboosttv\\nFacebook : http://www.facebook.com/powerboosttv\\nTwitter : https://twitter.com/Power_Boost\\nSnapchat : Powerboosttv\\n\\nNos sites partenaires :\\nhttp://www.agriculture-nt.com\\nhttp://www.machinisme-actualites.com\",\n",
    "         \"tags\":', '.join( [\n",
    "     \n",
    "    ])}\n",
    "print(input)\n",
    "print(chain_3.invoke(input))"
   ]
  },
  {
   "cell_type": "code",
   "execution_count": null,
   "id": "348f904b",
   "metadata": {},
   "outputs": [],
   "source": [
    "input = {\"titre\":\"Autonomie - 37 - Installation Nouvelle Pompe D'Arrosage\",\n",
    "         \"description\":\"Pompe : FLUXE MC150\\n1100W, 7200L/H, 4.9bars\\n\\n\\nEt si, vous aussi, vous souhaitez participer, vous pouvez me soutenir via Tipeee : https://fr.tipeee.com/edenguard\\nMerci ! ;)\\n\\nInfos sur mon site internet : http://www.edenguard.fr\",\n",
    "         \"tags\":', '.join( [\n",
    "     \n",
    "    ])}\n",
    "print(input)\n",
    "print(chain_3.invoke(input))"
   ]
  },
  {
   "cell_type": "markdown",
   "id": "0721b684",
   "metadata": {},
   "source": [
    "## Exécuter sur l'ensemble"
   ]
  },
  {
   "cell_type": "code",
   "execution_count": null,
   "id": "221a62ae",
   "metadata": {},
   "outputs": [],
   "source": [
    "retourExperte = openJson('../jsons/retourExperte.json')\n",
    "len(retourExperte)"
   ]
  },
  {
   "cell_type": "code",
   "execution_count": null,
   "id": "8bf7daf9",
   "metadata": {},
   "outputs": [],
   "source": [
    "def cleanAnswer(answer):\n",
    "    answer = answer.strip(\"`\")   \n",
    "    if answer.startswith(\"json\"):\n",
    "        answer = answer[4:].strip() \n",
    "    return  answer"
   ]
  },
  {
   "cell_type": "code",
   "execution_count": null,
   "id": "3c98fcd9",
   "metadata": {},
   "outputs": [],
   "source": [
    "count1 = 0\n",
    "count2 = 0\n",
    "count3 = 0\n",
    "\n",
    "for item in tqdm(retourExperte):\n",
    "  \n",
    "    input = {\"titre\":item['titre_video'],\n",
    "             \"description\":item['description'],\n",
    "             \"tags\":', '.join(item['tags']),}\n",
    "    try:\n",
    "        if count1  <= 13:\n",
    "        \n",
    "            answer = cleanAnswer(chain_1.invoke(input))\n",
    "            answer = json.loads(answer)\n",
    "            item.update(answer)\n",
    "            \n",
    "            count1+=1\n",
    "            \n",
    "        if count1  > 13 and count2 <= 13:\n",
    "            \n",
    "            answer = cleanAnswer(chain_2.invoke(input))\n",
    "            answer = json.loads(answer)\n",
    "            item.update(answer)\n",
    "            \n",
    "            count2+=1\n",
    " \n",
    "        if  count1  > 13 and count2  > 13 and count3 <= 13:\n",
    "           \n",
    "            answer = cleanAnswer(chain_3.invoke(input))\n",
    "            answer = json.loads(answer)\n",
    "            item.update(answer)\n",
    "            \n",
    "            count3+=1\n",
    "      \n",
    "        if count1 > 13 and count2 > 13 and count3 > 13 :\n",
    "            print(\"sleep for 50 s\")\n",
    "            time.sleep(50)\n",
    "            count1 = 0\n",
    "            count2 = 0\n",
    "            count3 = 0\n",
    "            \n",
    "    except Exception as e:\n",
    "        print(f\"error {e}\")\n",
    "        \n",
    "saveJson(\"../jsons/retourExperte.json\",retourExperte)"
   ]
  },
  {
   "cell_type": "code",
   "execution_count": null,
   "id": "71cefc61",
   "metadata": {},
   "outputs": [],
   "source": [
    "for item in retourExperte:\n",
    "    \n",
    "    if item['decision'] == 'non' and item['score'] <3:\n",
    "        item['prédiction']='Non_pertinente'\n",
    "    else :\n",
    "        \n",
    "        ip = 0.5*( len(item['requete'])  + item['score'])\n",
    "        item['IP'] = ip\n",
    "        if ip > 4 :\n",
    "            item['prédiction']='pertinente'\n",
    "        else :\n",
    "            item['prédiction']='Non_pertinente'\n",
    "\n",
    "saveJson(\"../jsons/retourExperte.json\",retourExperte)"
   ]
  },
  {
   "cell_type": "markdown",
   "id": "4c9d19d4",
   "metadata": {},
   "source": [
    "## Calculer les métriques d’évaluation\n"
   ]
  },
  {
   "cell_type": "code",
   "execution_count": null,
   "metadata": {},
   "outputs": [],
   "source": [
    "def getEvaluationMetrics(TP,TN,FP,FN):\n",
    "    \n",
    "    accuracy = (TP + TN) / (TP + TN + FP + FN)\n",
    "    precision = TP / (TP + FP)\n",
    "    recall = TP / (TP + FN)\n",
    "    f1_score = 2 * (precision * recall) / (precision + recall)\n",
    "    \n",
    "    print(f\"Accuracy : {accuracy:.2%}\")\n",
    "    print(f\"F1-score : {f1_score:.2%}\")\n",
    "    #return round(accuracy,2),round(f1_score,2)\n",
    "\n",
    "def getMetrics():\n",
    "    TP = 0\n",
    "    FP = 0\n",
    "    TN = 0\n",
    "    FN = 0\n",
    "    for video in retourExperte:\n",
    "        if video['groundTruth'] == 'pertinente':\n",
    "            if video['prédiction'] == 'pertinente':\n",
    "                TP+=1\n",
    "            else :\n",
    "                FN +=1\n",
    "                \n",
    "        if video['groundTruth'] == 'Non_pertinente':\n",
    "            if video['prédiction'] == 'Non_pertinente':\n",
    "                TN+=1\n",
    "            else :\n",
    "                FP +=1 \n",
    "                   \n",
    "    getEvaluationMetrics(TP,TN,FP,FN)           \n"
   ]
  },
  {
   "cell_type": "code",
   "execution_count": null,
   "id": "85b7ba20",
   "metadata": {},
   "outputs": [],
   "source": [
    "retourExperte = openJson('../jsons/retourExperte.json')\n",
    "len(retourExperte)"
   ]
  },
  {
   "cell_type": "code",
   "execution_count": null,
   "id": "c39a2080",
   "metadata": {},
   "outputs": [],
   "source": [
    "getMetrics()"
   ]
  },
  {
   "cell_type": "markdown",
   "id": "0cd68efc",
   "metadata": {},
   "source": [
    "# Rectifier les résultats de filtrage"
   ]
  },
  {
   "cell_type": "markdown",
   "id": "d0651158",
   "metadata": {},
   "source": [
    "- On va passer les faux négatifs au fichier des vidéos pertinentes et les faux positifs au fichier des vidéos non pertinentes.\n"
   ]
  },
  {
   "cell_type": "code",
   "execution_count": 21,
   "id": "4d25657a",
   "metadata": {},
   "outputs": [
    {
     "name": "stdout",
     "output_type": "stream",
     "text": [
      "3104\n",
      "1499\n"
     ]
    }
   ],
   "source": [
    "videosF3 = openJson('../jsons/videosF3.json')\n",
    "videosF3Non = openJson('../jsons/videosF3Non.json')\n",
    "\n",
    "print(len(videosF3))\n",
    "print(len(videosF3Non))"
   ]
  },
  {
   "cell_type": "code",
   "execution_count": 17,
   "id": "9e1289a3",
   "metadata": {},
   "outputs": [
    {
     "name": "stdout",
     "output_type": "stream",
     "text": [
      "\u001b[1m\u001b[32m\n",
      " json saved\u001b[0m\n"
     ]
    },
    {
     "data": {
      "text/plain": [
       "3104"
      ]
     },
     "execution_count": 17,
     "metadata": {},
     "output_type": "execute_result"
    }
   ],
   "source": [
    "for id in FN_video_Ids:\n",
    "    video = getVideo(id)\n",
    "    videosF3.append(video)\n",
    "\n",
    "saveJson('../jsons/videosF3.json',videosF3)\n",
    "len(videosF3)"
   ]
  },
  {
   "cell_type": "code",
   "execution_count": 18,
   "id": "c4ba8597",
   "metadata": {},
   "outputs": [
    {
     "name": "stdout",
     "output_type": "stream",
     "text": [
      "\u001b[1m\u001b[32m\n",
      " json saved\u001b[0m\n"
     ]
    },
    {
     "data": {
      "text/plain": [
       "1499"
      ]
     },
     "execution_count": 18,
     "metadata": {},
     "output_type": "execute_result"
    }
   ],
   "source": [
    "for id in FP_dict.keys():\n",
    "    video = getVideo(id)\n",
    "    videosF3Non.append(video)\n",
    "\n",
    "saveJson('../jsons/videosF3Non.json',videosF3Non)\n",
    "len(videosF3Non)"
   ]
  },
  {
   "cell_type": "markdown",
   "id": "b982d5d4",
   "metadata": {},
   "source": [
    "## Visualisation des résultats"
   ]
  },
  {
   "cell_type": "code",
   "execution_count": 24,
   "id": "4727062e",
   "metadata": {},
   "outputs": [
    {
     "name": "stderr",
     "output_type": "stream",
     "text": [
      "Ignoring fixed y limits to fulfill fixed data aspect with adjustable data limits.\n"
     ]
    },
    {
     "data": {
      "image/png": "[encoded data removed]",
      "text/plain": [
       "<Figure size 1200x1200 with 1 Axes>"
      ]
     },
     "metadata": {},
     "output_type": "display_data"
    }
   ],
   "source": [
    "import matplotlib.pyplot as plt\n",
    "from matplotlib.patches import Wedge\n",
    "\n",
    "sizes = [3104, 1499]\n",
    "colors = ['lightgreen', 'lightcoral']\n",
    "explode = (0, 0.1)\n",
    "\n",
    "angle_start = 140\n",
    "angle_non = angle_start + (sizes[0] / sum(sizes)) * 360\n",
    "\n",
    "fig, ax = plt.subplots(figsize=(8, 8), dpi=150)\n",
    "\n",
    "w1 = Wedge(center=(0, 0), r=1, theta1=angle_start, theta2=angle_non,\n",
    "           facecolor='lightgreen', edgecolor='black', lw=2, zorder=5)\n",
    "w2 = Wedge(center=(0, 0), r=1, theta1=angle_non, theta2=angle_start + 360,\n",
    "           facecolor='lightcoral', edgecolor='black', hatch='//', lw=2, zorder=5)\n",
    "\n",
    "ax.add_patch(w1)\n",
    "ax.add_patch(w2)\n",
    "\n",
    "ax.text(-0.5, -1.2, f'Pertinente ({sizes[0]}) {sizes[0]/sum(sizes)*100:.1f}%', fontsize=14, ha='center', fontweight='bold', zorder=10)\n",
    "ax.text(0.5, 1.1, f'Non Pertinente ({sizes[1]}) {sizes[1]/sum(sizes)*100:.1f}%', fontsize=14, ha='center', fontweight='bold', zorder=10)\n",
    "\n",
    "ax.set_title(\"Répartition des vidéos après retour d'experte\", fontsize=16, fontweight='bold')\n",
    "\n",
    "ax.axis('equal')\n",
    "ax.set_xlim(-1.5, 1.5)\n",
    "ax.set_ylim(-1.5, 1.5)\n",
    "ax.axis('off')\n",
    "\n",
    "plt.show()\n"
   ]
  }
 ],
 "metadata": {
  "kernelspec": {
   "display_name": ".venv",
   "language": "python",
   "name": "python3"
  },
  "language_info": {
   "codemirror_mode": {
    "name": "ipython",
    "version": 3
   },
   "file_extension": ".py",
   "mimetype": "text/x-python",
   "name": "python",
   "nbconvert_exporter": "python",
   "pygments_lexer": "ipython3",
   "version": "3.10.16"
  }
 },
 "nbformat": 4,
 "nbformat_minor": 5
}
