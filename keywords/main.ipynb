{
 "cells": [
  {
   "cell_type": "code",
   "execution_count": null,
   "id": "336493e3",
   "metadata": {},
   "outputs": [],
   "source": [
    "from tqdm import tqdm \n",
    "import os\n",
    "from dotenv import load_dotenv\n",
    "\n",
    "load_dotenv()"
   ]
  },
  {
   "cell_type": "markdown",
   "id": "dd1d2681",
   "metadata": {},
   "source": [
    "# 1 Vocabulaire grains"
   ]
  },
  {
   "cell_type": "markdown",
   "id": "b3bb5b34",
   "metadata": {},
   "source": [
    "- Un vocabulaire identifié manuellement va être utilisé comme base pour une extension."
   ]
  },
  {
   "cell_type": "code",
   "execution_count": null,
   "id": "9b4d51c6",
   "metadata": {},
   "outputs": [],
   "source": []
  },
  {
   "cell_type": "markdown",
   "id": "0292abb6",
   "metadata": {},
   "source": [
    "# 2 Extension avec un LLM"
   ]
  },
  {
   "cell_type": "markdown",
   "id": "c070af76",
   "metadata": {},
   "source": [
    "- On va faire une extension en deux parties : la première en se basant sur les métadonnées d'une vidéo, et la deuxième sur les commentaires."
   ]
  },
  {
   "cell_type": "markdown",
   "id": "48823bf0",
   "metadata": {},
   "source": [
    "## 2.1 Extension basée sur les vidéos"
   ]
  },
  {
   "cell_type": "markdown",
   "id": "57eddcbe",
   "metadata": {},
   "source": [
    "- On va traiter ici que les 4 premières thématiques : maladies\\_ravageurs, eau, sol, adventices (la thématique récoltes est exclusive aux commentaires, donc on la laissera à la deuxième extension)."
   ]
  },
  {
   "cell_type": "code",
   "execution_count": null,
   "id": "9da34d55",
   "metadata": {},
   "outputs": [],
   "source": [
    "from langchain_core.prompts import ChatPromptTemplate"
   ]
  },
  {
   "cell_type": "code",
   "execution_count": null,
   "id": "95ac3610",
   "metadata": {},
   "outputs": [],
   "source": [
    "from langchain_openai import ChatOpenAI\n",
    "\n",
    "gpt_4_1_mini = ChatOpenAI(\n",
    "    model=\"openai/gpt-4.1-mini\",\n",
    "    temperature=0,\n",
    "    max_retries=2,\n",
    "    api_key=os.getenv(\"GITHUB_TOKEN_ITSAIDI\"),\n",
    "    base_url=\"https://models.github.ai/inference\",\n",
    ")"
   ]
  },
  {
   "cell_type": "code",
   "execution_count": null,
   "metadata": {},
   "outputs": [],
   "source": [
    "sysPrompt = \"\"\"\n",
    "- Tu es un expert en extraction de mots clés.\n",
    "\n",
    "# Les thématiques :\n",
    "---\n",
    "\n",
    "##------------------------- Maladies_Ravageurs\n",
    "\n",
    "### Définition :\n",
    " \n",
    "Cette classe inclut les actions mises en place pour gérer les maladies et ravageurs des plantes cultivées (arbres compris), comme les limaces, les pucerons, les maladies fongiques, etc. \n",
    "Peut inclure, par exemple, des actions telles que le traitement avec bouillie bordelaise, les traitements par des purins, le lâcher de poules ou de canards indiens, le choix des porte-greffes ou des variétés résistantes, \n",
    "l’organisation spatiale des cultures pour éviter la concentration d’une même espèce, la plantation d’espèces végétales réputées protectrices.\n",
    "\n",
    "### Exemples de mots clés\n",
    "\n",
    "\n",
    "##------------------------- Eau \n",
    "\n",
    "### Définition :\n",
    "\n",
    "Cette classe inclut les actions mises en place pour gérer l’eau dans la production agricole – qu’il s’agisse d’accès à l’eau (puits, source, réseau d’eau potable, ...), \n",
    "de manque d’eau (sécheresse...), d’excès d’eau (sols hydromorphes...), les économies d’eau pour éviter le gaspillage et réduire les coûts. \n",
    "Ces actions peuvent être, par exemple, la mise en place de paillage pour éviter l’évaporation en été, l’irrigation par goutte-à-goutte, etc.\n",
    "\n",
    "\n",
    "### Exemples de mots clés\n",
    "\n",
    "\n",
    "##------------------------- Sol\n",
    "\n",
    "### Définition :\n",
    " \n",
    "Cette classe inclut des actions mises en place pour rendre le sol le plus en adéquation possible avec les besoins des plantes cultivées, \n",
    "en termes de structure, composition et fertilité. Quelques exemples de telles actions sont l’apport d’engrais organique ou pas (fumiers divers, engrais de synthèse ; apport de compost) ; l’apport de biomasse en paillage (paille, foin, broyat, BRF, feuilles mortes, branchages coupés pour cet objectif) ; \n",
    "favoriser le vivant dans le sol ; pratiquer la perturbation des végétaux « sacrificiels » pour stimuler les végétaux autour d’eux.\n",
    "\n",
    "\n",
    "### Exemples de mots clés\n",
    "\n",
    "\n",
    "##------------------------- Adventices \n",
    "\n",
    "### Définition :\n",
    " \n",
    "Cette classe inclut des actions mises en place pour gérer les végétaux indésirables, aussi nommés « mauvaises herbes » ou adventices. \n",
    "Des exemples incluent l’utilisation de bâches en tissu renforcé, la mise en place de couverts végétaux, la densification des cultures, le désherbage manuel, mécanique ou chimique.\n",
    "\n",
    "\n",
    "### Exemples de mots clés\n",
    "\n",
    "-->\n",
    "\n",
    "\\n\n",
    "\n",
    "# Ta mission :\n",
    "---\n",
    "- À partir d’un contexte composé de métadonnées issues d’une ou plusieurs vidéos YouTube \n",
    "(titre, description, tags), tu dois extraire les mots clés appartenant à chacune des 4 thématiques prédéfinies.\n",
    "\n",
    "\\n\n",
    "\n",
    "# Ta réponse :\n",
    "---\n",
    "- Ta réponse doit être un objet JSON.\n",
    "- Les clés du JSON sont les 4 thématiques en minuscules.\n",
    "- La valeur associée à chaque clé est une liste de mots clés spécifiques à cette thématique.\n",
    "\n",
    "\\n\n",
    "\n",
    "# Consignes :\n",
    "---\n",
    "- N’ajoute aucune explication, seulement le JSON en sortie.\n",
    "- Limite l’extraction des mots clés strictement au contexte fourni.\n",
    "- Ne crée pas de mots clés génériques ou hors-sujet.\n",
    "\"\"\"\n",
    "\n",
    "userprompt = \"\"\"\n",
    "Le Contexte\n",
    "---\n",
    "\n",
    "{contexte}\n",
    "\"\"\"\n",
    "\n",
    "prompt = ChatPromptTemplate([\n",
    "    (\"system\", sysPrompt),\n",
    "    (\"user\", userprompt)\n",
    "])\n",
    "\n",
    "chain = prompt | gpt_4_1_mini"
   ]
  },
  {
   "cell_type": "markdown",
   "id": "994c2aac",
   "metadata": {},
   "source": [
    "### 2.1.1 Prepare the Input"
   ]
  },
  {
   "cell_type": "code",
   "execution_count": null,
   "id": "10dc402c",
   "metadata": {},
   "outputs": [],
   "source": [
    "def getContext(videos):\n",
    "    contexte = \"\"\n",
    "    \n",
    "    for video in videos:\n",
    "        titre = video['titre']\n",
    "        description = video['description']\n",
    "        tags = \", \".join(video['tags'])       \n",
    "        contexte += f\"\"\"\n",
    "# Video\n",
    "---\n",
    "## Titre\n",
    "\n",
    "{titre}\n",
    "\n",
    "## Description\n",
    "\n",
    "{description}\n",
    "\n",
    "## Tags\n",
    "\n",
    "{tags}\n",
    "\"\"\"\n",
    "    return contexte\n",
    "        "
   ]
  },
  {
   "cell_type": "markdown",
   "id": "818a0dc9",
   "metadata": {},
   "source": [
    "- test getContext"
   ]
  },
  {
   "cell_type": "code",
   "execution_count": null,
   "metadata": {},
   "outputs": [],
   "source": [
    "videos_test = [\n",
    "    {\n",
    "        \"titre\": \"Récolte des pommes en permaculture\",\n",
    "        \"description\": \"Dans cette vidéo, nous découvrons comment récolter des pommes sans perturber l'écosystème du verger.\",\n",
    "        \"tags\": [\"récolte\", \"pommes\", \"permaculture\", \"verger\", \"écologie\"]\n",
    "    },\n",
    "    {\n",
    "        \"titre\": \"Gérer l'eau en agriculture\",\n",
    "        \"description\": \"Techniques d'irrigation économes et astuces pour optimiser l’eau en période de sécheresse.\",\n",
    "        \"tags\": [\"eau\", \"irrigation\", \"sécheresse\", \"agriculture durable\"]\n",
    "    }\n",
    "]\n",
    "print(getContext(videos_test))"
   ]
  },
  {
   "cell_type": "code",
   "execution_count": 28,
   "id": "018bbc4b",
   "metadata": {},
   "outputs": [],
   "source": [
    "import psycopg\n",
    "\n",
    "conn = psycopg.connect(\n",
    "    dbname=\"youtubestay\",\n",
    "    user=\"postgres\",\n",
    "    password=os.getenv(\"POSTGRE_PASSWORD\"),\n",
    "    host=\"localhost\",\n",
    "    port=\"5432\"\n",
    ")"
   ]
  },
  {
   "cell_type": "code",
   "execution_count": 29,
   "id": "6177261b",
   "metadata": {},
   "outputs": [
    {
     "name": "stdout",
     "output_type": "stream",
     "text": [
      "{'id_video': '8q3Bq2l015I', 'titre': 'La REINE du jardin est dans la place ! Etat des lieux après plantation. #jardin #nature #garden', 'description': 'Bonjour mes HONORABLES et mes PETITES MAINS VERTES. la mise en place est quasiment terminée pour cet été. ça fait chaud au coeur.\\n#tomate #hautsdefrance #nord', 'date_publication': datetime.date(2025, 5, 20), 'duree': 610, 'miniature': 'https://i.ytimg.com/vi/8q3Bq2l015I/maxresdefault.jpg', 'langue': 'fr', 'transcription': None, 'tags': None, 'requetes': None, 'id_chaine': 'UCIXF82JbHvwuNmqC1QxJ6eg', 'id_categorie': None}\n",
      "{'id_video': 'a0TffjqYebc', 'titre': \"Isolation d'une Maison Conteneur en Été et Hiver\", 'description': \"Isolation d'une Maison Conteneur en Été et Hiver \\n.\\n#Isolation #Construction #Autonomie\", 'date_publication': datetime.date(2025, 5, 20), 'duree': 62, 'miniature': 'https://i.ytimg.com/vi/a0TffjqYebc/maxresdefault.jpg', 'langue': 'fr', 'transcription': None, 'tags': None, 'requetes': None, 'id_chaine': 'UCnIGrvSrQF7uCovnIm8LCSQ', 'id_categorie': None}\n",
      "{'id_video': '80ZJdAtSSo8', 'titre': 'Incroyable tunnel potager : que récolte-t-on en ce moment ?', 'description': 'Pénétrez dans mon tunnel potager où une belle diversité de légumes s\\'épanouit ! De la terre à la récolte, je vous montre mes astuces et les premiers fruits de mon travail.\\nRejoignez cette chaîne pour bénéficier d\\'avantages exclusifs\\xa0:\\nhttps://www.youtube.com/channel/UCFiG3Q_TJpEci70-ovCw92w/join\\n\\nApprendre, comprendre et réussir votre jardin au nord de la France pour les débutants.\\n\\n=======================================\\n\\nMes meilleurs conseils pour ne pas se tromper.\\nNouveau le guide de la création d\\'un potager: \\nhttps://www.lejardinderodolphe.fr/\\nhttps://www.lejardinderodolphe.fr/\\nNouvelle chaîne secondaire:  Créer son entreprise https://www.youtube.com/channel/UCR3ZNCPLW81omVanb_Y8sAw\\n\\n=======================================\\n\\n➜ A   P R O P O S   D E   M O N   JARDIN : \\nIci, on parle jardin. Mais attention ! Pas le jardinage technique que seuls les spécialistes peuvent comprendre ! Non, ici, on échange des astuces, des \"trucs\", des expériences plus ou moins réussies mais qui dans tous les cas feront progresser dans cet art du jardinage.\\nDîtes moi dans vos commentaires ce que vous en pensez. Dites moi quel sujet vous intéresserait. Plus vous serez nombreux et nombreuses, plus la chaîne sera de qualité. Merci à tous mes abonnés et aux futurs. Rodolphe.\\n\\n======================================\\n\\n➜ S O U T E N E Z   L A  C H A I N E : \\nSoutenez la chaîne avec un petit don par pure générosité Merci :)\\n\\nDans la description, je vous ai sélectionné des produits sur le jardinage.\\nMON SITE INTERNET ▶ http://www.lejardinderodolphe.fr/\\n\\nLES AROMATIQUES: https://www.lejardinderodolphe.fr/\\n\\nLES LEGUMES: https://www.lejardinderodolphe.fr/\\n\\nLE MATERIEL: https://www.lejardinderodolphe.fr/\\nhttps://www.amazon.fr/shop/lejardinderodolphe \\n\\n https://fr.tipeee.com/le-jardin-de-rodolphe\\n=====================================\\n\"00:00\" Présentation\\n\\nChaîne secondaire: Créer son entreprise horticole https://www.youtube.com/channel/UCR3ZNCPLW81omVanb_Y8sAw\\n\\n➜ M E N T I O N S  L E G A L E S : \\nCette description contient des liens affiliés. Si vous utilisez ces liens pour vos achats, le prix de votre panier reste identique, mais je touche une petite commission, ce qui vous permet de soutenir le développement de la chaîne. Merci.', 'date_publication': datetime.date(2025, 5, 20), 'duree': 283, 'miniature': 'https://i.ytimg.com/vi/80ZJdAtSSo8/maxresdefault.jpg', 'langue': 'fr', 'transcription': None, 'tags': ['Jardinage', 'comment démarrer un potager', 'le maraichage sur sol vivant', 'le potager sur sol vivant', 'permaculture', 'jardin potager', 'les légumes faciles à cultiver', 'Légumes faciles pour débutant', 'Quel légumes pousse facilement ?', 'calendrier des semis', 'Quels sont les premiers légumes à planter ?', '10 légumes à cultiver pour le potager du débutant', 'Quel légume faire pousser dans le jardin ?', 'Quels légumes planter en 2023 ?', 'Quels légumes semer en 2023 ?', 'semer et plantation en 2024'], 'requetes': None, 'id_chaine': 'UCFiG3Q_TJpEci70-ovCw92w', 'id_categorie': None}\n",
      "{'id_video': 'O16t9Zzbzy8', 'titre': 'Les Alvéoles - Centre de formation en Agroécologie, Permaculture Drôme', 'description': '🌳 Bienvenue sur la chaîne Youtube des Alvéoles !\\n\\nInstallé·e·s dans la Biovallée (Drôme), nous développons depuis 2012 plusieurs activités liées à la permaculture et à l’ agroécologie.\\n\\n👨\\u200d🌾 Découvrez notre univers sur  👉 https://www.alveoles.fr\\n\\nLes activités des Alvéoles sont centrées autour de la conception de paysages et d’ environnements durables et nourriciers : un bureau d’études, une auberge apprenante, une pépinière, un jardin expérimental et un organisme de formations avec une sacrée équipe de passionné·e·s !', 'date_publication': datetime.date(2025, 5, 20), 'duree': 35, 'miniature': 'https://i.ytimg.com/vi/O16t9Zzbzy8/maxresdefault.jpg', 'langue': 'fr', 'transcription': None, 'tags': ['alveoles', 'permaculture', 'agroecologie', 'hydrologie regenerative', 'agroforesterie', 'permaculture design', 'antoine talin', 'samuel bonvoisin', 'francois goldin', 'pepiniere', 'drome', 'vercors', 'potager', 'jardin', 'jardin foret', 'foret gourmande', 'foret comestible', 'remi kulik'], 'requetes': None, 'id_chaine': 'UC_v9obyTc6y1HrEmWAJVDyA', 'id_categorie': None}\n",
      "{'id_video': 'rWr3hZSuqPI', 'titre': 'Mealprep à 1,50 euros le repas', 'description': '🍽️ Recettes maison à moins de 1,50 € par personne | Cuisine de saison avec produits du jardin 🌿\\nBienvenue sur ma chaîne dédiée à la cuisine maison, simple, de saison et économique !\\n\\nAujourd’hui, je vous propose un menu complet réalisé avec des ingrédients du potager et quelques produits de base :\\n➡️ Une entrée fraîche aux œufs, radis et fromage blanc\\n➡️ Un plat principal gourmand de crêpes salées aux épinards maison et béchamel\\n➡️ Et en dessert, de délicieuses tartelettes à la rhubarbe du jardin 😍\\n\\nLe tout pour moins de 1,50 € par personne !\\nOui, c’est possible de bien manger, sainement, sans se ruiner — surtout quand on cultive soi-même 🌱🐔\\n\\n👉 Recettes faciles, sans gaspillage, avec des produits simples : œufs maison, légumes du jardin, farine, lait, fromage blanc...\\n👉 Idéal pour les familles, les petits budgets ou celles et ceux qui souhaitent cuisiner de manière plus durable et locale.\\n💬 Abonne-toi pour plus de recettes inspirées de mon potager, de mes poules et de la cuisine maison du quotidien.\\nLike 🍽️, partage 🌼, et dis-moi en commentaire si tu cuisines toi aussi avec ton jardin !\\n\\nRECHAUD FONTE : https://amzn.to/4a5Nhok\\nYAOUTIERE : https://amzn.to/404LNps\\nGAUFFRIER : https://amzn.to/4a5NojK\\nFOUR PORTABLE : https://amzn.to/3ZZxliM\\nFOUR SOLAIRE : https://amzn.to/4a2O9d4\\nKIT CUISSON FONTE : https://amzn.to/3DFjrut\\nFOUR SOLAIRE DE CAMPING : https://amzn.to/3RIIK2v\\n\\nTIPEE : https://fr.tipeee.com/mamanecolifeint...\\nINSTAGRAM :  https://www.instagram.com/gargouille_des_campagnes/', 'date_publication': datetime.date(2025, 5, 20), 'duree': 1191, 'miniature': 'https://i.ytimg.com/vi/rWr3hZSuqPI/maxresdefault.jpg', 'langue': 'fr', 'transcription': None, 'tags': ['maman vit à la campagne', 'mealprep', 'petit budget', 'cuisine', 'recette facile', 'cuisine facile', 'faire son potager', 'faire son jardin', 'cuisiner des légumes de saison', 'campagne', 'maman', 'economie', 'cuisine avec des restes', 'budget', 'econome', 'jardin'], 'requetes': None, 'id_chaine': 'UCXdEIUUBD8jUl9M0BxnpqxA', 'id_categorie': None}\n"
     ]
    }
   ],
   "source": [
    "cur = conn.cursor()\n",
    "\n",
    "query = \"\"\"\n",
    "select * from videos \n",
    "order by date_publication desc \n",
    "limit 5\n",
    "\"\"\"\n",
    "\n",
    "cur.execute(query)\n",
    "rows = cur.fetchall()\n",
    "\n",
    "column_names = [desc[0] for desc in cur.description] \n",
    "\n",
    "videos_metadata = [dict(zip(column_names, row)) for row in rows]\n",
    "\n",
    "for video in videos_metadata:\n",
    "    print(video)\n",
    "\n",
    "cur.close()\n",
    "conn.close()"
   ]
  },
  {
   "cell_type": "code",
   "execution_count": null,
   "id": "ac715261",
   "metadata": {},
   "outputs": [],
   "source": []
  },
  {
   "cell_type": "code",
   "execution_count": null,
   "id": "0c0e18fe",
   "metadata": {},
   "outputs": [],
   "source": []
  },
  {
   "cell_type": "code",
   "execution_count": null,
   "metadata": {},
   "outputs": [],
   "source": []
  },
  {
   "cell_type": "code",
   "execution_count": null,
   "id": "5d1396cd",
   "metadata": {},
   "outputs": [],
   "source": []
  },
  {
   "cell_type": "code",
   "execution_count": null,
   "id": "21d33f87",
   "metadata": {},
   "outputs": [],
   "source": []
  }
 ],
 "metadata": {
  "kernelspec": {
   "display_name": ".venv",
   "language": "python",
   "name": "python3"
  },
  "language_info": {
   "codemirror_mode": {
    "name": "ipython",
    "version": 3
   },
   "file_extension": ".py",
   "mimetype": "text/x-python",
   "name": "python",
   "nbconvert_exporter": "python",
   "pygments_lexer": "ipython3",
   "version": "3.10.16"
  }
 },
 "nbformat": 4,
 "nbformat_minor": 5
}
