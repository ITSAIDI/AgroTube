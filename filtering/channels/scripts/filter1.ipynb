{
 "cells": [
  {
   "cell_type": "code",
   "execution_count": 1,
   "id": "edc93174",
   "metadata": {},
   "outputs": [
    {
     "data": {
      "text/plain": [
       "True"
      ]
     },
     "execution_count": 1,
     "metadata": {},
     "output_type": "execute_result"
    }
   ],
   "source": [
    "from collections import Counter\n",
    "from tqdm import tqdm \n",
    "from colorama import Style,Fore\n",
    "import os\n",
    "from dotenv import load_dotenv\n",
    "import json\n",
    "import time\n",
    "load_dotenv()"
   ]
  },
  {
   "cell_type": "code",
   "execution_count": 2,
   "id": "c9cc6172",
   "metadata": {},
   "outputs": [],
   "source": [
    "def openJson(path):\n",
    "    with open(path, \"r\", encoding=\"utf-8\") as file:\n",
    "        data = json.load(file)\n",
    "    return data\n",
    "\n",
    "def saveJson(path,data):\n",
    "    with open(path, \"w\", encoding=\"utf-8\") as f:\n",
    "       json.dump(data, f, ensure_ascii=False, indent=2)\n",
    "       print(Style.BRIGHT+Fore.GREEN+'\\n json saved'+Style.RESET_ALL)"
   ]
  },
  {
   "cell_type": "code",
   "execution_count": 3,
   "id": "72f9c16a",
   "metadata": {},
   "outputs": [
    {
     "data": {
      "text/plain": [
       "4504"
      ]
     },
     "execution_count": 3,
     "metadata": {},
     "output_type": "execute_result"
    }
   ],
   "source": [
    "videosF2 = openJson(r\"C:\\Users\\hp\\AgroTube\\filtering\\videos\\jsons\\videosF2.json\")\n",
    "len(videosF2)"
   ]
  },
  {
   "cell_type": "code",
   "execution_count": 4,
   "id": "7d43b074",
   "metadata": {},
   "outputs": [
    {
     "data": {
      "text/plain": [
       "3309"
      ]
     },
     "execution_count": 4,
     "metadata": {},
     "output_type": "execute_result"
    }
   ],
   "source": [
    "videosF3 = openJson(r\"C:\\Users\\hp\\AgroTube\\filtering\\videos\\jsons\\videosF3.json\")\n",
    "channelsR1 = openJson(\"../jsons/channelsR1.json\")\n",
    "len(channelsR1)"
   ]
  },
  {
   "cell_type": "markdown",
   "id": "7ac71da5",
   "metadata": {},
   "source": [
    "Every video has a channel"
   ]
  },
  {
   "cell_type": "code",
   "execution_count": 8,
   "id": "a11b1dd6",
   "metadata": {},
   "outputs": [],
   "source": [
    "for video in videosF3:\n",
    "    exist = False\n",
    "    for channel in channelsR1:\n",
    "        if video['id_chaine'] == channel['id_chaine']:\n",
    "            exist = True\n",
    "    if exit == False:\n",
    "        print(\"vidoe No cahnnel\")"
   ]
  },
  {
   "cell_type": "markdown",
   "id": "2dfa047c",
   "metadata": {},
   "source": [
    "Every channel has at least a video"
   ]
  },
  {
   "cell_type": "code",
   "execution_count": 10,
   "id": "339baefa",
   "metadata": {},
   "outputs": [],
   "source": [
    "for channel in channelsR1:\n",
    "    exist = False\n",
    "    for video in videosF3:\n",
    "        if video['id_chaine'] == channel['id_chaine']:\n",
    "            exist = True\n",
    "    if exit == False:\n",
    "        print(\"channel with no videos\")"
   ]
  },
  {
   "cell_type": "code",
   "execution_count": 11,
   "id": "d6b0dce5",
   "metadata": {},
   "outputs": [
    {
     "name": "stdout",
     "output_type": "stream",
     "text": [
      "\u001b[1m\u001b[32m\n",
      " json saved\u001b[0m\n",
      "1868\n"
     ]
    }
   ],
   "source": [
    "channelsF1 = []\n",
    "for channel in channelsR1:\n",
    "    if channel['localisation']=='FR':\n",
    "        channelsF1.append(channel)\n",
    "\n",
    "saveJson(\"../jsons/channelsF1.json\",channelsF1)\n",
    "print(len(channelsF1))"
   ]
  },
  {
   "cell_type": "code",
   "execution_count": null,
   "metadata": {},
   "outputs": [],
   "source": []
  }
 ],
 "metadata": {
  "kernelspec": {
   "display_name": ".venv",
   "language": "python",
   "name": "python3"
  },
  "language_info": {
   "codemirror_mode": {
    "name": "ipython",
    "version": 3
   },
   "file_extension": ".py",
   "mimetype": "text/x-python",
   "name": "python",
   "nbconvert_exporter": "python",
   "pygments_lexer": "ipython3",
   "version": "3.10.16"
  }
 },
 "nbformat": 4,
 "nbformat_minor": 5
}
