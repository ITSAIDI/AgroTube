{
 "cells": [
  {
   "cell_type": "code",
   "execution_count": 1,
   "id": "be9c1a5a",
   "metadata": {},
   "outputs": [
    {
     "data": {
      "text/plain": [
       "True"
      ]
     },
     "execution_count": 1,
     "metadata": {},
     "output_type": "execute_result"
    }
   ],
   "source": [
    "from collections import Counter\n",
    "from tqdm import tqdm \n",
    "from colorama import Style,Fore\n",
    "import os\n",
    "from dotenv import load_dotenv\n",
    "import json\n",
    "import time\n",
    "load_dotenv()"
   ]
  },
  {
   "cell_type": "code",
   "execution_count": 2,
   "id": "8727f8b7",
   "metadata": {},
   "outputs": [],
   "source": [
    "def openJson(path):\n",
    "    with open(path, \"r\", encoding=\"utf-8\") as file:\n",
    "        data = json.load(file)\n",
    "    return data\n",
    "\n",
    "def saveJson(path,data):\n",
    "    with open(path, \"w\", encoding=\"utf-8\") as f:\n",
    "       json.dump(data, f, ensure_ascii=False, indent=2)\n",
    "       print(Style.BRIGHT+Fore.GREEN+'\\n json saved'+Style.RESET_ALL)"
   ]
  },
  {
   "cell_type": "markdown",
   "id": "0b2c29a7",
   "metadata": {},
   "source": [
    "# Short Bio probleme resolution"
   ]
  },
  {
   "cell_type": "code",
   "execution_count": 44,
   "id": "797f4b54",
   "metadata": {},
   "outputs": [
    {
     "data": {
      "text/plain": [
       "1836"
      ]
     },
     "execution_count": 44,
     "metadata": {},
     "output_type": "execute_result"
    }
   ],
   "source": [
    "channelsF2 = openJson(\"../jsons/channelsF2.json\")\n",
    "len(channelsF2)"
   ]
  },
  {
   "cell_type": "code",
   "execution_count": null,
   "id": "2f475b43",
   "metadata": {},
   "outputs": [],
   "source": [
    "import matplotlib.pyplot as plt\n",
    "\n",
    "plages = {\n",
    "    '0-10': 0,\n",
    "    '10-50': 0,\n",
    "    '50-100': 0,\n",
    "    '>100': 0\n",
    "}\n",
    "\n",
    "for item in channelsF2:\n",
    "    bio = item.get('bio', '').strip()\n",
    "    nb_mots = len(bio.split())\n",
    "    \n",
    "    if nb_mots <= 10:\n",
    "        plages['0-10'] += 1\n",
    "    elif nb_mots <= 50:\n",
    "        plages['10-50'] += 1\n",
    "    elif nb_mots <= 100:\n",
    "        plages['50-100'] += 1\n",
    "    else:\n",
    "        plages['>100'] += 1\n",
    "\n",
    "labels = list(plages.keys())\n",
    "counts = list(plages.values())\n",
    "total = sum(counts)\n",
    "percentages = [count / total * 100 for count in counts]\n",
    "\n",
    "fig, ax = plt.subplots()\n",
    "bars = ax.bar(labels, counts, color='skyblue')\n",
    "\n",
    "for bar, pct in zip(bars, percentages):\n",
    "    height = bar.get_height()\n",
    "    ax.text(bar.get_x() + bar.get_width() / 2, height, f'{pct:.1f}%', \n",
    "            ha='center', va='bottom', fontsize=10)\n",
    "\n",
    "plt.xlabel('Plage de nombre de mots dans le bio')\n",
    "plt.ylabel('Nombre de chaînes')\n",
    "plt.title('Distribution des chaînes selon la longueur du bio')\n",
    "plt.show()\n"
   ]
  },
  {
   "cell_type": "code",
   "execution_count": 45,
   "id": "b5051f3f",
   "metadata": {},
   "outputs": [],
   "source": [
    "from scrapetube import get_channel\n",
    "from googleapiclient.discovery import build\n",
    "\n",
    "def getContext(channel_id):\n",
    "    api_key = os.getenv(\"YOUTUBE_API_KEY2\")\n",
    "    youtube = build('youtube', 'v3', developerKey=api_key)\n",
    "\n",
    "    video_ids = []\n",
    "    for video in get_channel(channel_id, limit=3, sort_by='newest', content_type='videos'):\n",
    "        video_ids.append(video['videoId'])\n",
    "\n",
    "    if not video_ids:\n",
    "        return \"No videos found.\"\n",
    "\n",
    "    request = youtube.videos().list(part='snippet', id=','.join(video_ids))\n",
    "    response = request.execute()\n",
    "\n",
    "    combined = \"\"\n",
    "    for item in response['items']:\n",
    "        title = item['snippet'].get('title', 'No title')\n",
    "        description = item['snippet'].get('description', 'No description')\n",
    "        tags = ', '.join(item['snippet'].get('tags', [])) if 'tags' in item['snippet'] else 'No tags'\n",
    "\n",
    "        combined += f\"Title: {title}\\nDescription: {description}\\nTags: {tags}\\n\\n\"\n",
    "\n",
    "    return combined\n"
   ]
  },
  {
   "cell_type": "code",
   "execution_count": null,
   "id": "7e94bff3",
   "metadata": {},
   "outputs": [],
   "source": [
    "temp = 0\n",
    "for item in tqdm(channelsF2):\n",
    "    bio = item.get('bio', '').strip()\n",
    "    nb_mots = len(bio.split())\n",
    "    \n",
    "    if nb_mots <= 100 :\n",
    "        context = getContext(item['id_chaine'])\n",
    "        item['context'] = context\n",
    "        \n",
    "    temp+=1\n",
    "    if temp >= 100:\n",
    "        saveJson(\"../jsons/channelsF2.json\",channelsF2)\n",
    "        temp = 0\n",
    "   \n",
    "saveJson(\"../jsons/channelsF2.json\",channelsF2)"
   ]
  },
  {
   "cell_type": "code",
   "execution_count": null,
   "id": "097d5611",
   "metadata": {},
   "outputs": [],
   "source": []
  },
  {
   "cell_type": "markdown",
   "id": "4d50fdc1",
   "metadata": {},
   "source": [
    "# 1.Echantillon"
   ]
  },
  {
   "cell_type": "code",
   "execution_count": null,
   "id": "949facc7",
   "metadata": {},
   "outputs": [],
   "source": [
    "import random\n",
    "\n",
    "random.seed(42)\n",
    "echantillon = random.sample(channelsF2, 200)\n",
    "\n",
    "for item in echantillon:\n",
    "    item['link']=f\"https://www.youtube.com/channel/{item['id_chaine']}\"\n",
    "    item['pertinente']=\"\"\n",
    "    \n",
    "saveJson(\"../jsons/echantillon.json\",echantillon)\n",
    "print(len(echantillon))"
   ]
  },
  {
   "cell_type": "markdown",
   "id": "6c7c1168",
   "metadata": {},
   "source": [
    "# 2.Manuel Validation "
   ]
  },
  {
   "cell_type": "code",
   "execution_count": 4,
   "id": "081a8395",
   "metadata": {},
   "outputs": [
    {
     "data": {
      "text/plain": [
       "200"
      ]
     },
     "execution_count": 4,
     "metadata": {},
     "output_type": "execute_result"
    }
   ],
   "source": [
    "echantillon = openJson(\"../jsons/echantillon.json\")\n",
    "len(echantillon)"
   ]
  },
  {
   "cell_type": "code",
   "execution_count": 5,
   "id": "fa6a0bff",
   "metadata": {},
   "outputs": [
    {
     "name": "stdout",
     "output_type": "stream",
     "text": [
      "non → 166 chaines\n",
      "oui → 34 chaines\n"
     ]
    }
   ],
   "source": [
    "valeurs = [item.get(\"pertinente\") for item in echantillon]\n",
    "compteur = Counter(valeurs)\n",
    "\n",
    "for valeur, nb in compteur.items():\n",
    "    print(f\"{valeur} → {nb} chaines\")"
   ]
  },
  {
   "cell_type": "markdown",
   "id": "512537a2",
   "metadata": {},
   "source": [
    "# 3.With LLM"
   ]
  },
  {
   "cell_type": "code",
   "execution_count": 30,
   "id": "31960427",
   "metadata": {},
   "outputs": [],
   "source": [
    "from langchain_google_genai import GoogleGenerativeAI\n",
    "from langchain_core.prompts import ChatPromptTemplate"
   ]
  },
  {
   "cell_type": "code",
   "execution_count": 31,
   "id": "297579f9",
   "metadata": {},
   "outputs": [],
   "source": [
    "gemini_flash_1 = GoogleGenerativeAI(model=\"gemini-2.0-flash\", google_api_key=os.getenv(\"GOOGLE_API_KEY_1\"))\n",
    "gemini_flash_2 = GoogleGenerativeAI(model=\"gemini-2.0-flash\", google_api_key=os.getenv(\"GOOGLE_API_KEY_2\"))\n",
    "gemini_flash_3 = GoogleGenerativeAI(model=\"gemini-2.0-flash\", google_api_key=os.getenv(\"GOOGLE_API_KEY_3\"))"
   ]
  },
  {
   "cell_type": "code",
   "execution_count": 32,
   "id": "cefb2af5",
   "metadata": {},
   "outputs": [],
   "source": [
    "sysprompt2 = \"\"\"\n",
    "# Définition de l’autosuffisance\n",
    "\n",
    "L'autosuffisance est une démarche visant à acquérir la capacité de subvenir par soi-même à ses besoins fondamentaux,  \n",
    "en priorité alimentaires, par l'autoconsommation – c'est-à-dire produire, récolter et conserver un maximum de sa propre nourriture,  \n",
    "souvent en privilégiant le bio, le local et le saisonnier.\n",
    "\n",
    "Elle dépasse la simple autonomie matérielle : c’est un engagement volontaire pour réduire sa dépendance au système économique et social extérieur.  \n",
    "Cela implique des choix concrets : trouver un lieu adapté, l’aménager (par exemple en permaculture), repenser sa manière de consommer et de gérer son temps, pour construire une vie plus autonome.\n",
    "\n",
    "---\n",
    "\n",
    "# Votre mission\n",
    "\n",
    "Décider si une chaîne est directement liée à la thématique de l’autosuffisance, en se basant sur un des deux contextes suivants :\n",
    "- **context** = nom de la chaîne + bio\n",
    "- OU  \n",
    "- **context** = nom de la chaîne + bio + titres, descriptions et tags des trois dernières vidéos (si la bio est courte ou vide)\n",
    "\n",
    "---\n",
    "\n",
    "# Critères de décision\n",
    "\n",
    "## Répondre **\"oui\"** uniquement si la chaîne est portée par :\n",
    "\n",
    "- Des personnes ou des groupes qui cherchent à devenir autonomes (énergie, alimentation, habitat, etc.),  \n",
    "  soit à titre **individuel** (seuls ou en famille),  soit de manière **auto-organisée** (collectifs informels, association ...).\n",
    "\n",
    "Et uniquement si le contenu est **centré sur l’autosuffisance** :  \n",
    "\n",
    "potager, autonomie alimentaire, autonomie énergétique, conservation, vie autonome, permaculture, etc.\n",
    "\n",
    "## La présence de mots-clés comme :  \n",
    "\n",
    "**autosuffisance**, **autosuffisant**, **autonomie**, **vie autonome**, **autonomie alimentaire**, **autonomie énergétique**  \n",
    "\n",
    "est un bon indicateur.\n",
    "\n",
    "## Exclure systématiquement :\n",
    "\n",
    "- Les chaînes d'entreprises, d’institutions ou de structures commerciales (À but lucratif).\n",
    "- Les chaînes d’agriculture générale, de jardinage standard ou de permaculture académique, **si elles ne sont pas clairement orientées vers une démarche d’autosuffisance personnelle ou collective non institutionnelle**.\n",
    "\n",
    "---\n",
    "\n",
    "# Format attendu\n",
    "\n",
    "Répondre dans ce format JSON :\n",
    "\n",
    "  \"decision\": \"oui\" ou \"non\",\n",
    "  \"justification\": \"Justifiez votre décision avec des arguments clairs, en vous basant uniquement sur les critères définis ci-dessus.\"\n",
    "\n",
    "\"\"\"\n"
   ]
  },
  {
   "cell_type": "code",
   "execution_count": 33,
   "id": "0084ce8b",
   "metadata": {},
   "outputs": [],
   "source": [
    "sysprompt = \"\"\"\n",
    "# Définition de l’autosuffisance\n",
    "\n",
    "L'autosuffisance est une démarche visant à acquérir la capacité de subvenir par soi-même à ses besoins fondamentaux,  \n",
    "en priorité alimentaires, par l'autoconsommation – c'est-à-dire produire, récolter et conserver un maximum de sa propre nourriture,  \n",
    "souvent en privilégiant le bio, le local et le saisonnier.\n",
    "\n",
    "Elle dépasse la simple autonomie matérielle : c’est un engagement volontaire pour réduire sa dépendance au système économique et social extérieur.  \n",
    "Cela implique des choix concrets : trouver un lieu adapté, l’aménager (par exemple en permaculture), repenser sa manière de consommer et de gérer son temps, pour construire une vie plus autonome.\n",
    "\n",
    "---\n",
    "\n",
    "# Votre mission\n",
    "\n",
    "Décider si une chaîne est directement liée à la thématique de l’autosuffisance, en se basant sur un des deux contextes suivants :\n",
    "- **context** = nom de la chaîne + bio\n",
    "- OU  \n",
    "- **context** = nom de la chaîne + bio + titres, descriptions et tags des trois dernières vidéos (si la bio est courte ou vide)\n",
    "\n",
    "---\n",
    "\n",
    "# Critères de décision\n",
    "\n",
    "## Répondre **\"oui\"** uniquement si la chaîne est portée par :\n",
    "\n",
    "- Des personnes ou des groupes qui cherchent à devenir autonomes (énergie, alimentation, habitat, etc.),  \n",
    "  soit à titre **individuel** (seuls ou en famille),  soit de manière **auto-organisée** (collectifs informels, association ...).\n",
    "\n",
    "Et uniquement si le contenu est **centré sur l’autosuffisance** :  \n",
    "\n",
    "potager, autonomie alimentaire, autonomie énergétique, conservation, vie autonome, permaculture, etc.\n",
    "\n",
    "## La présence de mots-clés comme :  \n",
    "\n",
    "**autosuffisance**, **autosuffisant**, **autonomie**, **vie autonome**, **autonomie alimentaire**, **autonomie énergétique**  \n",
    "\n",
    "est un bon indicateur.\n",
    "\n",
    "## Exclure systématiquement :\n",
    "\n",
    "- Les chaînes d'entreprises, d’institutions ou de structures commerciales (À but lucratif).\n",
    "- Les chaînes d’agriculture générale, de jardinage standard ou de permaculture académique, **si elles ne sont pas clairement orientées vers une démarche d’autosuffisance personnelle ou collective non institutionnelle**.\n",
    "\n",
    "---\n",
    "\n",
    "# Format attendu\n",
    "\n",
    "Répondre dans ce format JSON :\n",
    "\n",
    "{\n",
    "  \"decision\": \"oui\" ou \"non\",\n",
    "  \"justification\": \"Justifiez votre décision avec des arguments clairs, en vous basant uniquement sur les critères définis ci-dessus.\"\n",
    "}\n",
    "\"\"\"\n",
    "\n",
    "userprompt = \"\"\"\n",
    "Le context ici\n",
    "---\n",
    "{context}\n",
    "\n",
    "\"\"\"\n",
    "\n",
    "prompt = ChatPromptTemplate([\n",
    "    (\"system\", sysprompt2),\n",
    "    (\"user\", userprompt)\n",
    "])\n",
    "\n",
    "chain_1 = prompt | gemini_flash_1\n",
    "chain_2 = prompt | gemini_flash_2\n",
    "chain_3 = prompt | gemini_flash_3\n"
   ]
  },
  {
   "cell_type": "markdown",
   "id": "d570f8f9",
   "metadata": {},
   "source": [
    "## Test"
   ]
  },
  {
   "cell_type": "code",
   "execution_count": 34,
   "id": "cf7c1e2d",
   "metadata": {},
   "outputs": [
    {
     "name": "stdout",
     "output_type": "stream",
     "text": [
      "{'context': (\"\\n                              Nom Chaine :\\n                              ---\\n                              L’Ôton’home\\n                              \\n                              Bio Chaine :\\n                              ---\\n                              Nous sommes un couple parent de 2 jeunes garçons et avons acheté à l’été 2020 une GRANDE GRANGE sur un peu plus de 3 hectares de terrain dans le Tarn. Notre objectif: transformer cette grange en HABITATION la plus AUTONOME possible, ce par nos propres moyens, et en faire notre petit paradis. Venez partager notre aventure et suivre ce projet un peu fou ici.\\n\\nLe but de notre chaîne: montrer toutes les étapes de la TRANSFORMATION de la GRANGE en HABITATION, échanger sur l’AUTONOMIE, partager nos DIY en matière de PRODUITS MÉNAGERS et COSMÉTIQUES, toujours dans une optique d’AUTONOMIE.\\n\\nPrécision importante: nous ne sommes PAS des professionnels du bâtiment donc nos vidéos n'ont pas valeur de tutoriels mais de simples partages d'expérience.\\n\\nN’hésitez pas à laisser vos commentaires et à vous abonner à la chaîne. Vous pouvez également nous retrouver sur Facebook et Tipeee. En espérant pouvoir vous inspirer.\\n\\nDes bises,\\n\\nAurélie & David \\n                            \",)}\n",
      "```json\n",
      "{\n",
      "  \"decision\": \"oui\",\n",
      "  \"justification\": \"La bio de la chaîne mentionne clairement un objectif d'autonomie, la transformation d'une grange en habitation autonome, des DIY de produits ménagers et cosmétiques dans une optique d'autonomie. Les mots-clés 'autonomie' et 'habitation autonome' sont présents.\"\n",
      "}\n",
      "```\n"
     ]
    }
   ],
   "source": [
    "llmInput = \"\\n                              Nom Chaine :\\n                              ---\\n                              L’Ôton’home\\n                              \\n                              Bio Chaine :\\n                              ---\\n                              Nous sommes un couple parent de 2 jeunes garçons et avons acheté à l’été 2020 une GRANDE GRANGE sur un peu plus de 3 hectares de terrain dans le Tarn. Notre objectif: transformer cette grange en HABITATION la plus AUTONOME possible, ce par nos propres moyens, et en faire notre petit paradis. Venez partager notre aventure et suivre ce projet un peu fou ici.\\n\\nLe but de notre chaîne: montrer toutes les étapes de la TRANSFORMATION de la GRANGE en HABITATION, échanger sur l’AUTONOMIE, partager nos DIY en matière de PRODUITS MÉNAGERS et COSMÉTIQUES, toujours dans une optique d’AUTONOMIE.\\n\\nPrécision importante: nous ne sommes PAS des professionnels du bâtiment donc nos vidéos n'ont pas valeur de tutoriels mais de simples partages d'expérience.\\n\\nN’hésitez pas à laisser vos commentaires et à vous abonner à la chaîne. Vous pouvez également nous retrouver sur Facebook et Tipeee. En espérant pouvoir vous inspirer.\\n\\nDes bises,\\n\\nAurélie & David \\n                            \",\n",
    "input = {\"context\":llmInput}\n",
    "print(input)\n",
    "print(chain_1.invoke(input))"
   ]
  },
  {
   "cell_type": "code",
   "execution_count": 35,
   "id": "77e4c83b",
   "metadata": {},
   "outputs": [
    {
     "name": "stdout",
     "output_type": "stream",
     "text": [
      "```json\n",
      "{\n",
      "  \"decision\": \"oui\",\n",
      "  \"justification\": \"La bio de la chaîne mentionne clairement la vie en écovillage et la permaculture, ce qui suggère une démarche d'autonomie et d'autosuffisance. De plus, elle évoque des solutions écologiques durables et un mode de vie plus simple et durable, ce qui correspond aux critères de l'autosuffisance.\"\n",
      "}\n",
      "```\n"
     ]
    }
   ],
   "source": [
    "llmInput = \"\\n                              Nom Chaine :\\n                              ---\\n                              Réenchantons la Terre\\n                              \\n                              Bio Chaine :\\n                              ---\\n                              🐾🌍🎶 Réenchantons la Terre :\\n🌻 Explorer, connecter, célébrer à travers des vidéos sur :\\n- La vie en écovillage et la permaculture.\\n- La communication non violente et les pédagogies actives.\\n- Les pratiques somatiques et les solutions écologiques durables.\\n✨ Partager des paroles positives et engagées pour inspirer l’action.\\n🌈 Oser franchir le pas vers un mode de vie plus simple, durable et joyeux.\\n\\n-----\\n🐾🌍🎶 Re-Enchanting the Earth:\\n🌻 Explore, connect, and celebrate through videos about:\\n- Life in ecovillages and permaculture.\\n- Nonviolent communication and active pedagogies.\\n- Somatic practices and sustainable ecological solutions.\\n✨ Sharing positive and committed messages to inspire action.\\n🌈 Daring to take the step towards a simpler, sustainable, and joyful way of living.\\n \\n                            \"\n",
    "input = {\"context\":llmInput}\n",
    "print(chain_1.invoke(input)) "
   ]
  },
  {
   "cell_type": "markdown",
   "id": "14257a7d",
   "metadata": {},
   "source": [
    "## Run on the samples "
   ]
  },
  {
   "cell_type": "markdown",
   "id": "824a1897",
   "metadata": {},
   "source": [
    "### prepare the LLM input "
   ]
  },
  {
   "cell_type": "code",
   "execution_count": 17,
   "id": "d5d29b2a",
   "metadata": {},
   "outputs": [
    {
     "data": {
      "text/plain": [
       "1836"
      ]
     },
     "execution_count": 17,
     "metadata": {},
     "output_type": "execute_result"
    }
   ],
   "source": [
    "echantillon = openJson(\"../jsons/echantillon.json\")\n",
    "channelsF2  = openJson(\"../jsons/channelsF2.json\")\n",
    "len(channelsF2)"
   ]
  },
  {
   "cell_type": "code",
   "execution_count": 18,
   "id": "7b79ca8c",
   "metadata": {},
   "outputs": [
    {
     "name": "stdout",
     "output_type": "stream",
     "text": [
      "\u001b[1m\u001b[32m\n",
      " json saved\u001b[0m\n"
     ]
    }
   ],
   "source": [
    "echantillonPredictions= []\n",
    "\n",
    "for item in echantillon:\n",
    "    llmInput = \"\"\n",
    "    for channel in channelsF2:\n",
    "        if  item['id_chaine']==channel['id_chaine']:\n",
    "            if \"context\" in channel:\n",
    "              llmInput = f\"\"\"\n",
    "                              Nom Chaine :\n",
    "                              ---\n",
    "                              {channel['nom_chaine']}\n",
    "                              \n",
    "                              Bio Chaine :\n",
    "                              ---\n",
    "                              {channel['bio']}\n",
    "                              \n",
    "                              contexte d’après les vidéos :\n",
    "                              ---\n",
    "                              {channel['context']}   \n",
    "                          \"\"\"          \n",
    "            else :\n",
    "                 llmInput = f\"\"\"\n",
    "                              Nom Chaine :\n",
    "                              ---\n",
    "                              {channel['nom_chaine']}\n",
    "                              \n",
    "                              Bio Chaine :\n",
    "                              ---\n",
    "                              {channel['bio']} \n",
    "                            \"\"\"\n",
    "            break\n",
    "    echantillonPredictions.append({\n",
    "      'id_chaine':item['id_chaine'],\n",
    "      'llmInput':llmInput\n",
    "    })      \n",
    "\n",
    "saveJson(\"../jsons/echantillonPredictions2.json\",echantillonPredictions)"
   ]
  },
  {
   "cell_type": "markdown",
   "id": "5c0f39cc",
   "metadata": {},
   "source": [
    "### Run"
   ]
  },
  {
   "cell_type": "code",
   "execution_count": 36,
   "id": "8f3b3087",
   "metadata": {},
   "outputs": [
    {
     "data": {
      "text/plain": [
       "200"
      ]
     },
     "execution_count": 36,
     "metadata": {},
     "output_type": "execute_result"
    }
   ],
   "source": [
    "echantillonPredictions = openJson(\"../jsons/echantillonPredictions2.json\")\n",
    "len(echantillonPredictions)"
   ]
  },
  {
   "cell_type": "code",
   "execution_count": 37,
   "id": "14b5460b",
   "metadata": {},
   "outputs": [],
   "source": [
    "def cleanAnswer(answer):\n",
    "    answer = answer.strip(\"`\")   \n",
    "    if answer.startswith(\"json\"):\n",
    "        answer = answer[4:].strip() \n",
    "    return  answer"
   ]
  },
  {
   "cell_type": "code",
   "execution_count": 38,
   "id": "9b39a16f",
   "metadata": {},
   "outputs": [
    {
     "name": "stderr",
     "output_type": "stream",
     "text": [
      "  0%|          | 0/200 [00:00<?, ?it/s]"
     ]
    },
    {
     "name": "stderr",
     "output_type": "stream",
     "text": [
      " 20%|█▉        | 39/200 [00:45<02:58,  1.11s/it]"
     ]
    },
    {
     "name": "stdout",
     "output_type": "stream",
     "text": [
      "sleep for 50 s\n"
     ]
    },
    {
     "name": "stderr",
     "output_type": "stream",
     "text": [
      " 40%|███▉      | 79/200 [02:23<02:04,  1.03s/it]"
     ]
    },
    {
     "name": "stdout",
     "output_type": "stream",
     "text": [
      "sleep for 50 s\n"
     ]
    },
    {
     "name": "stderr",
     "output_type": "stream",
     "text": [
      " 48%|████▊     | 95/200 [03:31<02:30,  1.44s/it]"
     ]
    },
    {
     "name": "stdout",
     "output_type": "stream",
     "text": [
      "\u001b[1m\u001b[32m\n",
      " json saved\u001b[0m\n"
     ]
    },
    {
     "name": "stderr",
     "output_type": "stream",
     "text": [
      " 60%|█████▉    | 119/200 [03:57<01:24,  1.05s/it]"
     ]
    },
    {
     "name": "stdout",
     "output_type": "stream",
     "text": [
      "sleep for 50 s\n"
     ]
    },
    {
     "name": "stderr",
     "output_type": "stream",
     "text": [
      " 80%|███████▉  | 159/200 [05:33<00:48,  1.19s/it]"
     ]
    },
    {
     "name": "stdout",
     "output_type": "stream",
     "text": [
      "sleep for 50 s\n"
     ]
    },
    {
     "name": "stderr",
     "output_type": "stream",
     "text": [
      " 95%|█████████▌| 190/200 [06:58<00:10,  1.04s/it]"
     ]
    },
    {
     "name": "stdout",
     "output_type": "stream",
     "text": [
      "\u001b[1m\u001b[32m\n",
      " json saved\u001b[0m\n"
     ]
    },
    {
     "name": "stderr",
     "output_type": "stream",
     "text": [
      "100%|█████████▉| 199/200 [07:08<00:01,  1.01s/it]"
     ]
    },
    {
     "name": "stdout",
     "output_type": "stream",
     "text": [
      "sleep for 50 s\n"
     ]
    },
    {
     "name": "stderr",
     "output_type": "stream",
     "text": [
      "100%|██████████| 200/200 [07:59<00:00,  2.40s/it]"
     ]
    },
    {
     "name": "stdout",
     "output_type": "stream",
     "text": [
      "\u001b[1m\u001b[32m\n",
      " json saved\u001b[0m\n"
     ]
    },
    {
     "name": "stderr",
     "output_type": "stream",
     "text": [
      "\n"
     ]
    }
   ],
   "source": [
    "count1 = 0\n",
    "count2 = 0\n",
    "count3 = 0\n",
    "temp = 0\n",
    "\n",
    "for item in tqdm(echantillonPredictions):\n",
    "  \n",
    "    input = {\"context\":item[\"llmInput\"]}\n",
    "    try:\n",
    "        if count1  <= 13:\n",
    "            #print(\"KEY 1\")\n",
    "        \n",
    "            answer = cleanAnswer(chain_1.invoke(input))\n",
    "            answer = json.loads(answer)\n",
    "            #print(video['id_video'],'/n',answer)\n",
    "            item.update(answer)\n",
    "            \n",
    "            count1+=1\n",
    "            temp+=1            \n",
    "            \n",
    "            #print(\"count1 \",count1)  \n",
    "            \n",
    "        if count1  > 13 and count2 <= 13:\n",
    "            #print(\"KEY 2\")\n",
    "            \n",
    "            answer = cleanAnswer(chain_2.invoke(input))\n",
    "            answer = json.loads(answer)\n",
    "            #print(video['id_video'],'/n',answer)\n",
    "            item.update(answer)\n",
    "            \n",
    "            count2+=1\n",
    "            temp+=1\n",
    "            #print(\"count2 \",count2) \n",
    "            \n",
    "        if  count1  > 13 and count2  > 13 and count3 <= 13:\n",
    "            \n",
    "            #print(\"KEY 3\")\n",
    "            \n",
    "            answer = cleanAnswer(chain_3.invoke(input))\n",
    "            answer = json.loads(answer)\n",
    "            #print(video['id_video'],'/n',answer)\n",
    "            item.update(answer)\n",
    "            \n",
    "            count3+=1\n",
    "            temp+=1\n",
    "            #print(\"count3 \",count3) \n",
    "                \n",
    "        if count1 > 13 and count2 > 13 and count3 > 13 :\n",
    "            print(\"sleep for 50 s\")\n",
    "            time.sleep(50)\n",
    "            count1 = 0\n",
    "            count2 = 0\n",
    "            count3 = 0\n",
    "        \n",
    "\n",
    "        if temp >= 100:\n",
    "            saveJson(\"../jsons/echantillonPredictions2.json\",echantillonPredictions)\n",
    "            temp=0\n",
    "            \n",
    "    except Exception as e:\n",
    "        print(f\"error {e}\")\n",
    "        \n",
    "saveJson(\"../jsons/echantillonPredictions2.json\",echantillonPredictions)"
   ]
  },
  {
   "cell_type": "markdown",
   "id": "42aadbda",
   "metadata": {},
   "source": [
    "## Validate the approach"
   ]
  },
  {
   "cell_type": "code",
   "execution_count": 39,
   "id": "2325b958",
   "metadata": {},
   "outputs": [
    {
     "data": {
      "text/plain": [
       "200"
      ]
     },
     "execution_count": 39,
     "metadata": {},
     "output_type": "execute_result"
    }
   ],
   "source": [
    "groundTruth = openJson(\"../jsons/echantillon.json\")\n",
    "predictions = openJson(\"../jsons/echantillonPredictions2.json\")\n",
    "len(predictions)"
   ]
  },
  {
   "cell_type": "code",
   "execution_count": 40,
   "id": "7339e61b",
   "metadata": {},
   "outputs": [],
   "source": [
    "def getEvaluationMetrics(TP,TN,FP,FN):\n",
    "    \n",
    "    accuracy = (TP + TN) / (TP + TN + FP + FN)\n",
    "    precision = TP / (TP + FP)\n",
    "    recall = TP / (TP + FN)\n",
    "    f1_score = 2 * (precision * recall) / (precision + recall)\n",
    "    \n",
    "    print(f\"precision : {precision:.2%}\")\n",
    "    print(f\"recall : {recall:.2%}\")\n",
    "    print(f\"Accuracy : {accuracy:.2%}\")\n",
    "    print(f\"F1-score : {f1_score:.2%}\")\n",
    "    return round(accuracy,2),round(f1_score,2)\n",
    "\n",
    "def getGround(channelID):\n",
    "    for channel in groundTruth:\n",
    "        if channel['id_chaine']==channelID:\n",
    "            return channel['pertinente']"
   ]
  },
  {
   "cell_type": "code",
   "execution_count": 41,
   "id": "c2d30a2b",
   "metadata": {},
   "outputs": [],
   "source": [
    "\n",
    "def validate():\n",
    "    TP=0\n",
    "    TN=0\n",
    "    FP=0\n",
    "    FN = 0\n",
    "    for pred in predictions:\n",
    "        y_reel = getGround(pred['id_chaine'])\n",
    "        y_pred = pred['decision']\n",
    "        if y_pred == 'oui':\n",
    "            if y_reel=='oui':\n",
    "                TP+=1\n",
    "            else :\n",
    "                FP+=1\n",
    "                #print(pred['id_chaine'])\n",
    "        else:\n",
    "            if y_reel=='non':\n",
    "                TN+=1\n",
    "            else :\n",
    "                #print(pred['id_chaine'])\n",
    "                FN+=1\n",
    "    print(f\"Total FP: {FP}\")\n",
    "    print(f\"Total FN: {FN}\")\n",
    "    print(f\"Total TP: {TP}\")\n",
    "    print(f\"Total TN: {TN}\")    \n",
    "    return getEvaluationMetrics(TP,TN,FP,FN)  \n",
    "    "
   ]
  },
  {
   "cell_type": "code",
   "execution_count": 42,
   "id": "0ed8a34d",
   "metadata": {},
   "outputs": [
    {
     "name": "stdout",
     "output_type": "stream",
     "text": [
      "Total FP: 7\n",
      "Total FN: 21\n",
      "Total TP: 13\n",
      "Total TN: 159\n",
      "precision : 65.00%\n",
      "recall : 38.24%\n",
      "Accuracy : 86.00%\n",
      "F1-score : 48.15%\n"
     ]
    }
   ],
   "source": [
    "accuracy,f1_score = validate()"
   ]
  },
  {
   "cell_type": "markdown",
   "id": "2c2e1e7a",
   "metadata": {},
   "source": [
    "# Apply on all Channels"
   ]
  },
  {
   "cell_type": "code",
   "execution_count": 14,
   "id": "eac3c1c3",
   "metadata": {},
   "outputs": [
    {
     "data": {
      "text/plain": [
       "1836"
      ]
     },
     "execution_count": 14,
     "metadata": {},
     "output_type": "execute_result"
    }
   ],
   "source": [
    "channelsF2 = openJson(\"../jsons/channelsF2.json\")\n",
    "len(channelsF2)"
   ]
  },
  {
   "cell_type": "markdown",
   "id": "4edf0759",
   "metadata": {},
   "source": [
    "## prepare llmInput"
   ]
  },
  {
   "cell_type": "code",
   "execution_count": 12,
   "id": "2dd794dc",
   "metadata": {},
   "outputs": [
    {
     "name": "stdout",
     "output_type": "stream",
     "text": [
      "\u001b[1m\u001b[32m\n",
      " json saved\u001b[0m\n"
     ]
    }
   ],
   "source": [
    "for channel in channelsF2:\n",
    "    llmInput = \"\"\n",
    "    if \"context\" in channel:\n",
    "        llmInput = f\"\"\"\n",
    "                    Nom Chaine :\n",
    "                    ---\n",
    "                    {channel['nom_chaine']}\n",
    "                    \n",
    "                    Bio Chaine :\n",
    "                    ---\n",
    "                    {channel['bio']}\n",
    "                    \n",
    "                    contexte d’après les vidéos :\n",
    "                    ---\n",
    "                    {channel['context']}   \n",
    "                \"\"\"          \n",
    "    else :\n",
    "        llmInput = f\"\"\"\n",
    "                    Nom Chaine :\n",
    "                    ---\n",
    "                    {channel['nom_chaine']}\n",
    "                    \n",
    "                    Bio Chaine :\n",
    "                    ---\n",
    "                    {channel['bio']} \n",
    "                \"\"\"\n",
    "    channel['llmInput'] = llmInput   \n",
    "    \n",
    "saveJson(\"../jsons/channelsF2.json\",channelsF2) "
   ]
  },
  {
   "cell_type": "markdown",
   "id": "edb3bc99",
   "metadata": {},
   "source": [
    "## Run"
   ]
  },
  {
   "cell_type": "code",
   "execution_count": 15,
   "id": "11874943",
   "metadata": {},
   "outputs": [],
   "source": [
    "def cleanAnswer(answer):\n",
    "    answer = answer.strip(\"`\")   \n",
    "    if answer.startswith(\"json\"):\n",
    "        answer = answer[4:].strip() \n",
    "    return  answer"
   ]
  },
  {
   "cell_type": "code",
   "execution_count": 16,
   "id": "4ba96dc1",
   "metadata": {},
   "outputs": [
    {
     "name": "stderr",
     "output_type": "stream",
     "text": [
      " 96%|█████████▌| 1759/1836 [1:10:37<01:23,  1.08s/it]"
     ]
    },
    {
     "name": "stdout",
     "output_type": "stream",
     "text": [
      "sleep for 50 s\n"
     ]
    },
    {
     "name": "stderr",
     "output_type": "stream",
     "text": [
      " 98%|█████████▊| 1799/1836 [1:12:15<00:42,  1.14s/it]"
     ]
    },
    {
     "name": "stdout",
     "output_type": "stream",
     "text": [
      "sleep for 50 s\n"
     ]
    },
    {
     "name": "stderr",
     "output_type": "stream",
     "text": [
      " 99%|█████████▊| 1811/1836 [1:13:19<00:39,  1.59s/it]"
     ]
    },
    {
     "name": "stdout",
     "output_type": "stream",
     "text": [
      "\u001b[1m\u001b[32m\n",
      " json saved\u001b[0m\n"
     ]
    },
    {
     "name": "stderr",
     "output_type": "stream",
     "text": [
      "100%|██████████| 1836/1836 [1:13:50<00:00,  2.41s/it]\n"
     ]
    },
    {
     "name": "stdout",
     "output_type": "stream",
     "text": [
      "\u001b[1m\u001b[32m\n",
      " json saved\u001b[0m\n"
     ]
    }
   ],
   "source": [
    "count1 = 0\n",
    "count2 = 0\n",
    "count3 = 0\n",
    "temp = 0\n",
    "\n",
    "for item in tqdm(channelsF2):\n",
    "  \n",
    "    input = {\"context\":item[\"llmInput\"]}\n",
    "    try:\n",
    "        if count1  <= 13:\n",
    "            #print(\"KEY 1\")\n",
    "        \n",
    "            answer = cleanAnswer(chain_1.invoke(input))\n",
    "            answer = json.loads(answer)\n",
    "            #print(video['id_video'],'/n',answer)\n",
    "            item.update(answer)\n",
    "            \n",
    "            count1+=1\n",
    "            temp+=1            \n",
    "            \n",
    "            #print(\"count1 \",count1)  \n",
    "            \n",
    "        if count1  > 13 and count2 <= 13:\n",
    "            #print(\"KEY 2\")\n",
    "            \n",
    "            answer = cleanAnswer(chain_2.invoke(input))\n",
    "            answer = json.loads(answer)\n",
    "            #print(video['id_video'],'/n',answer)\n",
    "            item.update(answer)\n",
    "            \n",
    "            count2+=1\n",
    "            temp+=1\n",
    "            #print(\"count2 \",count2) \n",
    "            \n",
    "        if  count1  > 13 and count2  > 13 and count3 <= 13:\n",
    "            \n",
    "            #print(\"KEY 3\")\n",
    "            \n",
    "            answer = cleanAnswer(chain_3.invoke(input))\n",
    "            answer = json.loads(answer)\n",
    "            #print(video['id_video'],'/n',answer)\n",
    "            item.update(answer)\n",
    "            \n",
    "            count3+=1\n",
    "            temp+=1\n",
    "            #print(\"count3 \",count3) \n",
    "                \n",
    "        if count1 > 13 and count2 > 13 and count3 > 13 :\n",
    "            print(\"sleep for 50 s\")\n",
    "            time.sleep(50)\n",
    "            count1 = 0\n",
    "            count2 = 0\n",
    "            count3 = 0\n",
    "        \n",
    "\n",
    "        if temp >= 100:\n",
    "            saveJson(\"../jsons/channelsF2.json\",channelsF2)\n",
    "            temp=0\n",
    "            \n",
    "    except Exception as e:\n",
    "        print(f\"error {e}\")\n",
    "        \n",
    "saveJson(\"../jsons/channelsF2.json\",channelsF2)"
   ]
  },
  {
   "cell_type": "markdown",
   "id": "83cb2560",
   "metadata": {},
   "source": [
    "# Visualize the results"
   ]
  },
  {
   "cell_type": "code",
   "execution_count": 15,
   "id": "9c034f0b",
   "metadata": {},
   "outputs": [
    {
     "data": {
      "text/plain": [
       "1836"
      ]
     },
     "execution_count": 15,
     "metadata": {},
     "output_type": "execute_result"
    }
   ],
   "source": [
    "channelsF2 = openJson(\"../jsons/channelsF2.json\")\n",
    "len(channelsF2)"
   ]
  },
  {
   "cell_type": "code",
   "execution_count": 16,
   "id": "75fc1e35",
   "metadata": {},
   "outputs": [
    {
     "name": "stdout",
     "output_type": "stream",
     "text": [
      "\u001b[1m\u001b[32m\n",
      " json saved\u001b[0m\n",
      "\u001b[1m\u001b[32m\n",
      " json saved\u001b[0m\n",
      "334\n",
      "1502\n"
     ]
    }
   ],
   "source": [
    "channelsF3 = []\n",
    "channelsF3Non = []\n",
    "\n",
    "for channel in channelsF2:\n",
    "    if channel['decision']=='oui':\n",
    "      channelsF3.append(channel) \n",
    "    else :\n",
    "        channelsF3Non.append(channel) \n",
    "\n",
    "saveJson(\"../jsons/channelsF3.json\",channelsF3)\n",
    "saveJson(\"../jsons/channelsF3Non.json\",channelsF3Non)\n",
    "\n",
    "print(len(channelsF3))\n",
    "print(len(channelsF3Non))"
   ]
  },
  {
   "cell_type": "code",
   "execution_count": 4,
   "id": "9c3ec9b7",
   "metadata": {},
   "outputs": [
    {
     "data": {
      "text/plain": [
       "280"
      ]
     },
     "execution_count": 4,
     "metadata": {},
     "output_type": "execute_result"
    }
   ],
   "source": [
    "334-54"
   ]
  },
  {
   "cell_type": "code",
   "execution_count": 5,
   "id": "3a396dff",
   "metadata": {},
   "outputs": [
    {
     "data": {
      "text/plain": [
       "1556"
      ]
     },
     "execution_count": 5,
     "metadata": {},
     "output_type": "execute_result"
    }
   ],
   "source": [
    "54+1502"
   ]
  },
  {
   "cell_type": "code",
   "execution_count": 8,
   "id": "2730e1a6",
   "metadata": {},
   "outputs": [
    {
     "name": "stderr",
     "output_type": "stream",
     "text": [
      "Ignoring fixed y limits to fulfill fixed data aspect with adjustable data limits.\n"
     ]
    },
    {
     "data": {
      "image/png": "[encoded data removed]",
      "text/plain": [
       "<Figure size 1200x1200 with 1 Axes>"
      ]
     },
     "metadata": {},
     "output_type": "display_data"
    }
   ],
   "source": [
    "import matplotlib.pyplot as plt\n",
    "from matplotlib.patches import Wedge\n",
    "\n",
    "labels = ['Oui (Pertinent)', 'Non (Non Pertinent)']\n",
    "sizes = [280, 1556]\n",
    "colors = ['lightgreen', 'lightcoral']\n",
    "explode = (0, 0.1)\n",
    "\n",
    "angle_start = 200\n",
    "angle_non = angle_start + (sizes[0] / sum(sizes)) * 360\n",
    "\n",
    "fig, ax = plt.subplots(figsize=(8, 8), dpi=150)\n",
    "\n",
    "w1 = Wedge(center=(0, 0), r=1, theta1=angle_start, theta2=angle_non,\n",
    "           facecolor='lightgreen', edgecolor='black', lw=2, zorder=5)\n",
    "w2 = Wedge(center=(0, 0), r=1, theta1=angle_non, theta2=angle_start + 360,\n",
    "           facecolor='lightcoral', edgecolor='black', hatch='//', lw=2, zorder=5)\n",
    "\n",
    "ax.add_patch(w1)\n",
    "ax.add_patch(w2)\n",
    "\n",
    "ax.text(-0.5, -1.2, f'Pertinente ({sizes[0]}) {sizes[0]/sum(sizes)*100:.1f}%', fontsize=14, ha='center', fontweight='bold', zorder=10)\n",
    "ax.text(0.5, 1.1, f'Non Pertinente ({sizes[1]}) {sizes[1]/sum(sizes)*100:.1f}%', fontsize=14, ha='center', fontweight='bold', zorder=10)\n",
    "\n",
    "ax.set_title(\"Répartition des chaînes après filtrage sémantique\", fontsize=16, fontweight='bold')\n",
    "\n",
    "ax.axis('equal')\n",
    "ax.set_xlim(-1.5, 1.5)\n",
    "ax.set_ylim(-1.5, 1.5)\n",
    "ax.axis('off')\n",
    "\n",
    "plt.show()\n"
   ]
  },
  {
   "cell_type": "code",
   "execution_count": 11,
   "id": "7c75fa3f",
   "metadata": {},
   "outputs": [
    {
     "data": {
      "text/plain": [
       "4504"
      ]
     },
     "execution_count": 11,
     "metadata": {},
     "output_type": "execute_result"
    }
   ],
   "source": [
    "3057+1447"
   ]
  },
  {
   "cell_type": "code",
   "execution_count": 13,
   "id": "11bfb929",
   "metadata": {},
   "outputs": [
    {
     "data": {
      "text/plain": [
       "0.6787300177619894"
      ]
     },
     "execution_count": 13,
     "metadata": {},
     "output_type": "execute_result"
    }
   ],
   "source": [
    "3057/4504 "
   ]
  },
  {
   "cell_type": "code",
   "execution_count": 10,
   "id": "8ad9fe54",
   "metadata": {},
   "outputs": [
    {
     "data": {
      "text/plain": [
       "0.15250544662309368"
      ]
     },
     "execution_count": 10,
     "metadata": {},
     "output_type": "execute_result"
    }
   ],
   "source": [
    "280/1836"
   ]
  },
  {
   "cell_type": "markdown",
   "id": "3d19f7bb",
   "metadata": {},
   "source": [
    "# Excel pour Laura"
   ]
  },
  {
   "cell_type": "code",
   "execution_count": 5,
   "id": "35d67748",
   "metadata": {},
   "outputs": [
    {
     "data": {
      "text/plain": [
       "334"
      ]
     },
     "execution_count": 5,
     "metadata": {},
     "output_type": "execute_result"
    }
   ],
   "source": [
    "channelsF3 = openJson(\"../jsons/channelsF3.json\")\n",
    "len(channelsF3)"
   ]
  },
  {
   "cell_type": "code",
   "execution_count": 6,
   "id": "e2cdaed2",
   "metadata": {},
   "outputs": [],
   "source": [
    "import pandas as pd\n",
    "\n",
    "data = []\n",
    "for channel in channelsF3:\n",
    "    \n",
    "    data.append({\n",
    "        \"Nom Chaine\": channel['nom_chaine'],\n",
    "        \"Bio\": channel['bio'],\n",
    "        \"Très pertinente ? (oui)\": \"\",\n",
    "    })\n",
    "\n",
    "df = pd.DataFrame(data)\n",
    "df.to_excel(\"../xlsx/chaines_pertinentes.xlsx\", index=False)\n"
   ]
  },
  {
   "cell_type": "code",
   "execution_count": null,
   "id": "751168ee",
   "metadata": {},
   "outputs": [],
   "source": []
  }
 ],
 "metadata": {
  "kernelspec": {
   "display_name": ".venv",
   "language": "python",
   "name": "python3"
  },
  "language_info": {
   "codemirror_mode": {
    "name": "ipython",
    "version": 3
   },
   "file_extension": ".py",
   "mimetype": "text/x-python",
   "name": "python",
   "nbconvert_exporter": "python",
   "pygments_lexer": "ipython3",
   "version": "3.10.16"
  }
 },
 "nbformat": 4,
 "nbformat_minor": 5
}
