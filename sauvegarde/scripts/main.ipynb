{
 "cells": [
  {
   "cell_type": "code",
   "execution_count": 5,
   "id": "9d8723fa",
   "metadata": {},
   "outputs": [
    {
     "data": {
      "text/plain": [
       "True"
      ]
     },
     "execution_count": 5,
     "metadata": {},
     "output_type": "execute_result"
    }
   ],
   "source": [
    "from colorama import Style,Fore\n",
    "from dotenv import load_dotenv\n",
    "import json\n",
    "\n",
    "import psycopg\n",
    "import os\n",
    "from datetime import datetime\n",
    "\n",
    "load_dotenv()"
   ]
  },
  {
   "cell_type": "code",
   "execution_count": 6,
   "id": "d9d07fb9",
   "metadata": {},
   "outputs": [],
   "source": [
    "def openJson(path):\n",
    "    with open(path, \"r\", encoding=\"utf-8\") as file:\n",
    "        data = json.load(file)\n",
    "    return data\n",
    "\n",
    "def saveJson(path,data):\n",
    "    with open(path, \"w\", encoding=\"utf-8\") as f:\n",
    "       json.dump(data, f, ensure_ascii=False, indent=2)\n",
    "       print(Style.BRIGHT+Fore.GREEN+'\\n json saved'+Style.RESET_ALL)"
   ]
  },
  {
   "cell_type": "markdown",
   "id": "b24dbea4",
   "metadata": {},
   "source": [
    "# Création de base de données"
   ]
  },
  {
   "cell_type": "code",
   "execution_count": 7,
   "id": "e1a0a873",
   "metadata": {},
   "outputs": [
    {
     "name": "stdout",
     "output_type": "stream",
     "text": [
      "Base de données 'mydatabase' créée avec succès.\n"
     ]
    }
   ],
   "source": [
    "# Connexion à PostgreSQL (à la base par défaut, souvent 'postgres')\n",
    "conn = psycopg.connect(\n",
    "    dbname=\"postgres\",\n",
    "    user=\"postgres\",\n",
    "    password=os.getenv(\"POSTGRE_PASSWORD\"),\n",
    "    host=\"localhost\", \n",
    "    port=\"5432\"           \n",
    ")\n",
    "\n",
    "conn.autocommit = True\n",
    "cur = conn.cursor()\n",
    "nom_base = \"mydatabase\"\n",
    "cur.execute(f\"CREATE DATABASE {nom_base}\")\n",
    "cur.close()\n",
    "conn.close()\n",
    "\n",
    "print(f\"Base de données '{nom_base}' créée avec succès.\")"
   ]
  },
  {
   "cell_type": "markdown",
   "id": "9cc77ce9",
   "metadata": {},
   "source": [
    "# Création des tables"
   ]
  },
  {
   "cell_type": "code",
   "execution_count": 8,
   "id": "925df409",
   "metadata": {},
   "outputs": [],
   "source": [
    "conn = psycopg.connect(\n",
    "    dbname=\"mydatabase\",\n",
    "    user=\"postgres\",\n",
    "    password=os.getenv(\"POSTGRE_PASSWORD\"),\n",
    "    host=\"localhost\",\n",
    "    port=\"5432\"\n",
    ")\n",
    "\n",
    "cur = conn.cursor()\n",
    "\n",
    "cur.execute(\"\"\"\n",
    "    CREATE TABLE chaines (\n",
    "        id_chaine TEXT PRIMARY KEY,\n",
    "        nom TEXT NOT NULL,\n",
    "        bio TEXT,\n",
    "        localisation CHAR(2),\n",
    "        categorie_chaine TEXT,\n",
    "        date_creation DATE NOT NULL,\n",
    "        pertinente BOOLEAN\n",
    "    )\n",
    "\"\"\")\n",
    "\n",
    "cur.execute(\"\"\"\n",
    "    CREATE TABLE videos (\n",
    "        id_video TEXT PRIMARY KEY,\n",
    "        titre TEXT NOT NULL,\n",
    "        description TEXT,\n",
    "        date_publication DATE NOT NULL,\n",
    "        categorie_video TEXT,\n",
    "        duree INTEGER,\n",
    "        miniature TEXT,\n",
    "        langue CHAR(2),\n",
    "        transcription TEXT,\n",
    "        tags TEXT[],\n",
    "        requetes TEXT[],\n",
    "        id_chaine TEXT REFERENCES chaines(id_chaine) ON DELETE CASCADE\n",
    "    )\n",
    "\"\"\")\n",
    "\n",
    "cur.execute(\"\"\"\n",
    "    CREATE TABLE chaines_metriques (\n",
    "        id_chaine TEXT REFERENCES chaines(id_chaine) ON DELETE CASCADE,\n",
    "        date_releve_chaine DATE NOT NULL,\n",
    "        nombre_vues_total INTEGER,\n",
    "        nombre_abonnes_total INTEGER,\n",
    "        nombre_videos_total INTEGER,\n",
    "        PRIMARY KEY (id_chaine, date_releve_chaine)\n",
    "    )\n",
    "\"\"\")\n",
    "\n",
    "cur.execute(\"\"\"\n",
    "    CREATE TABLE videos_metriques (\n",
    "        id_video TEXT REFERENCES videos(id_video) ON DELETE CASCADE,\n",
    "        date_releve_video DATE NOT NULL,\n",
    "        nombre_vues  INTEGER,\n",
    "        nombre_likes INTEGER,\n",
    "        PRIMARY KEY (id_video, date_releve_video)\n",
    "    )\n",
    "\"\"\")\n",
    "\n",
    "cur.execute(\"\"\"\n",
    "    CREATE TABLE mentions (\n",
    "        id_chaine TEXT REFERENCES chaines(id_chaine) ON DELETE CASCADE,\n",
    "        id_video TEXT REFERENCES videos(id_video) ON DELETE CASCADE,\n",
    "        mention_titre BOOLEAN ,\n",
    "        mention_tags BOOLEAN ,\n",
    "        mention_description BOOLEAN ,\n",
    "        PRIMARY KEY (id_chaine, id_video)\n",
    "    )\n",
    "\"\"\")\n",
    "\n",
    "\n",
    "cur.execute(\"\"\"\n",
    "    CREATE TABLE utilisateurs (\n",
    "        id_utilisateur TEXT PRIMARY KEY,\n",
    "        nom_utilisateur TEXT NOT NULL\n",
    "    )\n",
    "\"\"\")\n",
    "\n",
    "cur.execute(\"\"\"\n",
    "    CREATE TABLE commentaires (\n",
    "        id_commentaire TEXT PRIMARY KEY,\n",
    "        contenu TEXT NOT NULL,\n",
    "        date_commentaire DATE NOT NULL,\n",
    "        id_video TEXT REFERENCES videos(id_video) ON DELETE CASCADE,\n",
    "        id_utilisateur TEXT REFERENCES utilisateurs(id_utilisateur) ON DELETE CASCADE,\n",
    "        id_commentaire_parent TEXT REFERENCES commentaires(id_commentaire) \n",
    "    )\n",
    "\"\"\")\n",
    "\n",
    "\n",
    "conn.commit()\n",
    "cur.close()\n",
    "conn.close()\n"
   ]
  },
  {
   "cell_type": "markdown",
   "id": "32bd8402",
   "metadata": {},
   "source": [
    "# Préparer le JSON des chaînes"
   ]
  },
  {
   "cell_type": "code",
   "execution_count": 9,
   "id": "496301ca",
   "metadata": {},
   "outputs": [
    {
     "data": {
      "text/plain": [
       "334"
      ]
     },
     "execution_count": 9,
     "metadata": {},
     "output_type": "execute_result"
    }
   ],
   "source": [
    "channelsF3 = openJson(\"../../filtering/channels/jsons/channelsF3.json\")\n",
    "channelsF3Non = openJson(\"../../filtering/channels/jsons/channelsF3Non.json\")\n",
    "videosF3 = openJson(\"../../filtering/videos/jsons/videosF3.json\")\n",
    "\n",
    "channelsTable = channelsF3\n",
    "len(channelsTable)"
   ]
  },
  {
   "cell_type": "markdown",
   "id": "76e90983",
   "metadata": {},
   "source": [
    "- Vérifier que l’ID d’une chaîne est unique"
   ]
  },
  {
   "cell_type": "code",
   "execution_count": 10,
   "id": "7ac2b8a4",
   "metadata": {},
   "outputs": [
    {
     "data": {
      "text/plain": [
       "334"
      ]
     },
     "execution_count": 10,
     "metadata": {},
     "output_type": "execute_result"
    }
   ],
   "source": [
    "verification = []\n",
    "for channel in channelsTable:\n",
    "    verification.append(channel['id_chaine'])\n",
    "\n",
    "len(set(verification))"
   ]
  },
  {
   "cell_type": "code",
   "execution_count": 11,
   "id": "28e97555",
   "metadata": {},
   "outputs": [
    {
     "data": {
      "text/plain": [
       "1569"
      ]
     },
     "execution_count": 11,
     "metadata": {},
     "output_type": "execute_result"
    }
   ],
   "source": [
    "count = 0\n",
    "missedChannels = []\n",
    "\n",
    "for video in videosF3:\n",
    "    exist = False\n",
    "    for channel in channelsTable:\n",
    "        if video['id_chaine']==channel['id_chaine'] :\n",
    "            exist = True\n",
    "            break\n",
    "    if not exist:\n",
    "        missedChannels.append(video['id_chaine'])\n",
    "        count +=1\n",
    "count"
   ]
  },
  {
   "cell_type": "code",
   "execution_count": 13,
   "id": "3d9a90ea",
   "metadata": {},
   "outputs": [
    {
     "data": {
      "text/plain": [
       "1569"
      ]
     },
     "execution_count": 13,
     "metadata": {},
     "output_type": "execute_result"
    }
   ],
   "source": [
    "len(missedChannels)"
   ]
  },
  {
   "cell_type": "code",
   "execution_count": 14,
   "id": "8a0af8b3",
   "metadata": {},
   "outputs": [
    {
     "data": {
      "text/plain": [
       "737"
      ]
     },
     "execution_count": 14,
     "metadata": {},
     "output_type": "execute_result"
    }
   ],
   "source": [
    "len(set(missedChannels))"
   ]
  },
  {
   "cell_type": "markdown",
   "id": "5e6afefc",
   "metadata": {},
   "source": [
    "- L’ID de chaîne peut être redondant, donc il faut travailler avec un `set()`."
   ]
  },
  {
   "cell_type": "code",
   "execution_count": 12,
   "id": "3c0918e4",
   "metadata": {},
   "outputs": [],
   "source": [
    "def getChannel(ID):\n",
    "    for item in channelsF3Non:\n",
    "        if ID == item['id_chaine']:\n",
    "            return item"
   ]
  },
  {
   "cell_type": "code",
   "execution_count": 15,
   "id": "b0b221b9",
   "metadata": {},
   "outputs": [
    {
     "data": {
      "text/plain": [
       "1071"
      ]
     },
     "execution_count": 15,
     "metadata": {},
     "output_type": "execute_result"
    }
   ],
   "source": [
    "for channelID in set(missedChannels):\n",
    "    channelsTable.append(getChannel(channelID))\n",
    "    \n",
    "len(channelsTable)"
   ]
  },
  {
   "cell_type": "code",
   "execution_count": 16,
   "id": "5349bf1d",
   "metadata": {},
   "outputs": [
    {
     "name": "stdout",
     "output_type": "stream",
     "text": [
      "\u001b[1m\u001b[32m\n",
      " json saved\u001b[0m\n"
     ]
    }
   ],
   "source": [
    "saveJson(\"../jsons/channelsTable.json\",channelsTable)"
   ]
  },
  {
   "cell_type": "markdown",
   "id": "ce6cb22b",
   "metadata": {},
   "source": [
    "# Enregistrer les chaînes\n"
   ]
  },
  {
   "cell_type": "code",
   "execution_count": 17,
   "id": "85c307d6",
   "metadata": {},
   "outputs": [
    {
     "data": {
      "text/plain": [
       "1071"
      ]
     },
     "execution_count": 17,
     "metadata": {},
     "output_type": "execute_result"
    }
   ],
   "source": [
    "channelsTable = openJson(\"../jsons/channelsTable.json\")\n",
    "len(channelsTable)"
   ]
  },
  {
   "cell_type": "code",
   "execution_count": 18,
   "metadata": {},
   "outputs": [
    {
     "name": "stdout",
     "output_type": "stream",
     "text": [
      "Insertion terminée.\n"
     ]
    }
   ],
   "source": [
    "conn = psycopg.connect(\n",
    "    dbname=\"mydatabase\",\n",
    "    user=\"postgres\",\n",
    "    password=os.getenv(\"POSTGRE_PASSWORD\"),\n",
    "    host=\"localhost\",\n",
    "    port=\"5432\"\n",
    ")\n",
    "cur = conn.cursor()\n",
    "\n",
    "for item in channelsTable:\n",
    "    id_chaine = item[\"id_chaine\"]\n",
    "    nom = item[\"nom_chaine\"]\n",
    "    bio = item.get(\"bio\", \"\")\n",
    "    localisation = item.get(\"localisation\", None)\n",
    "    date_creation = item[\"date_creation\"][:10]  # YYYY-MM-DD\n",
    "    pertinente = item[\"decision\"].strip().lower() == \"oui\"\n",
    "\n",
    "    cur.execute(\"\"\"\n",
    "        INSERT INTO chaines (id_chaine, nom, bio, localisation, date_creation, pertinente)\n",
    "        VALUES (%s, %s, %s, %s, %s, %s)\n",
    "        ON CONFLICT (id_chaine) DO NOTHING\n",
    "    \"\"\", (id_chaine, nom, bio, localisation, date_creation, pertinente))\n",
    "\n",
    "conn.commit()\n",
    "cur.close()\n",
    "conn.close()\n",
    "\n",
    "# ON CONFLICT DO NOTHING empêche les doublons (id_chaine déjà inséré)\n",
    "\n",
    "print(\"Insertion terminée.\")\n"
   ]
  },
  {
   "cell_type": "markdown",
   "id": "98a95401",
   "metadata": {},
   "source": [
    "# Enregistrer les vidéos"
   ]
  },
  {
   "cell_type": "code",
   "execution_count": 19,
   "id": "4ed64b7b",
   "metadata": {},
   "outputs": [
    {
     "data": {
      "text/plain": [
       "3057"
      ]
     },
     "execution_count": 19,
     "metadata": {},
     "output_type": "execute_result"
    }
   ],
   "source": [
    "videosF3 = openJson(\"../../filtering/videos/jsons/videosF3.json\")\n",
    "len(videosF3)"
   ]
  },
  {
   "cell_type": "code",
   "execution_count": 21,
   "id": "f5bcd877",
   "metadata": {},
   "outputs": [],
   "source": [
    "import re\n",
    "\n",
    "def toSeconds(iso_duration):\n",
    "    # Exemple : \"PT50M11S\" → 3011 secondes\n",
    "    match = re.match(r'PT(?:(\\d+)H)?(?:(\\d+)M)?(?:(\\d+)S)?', iso_duration)\n",
    "    if not match:\n",
    "        return None\n",
    "    hours = int(match.group(1)) if match.group(1) else 0\n",
    "    minutes = int(match.group(2)) if match.group(2) else 0\n",
    "    seconds = int(match.group(3)) if match.group(3) else 0\n",
    "    return hours * 3600 + minutes * 60 + seconds"
   ]
  },
  {
   "cell_type": "code",
   "execution_count": 22,
   "id": "8b0e6c50",
   "metadata": {},
   "outputs": [
    {
     "data": {
      "text/plain": [
       "3841"
      ]
     },
     "execution_count": 22,
     "metadata": {},
     "output_type": "execute_result"
    }
   ],
   "source": [
    "toSeconds(\"PT1H4M1S\")"
   ]
  },
  {
   "cell_type": "code",
   "execution_count": 23,
   "id": "d15cea68",
   "metadata": {},
   "outputs": [
    {
     "data": {
      "text/plain": [
       "3841"
      ]
     },
     "execution_count": 23,
     "metadata": {},
     "output_type": "execute_result"
    }
   ],
   "source": [
    "1*3600+4*60+1"
   ]
  },
  {
   "cell_type": "code",
   "execution_count": 24,
   "id": "e3bace8e",
   "metadata": {},
   "outputs": [],
   "source": [
    "conn = psycopg.connect(\n",
    "    dbname=\"mydatabase\",\n",
    "    user=\"postgres\",\n",
    "    password=os.getenv(\"POSTGRE_PASSWORD\"),\n",
    "    host=\"localhost\",\n",
    "    port=\"5432\"\n",
    ")\n",
    "\n",
    "cur = conn.cursor()\n",
    "\n",
    "\n",
    "for video in videosF3:\n",
    "    id_video = video[\"id_video\"]\n",
    "    id_chaine = video[\"id_chaine\"]\n",
    "    titre = video[\"titre_video\"]\n",
    "    description = video[\"description\"]\n",
    "    date_publication = video[\"date_publication\"][:10]  # 'YYYY-MM-DD'\n",
    "    duree = toSeconds(video[\"duree\"])\n",
    "    miniature = video[\"miniature\"]\n",
    "    langue = video[\"langue\"][:2] if video[\"langue\"] else None\n",
    "    transcription = None\n",
    "    tags = video[\"tags\"] if isinstance(video[\"tags\"], list) else None\n",
    "    requetes = video[\"requete\"] if isinstance(video[\"requete\"], list) else None\n",
    "    categorie_video = None  \n",
    "\n",
    "    cur.execute(\"\"\"\n",
    "        INSERT INTO videos (\n",
    "            id_video, titre, description, date_publication, categorie_video,\n",
    "            duree, miniature, langue, transcription, tags, requetes, id_chaine\n",
    "        ) VALUES (%s, %s, %s, %s, %s, %s, %s, %s, %s, %s, %s, %s)\n",
    "        ON CONFLICT (id_video) DO NOTHING\n",
    "    \"\"\", (\n",
    "        id_video, titre, description, date_publication, categorie_video,\n",
    "        duree, miniature, langue, transcription, tags, requetes, id_chaine\n",
    "    ))\n",
    "\n",
    "conn.commit()\n",
    "cur.close()\n",
    "conn.close()\n"
   ]
  },
  {
   "cell_type": "code",
   "execution_count": null,
   "id": "7cc0dc4e",
   "metadata": {},
   "outputs": [],
   "source": []
  },
  {
   "cell_type": "code",
   "execution_count": null,
   "id": "354e8d06",
   "metadata": {},
   "outputs": [],
   "source": []
  },
  {
   "cell_type": "code",
   "execution_count": null,
   "id": "48566e0e",
   "metadata": {},
   "outputs": [],
   "source": []
  },
  {
   "cell_type": "code",
   "execution_count": null,
   "metadata": {},
   "outputs": [],
   "source": []
  },
  {
   "cell_type": "code",
   "execution_count": null,
   "id": "e7db8f75",
   "metadata": {},
   "outputs": [],
   "source": []
  },
  {
   "cell_type": "code",
   "execution_count": null,
   "id": "337a497f",
   "metadata": {},
   "outputs": [],
   "source": []
  }
 ],
 "metadata": {
  "kernelspec": {
   "display_name": ".venv",
   "language": "python",
   "name": "python3"
  },
  "language_info": {
   "codemirror_mode": {
    "name": "ipython",
    "version": 3
   },
   "file_extension": ".py",
   "mimetype": "text/x-python",
   "name": "python",
   "nbconvert_exporter": "python",
   "pygments_lexer": "ipython3",
   "version": "3.10.16"
  }
 },
 "nbformat": 4,
 "nbformat_minor": 5
}
