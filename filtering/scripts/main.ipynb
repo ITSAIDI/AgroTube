{
 "cells": [
  {
   "cell_type": "code",
   "execution_count": 1,
   "id": "8e931bf3",
   "metadata": {},
   "outputs": [],
   "source": [
    "import json \n",
    "from collections import Counter\n",
    "from tqdm import tqdm \n",
    "from colorama import Style,Fore"
   ]
  },
  {
   "cell_type": "markdown",
   "id": "2e4a2295",
   "metadata": {},
   "source": [
    "## Refining 1"
   ]
  },
  {
   "cell_type": "markdown",
   "id": "179c2de0",
   "metadata": {},
   "source": [
    "- Refine the language field of the videos"
   ]
  },
  {
   "cell_type": "code",
   "execution_count": 10,
   "id": "92baa6b4",
   "metadata": {},
   "outputs": [],
   "source": [
    "from utils import RefineLanguage1\n"
   ]
  },
  {
   "cell_type": "code",
   "execution_count": 10,
   "id": "1f0d635c",
   "metadata": {},
   "outputs": [
    {
     "name": "stderr",
     "output_type": "stream",
     "text": [
      "refining the language...: 100%|██████████| 6859/6859 [01:53<00:00, 60.57it/s]\n"
     ]
    },
    {
     "name": "stdout",
     "output_type": "stream",
     "text": [
      "\u001b[1m\u001b[32m\n",
      " json saved\u001b[0m\n"
     ]
    }
   ],
   "source": [
    "RefineLanguage1()"
   ]
  },
  {
   "cell_type": "code",
   "execution_count": 11,
   "id": "b8f6b351",
   "metadata": {},
   "outputs": [
    {
     "data": {
      "text/plain": [
       "6859"
      ]
     },
     "execution_count": 11,
     "metadata": {},
     "output_type": "execute_result"
    }
   ],
   "source": [
    "with open(\"../jsons/videosR1.json\", \"r\", encoding=\"utf-8\") as file:\n",
    "    videosR1 = json.load(file)\n",
    "len(videosR1)"
   ]
  },
  {
   "cell_type": "code",
   "execution_count": 29,
   "id": "522d930f",
   "metadata": {},
   "outputs": [
    {
     "name": "stdout",
     "output_type": "stream",
     "text": [
      "Toutes les valeurs uniques de langue avec leur nombre d'occurrences :\n",
      "- fr : 6276\n",
      "- autre : 583\n"
     ]
    }
   ],
   "source": [
    "langue_counter = Counter(video['langue'] for video in videosR1)\n",
    "print(\"Toutes les valeurs uniques de langue avec leur nombre d'occurrences :\")\n",
    "for langue, count in langue_counter.items():\n",
    "    print(f\"- {langue} : {count}\")\n"
   ]
  },
  {
   "cell_type": "markdown",
   "id": "1352e2ab",
   "metadata": {},
   "source": [
    "## Refining 2"
   ]
  },
  {
   "cell_type": "markdown",
   "id": "6eae7e95",
   "metadata": {},
   "source": [
    "- Add the Localisation Information"
   ]
  },
  {
   "cell_type": "code",
   "execution_count": 18,
   "id": "0293aec3",
   "metadata": {},
   "outputs": [],
   "source": [
    "from utils import RefineLanguage2"
   ]
  },
  {
   "cell_type": "code",
   "execution_count": 19,
   "id": "10da376a",
   "metadata": {},
   "outputs": [
    {
     "name": "stderr",
     "output_type": "stream",
     "text": [
      "channels-countries...: 100%|██████████| 3309/3309 [00:00<?, ?it/s]\n",
      "Refining language...: 100%|██████████| 6859/6859 [00:00<00:00, 340575.24it/s]\n"
     ]
    },
    {
     "name": "stdout",
     "output_type": "stream",
     "text": [
      "\u001b[1m\u001b[32m\n",
      " json saved\u001b[0m\n"
     ]
    }
   ],
   "source": [
    "RefineLanguage2()"
   ]
  },
  {
   "cell_type": "code",
   "execution_count": 5,
   "id": "a570648d",
   "metadata": {},
   "outputs": [
    {
     "data": {
      "text/plain": [
       "6859"
      ]
     },
     "execution_count": 5,
     "metadata": {},
     "output_type": "execute_result"
    }
   ],
   "source": [
    "with open(\"../jsons/videosR2.json\", \"r\", encoding=\"utf-8\") as file:\n",
    "    videosR2 = json.load(file)\n",
    "len(videosR2)"
   ]
  },
  {
   "cell_type": "code",
   "execution_count": 25,
   "id": "602cb3e4",
   "metadata": {},
   "outputs": [
    {
     "name": "stdout",
     "output_type": "stream",
     "text": [
      "Toutes les valeurs uniques de langue avec leur nombre d'occurrences :\n",
      "- fr-FR : 4312\n",
      "- fr : 1332\n",
      "- autre : 583\n",
      "- fr-CA : 229\n",
      "- fr-BE : 112\n",
      "- fr-CH : 88\n",
      "- fr-US : 49\n",
      "- fr-MA : 35\n",
      "- fr-NC : 14\n",
      "- fr-PT : 14\n",
      "- fr-DE : 11\n",
      "- fr-IT : 10\n",
      "- fr-RE : 8\n",
      "- fr-ES : 7\n",
      "- fr-SN : 6\n",
      "- fr-MQ : 6\n",
      "- fr-DZ : 5\n",
      "- fr-CI : 4\n",
      "- fr-GB : 4\n",
      "- fr-AR : 2\n",
      "- fr-NL : 2\n",
      "- fr-CM : 2\n",
      "- fr-ZA : 2\n",
      "- fr-PF : 2\n",
      "- fr-TH : 2\n",
      "- fr-GP : 2\n",
      "- fr-AE : 2\n",
      "- fr-TR : 1\n",
      "- fr-TG : 1\n",
      "- fr-HK : 1\n",
      "- fr-MU : 1\n",
      "- fr-RU : 1\n",
      "- fr-IN : 1\n",
      "- fr-SA : 1\n",
      "- fr-KE : 1\n",
      "- fr-KR : 1\n",
      "- fr-LU : 1\n",
      "- fr-IE : 1\n",
      "- fr-LK : 1\n",
      "- fr-BJ : 1\n",
      "- fr-TN : 1\n"
     ]
    }
   ],
   "source": [
    "langue_counter = Counter(video['langue'] for video in videosR2)\n",
    "print(\"Toutes les valeurs uniques de langue avec leur nombre d'occurrences :\")\n",
    "for langue, count in sorted(langue_counter.items(), key=lambda x: x[1], reverse=True):\n",
    "    print(f\"- {langue} : {count}\")\n"
   ]
  },
  {
   "cell_type": "code",
   "execution_count": 6,
   "metadata": {},
   "outputs": [
    {
     "name": "stdout",
     "output_type": "stream",
     "text": [
      "Total de vidéos : 6859\n",
      "- fr       : 1332 (19.42%)\n",
      "- fr-FR    : 4312 (62.87%)\n",
      "- fr-autre : 632 (9.21%)\n",
      "- autre    : 583 (8.50%)\n"
     ]
    }
   ],
   "source": [
    "total = len(videosR2)\n",
    "\n",
    "count_fr = sum(1 for video in videosR2 if video['langue'] == 'fr')\n",
    "count_frFR = sum(1 for video in videosR2 if video['langue'] == 'fr-FR')\n",
    "count_fr_autre = sum(1 for video in videosR2 if video['langue'].startswith('fr') and video['langue'] not in ['fr', 'fr-FR'])\n",
    "count_autre = total - (count_fr + count_frFR + count_fr_autre)\n",
    "\n",
    "print(f\"Total de vidéos : {total}\")\n",
    "print(f\"- fr       : {count_fr} ({count_fr / total:.2%})\")\n",
    "print(f\"- fr-FR    : {count_frFR} ({count_frFR / total:.2%})\")\n",
    "print(f\"- fr-autre : {count_fr_autre} ({count_fr_autre / total:.2%})\")\n",
    "print(f\"- autre    : {count_autre} ({count_autre / total:.2%})\")"
   ]
  },
  {
   "cell_type": "code",
   "execution_count": 30,
   "metadata": {},
   "outputs": [
    {
     "data": {
      "text/plain": [
       "6276"
      ]
     },
     "execution_count": 30,
     "metadata": {},
     "output_type": "execute_result"
    }
   ],
   "source": [
    "1332+4312+632"
   ]
  },
  {
   "cell_type": "markdown",
   "id": "b40fe841",
   "metadata": {},
   "source": [
    "## Refining 3"
   ]
  },
  {
   "cell_type": "markdown",
   "id": "42ad6a6b",
   "metadata": {},
   "source": [
    "- Get the localisation information for 'fr' videos :\n",
    "  - Try to explore the video description+Title and Bio of the corresponding channel."
   ]
  },
  {
   "cell_type": "markdown",
   "id": "1a778435",
   "metadata": {},
   "source": [
    "### 1.Seperate These videos "
   ]
  },
  {
   "cell_type": "code",
   "execution_count": 13,
   "id": "ccc9b902",
   "metadata": {},
   "outputs": [
    {
     "name": "stdout",
     "output_type": "stream",
     "text": [
      "\u001b[1m\u001b[32m\n",
      " json saved\u001b[0m\n",
      "\u001b[1m\u001b[33m\n",
      " json length is : 1332\u001b[0m\n"
     ]
    }
   ],
   "source": [
    "with open(\"../jsons/videosR2.json\", \"r\", encoding=\"utf-8\") as file:\n",
    "    videosR2 = json.load(file)\n",
    "videosfr = []\n",
    "for video in videosR2:\n",
    "    if video['langue']=='fr':\n",
    "        videosfr.append(video)\n",
    "with open(\"../jsons/videosfr.json\", \"w\", encoding=\"utf-8\") as f:\n",
    "    json.dump(videosfr, f, ensure_ascii=False, indent=2)\n",
    "    print(Style.BRIGHT+Fore.GREEN+'\\n json saved'+Style.RESET_ALL)\n",
    "    print(Style.BRIGHT+Fore.YELLOW+f'\\n json length is : {len(videosfr)}'+Style.RESET_ALL)"
   ]
  },
  {
   "cell_type": "markdown",
   "id": "1440f9a2",
   "metadata": {},
   "source": [
    "### 2. Get the location by using metadata:"
   ]
  },
  {
   "cell_type": "code",
   "execution_count": 15,
   "id": "9bb94364",
   "metadata": {},
   "outputs": [],
   "source": [
    "# Get the Context first\n",
    "import importlib\n",
    "import utils  # or whatever your module is called\n",
    "importlib.reload(utils)\n",
    "\n",
    "from utils import getContextAll\n"
   ]
  },
  {
   "cell_type": "code",
   "execution_count": 16,
   "id": "3fc66499",
   "metadata": {},
   "outputs": [
    {
     "name": "stderr",
     "output_type": "stream",
     "text": [
      "100%|██████████| 1332/1332 [00:04<00:00, 277.08it/s]\n"
     ]
    },
    {
     "name": "stdout",
     "output_type": "stream",
     "text": [
      "\u001b[1m\u001b[32m\n",
      " json saved\u001b[0m\n",
      "\u001b[1m\u001b[33m\n",
      " json length is : 1332\u001b[0m\n"
     ]
    }
   ],
   "source": [
    "getContextAll()"
   ]
  },
  {
   "cell_type": "code",
   "execution_count": 17,
   "id": "6c4f56cf",
   "metadata": {},
   "outputs": [
    {
     "name": "stdout",
     "output_type": "stream",
     "text": [
      "Le bio de la chaine : \n",
      " \n",
      "        \n",
      "###############\n",
      "        \n",
      "Description : Tout savoir sur le torchis et son application dans les maisons traditionnelles des Vosges du Nord !\n",
      "\n",
      "Jacques Bruderer, Maître maçon et tailleur de pierre, artisan spécialiste du bâti ancien, répond à toutes les questions qu’on peut se poser avant de se lancer. \n",
      "- Quel type de terre est utilisée dans notre Région ? Est-ce qu’elle peut comporter des gravats ?\n",
      "- Est-ce qu’on peut utiliser la terre de son propre terrain ? \n",
      "- Quelle paille utilisée ?\n",
      "- Le torchis est-il porteur ?\n",
      "- Comment préparer le mélange ? Quelle doit-être la texture ?\n",
      "- Peut-on réemployer un ancien torchis ?\n",
      "\n",
      "Vous trouverez toutes les informations sur les caractéristiques des matériaux terre et paille, la préparation du matériel et des mélanges puis la technique de mise en œuvre.  \n",
      "\n",
      "Lien vers la réglementation : \n",
      "Guide des bonnes pratiques\n",
      "De la construction en terre crue\n",
      "Edition du 13 décembre 2018\n",
      "https://www.ekopolis.fr/sites/default/files/2019-04/RES-1904-GBP-TerreCrue-COMPLET-V01_web.pdf\n",
      "\n",
      "Où se fournir en terre locale ? http://www.brique-lanter.com/\n",
      "\n",
      "Et pour aller plus loin, visitez notre site internet : https://eco-renover.parc-vosges-nord.fr/\n",
      "\n",
      "Chapitres :\n",
      "00:00 - Introduction\n",
      "00:30 - Présentation générale\n",
      "03:19 - Pourquoi le torchis?\n",
      "04:17 - Chantier du jour\n",
      "06:06 - Système constructif d'un miroir\n",
      "10:46 - Système constructif d'un plafond\n",
      "13:35 - Réparer un plafond\n",
      "16:26 - Composition du torchis\n",
      "20:41 - Le torchis bien fait\n",
      "23:29 - Préparer le torchis\n",
      "24:16 - Appliquer le torchis\n",
      "28:53 - Ce qu'il faut savoir sur la pose du torchis\n",
      "31:26 - Finition du torchis\n",
      "34:21 - Le torchis du plafond\n",
      "39:20 - Les avantages du torchis\n",
      "40:49 - Résumé\n",
      "42:24 - Outro\n",
      "\n",
      "\n",
      "\n",
      "Tags :\n",
      "parc, naturel, régional, vosges, nord, pnr, vosges-du-nord, torchis, torchis colombage, paille et argile, torchis maison, torchis plafond, torchis mur, rénovation naturelle, rénovation maison, rénovation traditionnelle, maison traditionnelle, éco rénovation\n",
      "        \n",
      "        \n",
      "###############\n",
      "        \n",
      "Description : Une série de portraits de producteurs dans le Parc naturel régional des Vosges du nord\n",
      "        \n",
      "        \n",
      "###############\n",
      "\n",
      "        titre : Comment réaliser du torchis dans un colombage ?\n",
      "        \n",
      "        \n",
      "###############\n",
      "\n",
      "        titre : Portrait de Claude Ramspacher - ferme du Herrenstein, éleveur fromager à Neuwiller-lès-Saverne (67)\n",
      "        \n"
     ]
    }
   ],
   "source": [
    "st = \"Le bio de la chaine : \\n \\n        \\n###############\\n        \\nDescription : Tout savoir sur le torchis et son application dans les maisons traditionnelles des Vosges du Nord !\\n\\nJacques Bruderer, Maître maçon et tailleur de pierre, artisan spécialiste du bâti ancien, répond à toutes les questions qu’on peut se poser avant de se lancer. \\n- Quel type de terre est utilisée dans notre Région ? Est-ce qu’elle peut comporter des gravats ?\\n- Est-ce qu’on peut utiliser la terre de son propre terrain ? \\n- Quelle paille utilisée ?\\n- Le torchis est-il porteur ?\\n- Comment préparer le mélange ? Quelle doit-être la texture ?\\n- Peut-on réemployer un ancien torchis ?\\n\\nVous trouverez toutes les informations sur les caractéristiques des matériaux terre et paille, la préparation du matériel et des mélanges puis la technique de mise en œuvre.  \\n\\nLien vers la réglementation : \\nGuide des bonnes pratiques\\nDe la construction en terre crue\\nEdition du 13 décembre 2018\\nhttps://www.ekopolis.fr/sites/default/files/2019-04/RES-1904-GBP-TerreCrue-COMPLET-V01_web.pdf\\n\\nOù se fournir en terre locale ? http://www.brique-lanter.com/\\n\\nEt pour aller plus loin, visitez notre site internet : https://eco-renover.parc-vosges-nord.fr/\\n\\nChapitres :\\n00:00 - Introduction\\n00:30 - Présentation générale\\n03:19 - Pourquoi le torchis?\\n04:17 - Chantier du jour\\n06:06 - Système constructif d'un miroir\\n10:46 - Système constructif d'un plafond\\n13:35 - Réparer un plafond\\n16:26 - Composition du torchis\\n20:41 - Le torchis bien fait\\n23:29 - Préparer le torchis\\n24:16 - Appliquer le torchis\\n28:53 - Ce qu'il faut savoir sur la pose du torchis\\n31:26 - Finition du torchis\\n34:21 - Le torchis du plafond\\n39:20 - Les avantages du torchis\\n40:49 - Résumé\\n42:24 - Outro\\n\\n\\n\\nTags :\\nparc, naturel, régional, vosges, nord, pnr, vosges-du-nord, torchis, torchis colombage, paille et argile, torchis maison, torchis plafond, torchis mur, rénovation naturelle, rénovation maison, rénovation traditionnelle, maison traditionnelle, éco rénovation\\n        \\n        \\n###############\\n        \\nDescription : Une série de portraits de producteurs dans le Parc naturel régional des Vosges du nord\\n        \\n        \\n###############\\n\\n        titre : Comment réaliser du torchis dans un colombage ?\\n        \\n        \\n###############\\n\\n        titre : Portrait de Claude Ramspacher - ferme du Herrenstein, éleveur fromager à Neuwiller-lès-Saverne (67)\\n        \"\n",
    "print(st)"
   ]
  },
  {
   "cell_type": "code",
   "execution_count": null,
   "metadata": {},
   "outputs": [],
   "source": []
  },
  {
   "cell_type": "markdown",
   "id": "b2a38097",
   "metadata": {},
   "source": [
    "## Filtering 1"
   ]
  },
  {
   "cell_type": "markdown",
   "id": "88ae9f21",
   "metadata": {},
   "source": [
    "- Remove fr-autre,autre\n",
    "- keep only fr and fr-FR , a big amount of fr are for france.\n",
    "- obtain the localisation of a channel if it's not providled by youtube api can be complexe because you can't find it anywhere."
   ]
  },
  {
   "cell_type": "code",
   "execution_count": 4,
   "metadata": {},
   "outputs": [
    {
     "data": {
      "text/plain": [
       "6859"
      ]
     },
     "execution_count": 4,
     "metadata": {},
     "output_type": "execute_result"
    }
   ],
   "source": [
    "with open(\"../jsons/videosR2.json\", \"r\", encoding=\"utf-8\") as file:\n",
    "    videosR2 = json.load(file)\n",
    "len(videosR2)"
   ]
  },
  {
   "cell_type": "code",
   "execution_count": null,
   "metadata": {},
   "outputs": [],
   "source": []
  },
  {
   "cell_type": "code",
   "execution_count": null,
   "metadata": {},
   "outputs": [],
   "source": []
  },
  {
   "cell_type": "code",
   "execution_count": null,
   "metadata": {},
   "outputs": [],
   "source": []
  },
  {
   "cell_type": "code",
   "execution_count": null,
   "id": "16256aec",
   "metadata": {},
   "outputs": [],
   "source": []
  },
  {
   "cell_type": "code",
   "execution_count": null,
   "id": "e5189d28",
   "metadata": {},
   "outputs": [],
   "source": []
  },
  {
   "cell_type": "code",
   "execution_count": null,
   "id": "8d430df4",
   "metadata": {},
   "outputs": [],
   "source": []
  },
  {
   "cell_type": "code",
   "execution_count": null,
   "metadata": {},
   "outputs": [],
   "source": []
  },
  {
   "cell_type": "code",
   "execution_count": null,
   "id": "b27df94d",
   "metadata": {},
   "outputs": [],
   "source": []
  },
  {
   "cell_type": "code",
   "execution_count": null,
   "metadata": {},
   "outputs": [],
   "source": []
  },
  {
   "cell_type": "code",
   "execution_count": null,
   "id": "66616ae9",
   "metadata": {},
   "outputs": [],
   "source": []
  }
 ],
 "metadata": {
  "kernelspec": {
   "display_name": ".venv",
   "language": "python",
   "name": "python3"
  },
  "language_info": {
   "codemirror_mode": {
    "name": "ipython",
    "version": 3
   },
   "file_extension": ".py",
   "mimetype": "text/x-python",
   "name": "python",
   "nbconvert_exporter": "python",
   "pygments_lexer": "ipython3",
   "version": "3.10.16"
  }
 },
 "nbformat": 4,
 "nbformat_minor": 5
}
