{
 "cells": [
  {
   "cell_type": "code",
   "execution_count": 1,
   "id": "8e931bf3",
   "metadata": {},
   "outputs": [],
   "source": [
    "import json \n",
    "from collections import Counter\n",
    "from tqdm import tqdm \n",
    "from colorama import Style,Fore"
   ]
  },
  {
   "cell_type": "code",
   "execution_count": null,
   "id": "7b68e515",
   "metadata": {},
   "outputs": [],
   "source": [
    "import importlib\n",
    "import utils  # or whatever your module is called\n",
    "importlib.reload(utils)"
   ]
  },
  {
   "cell_type": "markdown",
   "id": "2e4a2295",
   "metadata": {},
   "source": [
    "## Refining 1"
   ]
  },
  {
   "cell_type": "markdown",
   "id": "179c2de0",
   "metadata": {},
   "source": [
    "- Refine the language field of the videos"
   ]
  },
  {
   "cell_type": "code",
   "execution_count": null,
   "id": "92baa6b4",
   "metadata": {},
   "outputs": [],
   "source": [
    "from utils import RefineLanguage1\n"
   ]
  },
  {
   "cell_type": "code",
   "execution_count": null,
   "id": "1f0d635c",
   "metadata": {},
   "outputs": [],
   "source": [
    "RefineLanguage1()"
   ]
  },
  {
   "cell_type": "code",
   "execution_count": null,
   "id": "b8f6b351",
   "metadata": {},
   "outputs": [],
   "source": [
    "with open(\"../jsons/videosR1.json\", \"r\", encoding=\"utf-8\") as file:\n",
    "    videosR1 = json.load(file)\n",
    "len(videosR1)"
   ]
  },
  {
   "cell_type": "code",
   "execution_count": null,
   "id": "522d930f",
   "metadata": {},
   "outputs": [],
   "source": [
    "langue_counter = Counter(video['langue'] for video in videosR1)\n",
    "print(\"Toutes les valeurs uniques de langue avec leur nombre d'occurrences :\")\n",
    "for langue, count in langue_counter.items():\n",
    "    print(f\"- {langue} : {count}\")\n"
   ]
  },
  {
   "cell_type": "markdown",
   "id": "1352e2ab",
   "metadata": {},
   "source": [
    "## Refining 2"
   ]
  },
  {
   "cell_type": "markdown",
   "id": "6eae7e95",
   "metadata": {},
   "source": [
    "- Add the Localisation Information"
   ]
  },
  {
   "cell_type": "code",
   "execution_count": null,
   "id": "0293aec3",
   "metadata": {},
   "outputs": [],
   "source": [
    "from utils import RefineLanguage2"
   ]
  },
  {
   "cell_type": "code",
   "execution_count": null,
   "id": "10da376a",
   "metadata": {},
   "outputs": [],
   "source": [
    "RefineLanguage2()"
   ]
  },
  {
   "cell_type": "code",
   "execution_count": null,
   "id": "a570648d",
   "metadata": {},
   "outputs": [],
   "source": [
    "with open(\"../jsons/videosR2.json\", \"r\", encoding=\"utf-8\") as file:\n",
    "    videosR2 = json.load(file)\n",
    "len(videosR2)"
   ]
  },
  {
   "cell_type": "code",
   "execution_count": null,
   "id": "602cb3e4",
   "metadata": {},
   "outputs": [],
   "source": [
    "langue_counter = Counter(video['langue'] for video in videosR2)\n",
    "print(\"Toutes les valeurs uniques de langue avec leur nombre d'occurrences :\")\n",
    "for langue, count in sorted(langue_counter.items(), key=lambda x: x[1], reverse=True):\n",
    "    print(f\"- {langue} : {count}\")\n"
   ]
  },
  {
   "cell_type": "code",
   "execution_count": null,
   "metadata": {},
   "outputs": [],
   "source": [
    "total = len(videosR2)\n",
    "\n",
    "count_fr = sum(1 for video in videosR2 if video['langue'] == 'fr')\n",
    "count_frFR = sum(1 for video in videosR2 if video['langue'] == 'fr-FR')\n",
    "count_fr_autre = sum(1 for video in videosR2 if video['langue'].startswith('fr') and video['langue'] not in ['fr', 'fr-FR'])\n",
    "count_autre = total - (count_fr + count_frFR + count_fr_autre)\n",
    "\n",
    "print(f\"Total de vidéos : {total}\")\n",
    "print(f\"- fr       : {count_fr} ({count_fr / total:.2%})\")\n",
    "print(f\"- fr-FR    : {count_frFR} ({count_frFR / total:.2%})\")\n",
    "print(f\"- fr-autre : {count_fr_autre} ({count_fr_autre / total:.2%})\")\n",
    "print(f\"- autre    : {count_autre} ({count_autre / total:.2%})\")"
   ]
  },
  {
   "cell_type": "code",
   "execution_count": null,
   "metadata": {},
   "outputs": [],
   "source": [
    "1332+4312+632"
   ]
  },
  {
   "cell_type": "markdown",
   "id": "b40fe841",
   "metadata": {},
   "source": [
    "## Refining 3"
   ]
  },
  {
   "cell_type": "markdown",
   "id": "42ad6a6b",
   "metadata": {},
   "source": [
    "- Get the localisation information for 'fr' videos :\n",
    "  - Try to explore the video description+Title and Bio of the corresponding channel."
   ]
  },
  {
   "cell_type": "markdown",
   "id": "1a778435",
   "metadata": {},
   "source": [
    "### 1.Seperate These videos "
   ]
  },
  {
   "cell_type": "code",
   "execution_count": null,
   "id": "ccc9b902",
   "metadata": {},
   "outputs": [],
   "source": [
    "with open(\"../jsons/videosR2.json\", \"r\", encoding=\"utf-8\") as file:\n",
    "    videosR2 = json.load(file)\n",
    "videosfr = []\n",
    "for video in videosR2:\n",
    "    if video['langue']=='fr':\n",
    "        videosfr.append(video)\n",
    "with open(\"../jsons/videosfr.json\", \"w\", encoding=\"utf-8\") as f:\n",
    "    json.dump(videosfr, f, ensure_ascii=False, indent=2)\n",
    "    print(Style.BRIGHT+Fore.GREEN+'\\n json saved'+Style.RESET_ALL)\n",
    "    print(Style.BRIGHT+Fore.YELLOW+f'\\n json length is : {len(videosfr)}'+Style.RESET_ALL)"
   ]
  },
  {
   "cell_type": "markdown",
   "id": "1440f9a2",
   "metadata": {},
   "source": [
    "### 2. Get the location by using metadata:"
   ]
  },
  {
   "cell_type": "code",
   "execution_count": null,
   "id": "9bb94364",
   "metadata": {},
   "outputs": [],
   "source": [
    "# Get the Context first\n",
    "import importlib\n",
    "import utils  # or whatever your module is called\n",
    "importlib.reload(utils)\n",
    "\n",
    "from utils import getContextAll\n"
   ]
  },
  {
   "cell_type": "code",
   "execution_count": null,
   "id": "3fc66499",
   "metadata": {},
   "outputs": [],
   "source": [
    "getContextAll()"
   ]
  },
  {
   "cell_type": "markdown",
   "id": "8f5caa90",
   "metadata": {},
   "source": [
    "### 3.NER"
   ]
  },
  {
   "cell_type": "markdown",
   "id": "5fe30f06",
   "metadata": {},
   "source": [
    "- with spacy (not realy accurate)"
   ]
  },
  {
   "cell_type": "code",
   "execution_count": null,
   "id": "6c4f56cf",
   "metadata": {},
   "outputs": [],
   "source": [
    "import spacy\n",
    "\n",
    "nlp = spacy.load(\"fr_core_news_lg\")"
   ]
  },
  {
   "cell_type": "code",
   "execution_count": null,
   "id": "e9901e89",
   "metadata": {},
   "outputs": [],
   "source": [
    "context = \"\"\"\n",
    "Le bio de la chaine : \\n \\n        \\n###############\\n        \\nDescription : Hello ! Aujourd’hui Bruno nous invite à questionner l'usage que faisons de notre habitat et nous propose de réduire nos surfaces de vie tout en gardant notre confort, de construire notre maison sans faire de prêt bancaire sur 20 ans. Et si on voyait dans le fait de construire notre maison plus qu'un défi, un cheminement, une expérience humaine, un accomplissement ?\\nDécouvrez la construction d’un habitat autonome avec une structure bois, isolation paille, enduit terre de 24m2 avec cuisine, séjour, chambre et salle de bain pour 5000€ ! \\nPrenez bien soin de vous.  \\nJe vous embrasse, \\n\\nA bientôt 🌸 \\n\\nSarah \\n\\n\\n\\nLe site internet d’Alter’éco 30 : https://bit.ly/37pw1uj \\n\\n#OurInnerTravels #Autonomie #Habitat #Maison #HabitatAutonome #Ecologie \\n\\n\\nRetrouve moi aussi sur : \\n🎙PODCAST : https://anchor.fm/our-inner-travels\\n\\n📸 I N S T A G R A M : https://instagram.com/ourinnertravels \\n✍️ B L O G : https://ourinnertravels.com \\n📸 FACEBOOK : https://www.facebook.com/OurInnerTravels \\n💕 Abonne-toi à la chaine : https://bit.ly/2PUxikr \\n💌 Me Contacter 💌: contact@ourinnertravels.com\\n        \\n        \\n###############\\n        \\nDescription : Hello, Aujourd’hui je vous retrouve dans la première partie d’une série de 5 entretiens avec Bruno sur le thème : L’écologie et l’alternativité comme invitation à trouver un sens à la vie.\\nPartie 1 : Echovert, la construction d’un lieu alternatif, autonome et écologique\\nPartie 2 : Vivre de façon alternative, les joies\\nPartie 3 : Vivre de façon alternative, les défis \\nPartie 4 : L’écologie, une invitation à trouver un sens à la vie\\nPartie 5 : Les 3 kiffs de Bruno\\n\\nVous préférez écouter la vidéo sous format podcast ? C'est ici : https://bit.ly/3gmy5ZF\\n\\nEn octobre, de retour de voyage la réadaptation à la vie parisienne est difficile, est-ce peut-être car je n’ai pas envie de me réadapter, que je n’y vois plus de sens ? Je pars donc en Camargue, à une demi-heure de Nîmes et passe un mois dans un éco-lieu à la recherche de sens, de rencontres, de personnes qui partagent mes idées et mes aspirations. Bruno et Anne ont créé ce lieu de vie alternatif où naissent inventions respectueuses de l’environnement et expérimentations d’outils pour l’autonomie alimentaire et énergétique. Avec Bruno, on a commencé par parler de ce lieu de vie alternatif et de ce qu’implique le fait de vivre en communauté. On s’est aussi demander comment se reconnecter à soi et aux autres dans un monde qui semble parfois déconnecté du réel. Au fil de nos paroles, on en est finalement venu à se questionner sur le sens de la vie, et en quoi le fait de cultiver son écologie intérieure est peut-être la première forme d’engagement écologique à avoir. Aujourd’hui je vous propose de partir en voyage intérieur grâce à Bruno. L’écologie et l’alternativité comme invitation à trouver un sens à la vie.\\n\\nA bientôt 🌸 \\n\\nSarah \\n\\nLe site internet d’Alter’éco 30 : https://bit.ly/37pw1uj \\n\\nRetrouve moi aussi sur : \\n🎙PODCAST : https://anchor.fm/our-inner-travels\\n📸 I N S T A G R A M : https://instagram.com/ourinnertravels \\n✍️ B L O G : https://ourinnertravels.com \\n📸 FACEBOOK : https://www.facebook.com/OurInnerTravels \\n💕 Abonne-toi à la chaine : https://bit.ly/2PUxikr \\n💌 Me Contacter 💌: contact@ourinnertravels.com\\n        \\n        \\n###############\\n\\n        titre : Habitat autonome et autoconstruction\\n        \\n        \\n###############\\n\\n        titre : PARLONS #2 - 1 : Echovert, la construction d’un lieu alternatif, autonome et écologique - Bruno\\n       \n",
    "\n",
    "\"\"\"\n",
    "\n",
    "print(context)"
   ]
  },
  {
   "cell_type": "code",
   "execution_count": null,
   "metadata": {},
   "outputs": [],
   "source": [
    "doc = nlp(context)\n",
    "\n",
    "for ent in doc.ents:\n",
    "    if ent.label_ == \"LOC\":\n",
    "        print(f\"{ent}  :  {ent.label_}\" )"
   ]
  },
  {
   "cell_type": "code",
   "execution_count": 3,
   "id": "6216fe2d",
   "metadata": {},
   "outputs": [],
   "source": [
    "from utils import RefineLanguage3"
   ]
  },
  {
   "cell_type": "code",
   "execution_count": null,
   "id": "0181d606",
   "metadata": {},
   "outputs": [
    {
     "name": "stderr",
     "output_type": "stream",
     "text": [
      " 40%|███▉      | 527/1332 [58:44<3:35:55, 16.09s/it]"
     ]
    },
    {
     "name": "stdout",
     "output_type": "stream",
     "text": [
      "\u001b[1m\u001b[32m\n",
      "--FR--\n",
      "\u001b[0m\n",
      "{\n",
      "  \"Bergouey\": \"FR\",\n",
      "  \"Pays basque\": \"ES\",\n",
      "  \"Autour\": \"IT\",\n",
      "  \"Sologne\": \"FR\",\n",
      "  \"A\": \"AR\",\n",
      "  \"Angus\": \"GB\",\n",
      "  \"France\": \"FR\",\n",
      "  \"Krebsbach\": \"DE\",\n",
      "  \"Sud\": \"HT\",\n",
      "  \"Haute-Loire\": \"FR\",\n",
      "  \"Auvergne\": \"CA\",\n",
      "  \"Brioude\": \"FR\",\n",
      "  \"Paris\": \"FR\",\n",
      "  \"Lindes\": \"FR\",\n",
      "  \"rue Guynemer\": \"FR\",\n",
      "  \"rue Beaubourg\": \"FR\",\n",
      "  \"Terre\": \"ET\",\n",
      "  \"Gilles\": \"FR\",\n",
      "  \"Les\": \"FR\",\n",
      "  \"Chaque\": \"GT\",\n",
      "  \"Bordeaux\": \"FR\",\n",
      "  \"Petit-fils\": \"FR\",\n",
      "  \"ferme Pauline\": \"BE\",\n",
      "  \"Bordeaux-Métropole\": \"FR\",\n",
      "  \"FUP\": \"IT\",\n",
      "  \"Mérignac\": \"FR\",\n",
      "  \"Et\": \"ET\",\n",
      "  \"Bachats\": \"FR\",\n",
      "  \"Moselle\": \"FR\",\n",
      "  \"MSV\": \"US\",\n",
      "  \"Cagnolle\": \"FR\",\n",
      "  \"Cette\": \"FR\",\n",
      "  \"ferme de Cagnolle\": \"FR\",\n",
      "  \"Belvès\": \"FR\",\n",
      "  \"Périgord\": \"FR\",\n",
      "  \"Ille-et-Vilaine\": \"FR\",\n",
      "  \"Rennes\": \"FR\",\n",
      "  \"Champ de céréales\": \"FR\",\n",
      "  \"Vosges\": \"FR\",\n",
      "  \"Allemagne\": \"DE\",\n",
      "  \"Champs de Bray\": \"FR\",\n",
      "  \"Limousin\": \"FR\",\n",
      "  \"Haute-Saône\": \"FR\",\n",
      "  \"Hongrie\": \"HU\",\n",
      "  \"L’éleveur\": \"FR\",\n",
      "  \"Côte d’Or\": \"FR\",\n",
      "  \"Bourgogne\": \"FR\",\n",
      "  \"Lignières\": \"FR\",\n",
      "  \"Côtes d'Armor\": \"FR\",\n",
      "  \"Kroaz Min\": \"FR\",\n",
      "  \"Aubrac\": \"FR\",\n",
      "  \"Camargue\": \"FR\",\n",
      "  \"Canard des Rizières\": \"FR\",\n",
      "  \"région Centre Atlantique\": \"BF\",\n",
      "  \"Vendée\": \"FR\",\n",
      "  \"de France\": \"FR\",\n",
      "  \"Crau\": \"FR\",\n",
      "  \"d’Arles\": \"FR\"\n",
      "}\n",
      "\u001b[1m\u001b[32m\n",
      "--unknown--\n",
      "\u001b[0m\n",
      "{}\n",
      "\u001b[1m\u001b[32m\n",
      "--unknown--\n",
      "\u001b[0m\n",
      "{}\n"
     ]
    },
    {
     "name": "stderr",
     "output_type": "stream",
     "text": [
      " 40%|███▉      | 530/1332 [58:47<2:21:56, 10.62s/it]"
     ]
    },
    {
     "name": "stdout",
     "output_type": "stream",
     "text": [
      "\u001b[1m\u001b[32m\n",
      "--CI--\n",
      "\u001b[0m\n",
      "{\n",
      "  \"100% AUTONOME EN EAU\": \"CI\"\n",
      "}\n"
     ]
    },
    {
     "name": "stderr",
     "output_type": "stream",
     "text": [
      " 40%|████      | 534/1332 [58:48<1:15:31,  5.68s/it]"
     ]
    },
    {
     "name": "stdout",
     "output_type": "stream",
     "text": [
      "\u001b[1m\u001b[32m\n",
      "--FR--\n",
      "\u001b[0m\n",
      "{\n",
      "  \"forêt de Brocéliande\": \"FR\"\n",
      "}\n",
      "\u001b[1m\u001b[32m\n",
      "--unknown--\n",
      "\u001b[0m\n",
      "{}\n",
      "\u001b[1m\u001b[32m\n",
      "--unknown--\n",
      "\u001b[0m\n",
      "{}\n",
      "\u001b[1m\u001b[32m\n",
      "--unknown--\n",
      "\u001b[0m\n",
      "{}\n",
      "\u001b[1m\u001b[32m\n",
      "--unknown--\n",
      "\u001b[0m\n",
      "{}\n"
     ]
    },
    {
     "name": "stderr",
     "output_type": "stream",
     "text": [
      " 40%|████      | 536/1332 [58:52<1:01:02,  4.60s/it]"
     ]
    },
    {
     "name": "stdout",
     "output_type": "stream",
     "text": [
      "\u001b[1m\u001b[32m\n",
      "--FR--\n",
      "\u001b[0m\n",
      "{\n",
      "  \"Minervois\": \"FR\"\n",
      "}\n"
     ]
    },
    {
     "name": "stderr",
     "output_type": "stream",
     "text": [
      " 40%|████      | 537/1332 [58:59<1:07:12,  5.07s/it]"
     ]
    },
    {
     "name": "stdout",
     "output_type": "stream",
     "text": [
      "\u001b[1m\u001b[32m\n",
      "--FR--\n",
      "\u001b[0m\n",
      "{\n",
      "  \"Boulogne-Billancourt\": \"FR\",\n",
      "  \"Hauts-de-Seine\": \"FR\",\n",
      "  \"L'eau\": \"FR\",\n",
      "  \"Boulonnais\": \"FR\"\n",
      "}\n",
      "\u001b[1m\u001b[32m\n",
      "--unknown--\n",
      "\u001b[0m\n",
      "{}\n"
     ]
    },
    {
     "name": "stderr",
     "output_type": "stream",
     "text": [
      " 40%|████      | 539/1332 [59:00<46:18,  3.50s/it]  "
     ]
    },
    {
     "name": "stdout",
     "output_type": "stream",
     "text": [
      "\u001b[1m\u001b[32m\n",
      "--unknown--\n",
      "\u001b[0m\n",
      "{}\n"
     ]
    },
    {
     "name": "stderr",
     "output_type": "stream",
     "text": [
      " 41%|████      | 540/1332 [59:02<43:22,  3.29s/it]"
     ]
    },
    {
     "name": "stdout",
     "output_type": "stream",
     "text": [
      "\u001b[1m\u001b[32m\n",
      "--US--\n",
      "\u001b[0m\n",
      "{\n",
      "  \"Or\": \"US\",\n",
      "  \"Pays Basque\": \"ES\"\n",
      "}\n",
      "\u001b[1m\u001b[32m\n",
      "--unknown--\n",
      "\u001b[0m\n",
      "{}\n"
     ]
    },
    {
     "name": "stderr",
     "output_type": "stream",
     "text": [
      " 41%|████      | 544/1332 [59:07<26:10,  1.99s/it]"
     ]
    },
    {
     "name": "stdout",
     "output_type": "stream",
     "text": [
      "\u001b[1m\u001b[32m\n",
      "--AR--\n",
      "\u001b[0m\n",
      "{\n",
      "  \"A\": \"AR\",\n",
      "  \"J'avais\": \"FR\",\n",
      "  \"Donc\": \"CA\"\n",
      "}\n",
      "\u001b[1m\u001b[32m\n",
      "--unknown--\n",
      "\u001b[0m\n",
      "{}\n",
      "\u001b[1m\u001b[32m\n",
      "--unknown--\n",
      "\u001b[0m\n",
      "{}\n"
     ]
    },
    {
     "name": "stderr",
     "output_type": "stream",
     "text": [
      " 41%|████      | 545/1332 [59:10<29:44,  2.27s/it]"
     ]
    },
    {
     "name": "stdout",
     "output_type": "stream",
     "text": [
      "\u001b[1m\u001b[32m\n",
      "--unknown--\n",
      "\u001b[0m\n",
      "{}\n"
     ]
    },
    {
     "name": "stderr",
     "output_type": "stream",
     "text": [
      " 41%|████      | 548/1332 [59:11<16:50,  1.29s/it]"
     ]
    },
    {
     "name": "stdout",
     "output_type": "stream",
     "text": [
      "\u001b[1m\u001b[32m\n",
      "--FR--\n",
      "\u001b[0m\n",
      "{\n",
      "  \"Ardèche\": \"FR\"\n",
      "}\n",
      "\u001b[1m\u001b[32m\n",
      "--unknown--\n",
      "\u001b[0m\n",
      "{}\n",
      "\u001b[1m\u001b[32m\n",
      "--unknown--\n",
      "\u001b[0m\n",
      "{}\n",
      "\u001b[1m\u001b[32m\n",
      "--unknown--\n",
      "\u001b[0m\n",
      "{}\n"
     ]
    },
    {
     "name": "stderr",
     "output_type": "stream",
     "text": [
      " 41%|████▏     | 550/1332 [59:24<40:15,  3.09s/it]"
     ]
    },
    {
     "name": "stdout",
     "output_type": "stream",
     "text": [
      "\u001b[1m\u001b[32m\n",
      "--FR--\n",
      "\u001b[0m\n",
      "{\n",
      "  \"Maylis\": \"FR\",\n",
      "  \"Lucia\": \"SI\",\n",
      "  \"la France\": \"US\",\n",
      "  \"Maroc\": \"MA\",\n",
      "  \"Mauritanie\": \"MR\",\n",
      "  \"Sénégal\": \"SN\",\n",
      "  \"Brésil\": \"BR\",\n",
      "  \"Paraguay\": \"PY\",\n",
      "  \"Savoie\": \"FR\",\n",
      "  \"Haute Savoie\": \"FR\",\n",
      "  \"France\": \"FR\"\n",
      "}\n"
     ]
    },
    {
     "name": "stderr",
     "output_type": "stream",
     "text": [
      " 41%|████▏     | 551/1332 [59:27<39:32,  3.04s/it]"
     ]
    },
    {
     "name": "stdout",
     "output_type": "stream",
     "text": [
      "\u001b[1m\u001b[32m\n",
      "--FR--\n",
      "\u001b[0m\n",
      "{\n",
      "  \"Cette\": \"FR\"\n",
      "}\n"
     ]
    },
    {
     "name": "stderr",
     "output_type": "stream",
     "text": [
      " 41%|████▏     | 552/1332 [59:29<37:39,  2.90s/it]"
     ]
    },
    {
     "name": "stdout",
     "output_type": "stream",
     "text": [
      "\u001b[1m\u001b[32m\n",
      "--PL--\n",
      "\u001b[0m\n",
      "{\n",
      "  \"E\": \"PL\"\n",
      "}\n"
     ]
    },
    {
     "name": "stderr",
     "output_type": "stream",
     "text": [
      " 42%|████▏     | 553/1332 [59:32<35:38,  2.74s/it]"
     ]
    },
    {
     "name": "stdout",
     "output_type": "stream",
     "text": [
      "\u001b[1m\u001b[32m\n",
      "--FR--\n",
      "\u001b[0m\n",
      "{\n",
      "  \"Trièves\": \"FR\"\n",
      "}\n",
      "\u001b[1m\u001b[32m\n",
      "--unknown--\n",
      "\u001b[0m\n",
      "{}\n",
      "\u001b[1m\u001b[32m\n",
      "--unknown--\n",
      "\u001b[0m\n",
      "{}\n",
      "\u001b[1m\u001b[32m\n",
      "--unknown--\n",
      "\u001b[0m\n",
      "{}\n"
     ]
    },
    {
     "name": "stderr",
     "output_type": "stream",
     "text": [
      " 42%|████▏     | 557/1332 [59:34<18:54,  1.46s/it]"
     ]
    },
    {
     "name": "stdout",
     "output_type": "stream",
     "text": [
      "\u001b[1m\u001b[32m\n",
      "--AR--\n",
      "\u001b[0m\n",
      "{\n",
      "  \"A\": \"AR\"\n",
      "}\n"
     ]
    },
    {
     "name": "stderr",
     "output_type": "stream",
     "text": [
      " 42%|████▏     | 558/1332 [59:35<19:12,  1.49s/it]"
     ]
    },
    {
     "name": "stdout",
     "output_type": "stream",
     "text": [
      "\u001b[1m\u001b[32m\n",
      "--FR--\n",
      "\u001b[0m\n",
      "{\n",
      "  \"Paris La Défense\": \"FR\"\n",
      "}\n",
      "\u001b[1m\u001b[32m\n",
      "--unknown--\n",
      "\u001b[0m\n",
      "{}\n"
     ]
    },
    {
     "name": "stderr",
     "output_type": "stream",
     "text": [
      " 42%|████▏     | 561/1332 [59:37<12:51,  1.00s/it]"
     ]
    },
    {
     "name": "stdout",
     "output_type": "stream",
     "text": [
      "\u001b[1m\u001b[32m\n",
      "--FR--\n",
      "\u001b[0m\n",
      "{\n",
      "  \"Hauts-de-France\": \"FR\"\n",
      "}\n",
      "\u001b[1m\u001b[32m\n",
      "--unknown--\n",
      "\u001b[0m\n",
      "{}\n"
     ]
    },
    {
     "name": "stderr",
     "output_type": "stream",
     "text": [
      " 42%|████▏     | 562/1332 [59:44<29:45,  2.32s/it]"
     ]
    },
    {
     "name": "stdout",
     "output_type": "stream",
     "text": [
      "\u001b[1m\u001b[32m\n",
      "--FR--\n",
      "\u001b[0m\n",
      "{\n",
      "  \"Vannes\": \"FR\",\n",
      "  \"Lorient\": \"FR\",\n",
      "  \"Pontivy\": \"FR\",\n",
      "  \"A\": \"AR\"\n",
      "}\n"
     ]
    },
    {
     "name": "stderr",
     "output_type": "stream",
     "text": [
      " 42%|████▏     | 563/1332 [1:00:03<1:21:25,  6.35s/it]"
     ]
    },
    {
     "name": "stdout",
     "output_type": "stream",
     "text": [
      "\u001b[1m\u001b[32m\n",
      "--FR--\n",
      "\u001b[0m\n",
      "{\n",
      "  \"Côte St André\": \"FR\",\n",
      "  \"Terres Froides\": \"FR\",\n",
      "  \"le Rhône\": \"FR\",\n",
      "  \"Loire\": \"FR\",\n",
      "  \"Rhône\": \"FR\",\n",
      "  \"Loire-Atlantique\": \"FR\",\n",
      "  \"Ille-et-Vilaine\": \"FR\",\n",
      "  \"Pointel\": \"FR\",\n",
      "  \"Basse Normandie\": \"FR\",\n",
      "  \"Centre-Val de Loire\": \"FR\",\n",
      "  \"Normandie\": \"FR\"\n",
      "}\n",
      "\u001b[1m\u001b[32m\n",
      "--unknown--\n",
      "\u001b[0m\n",
      "{}\n"
     ]
    },
    {
     "name": "stderr",
     "output_type": "stream",
     "text": [
      " 42%|████▏     | 565/1332 [1:00:05<53:34,  4.19s/it]  "
     ]
    },
    {
     "name": "stdout",
     "output_type": "stream",
     "text": [
      "\u001b[1m\u001b[32m\n",
      "--FR--\n",
      "\u001b[0m\n",
      "{\n",
      "  \"Palais des Congrès de Paris\": \"FR\"\n",
      "}\n"
     ]
    },
    {
     "name": "stderr",
     "output_type": "stream",
     "text": [
      " 42%|████▏     | 566/1332 [1:00:09<51:35,  4.04s/it]"
     ]
    },
    {
     "name": "stdout",
     "output_type": "stream",
     "text": [
      "\u001b[1m\u001b[32m\n",
      "--FR--\n",
      "\u001b[0m\n",
      "{\n",
      "  \"La Ferme en Coton\": \"FR\",\n",
      "  \"Auch\": \"FR\",\n",
      "  \"Gers\": \"FR\"\n",
      "}\n"
     ]
    },
    {
     "name": "stderr",
     "output_type": "stream",
     "text": [
      " 43%|████▎     | 567/1332 [1:01:55<6:05:26, 28.66s/it]"
     ]
    },
    {
     "name": "stdout",
     "output_type": "stream",
     "text": [
      "\u001b[1m\u001b[32m\n",
      "--FR--\n",
      "\u001b[0m\n",
      "{\n",
      "  \"Bergouey\": \"FR\",\n",
      "  \"Pays basque\": \"ES\",\n",
      "  \"Autour\": \"IT\",\n",
      "  \"Sologne\": \"FR\",\n",
      "  \"A\": \"AR\",\n",
      "  \"Angus\": \"GB\",\n",
      "  \"France\": \"FR\",\n",
      "  \"Krebsbach\": \"DE\",\n",
      "  \"Sud\": \"HT\",\n",
      "  \"Haute-Loire\": \"FR\",\n",
      "  \"Auvergne\": \"CA\",\n",
      "  \"Brioude\": \"FR\",\n",
      "  \"Paris\": \"FR\",\n",
      "  \"Lindes\": \"FR\",\n",
      "  \"rue Guynemer\": \"FR\",\n",
      "  \"rue Beaubourg\": \"FR\",\n",
      "  \"Terre\": \"ET\",\n",
      "  \"Gilles\": \"FR\",\n",
      "  \"Les\": \"FR\",\n",
      "  \"Chaque\": \"GT\",\n",
      "  \"Bordeaux\": \"FR\",\n",
      "  \"Petit-fils\": \"FR\",\n",
      "  \"ferme Pauline\": \"BE\",\n",
      "  \"Bordeaux-Métropole\": \"FR\",\n",
      "  \"FUP\": \"IT\",\n",
      "  \"Mérignac\": \"FR\",\n",
      "  \"Et\": \"ET\",\n",
      "  \"Bachats\": \"FR\",\n",
      "  \"Moselle\": \"FR\",\n",
      "  \"MSV\": \"US\",\n",
      "  \"Cagnolle\": \"FR\",\n",
      "  \"Cette\": \"FR\",\n",
      "  \"ferme de Cagnolle\": \"FR\",\n",
      "  \"Belvès\": \"FR\",\n",
      "  \"Périgord\": \"FR\",\n",
      "  \"Ille-et-Vilaine\": \"FR\",\n",
      "  \"Rennes\": \"FR\",\n",
      "  \"Champ de céréales\": \"FR\",\n",
      "  \"Vosges\": \"FR\",\n",
      "  \"Allemagne\": \"DE\",\n",
      "  \"Champs de Bray\": \"FR\",\n",
      "  \"Limousin\": \"FR\",\n",
      "  \"Haute-Saône\": \"FR\",\n",
      "  \"Hongrie\": \"HU\",\n",
      "  \"L’éleveur\": \"FR\",\n",
      "  \"Côte d’Or\": \"FR\",\n",
      "  \"Bourgogne\": \"FR\",\n",
      "  \"Lignières\": \"FR\",\n",
      "  \"Côtes d'Armor\": \"FR\",\n",
      "  \"Kroaz Min\": \"FR\",\n",
      "  \"Aubrac\": \"FR\",\n",
      "  \"Camargue\": \"FR\",\n",
      "  \"Canard des Rizières\": \"FR\",\n",
      "  \"région Centre Atlantique\": \"BF\",\n",
      "  \"Vendée\": \"FR\",\n",
      "  \"de France\": \"FR\",\n",
      "  \"Crau\": \"FR\",\n",
      "  \"d’Arles\": \"FR\"\n",
      "}\n",
      "\u001b[1m\u001b[32m\n",
      "--unknown--\n",
      "\u001b[0m\n",
      "{}\n"
     ]
    },
    {
     "name": "stderr",
     "output_type": "stream",
     "text": [
      " 43%|████▎     | 569/1332 [1:01:59<3:45:21, 17.72s/it]"
     ]
    },
    {
     "name": "stdout",
     "output_type": "stream",
     "text": [
      "\u001b[1m\u001b[32m\n",
      "--CA--\n",
      "\u001b[0m\n",
      "{\n",
      "  \"Québec\": \"CA\",\n",
      "  \"Maritimes\": \"FR\"\n",
      "}\n"
     ]
    },
    {
     "name": "stderr",
     "output_type": "stream",
     "text": [
      " 43%|████▎     | 570/1332 [1:02:03<3:06:21, 14.67s/it]"
     ]
    },
    {
     "name": "stdout",
     "output_type": "stream",
     "text": [
      "\u001b[1m\u001b[32m\n",
      "--FR--\n",
      "\u001b[0m\n",
      "{\n",
      "  \"Lyon\": \"FR\",\n",
      "  \"Un\": \"MD\",\n",
      "  \"Occitanie\": \"FR\"\n",
      "}\n"
     ]
    },
    {
     "name": "stderr",
     "output_type": "stream",
     "text": [
      " 43%|████▎     | 571/1332 [1:02:06<2:31:42, 11.96s/it]"
     ]
    },
    {
     "name": "stdout",
     "output_type": "stream",
     "text": [
      "\u001b[1m\u001b[32m\n",
      "--FR--\n",
      "\u001b[0m\n",
      "{\n",
      "  \"Rouen\": \"FR\",\n",
      "  \"Dieppe\": \"FR\"\n",
      "}\n"
     ]
    },
    {
     "name": "stderr",
     "output_type": "stream",
     "text": [
      " 43%|████▎     | 572/1332 [1:02:18<2:30:02, 11.85s/it]"
     ]
    },
    {
     "name": "stdout",
     "output_type": "stream",
     "text": [
      "\u001b[1m\u001b[32m\n",
      "--FR--\n",
      "\u001b[0m\n",
      "{\n",
      "  \"de France\": \"FR\",\n",
      "  \"Alpes\": \"IT\",\n",
      "  \"Vercors\": \"FR\",\n",
      "  \"ville de Paris\": \"BR\",\n",
      "  \"Paris\": \"FR\"\n",
      "}\n",
      "\u001b[1m\u001b[32m\n",
      "--unknown--\n",
      "\u001b[0m\n",
      "{}\n",
      "\u001b[1m\u001b[32m\n",
      "--unknown--\n",
      "\u001b[0m\n",
      "{}\n"
     ]
    },
    {
     "name": "stderr",
     "output_type": "stream",
     "text": [
      " 43%|████▎     | 575/1332 [1:02:19<1:13:29,  5.83s/it]"
     ]
    },
    {
     "name": "stdout",
     "output_type": "stream",
     "text": [
      "\u001b[1m\u001b[32m\n",
      "--FR--\n",
      "\u001b[0m\n",
      "{\n",
      "  \"Pluduno\": \"FR\"\n",
      "}\n"
     ]
    },
    {
     "name": "stderr",
     "output_type": "stream",
     "text": [
      " 43%|████▎     | 576/1332 [1:02:23<1:08:12,  5.41s/it]"
     ]
    },
    {
     "name": "stdout",
     "output_type": "stream",
     "text": [
      "\u001b[1m\u001b[32m\n",
      "--CA--\n",
      "\u001b[0m\n",
      "{\n",
      "  \"Québec\": \"CA\",\n",
      "  \"Maritimes\": \"FR\"\n",
      "}\n",
      "\u001b[1m\u001b[32m\n",
      "--unknown--\n",
      "\u001b[0m\n",
      "{}\n"
     ]
    },
    {
     "name": "stderr",
     "output_type": "stream",
     "text": [
      " 43%|████▎     | 578/1332 [1:02:24<46:10,  3.67s/it]  "
     ]
    },
    {
     "name": "stdout",
     "output_type": "stream",
     "text": [
      "\u001b[1m\u001b[32m\n",
      "--unknown--\n",
      "\u001b[0m\n",
      "{}\n",
      "\u001b[1m\u001b[32m\n",
      "--unknown--\n",
      "\u001b[0m\n",
      "{}\n"
     ]
    },
    {
     "name": "stderr",
     "output_type": "stream",
     "text": [
      " 44%|████▎     | 580/1332 [1:04:12<4:21:47, 20.89s/it]"
     ]
    },
    {
     "name": "stdout",
     "output_type": "stream",
     "text": [
      "\u001b[1m\u001b[32m\n",
      "--FR--\n",
      "\u001b[0m\n",
      "{\n",
      "  \"Bergouey\": \"FR\",\n",
      "  \"Pays basque\": \"ES\",\n",
      "  \"Autour\": \"IT\",\n",
      "  \"Sologne\": \"FR\",\n",
      "  \"A\": \"AR\",\n",
      "  \"Angus\": \"GB\",\n",
      "  \"France\": \"FR\",\n",
      "  \"Krebsbach\": \"DE\",\n",
      "  \"Sud\": \"HT\",\n",
      "  \"Haute-Loire\": \"FR\",\n",
      "  \"Auvergne\": \"CA\",\n",
      "  \"Brioude\": \"FR\",\n",
      "  \"Paris\": \"FR\",\n",
      "  \"Lindes\": \"FR\",\n",
      "  \"rue Guynemer\": \"FR\",\n",
      "  \"rue Beaubourg\": \"FR\",\n",
      "  \"Terre\": \"ET\",\n",
      "  \"Gilles\": \"FR\",\n",
      "  \"Les\": \"FR\",\n",
      "  \"Chaque\": \"GT\",\n",
      "  \"Bordeaux\": \"FR\",\n",
      "  \"Petit-fils\": \"FR\",\n",
      "  \"ferme Pauline\": \"BE\",\n",
      "  \"Bordeaux-Métropole\": \"FR\",\n",
      "  \"FUP\": \"IT\",\n",
      "  \"Mérignac\": \"FR\",\n",
      "  \"Et\": \"ET\",\n",
      "  \"Bachats\": \"FR\",\n",
      "  \"Moselle\": \"FR\",\n",
      "  \"MSV\": \"US\",\n",
      "  \"Cagnolle\": \"FR\",\n",
      "  \"Cette\": \"FR\",\n",
      "  \"ferme de Cagnolle\": \"FR\",\n",
      "  \"Belvès\": \"FR\",\n",
      "  \"Périgord\": \"FR\",\n",
      "  \"Ille-et-Vilaine\": \"FR\",\n",
      "  \"Rennes\": \"FR\",\n",
      "  \"Champ de céréales\": \"FR\",\n",
      "  \"Vosges\": \"FR\",\n",
      "  \"Allemagne\": \"DE\",\n",
      "  \"Champs de Bray\": \"FR\",\n",
      "  \"Limousin\": \"FR\",\n",
      "  \"Haute-Saône\": \"FR\",\n",
      "  \"Hongrie\": \"HU\",\n",
      "  \"L’éleveur\": \"FR\",\n",
      "  \"Côte d’Or\": \"FR\",\n",
      "  \"Bourgogne\": \"FR\",\n",
      "  \"Lignières\": \"FR\",\n",
      "  \"Côtes d'Armor\": \"FR\",\n",
      "  \"Kroaz Min\": \"FR\",\n",
      "  \"Aubrac\": \"FR\",\n",
      "  \"Camargue\": \"FR\",\n",
      "  \"Canard des Rizières\": \"FR\",\n",
      "  \"région Centre Atlantique\": \"BF\",\n",
      "  \"Vendée\": \"FR\",\n",
      "  \"de France\": \"FR\",\n",
      "  \"Crau\": \"FR\",\n",
      "  \"d’Arles\": \"FR\"\n",
      "}\n"
     ]
    },
    {
     "name": "stderr",
     "output_type": "stream",
     "text": [
      " 44%|████▎     | 581/1332 [1:06:00<7:55:16, 37.97s/it]"
     ]
    },
    {
     "name": "stdout",
     "output_type": "stream",
     "text": [
      "\u001b[1m\u001b[32m\n",
      "--FR--\n",
      "\u001b[0m\n",
      "{\n",
      "  \"Bergouey\": \"FR\",\n",
      "  \"Pays basque\": \"ES\",\n",
      "  \"Autour\": \"IT\",\n",
      "  \"Sologne\": \"FR\",\n",
      "  \"A\": \"AR\",\n",
      "  \"Angus\": \"GB\",\n",
      "  \"France\": \"FR\",\n",
      "  \"Krebsbach\": \"DE\",\n",
      "  \"Sud\": \"HT\",\n",
      "  \"Haute-Loire\": \"FR\",\n",
      "  \"Auvergne\": \"CA\",\n",
      "  \"Brioude\": \"FR\",\n",
      "  \"Paris\": \"FR\",\n",
      "  \"Lindes\": \"FR\",\n",
      "  \"rue Guynemer\": \"FR\",\n",
      "  \"rue Beaubourg\": \"FR\",\n",
      "  \"Terre\": \"ET\",\n",
      "  \"Gilles\": \"FR\",\n",
      "  \"Les\": \"FR\",\n",
      "  \"Chaque\": \"GT\",\n",
      "  \"Bordeaux\": \"FR\",\n",
      "  \"Petit-fils\": \"FR\",\n",
      "  \"ferme Pauline\": \"BE\",\n",
      "  \"Bordeaux-Métropole\": \"FR\",\n",
      "  \"FUP\": \"IT\",\n",
      "  \"Mérignac\": \"FR\",\n",
      "  \"Et\": \"ET\",\n",
      "  \"Bachats\": \"FR\",\n",
      "  \"Moselle\": \"FR\",\n",
      "  \"MSV\": \"US\",\n",
      "  \"Cagnolle\": \"FR\",\n",
      "  \"Cette\": \"FR\",\n",
      "  \"ferme de Cagnolle\": \"FR\",\n",
      "  \"Belvès\": \"FR\",\n",
      "  \"Périgord\": \"FR\",\n",
      "  \"Ille-et-Vilaine\": \"FR\",\n",
      "  \"Rennes\": \"FR\",\n",
      "  \"Champ de céréales\": \"FR\",\n",
      "  \"Vosges\": \"FR\",\n",
      "  \"Allemagne\": \"DE\",\n",
      "  \"Champs de Bray\": \"FR\",\n",
      "  \"Limousin\": \"FR\",\n",
      "  \"Haute-Saône\": \"FR\",\n",
      "  \"Hongrie\": \"HU\",\n",
      "  \"L’éleveur\": \"FR\",\n",
      "  \"Côte d’Or\": \"FR\",\n",
      "  \"Bourgogne\": \"FR\",\n",
      "  \"Lignières\": \"FR\",\n",
      "  \"Côtes d'Armor\": \"FR\",\n",
      "  \"Kroaz Min\": \"FR\",\n",
      "  \"Aubrac\": \"FR\",\n",
      "  \"Camargue\": \"FR\",\n",
      "  \"Canard des Rizières\": \"FR\",\n",
      "  \"région Centre Atlantique\": \"BF\",\n",
      "  \"Vendée\": \"FR\",\n",
      "  \"de France\": \"FR\",\n",
      "  \"Crau\": \"FR\",\n",
      "  \"d’Arles\": \"FR\"\n",
      "}\n"
     ]
    },
    {
     "name": "stderr",
     "output_type": "stream",
     "text": [
      " 44%|████▎     | 582/1332 [1:06:08<6:32:51, 31.43s/it]"
     ]
    },
    {
     "name": "stdout",
     "output_type": "stream",
     "text": [
      "\u001b[1m\u001b[32m\n",
      "--FR--\n",
      "\u001b[0m\n",
      "{\n",
      "  \"France\": \"FR\",\n",
      "  \"Gers\": \"FR\",\n",
      "  \"Eure\": \"FR\",\n",
      "  \"Yonne\": \"FR\",\n",
      "  \"Lot\": \"FR\",\n",
      "  \"Ille\": \"FR\",\n",
      "  \"Vilaine\": \"FR\"\n",
      "}\n",
      "\u001b[1m\u001b[32m\n",
      "--unknown--\n",
      "\u001b[0m\n",
      "{}\n"
     ]
    },
    {
     "name": "stderr",
     "output_type": "stream",
     "text": [
      " 44%|████▍     | 584/1332 [1:06:09<4:04:01, 19.57s/it]"
     ]
    },
    {
     "name": "stdout",
     "output_type": "stream",
     "text": [
      "\u001b[1m\u001b[32m\n",
      "--FR--\n",
      "\u001b[0m\n",
      "{\n",
      "  \"Peyruis\": \"FR\"\n",
      "}\n"
     ]
    },
    {
     "name": "stderr",
     "output_type": "stream",
     "text": [
      " 44%|████▍     | 585/1332 [1:06:11<3:14:14, 15.60s/it]"
     ]
    },
    {
     "name": "stdout",
     "output_type": "stream",
     "text": [
      "\u001b[1m\u001b[32m\n",
      "--BE--\n",
      "\u001b[0m\n",
      "{\n",
      "  \"Belgique\": \"BE\"\n",
      "}\n"
     ]
    },
    {
     "name": "stderr",
     "output_type": "stream",
     "text": [
      " 44%|████▍     | 586/1332 [1:06:20<2:56:08, 14.17s/it]"
     ]
    },
    {
     "name": "stdout",
     "output_type": "stream",
     "text": [
      "\u001b[1m\u001b[32m\n",
      "--FR--\n",
      "\u001b[0m\n",
      "{\n",
      "  \"Côtes-d’Armor\": \"FR\",\n",
      "  \"Pékin\": \"CN\",\n",
      "  \"de France\": \"FR\",\n",
      "  \"Paris\": \"FR\",\n",
      "  \"région Centre\": \"TG\"\n",
      "}\n"
     ]
    },
    {
     "name": "stderr",
     "output_type": "stream",
     "text": [
      " 44%|████▍     | 587/1332 [1:06:25<2:25:53, 11.75s/it]"
     ]
    },
    {
     "name": "stdout",
     "output_type": "stream",
     "text": [
      "\u001b[1m\u001b[32m\n",
      "--FR--\n",
      "\u001b[0m\n",
      "{\n",
      "  \"Moulin Laurentais\": \"FR\",\n",
      "  \"Huisseau\": \"FR\",\n",
      "  \"Mauves\": \"FR\",\n",
      "  \"LAURENTAIS\": \"FR\"\n",
      "}\n",
      "\u001b[1m\u001b[32m\n",
      "--unknown--\n",
      "\u001b[0m\n",
      "{}\n"
     ]
    },
    {
     "name": "stderr",
     "output_type": "stream",
     "text": [
      " 44%|████▍     | 589/1332 [1:06:27<1:31:06,  7.36s/it]"
     ]
    },
    {
     "name": "stdout",
     "output_type": "stream",
     "text": [
      "\u001b[1m\u001b[32m\n",
      "--FR--\n",
      "\u001b[0m\n",
      "{\n",
      "  \"Vaucluse\": \"FR\",\n",
      "  \"Alpes-de-Haute-Provence\": \"FR\"\n",
      "}\n"
     ]
    },
    {
     "name": "stderr",
     "output_type": "stream",
     "text": [
      " 44%|████▍     | 590/1332 [1:06:30<1:16:47,  6.21s/it]"
     ]
    },
    {
     "name": "stdout",
     "output_type": "stream",
     "text": [
      "\u001b[1m\u001b[32m\n",
      "--FR--\n",
      "\u001b[0m\n",
      "{\n",
      "  \"Vaucluse\": \"FR\",\n",
      "  \"Alpes-de-Haute-Provence\": \"FR\"\n",
      "}\n"
     ]
    },
    {
     "name": "stderr",
     "output_type": "stream",
     "text": [
      " 44%|████▍     | 591/1332 [1:06:31<1:02:27,  5.06s/it]"
     ]
    },
    {
     "name": "stdout",
     "output_type": "stream",
     "text": [
      "\u001b[1m\u001b[32m\n",
      "--unknown--\n",
      "\u001b[0m\n",
      "{}\n",
      "\u001b[1m\u001b[32m\n",
      "--unknown--\n",
      "\u001b[0m\n",
      "{}\n"
     ]
    },
    {
     "name": "stderr",
     "output_type": "stream",
     "text": [
      " 45%|████▍     | 593/1332 [1:06:45<1:13:01,  5.93s/it]"
     ]
    },
    {
     "name": "stdout",
     "output_type": "stream",
     "text": [
      "\u001b[1m\u001b[32m\n",
      "--FR--\n",
      "\u001b[0m\n",
      "{\n",
      "  \"France\": \"FR\",\n",
      "  \"Loire\": \"FR\",\n",
      "  \"Chavagne\": \"FR\",\n",
      "  \"Ille-et-Vilaine\": \"FR\",\n",
      "  \"Ferme de l'Envol\": \"FR\",\n",
      "  \"Essonne\": \"FR\",\n",
      "  \"A\": \"AR\",\n",
      "  \"Fermes\": \"FR\"\n",
      "}\n"
     ]
    },
    {
     "name": "stderr",
     "output_type": "stream",
     "text": [
      " 45%|████▍     | 594/1332 [1:06:49<1:07:13,  5.47s/it]"
     ]
    },
    {
     "name": "stdout",
     "output_type": "stream",
     "text": [
      "\u001b[1m\u001b[32m\n",
      "--US--\n",
      "\u001b[0m\n",
      "{\n",
      "  \"Alsace\": \"US\",\n",
      "  \"Schopperten\": \"FR\"\n",
      "}\n"
     ]
    },
    {
     "name": "stderr",
     "output_type": "stream",
     "text": [
      " 45%|████▍     | 595/1332 [1:07:09<1:49:47,  8.94s/it]"
     ]
    },
    {
     "name": "stdout",
     "output_type": "stream",
     "text": [
      "\u001b[1m\u001b[32m\n",
      "--FR--\n",
      "\u001b[0m\n",
      "{\n",
      "  \"Côte St André\": \"FR\",\n",
      "  \"Terres Froides\": \"FR\",\n",
      "  \"le Rhône\": \"FR\",\n",
      "  \"Loire\": \"FR\",\n",
      "  \"Rhône\": \"FR\",\n",
      "  \"Loire-Atlantique\": \"FR\",\n",
      "  \"Ille-et-Vilaine\": \"FR\",\n",
      "  \"Pointel\": \"FR\",\n",
      "  \"Basse Normandie\": \"FR\",\n",
      "  \"Centre-Val de Loire\": \"FR\",\n",
      "  \"Normandie\": \"FR\"\n",
      "}\n"
     ]
    },
    {
     "name": "stderr",
     "output_type": "stream",
     "text": [
      " 45%|████▍     | 596/1332 [1:08:56<7:01:00, 34.32s/it]"
     ]
    },
    {
     "name": "stdout",
     "output_type": "stream",
     "text": [
      "\u001b[1m\u001b[32m\n",
      "--FR--\n",
      "\u001b[0m\n",
      "{\n",
      "  \"Bergouey\": \"FR\",\n",
      "  \"Pays basque\": \"ES\",\n",
      "  \"Autour\": \"IT\",\n",
      "  \"Sologne\": \"FR\",\n",
      "  \"A\": \"AR\",\n",
      "  \"Angus\": \"GB\",\n",
      "  \"France\": \"FR\",\n",
      "  \"Krebsbach\": \"DE\",\n",
      "  \"Sud\": \"HT\",\n",
      "  \"Haute-Loire\": \"FR\",\n",
      "  \"Auvergne\": \"CA\",\n",
      "  \"Brioude\": \"FR\",\n",
      "  \"Paris\": \"FR\",\n",
      "  \"Lindes\": \"FR\",\n",
      "  \"rue Guynemer\": \"FR\",\n",
      "  \"rue Beaubourg\": \"FR\",\n",
      "  \"Terre\": \"ET\",\n",
      "  \"Gilles\": \"FR\",\n",
      "  \"Les\": \"FR\",\n",
      "  \"Chaque\": \"GT\",\n",
      "  \"Bordeaux\": \"FR\",\n",
      "  \"Petit-fils\": \"FR\",\n",
      "  \"ferme Pauline\": \"BE\",\n",
      "  \"Bordeaux-Métropole\": \"FR\",\n",
      "  \"FUP\": \"IT\",\n",
      "  \"Mérignac\": \"FR\",\n",
      "  \"Et\": \"ET\",\n",
      "  \"Bachats\": \"FR\",\n",
      "  \"Moselle\": \"FR\",\n",
      "  \"MSV\": \"US\",\n",
      "  \"Cagnolle\": \"FR\",\n",
      "  \"Cette\": \"FR\",\n",
      "  \"ferme de Cagnolle\": \"FR\",\n",
      "  \"Belvès\": \"FR\",\n",
      "  \"Périgord\": \"FR\",\n",
      "  \"Ille-et-Vilaine\": \"FR\",\n",
      "  \"Rennes\": \"FR\",\n",
      "  \"Champ de céréales\": \"FR\",\n",
      "  \"Vosges\": \"FR\",\n",
      "  \"Allemagne\": \"DE\",\n",
      "  \"Champs de Bray\": \"FR\",\n",
      "  \"Limousin\": \"FR\",\n",
      "  \"Haute-Saône\": \"FR\",\n",
      "  \"Hongrie\": \"HU\",\n",
      "  \"L’éleveur\": \"FR\",\n",
      "  \"Côte d’Or\": \"FR\",\n",
      "  \"Bourgogne\": \"FR\",\n",
      "  \"Lignières\": \"FR\",\n",
      "  \"Côtes d'Armor\": \"FR\",\n",
      "  \"Kroaz Min\": \"FR\",\n",
      "  \"Aubrac\": \"FR\",\n",
      "  \"Camargue\": \"FR\",\n",
      "  \"Canard des Rizières\": \"FR\",\n",
      "  \"région Centre Atlantique\": \"BF\",\n",
      "  \"Vendée\": \"FR\",\n",
      "  \"de France\": \"FR\",\n",
      "  \"Crau\": \"FR\",\n",
      "  \"d’Arles\": \"FR\"\n",
      "}\n"
     ]
    },
    {
     "name": "stderr",
     "output_type": "stream",
     "text": [
      " 45%|████▍     | 597/1332 [1:08:57<5:10:29, 25.35s/it]"
     ]
    },
    {
     "name": "stdout",
     "output_type": "stream",
     "text": [
      "\u001b[1m\u001b[32m\n",
      "--FR--\n",
      "\u001b[0m\n",
      "{\n",
      "  \"Franche-Comté\": \"FR\"\n",
      "}\n"
     ]
    },
    {
     "name": "stderr",
     "output_type": "stream",
     "text": [
      " 45%|████▍     | 598/1332 [1:09:06<4:15:15, 20.87s/it]"
     ]
    },
    {
     "name": "stdout",
     "output_type": "stream",
     "text": [
      "\u001b[1m\u001b[32m\n",
      "--FR--\n",
      "\u001b[0m\n",
      "{\n",
      "  \"Côtes-d’Armor\": \"FR\",\n",
      "  \"Pékin\": \"CN\",\n",
      "  \"de France\": \"FR\",\n",
      "  \"Paris\": \"FR\",\n",
      "  \"région Centre\": \"TG\"\n",
      "}\n",
      "\u001b[1m\u001b[32m\n",
      "--unknown--\n",
      "\u001b[0m\n",
      "{}\n"
     ]
    },
    {
     "name": "stderr",
     "output_type": "stream",
     "text": [
      " 45%|████▌     | 600/1332 [1:09:07<2:25:17, 11.91s/it]"
     ]
    },
    {
     "name": "stdout",
     "output_type": "stream",
     "text": [
      "\u001b[1m\u001b[32m\n",
      "--FR--\n",
      "\u001b[0m\n",
      "{\n",
      "  \"Chambre d’Agriculture\": \"FR\"\n",
      "}\n",
      "\u001b[1m\u001b[32m\n",
      " json saved --300--\u001b[0m\n",
      "\u001b[1m\u001b[32m\n",
      "--unknown--\n",
      "\u001b[0m\n",
      "{}\n",
      "\u001b[1m\u001b[32m\n",
      "--unknown--\n",
      "\u001b[0m\n",
      "{}\n",
      "\u001b[1m\u001b[32m\n",
      "--unknown--\n",
      "\u001b[0m\n",
      "{}\n",
      "\u001b[1m\u001b[32m\n",
      "--unknown--\n",
      "\u001b[0m\n",
      "{}\n"
     ]
    },
    {
     "name": "stderr",
     "output_type": "stream",
     "text": [
      " 45%|████▌     | 605/1332 [1:09:09<57:44,  4.77s/it]  "
     ]
    },
    {
     "name": "stdout",
     "output_type": "stream",
     "text": [
      "\u001b[1m\u001b[32m\n",
      "--FR--\n",
      "\u001b[0m\n",
      "{\n",
      "  \"Auvergne-Rhône-Alpes\": \"FR\"\n",
      "}\n"
     ]
    },
    {
     "name": "stderr",
     "output_type": "stream",
     "text": [
      " 45%|████▌     | 606/1332 [1:09:17<1:03:35,  5.26s/it]"
     ]
    },
    {
     "name": "stdout",
     "output_type": "stream",
     "text": [
      "\u001b[1m\u001b[32m\n",
      "--FR--\n",
      "\u001b[0m\n",
      "{\n",
      "  \"Lorient Bretagne Sud\": \"FR\",\n",
      "  \"Bubry\": \"FR\"\n",
      "}\n"
     ]
    },
    {
     "name": "stderr",
     "output_type": "stream",
     "text": [
      " 46%|████▌     | 607/1332 [1:11:05<4:41:48, 23.32s/it]"
     ]
    },
    {
     "name": "stdout",
     "output_type": "stream",
     "text": [
      "\u001b[1m\u001b[32m\n",
      "--FR--\n",
      "\u001b[0m\n",
      "{\n",
      "  \"Bergouey\": \"FR\",\n",
      "  \"Pays basque\": \"ES\",\n",
      "  \"Autour\": \"IT\",\n",
      "  \"Sologne\": \"FR\",\n",
      "  \"A\": \"AR\",\n",
      "  \"Angus\": \"GB\",\n",
      "  \"France\": \"FR\",\n",
      "  \"Krebsbach\": \"DE\",\n",
      "  \"Sud\": \"HT\",\n",
      "  \"Haute-Loire\": \"FR\",\n",
      "  \"Auvergne\": \"CA\",\n",
      "  \"Brioude\": \"FR\",\n",
      "  \"Paris\": \"FR\",\n",
      "  \"Lindes\": \"FR\",\n",
      "  \"rue Guynemer\": \"FR\",\n",
      "  \"rue Beaubourg\": \"FR\",\n",
      "  \"Terre\": \"ET\",\n",
      "  \"Gilles\": \"FR\",\n",
      "  \"Les\": \"FR\",\n",
      "  \"Chaque\": \"GT\",\n",
      "  \"Bordeaux\": \"FR\",\n",
      "  \"Petit-fils\": \"FR\",\n",
      "  \"ferme Pauline\": \"BE\",\n",
      "  \"Bordeaux-Métropole\": \"FR\",\n",
      "  \"FUP\": \"IT\",\n",
      "  \"Mérignac\": \"FR\",\n",
      "  \"Et\": \"ET\",\n",
      "  \"Bachats\": \"FR\",\n",
      "  \"Moselle\": \"FR\",\n",
      "  \"MSV\": \"US\",\n",
      "  \"Cagnolle\": \"FR\",\n",
      "  \"Cette\": \"FR\",\n",
      "  \"ferme de Cagnolle\": \"FR\",\n",
      "  \"Belvès\": \"FR\",\n",
      "  \"Périgord\": \"FR\",\n",
      "  \"Ille-et-Vilaine\": \"FR\",\n",
      "  \"Rennes\": \"FR\",\n",
      "  \"Champ de céréales\": \"FR\",\n",
      "  \"Vosges\": \"FR\",\n",
      "  \"Allemagne\": \"DE\",\n",
      "  \"Champs de Bray\": \"FR\",\n",
      "  \"Limousin\": \"FR\",\n",
      "  \"Haute-Saône\": \"FR\",\n",
      "  \"Hongrie\": \"HU\",\n",
      "  \"L’éleveur\": \"FR\",\n",
      "  \"Côte d’Or\": \"FR\",\n",
      "  \"Bourgogne\": \"FR\",\n",
      "  \"Lignières\": \"FR\",\n",
      "  \"Côtes d'Armor\": \"FR\",\n",
      "  \"Kroaz Min\": \"FR\",\n",
      "  \"Aubrac\": \"FR\",\n",
      "  \"Camargue\": \"FR\",\n",
      "  \"Canard des Rizières\": \"FR\",\n",
      "  \"région Centre Atlantique\": \"BF\",\n",
      "  \"Vendée\": \"FR\",\n",
      "  \"de France\": \"FR\",\n",
      "  \"Crau\": \"FR\",\n",
      "  \"d’Arles\": \"FR\"\n",
      "}\n",
      "\u001b[1m\u001b[32m\n",
      "--unknown--\n",
      "\u001b[0m\n",
      "{}\n",
      "\u001b[1m\u001b[32m\n",
      "--unknown--\n",
      "\u001b[0m\n",
      "{}\n",
      "\u001b[1m\u001b[32m\n",
      "--unknown--\n",
      "\u001b[0m\n",
      "{}\n"
     ]
    },
    {
     "name": "stderr",
     "output_type": "stream",
     "text": [
      " 46%|████▌     | 611/1332 [1:11:35<3:05:24, 15.43s/it]"
     ]
    },
    {
     "name": "stdout",
     "output_type": "stream",
     "text": [
      "\u001b[1m\u001b[32m\n",
      "--FR--\n",
      "\u001b[0m\n",
      "{\n",
      "  \"Johannesburg\": \"ZA\",\n",
      "  \"l'Afrique du Sud\": \"ZA\",\n",
      "  \"Normandie\": \"FR\",\n",
      "  \"Rouen\": \"FR\",\n",
      "  \"la Pologne\": \"FR\",\n",
      "  \"Suresnes\": \"FR\",\n",
      "  \"Mont-Valérien\": \"FR\",\n",
      "  \"du Nord\": \"CH\",\n",
      "  \"Marseille\": \"FR\",\n",
      "  \"Bénin\": \"BJ\",\n",
      "  \"Afrique\": \"TD\",\n",
      "  \"Ferme du Logis\": \"FR\",\n",
      "  \"France\": \"FR\",\n",
      "  \"Chili\": \"CL\",\n",
      "  \"Stavanger\": \"NO\",\n",
      "  \"Norvège\": \"NO\",\n",
      "  \"Puebla\": \"MX\",\n",
      "  \"Bordeaux\": \"FR\",\n",
      "  \"La Pologne\": \"FR\"\n",
      "}\n"
     ]
    },
    {
     "name": "stderr",
     "output_type": "stream",
     "text": [
      " 46%|████▌     | 612/1332 [1:11:47<2:58:07, 14.84s/it]"
     ]
    },
    {
     "name": "stdout",
     "output_type": "stream",
     "text": [
      "\u001b[1m\u001b[32m\n",
      "--FR--\n",
      "\u001b[0m\n",
      "{\n",
      "  \"de France\": \"FR\",\n",
      "  \"Alpes\": \"IT\",\n",
      "  \"Vercors\": \"FR\",\n",
      "  \"ville de Paris\": \"BR\",\n",
      "  \"Paris\": \"FR\"\n",
      "}\n"
     ]
    },
    {
     "name": "stderr",
     "output_type": "stream",
     "text": [
      " 46%|████▌     | 614/1332 [1:11:49<2:00:45, 10.09s/it]"
     ]
    },
    {
     "name": "stdout",
     "output_type": "stream",
     "text": [
      "\u001b[1m\u001b[32m\n",
      "--CH--\n",
      "\u001b[0m\n",
      "{\n",
      "  \"Jura suisse\": \"CH\",\n",
      "  \"La Rochette\": \"FR\"\n",
      "}\n",
      "\u001b[1m\u001b[32m\n",
      "--unknown--\n",
      "\u001b[0m\n",
      "{}\n"
     ]
    },
    {
     "name": "stderr",
     "output_type": "stream",
     "text": [
      " 46%|████▌     | 615/1332 [1:11:50<1:36:44,  8.10s/it]"
     ]
    },
    {
     "name": "stdout",
     "output_type": "stream",
     "text": [
      "\u001b[1m\u001b[32m\n",
      "--unknown--\n",
      "\u001b[0m\n",
      "{}\n",
      "\u001b[1m\u001b[32m\n",
      "--unknown--\n",
      "\u001b[0m\n",
      "{}\n"
     ]
    }
   ],
   "source": [
    "RefineLanguage3()"
   ]
  },
  {
   "cell_type": "code",
   "execution_count": 1,
   "id": "ea039f04",
   "metadata": {},
   "outputs": [
    {
     "name": "stdout",
     "output_type": "stream",
     "text": [
      "Nombre d'entrées avec un pays défini : 307\n",
      "Répartition par pays : {'FR': 209, 'CA': 16, 'BJ': 3, 'PT': 3, 'GB': 6, 'IR': 1, 'BE': 15, 'IT': 10, 'US': 14, 'GR': 1, 'CI': 6, 'ET': 1, 'BF': 5, 'MA': 1, 'CN': 2, 'AR': 3, 'SN': 1, 'CM': 1, 'IN': 1, 'AT': 1, 'TD': 1, 'TN': 1, 'CH': 1, 'MX': 1, 'HT': 1, 'AU': 1, 'PL': 1}\n"
     ]
    }
   ],
   "source": [
    "import json\n",
    "from collections import Counter\n",
    "\n",
    "# Exemple de données\n",
    "with open(\"../jsons/videosfrR3.json\", \"r\", encoding=\"utf-8\") as file:\n",
    "    data = json.load(file)\n",
    "\n",
    "# Filtrer les entrées avec une valeur de 'country' définie et différente de \"unknown\"\n",
    "valid_countries = [entry['country'] for entry in data if entry.get('country') and entry['country'] != \"unknown\"]\n",
    "\n",
    "# Compter combien par pays\n",
    "country_counts = Counter(valid_countries)\n",
    "\n",
    "# Afficher les résultats\n",
    "print(\"Nombre d'entrées avec un pays défini :\", len(valid_countries))\n",
    "print(\"Répartition par pays :\", dict(country_counts))\n"
   ]
  },
  {
   "cell_type": "code",
   "execution_count": null,
   "id": "444ec9a1",
   "metadata": {},
   "outputs": [],
   "source": [
    "from dotenv import load_dotenv\n",
    "import os\n",
    "from huggingface_hub import login\n",
    "\n",
    "load_dotenv()\n",
    "login(os.getenv(\"HUGG_TOKEN\"))\n"
   ]
  },
  {
   "cell_type": "code",
   "execution_count": null,
   "id": "35e814e2",
   "metadata": {},
   "outputs": [],
   "source": [
    "from tqdm import tqdm\n",
    "from flair.models import SequenceTagger\n",
    "from flair.data import Sentence\n",
    "\n",
    "# Enable tqdm progress bar explicitly\n",
    "tagger = SequenceTagger.load(\"flair/ner-french\")\n"
   ]
  },
  {
   "cell_type": "code",
   "execution_count": null,
   "id": "5aabb25e",
   "metadata": {},
   "outputs": [],
   "source": [
    "text = \"\"\"\n",
    "Le bio de la chaine : \\n \\n        \\n###############\\n        \\nDescription : Hello ! Aujourd’hui Bruno nous invite à questionner l'usage que faisons de notre habitat et nous propose de réduire nos surfaces de vie tout en gardant notre confort, de construire notre maison sans faire de prêt bancaire sur 20 ans. Et si on voyait dans le fait de construire notre maison plus qu'un défi, un cheminement, une expérience humaine, un accomplissement ?\\nDécouvrez la construction d’un habitat autonome avec une structure bois, isolation paille, enduit terre de 24m2 avec cuisine, séjour, chambre et salle de bain pour 5000€ ! \\nPrenez bien soin de vous.  \\nJe vous embrasse, \\n\\nA bientôt 🌸 \\n\\nSarah \\n\\n\\n\\nLe site internet d’Alter’éco 30 : https://bit.ly/37pw1uj \\n\\n#OurInnerTravels #Autonomie #Habitat #Maison #HabitatAutonome #Ecologie \\n\\n\\nRetrouve moi aussi sur : \\n🎙PODCAST : https://anchor.fm/our-inner-travels\\n\\n📸 I N S T A G R A M : https://instagram.com/ourinnertravels \\n✍️ B L O G : https://ourinnertravels.com \\n📸 FACEBOOK : https://www.facebook.com/OurInnerTravels \\n💕 Abonne-toi à la chaine : https://bit.ly/2PUxikr \\n💌 Me Contacter 💌: contact@ourinnertravels.com\\n        \\n        \\n###############\\n        \\nDescription : Hello, Aujourd’hui je vous retrouve dans la première partie d’une série de 5 entretiens avec Bruno sur le thème : L’écologie et l’alternativité comme invitation à trouver un sens à la vie.\\nPartie 1 : Echovert, la construction d’un lieu alternatif, autonome et écologique\\nPartie 2 : Vivre de façon alternative, les joies\\nPartie 3 : Vivre de façon alternative, les défis \\nPartie 4 : L’écologie, une invitation à trouver un sens à la vie\\nPartie 5 : Les 3 kiffs de Bruno\\n\\nVous préférez écouter la vidéo sous format podcast ? C'est ici : https://bit.ly/3gmy5ZF\\n\\nEn octobre, de retour de voyage la réadaptation à la vie parisienne est difficile, est-ce peut-être car je n’ai pas envie de me réadapter, que je n’y vois plus de sens ? Je pars donc en Camargue, à une demi-heure de Nîmes et passe un mois dans un éco-lieu à la recherche de sens, de rencontres, de personnes qui partagent mes idées et mes aspirations. Bruno et Anne ont créé ce lieu de vie alternatif où naissent inventions respectueuses de l’environnement et expérimentations d’outils pour l’autonomie alimentaire et énergétique. Avec Bruno, on a commencé par parler de ce lieu de vie alternatif et de ce qu’implique le fait de vivre en communauté. On s’est aussi demander comment se reconnecter à soi et aux autres dans un monde qui semble parfois déconnecté du réel. Au fil de nos paroles, on en est finalement venu à se questionner sur le sens de la vie, et en quoi le fait de cultiver son écologie intérieure est peut-être la première forme d’engagement écologique à avoir. Aujourd’hui je vous propose de partir en voyage intérieur grâce à Bruno. L’écologie et l’alternativité comme invitation à trouver un sens à la vie.\\n\\nA bientôt 🌸 \\n\\nSarah \\n\\nLe site internet d’Alter’éco 30 : https://bit.ly/37pw1uj \\n\\nRetrouve moi aussi sur : \\n🎙PODCAST : https://anchor.fm/our-inner-travels\\n📸 I N S T A G R A M : https://instagram.com/ourinnertravels \\n✍️ B L O G : https://ourinnertravels.com \\n📸 FACEBOOK : https://www.facebook.com/OurInnerTravels \\n💕 Abonne-toi à la chaine : https://bit.ly/2PUxikr \\n💌 Me Contacter 💌: contact@ourinnertravels.com\\n        \\n        \\n###############\\n\\n        titre : Habitat autonome et autoconstruction\\n        \\n        \\n###############\\n\\n        titre : PARLONS #2 - 1 : Echovert, la construction d’un lieu alternatif, autonome et écologique - Bruno\\n       \n",
    "\"\"\"\n",
    "sentence = Sentence(text)\n",
    "tagger.predict(sentence)\n",
    "\n",
    "for entity in sentence.get_spans('ner'):\n",
    "    label = entity.get_label(\"ner\")\n",
    "    if label.value == \"LOC\" and label.score >= 0.7:\n",
    "        entity_text = entity.text\n",
    "        entity_label = label.value\n",
    "        entity_score = label.score\n",
    "        print(\"Text:\", entity_text)\n",
    "        print(\"Label:\", entity_label)\n",
    "        print(\"Score:\", entity_score)"
   ]
  },
  {
   "cell_type": "code",
   "execution_count": null,
   "metadata": {},
   "outputs": [],
   "source": [
    "from geopy.geocoders import Nominatim\n",
    "\n",
    "geolocator = Nominatim(user_agent=\"geoapi\")\n",
    "location = geolocator.geocode(\"FAcebook\", language='fr', addressdetails=True, timeout=10)\n",
    "location"
   ]
  },
  {
   "cell_type": "markdown",
   "id": "b2a38097",
   "metadata": {},
   "source": [
    "## Filtering 1"
   ]
  },
  {
   "cell_type": "markdown",
   "id": "88ae9f21",
   "metadata": {},
   "source": [
    "- Remove fr-autre,autre\n",
    "- keep only fr and fr-FR , a big amount of fr are for france.\n",
    "- obtain the localisation of a channel if it's not providled by youtube api can be complexe because you can't find it anywhere."
   ]
  },
  {
   "cell_type": "code",
   "execution_count": null,
   "metadata": {},
   "outputs": [],
   "source": []
  },
  {
   "cell_type": "code",
   "execution_count": null,
   "metadata": {},
   "outputs": [],
   "source": []
  },
  {
   "cell_type": "code",
   "execution_count": null,
   "metadata": {},
   "outputs": [],
   "source": []
  },
  {
   "cell_type": "code",
   "execution_count": null,
   "metadata": {},
   "outputs": [],
   "source": []
  },
  {
   "cell_type": "code",
   "execution_count": null,
   "id": "16256aec",
   "metadata": {},
   "outputs": [],
   "source": []
  },
  {
   "cell_type": "code",
   "execution_count": null,
   "id": "e5189d28",
   "metadata": {},
   "outputs": [],
   "source": []
  },
  {
   "cell_type": "code",
   "execution_count": null,
   "id": "8d430df4",
   "metadata": {},
   "outputs": [],
   "source": []
  },
  {
   "cell_type": "code",
   "execution_count": null,
   "metadata": {},
   "outputs": [],
   "source": []
  },
  {
   "cell_type": "code",
   "execution_count": null,
   "id": "b27df94d",
   "metadata": {},
   "outputs": [],
   "source": []
  },
  {
   "cell_type": "code",
   "execution_count": null,
   "metadata": {},
   "outputs": [],
   "source": []
  },
  {
   "cell_type": "code",
   "execution_count": null,
   "id": "66616ae9",
   "metadata": {},
   "outputs": [],
   "source": []
  }
 ],
 "metadata": {
  "kernelspec": {
   "display_name": ".venv",
   "language": "python",
   "name": "python3"
  },
  "language_info": {
   "codemirror_mode": {
    "name": "ipython",
    "version": 3
   },
   "file_extension": ".py",
   "mimetype": "text/x-python",
   "name": "python",
   "nbconvert_exporter": "python",
   "pygments_lexer": "ipython3",
   "version": "3.10.16"
  }
 },
 "nbformat": 4,
 "nbformat_minor": 5
}
