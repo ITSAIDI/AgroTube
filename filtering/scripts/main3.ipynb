{
 "cells": [
  {
   "cell_type": "code",
   "execution_count": null,
   "metadata": {},
   "outputs": [
    {
     "data": {
      "text/plain": [
       "True"
      ]
     },
     "execution_count": 1,
     "metadata": {},
     "output_type": "execute_result"
    }
   ],
   "source": [
    "from collections import Counter\n",
    "from tqdm import tqdm \n",
    "from colorama import Style,Fore\n",
    "import os\n",
    "from dotenv import load_dotenv\n",
    "import time\n",
    "load_dotenv()"
   ]
  },
  {
   "cell_type": "code",
   "execution_count": null,
   "metadata": {},
   "outputs": [],
   "source": [
    "from utils1 import openJson,saveJson"
   ]
  },
  {
   "cell_type": "markdown",
   "metadata": {},
   "source": [
    "Filtrage des chaines"
   ]
  },
  {
   "cell_type": "markdown",
   "metadata": {},
   "source": [
    "## Filtrage 1"
   ]
  },
  {
   "cell_type": "markdown",
   "metadata": {},
   "source": [
    "- Filtrage par localisation géographique"
   ]
  },
  {
   "cell_type": "code",
   "execution_count": 5,
   "metadata": {},
   "outputs": [
    {
     "data": {
      "text/plain": [
       "3309"
      ]
     },
     "execution_count": 5,
     "metadata": {},
     "output_type": "execute_result"
    }
   ],
   "source": [
    "channelsR1 = openJson(\"../jsons/channelsR1.json\")\n",
    "len(channelsR1)"
   ]
  },
  {
   "cell_type": "markdown",
   "metadata": {},
   "source": [
    "- Keep only FR "
   ]
  },
  {
   "cell_type": "code",
   "execution_count": 8,
   "metadata": {},
   "outputs": [
    {
     "name": "stdout",
     "output_type": "stream",
     "text": [
      "\u001b[1m\u001b[32m\n",
      " json saved\u001b[0m\n"
     ]
    }
   ],
   "source": [
    "channelsF1 = []\n",
    "for channel in channelsR1:\n",
    "    if channel['localisation']==\"FR\":\n",
    "        channelsF1.append(channel)\n",
    "len(channelsF1)\n",
    "saveJson(\"../jsons/channelsF1.json\",channelsF1)"
   ]
  },
  {
   "cell_type": "markdown",
   "metadata": {},
   "source": [
    "## Filtrage 2:"
   ]
  },
  {
   "cell_type": "code",
   "execution_count": 10,
   "metadata": {},
   "outputs": [],
   "source": [
    "from langchain_google_genai import GoogleGenerativeAI\n",
    "from langchain_core.prompts import ChatPromptTemplate"
   ]
  },
  {
   "cell_type": "code",
   "execution_count": 11,
   "metadata": {},
   "outputs": [],
   "source": [
    "gemini_flash_1 = GoogleGenerativeAI(model=\"gemini-2.0-flash\", google_api_key=os.getenv(\"GOOGLE_API_KEY_1\"))"
   ]
  },
  {
   "cell_type": "code",
   "execution_count": 12,
   "metadata": {},
   "outputs": [],
   "source": [
    "sysprompt = \"\"\"\n",
    "# La definition d'autossuffinnce\n",
    "\n",
    "L'autosuffisance est la démarche visant à acquérir la capacité de subvenir par soi-même à ses besoins fondamentaux, \n",
    "en premier lieu alimentaires par l'autoconsommation – c'est-à-dire produire, récolter et conserver un maximum de sa propre nourriture, \n",
    "souvent en privilégiant le bio, le local et le saisonnier. \n",
    "\n",
    "L'autosuffisance Plus qu'une simple recherche d'autonomie matérielle, elle représente un engagement pour être moins dépendant du système économique et social extérieur, impliquant des choix concrets comme trouver un lieu propice et le concevoir judicieusement (par exemple en permaculture), \n",
    "ainsi qu'un changement dans la manière de valoriser son temps et de consommer, formant ainsi le fondement d'une vie plus autonome.\n",
    "\n",
    "---\n",
    "\n",
    "# Votre mission\n",
    "\n",
    "- Décider si une chaine youtube concerne la thématique de l'autosuffisance en se basant sur ses métadonnées (Nom de la chaine, Bio).  \n",
    "- Attribuer un score entier de 1 à 10 pour évaluer la pertinence de la chaine par rapport à la thématique de l'autosuffisance.\n",
    "\n",
    "---\n",
    "\n",
    "# Votre réponse  \n",
    "\n",
    "- La réponse doit être au format JSON :  \n",
    "  \n",
    "    \"decision\": \"oui ou non\",\n",
    "    \"justification\": \"Justifiez votre décision avec des arguments\"\n",
    "    \"score\": votre èvaluation\n",
    " \n",
    "\"\"\"\n",
    "\n",
    "userprompt = \"\"\"\n",
    "Nom de la chaine\n",
    "---\n",
    "{nom_chaine}\n",
    "\n",
    "son Bio\n",
    "---\n",
    "{bio}\n",
    "\"\"\"\n",
    "\n",
    "prompt = ChatPromptTemplate([\n",
    "    (\"system\", sysprompt),\n",
    "    (\"user\", userprompt)\n",
    "])\n",
    "\n",
    "chain_1 = prompt | gemini_flash_1\n",
    "#chain_2 = prompt | gemini_flash_2\n"
   ]
  },
  {
   "cell_type": "markdown",
   "metadata": {},
   "source": [
    "- Test "
   ]
  },
  {
   "cell_type": "code",
   "execution_count": 14,
   "metadata": {},
   "outputs": [
    {
     "name": "stdout",
     "output_type": "stream",
     "text": [
      "{'nom_chaine': \"L'ArchiPelle\", 'bio': \"L'ArchiPelle : Le media de l'autonomie, de la permaculture et de la construction écologique.\\nDepuis 7 ans, nous sillonnons à deux la France pour vous faire rencontrer des humains passionnés et experts qui façonnent un avenir plus durable afin de permettre de vous émanciper.\\nNos thèmes principaux :\\n - L'autonomie : Produire son énergie, cultiver sa nourriture, comprendre son environnement naturel.\\n - La permaculture et les forêts comestibles : Découvrez, des philosophies de vie respectueuses du vivant dans tout son ensemble.\\n - La construction écologique : Explorez les alternatives à la construction industrielle.\\nPourquoi nous suivre ?\\n - Des reportages uniques : Des rencontres inspirantes, des projets innovants, des conseils pratiques, l'humain n'est pas mis de côté.\\n - Un format libre et des reportages sans limite de temps.\\n - Une communauté engagée : Rejoignez-nous pour échanger et partager vos expériences.\\nAbonnez-vous !\\n#autonomie #permaculture\"}\n",
      "```json\n",
      "{\n",
      "  \"decision\": \"oui\",\n",
      "  \"justification\": \"La chaîne s'appelle \\\"L'ArchiPelle\\\" et sa bio indique clairement qu'elle traite de l'autonomie, de la permaculture et de la construction écologique. Elle met en avant la production de nourriture, l'énergie, la compréhension de l'environnement, tous des éléments clés de l'autosuffisance.\",\n",
      "  \"score\": 9\n",
      "}\n",
      "```\n"
     ]
    }
   ],
   "source": [
    "input = {\n",
    "  \"nom_chaine\":\"L'ArchiPelle\",\n",
    "  \"bio\":\"L'ArchiPelle : Le media de l'autonomie, de la permaculture et de la construction écologique.\\nDepuis 7 ans, nous sillonnons à deux la France pour vous faire rencontrer des humains passionnés et experts qui façonnent un avenir plus durable afin de permettre de vous émanciper.\\nNos thèmes principaux :\\n - L'autonomie : Produire son énergie, cultiver sa nourriture, comprendre son environnement naturel.\\n - La permaculture et les forêts comestibles : Découvrez, des philosophies de vie respectueuses du vivant dans tout son ensemble.\\n - La construction écologique : Explorez les alternatives à la construction industrielle.\\nPourquoi nous suivre ?\\n - Des reportages uniques : Des rencontres inspirantes, des projets innovants, des conseils pratiques, l'humain n'est pas mis de côté.\\n - Un format libre et des reportages sans limite de temps.\\n - Une communauté engagée : Rejoignez-nous pour échanger et partager vos expériences.\\nAbonnez-vous !\\n#autonomie #permaculture\"\n",
    "      }\n",
    "print(input)\n",
    "print(chain_1.invoke(input))"
   ]
  },
  {
   "cell_type": "code",
   "execution_count": null,
   "metadata": {},
   "outputs": [],
   "source": []
  },
  {
   "cell_type": "code",
   "execution_count": null,
   "metadata": {},
   "outputs": [],
   "source": []
  }
 ],
 "metadata": {
  "language_info": {
   "name": "python"
  }
 },
 "nbformat": 4,
 "nbformat_minor": 2
}
