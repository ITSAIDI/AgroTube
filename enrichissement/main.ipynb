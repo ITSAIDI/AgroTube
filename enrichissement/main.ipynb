{
 "cells": [
  {
   "cell_type": "code",
   "execution_count": null,
   "id": "5da13fd1",
   "metadata": {},
   "outputs": [],
   "source": [
    "import os\n",
    "import psycopg\n",
    "from datetime import date\n",
    "from googleapiclient.discovery import build\n",
    "from dotenv import load_dotenv\n",
    "from tqdm import tqdm\n",
    "\n",
    "load_dotenv()"
   ]
  },
  {
   "cell_type": "markdown",
   "id": "2d7a16e7",
   "metadata": {},
   "source": [
    "# Collecter et enregistrer les métriques des chaînes\n",
    "\n",
    "- On va collecter et enregistrer en même temps les métriques de chaque chaîne pertinente (en évitant de passer par un JSON).\n"
   ]
  },
  {
   "cell_type": "code",
   "execution_count": null,
   "id": "2bbaad0a",
   "metadata": {},
   "outputs": [],
   "source": [
    "youtube = build('youtube', 'v3', developerKey=os.getenv(\"YOUTUBE_API_KEY1\"))"
   ]
  },
  {
   "cell_type": "code",
   "execution_count": null,
   "id": "ea5712c0",
   "metadata": {},
   "outputs": [],
   "source": [
    "def getMetrics(id_chaine):\n",
    "    request = youtube.channels().list(\n",
    "        part='statistics',\n",
    "        id=id_chaine\n",
    "    )\n",
    "    response = request.execute()\n",
    "    \n",
    "    if not response['items']:\n",
    "        return None\n",
    "    \n",
    "    stats = response['items'][0]['statistics']\n",
    "    date_releve_chaine = date.today().isoformat()\n",
    "    nombre_vues_total = int(stats.get('viewCount', 0))\n",
    "    nombre_abonnes_total = int(stats.get('subscriberCount', 0))\n",
    "    nombre_videos_total = int(stats.get('videoCount', 0))\n",
    "    \n",
    "    return {\n",
    "        'date_releve_chaine': date_releve_chaine,\n",
    "        'nombre_vues_total': nombre_vues_total,\n",
    "        'nombre_abonnes_total': nombre_abonnes_total,\n",
    "        'nombre_videos_total': nombre_videos_total\n",
    "    }"
   ]
  },
  {
   "cell_type": "code",
   "execution_count": null,
   "id": "d0c0200d",
   "metadata": {},
   "outputs": [],
   "source": [
    "getMetrics(\"UCVQeGg4Fdrrr8vDXa7yjOYg\")"
   ]
  },
  {
   "cell_type": "code",
   "execution_count": null,
   "id": "48ff4934",
   "metadata": {},
   "outputs": [],
   "source": [
    "conn = psycopg.connect(\n",
    "    dbname=\"youtubestay\",\n",
    "    user=\"postgres\",\n",
    "    password=os.getenv(\"POSTGRE_PASSWORD\"),\n",
    "    host=\"localhost\",\n",
    "    port=\"5432\"\n",
    ")\n",
    "cur = conn.cursor()\n",
    "\n",
    "# Récupérer les chaînes pertinentes\n",
    "cur.execute(\"SELECT id_chaine FROM chaines WHERE pertinente = TRUE\")\n",
    "chaines = cur.fetchall()\n",
    "\n",
    "\n",
    "print(chaines)\n",
    "print(len(chaines))"
   ]
  },
  {
   "cell_type": "code",
   "execution_count": null,
   "id": "a2d2f0f1",
   "metadata": {},
   "outputs": [],
   "source": [
    "# Pour chaque chaîne, récupérer et insérer les métriques\n",
    "for (id_chaine,) in chaines:\n",
    "    metriques = getMetrics(id_chaine)\n",
    "    if metriques:\n",
    "        cur.execute(\"\"\"\n",
    "            INSERT INTO chaines_metriques (\n",
    "                id_chaine, date_releve_chaine,\n",
    "                nombre_vues_total, nombre_abonnes_total, nombre_videos_total\n",
    "            )\n",
    "            VALUES (%s, %s, %s, %s, %s)\n",
    "            ON CONFLICT (id_chaine, date_releve_chaine) DO NOTHING\n",
    "        \"\"\", (\n",
    "            id_chaine,\n",
    "            metriques['date_releve_chaine'],\n",
    "            metriques['nombre_vues_total'],\n",
    "            metriques['nombre_abonnes_total'],\n",
    "            metriques['nombre_videos_total']\n",
    "        ))\n",
    "\n",
    "conn.commit()\n",
    "cur.close()\n",
    "conn.close()"
   ]
  },
  {
   "cell_type": "markdown",
   "id": "26240104",
   "metadata": {},
   "source": [
    "# Calcul de la couverture"
   ]
  },
  {
   "cell_type": "markdown",
   "id": "e066aca7",
   "metadata": {},
   "source": [
    "$$\n",
    "\\text{Couverture} = \\frac{\\text{Nombre de vidéos pertinentes collectées}}{\\text{Nombre total de vidéos (le plus récent) de la chaîne pertinente}}\n",
    "$$\n"
   ]
  },
  {
   "cell_type": "code",
   "execution_count": null,
   "id": "71e87b86",
   "metadata": {},
   "outputs": [],
   "source": [
    "def get_couverture(id_chaine,conn):\n",
    "    \n",
    "    cur = conn.cursor()\n",
    "\n",
    "    # Récupérer le nombre de vidéos collectées\n",
    "    cur.execute(\"\"\"\n",
    "        SELECT COUNT(*) FROM videos\n",
    "        WHERE id_chaine = %s\n",
    "    \"\"\", (id_chaine,))\n",
    "    nb_collectees = cur.fetchone()[0]\n",
    "\n",
    "    # Récupérer le nombre total de vidéos le plus récent\n",
    "    cur.execute(\"\"\"\n",
    "        SELECT nombre_videos_total\n",
    "        FROM chaines_metriques\n",
    "        WHERE id_chaine = %s\n",
    "        ORDER BY date_releve_chaine DESC\n",
    "        LIMIT 1\n",
    "    \"\"\", (id_chaine,))\n",
    "    row = cur.fetchone()\n",
    "\n",
    "\n",
    "    if not row:\n",
    "        return None  # Pas de métrique pour cette chaîne\n",
    "\n",
    "    nb_total = row[0]\n",
    "\n",
    "    if nb_total == 0:\n",
    "        return 0.0  # Évite division par zéro\n",
    "\n",
    "    couverture = nb_collectees / nb_total\n",
    "    return round(couverture, 3)\n"
   ]
  },
  {
   "cell_type": "code",
   "execution_count": null,
   "id": "8fdcf1b7",
   "metadata": {},
   "outputs": [],
   "source": [
    "conn = psycopg.connect(\n",
    "        dbname=\"youtubestay\",\n",
    "        user=\"postgres\",\n",
    "        password=os.getenv(\"POSTGRE_PASSWORD\"),\n",
    "        host=\"localhost\",\n",
    "        port=\"5432\"\n",
    "    )\n",
    "\n",
    "couverture = get_couverture(\"UCxBJustR1tuXVy7tLivER2g\",conn)\n",
    "print(\"Couverture :\", couverture)\n",
    "\n",
    "conn.close()\n"
   ]
  },
  {
   "cell_type": "code",
   "execution_count": null,
   "id": "fbdb7264",
   "metadata": {},
   "outputs": [],
   "source": [
    "def get_couverture_moyenne():\n",
    "    conn = psycopg.connect(\n",
    "        dbname=\"youtubestay\",\n",
    "        user=\"postgres\",\n",
    "        password=os.getenv(\"POSTGRE_PASSWORD\"),\n",
    "        host=\"localhost\",\n",
    "        port=\"5432\"\n",
    "    )\n",
    "    cur = conn.cursor()\n",
    "\n",
    "    cur.execute(\"\"\"\n",
    "        SELECT id_chaine FROM chaines WHERE pertinente = TRUE\n",
    "    \"\"\")\n",
    "    chaines = cur.fetchall()\n",
    "\n",
    "    total = 0.0\n",
    "    count = 0\n",
    "\n",
    "    for (id_chaine,) in tqdm(chaines):\n",
    "        couverture = get_couverture(id_chaine,conn)\n",
    "        if couverture is not None:\n",
    "            total += couverture\n",
    "            count += 1\n",
    "\n",
    "    conn.close()\n",
    "\n",
    "    if count == 0:\n",
    "        return 0.0\n",
    "    return round(total / count, 3)\n"
   ]
  },
  {
   "cell_type": "code",
   "execution_count": null,
   "id": "2075d19b",
   "metadata": {},
   "outputs": [],
   "source": [
    "get_couverture_moyenne()"
   ]
  },
  {
   "cell_type": "markdown",
   "id": "6d816410",
   "metadata": {},
   "source": [
    "# Enrichissement des vidéos"
   ]
  },
  {
   "cell_type": "code",
   "execution_count": null,
   "id": "bca0b4db",
   "metadata": {},
   "outputs": [],
   "source": [
    "from googleapiclient.discovery import build\n",
    "import re\n",
    "import scrapetube\n",
    "\n",
    "youtube = build(\"youtube\", \"v3\", developerKey=os.getenv(\"YOUTUBE_API_Nou2008\"))"
   ]
  },
  {
   "cell_type": "code",
   "execution_count": null,
   "id": "e560d594",
   "metadata": {},
   "outputs": [],
   "source": [
    "\n",
    "def getVideosIdsYoutubeAPI(channel_id):\n",
    "\n",
    "    channel_response = youtube.channels().list(\n",
    "        part='contentDetails',\n",
    "        id=channel_id\n",
    "    ).execute()\n",
    "\n",
    "    uploads_playlist_id = channel_response['items'][0]['contentDetails']['relatedPlaylists']['uploads']\n",
    "\n",
    "    video_ids = []\n",
    "    next_page_token = None\n",
    "\n",
    "    while True:\n",
    "        playlist_response = youtube.playlistItems().list(\n",
    "            part='snippet',\n",
    "            playlistId=uploads_playlist_id,\n",
    "            maxResults=50,\n",
    "            pageToken=next_page_token\n",
    "        ).execute()\n",
    "\n",
    "        for item in playlist_response['items']:\n",
    "            video_id = item['snippet']['resourceId']['videoId']\n",
    "            video_ids.append(video_id)\n",
    "\n",
    "        next_page_token = playlist_response.get('nextPageToken')\n",
    "        if not next_page_token:\n",
    "            break\n",
    "\n",
    "    return video_ids\n",
    "\n",
    "def toSeconds(iso_duration):\n",
    "    # Exemple : \"PT50M11S\" → 3011 secondes\n",
    "    match = re.match(r'PT(?:(\\d+)H)?(?:(\\d+)M)?(?:(\\d+)S)?', iso_duration)\n",
    "    if not match:\n",
    "        return None\n",
    "    hours = int(match.group(1)) if match.group(1) else 0\n",
    "    minutes = int(match.group(2)) if match.group(2) else 0\n",
    "    seconds = int(match.group(3)) if match.group(3) else 0\n",
    "    return hours * 3600 + minutes * 60 + seconds\n",
    "\n",
    "def getvideos_details_bunch(video_ids):\n",
    "    try:\n",
    "        \n",
    "        request = youtube.videos().list(\n",
    "            part='snippet,contentDetails',\n",
    "            id=','.join(video_ids[:50])  # Max 50 IDs per request\n",
    "        )\n",
    "        response = request.execute()\n",
    "    except Exception as e:\n",
    "        print(f\"probleme with request  {e}\")\n",
    "\n",
    "    videos_metadata = []\n",
    "\n",
    "    for item in response.get('items', []):\n",
    "        video_metadata = {\n",
    "            'id_video': item['id'],\n",
    "            'id_chaine': item['snippet']['channelId'],\n",
    "            'titre_video': item['snippet']['title'],\n",
    "            'description': item['snippet'].get('description', ''),\n",
    "            'date_publication': item['snippet']['publishedAt'],\n",
    "            'duree': item['contentDetails']['duration'],\n",
    "            'miniature': '',\n",
    "            'tags': '',\n",
    "            'langue': 'fr'\n",
    "        }\n",
    "\n",
    "        resolution_order = [\"maxres\", \"standard\", \"high\", \"medium\", \"default\"]\n",
    "        for res in resolution_order:\n",
    "            if res in item['snippet'].get('thumbnails', {}):\n",
    "                video_metadata['miniature'] = item['snippet']['thumbnails'][res]['url']\n",
    "                break\n",
    "\n",
    "        if 'tags' in item['snippet']:\n",
    "            video_metadata['tags'] = item['snippet']['tags']\n",
    "\n",
    "        videos_metadata.append(video_metadata)\n",
    "\n",
    "    return videos_metadata\n"
   ]
  },
  {
   "cell_type": "code",
   "execution_count": null,
   "id": "ed8409ac",
   "metadata": {},
   "outputs": [],
   "source": [
    "ids = getVideosIdsYoutubeAPI(\"UCbXqpYCVTjdz2dx1nRx6W_A\")\n",
    "len(ids)"
   ]
  },
  {
   "cell_type": "code",
   "execution_count": 8,
   "id": "30457a3b",
   "metadata": {},
   "outputs": [],
   "source": [
    "conn = psycopg.connect(\n",
    "    dbname=\"youtubestay\",\n",
    "    user=\"postgres\",\n",
    "    password=os.getenv(\"POSTGRE_PASSWORD\"),\n",
    "    host=\"localhost\",\n",
    "    port=\"5432\"\n",
    ")\n",
    "\n",
    "cur = conn.cursor()"
   ]
  },
  {
   "cell_type": "code",
   "execution_count": null,
   "id": "86968367",
   "metadata": {},
   "outputs": [],
   "source": [
    "getvideos_details_bunch(ids)"
   ]
  },
  {
   "cell_type": "code",
   "execution_count": null,
   "id": "10819098",
   "metadata": {},
   "outputs": [
    {
     "name": "stderr",
     "output_type": "stream",
     "text": [
      "100%|██████████| 280/280 [08:05<00:00,  1.73s/it]\n"
     ]
    }
   ],
   "source": [
    "cur.execute(\"\"\"\n",
    "    SELECT id_chaine FROM chaines WHERE pertinente = TRUE\n",
    "\"\"\")\n",
    "\n",
    "chaines_pertinentes = cur.fetchall()\n",
    "\n",
    "for (id_chaine,) in tqdm(chaines_pertinentes): \n",
    "    videos_ids = getVideosIdsYoutubeAPI(id_chaine)\n",
    "    \n",
    "    for i in range(0, len(videos_ids), 50):\n",
    "        batch_ids = videos_ids[i:i+50]  # Paquet de 50 IDs max\n",
    "        videos = getvideos_details_bunch(batch_ids)\n",
    "      \n",
    "        data_to_insert = []\n",
    "\n",
    "        for video in videos:\n",
    "            id_video = video[\"id_video\"]\n",
    "            id_chaine = video[\"id_chaine\"]\n",
    "            titre = video[\"titre_video\"]\n",
    "            description = video[\"description\"]\n",
    "            date_publication = video[\"date_publication\"][:10]  # 'YYYY-MM-DD'\n",
    "            duree = toSeconds(video[\"duree\"])\n",
    "            miniature = video[\"miniature\"]\n",
    "            langue = video[\"langue\"]\n",
    "            transcription = None\n",
    "            tags = video[\"tags\"] if isinstance(video[\"tags\"], list) else None\n",
    "            requetes = None\n",
    "            categorie_video = None\n",
    "\n",
    "            data_to_insert.append((\n",
    "                id_video, titre, description, date_publication, categorie_video,\n",
    "                duree, miniature, langue, transcription, tags, requetes, id_chaine\n",
    "            ))\n",
    "\n",
    "        if data_to_insert:\n",
    "            cur.executemany(\"\"\"\n",
    "                INSERT INTO videos (\n",
    "                    id_video, titre, description, date_publication, categorie_video,\n",
    "                    duree, miniature, langue, transcription, tags, requetes, id_chaine\n",
    "                ) VALUES (%s, %s, %s, %s, %s, %s, %s, %s, %s, %s, %s, %s)\n",
    "                ON CONFLICT (id_video) DO NOTHING\n",
    "            \"\"\", data_to_insert)\n"
   ]
  },
  {
   "cell_type": "code",
   "execution_count": 10,
   "id": "1ce83604",
   "metadata": {},
   "outputs": [],
   "source": [
    "conn.commit()\n",
    "cur.close()\n",
    "conn.close()"
   ]
  },
  {
   "cell_type": "markdown",
   "id": "9e1128ae",
   "metadata": {},
   "source": [
    "# Collecter et enregistrer les métriques des vidéos"
   ]
  },
  {
   "cell_type": "code",
   "execution_count": null,
   "id": "db67704b",
   "metadata": {},
   "outputs": [],
   "source": []
  },
  {
   "cell_type": "code",
   "execution_count": null,
   "id": "3ac3cab5",
   "metadata": {},
   "outputs": [],
   "source": []
  },
  {
   "cell_type": "code",
   "execution_count": null,
   "id": "edfba4c8",
   "metadata": {},
   "outputs": [],
   "source": []
  }
 ],
 "metadata": {
  "kernelspec": {
   "display_name": ".venv",
   "language": "python",
   "name": "python3"
  },
  "language_info": {
   "codemirror_mode": {
    "name": "ipython",
    "version": 3
   },
   "file_extension": ".py",
   "mimetype": "text/x-python",
   "name": "python",
   "nbconvert_exporter": "python",
   "pygments_lexer": "ipython3",
   "version": "3.10.16"
  }
 },
 "nbformat": 4,
 "nbformat_minor": 5
}
