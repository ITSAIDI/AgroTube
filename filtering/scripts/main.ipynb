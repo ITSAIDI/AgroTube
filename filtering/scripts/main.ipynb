{
 "cells": [
  {
   "cell_type": "markdown",
   "id": "2e4a2295",
   "metadata": {},
   "source": [
    "## Refining 1"
   ]
  },
  {
   "cell_type": "markdown",
   "id": "179c2de0",
   "metadata": {},
   "source": [
    "- Refine the language field of the videos"
   ]
  },
  {
   "cell_type": "code",
   "execution_count": 1,
   "id": "92baa6b4",
   "metadata": {},
   "outputs": [],
   "source": [
    "import json \n",
    "from collections import Counter\n",
    "from utils import RefineLanguage1\n"
   ]
  },
  {
   "cell_type": "code",
   "execution_count": 10,
   "id": "1f0d635c",
   "metadata": {},
   "outputs": [
    {
     "name": "stderr",
     "output_type": "stream",
     "text": [
      "refining the language...: 100%|██████████| 6859/6859 [01:53<00:00, 60.57it/s]\n"
     ]
    },
    {
     "name": "stdout",
     "output_type": "stream",
     "text": [
      "\u001b[1m\u001b[32m\n",
      " json saved\u001b[0m\n"
     ]
    }
   ],
   "source": [
    "RefineLanguage1()"
   ]
  },
  {
   "cell_type": "code",
   "execution_count": 11,
   "id": "b8f6b351",
   "metadata": {},
   "outputs": [
    {
     "data": {
      "text/plain": [
       "6859"
      ]
     },
     "execution_count": 11,
     "metadata": {},
     "output_type": "execute_result"
    }
   ],
   "source": [
    "with open(\"../jsons/videosR1.json\", \"r\", encoding=\"utf-8\") as file:\n",
    "    videosR1 = json.load(file)\n",
    "len(videosR1)"
   ]
  },
  {
   "cell_type": "code",
   "execution_count": 29,
   "id": "522d930f",
   "metadata": {},
   "outputs": [
    {
     "name": "stdout",
     "output_type": "stream",
     "text": [
      "Toutes les valeurs uniques de langue avec leur nombre d'occurrences :\n",
      "- fr : 6276\n",
      "- autre : 583\n"
     ]
    }
   ],
   "source": [
    "langue_counter = Counter(video['langue'] for video in videosR1)\n",
    "print(\"Toutes les valeurs uniques de langue avec leur nombre d'occurrences :\")\n",
    "for langue, count in langue_counter.items():\n",
    "    print(f\"- {langue} : {count}\")\n"
   ]
  },
  {
   "cell_type": "markdown",
   "id": "1352e2ab",
   "metadata": {},
   "source": [
    "## Refining 2"
   ]
  },
  {
   "cell_type": "markdown",
   "id": "6eae7e95",
   "metadata": {},
   "source": [
    "- Add the Localisation Information"
   ]
  },
  {
   "cell_type": "code",
   "execution_count": 18,
   "id": "0293aec3",
   "metadata": {},
   "outputs": [],
   "source": [
    "from utils import RefineLanguage2"
   ]
  },
  {
   "cell_type": "code",
   "execution_count": 19,
   "id": "10da376a",
   "metadata": {},
   "outputs": [
    {
     "name": "stderr",
     "output_type": "stream",
     "text": [
      "channels-countries...: 100%|██████████| 3309/3309 [00:00<?, ?it/s]\n",
      "Refining language...: 100%|██████████| 6859/6859 [00:00<00:00, 340575.24it/s]\n"
     ]
    },
    {
     "name": "stdout",
     "output_type": "stream",
     "text": [
      "\u001b[1m\u001b[32m\n",
      " json saved\u001b[0m\n"
     ]
    }
   ],
   "source": [
    "RefineLanguage2()"
   ]
  },
  {
   "cell_type": "code",
   "execution_count": 20,
   "id": "a570648d",
   "metadata": {},
   "outputs": [
    {
     "data": {
      "text/plain": [
       "6859"
      ]
     },
     "execution_count": 20,
     "metadata": {},
     "output_type": "execute_result"
    }
   ],
   "source": [
    "with open(\"../jsons/videosR2.json\", \"r\", encoding=\"utf-8\") as file:\n",
    "    videosR2 = json.load(file)\n",
    "len(videosR2)"
   ]
  },
  {
   "cell_type": "code",
   "execution_count": 25,
   "id": "602cb3e4",
   "metadata": {},
   "outputs": [
    {
     "name": "stdout",
     "output_type": "stream",
     "text": [
      "Toutes les valeurs uniques de langue avec leur nombre d'occurrences :\n",
      "- fr-FR : 4312\n",
      "- fr : 1332\n",
      "- autre : 583\n",
      "- fr-CA : 229\n",
      "- fr-BE : 112\n",
      "- fr-CH : 88\n",
      "- fr-US : 49\n",
      "- fr-MA : 35\n",
      "- fr-NC : 14\n",
      "- fr-PT : 14\n",
      "- fr-DE : 11\n",
      "- fr-IT : 10\n",
      "- fr-RE : 8\n",
      "- fr-ES : 7\n",
      "- fr-SN : 6\n",
      "- fr-MQ : 6\n",
      "- fr-DZ : 5\n",
      "- fr-CI : 4\n",
      "- fr-GB : 4\n",
      "- fr-AR : 2\n",
      "- fr-NL : 2\n",
      "- fr-CM : 2\n",
      "- fr-ZA : 2\n",
      "- fr-PF : 2\n",
      "- fr-TH : 2\n",
      "- fr-GP : 2\n",
      "- fr-AE : 2\n",
      "- fr-TR : 1\n",
      "- fr-TG : 1\n",
      "- fr-HK : 1\n",
      "- fr-MU : 1\n",
      "- fr-RU : 1\n",
      "- fr-IN : 1\n",
      "- fr-SA : 1\n",
      "- fr-KE : 1\n",
      "- fr-KR : 1\n",
      "- fr-LU : 1\n",
      "- fr-IE : 1\n",
      "- fr-LK : 1\n",
      "- fr-BJ : 1\n",
      "- fr-TN : 1\n"
     ]
    }
   ],
   "source": [
    "langue_counter = Counter(video['langue'] for video in videosR2)\n",
    "print(\"Toutes les valeurs uniques de langue avec leur nombre d'occurrences :\")\n",
    "for langue, count in sorted(langue_counter.items(), key=lambda x: x[1], reverse=True):\n",
    "    print(f\"- {langue} : {count}\")\n"
   ]
  },
  {
   "cell_type": "code",
   "execution_count": 26,
   "metadata": {},
   "outputs": [
    {
     "name": "stdout",
     "output_type": "stream",
     "text": [
      "Total de vidéos : 6859\n",
      "- fr       : 1332 (19.42%)\n",
      "- fr-FR    : 4312 (62.87%)\n",
      "- fr-autre : 632 (9.21%)\n",
      "- autre    : 583 (8.50%)\n"
     ]
    }
   ],
   "source": [
    "total = len(videosR2)\n",
    "\n",
    "count_fr = sum(1 for video in videosR2 if video['langue'] == 'fr')\n",
    "count_frFR = sum(1 for video in videosR2 if video['langue'] == 'fr-FR')\n",
    "count_fr_autre = sum(1 for video in videosR2 if video['langue'].startswith('fr') and video['langue'] not in ['fr', 'fr-FR'])\n",
    "count_autre = total - (count_fr + count_frFR + count_fr_autre)\n",
    "\n",
    "print(f\"Total de vidéos : {total}\")\n",
    "print(f\"- fr       : {count_fr} ({count_fr / total:.2%})\")\n",
    "print(f\"- fr-FR    : {count_frFR} ({count_frFR / total:.2%})\")\n",
    "print(f\"- fr-autre : {count_fr_autre} ({count_fr_autre / total:.2%})\")\n",
    "print(f\"- autre    : {count_autre} ({count_autre / total:.2%})\")"
   ]
  },
  {
   "cell_type": "code",
   "execution_count": 30,
   "metadata": {},
   "outputs": [
    {
     "data": {
      "text/plain": [
       "6276"
      ]
     },
     "execution_count": 30,
     "metadata": {},
     "output_type": "execute_result"
    }
   ],
   "source": [
    "1332+4312+632"
   ]
  },
  {
   "cell_type": "markdown",
   "id": "b2a38097",
   "metadata": {},
   "source": [
    "## Filtering 1"
   ]
  },
  {
   "cell_type": "markdown",
   "id": "88ae9f21",
   "metadata": {},
   "source": [
    "- Remove fr-autre,autre\n",
    "- keep only fr and fr-FR , a big amount of fr are for france.\n",
    "- obtain the localisation of a channel if it's not providled by youtube api can be complexe because you can't find it anywhere."
   ]
  },
  {
   "cell_type": "code",
   "execution_count": null,
   "metadata": {},
   "outputs": [],
   "source": []
  },
  {
   "cell_type": "code",
   "execution_count": null,
   "metadata": {},
   "outputs": [],
   "source": []
  },
  {
   "cell_type": "code",
   "execution_count": null,
   "metadata": {},
   "outputs": [],
   "source": []
  },
  {
   "cell_type": "code",
   "execution_count": null,
   "metadata": {},
   "outputs": [],
   "source": []
  },
  {
   "cell_type": "code",
   "execution_count": null,
   "metadata": {},
   "outputs": [],
   "source": []
  },
  {
   "cell_type": "code",
   "execution_count": null,
   "id": "16256aec",
   "metadata": {},
   "outputs": [],
   "source": []
  },
  {
   "cell_type": "code",
   "execution_count": null,
   "id": "e5189d28",
   "metadata": {},
   "outputs": [],
   "source": []
  },
  {
   "cell_type": "code",
   "execution_count": null,
   "id": "8d430df4",
   "metadata": {},
   "outputs": [],
   "source": []
  },
  {
   "cell_type": "code",
   "execution_count": null,
   "metadata": {},
   "outputs": [],
   "source": []
  },
  {
   "cell_type": "code",
   "execution_count": null,
   "id": "b27df94d",
   "metadata": {},
   "outputs": [],
   "source": []
  },
  {
   "cell_type": "code",
   "execution_count": null,
   "metadata": {},
   "outputs": [],
   "source": []
  },
  {
   "cell_type": "code",
   "execution_count": null,
   "id": "66616ae9",
   "metadata": {},
   "outputs": [],
   "source": []
  }
 ],
 "metadata": {
  "kernelspec": {
   "display_name": ".venv",
   "language": "python",
   "name": "python3"
  },
  "language_info": {
   "codemirror_mode": {
    "name": "ipython",
    "version": 3
   },
   "file_extension": ".py",
   "mimetype": "text/x-python",
   "name": "python",
   "nbconvert_exporter": "python",
   "pygments_lexer": "ipython3",
   "version": "3.10.16"
  }
 },
 "nbformat": 4,
 "nbformat_minor": 5
}
