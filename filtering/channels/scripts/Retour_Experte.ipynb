{
 "cells": [
  {
   "cell_type": "code",
   "execution_count": 4,
   "id": "685ba64e",
   "metadata": {},
   "outputs": [
    {
     "data": {
      "text/plain": [
       "True"
      ]
     },
     "execution_count": 4,
     "metadata": {},
     "output_type": "execute_result"
    }
   ],
   "source": [
    "from collections import Counter\n",
    "from tqdm import tqdm \n",
    "from colorama import Style,Fore\n",
    "import os\n",
    "from dotenv import load_dotenv\n",
    "import json\n",
    "import time\n",
    "load_dotenv()"
   ]
  },
  {
   "cell_type": "code",
   "execution_count": 5,
   "id": "0004db1f",
   "metadata": {},
   "outputs": [],
   "source": [
    "def openJson(path):\n",
    "    with open(path, \"r\", encoding=\"utf-8\") as file:\n",
    "        data = json.load(file)\n",
    "    return data\n",
    "\n",
    "def saveJson(path,data):\n",
    "    with open(path, \"w\", encoding=\"utf-8\") as f:\n",
    "       json.dump(data, f, ensure_ascii=False, indent=2)\n",
    "       print(Style.BRIGHT+Fore.GREEN+'\\n json saved'+Style.RESET_ALL)"
   ]
  },
  {
   "cell_type": "markdown",
   "id": "4acb626e",
   "metadata": {},
   "source": [
    "## Collecter \n",
    "\n",
    "- En utilisant les cellules colorées par l'experte dans le fichier Excel"
   ]
  },
  {
   "cell_type": "code",
   "execution_count": 7,
   "id": "84eaa621",
   "metadata": {},
   "outputs": [
    {
     "name": "stdout",
     "output_type": "stream",
     "text": [
      "Liste des IDs des Faux positifs :\n",
      "['Myfood - Serres innovantes aquaponiques', 'SOBAC', \"Chambres d'agriculture de Normandie\", 'CIVAM Limousin', 'SunActiv Habitat', 'flavinokovik13', 'Solaris Store', 'PLASTEAU', 'Ethique TV', 'Arkeale', 'alann boboulo', 'Ferme Tourne-Sol', 'passion camping-car', 'DONGO LE CONSEILLER AGRICOLE', 'Quentin', 'Braindegeek', 'Yannick Bernard Darlington - Boutique Jeux Efcé', 'Latulpa', '1968makemyday', 'Civam Adage 35', 'Herbe et Fourrages Centre-Val de Loire', 'OKWIND | Votre énergie verte', 'S EAU S PLANETE', \"Paysagiste en ligne Jardin-Reve bureau d'étude\", 'Nikita Gouëzel', 'Amélie Js', 'Clara B.', 'Motoculteurs & mécaniques 62', 'WATER WISE CONCEPT', 'Haydée Bouscasse', 'Monabee', 'Mon Habitat Positif', 'Kokopelli, semeur de Vie', 'Capitools', 'NIAVLYS', 'Agro&Cow', 'Aezeo - L’autonomie énergétique entre vos mains', 'LaViandeTV', 'API', 'Laure - La Petite MOB du 22', 'jocelyn quintana  eole france ', 'Cablanc', 'La Ferme Du Rial', \"Les archives de l'IEF - Instruction En Famille\", 'ferme kapelfeld', 'Ferme de Bedavo - Association Saint Camille', 'MyShop Solaire', 'reveillez votre vie', 'Les Incroyables Comestibles', \"J'autonomise - Concepteur de Maison Autonome\", 'Fondation du SMA', 'tom golaz', 'IADEA', 'Chris Pagns']\n",
      "54\n"
     ]
    }
   ],
   "source": [
    "from openpyxl import load_workbook\n",
    "\n",
    "# Charger le fichier Excel\n",
    "wb = load_workbook(\"../xlsx/chaines_pertinentes_RE.xlsx\")\n",
    "ws = wb.active\n",
    "\n",
    "FP_chaines_Ids = []\n",
    "\n",
    "for row in ws.iter_rows(min_col=1, max_col=1):\n",
    "    cell = row[0]\n",
    "    fill = cell.fill\n",
    "\n",
    "    if fill and fill.fill_type == \"solid\":\n",
    "        color = fill.start_color.rgb\n",
    "        if color and color != \"00000000\":\n",
    "            nom = cell.value\n",
    "            FP_chaines_Ids.append(nom)\n",
    "\n",
    "print(\"Liste des IDs des Faux positifs :\")\n",
    "print(FP_chaines_Ids)\n",
    "print(len(FP_chaines_Ids))"
   ]
  },
  {
   "cell_type": "code",
   "execution_count": null,
   "id": "169113fd",
   "metadata": {},
   "outputs": [],
   "source": []
  },
  {
   "cell_type": "code",
   "execution_count": null,
   "id": "93359900",
   "metadata": {},
   "outputs": [],
   "source": []
  }
 ],
 "metadata": {
  "kernelspec": {
   "display_name": ".venv",
   "language": "python",
   "name": "python3"
  },
  "language_info": {
   "codemirror_mode": {
    "name": "ipython",
    "version": 3
   },
   "file_extension": ".py",
   "mimetype": "text/x-python",
   "name": "python",
   "nbconvert_exporter": "python",
   "pygments_lexer": "ipython3",
   "version": "3.10.16"
  }
 },
 "nbformat": 4,
 "nbformat_minor": 5
}
