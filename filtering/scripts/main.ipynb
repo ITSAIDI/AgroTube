{
 "cells": [
  {
   "cell_type": "code",
   "execution_count": 5,
   "id": "8e931bf3",
   "metadata": {},
   "outputs": [],
   "source": [
    "import json \n",
    "from collections import Counter\n",
    "from tqdm import tqdm \n",
    "from colorama import Style,Fore"
   ]
  },
  {
   "cell_type": "code",
   "execution_count": 1,
   "id": "7b68e515",
   "metadata": {},
   "outputs": [
    {
     "name": "stdout",
     "output_type": "stream",
     "text": [
      "2025-04-18 06:45:32,309 SequenceTagger predicts: Dictionary with 19 tags: O, S-LOC, B-LOC, E-LOC, I-LOC, S-PER, B-PER, E-PER, I-PER, S-MISC, B-MISC, E-MISC, I-MISC, S-ORG, B-ORG, E-ORG, I-ORG, <START>, <STOP>\n",
      "2025-04-18 06:45:50,331 SequenceTagger predicts: Dictionary with 19 tags: O, S-LOC, B-LOC, E-LOC, I-LOC, S-PER, B-PER, E-PER, I-PER, S-MISC, B-MISC, E-MISC, I-MISC, S-ORG, B-ORG, E-ORG, I-ORG, <START>, <STOP>\n"
     ]
    },
    {
     "data": {
      "text/plain": [
       "<module 'utils' from 'c:\\\\Users\\\\hp\\\\AgroTube\\\\filtering\\\\scripts\\\\utils.py'>"
      ]
     },
     "execution_count": 1,
     "metadata": {},
     "output_type": "execute_result"
    }
   ],
   "source": [
    "import importlib\n",
    "import utils  # or whatever your module is called\n",
    "importlib.reload(utils)"
   ]
  },
  {
   "cell_type": "markdown",
   "id": "2e4a2295",
   "metadata": {},
   "source": [
    "## Refining 1"
   ]
  },
  {
   "cell_type": "markdown",
   "id": "179c2de0",
   "metadata": {},
   "source": [
    "- Refine the language field of the videos"
   ]
  },
  {
   "cell_type": "code",
   "execution_count": null,
   "id": "92baa6b4",
   "metadata": {},
   "outputs": [],
   "source": [
    "from utils import RefineLanguage1\n"
   ]
  },
  {
   "cell_type": "code",
   "execution_count": null,
   "id": "1f0d635c",
   "metadata": {},
   "outputs": [],
   "source": [
    "RefineLanguage1()"
   ]
  },
  {
   "cell_type": "code",
   "execution_count": 8,
   "id": "0ea96cf9",
   "metadata": {},
   "outputs": [
    {
     "data": {
      "text/plain": [
       "6859"
      ]
     },
     "execution_count": 8,
     "metadata": {},
     "output_type": "execute_result"
    }
   ],
   "source": [
    "with open(\"../../collecting/jsons/videos.json\", \"r\", encoding=\"utf-8\") as file:\n",
    "    videos = json.load(file)\n",
    "len(videos)"
   ]
  },
  {
   "cell_type": "code",
   "execution_count": 6,
   "id": "b8f6b351",
   "metadata": {},
   "outputs": [
    {
     "data": {
      "text/plain": [
       "6859"
      ]
     },
     "execution_count": 6,
     "metadata": {},
     "output_type": "execute_result"
    }
   ],
   "source": [
    "with open(\"../jsons/videosR1.json\", \"r\", encoding=\"utf-8\") as file:\n",
    "    videosR1 = json.load(file)\n",
    "len(videosR1)"
   ]
  },
  {
   "cell_type": "code",
   "execution_count": 9,
   "id": "522d930f",
   "metadata": {},
   "outputs": [
    {
     "name": "stdout",
     "output_type": "stream",
     "text": [
      "Toutes les valeurs uniques de langue avec leur nombre d'occurrences :\n",
      "-  : 2449\n",
      "- fr : 3229\n",
      "- fr-FR : 477\n",
      "- fr-CA : 143\n",
      "- zxx : 11\n",
      "- en : 255\n",
      "- pt : 1\n",
      "- fr-CH : 24\n",
      "- en-US : 138\n",
      "- en-GB : 38\n",
      "- fr-BE : 43\n",
      "- hi : 6\n",
      "- de : 3\n",
      "- en-IN : 5\n",
      "- ro : 1\n",
      "- ur : 2\n",
      "- de-CH : 2\n",
      "- en-CA : 16\n",
      "- fil : 1\n",
      "- br : 1\n",
      "- ar : 3\n",
      "- nl : 1\n",
      "- ru : 1\n",
      "- es-419 : 2\n",
      "- eu : 1\n",
      "- ko : 4\n",
      "- zh-CN : 1\n",
      "- de-DE : 1\n"
     ]
    }
   ],
   "source": [
    "langue_counter = Counter(video['langue'] for video in videosR1)\n",
    "print(\"Toutes les valeurs uniques de langue avec leur nombre d'occurrences :\")\n",
    "for langue, count in langue_counter.items():\n",
    "    print(f\"- {langue} : {count}\")\n"
   ]
  },
  {
   "cell_type": "code",
   "execution_count": null,
   "id": "0693ebdd",
   "metadata": {},
   "outputs": [],
   "source": []
  },
  {
   "cell_type": "markdown",
   "id": "1352e2ab",
   "metadata": {},
   "source": [
    "## Refining 2"
   ]
  },
  {
   "cell_type": "markdown",
   "id": "6eae7e95",
   "metadata": {},
   "source": [
    "- Add the Localisation Information"
   ]
  },
  {
   "cell_type": "code",
   "execution_count": null,
   "id": "0293aec3",
   "metadata": {},
   "outputs": [],
   "source": [
    "from utils import RefineLanguage2"
   ]
  },
  {
   "cell_type": "code",
   "execution_count": null,
   "id": "10da376a",
   "metadata": {},
   "outputs": [],
   "source": [
    "RefineLanguage2()"
   ]
  },
  {
   "cell_type": "code",
   "execution_count": null,
   "id": "a570648d",
   "metadata": {},
   "outputs": [],
   "source": [
    "with open(\"../jsons/videosR2.json\", \"r\", encoding=\"utf-8\") as file:\n",
    "    videosR2 = json.load(file)\n",
    "len(videosR2)"
   ]
  },
  {
   "cell_type": "code",
   "execution_count": null,
   "id": "602cb3e4",
   "metadata": {},
   "outputs": [],
   "source": [
    "langue_counter = Counter(video['langue'] for video in videosR2)\n",
    "print(\"Toutes les valeurs uniques de langue avec leur nombre d'occurrences :\")\n",
    "for langue, count in sorted(langue_counter.items(), key=lambda x: x[1], reverse=True):\n",
    "    print(f\"- {langue} : {count}\")\n"
   ]
  },
  {
   "cell_type": "code",
   "execution_count": null,
   "metadata": {},
   "outputs": [],
   "source": [
    "total = len(videosR2)\n",
    "\n",
    "count_fr = sum(1 for video in videosR2 if video['langue'] == 'fr')\n",
    "count_frFR = sum(1 for video in videosR2 if video['langue'] == 'fr-FR')\n",
    "count_fr_autre = sum(1 for video in videosR2 if video['langue'].startswith('fr') and video['langue'] not in ['fr', 'fr-FR'])\n",
    "count_autre = total - (count_fr + count_frFR + count_fr_autre)\n",
    "\n",
    "print(f\"Total de vidéos : {total}\")\n",
    "print(f\"- fr       : {count_fr} ({count_fr / total:.2%})\")\n",
    "print(f\"- fr-FR    : {count_frFR} ({count_frFR / total:.2%})\")\n",
    "print(f\"- fr-autre : {count_fr_autre} ({count_fr_autre / total:.2%})\")\n",
    "print(f\"- autre    : {count_autre} ({count_autre / total:.2%})\")"
   ]
  },
  {
   "cell_type": "code",
   "execution_count": null,
   "metadata": {},
   "outputs": [],
   "source": [
    "1332+4312+632"
   ]
  },
  {
   "cell_type": "markdown",
   "id": "b40fe841",
   "metadata": {},
   "source": [
    "## Refining 3"
   ]
  },
  {
   "cell_type": "markdown",
   "id": "42ad6a6b",
   "metadata": {},
   "source": [
    "- Get the localisation information for 'fr' videos :\n",
    "  - Try to explore the video description+Title and Bio of the corresponding channel."
   ]
  },
  {
   "cell_type": "markdown",
   "id": "1a778435",
   "metadata": {},
   "source": [
    "### 1.Seperate These videos "
   ]
  },
  {
   "cell_type": "code",
   "execution_count": null,
   "id": "ccc9b902",
   "metadata": {},
   "outputs": [],
   "source": [
    "with open(\"../jsons/videosR2.json\", \"r\", encoding=\"utf-8\") as file:\n",
    "    videosR2 = json.load(file)\n",
    "videosfr = []\n",
    "for video in videosR2:\n",
    "    if video['langue']=='fr':\n",
    "        videosfr.append(video)\n",
    "with open(\"../jsons/videosfr.json\", \"w\", encoding=\"utf-8\") as f:\n",
    "    json.dump(videosfr, f, ensure_ascii=False, indent=2)\n",
    "    print(Style.BRIGHT+Fore.GREEN+'\\n json saved'+Style.RESET_ALL)\n",
    "    print(Style.BRIGHT+Fore.YELLOW+f'\\n json length is : {len(videosfr)}'+Style.RESET_ALL)"
   ]
  },
  {
   "cell_type": "markdown",
   "id": "1440f9a2",
   "metadata": {},
   "source": [
    "### 2. Get the location by using metadata:"
   ]
  },
  {
   "cell_type": "code",
   "execution_count": null,
   "id": "9bb94364",
   "metadata": {},
   "outputs": [],
   "source": [
    "# Get the Context first\n",
    "import importlib\n",
    "import utils  # or whatever your module is called\n",
    "importlib.reload(utils)\n",
    "\n",
    "from utils import getContextAll\n"
   ]
  },
  {
   "cell_type": "code",
   "execution_count": null,
   "id": "3fc66499",
   "metadata": {},
   "outputs": [],
   "source": [
    "getContextAll()"
   ]
  },
  {
   "cell_type": "markdown",
   "id": "8f5caa90",
   "metadata": {},
   "source": [
    "### 3.NER"
   ]
  },
  {
   "cell_type": "markdown",
   "id": "5fe30f06",
   "metadata": {},
   "source": [
    "- with spacy (not realy accurate)"
   ]
  },
  {
   "cell_type": "code",
   "execution_count": null,
   "id": "6c4f56cf",
   "metadata": {},
   "outputs": [],
   "source": [
    "import spacy\n",
    "\n",
    "nlp = spacy.load(\"fr_core_news_lg\")"
   ]
  },
  {
   "cell_type": "code",
   "execution_count": null,
   "id": "e9901e89",
   "metadata": {},
   "outputs": [],
   "source": [
    "context = \"\"\"\n",
    "Le bio de la chaine : \\n \\n        \\n###############\\n        \\nDescription : Hello ! Aujourd’hui Bruno nous invite à questionner l'usage que faisons de notre habitat et nous propose de réduire nos surfaces de vie tout en gardant notre confort, de construire notre maison sans faire de prêt bancaire sur 20 ans. Et si on voyait dans le fait de construire notre maison plus qu'un défi, un cheminement, une expérience humaine, un accomplissement ?\\nDécouvrez la construction d’un habitat autonome avec une structure bois, isolation paille, enduit terre de 24m2 avec cuisine, séjour, chambre et salle de bain pour 5000€ ! \\nPrenez bien soin de vous.  \\nJe vous embrasse, \\n\\nA bientôt 🌸 \\n\\nSarah \\n\\n\\n\\nLe site internet d’Alter’éco 30 : https://bit.ly/37pw1uj \\n\\n#OurInnerTravels #Autonomie #Habitat #Maison #HabitatAutonome #Ecologie \\n\\n\\nRetrouve moi aussi sur : \\n🎙PODCAST : https://anchor.fm/our-inner-travels\\n\\n📸 I N S T A G R A M : https://instagram.com/ourinnertravels \\n✍️ B L O G : https://ourinnertravels.com \\n📸 FACEBOOK : https://www.facebook.com/OurInnerTravels \\n💕 Abonne-toi à la chaine : https://bit.ly/2PUxikr \\n💌 Me Contacter 💌: contact@ourinnertravels.com\\n        \\n        \\n###############\\n        \\nDescription : Hello, Aujourd’hui je vous retrouve dans la première partie d’une série de 5 entretiens avec Bruno sur le thème : L’écologie et l’alternativité comme invitation à trouver un sens à la vie.\\nPartie 1 : Echovert, la construction d’un lieu alternatif, autonome et écologique\\nPartie 2 : Vivre de façon alternative, les joies\\nPartie 3 : Vivre de façon alternative, les défis \\nPartie 4 : L’écologie, une invitation à trouver un sens à la vie\\nPartie 5 : Les 3 kiffs de Bruno\\n\\nVous préférez écouter la vidéo sous format podcast ? C'est ici : https://bit.ly/3gmy5ZF\\n\\nEn octobre, de retour de voyage la réadaptation à la vie parisienne est difficile, est-ce peut-être car je n’ai pas envie de me réadapter, que je n’y vois plus de sens ? Je pars donc en Camargue, à une demi-heure de Nîmes et passe un mois dans un éco-lieu à la recherche de sens, de rencontres, de personnes qui partagent mes idées et mes aspirations. Bruno et Anne ont créé ce lieu de vie alternatif où naissent inventions respectueuses de l’environnement et expérimentations d’outils pour l’autonomie alimentaire et énergétique. Avec Bruno, on a commencé par parler de ce lieu de vie alternatif et de ce qu’implique le fait de vivre en communauté. On s’est aussi demander comment se reconnecter à soi et aux autres dans un monde qui semble parfois déconnecté du réel. Au fil de nos paroles, on en est finalement venu à se questionner sur le sens de la vie, et en quoi le fait de cultiver son écologie intérieure est peut-être la première forme d’engagement écologique à avoir. Aujourd’hui je vous propose de partir en voyage intérieur grâce à Bruno. L’écologie et l’alternativité comme invitation à trouver un sens à la vie.\\n\\nA bientôt 🌸 \\n\\nSarah \\n\\nLe site internet d’Alter’éco 30 : https://bit.ly/37pw1uj \\n\\nRetrouve moi aussi sur : \\n🎙PODCAST : https://anchor.fm/our-inner-travels\\n📸 I N S T A G R A M : https://instagram.com/ourinnertravels \\n✍️ B L O G : https://ourinnertravels.com \\n📸 FACEBOOK : https://www.facebook.com/OurInnerTravels \\n💕 Abonne-toi à la chaine : https://bit.ly/2PUxikr \\n💌 Me Contacter 💌: contact@ourinnertravels.com\\n        \\n        \\n###############\\n\\n        titre : Habitat autonome et autoconstruction\\n        \\n        \\n###############\\n\\n        titre : PARLONS #2 - 1 : Echovert, la construction d’un lieu alternatif, autonome et écologique - Bruno\\n       \n",
    "\n",
    "\"\"\"\n",
    "\n",
    "print(context)"
   ]
  },
  {
   "cell_type": "code",
   "execution_count": null,
   "metadata": {},
   "outputs": [],
   "source": [
    "doc = nlp(context)\n",
    "\n",
    "for ent in doc.ents:\n",
    "    if ent.label_ == \"LOC\":\n",
    "        print(f\"{ent}  :  {ent.label_}\" )"
   ]
  },
  {
   "cell_type": "code",
   "execution_count": 2,
   "id": "6216fe2d",
   "metadata": {},
   "outputs": [],
   "source": [
    "from utils import RefineLanguage3"
   ]
  },
  {
   "cell_type": "code",
   "execution_count": 3,
   "id": "0181d606",
   "metadata": {},
   "outputs": [
    {
     "name": "stderr",
     "output_type": "stream",
     "text": [
      "  0%|          | 1/1332 [00:00<12:45,  1.74it/s]"
     ]
    },
    {
     "name": "stdout",
     "output_type": "stream",
     "text": [
      "\u001b[1m\u001b[32m\n",
      "--unknown--\n",
      "\u001b[0m\n",
      "{}\n"
     ]
    },
    {
     "name": "stderr",
     "output_type": "stream",
     "text": [
      "  0%|          | 2/1332 [00:14<3:02:13,  8.22s/it]"
     ]
    },
    {
     "name": "stdout",
     "output_type": "stream",
     "text": [
      "\u001b[1m\u001b[32m\n",
      "--FR--\n",
      "\u001b[0m\n",
      "{\n",
      "  \"Vosges du Nord\": \"FR\",\n",
      "  \"Région\": \"CN\",\n",
      "  \"Parc naturel régional des Vosges\": \"FR\",\n",
      "  \"Neuwiller-lès-Saverne\": \"FR\"\n",
      "}\n"
     ]
    },
    {
     "name": "stderr",
     "output_type": "stream",
     "text": [
      "  0%|          | 3/1332 [00:33<4:54:13, 13.28s/it]"
     ]
    },
    {
     "name": "stdout",
     "output_type": "stream",
     "text": [
      "\u001b[1m\u001b[32m\n",
      "--FR--\n",
      "\u001b[0m\n",
      "{\n",
      "  \"A\": \"AR\",\n",
      "  \"Camargue\": \"FR\",\n",
      "  \"Nîmes\": \"FR\"\n",
      "}\n"
     ]
    },
    {
     "name": "stderr",
     "output_type": "stream",
     "text": [
      "  0%|          | 4/1332 [00:36<3:23:29,  9.19s/it]"
     ]
    },
    {
     "name": "stdout",
     "output_type": "stream",
     "text": [
      "\u001b[1m\u001b[32m\n",
      "--unknown--\n",
      "\u001b[0m\n",
      "{}\n"
     ]
    },
    {
     "name": "stderr",
     "output_type": "stream",
     "text": [
      "  0%|          | 5/1332 [00:47<3:38:16,  9.87s/it]"
     ]
    },
    {
     "name": "stdout",
     "output_type": "stream",
     "text": [
      "\u001b[1m\u001b[32m\n",
      "--unknown--\n",
      "\u001b[0m\n",
      "{}\n"
     ]
    },
    {
     "name": "stderr",
     "output_type": "stream",
     "text": [
      "  0%|          | 6/1332 [00:52<3:05:10,  8.38s/it]"
     ]
    },
    {
     "name": "stdout",
     "output_type": "stream",
     "text": [
      "\u001b[1m\u001b[32m\n",
      "--unknown--\n",
      "\u001b[0m\n",
      "{}\n"
     ]
    },
    {
     "name": "stderr",
     "output_type": "stream",
     "text": [
      "  1%|          | 7/1332 [00:55<2:26:30,  6.63s/it]"
     ]
    },
    {
     "name": "stdout",
     "output_type": "stream",
     "text": [
      "\u001b[1m\u001b[32m\n",
      "--unknown--\n",
      "\u001b[0m\n",
      "{}\n"
     ]
    },
    {
     "name": "stderr",
     "output_type": "stream",
     "text": [
      "  1%|          | 8/1332 [02:14<10:51:02, 29.50s/it]"
     ]
    },
    {
     "name": "stdout",
     "output_type": "stream",
     "text": [
      "\u001b[1m\u001b[32m\n",
      "--FR--\n",
      "\u001b[0m\n",
      "{\n",
      "  \"Johannesburg\": \"ZA\",\n",
      "  \"l'Afrique du Sud\": \"ZA\",\n",
      "  \"Normandie\": \"FR\",\n",
      "  \"Rouen\": \"FR\",\n",
      "  \"la Pologne\": \"FR\",\n",
      "  \"Suresnes\": \"FR\",\n",
      "  \"Mont-Valérien\": \"FR\",\n",
      "  \"du Nord\": \"CH\",\n",
      "  \"Marseille\": \"FR\",\n",
      "  \"Bénin\": \"BJ\",\n",
      "  \"Afrique\": \"TD\",\n",
      "  \"Ferme du Logis\": \"FR\",\n",
      "  \"France\": \"FR\",\n",
      "  \"Chili\": \"CL\",\n",
      "  \"Stavanger\": \"NO\",\n",
      "  \"Norvège\": \"NO\",\n",
      "  \"Puebla\": \"MX\",\n",
      "  \"Bordeaux\": \"FR\",\n",
      "  \"La Pologne\": \"FR\"\n",
      "}\n"
     ]
    },
    {
     "name": "stderr",
     "output_type": "stream",
     "text": [
      "  1%|          | 9/1332 [02:15<7:34:46, 20.62s/it] "
     ]
    },
    {
     "name": "stdout",
     "output_type": "stream",
     "text": [
      "\u001b[1m\u001b[32m\n",
      "--unknown--\n",
      "\u001b[0m\n",
      "{}\n"
     ]
    },
    {
     "name": "stderr",
     "output_type": "stream",
     "text": [
      "  1%|          | 10/1332 [02:31<6:59:54, 19.06s/it]"
     ]
    },
    {
     "name": "stdout",
     "output_type": "stream",
     "text": [
      "\u001b[1m\u001b[32m\n",
      "--unknown--\n",
      "\u001b[0m\n",
      "{}\n"
     ]
    },
    {
     "name": "stderr",
     "output_type": "stream",
     "text": [
      "  1%|          | 11/1332 [02:32<5:01:24, 13.69s/it]"
     ]
    },
    {
     "name": "stdout",
     "output_type": "stream",
     "text": [
      "\u001b[1m\u001b[32m\n",
      "--unknown--\n",
      "\u001b[0m\n",
      "{}\n"
     ]
    },
    {
     "name": "stderr",
     "output_type": "stream",
     "text": [
      "  1%|          | 12/1332 [03:12<7:55:00, 21.59s/it]"
     ]
    },
    {
     "name": "stdout",
     "output_type": "stream",
     "text": [
      "\u001b[1m\u001b[32m\n",
      "--FR--\n",
      "\u001b[0m\n",
      "{\n",
      "  \"Nouville\": \"FR\",\n",
      "  \"province Nord\": \"PG\",\n",
      "  \"Calédonienne\": \"FR\"\n",
      "}\n"
     ]
    },
    {
     "name": "stderr",
     "output_type": "stream",
     "text": [
      "  1%|          | 13/1332 [10:44<55:42:13, 152.03s/it]"
     ]
    },
    {
     "name": "stdout",
     "output_type": "stream",
     "text": [
      "\u001b[1m\u001b[32m\n",
      "--FR--\n",
      "\u001b[0m\n",
      "{\n",
      "  \"Bergouey\": \"FR\",\n",
      "  \"Pays basque\": \"ES\",\n",
      "  \"Autour\": \"IT\",\n",
      "  \"Sologne\": \"FR\",\n",
      "  \"A\": \"AR\",\n",
      "  \"Angus\": \"GB\",\n",
      "  \"France\": \"FR\",\n",
      "  \"Krebsbach\": \"DE\",\n",
      "  \"Sud\": \"HT\",\n",
      "  \"Haute-Loire\": \"FR\",\n",
      "  \"Auvergne\": \"CA\",\n",
      "  \"Brioude\": \"FR\",\n",
      "  \"Paris\": \"FR\",\n",
      "  \"Lindes\": \"FR\",\n",
      "  \"rue Guynemer\": \"FR\",\n",
      "  \"rue Beaubourg\": \"FR\",\n",
      "  \"Terre\": \"ET\",\n",
      "  \"Gilles\": \"FR\",\n",
      "  \"Les\": \"FR\",\n",
      "  \"Chaque\": \"GT\",\n",
      "  \"Bordeaux\": \"FR\",\n",
      "  \"Petit-fils\": \"FR\",\n",
      "  \"ferme Pauline\": \"BE\",\n",
      "  \"Bordeaux-Métropole\": \"FR\",\n",
      "  \"FUP\": \"IT\",\n",
      "  \"Mérignac\": \"FR\",\n",
      "  \"Et\": \"ET\",\n",
      "  \"Bachats\": \"FR\",\n",
      "  \"Moselle\": \"FR\",\n",
      "  \"MSV\": \"US\",\n",
      "  \"Cagnolle\": \"FR\",\n",
      "  \"Cette\": \"FR\",\n",
      "  \"ferme de Cagnolle\": \"FR\",\n",
      "  \"Belvès\": \"FR\",\n",
      "  \"Périgord\": \"FR\",\n",
      "  \"Ille-et-Vilaine\": \"FR\",\n",
      "  \"Rennes\": \"FR\",\n",
      "  \"Champ de céréales\": \"FR\",\n",
      "  \"Vosges\": \"FR\",\n",
      "  \"Allemagne\": \"DE\",\n",
      "  \"Champs de Bray\": \"FR\",\n",
      "  \"Limousin\": \"FR\",\n",
      "  \"Haute-Saône\": \"FR\",\n",
      "  \"Hongrie\": \"HU\",\n",
      "  \"L’éleveur\": \"FR\",\n",
      "  \"Côte d’Or\": \"FR\",\n",
      "  \"Bourgogne\": \"FR\",\n",
      "  \"Lignières\": \"FR\",\n",
      "  \"Côtes d'Armor\": \"FR\",\n",
      "  \"Kroaz Min\": \"FR\",\n",
      "  \"Aubrac\": \"FR\",\n",
      "  \"Camargue\": \"FR\",\n",
      "  \"Canard des Rizières\": \"FR\",\n",
      "  \"région Centre Atlantique\": \"BF\",\n",
      "  \"Vendée\": \"FR\",\n",
      "  \"de France\": \"FR\",\n",
      "  \"Crau\": \"FR\",\n",
      "  \"d’Arles\": \"FR\"\n",
      "}\n"
     ]
    },
    {
     "name": "stderr",
     "output_type": "stream",
     "text": [
      "  1%|          | 14/1332 [10:49<39:25:46, 107.70s/it]"
     ]
    },
    {
     "name": "stdout",
     "output_type": "stream",
     "text": [
      "\u001b[1m\u001b[32m\n",
      "--FR--\n",
      "\u001b[0m\n",
      "{\n",
      "  \"Longueville-Nabringhen\": \"FR\"\n",
      "}\n"
     ]
    },
    {
     "name": "stderr",
     "output_type": "stream",
     "text": [
      "  1%|          | 15/1332 [10:53<27:56:06, 76.36s/it] "
     ]
    },
    {
     "name": "stdout",
     "output_type": "stream",
     "text": [
      "\u001b[1m\u001b[32m\n",
      "--FR--\n",
      "\u001b[0m\n",
      "{\n",
      "  \"La Réunion\": \"FR\"\n",
      "}\n"
     ]
    },
    {
     "name": "stderr",
     "output_type": "stream",
     "text": [
      "  1%|          | 16/1332 [11:09<21:15:05, 58.13s/it]"
     ]
    },
    {
     "name": "stdout",
     "output_type": "stream",
     "text": [
      "\u001b[1m\u001b[32m\n",
      "--CA--\n",
      "\u001b[0m\n",
      "{\n",
      "  \"Hautes-Laurentides\": \"CA\",\n",
      "  \"Québec\": \"CA\"\n",
      "}\n"
     ]
    },
    {
     "name": "stderr",
     "output_type": "stream",
     "text": [
      "  1%|▏         | 17/1332 [11:10<15:00:39, 41.09s/it]"
     ]
    },
    {
     "name": "stdout",
     "output_type": "stream",
     "text": [
      "\u001b[1m\u001b[32m\n",
      "--unknown--\n",
      "\u001b[0m\n",
      "{}\n"
     ]
    },
    {
     "name": "stderr",
     "output_type": "stream",
     "text": [
      "  1%|▏         | 18/1332 [11:12<10:41:40, 29.30s/it]"
     ]
    },
    {
     "name": "stdout",
     "output_type": "stream",
     "text": [
      "\u001b[1m\u001b[32m\n",
      "--unknown--\n",
      "\u001b[0m\n",
      "{}\n"
     ]
    },
    {
     "name": "stderr",
     "output_type": "stream",
     "text": [
      "  1%|▏         | 19/1332 [11:14<7:41:05, 21.07s/it] "
     ]
    },
    {
     "name": "stdout",
     "output_type": "stream",
     "text": [
      "\u001b[1m\u001b[32m\n",
      "--unknown--\n",
      "\u001b[0m\n",
      "{}\n"
     ]
    },
    {
     "name": "stderr",
     "output_type": "stream",
     "text": [
      "  2%|▏         | 20/1332 [11:16<5:36:15, 15.38s/it]"
     ]
    },
    {
     "name": "stdout",
     "output_type": "stream",
     "text": [
      "\u001b[1m\u001b[32m\n",
      "--unknown--\n",
      "\u001b[0m\n",
      "{}\n"
     ]
    },
    {
     "name": "stderr",
     "output_type": "stream",
     "text": [
      "  2%|▏         | 21/1332 [11:18<4:07:16, 11.32s/it]"
     ]
    },
    {
     "name": "stdout",
     "output_type": "stream",
     "text": [
      "\u001b[1m\u001b[32m\n",
      "--unknown--\n",
      "\u001b[0m\n",
      "{}\n"
     ]
    },
    {
     "name": "stderr",
     "output_type": "stream",
     "text": [
      "  2%|▏         | 22/1332 [18:01<46:51:36, 128.78s/it]"
     ]
    },
    {
     "name": "stdout",
     "output_type": "stream",
     "text": [
      "\u001b[1m\u001b[32m\n",
      "--FR--\n",
      "\u001b[0m\n",
      "{\n",
      "  \"Bergouey\": \"FR\",\n",
      "  \"Pays basque\": \"ES\",\n",
      "  \"Autour\": \"IT\",\n",
      "  \"Sologne\": \"FR\",\n",
      "  \"A\": \"AR\",\n",
      "  \"Angus\": \"GB\",\n",
      "  \"France\": \"FR\",\n",
      "  \"Krebsbach\": \"DE\",\n",
      "  \"Sud\": \"HT\",\n",
      "  \"Haute-Loire\": \"FR\",\n",
      "  \"Auvergne\": \"CA\",\n",
      "  \"Brioude\": \"FR\",\n",
      "  \"Paris\": \"FR\",\n",
      "  \"Lindes\": \"FR\",\n",
      "  \"rue Guynemer\": \"FR\",\n",
      "  \"rue Beaubourg\": \"FR\",\n",
      "  \"Terre\": \"ET\",\n",
      "  \"Gilles\": \"FR\",\n",
      "  \"Les\": \"FR\",\n",
      "  \"Chaque\": \"GT\",\n",
      "  \"Bordeaux\": \"FR\",\n",
      "  \"Petit-fils\": \"FR\",\n",
      "  \"ferme Pauline\": \"BE\",\n",
      "  \"Bordeaux-Métropole\": \"FR\",\n",
      "  \"FUP\": \"IT\",\n",
      "  \"Mérignac\": \"FR\",\n",
      "  \"Et\": \"ET\",\n",
      "  \"Bachats\": \"FR\",\n",
      "  \"Moselle\": \"FR\",\n",
      "  \"MSV\": \"US\",\n",
      "  \"Cagnolle\": \"FR\",\n",
      "  \"Cette\": \"FR\",\n",
      "  \"ferme de Cagnolle\": \"FR\",\n",
      "  \"Belvès\": \"FR\",\n",
      "  \"Périgord\": \"FR\",\n",
      "  \"Ille-et-Vilaine\": \"FR\",\n",
      "  \"Rennes\": \"FR\",\n",
      "  \"Champ de céréales\": \"FR\",\n",
      "  \"Vosges\": \"FR\",\n",
      "  \"Allemagne\": \"DE\",\n",
      "  \"Champs de Bray\": \"FR\",\n",
      "  \"Limousin\": \"FR\",\n",
      "  \"Haute-Saône\": \"FR\",\n",
      "  \"Hongrie\": \"HU\",\n",
      "  \"L’éleveur\": \"FR\",\n",
      "  \"Côte d’Or\": \"FR\",\n",
      "  \"Bourgogne\": \"FR\",\n",
      "  \"Lignières\": \"FR\",\n",
      "  \"Côtes d'Armor\": \"FR\",\n",
      "  \"Kroaz Min\": \"FR\",\n",
      "  \"Aubrac\": \"FR\",\n",
      "  \"Camargue\": \"FR\",\n",
      "  \"Canard des Rizières\": \"FR\",\n",
      "  \"région Centre Atlantique\": \"BF\",\n",
      "  \"Vendée\": \"FR\",\n",
      "  \"de France\": \"FR\",\n",
      "  \"Crau\": \"FR\",\n",
      "  \"d’Arles\": \"FR\"\n",
      "}\n"
     ]
    },
    {
     "name": "stderr",
     "output_type": "stream",
     "text": [
      "  2%|▏         | 23/1332 [23:33<69:04:17, 189.96s/it]"
     ]
    },
    {
     "name": "stdout",
     "output_type": "stream",
     "text": [
      "\u001b[1m\u001b[32m\n",
      "--FR--\n",
      "\u001b[0m\n",
      "{\n",
      "  \"Bergouey\": \"FR\",\n",
      "  \"Pays basque\": \"ES\",\n",
      "  \"Autour\": \"IT\",\n",
      "  \"Sologne\": \"FR\",\n",
      "  \"A\": \"AR\",\n",
      "  \"Angus\": \"GB\",\n",
      "  \"France\": \"FR\",\n",
      "  \"Krebsbach\": \"DE\",\n",
      "  \"Sud\": \"HT\",\n",
      "  \"Haute-Loire\": \"FR\",\n",
      "  \"Auvergne\": \"CA\",\n",
      "  \"Brioude\": \"FR\",\n",
      "  \"Paris\": \"FR\",\n",
      "  \"Lindes\": \"FR\",\n",
      "  \"rue Guynemer\": \"FR\",\n",
      "  \"rue Beaubourg\": \"FR\",\n",
      "  \"Terre\": \"ET\",\n",
      "  \"Gilles\": \"FR\",\n",
      "  \"Les\": \"FR\",\n",
      "  \"Chaque\": \"GT\",\n",
      "  \"Bordeaux\": \"FR\",\n",
      "  \"Petit-fils\": \"FR\",\n",
      "  \"ferme Pauline\": \"BE\",\n",
      "  \"Bordeaux-Métropole\": \"FR\",\n",
      "  \"FUP\": \"IT\",\n",
      "  \"Mérignac\": \"FR\",\n",
      "  \"Et\": \"ET\",\n",
      "  \"Bachats\": \"FR\",\n",
      "  \"Moselle\": \"FR\",\n",
      "  \"MSV\": \"US\",\n",
      "  \"Cagnolle\": \"FR\",\n",
      "  \"Cette\": \"FR\",\n",
      "  \"ferme de Cagnolle\": \"FR\",\n",
      "  \"Belvès\": \"FR\",\n",
      "  \"Périgord\": \"FR\",\n",
      "  \"Ille-et-Vilaine\": \"FR\",\n",
      "  \"Rennes\": \"FR\",\n",
      "  \"Champ de céréales\": \"FR\",\n",
      "  \"Vosges\": \"FR\",\n",
      "  \"Allemagne\": \"DE\",\n",
      "  \"Champs de Bray\": \"FR\",\n",
      "  \"Limousin\": \"FR\",\n",
      "  \"Haute-Saône\": \"FR\",\n",
      "  \"Hongrie\": \"HU\",\n",
      "  \"L’éleveur\": \"FR\",\n",
      "  \"Côte d’Or\": \"FR\",\n",
      "  \"Bourgogne\": \"FR\",\n",
      "  \"Lignières\": \"FR\",\n",
      "  \"Côtes d'Armor\": \"FR\",\n",
      "  \"Kroaz Min\": \"FR\",\n",
      "  \"Aubrac\": \"FR\",\n",
      "  \"Camargue\": \"FR\",\n",
      "  \"Canard des Rizières\": \"FR\",\n",
      "  \"région Centre Atlantique\": \"BF\",\n",
      "  \"Vendée\": \"FR\",\n",
      "  \"de France\": \"FR\",\n",
      "  \"Crau\": \"FR\",\n",
      "  \"d’Arles\": \"FR\"\n",
      "}\n"
     ]
    },
    {
     "name": "stderr",
     "output_type": "stream",
     "text": [
      "  2%|▏         | 24/1332 [24:02<51:25:51, 141.55s/it]"
     ]
    },
    {
     "name": "stdout",
     "output_type": "stream",
     "text": [
      "\u001b[1m\u001b[32m\n",
      "--CA--\n",
      "\u001b[0m\n",
      "{\n",
      "  \"Saguenay\": \"CA\",\n",
      "  \"Canada\": \"CA\"\n",
      "}\n"
     ]
    },
    {
     "name": "stderr",
     "output_type": "stream",
     "text": [
      "  2%|▏         | 25/1332 [24:07<36:30:13, 100.55s/it]"
     ]
    },
    {
     "name": "stdout",
     "output_type": "stream",
     "text": [
      "\u001b[1m\u001b[32m\n",
      "--unknown--\n",
      "\u001b[0m\n",
      "{}\n"
     ]
    },
    {
     "name": "stderr",
     "output_type": "stream",
     "text": [
      "  2%|▏         | 26/1332 [24:15<26:26:23, 72.88s/it] "
     ]
    },
    {
     "name": "stdout",
     "output_type": "stream",
     "text": [
      "\u001b[1m\u001b[32m\n",
      "--unknown--\n",
      "\u001b[0m\n",
      "{}\n"
     ]
    },
    {
     "name": "stderr",
     "output_type": "stream",
     "text": [
      "  2%|▏         | 27/1332 [24:22<19:12:06, 52.97s/it]"
     ]
    },
    {
     "name": "stdout",
     "output_type": "stream",
     "text": [
      "\u001b[1m\u001b[32m\n",
      "--unknown--\n",
      "\u001b[0m\n",
      "{}\n"
     ]
    },
    {
     "name": "stderr",
     "output_type": "stream",
     "text": [
      "  2%|▏         | 28/1332 [24:28<14:09:59, 39.11s/it]"
     ]
    },
    {
     "name": "stdout",
     "output_type": "stream",
     "text": [
      "\u001b[1m\u001b[32m\n",
      "--unknown--\n",
      "\u001b[0m\n",
      "{}\n"
     ]
    },
    {
     "name": "stderr",
     "output_type": "stream",
     "text": [
      "  2%|▏         | 29/1332 [24:38<10:54:52, 30.16s/it]"
     ]
    },
    {
     "name": "stdout",
     "output_type": "stream",
     "text": [
      "\u001b[1m\u001b[32m\n",
      "--unknown--\n",
      "\u001b[0m\n",
      "{}\n"
     ]
    },
    {
     "name": "stderr",
     "output_type": "stream",
     "text": [
      "  2%|▏         | 30/1332 [25:50<15:29:44, 42.84s/it]"
     ]
    },
    {
     "name": "stdout",
     "output_type": "stream",
     "text": [
      "\u001b[1m\u001b[32m\n",
      "--BJ--\n",
      "\u001b[0m\n",
      "{\n",
      "  \"département du Mono\": \"BJ\",\n",
      "  \"Lokossa\": \"BJ\",\n",
      "  \"Fongba\": \"BJ\",\n",
      "  \"Rwanda\": \"RW\",\n",
      "  \"Cameroun\": \"CM\",\n",
      "  \"Guinée Equatoriale\": \"GQ\",\n",
      "  \"Tchad\": \"TD\",\n",
      "  \"A\": \"AR\",\n",
      "  \"Afrique\": \"TD\",\n",
      "  \"Africaine\": \"CI\",\n",
      "  \"Gabon\": \"GA\",\n",
      "  \"Maroc\": \"MA\"\n",
      "}\n"
     ]
    },
    {
     "name": "stderr",
     "output_type": "stream",
     "text": [
      "  2%|▏         | 31/1332 [26:34<15:32:23, 43.00s/it]"
     ]
    },
    {
     "name": "stdout",
     "output_type": "stream",
     "text": [
      "\u001b[1m\u001b[32m\n",
      "--FR--\n",
      "\u001b[0m\n",
      "{\n",
      "  \"La Vigneronne\": \"FR\",\n",
      "  \"Lozère\": \"FR\"\n",
      "}\n"
     ]
    },
    {
     "name": "stderr",
     "output_type": "stream",
     "text": [
      "  2%|▏         | 32/1332 [26:38<11:23:40, 31.55s/it]"
     ]
    },
    {
     "name": "stdout",
     "output_type": "stream",
     "text": [
      "\u001b[1m\u001b[32m\n",
      "--unknown--\n",
      "\u001b[0m\n",
      "{}\n"
     ]
    },
    {
     "name": "stderr",
     "output_type": "stream",
     "text": [
      "  2%|▏         | 33/1332 [26:51<9:22:05, 25.96s/it] "
     ]
    },
    {
     "name": "stdout",
     "output_type": "stream",
     "text": [
      "\u001b[1m\u001b[32m\n",
      "--PT--\n",
      "\u001b[0m\n",
      "{\n",
      "  \"Portugal\": \"PT\",\n",
      "  \"Algarve\": \"BR\",\n",
      "  \"A\": \"AR\"\n",
      "}\n"
     ]
    },
    {
     "name": "stderr",
     "output_type": "stream",
     "text": [
      "  3%|▎         | 34/1332 [26:54<6:50:46, 18.99s/it]"
     ]
    },
    {
     "name": "stdout",
     "output_type": "stream",
     "text": [
      "\u001b[1m\u001b[32m\n",
      "--unknown--\n",
      "\u001b[0m\n",
      "{}\n"
     ]
    },
    {
     "name": "stderr",
     "output_type": "stream",
     "text": [
      "  3%|▎         | 35/1332 [27:00<5:25:35, 15.06s/it]"
     ]
    },
    {
     "name": "stdout",
     "output_type": "stream",
     "text": [
      "\u001b[1m\u001b[32m\n",
      "--unknown--\n",
      "\u001b[0m\n",
      "{}\n"
     ]
    },
    {
     "name": "stderr",
     "output_type": "stream",
     "text": [
      "  3%|▎         | 36/1332 [27:11<5:00:36, 13.92s/it]"
     ]
    },
    {
     "name": "stdout",
     "output_type": "stream",
     "text": [
      "\u001b[1m\u001b[32m\n",
      "--unknown--\n",
      "\u001b[0m\n",
      "{}\n"
     ]
    },
    {
     "name": "stderr",
     "output_type": "stream",
     "text": [
      "  3%|▎         | 37/1332 [28:07<9:29:35, 26.39s/it]"
     ]
    },
    {
     "name": "stdout",
     "output_type": "stream",
     "text": [
      "\u001b[1m\u001b[32m\n",
      "--FR--\n",
      "\u001b[0m\n",
      "{\n",
      "  \"La Vigneronne\": \"FR\",\n",
      "  \"Lozère\": \"FR\"\n",
      "}\n"
     ]
    },
    {
     "name": "stderr",
     "output_type": "stream",
     "text": [
      "  3%|▎         | 38/1332 [28:26<8:44:50, 24.34s/it]"
     ]
    },
    {
     "name": "stdout",
     "output_type": "stream",
     "text": [
      "\u001b[1m\u001b[32m\n",
      "--unknown--\n",
      "\u001b[0m\n",
      "{}\n"
     ]
    },
    {
     "name": "stderr",
     "output_type": "stream",
     "text": [
      "  3%|▎         | 39/1332 [28:56<9:22:36, 26.11s/it]"
     ]
    },
    {
     "name": "stdout",
     "output_type": "stream",
     "text": [
      "\u001b[1m\u001b[32m\n",
      "--CA--\n",
      "\u001b[0m\n",
      "{\n",
      "  \"Hautes-Laurentides\": \"CA\",\n",
      "  \"Québec\": \"CA\"\n",
      "}\n"
     ]
    },
    {
     "name": "stderr",
     "output_type": "stream",
     "text": [
      "  3%|▎         | 40/1332 [29:10<8:03:50, 22.47s/it]"
     ]
    },
    {
     "name": "stdout",
     "output_type": "stream",
     "text": [
      "\u001b[1m\u001b[32m\n",
      "--unknown--\n",
      "\u001b[0m\n",
      "{}\n"
     ]
    },
    {
     "name": "stderr",
     "output_type": "stream",
     "text": [
      "  3%|▎         | 41/1332 [29:16<6:11:40, 17.27s/it]"
     ]
    },
    {
     "name": "stdout",
     "output_type": "stream",
     "text": [
      "\u001b[1m\u001b[32m\n",
      "--FR--\n",
      "\u001b[0m\n",
      "{\n",
      "  \"Rennes\": \"FR\"\n",
      "}\n"
     ]
    },
    {
     "name": "stderr",
     "output_type": "stream",
     "text": [
      "  3%|▎         | 42/1332 [29:24<5:15:41, 14.68s/it]"
     ]
    },
    {
     "name": "stdout",
     "output_type": "stream",
     "text": [
      "\u001b[1m\u001b[32m\n",
      "--FR--\n",
      "\u001b[0m\n",
      "{\n",
      "  \"Rennes\": \"FR\"\n",
      "}\n"
     ]
    },
    {
     "name": "stderr",
     "output_type": "stream",
     "text": [
      "  3%|▎         | 43/1332 [29:42<5:38:32, 15.76s/it]"
     ]
    },
    {
     "name": "stdout",
     "output_type": "stream",
     "text": [
      "\u001b[1m\u001b[32m\n",
      "--GB--\n",
      "\u001b[0m\n",
      "{\n",
      "  \"Ripon\": \"GB\"\n",
      "}\n"
     ]
    },
    {
     "name": "stderr",
     "output_type": "stream",
     "text": [
      "  3%|▎         | 44/1332 [29:45<4:14:54, 11.87s/it]"
     ]
    },
    {
     "name": "stdout",
     "output_type": "stream",
     "text": [
      "\u001b[1m\u001b[32m\n",
      "--unknown--\n",
      "\u001b[0m\n",
      "{}\n",
      "Erreur avec 'l'Ouche de Papouche': HTTPSConnectionPool(host='nominatim.openstreetmap.org', port=443): Max retries exceeded with url: /search?q=l%27Ouche+de+Papouche&format=json&limit=1&addressdetails=1&accept-language=fr (Caused by ConnectTimeoutError(<urllib3.connection.HTTPSConnection object at 0x000001D40CEE83D0>, 'Connection to nominatim.openstreetmap.org timed out. (connect timeout=10)'))\n"
     ]
    },
    {
     "name": "stderr",
     "output_type": "stream",
     "text": [
      "  3%|▎         | 45/1332 [30:40<8:48:32, 24.64s/it]"
     ]
    },
    {
     "name": "stdout",
     "output_type": "stream",
     "text": [
      "\u001b[1m\u001b[32m\n",
      "--unknown--\n",
      "\u001b[0m\n",
      "{}\n"
     ]
    },
    {
     "name": "stderr",
     "output_type": "stream",
     "text": [
      "  3%|▎         | 46/1332 [31:00<8:22:16, 23.43s/it]"
     ]
    },
    {
     "name": "stdout",
     "output_type": "stream",
     "text": [
      "\u001b[1m\u001b[32m\n",
      "--unknown--\n",
      "\u001b[0m\n",
      "{}\n"
     ]
    },
    {
     "name": "stderr",
     "output_type": "stream",
     "text": [
      "  4%|▎         | 47/1332 [31:28<8:49:31, 24.73s/it]"
     ]
    },
    {
     "name": "stdout",
     "output_type": "stream",
     "text": [
      "\u001b[1m\u001b[32m\n",
      "--FR--\n",
      "\u001b[0m\n",
      "{\n",
      "  \"Rhône-Alpes\": \"FR\",\n",
      "  \"Pyrénées\": \"ES\"\n",
      "}\n"
     ]
    },
    {
     "name": "stderr",
     "output_type": "stream",
     "text": [
      "  4%|▎         | 48/1332 [31:32<6:32:37, 18.35s/it]"
     ]
    },
    {
     "name": "stdout",
     "output_type": "stream",
     "text": [
      "\u001b[1m\u001b[32m\n",
      "--unknown--\n",
      "\u001b[0m\n",
      "{}\n"
     ]
    },
    {
     "name": "stderr",
     "output_type": "stream",
     "text": [
      "  4%|▎         | 49/1332 [31:32<4:40:36, 13.12s/it]"
     ]
    },
    {
     "name": "stdout",
     "output_type": "stream",
     "text": [
      "\u001b[1m\u001b[32m\n",
      "--unknown--\n",
      "\u001b[0m\n",
      "{}\n"
     ]
    },
    {
     "name": "stderr",
     "output_type": "stream",
     "text": [
      "  4%|▍         | 50/1332 [31:44<4:32:24, 12.75s/it]"
     ]
    },
    {
     "name": "stdout",
     "output_type": "stream",
     "text": [
      "\u001b[1m\u001b[32m\n",
      "--CA--\n",
      "\u001b[0m\n",
      "{\n",
      "  \"Hautes-Laurentides\": \"CA\",\n",
      "  \"Québec\": \"CA\"\n",
      "}\n"
     ]
    },
    {
     "name": "stderr",
     "output_type": "stream",
     "text": [
      "  4%|▍         | 51/1332 [31:53<4:04:40, 11.46s/it]"
     ]
    },
    {
     "name": "stdout",
     "output_type": "stream",
     "text": [
      "\u001b[1m\u001b[32m\n",
      "--FR--\n",
      "\u001b[0m\n",
      "{\n",
      "  \"Poitou-Charentes\": \"FR\",\n",
      "  \"Pays de la Loire\": \"FR\"\n",
      "}\n"
     ]
    },
    {
     "name": "stderr",
     "output_type": "stream",
     "text": [
      "  4%|▍         | 52/1332 [32:33<7:06:29, 19.99s/it]"
     ]
    },
    {
     "name": "stdout",
     "output_type": "stream",
     "text": [
      "\u001b[1m\u001b[32m\n",
      "--FR--\n",
      "\u001b[0m\n",
      "{\n",
      "  \"La Vigneronne\": \"FR\",\n",
      "  \"Lozère\": \"FR\"\n",
      "}\n"
     ]
    },
    {
     "name": "stderr",
     "output_type": "stream",
     "text": [
      "  4%|▍         | 53/1332 [33:17<9:39:37, 27.19s/it]"
     ]
    },
    {
     "name": "stdout",
     "output_type": "stream",
     "text": [
      "\u001b[1m\u001b[32m\n",
      "--FR--\n",
      "\u001b[0m\n",
      "{\n",
      "  \"La Vigneronne\": \"FR\",\n",
      "  \"Lozère\": \"FR\"\n",
      "}\n"
     ]
    },
    {
     "name": "stderr",
     "output_type": "stream",
     "text": [
      "  4%|▍         | 54/1332 [33:19<6:58:59, 19.67s/it]"
     ]
    },
    {
     "name": "stdout",
     "output_type": "stream",
     "text": [
      "\u001b[1m\u001b[32m\n",
      "--unknown--\n",
      "\u001b[0m\n",
      "{}\n"
     ]
    },
    {
     "name": "stderr",
     "output_type": "stream",
     "text": [
      "  4%|▍         | 55/1332 [33:39<7:02:00, 19.83s/it]"
     ]
    },
    {
     "name": "stdout",
     "output_type": "stream",
     "text": [
      "\u001b[1m\u001b[32m\n",
      "--GB--\n",
      "\u001b[0m\n",
      "{\n",
      "  \"Ripon\": \"GB\"\n",
      "}\n"
     ]
    },
    {
     "name": "stderr",
     "output_type": "stream",
     "text": [
      "  4%|▍         | 56/1332 [33:53<6:24:56, 18.10s/it]"
     ]
    },
    {
     "name": "stdout",
     "output_type": "stream",
     "text": [
      "\u001b[1m\u001b[32m\n",
      "--FR--\n",
      "\u001b[0m\n",
      "{\n",
      "  \"À Lille\": \"DK\",\n",
      "  \"Montpellier\": \"FR\",\n",
      "  \"Paris\": \"FR\"\n",
      "}\n"
     ]
    },
    {
     "name": "stderr",
     "output_type": "stream",
     "text": [
      "  4%|▍         | 57/1332 [34:39<9:19:58, 26.35s/it]"
     ]
    },
    {
     "name": "stdout",
     "output_type": "stream",
     "text": [
      "\u001b[1m\u001b[32m\n",
      "--BJ--\n",
      "\u001b[0m\n",
      "{\n",
      "  \"département du Mono\": \"BJ\",\n",
      "  \"Lokossa\": \"BJ\",\n",
      "  \"Fongba\": \"BJ\",\n",
      "  \"Rwanda\": \"RW\",\n",
      "  \"Cameroun\": \"CM\",\n",
      "  \"Guinée Equatoriale\": \"GQ\",\n",
      "  \"Tchad\": \"TD\",\n",
      "  \"A\": \"AR\",\n",
      "  \"Afrique\": \"TD\",\n",
      "  \"Africaine\": \"CI\",\n",
      "  \"Gabon\": \"GA\",\n",
      "  \"Maroc\": \"MA\"\n",
      "}\n"
     ]
    },
    {
     "name": "stderr",
     "output_type": "stream",
     "text": [
      "  4%|▍         | 58/1332 [34:43<6:57:04, 19.64s/it]"
     ]
    },
    {
     "name": "stdout",
     "output_type": "stream",
     "text": [
      "\u001b[1m\u001b[32m\n",
      "--unknown--\n",
      "\u001b[0m\n",
      "{}\n"
     ]
    },
    {
     "name": "stderr",
     "output_type": "stream",
     "text": [
      "  4%|▍         | 59/1332 [34:52<5:49:54, 16.49s/it]"
     ]
    },
    {
     "name": "stdout",
     "output_type": "stream",
     "text": [
      "\u001b[1m\u001b[32m\n",
      "--unknown--\n",
      "\u001b[0m\n",
      "{}\n"
     ]
    },
    {
     "name": "stderr",
     "output_type": "stream",
     "text": [
      "  5%|▍         | 60/1332 [34:57<4:39:16, 13.17s/it]"
     ]
    },
    {
     "name": "stdout",
     "output_type": "stream",
     "text": [
      "\u001b[1m\u001b[32m\n",
      "--IR--\n",
      "\u001b[0m\n",
      "{\n",
      "  \"Iran\": \"IR\",\n",
      "  \"Américains\": \"FR\"\n",
      "}\n"
     ]
    },
    {
     "name": "stderr",
     "output_type": "stream",
     "text": [
      "  5%|▍         | 61/1332 [35:18<5:28:54, 15.53s/it]"
     ]
    },
    {
     "name": "stdout",
     "output_type": "stream",
     "text": [
      "\u001b[1m\u001b[32m\n",
      "--GB--\n",
      "\u001b[0m\n",
      "{\n",
      "  \"Ripon\": \"GB\"\n",
      "}\n"
     ]
    },
    {
     "name": "stderr",
     "output_type": "stream",
     "text": [
      "  5%|▍         | 62/1332 [35:24<4:25:25, 12.54s/it]"
     ]
    },
    {
     "name": "stdout",
     "output_type": "stream",
     "text": [
      "\u001b[1m\u001b[32m\n",
      "--unknown--\n",
      "\u001b[0m\n",
      "{}\n"
     ]
    },
    {
     "name": "stderr",
     "output_type": "stream",
     "text": [
      "  5%|▍         | 63/1332 [37:07<14:00:00, 39.72s/it]"
     ]
    },
    {
     "name": "stdout",
     "output_type": "stream",
     "text": [
      "\u001b[1m\u001b[32m\n",
      "--BE--\n",
      "\u001b[0m\n",
      "{\n",
      "  \"Épluchures\": \"BE\",\n",
      "  \"A+B\": \"DE\",\n",
      "  \"Lyon\": \"FR\"\n",
      "}\n"
     ]
    },
    {
     "name": "stderr",
     "output_type": "stream",
     "text": [
      "  5%|▍         | 64/1332 [37:50<14:23:10, 40.84s/it]"
     ]
    },
    {
     "name": "stdout",
     "output_type": "stream",
     "text": [
      "\u001b[1m\u001b[32m\n",
      "--FR--\n",
      "\u001b[0m\n",
      "{\n",
      "  \"La Vigneronne\": \"FR\",\n",
      "  \"Lozère\": \"FR\"\n",
      "}\n"
     ]
    },
    {
     "name": "stderr",
     "output_type": "stream",
     "text": [
      "  5%|▍         | 65/1332 [37:55<10:33:40, 30.01s/it]"
     ]
    },
    {
     "name": "stdout",
     "output_type": "stream",
     "text": [
      "\u001b[1m\u001b[32m\n",
      "--unknown--\n",
      "\u001b[0m\n",
      "{}\n"
     ]
    },
    {
     "name": "stderr",
     "output_type": "stream",
     "text": [
      "  5%|▍         | 66/1332 [38:06<8:34:16, 24.37s/it] "
     ]
    },
    {
     "name": "stdout",
     "output_type": "stream",
     "text": [
      "\u001b[1m\u001b[32m\n",
      "--FR--\n",
      "\u001b[0m\n",
      "{\n",
      "  \"Rosières\": \"FR\"\n",
      "}\n"
     ]
    },
    {
     "name": "stderr",
     "output_type": "stream",
     "text": [
      "  5%|▌         | 67/1332 [38:10<6:22:24, 18.14s/it]"
     ]
    },
    {
     "name": "stdout",
     "output_type": "stream",
     "text": [
      "\u001b[1m\u001b[32m\n",
      "--unknown--\n",
      "\u001b[0m\n",
      "{}\n"
     ]
    },
    {
     "name": "stderr",
     "output_type": "stream",
     "text": [
      "  5%|▌         | 68/1332 [38:12<4:38:51, 13.24s/it]"
     ]
    },
    {
     "name": "stdout",
     "output_type": "stream",
     "text": [
      "\u001b[1m\u001b[32m\n",
      "--unknown--\n",
      "\u001b[0m\n",
      "{}\n"
     ]
    },
    {
     "name": "stderr",
     "output_type": "stream",
     "text": [
      "  5%|▌         | 69/1332 [38:28<4:56:08, 14.07s/it]"
     ]
    },
    {
     "name": "stdout",
     "output_type": "stream",
     "text": [
      "\u001b[1m\u001b[32m\n",
      "--FR--\n",
      "\u001b[0m\n",
      "{\n",
      "  \"France\": \"FR\",\n",
      "  \"Massy\": \"FR\",\n",
      "  \"La Providence\": \"FR\"\n",
      "}\n"
     ]
    },
    {
     "name": "stderr",
     "output_type": "stream",
     "text": [
      "  5%|▌         | 70/1332 [38:44<5:09:36, 14.72s/it]"
     ]
    },
    {
     "name": "stdout",
     "output_type": "stream",
     "text": [
      "\u001b[1m\u001b[32m\n",
      "--FR--\n",
      "\u001b[0m\n",
      "{\n",
      "  \"Jardin de Balgan\": \"FR\",\n",
      "  \"Séné\": \"FR\",\n",
      "  \"Cette\": \"FR\"\n",
      "}\n"
     ]
    },
    {
     "name": "stderr",
     "output_type": "stream",
     "text": [
      "  5%|▌         | 71/1332 [38:47<3:53:04, 11.09s/it]"
     ]
    },
    {
     "name": "stdout",
     "output_type": "stream",
     "text": [
      "\u001b[1m\u001b[32m\n",
      "--unknown--\n",
      "\u001b[0m\n",
      "{}\n"
     ]
    },
    {
     "name": "stderr",
     "output_type": "stream",
     "text": [
      "  5%|▌         | 72/1332 [38:57<3:45:48, 10.75s/it]"
     ]
    },
    {
     "name": "stdout",
     "output_type": "stream",
     "text": [
      "\u001b[1m\u001b[32m\n",
      "--unknown--\n",
      "\u001b[0m\n",
      "{}\n"
     ]
    },
    {
     "name": "stderr",
     "output_type": "stream",
     "text": [
      "  5%|▌         | 73/1332 [38:59<2:52:12,  8.21s/it]"
     ]
    },
    {
     "name": "stdout",
     "output_type": "stream",
     "text": [
      "\u001b[1m\u001b[32m\n",
      "--unknown--\n",
      "\u001b[0m\n",
      "{}\n"
     ]
    },
    {
     "name": "stderr",
     "output_type": "stream",
     "text": [
      "  6%|▌         | 74/1332 [48:44<63:20:07, 181.25s/it]"
     ]
    },
    {
     "name": "stdout",
     "output_type": "stream",
     "text": [
      "\u001b[1m\u001b[32m\n",
      "--FR--\n",
      "\u001b[0m\n",
      "{\n",
      "  \"Bergouey\": \"FR\",\n",
      "  \"Pays basque\": \"ES\",\n",
      "  \"Autour\": \"IT\",\n",
      "  \"Sologne\": \"FR\",\n",
      "  \"A\": \"AR\",\n",
      "  \"Angus\": \"GB\",\n",
      "  \"France\": \"FR\",\n",
      "  \"Krebsbach\": \"RO\",\n",
      "  \"Sud\": \"HT\",\n",
      "  \"Haute-Loire\": \"FR\",\n",
      "  \"Auvergne\": \"CA\",\n",
      "  \"Brioude\": \"FR\",\n",
      "  \"Paris\": \"FR\",\n",
      "  \"Lindes\": \"FR\",\n",
      "  \"rue Guynemer\": \"FR\",\n",
      "  \"rue Beaubourg\": \"FR\",\n",
      "  \"Terre\": \"ET\",\n",
      "  \"Gilles\": \"FR\",\n",
      "  \"Les\": \"FR\",\n",
      "  \"Chaque\": \"GT\",\n",
      "  \"Bordeaux\": \"FR\",\n",
      "  \"Petit-fils\": \"FR\",\n",
      "  \"ferme Pauline\": \"BE\",\n",
      "  \"Bordeaux-Métropole\": \"FR\",\n",
      "  \"FUP\": \"IT\",\n",
      "  \"Mérignac\": \"FR\",\n",
      "  \"Et\": \"ET\",\n",
      "  \"Bachats\": \"FR\",\n",
      "  \"Moselle\": \"FR\",\n",
      "  \"MSV\": \"US\",\n",
      "  \"Cagnolle\": \"FR\",\n",
      "  \"Cette\": \"FR\",\n",
      "  \"ferme de Cagnolle\": \"FR\",\n",
      "  \"Belvès\": \"FR\",\n",
      "  \"Périgord\": \"FR\",\n",
      "  \"Ille-et-Vilaine\": \"FR\",\n",
      "  \"Rennes\": \"FR\",\n",
      "  \"Champ de céréales\": \"FR\",\n",
      "  \"Vosges\": \"FR\",\n",
      "  \"Allemagne\": \"DE\",\n",
      "  \"Champs de Bray\": \"FR\",\n",
      "  \"Limousin\": \"FR\",\n",
      "  \"Haute-Saône\": \"FR\",\n",
      "  \"Hongrie\": \"HU\",\n",
      "  \"L’éleveur\": \"FR\",\n",
      "  \"Côte d’Or\": \"FR\",\n",
      "  \"Bourgogne\": \"FR\",\n",
      "  \"Lignières\": \"FR\",\n",
      "  \"Côtes d'Armor\": \"FR\",\n",
      "  \"Kroaz Min\": \"FR\",\n",
      "  \"Aubrac\": \"FR\",\n",
      "  \"Camargue\": \"FR\",\n",
      "  \"Canard des Rizières\": \"FR\",\n",
      "  \"région Centre Atlantique\": \"BF\",\n",
      "  \"Vendée\": \"FR\",\n",
      "  \"de France\": \"FR\",\n",
      "  \"Crau\": \"FR\",\n",
      "  \"d’Arles\": \"FR\"\n",
      "}\n"
     ]
    },
    {
     "name": "stderr",
     "output_type": "stream",
     "text": [
      "  6%|▌         | 75/1332 [48:46<44:33:34, 127.62s/it]"
     ]
    },
    {
     "name": "stdout",
     "output_type": "stream",
     "text": [
      "\u001b[1m\u001b[32m\n",
      "--unknown--\n",
      "\u001b[0m\n",
      "{}\n"
     ]
    },
    {
     "name": "stderr",
     "output_type": "stream",
     "text": [
      "  6%|▌         | 76/1332 [48:57<32:17:12, 92.54s/it] "
     ]
    },
    {
     "name": "stdout",
     "output_type": "stream",
     "text": [
      "\u001b[1m\u001b[32m\n",
      "--CA--\n",
      "\u001b[0m\n",
      "{\n",
      "  \"Hautes-Laurentides\": \"CA\",\n",
      "  \"Québec\": \"CA\"\n",
      "}\n"
     ]
    },
    {
     "name": "stderr",
     "output_type": "stream",
     "text": [
      "  6%|▌         | 77/1332 [49:04<23:20:33, 66.96s/it]"
     ]
    },
    {
     "name": "stdout",
     "output_type": "stream",
     "text": [
      "\u001b[1m\u001b[32m\n",
      "--IT--\n",
      "\u001b[0m\n",
      "{\n",
      "  \"Serre\": \"IT\"\n",
      "}\n"
     ]
    },
    {
     "name": "stderr",
     "output_type": "stream",
     "text": [
      "  6%|▌         | 78/1332 [49:10<16:57:12, 48.67s/it]"
     ]
    },
    {
     "name": "stdout",
     "output_type": "stream",
     "text": [
      "\u001b[1m\u001b[32m\n",
      "--US--\n",
      "\u001b[0m\n",
      "{\n",
      "  \"la France\": \"US\"\n",
      "}\n"
     ]
    },
    {
     "name": "stderr",
     "output_type": "stream",
     "text": [
      "  6%|▌         | 79/1332 [49:12<12:00:09, 34.48s/it]"
     ]
    },
    {
     "name": "stdout",
     "output_type": "stream",
     "text": [
      "\u001b[1m\u001b[32m\n",
      "--unknown--\n",
      "\u001b[0m\n",
      "{}\n"
     ]
    },
    {
     "name": "stderr",
     "output_type": "stream",
     "text": [
      "  6%|▌         | 80/1332 [49:18<9:00:30, 25.90s/it] "
     ]
    },
    {
     "name": "stdout",
     "output_type": "stream",
     "text": [
      "\u001b[1m\u001b[32m\n",
      "--FR--\n",
      "\u001b[0m\n",
      "{\n",
      "  \"Finistère\": \"FR\",\n",
      "  \"Côtes-d'Armor\": \"FR\",\n",
      "  \"Morbihan\": \"FR\"\n",
      "}\n"
     ]
    },
    {
     "name": "stderr",
     "output_type": "stream",
     "text": [
      "  6%|▌         | 81/1332 [49:18<6:20:52, 18.27s/it]"
     ]
    },
    {
     "name": "stdout",
     "output_type": "stream",
     "text": [
      "\u001b[1m\u001b[32m\n",
      "--unknown--\n",
      "\u001b[0m\n",
      "{}\n"
     ]
    },
    {
     "name": "stderr",
     "output_type": "stream",
     "text": [
      "  6%|▌         | 82/1332 [49:19<4:34:51, 13.19s/it]"
     ]
    },
    {
     "name": "stdout",
     "output_type": "stream",
     "text": [
      "\u001b[1m\u001b[32m\n",
      "--unknown--\n",
      "\u001b[0m\n",
      "{}\n"
     ]
    },
    {
     "name": "stderr",
     "output_type": "stream",
     "text": [
      "  6%|▌         | 83/1332 [50:15<8:58:41, 25.88s/it]"
     ]
    },
    {
     "name": "stdout",
     "output_type": "stream",
     "text": [
      "\u001b[1m\u001b[32m\n",
      "--BE--\n",
      "\u001b[0m\n",
      "{\n",
      "  \"Belgique\": \"BE\",\n",
      "  \"Wallonie\": \"BE\",\n",
      "  \"Quevaucamps\": \"BE\",\n",
      "  \"Parc naturel des Plaines de l'Escaut\": \"BE\",\n",
      "  \"Parc naturel du Pays des collines\": \"BE\"\n",
      "}\n"
     ]
    },
    {
     "name": "stderr",
     "output_type": "stream",
     "text": [
      "  6%|▋         | 84/1332 [50:18<6:33:30, 18.92s/it]"
     ]
    },
    {
     "name": "stdout",
     "output_type": "stream",
     "text": [
      "\u001b[1m\u001b[32m\n",
      "--unknown--\n",
      "\u001b[0m\n",
      "{}\n"
     ]
    },
    {
     "name": "stderr",
     "output_type": "stream",
     "text": [
      "  6%|▋         | 85/1332 [50:28<5:37:44, 16.25s/it]"
     ]
    },
    {
     "name": "stdout",
     "output_type": "stream",
     "text": [
      "\u001b[1m\u001b[32m\n",
      "--GR--\n",
      "\u001b[0m\n",
      "{\n",
      "  \"Fourni\": \"GR\"\n",
      "}\n"
     ]
    },
    {
     "name": "stderr",
     "output_type": "stream",
     "text": [
      "  6%|▋         | 86/1332 [50:30<4:14:17, 12.24s/it]"
     ]
    },
    {
     "name": "stdout",
     "output_type": "stream",
     "text": [
      "\u001b[1m\u001b[32m\n",
      "--unknown--\n",
      "\u001b[0m\n",
      "{}\n"
     ]
    },
    {
     "name": "stderr",
     "output_type": "stream",
     "text": [
      "  7%|▋         | 87/1332 [50:31<3:00:49,  8.71s/it]"
     ]
    },
    {
     "name": "stdout",
     "output_type": "stream",
     "text": [
      "\u001b[1m\u001b[32m\n",
      "--unknown--\n",
      "\u001b[0m\n",
      "{}\n"
     ]
    },
    {
     "name": "stderr",
     "output_type": "stream",
     "text": [
      "  7%|▋         | 88/1332 [50:32<2:10:48,  6.31s/it]"
     ]
    },
    {
     "name": "stdout",
     "output_type": "stream",
     "text": [
      "\u001b[1m\u001b[32m\n",
      "--unknown--\n",
      "\u001b[0m\n",
      "{}\n"
     ]
    },
    {
     "name": "stderr",
     "output_type": "stream",
     "text": [
      "  7%|▋         | 89/1332 [50:34<1:43:13,  4.98s/it]"
     ]
    },
    {
     "name": "stdout",
     "output_type": "stream",
     "text": [
      "\u001b[1m\u001b[32m\n",
      "--FR--\n",
      "\u001b[0m\n",
      "{\n",
      "  \"Périgord\": \"FR\"\n",
      "}\n"
     ]
    },
    {
     "name": "stderr",
     "output_type": "stream",
     "text": [
      "  7%|▋         | 90/1332 [50:47<2:38:56,  7.68s/it]"
     ]
    },
    {
     "name": "stdout",
     "output_type": "stream",
     "text": [
      "\u001b[1m\u001b[32m\n",
      "--US--\n",
      "\u001b[0m\n",
      "{\n",
      "  \"Green Valley\": \"US\",\n",
      "  \"Don\": \"RU\",\n",
      "  \"Le Chou\": \"FR\"\n",
      "}\n"
     ]
    },
    {
     "name": "stderr",
     "output_type": "stream",
     "text": [
      "  7%|▋         | 91/1332 [50:48<1:56:59,  5.66s/it]"
     ]
    },
    {
     "name": "stdout",
     "output_type": "stream",
     "text": [
      "\u001b[1m\u001b[32m\n",
      "--unknown--\n",
      "\u001b[0m\n",
      "{}\n"
     ]
    },
    {
     "name": "stderr",
     "output_type": "stream",
     "text": [
      "  7%|▋         | 92/1332 [50:49<1:27:47,  4.25s/it]"
     ]
    },
    {
     "name": "stdout",
     "output_type": "stream",
     "text": [
      "\u001b[1m\u001b[32m\n",
      "--unknown--\n",
      "\u001b[0m\n",
      "{}\n"
     ]
    },
    {
     "name": "stderr",
     "output_type": "stream",
     "text": [
      "  7%|▋         | 93/1332 [50:50<1:06:06,  3.20s/it]"
     ]
    },
    {
     "name": "stdout",
     "output_type": "stream",
     "text": [
      "\u001b[1m\u001b[32m\n",
      "--unknown--\n",
      "\u001b[0m\n",
      "{}\n"
     ]
    },
    {
     "name": "stderr",
     "output_type": "stream",
     "text": [
      "  7%|▋         | 94/1332 [50:52<55:00,  2.67s/it]  "
     ]
    },
    {
     "name": "stdout",
     "output_type": "stream",
     "text": [
      "\u001b[1m\u001b[32m\n",
      "--unknown--\n",
      "\u001b[0m\n",
      "{}\n"
     ]
    },
    {
     "name": "stderr",
     "output_type": "stream",
     "text": [
      "  7%|▋         | 95/1332 [50:53<50:20,  2.44s/it]"
     ]
    },
    {
     "name": "stdout",
     "output_type": "stream",
     "text": [
      "\u001b[1m\u001b[32m\n",
      "--unknown--\n",
      "\u001b[0m\n",
      "{}\n"
     ]
    },
    {
     "name": "stderr",
     "output_type": "stream",
     "text": [
      "  7%|▋         | 96/1332 [50:56<51:24,  2.50s/it]"
     ]
    },
    {
     "name": "stdout",
     "output_type": "stream",
     "text": [
      "\u001b[1m\u001b[32m\n",
      "--unknown--\n",
      "\u001b[0m\n",
      "{}\n"
     ]
    },
    {
     "name": "stderr",
     "output_type": "stream",
     "text": [
      "  7%|▋         | 97/1332 [50:57<39:14,  1.91s/it]"
     ]
    },
    {
     "name": "stdout",
     "output_type": "stream",
     "text": [
      "\u001b[1m\u001b[32m\n",
      "--unknown--\n",
      "\u001b[0m\n",
      "{}\n"
     ]
    },
    {
     "name": "stderr",
     "output_type": "stream",
     "text": [
      "  7%|▋         | 98/1332 [50:58<34:40,  1.69s/it]"
     ]
    },
    {
     "name": "stdout",
     "output_type": "stream",
     "text": [
      "\u001b[1m\u001b[32m\n",
      "--unknown--\n",
      "\u001b[0m\n",
      "{}\n"
     ]
    },
    {
     "name": "stderr",
     "output_type": "stream",
     "text": [
      "  7%|▋         | 99/1332 [51:05<1:09:22,  3.38s/it]"
     ]
    },
    {
     "name": "stdout",
     "output_type": "stream",
     "text": [
      "\u001b[1m\u001b[32m\n",
      "--unknown--\n",
      "\u001b[0m\n",
      "{}\n"
     ]
    },
    {
     "name": "stderr",
     "output_type": "stream",
     "text": [
      "  8%|▊         | 100/1332 [51:33<3:37:37, 10.60s/it]"
     ]
    },
    {
     "name": "stdout",
     "output_type": "stream",
     "text": [
      "\u001b[1m\u001b[32m\n",
      "--CI--\n",
      "\u001b[0m\n",
      "{\n",
      "  \"100% AUTONOME EN EAU\": \"CI\"\n",
      "}\n"
     ]
    },
    {
     "name": "stderr",
     "output_type": "stream",
     "text": [
      "  8%|▊         | 101/1332 [51:33<2:35:32,  7.58s/it]"
     ]
    },
    {
     "name": "stdout",
     "output_type": "stream",
     "text": [
      "\u001b[1m\u001b[32m\n",
      "--unknown--\n",
      "\u001b[0m\n",
      "{}\n"
     ]
    },
    {
     "name": "stderr",
     "output_type": "stream",
     "text": [
      "  8%|▊         | 102/1332 [51:35<1:59:43,  5.84s/it]"
     ]
    },
    {
     "name": "stdout",
     "output_type": "stream",
     "text": [
      "\u001b[1m\u001b[32m\n",
      "--unknown--\n",
      "\u001b[0m\n",
      "{}\n"
     ]
    },
    {
     "name": "stderr",
     "output_type": "stream",
     "text": [
      "  8%|▊         | 103/1332 [51:39<1:46:59,  5.22s/it]"
     ]
    },
    {
     "name": "stdout",
     "output_type": "stream",
     "text": [
      "\u001b[1m\u001b[32m\n",
      "--FR--\n",
      "\u001b[0m\n",
      "{\n",
      "  \"Pourgues\": \"FR\"\n",
      "}\n"
     ]
    },
    {
     "name": "stderr",
     "output_type": "stream",
     "text": [
      "  8%|▊         | 104/1332 [51:44<1:48:19,  5.29s/it]"
     ]
    },
    {
     "name": "stdout",
     "output_type": "stream",
     "text": [
      "\u001b[1m\u001b[32m\n",
      "--unknown--\n",
      "\u001b[0m\n",
      "{}\n"
     ]
    },
    {
     "name": "stderr",
     "output_type": "stream",
     "text": [
      "  8%|▊         | 105/1332 [51:48<1:39:14,  4.85s/it]"
     ]
    },
    {
     "name": "stdout",
     "output_type": "stream",
     "text": [
      "\u001b[1m\u001b[32m\n",
      "--unknown--\n",
      "\u001b[0m\n",
      "{}\n"
     ]
    },
    {
     "name": "stderr",
     "output_type": "stream",
     "text": [
      "  8%|▊         | 106/1332 [51:57<2:04:00,  6.07s/it]"
     ]
    },
    {
     "name": "stdout",
     "output_type": "stream",
     "text": [
      "\u001b[1m\u001b[32m\n",
      "--unknown--\n",
      "\u001b[0m\n",
      "{}\n"
     ]
    },
    {
     "name": "stderr",
     "output_type": "stream",
     "text": [
      "  8%|▊         | 107/1332 [52:39<5:43:37, 16.83s/it]"
     ]
    },
    {
     "name": "stdout",
     "output_type": "stream",
     "text": [
      "\u001b[1m\u001b[32m\n",
      "--CA--\n",
      "\u001b[0m\n",
      "{\n",
      "  \"Auvergne\": \"CA\",\n",
      "  \"la France\": \"US\"\n",
      "}\n"
     ]
    },
    {
     "name": "stderr",
     "output_type": "stream",
     "text": [
      "  8%|▊         | 108/1332 [52:57<5:53:43, 17.34s/it]"
     ]
    },
    {
     "name": "stdout",
     "output_type": "stream",
     "text": [
      "\u001b[1m\u001b[32m\n",
      "--unknown--\n",
      "\u001b[0m\n",
      "{}\n"
     ]
    },
    {
     "name": "stderr",
     "output_type": "stream",
     "text": [
      "  8%|▊         | 108/1332 [53:48<10:09:55, 29.90s/it]\n"
     ]
    },
    {
     "ename": "KeyboardInterrupt",
     "evalue": "",
     "output_type": "error",
     "traceback": [
      "\u001b[1;31m---------------------------------------------------------------------------\u001b[0m",
      "\u001b[1;31mKeyboardInterrupt\u001b[0m                         Traceback (most recent call last)",
      "Cell \u001b[1;32mIn[3], line 1\u001b[0m\n\u001b[1;32m----> 1\u001b[0m \u001b[43mRefineLanguage3\u001b[49m\u001b[43m(\u001b[49m\u001b[43m)\u001b[49m\n",
      "File \u001b[1;32mc:\\Users\\hp\\AgroTube\\filtering\\scripts\\utils.py:160\u001b[0m, in \u001b[0;36mRefineLanguage3\u001b[1;34m()\u001b[0m\n\u001b[0;32m    157\u001b[0m tempsave \u001b[38;5;241m=\u001b[39m \u001b[38;5;241m0\u001b[39m \u001b[38;5;66;03m# For safety reason,in case the loop is breaked a temporary save is executed.\u001b[39;00m\n\u001b[0;32m    159\u001b[0m \u001b[38;5;28;01mfor\u001b[39;00m videofr \u001b[38;5;129;01min\u001b[39;00m tqdm(videosfrR3):\n\u001b[1;32m--> 160\u001b[0m     country,locations \u001b[38;5;241m=\u001b[39m \u001b[43mgetCountry\u001b[49m\u001b[43m(\u001b[49m\u001b[43mvideofr\u001b[49m\u001b[43m[\u001b[49m\u001b[38;5;124;43m'\u001b[39;49m\u001b[38;5;124;43mcontext\u001b[39;49m\u001b[38;5;124;43m'\u001b[39;49m\u001b[43m]\u001b[49m\u001b[43m)\u001b[49m\n\u001b[0;32m    161\u001b[0m     videofr[\u001b[38;5;124m'\u001b[39m\u001b[38;5;124mcountry\u001b[39m\u001b[38;5;124m'\u001b[39m] \u001b[38;5;241m=\u001b[39m country\n\u001b[0;32m    162\u001b[0m     videofr[\u001b[38;5;124m'\u001b[39m\u001b[38;5;124mfinded_locations\u001b[39m\u001b[38;5;124m'\u001b[39m] \u001b[38;5;241m=\u001b[39m locations\n",
      "File \u001b[1;32mc:\\Users\\hp\\AgroTube\\filtering\\scripts\\utils.py:142\u001b[0m, in \u001b[0;36mgetCountry\u001b[1;34m(text)\u001b[0m\n\u001b[0;32m    140\u001b[0m         country_codes[code] \u001b[38;5;241m+\u001b[39m\u001b[38;5;241m=\u001b[39m \u001b[38;5;241m1\u001b[39m\n\u001b[0;32m    141\u001b[0m         entities_countries[entity\u001b[38;5;241m.\u001b[39mtext] \u001b[38;5;241m=\u001b[39m code\n\u001b[1;32m--> 142\u001b[0m     \u001b[43mtime\u001b[49m\u001b[38;5;241;43m.\u001b[39;49m\u001b[43msleep\u001b[49m\u001b[43m(\u001b[49m\u001b[38;5;241;43m1\u001b[39;49m\u001b[43m)\u001b[49m  \u001b[38;5;66;03m# respecter la limite Nominatim\u001b[39;00m\n\u001b[0;32m    143\u001b[0m \u001b[38;5;28;01mexcept\u001b[39;00m GeocoderTimedOut:\n\u001b[0;32m    144\u001b[0m     \u001b[38;5;28;01mcontinue\u001b[39;00m\n",
      "\u001b[1;31mKeyboardInterrupt\u001b[0m: "
     ]
    }
   ],
   "source": [
    "RefineLanguage3()"
   ]
  },
  {
   "cell_type": "code",
   "execution_count": null,
   "id": "ea039f04",
   "metadata": {},
   "outputs": [],
   "source": []
  },
  {
   "cell_type": "code",
   "execution_count": null,
   "id": "444ec9a1",
   "metadata": {},
   "outputs": [],
   "source": [
    "from dotenv import load_dotenv\n",
    "import os\n",
    "from huggingface_hub import login\n",
    "\n",
    "load_dotenv()\n",
    "login(os.getenv(\"HUGG_TOKEN\"))\n"
   ]
  },
  {
   "cell_type": "code",
   "execution_count": null,
   "id": "35e814e2",
   "metadata": {},
   "outputs": [],
   "source": [
    "from tqdm import tqdm\n",
    "from flair.models import SequenceTagger\n",
    "from flair.data import Sentence\n",
    "\n",
    "# Enable tqdm progress bar explicitly\n",
    "tagger = SequenceTagger.load(\"flair/ner-french\")\n"
   ]
  },
  {
   "cell_type": "code",
   "execution_count": null,
   "id": "5aabb25e",
   "metadata": {},
   "outputs": [],
   "source": [
    "text = \"\"\"\n",
    "Le bio de la chaine : \\n \\n        \\n###############\\n        \\nDescription : Hello ! Aujourd’hui Bruno nous invite à questionner l'usage que faisons de notre habitat et nous propose de réduire nos surfaces de vie tout en gardant notre confort, de construire notre maison sans faire de prêt bancaire sur 20 ans. Et si on voyait dans le fait de construire notre maison plus qu'un défi, un cheminement, une expérience humaine, un accomplissement ?\\nDécouvrez la construction d’un habitat autonome avec une structure bois, isolation paille, enduit terre de 24m2 avec cuisine, séjour, chambre et salle de bain pour 5000€ ! \\nPrenez bien soin de vous.  \\nJe vous embrasse, \\n\\nA bientôt 🌸 \\n\\nSarah \\n\\n\\n\\nLe site internet d’Alter’éco 30 : https://bit.ly/37pw1uj \\n\\n#OurInnerTravels #Autonomie #Habitat #Maison #HabitatAutonome #Ecologie \\n\\n\\nRetrouve moi aussi sur : \\n🎙PODCAST : https://anchor.fm/our-inner-travels\\n\\n📸 I N S T A G R A M : https://instagram.com/ourinnertravels \\n✍️ B L O G : https://ourinnertravels.com \\n📸 FACEBOOK : https://www.facebook.com/OurInnerTravels \\n💕 Abonne-toi à la chaine : https://bit.ly/2PUxikr \\n💌 Me Contacter 💌: contact@ourinnertravels.com\\n        \\n        \\n###############\\n        \\nDescription : Hello, Aujourd’hui je vous retrouve dans la première partie d’une série de 5 entretiens avec Bruno sur le thème : L’écologie et l’alternativité comme invitation à trouver un sens à la vie.\\nPartie 1 : Echovert, la construction d’un lieu alternatif, autonome et écologique\\nPartie 2 : Vivre de façon alternative, les joies\\nPartie 3 : Vivre de façon alternative, les défis \\nPartie 4 : L’écologie, une invitation à trouver un sens à la vie\\nPartie 5 : Les 3 kiffs de Bruno\\n\\nVous préférez écouter la vidéo sous format podcast ? C'est ici : https://bit.ly/3gmy5ZF\\n\\nEn octobre, de retour de voyage la réadaptation à la vie parisienne est difficile, est-ce peut-être car je n’ai pas envie de me réadapter, que je n’y vois plus de sens ? Je pars donc en Camargue, à une demi-heure de Nîmes et passe un mois dans un éco-lieu à la recherche de sens, de rencontres, de personnes qui partagent mes idées et mes aspirations. Bruno et Anne ont créé ce lieu de vie alternatif où naissent inventions respectueuses de l’environnement et expérimentations d’outils pour l’autonomie alimentaire et énergétique. Avec Bruno, on a commencé par parler de ce lieu de vie alternatif et de ce qu’implique le fait de vivre en communauté. On s’est aussi demander comment se reconnecter à soi et aux autres dans un monde qui semble parfois déconnecté du réel. Au fil de nos paroles, on en est finalement venu à se questionner sur le sens de la vie, et en quoi le fait de cultiver son écologie intérieure est peut-être la première forme d’engagement écologique à avoir. Aujourd’hui je vous propose de partir en voyage intérieur grâce à Bruno. L’écologie et l’alternativité comme invitation à trouver un sens à la vie.\\n\\nA bientôt 🌸 \\n\\nSarah \\n\\nLe site internet d’Alter’éco 30 : https://bit.ly/37pw1uj \\n\\nRetrouve moi aussi sur : \\n🎙PODCAST : https://anchor.fm/our-inner-travels\\n📸 I N S T A G R A M : https://instagram.com/ourinnertravels \\n✍️ B L O G : https://ourinnertravels.com \\n📸 FACEBOOK : https://www.facebook.com/OurInnerTravels \\n💕 Abonne-toi à la chaine : https://bit.ly/2PUxikr \\n💌 Me Contacter 💌: contact@ourinnertravels.com\\n        \\n        \\n###############\\n\\n        titre : Habitat autonome et autoconstruction\\n        \\n        \\n###############\\n\\n        titre : PARLONS #2 - 1 : Echovert, la construction d’un lieu alternatif, autonome et écologique - Bruno\\n       \n",
    "\"\"\"\n",
    "sentence = Sentence(text)\n",
    "tagger.predict(sentence)\n",
    "\n",
    "for entity in sentence.get_spans('ner'):\n",
    "    label = entity.get_label(\"ner\")\n",
    "    if label.value == \"LOC\" and label.score >= 0.7:\n",
    "        entity_text = entity.text\n",
    "        entity_label = label.value\n",
    "        entity_score = label.score\n",
    "        print(\"Text:\", entity_text)\n",
    "        print(\"Label:\", entity_label)\n",
    "        print(\"Score:\", entity_score)"
   ]
  },
  {
   "cell_type": "code",
   "execution_count": null,
   "metadata": {},
   "outputs": [],
   "source": [
    "from geopy.geocoders import Nominatim\n",
    "\n",
    "geolocator = Nominatim(user_agent=\"geoapi\")\n",
    "location = geolocator.geocode(\"FAcebook\", language='fr', addressdetails=True, timeout=10)\n",
    "location"
   ]
  },
  {
   "cell_type": "markdown",
   "id": "b2a38097",
   "metadata": {},
   "source": [
    "## Filtering 1"
   ]
  },
  {
   "cell_type": "markdown",
   "id": "88ae9f21",
   "metadata": {},
   "source": [
    "- Remove fr-autre,autre\n",
    "- keep only fr and fr-FR , a big amount of fr are for france.\n",
    "- obtain the localisation of a channel if it's not providled by youtube api can be complexe because you can't find it anywhere."
   ]
  },
  {
   "cell_type": "code",
   "execution_count": null,
   "metadata": {},
   "outputs": [],
   "source": []
  },
  {
   "cell_type": "code",
   "execution_count": null,
   "metadata": {},
   "outputs": [],
   "source": []
  },
  {
   "cell_type": "code",
   "execution_count": null,
   "metadata": {},
   "outputs": [],
   "source": []
  },
  {
   "cell_type": "code",
   "execution_count": null,
   "metadata": {},
   "outputs": [],
   "source": []
  },
  {
   "cell_type": "code",
   "execution_count": null,
   "id": "16256aec",
   "metadata": {},
   "outputs": [],
   "source": []
  },
  {
   "cell_type": "code",
   "execution_count": null,
   "id": "e5189d28",
   "metadata": {},
   "outputs": [],
   "source": []
  },
  {
   "cell_type": "code",
   "execution_count": null,
   "id": "8d430df4",
   "metadata": {},
   "outputs": [],
   "source": []
  },
  {
   "cell_type": "code",
   "execution_count": null,
   "metadata": {},
   "outputs": [],
   "source": []
  },
  {
   "cell_type": "code",
   "execution_count": null,
   "id": "b27df94d",
   "metadata": {},
   "outputs": [],
   "source": []
  },
  {
   "cell_type": "code",
   "execution_count": null,
   "metadata": {},
   "outputs": [],
   "source": []
  },
  {
   "cell_type": "code",
   "execution_count": null,
   "id": "66616ae9",
   "metadata": {},
   "outputs": [],
   "source": []
  }
 ],
 "metadata": {
  "kernelspec": {
   "display_name": ".venv",
   "language": "python",
   "name": "python3"
  },
  "language_info": {
   "codemirror_mode": {
    "name": "ipython",
    "version": 3
   },
   "file_extension": ".py",
   "mimetype": "text/x-python",
   "name": "python",
   "nbconvert_exporter": "python",
   "pygments_lexer": "ipython3",
   "version": "3.10.16"
  }
 },
 "nbformat": 4,
 "nbformat_minor": 5
}
