{
 "cells": [
  {
   "cell_type": "code",
   "execution_count": 1,
   "id": "9248737e",
   "metadata": {},
   "outputs": [
    {
     "data": {
      "text/plain": [
       "True"
      ]
     },
     "execution_count": 1,
     "metadata": {},
     "output_type": "execute_result"
    }
   ],
   "source": [
    "from collections import Counter\n",
    "from tqdm import tqdm \n",
    "from colorama import Style,Fore\n",
    "import os\n",
    "from dotenv import load_dotenv\n",
    "import json\n",
    "import time\n",
    "load_dotenv()"
   ]
  },
  {
   "cell_type": "code",
   "execution_count": 2,
   "id": "90821ff3",
   "metadata": {},
   "outputs": [],
   "source": [
    "def openJson(path):\n",
    "    with open(path, \"r\", encoding=\"utf-8\") as file:\n",
    "        data = json.load(file)\n",
    "    return data\n",
    "\n",
    "def saveJson(path,data):\n",
    "    with open(path, \"w\", encoding=\"utf-8\") as f:\n",
    "       json.dump(data, f, ensure_ascii=False, indent=2)\n",
    "       print(Style.BRIGHT+Fore.GREEN+'\\n json saved'+Style.RESET_ALL)"
   ]
  },
  {
   "cell_type": "markdown",
   "id": "ba886796",
   "metadata": {},
   "source": [
    "# Commentaires"
   ]
  },
  {
   "cell_type": "code",
   "execution_count": 3,
   "id": "7ea6a4a0",
   "metadata": {},
   "outputs": [
    {
     "name": "stdout",
     "output_type": "stream",
     "text": [
      "Auteur: @AntoineLePotagiste | Channel ID: UCVQeGg4Fdrrr8vDXa7yjOYg\n",
      "Auteur: @depressifcomique6509 | Channel ID: UCayhwoDPKufUKayBa2ZLLSQ\n",
      "Auteur: @lucquiaudpatricia3325 | Channel ID: UCOfC6DKbuyxDX-fu2WL5jHQ\n",
      "Auteur: @92102Michelle | Channel ID: UCvcrB6N8nuw1q__boI80kfQ\n",
      "Auteur: @organjaune | Channel ID: UCa5bsuN9PwiS2hje6vq44kA\n",
      "Auteur: @Trauma4You | Channel ID: UCMAWhpp392kaAgAYPO2bQeA\n",
      "Auteur: @christellefoucaud8238 | Channel ID: UCVK0LmY0u6cPus3n4gJp6sA\n",
      "Auteur: @sophielecuyer4228 | Channel ID: UCrhIYSJdJCltjY8zO9Qg0ww\n",
      "Auteur: @audefarmer4353 | Channel ID: UCj2BotCwEBwqTObySmk46bA\n",
      "Auteur: @laurentbunnik | Channel ID: UCyWNISyGpWufLeQnNHJxbdQ\n",
      "Auteur: @thesorceleuse1933 | Channel ID: UChGvX1C3B2l3_dJovN7B3Jg\n",
      "Auteur: @nathalieduthoit6715 | Channel ID: UCgTF2igirNT5FOLYG68WGTQ\n",
      "Auteur: @jonathanfaucheux48 | Channel ID: UCxpPRVRmfIPDkFbLSlHXV-A\n"
     ]
    }
   ],
   "source": [
    "from googleapiclient.discovery import build\n",
    "\n",
    "api_key = os.getenv(\"YOUTUBE_API_KEY1\")\n",
    "youtube = build('youtube', 'v3', developerKey=api_key)\n",
    "\n",
    "response = youtube.commentThreads().list(\n",
    "    part='snippet',\n",
    "    videoId='x1LJliVdNqo',\n",
    "    maxResults=100\n",
    ").execute()\n",
    "for item in response['items']:\n",
    "    comment = item['snippet']['topLevelComment']['snippet']\n",
    "    author_name = comment['authorDisplayName']\n",
    "    author_channel_id = comment['authorChannelId']['value']\n",
    "    print(f\"Auteur: {author_name} | Channel ID: {author_channel_id}\")\n"
   ]
  },
  {
   "cell_type": "markdown",
   "id": "433656aa",
   "metadata": {},
   "source": [
    "# Détermination des tailles des propriétés"
   ]
  },
  {
   "cell_type": "code",
   "execution_count": 3,
   "id": "92076be4",
   "metadata": {},
   "outputs": [],
   "source": [
    "def stats_longueurs(liste):\n",
    "    longueurs = [len(chaine) for chaine in liste]\n",
    "    print(\"Max:\", max(longueurs))\n",
    "    print(\"Min:\", min(longueurs))\n",
    "    print(\"Moyenne:\", sum(longueurs) / len(longueurs))\n"
   ]
  },
  {
   "cell_type": "code",
   "execution_count": 4,
   "metadata": {},
   "outputs": [
    {
     "data": {
      "text/plain": [
       "1836"
      ]
     },
     "execution_count": 4,
     "metadata": {},
     "output_type": "execute_result"
    }
   ],
   "source": [
    "channelsF2 = openJson(\"../filtering/channels/jsons/channelsF2.json\")\n",
    "len(channelsF2)"
   ]
  },
  {
   "cell_type": "code",
   "execution_count": 6,
   "id": "9d1d906c",
   "metadata": {},
   "outputs": [
    {
     "name": "stdout",
     "output_type": "stream",
     "text": [
      "Max: 2\n",
      "Min: 2\n",
      "Moyenne: 2.0\n"
     ]
    }
   ],
   "source": [
    "liste = [channel['localisation'] for channel in channelsF2]\n",
    "stats_longueurs(liste)"
   ]
  },
  {
   "cell_type": "code",
   "execution_count": 12,
   "id": "153fa1b1",
   "metadata": {},
   "outputs": [
    {
     "data": {
      "text/plain": [
       "11"
      ]
     },
     "execution_count": 12,
     "metadata": {},
     "output_type": "execute_result"
    }
   ],
   "source": [
    "len(\"Description\")"
   ]
  },
  {
   "cell_type": "code",
   "execution_count": 14,
   "id": "8629e5a9",
   "metadata": {},
   "outputs": [
    {
     "data": {
      "text/plain": [
       "3052"
      ]
     },
     "execution_count": 14,
     "metadata": {},
     "output_type": "execute_result"
    }
   ],
   "source": [
    "videosF3 = openJson(\"../filtering/videos/jsons/videosF3.json\")\n",
    "len(videosF3)"
   ]
  },
  {
   "cell_type": "code",
   "execution_count": 24,
   "metadata": {},
   "outputs": [
    {
     "name": "stdout",
     "output_type": "stream",
     "text": [
      "Max: 104\n",
      "Min: 6\n",
      "Moyenne: 61.54292267365662\n"
     ]
    }
   ],
   "source": [
    "liste = [video['titre_video'] for video in videosF3]\n",
    "stats_longueurs(liste)"
   ]
  },
  {
   "cell_type": "code",
   "execution_count": null,
   "id": "651f6099",
   "metadata": {},
   "outputs": [],
   "source": []
  }
 ],
 "metadata": {
  "kernelspec": {
   "display_name": ".venv",
   "language": "python",
   "name": "python3"
  },
  "language_info": {
   "codemirror_mode": {
    "name": "ipython",
    "version": 3
   },
   "file_extension": ".py",
   "mimetype": "text/x-python",
   "name": "python",
   "nbconvert_exporter": "python",
   "pygments_lexer": "ipython3",
   "version": "3.10.16"
  }
 },
 "nbformat": 4,
 "nbformat_minor": 5
}
