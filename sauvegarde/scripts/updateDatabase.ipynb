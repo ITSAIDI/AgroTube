{
 "cells": [
  {
   "cell_type": "code",
   "execution_count": 3,
   "id": "a43b5dc0",
   "metadata": {},
   "outputs": [
    {
     "data": {
      "text/plain": [
       "True"
      ]
     },
     "execution_count": 3,
     "metadata": {},
     "output_type": "execute_result"
    }
   ],
   "source": [
    "import psycopg\n",
    "import os\n",
    "from dotenv import load_dotenv\n",
    "import json\n",
    "from colorama import Style,Fore\n",
    "\n",
    "load_dotenv()"
   ]
  },
  {
   "cell_type": "code",
   "execution_count": 4,
   "id": "3e537920",
   "metadata": {},
   "outputs": [],
   "source": [
    "def openJson(path):\n",
    "    with open(path, \"r\", encoding=\"utf-8\") as file:\n",
    "        data = json.load(file)\n",
    "    return data\n",
    "\n",
    "def saveJson(path,data):\n",
    "    with open(path, \"w\", encoding=\"utf-8\") as f:\n",
    "       json.dump(data, f, ensure_ascii=False, indent=2)\n",
    "       print(Style.BRIGHT+Fore.GREEN+'\\n json saved'+Style.RESET_ALL)"
   ]
  },
  {
   "cell_type": "markdown",
   "id": "e0393a13",
   "metadata": {},
   "source": [
    "# Enlever des chaines\n",
    "\n",
    "Après retour de l’experte, on procède à enlever quelques chaînes non pertinentes avec leurs vidéos correspondantes.\n",
    "19/05/2025"
   ]
  },
  {
   "cell_type": "markdown",
   "id": "a9aa37a4",
   "metadata": {},
   "source": [
    "## Identifier\n",
    "\n"
   ]
  },
  {
   "cell_type": "code",
   "execution_count": 7,
   "id": "ad308fed",
   "metadata": {},
   "outputs": [
    {
     "name": "stdout",
     "output_type": "stream",
     "text": [
      "['Myfood - Serres innovantes aquaponiques', 'SOBAC', \"Chambres d'agriculture de Normandie\", 'CIVAM Limousin', 'SunActiv Habitat', 'flavinokovik13', 'Solaris Store', 'PLASTEAU', 'Ethique TV', 'Arkeale', 'alann boboulo', 'Ferme Tourne-Sol', 'passion camping-car', 'DONGO LE CONSEILLER AGRICOLE', 'Quentin', 'Braindegeek', 'Yannick Bernard Darlington - Boutique Jeux Efcé', 'Latulpa', '1968makemyday', 'Civam Adage 35', 'Herbe et Fourrages Centre-Val de Loire', 'OKWIND | Votre énergie verte', 'S EAU S PLANETE', \"Paysagiste en ligne Jardin-Reve bureau d'étude\", 'Nikita Gouëzel', 'Amélie Js', 'Clara B.', 'Motoculteurs & mécaniques 62', 'WATER WISE CONCEPT', 'Haydée Bouscasse', 'Monabee', 'Mon Habitat Positif', 'Kokopelli, semeur de Vie', 'Capitools', 'NIAVLYS', 'Agro&Cow', 'Aezeo - L’autonomie énergétique entre vos mains', 'LaViandeTV', 'API', 'Laure - La Petite MOB du 22', 'jocelyn quintana  eole france ', 'Cablanc', 'La Ferme Du Rial', \"Les archives de l'IEF - Instruction En Famille\", 'ferme kapelfeld', 'Ferme de Bedavo - Association Saint Camille', 'MyShop Solaire', 'reveillez votre vie', 'Les Incroyables Comestibles', \"J'autonomise - Concepteur de Maison Autonome\", 'Fondation du SMA', 'tom golaz', 'IADEA', 'Chris Pagns']\n",
      "54\n"
     ]
    }
   ],
   "source": [
    "from openpyxl import load_workbook\n",
    "\n",
    "# Charger le fichier Excel\n",
    "wb = load_workbook(\"../xlsx/chaines_pertinentes_RE.xlsx\")\n",
    "ws = wb.active\n",
    "\n",
    "listeNames = []\n",
    "\n",
    "for row in ws.iter_rows(min_col=1, max_col=1):\n",
    "    cell = row[0]\n",
    "    fill = cell.fill\n",
    "\n",
    "    if fill and fill.fill_type == \"solid\":\n",
    "        color = fill.start_color.rgb\n",
    "        if color and color != \"00000000\":\n",
    "            nom = cell.value\n",
    "            listeNames.append(nom)\n",
    "print(listeNames)\n",
    "print(len(listeNames))"
   ]
  },
  {
   "cell_type": "markdown",
   "id": "9d846109",
   "metadata": {},
   "source": [
    "## Delete"
   ]
  },
  {
   "cell_type": "code",
   "execution_count": 8,
   "id": "179d5ccd",
   "metadata": {},
   "outputs": [],
   "source": [
    "conn = psycopg.connect(\n",
    "    dbname=\"mydatabase\",\n",
    "    user=\"postgres\",\n",
    "    password=os.getenv(\"POSTGRE_PASSWORD\"),\n",
    "    host=\"localhost\",\n",
    "    port=\"5432\"\n",
    ")\n",
    "\n",
    "cur = conn.cursor()\n",
    "\n",
    "cur.execute(\"\"\"\n",
    "    DELETE FROM chaines\n",
    "    WHERE nom = ANY(%s)\n",
    "\"\"\", (listeNames,))\n",
    "\n",
    "conn.commit()\n",
    "cur.close()\n",
    "conn.close()\n"
   ]
  },
  {
   "cell_type": "markdown",
   "id": "120c3cce",
   "metadata": {},
   "source": [
    "# Enlever des videos\n",
    "\n",
    "L’experte a trouvé d’autres vidéos non pertinentes qu’on enlève.\n",
    "\n",
    "19/05/2025"
   ]
  },
  {
   "cell_type": "markdown",
   "id": "3315ee05",
   "metadata": {},
   "source": [
    "## Identifier"
   ]
  },
  {
   "cell_type": "code",
   "execution_count": 10,
   "id": "68b5761d",
   "metadata": {},
   "outputs": [
    {
     "name": "stdout",
     "output_type": "stream",
     "text": [
      "liste vidéos colorées :\n",
      "['XwqZ2MV97aI', '2PVDaQei9RY', '0LtMRPYGCVk', '3_ITiuUrvkA', '31dKCfWtJmI', 'VHIMtBfDJ3g', 'z0HZS583HfQ', '7qMNGTltcFA', '4zFI1wvZ0zg', 'uqGLFxrydEU', 'U-9YcyNv8Lk', '8HZkdb9ejvs', 'khKxIj37-bQ', 'OpT2ThjU6YI', 'Wv_m_dYaKdM', 'DIhSvG5upUI', 'cHtyGuUchyc', 'iWhcu9naBPk', 'x1N-Fl75BAw', 'Vdb6SJ-BBT4', 'TeKhoOnbKEM', '7OsYveLJZdQ', '4wXf0OrT4AI', 'lCn3Zu6yXi4', '7MCVVUh_z2c', '1zBeMbemRHg', 'D6g4L5XQb5c', '_l3tEPRuCUE', 'R2vKOA7-CyI', 'ZcAYdILVSuU', 'I7yvU9E0V_M', 'jgGoOd9drSQ', '90-aBARJLrM', '3MExx8n6954', 'TH4HdPvup6s', 'ZiCqFBiMOYU', '7LTs_kDyJ0c', 'amG8ZHiN-6A', 'tVoVH3AwRgk', 'nke8us5dUZI', 'vJLMkUWt4SI', 'ntNn9ESum6U', '3nnHG2IhvWU', 'OOoeYsS2MJU', '0uORzJZETX8', 'lDG99-QVglI', 'NJ2TAOo0sTs', 'Bs-4HTbBLVU', '_LEU5LEA4pc', 'M6ukds8Zaog', '-kJvPjAaokY', 'nkR0hVCmrm8', 'vCUk42v7iw0', 'pEajjfKXVc0', 'zhXG_JutXh4', 'YVQ_oGYx6Gc', '1SEYOm4oCWQ', 'Sg8PhfMFIrc', 'EaQVNpB7VI0', 'G1-1heFISQ4', '7OhaURSY6uE', 'tIQoox_NJIY', 'tIfC6b_jYyk', 'kKjWwL8KPX0', 'LATJD3M_U5s', 'R6j1aE8oJMc', 'LeoSYMi8izI', '6WJisI2sijE', 'etP4MM6TrXU', 'W29yuRpFnVw', 'x7U2oh2Qx4w', 'xS89Ed-XuKg', 'ARiCCUQxwh4', 'vz-WWdHJ9Kc', 'vXf4XaLgeYQ', 'i9GZkDnAJqw', 'q_cz_Px8hgE', 'A2y8QC9EClU', 'sV2aQQ2S9Nw', 'BjtVqUq6aV4', '_M7pVXbvuF4', 'ZIjwPPZYdis', 'YVyEatEGbsI', '8ndVIe_hEis', 'XbQBMP3z2Kc', 'mU8IcSSZ3VY', 'rq5MGkbe6yQ', 'qL8sUVuUU5w', 'Z0fbQWYDCHk', '8YNwPvnVCcs', 'Vfc-OScR0tc', 'nwZ7hhgmQuM', 'kw4hR4ZjHCo', 'ML-d8kkZgfc', 'CU9uH8GWqlA', '9HOWaFHCor8', 'sKg0LQjA5oI', '7tMZCYwdMNI', 's8IEruQ0emo', 'aXv9xUct87Q', 'UrsX1yCWcFo', 'HZ5YfFbI5Ac', 'xoW8aODYMbM', 'zm9mAFzxNmE', 'pRRUlVaomRs', 'ZJHZ7IYCe5U', 'rci_ZLGSrfc', 'ScDrJQLAsvQ', 'fmzccHlAC4c', 'rSgHBRyt0vI', '4pcKGe5pSOw', 'KfQKTVd4STo', '-poj9rVkloU', 'WD-fVCkdocc', 'aFyCj9eE4xQ', 'cyac6LwQgcc', 'T69h4uVoH4s', 'QdGY-Z2Q3mk', '8sSrvc1tFBs', 'Q1hE1Y7wiaU', '7axXqopLDG0', 'AR5tyf9Cdbc', 'Uv8VpoK2uTg', 'wAL7qvuV1UM', '1WQZPJEQkeg', 'LgHgOxtonmM', 'GykuNro3VXk', 'rlP98eEx4sw', 'F-XQSK9pyp4', 'YH7zmhYbB4A', 'vRKxdgSf94Q', '6-Sniofu-gw', 'XR-cDChrf-o', 'FY0OQtb2Y94', 'ClZVp3oypoU', 'XNwLI6-gmvM', 'l8n_XXqREoU', '-gl6ESKifa4', 'r04En8ezNUw', 'e_eNFige9N8', '0_xzAKr-BVA', 'PLwIgPGyyiA', 'ZESSIsmYjf0', 'Iwg68DaWwos', 'ic_7YrW3w9o', 'ff_bo0oKd6U', '1X_xQ74J_8s', 'MdZBDA5CaUc', '_lMxXVGa4ZQ', 'xMnRJomcY2k', '_B7pCWLsaWY', '4XQs1Z5aQEA', 'yXLBsJYV-DI', 'Rc9XD3hp3L8', 'fWPbwpoKJ0E', 'VLDIFoqc93k', 'JNB8F-zXJes', 'bliAuGQYsHg', 'F2VMUwEwfOo', 'hm-QHBGdqwA', 'mmClIrE2zgw', 'k99m7z8eOYs', 'TxtD14UNYvw', 'qtbcwYEtp9I', '48ivJvZp1Dg', 'zcG2-o9Z5pM', 'NHBB7Sve5aQ', '28akzvojA2k', 'UECebKbPTcc', 'DtQyQAweYXc', 'SPHDEzsKOoo', 'KeAuQPAHQFQ', 'Jj3haxHHYf0', 'PaBTFTR_BaA']\n",
      "174\n"
     ]
    }
   ],
   "source": [
    "from openpyxl import load_workbook\n",
    "\n",
    "wb = load_workbook(\"../xlsx/videos_pertinentes_RE.xlsx\")\n",
    "ws = wb.active\n",
    "\n",
    "FP_list = []\n",
    "\n",
    "for row in ws.iter_rows(min_row=641, min_col=1, max_col=1):\n",
    "    lien_cell = row[0]\n",
    "\n",
    "    fill = lien_cell.fill\n",
    "\n",
    "    if fill and fill.fill_type == \"solid\":\n",
    "        color = lien_cell.fill.start_color.rgb\n",
    "        if color and color != \"00000000\":\n",
    "            url = lien_cell.value\n",
    "            if isinstance(url, str) and \"v=\" in url:\n",
    "                video_id = url.split(\"v=\")[-1].split(\"&\")[0]\n",
    "                FP_list.append(video_id)\n",
    "\n",
    "print(\"liste vidéos colorées :\")\n",
    "print(FP_list)\n",
    "print (len(FP_list))\n"
   ]
  },
  {
   "cell_type": "markdown",
   "id": "bd81d81a",
   "metadata": {},
   "source": [
    "## Delete"
   ]
  },
  {
   "cell_type": "code",
   "execution_count": 11,
   "id": "d7376487",
   "metadata": {},
   "outputs": [],
   "source": [
    "conn = psycopg.connect(\n",
    "    dbname=\"mydatabase\",\n",
    "    user=\"postgres\",\n",
    "    password=os.getenv(\"POSTGRE_PASSWORD\"),\n",
    "    host=\"localhost\",\n",
    "    port=\"5432\"\n",
    ")\n",
    "\n",
    "cur = conn.cursor()\n",
    "\n",
    "cur.execute(\"\"\"\n",
    "    DELETE FROM videos\n",
    "    WHERE id_video = ANY(%s)\n",
    "\"\"\", (FP_list,))\n",
    "\n",
    "conn.commit()\n",
    "cur.close()\n",
    "conn.close()\n"
   ]
  },
  {
   "cell_type": "code",
   "execution_count": null,
   "id": "c1544d26",
   "metadata": {},
   "outputs": [],
   "source": []
  }
 ],
 "metadata": {
  "kernelspec": {
   "display_name": ".venv",
   "language": "python",
   "name": "python3"
  },
  "language_info": {
   "codemirror_mode": {
    "name": "ipython",
    "version": 3
   },
   "file_extension": ".py",
   "mimetype": "text/x-python",
   "name": "python",
   "nbconvert_exporter": "python",
   "pygments_lexer": "ipython3",
   "version": "3.10.16"
  }
 },
 "nbformat": 4,
 "nbformat_minor": 5
}
