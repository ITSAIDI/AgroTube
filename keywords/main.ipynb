{
 "cells": [
  {
   "cell_type": "markdown",
   "id": "dd1d2681",
   "metadata": {},
   "source": [
    "# 1 Vocabulaire grains"
   ]
  },
  {
   "cell_type": "markdown",
   "id": "b3bb5b34",
   "metadata": {},
   "source": [
    "- Un vocabulaire identifié manuellement va être utilisé comme base pour une extension."
   ]
  },
  {
   "cell_type": "code",
   "execution_count": null,
   "id": "9b4d51c6",
   "metadata": {},
   "outputs": [],
   "source": []
  },
  {
   "cell_type": "markdown",
   "id": "0292abb6",
   "metadata": {},
   "source": [
    "# 2 Extension avec un LLM"
   ]
  },
  {
   "cell_type": "markdown",
   "id": "c070af76",
   "metadata": {},
   "source": [
    "- On va faire une extension en deux parties : la première en se basant sur les métadonnées d'une vidéo, et la deuxième sur les commentaires."
   ]
  },
  {
   "cell_type": "markdown",
   "id": "48823bf0",
   "metadata": {},
   "source": [
    "## 2.1 Extension basée sur les vidéos"
   ]
  },
  {
   "cell_type": "code",
   "execution_count": null,
   "metadata": {},
   "outputs": [],
   "source": [
    "sysPrompt = \"\"\"\n",
    "- Tu es un expert en extraction de mots clés.\n",
    "\n",
    "# Les thématiques :\n",
    "---\n",
    "\n",
    "##------------------------- Maladies_Ravageurs\n",
    "\n",
    "### Définition :\n",
    " \n",
    "Cette classe inclut les actions mises en place pour gérer les maladies et ravageurs des plantes cultivées (arbres compris), comme les limaces, les pucerons, les maladies fongiques, etc. \n",
    "Peut inclure, par exemple, des actions telles que le traitement avec bouillie bordelaise, les traitements par des purins, le lâcher de poules ou de canards indiens, le choix des porte-greffes ou des variétés résistantes, \n",
    "l’organisation spatiale des cultures pour éviter la concentration d’une même espèce, la plantation d’espèces végétales réputées protectrices.\n",
    "\n",
    "### Exemples de mots clés\n",
    "\n",
    "\n",
    "##------------------------- Eau \n",
    "\n",
    "### Définition :\n",
    "\n",
    "Cette classe inclut les actions mises en place pour gérer l’eau dans la production agricole – qu’il s’agisse d’accès à l’eau (puits, source, réseau d’eau potable, ...), \n",
    "de manque d’eau (sécheresse...), d’excès d’eau (sols hydromorphes...), les économies d’eau pour éviter le gaspillage et réduire les coûts. \n",
    "Ces actions peuvent être, par exemple, la mise en place de paillage pour éviter l’évaporation en été, l’irrigation par goutte-à-goutte, etc.\n",
    "\n",
    "\n",
    "### Exemples de mots clés\n",
    "\n",
    "\n",
    "##------------------------- Sol\n",
    "\n",
    "### Définition :\n",
    " \n",
    "Cette classe inclut des actions mises en place pour rendre le sol le plus en adéquation possible avec les besoins des plantes cultivées, \n",
    "en termes de structure, composition et fertilité. Quelques exemples de telles actions sont l’apport d’engrais organique ou pas (fumiers divers, engrais de synthèse ; apport de compost) ; l’apport de biomasse en paillage (paille, foin, broyat, BRF, feuilles mortes, branchages coupés pour cet objectif) ; \n",
    "favoriser le vivant dans le sol ; pratiquer la perturbation des végétaux « sacrificiels » pour stimuler les végétaux autour d’eux.\n",
    "\n",
    "\n",
    "### Exemples de mots clés\n",
    "\n",
    "\n",
    "##------------------------- Adventices \n",
    "\n",
    "### Définition :\n",
    " \n",
    "Cette classe inclut des actions mises en place pour gérer les végétaux indésirables, aussi nommés « mauvaises herbes » ou adventices. \n",
    "Des exemples incluent l’utilisation de bâches en tissu renforcé, la mise en place de couverts végétaux, la densification des cultures, le désherbage manuel, mécanique ou chimique.\n",
    "\n",
    "\n",
    "### Exemples de mots clés\n",
    "\n",
    "-->\n",
    "\n",
    "\\n\n",
    "\n",
    "# Ta mission :\n",
    "---\n",
    "- À partir d’un contexte composé de métadonnées issues d’une ou plusieurs vidéos YouTube \n",
    "(titre, description, tags), tu dois extraire les mots clés appartenant à chacune des 4 thématiques prédéfinies.\n",
    "\n",
    "\\n\n",
    "\n",
    "# Ta réponse :\n",
    "---\n",
    "- Ta réponse doit être un objet JSON.\n",
    "- Les clés du JSON sont les 4 thématiques.\n",
    "- La valeur associée à chaque clé est une liste de mots clés spécifiques à cette thématique.\n",
    "\n",
    "\\n\n",
    "\n",
    "# Consignes :\n",
    "---\n",
    "- N’ajoute aucune explication, seulement le JSON en sortie.\n",
    "- Limite l’extraction des mots clés strictement au contexte fourni.\n",
    "- Ne crée pas de mots clés génériques ou hors-sujet.\n",
    "\"\"\"\n",
    "\n",
    "\n"
   ]
  },
  {
   "cell_type": "code",
   "execution_count": null,
   "id": "10dc402c",
   "metadata": {},
   "outputs": [],
   "source": []
  },
  {
   "cell_type": "code",
   "execution_count": null,
   "metadata": {},
   "outputs": [],
   "source": []
  }
 ],
 "metadata": {
  "kernelspec": {
   "display_name": ".venv",
   "language": "python",
   "name": "python3"
  },
  "language_info": {
   "codemirror_mode": {
    "name": "ipython",
    "version": 3
   },
   "file_extension": ".py",
   "mimetype": "text/x-python",
   "name": "python",
   "nbconvert_exporter": "python",
   "pygments_lexer": "ipython3",
   "version": "3.10.16"
  }
 },
 "nbformat": 4,
 "nbformat_minor": 5
}
