{
 "cells": [
  {
   "cell_type": "code",
   "execution_count": 29,
   "id": "bc0a3495",
   "metadata": {},
   "outputs": [
    {
     "data": {
      "text/plain": [
       "True"
      ]
     },
     "execution_count": 29,
     "metadata": {},
     "output_type": "execute_result"
    }
   ],
   "source": [
    "from tqdm import tqdm \n",
    "from colorama import Style,Fore\n",
    "import os\n",
    "from dotenv import load_dotenv\n",
    "from datetime import datetime,timezone\n",
    "load_dotenv()"
   ]
  },
  {
   "cell_type": "code",
   "execution_count": 30,
   "id": "ac6b930c",
   "metadata": {},
   "outputs": [],
   "source": [
    "from googleapiclient.discovery import build\n",
    "\n",
    "youtube = build(\"youtube\", \"v3\", developerKey=os.getenv(\"YOUTUBE_API_KEY1\"))"
   ]
  },
  {
   "cell_type": "code",
   "execution_count": 31,
   "id": "198dee45",
   "metadata": {},
   "outputs": [],
   "source": [
    "def getComments(video_id):\n",
    "    comments_dict = {}\n",
    "    request = youtube.commentThreads().list(\n",
    "        part='snippet,replies',\n",
    "        videoId=video_id,\n",
    "        maxResults=100,\n",
    "        textFormat='plainText'\n",
    "    )\n",
    "\n",
    "    while request:\n",
    "        response = request.execute()\n",
    "        for item in response.get('items', []):\n",
    "            top_comment = item['snippet']['topLevelComment']['snippet']['textDisplay']\n",
    "            replies = []\n",
    "\n",
    "            if 'replies' in item:\n",
    "                for reply in item['replies']['comments']:\n",
    "                    reply_text = reply['snippet']['textDisplay']\n",
    "                    replies.append(reply_text)\n",
    "\n",
    "            comments_dict[top_comment] = replies\n",
    "\n",
    "        request = youtube.commentThreads().list_next(request, response)\n",
    "\n",
    "    return comments_dict\n",
    "\n",
    "def calculateComments(comments_dict):\n",
    "    total = 0\n",
    "    for top_comment, replies in comments_dict.items():\n",
    "        total += 1\n",
    "        total += len(replies)\n",
    "    return total"
   ]
  },
  {
   "cell_type": "code",
   "execution_count": 32,
   "id": "031fae8e",
   "metadata": {},
   "outputs": [],
   "source": [
    "comments = getComments(\"yTQYw5Omdso\")"
   ]
  },
  {
   "cell_type": "code",
   "execution_count": 33,
   "id": "87832803",
   "metadata": {},
   "outputs": [
    {
     "data": {
      "text/plain": [
       "14"
      ]
     },
     "execution_count": 33,
     "metadata": {},
     "output_type": "execute_result"
    }
   ],
   "source": [
    "calculateComments(comments)"
   ]
  },
  {
   "cell_type": "code",
   "execution_count": 36,
   "id": "8fcbe453",
   "metadata": {},
   "outputs": [],
   "source": [
    "def getVideoMetrics(video_id):\n",
    "    video_response = youtube.videos().list(\n",
    "        part='statistics,snippet',\n",
    "        id=video_id\n",
    "    ).execute()\n",
    "\n",
    "    if not video_response['items']:\n",
    "        return None\n",
    "\n",
    "    video = video_response['items'][0]\n",
    "    stats = video['statistics']\n",
    "\n",
    "    views = int(stats.get('viewCount', 0))\n",
    "    likes = int(stats.get('likeCount', 0))\n",
    "\n",
    "    comments_dict = getComments(video_id)\n",
    "\n",
    "    metrics = {\n",
    "        'id_video': video_id,\n",
    "        'date_releve': datetime.now(timezone.utc).date().isoformat(),\n",
    "        'nombre_vues': views,\n",
    "        'nombre_likes': likes,\n",
    "        'commentaires': comments_dict\n",
    "    }\n",
    "\n",
    "    return metrics"
   ]
  },
  {
   "cell_type": "code",
   "execution_count": 37,
   "id": "835f3a88",
   "metadata": {},
   "outputs": [
    {
     "data": {
      "text/plain": [
       "{'id_video': 'yTQYw5Omdso',\n",
       " 'date_releve': '2025-05-06',\n",
       " 'nombre_vues': 6289,\n",
       " 'nombre_likes': 287,\n",
       " 'commentaires': {'La nature est  belle  ...chaque jour elle nous émerveille, tout au long des saisons, elle me touche. Très jolie vidéo, merci.  Vos vidéos au jardin me  manquent. A toutes mes connaissances en jardin, je donne votre jardin en exemple...': [],\n",
       "  'merci pour cette vidéo 👍👍👍\\r\\nbonne continuation a bientôt bisou 😘😘\\r\\nChico😘': [],\n",
       "  'Tous les sens en «\\xa0réveil\\xa0», …\\nMerci pour cette parenthèse \\n👀 🥬  🌺  🎶 👅': [],\n",
       "  'Vraiment magnifique bravo 😉👍': [],\n",
       "  'Votre jardin est une source d’inspiration.': [],\n",
       "  'C’est super beau ! Merci !': [],\n",
       "  'Chaque vidéo est un vrai petit bijou avec le potager comme écrin et Marie en orfèvre.': [],\n",
       "  \"Ici au Québec, c'est plutôt du -30 degrés. Alors il faut patienter pour cultiver notre potager. Merci pour vos beaux livres inspirants.\": [],\n",
       "  'Tout en délicatesse 🙏💕': [],\n",
       "  'Toujours aussi magnifique. Merci pour ce moment de plaisir.': [],\n",
       "  'Bravo Marie\\nAvec pas grand chose, on peut faire beaucoup, et beau\\nMerci et belle journée.': [],\n",
       "  'Magnifique jardin de rêve ❤❤❤': [],\n",
       "  'Magnifique': [],\n",
       "  'Très jolie vidéo, ces nuances de verdures donnent envie 😀': []}}"
      ]
     },
     "execution_count": 37,
     "metadata": {},
     "output_type": "execute_result"
    }
   ],
   "source": [
    "getVideoMetrics(\"yTQYw5Omdso\")"
   ]
  }
 ],
 "metadata": {
  "kernelspec": {
   "display_name": ".venv",
   "language": "python",
   "name": "python3"
  },
  "language_info": {
   "codemirror_mode": {
    "name": "ipython",
    "version": 3
   },
   "file_extension": ".py",
   "mimetype": "text/x-python",
   "name": "python",
   "nbconvert_exporter": "python",
   "pygments_lexer": "ipython3",
   "version": "3.10.16"
  }
 },
 "nbformat": 4,
 "nbformat_minor": 5
}
