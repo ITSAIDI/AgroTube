{
 "cells": [
  {
   "cell_type": "code",
   "execution_count": 2,
   "id": "99e3887a",
   "metadata": {},
   "outputs": [
    {
     "data": {
      "text/plain": [
       "False"
      ]
     },
     "execution_count": 2,
     "metadata": {},
     "output_type": "execute_result"
    }
   ],
   "source": [
    "import json \n",
    "from collections import Counter\n",
    "from tqdm import tqdm \n",
    "from colorama import Style,Fore\n",
    "import os\n",
    "from dotenv import load_dotenv\n",
    "load_dotenv()"
   ]
  },
  {
   "cell_type": "code",
   "execution_count": 131,
   "id": "65d64c1f",
   "metadata": {},
   "outputs": [],
   "source": [
    "from utils1 import openJson,saveJson"
   ]
  },
  {
   "cell_type": "markdown",
   "id": "f7f1883a",
   "metadata": {},
   "source": [
    "## Filtering 1"
   ]
  },
  {
   "cell_type": "markdown",
   "id": "90f9957c",
   "metadata": {},
   "source": [
    "- videosF1.json contain the videos with fr-FR on the language parameter"
   ]
  },
  {
   "cell_type": "code",
   "execution_count": 5,
   "id": "3808438d",
   "metadata": {},
   "outputs": [
    {
     "data": {
      "text/plain": [
       "6859"
      ]
     },
     "execution_count": 5,
     "metadata": {},
     "output_type": "execute_result"
    }
   ],
   "source": [
    "videosR3 = openJson(\"../jsons/videosR3.json\")\n",
    "len(videosR3)"
   ]
  },
  {
   "cell_type": "code",
   "execution_count": 7,
   "id": "70157702",
   "metadata": {},
   "outputs": [
    {
     "name": "stdout",
     "output_type": "stream",
     "text": [
      "\u001b[1m\u001b[32m\n",
      " json saved\u001b[0m\n"
     ]
    },
    {
     "data": {
      "text/plain": [
       "4722"
      ]
     },
     "execution_count": 7,
     "metadata": {},
     "output_type": "execute_result"
    }
   ],
   "source": [
    "videosF1 = []\n",
    "for video in videosR3:\n",
    "    if video['langue']== 'fr-FR':\n",
    "        videosF1.append(video)\n",
    "saveJson(\"../jsons/videosF1.json\",videosF1)\n",
    "len(videosF1)"
   ]
  },
  {
   "cell_type": "markdown",
   "id": "0d0c5eb6",
   "metadata": {},
   "source": [
    "## Filtering 2"
   ]
  },
  {
   "cell_type": "markdown",
   "id": "e9308cab",
   "metadata": {},
   "source": [
    "### Detecter les videos des Chaines TV "
   ]
  },
  {
   "cell_type": "code",
   "execution_count": 116,
   "id": "3f61bf02",
   "metadata": {},
   "outputs": [
    {
     "name": "stdout",
     "output_type": "stream",
     "text": [
      "25\n",
      "['france2', 'france3', 'france4', 'france5', 'franceinfo', 'bfmtv', 'c8', 'cstar', 'gulli', 'cnews', 'canal+', 'planète+', 'lci', 'parispremière', '6ter', 'arte', 'm6', 'w9', 'tfx', 'tmc', 'nrj12', 'tf1', 'lachaîneparlementaire', 'chérie25', 'rmc']\n"
     ]
    }
   ],
   "source": [
    "chainesTv = [\n",
    "    \"France 2\", \"France 3\", \"France 4\",\"France 5\",\"Franceinfo\",\n",
    "    \"BFMTV\", \"C8\", \"CStar\", \"Gulli\", \"Cnews\",\n",
    "    \"Canal+\", \"Planète+\", \"LCI\", \"Paris première\",\n",
    "    \"6ter\", \"Arte\", \"M6\", \"W9\",\n",
    "    \"TFX\", \"TMC\", \"NRJ12\", \"TF1\",\"La Chaîne parlementaire\",\n",
    "    \"Chérie 25\", \"RMC\"\n",
    "]\n",
    "chainesTv = [nomTV.lower().replace(\" \", \"\") for nomTV in chainesTv]\n",
    "\n",
    "print(len(chainesTv))\n",
    "print(chainesTv)"
   ]
  },
  {
   "cell_type": "code",
   "execution_count": 117,
   "id": "7952b5b6",
   "metadata": {},
   "outputs": [
    {
     "data": {
      "text/plain": [
       "4722"
      ]
     },
     "execution_count": 117,
     "metadata": {},
     "output_type": "execute_result"
    }
   ],
   "source": [
    "videosF1 = openJson(\"../jsons/videosF1.json\")\n",
    "len(videosF1)"
   ]
  },
  {
   "cell_type": "code",
   "execution_count": 118,
   "id": "bdb7ef51",
   "metadata": {},
   "outputs": [],
   "source": [
    "channels = openJson(\"../../collecting/jsons/channels.json\")\n",
    "def getChannelName(channelId):\n",
    "    for channel in channels:\n",
    "        if channel['id_chaine']==channelId:\n",
    "            return channel['nom_chaine'].lower().replace(\" \", \"\")"
   ]
  },
  {
   "cell_type": "code",
   "execution_count": 126,
   "id": "2359fa91",
   "metadata": {},
   "outputs": [
    {
     "name": "stdout",
     "output_type": "stream",
     "text": [
      "france3   france3grandest   dLUQ0xpq8g4\n",
      "france3   france3normandie   y16Qgap0wW8\n",
      "france3   france3nouvelle-aquitaine   TFeG6-UKO9U\n",
      "tf1   tf1info   ojIs2lHKYdA\n",
      "france3   france3normandie   HXbStCizF74\n",
      "france3   france3bourgogne-franche-comté   A1jj7uXSxs4\n",
      "france3   france3occitanie   IRFs_Ixy9ZM\n",
      "france3   france3hauts-de-france   hoFV4QDkWa8\n",
      "france3   france3toutesrégions   iC-3Wo43Bro\n",
      "france3   france3nouvelle-aquitaine   tGj_1evPWN0\n",
      "arte   arte   r9wRwvEHFsA\n",
      "france3   france3occitanie   yjjRv-nEdHE\n",
      "france3   france3grandest   HflJXjrYBCE\n",
      "france3   france3corseviastella   b7nV4URjwDk\n",
      "arte   arte   q_nt-DDvq4o\n",
      "france3   france3occitanie   oxjQ2xSDRU8\n",
      "france2   france24   jsFCmSWQmUs\n",
      "france2   france24   fRyK_Fky8q4\n",
      "tf1   tf1info   g11uU0ezC7s\n",
      "france3   france3provence-alpes-côted'azur   ul0lmV0rQvM\n",
      "arte   météoàlacarte-francetélévisions   96N7p51oO4c\n",
      "france2   france24   rX8xnkiAAOA\n",
      "france3   france3nouvelle-aquitaine   MnZwX830SMQ\n",
      "france3   france3bourgogne-franche-comté   yMD5K1sibMo\n",
      "tf1   tf1info   6w3hqPHPogA\n",
      "france3   france3provence-alpes-côted'azur   zZ0btQ-aZv8\n",
      "france3   france3nouvelle-aquitaine   NYCCwOdqPDA\n",
      "france3   france3hauts-de-france   WevIdMyvFUk\n",
      "france3   france3nouvelle-aquitaine   epHgTx5XZTU\n",
      "france3   france3centre-valdeloire   lokfk0lj9Rk\n",
      "france2   france24   U5CQvKiLoCo\n",
      "bfmtv   bfmtv   uVmlqnrKKoA\n",
      "arte   arte   NRZa1ciorPg\n",
      "arte   arte   LsCnUBSPg6M\n",
      "arte   arte   jtfRpgVpuKU\n",
      "arte   arte   iiZFEGe0BmI\n",
      "france3   france3nouvelle-aquitaine   Jjg9Pz_mZ1w\n",
      "arte   arte   boNqBNbVT7I\n",
      "france3   france3normandie   q2Th8GIx2zI\n",
      "arte   départementdelaseine-maritime   mePq4SsM1dw\n",
      "france3   france3paysdelaloire   j0vCFOUMhSk\n",
      "france3   france3nouvelle-aquitaine   IDSnX_flvs8\n",
      "arte   partenaireslikeleparisien   n6oZoAGd-Hg\n",
      "arte   artefamilyfr   JuN34OyMKEo\n",
      "arte   arte   bVQRUPP_FR8\n",
      "arte   arte   OzgkisPNHz8\n",
      "cnews   cnews   B43uPl2LP2U\n",
      "arte   météoàlacarte-francetélévisions   HfNYyNNlBfc\n",
      "arte   arte   DIDiDXLBdXM\n",
      "france3   france3nouvelle-aquitaine   -TttfNfM55o\n",
      "arte   météoàlacarte-francetélévisions   jBCVqs3ubkY\n",
      "arte   arte   OhQccUoW9j4\n",
      "tf1   tf1info   KGbeiCal8hI\n",
      "france3   france3nouvelle-aquitaine   kggG5ewMsko\n",
      "france3   france3bourgogne-franche-comté   y3VnajeE0DY\n",
      "france3   france3auvergne-rhône-alpes   Fd89ir0heWQ\n",
      "france3   france3bourgogne-franche-comté   nG7ZrFRv_H4\n",
      "france3   france3nouvelle-aquitaine   XCIHepMpkVk\n",
      "france3   france3normandie   fqimFtLhDQk\n",
      "arte   météoàlacarte-francetélévisions   Bw1N_z3sLXk\n",
      "france3   france3bourgogne-franche-comté   JyTBmA2eaEU\n",
      "france3   france3auvergne-rhône-alpes   _Qh2R-G5IFI\n",
      "france2   france24   Y7EjXcmBKOw\n",
      "france3   france3toutesrégions   so_T-oBOzlA\n",
      "france3   france3nouvelle-aquitaine   iG1liDz0Eb8\n",
      "france3   france3nouvelle-aquitaine   ru2h6Ocrxto\n",
      "france3   france3rhône-alpes   YwooT05uqPY\n",
      "france3   france3occitanie   WtoGnxeeO1M\n",
      "france3   france3provence-alpes-côted'azur   gQVLcfspq8I\n",
      "arte   météoàlacarte-francetélévisions   VI_3r96W2KA\n",
      "france3   france3centre-valdeloire   bwDWWEFGSzA\n",
      "arte   météoàlacarte-francetélévisions   FX5-FMprKSw\n",
      "bfmtv   bfmtv   0k5C68M7yn8\n",
      "france3   france3bourgogne-franche-comté   0pwBaoyL3Zk\n",
      "france3   france3grandest   Xnfwy1_ltDY\n",
      "france3   france3nouvelle-aquitaine   ZlFiuWbI1t0\n",
      "france2   france24   On-7fE0twcM\n",
      "arte   arteneso®-human&beeconnectadventure   iVY9-iwqZ74\n",
      "lci   cimentscalcia   PSzUjOsD4_4\n",
      "france3   france3grandest   zgPVQdj4gjI\n",
      "france2   france24   fo1Eadj23II\n",
      "france3   france3occitanie   _zpW8Wk0CI0\n",
      "france3   france3occitanie   YWvw0l3XwuM\n",
      "france2   france24   W4mpcpBDcho\n",
      "france3   france3grandest   2kAXZ9qdfs4\n",
      "france3   france3normandie   iWpgqHdOWxg\n",
      "france3   france3centre-valdeloire   4KbD4HBd5ek\n",
      "france3   france3grandest   4WibtxSO9No\n",
      "tf1   tf1info   -3o4WHJJAvI\n",
      "france3   france3centre-valdeloire   C-9ZUu6Uxts\n",
      "france3   france3normandie   m7jJCPsyPio\n",
      "arte   météoàlacarte-francetélévisions   uI-Msn3Yb_k\n",
      "arte   météoàlacarte-francetélévisions   YQf5nyX30oM\n",
      "france3   france3grandest   6yBm6YAkjBM\n",
      "france3   france3grandest   fvRAAyRL4cc\n",
      "arte   arte   5eIqnUiyk0A\n",
      "france3   france3grandest   J30YO1cl8eI\n",
      "france3   france3provence-alpes-côted'azur   GikHBTnQ2iM\n",
      "france3   france3provence-alpes-côted'azur   aJK8auRUCJU\n",
      "lci   quentindoulcier   rstU6WAGJ2M\n",
      "france2   france24   KHbEJYgh_5M\n",
      "france3   france3bourgogne-franche-comté   Q6XIC6AIND0\n",
      "arte   arte   qd0oKe7Gm9I\n",
      "arte   arte   U7UqQMIvUs0\n",
      "arte   arte   N5YLKDG9OV4\n",
      "france3   france3nouvelle-aquitaine   b-fMPa75qFk\n",
      "france3   france3normandie   OWRaTRwdXK0\n",
      "france3   france3corseviastella   Cly3Qn5HlWc\n",
      "arte   météoàlacarte-francetélévisions   pSIgD3ghEl4\n",
      "france3   france3nouvelle-aquitaine   cVYPG3F28oY\n",
      "france3   france3occitanie   ShXr1_yMtaU\n",
      "france3   france3bretagne   bxD5ThRqak8\n",
      "france3   france3occitanie   wl_KV_Y1xD4\n",
      "bfmtv   bfmtv   eD4ACPV1gKY\n",
      "france3   france3grandest   V0uuR91pnRA\n",
      "france3   france3auvergne-rhône-alpes   oMRt_4WKx0k\n",
      "france3   france3nouvelle-aquitaine   yoeC9nQBllk\n",
      "arte   météoàlacarte-francetélévisions   9UmVyZepRzQ\n",
      "france3   france3bourgogne-franche-comté   EgrhrmLA344\n",
      "france3   france3normandie   mzVpp3pyW34\n",
      "france3   france3bretagne   sYENn3_cJG0\n",
      "bfmtv   bfmtv   MttqtRTSZBk\n",
      "france3   france3grandest   h9LoGMBJpJc\n",
      "france3   france3nouvelle-aquitaine   RKoAxk31-gs\n",
      "france3   france3centre-valdeloire   H8FU2zuKFjU\n",
      "france3   france3bretagne   hI6OhrO07UE\n",
      "france2   france24   dfc53eNKypQ\n",
      "france3   france3auvergne-rhône-alpes   JALfcT4yQUA\n",
      "tf1   tf1info   WRMfc8ITIRw\n",
      "france3   france3nouvelle-aquitaine   6C8AVG6ucis\n",
      "france3   france3bretagne   st31YJF-95w\n",
      "france3   france3occitanie   bDfC_BkSgCI\n",
      "france3   france3bourgogne-franche-comté   THreXX8iSbc\n",
      "france3   france3hauts-de-france   3TtMMtmFO84\n",
      "france3   france3paysdelaloire   BKWTI5F78Q0\n",
      "france3   france3provence-alpes-côted'azur   sZara0UrqkQ\n",
      "france3   france3centre-valdeloire   cThjmXSGVEk\n",
      "france3   france3grandest   dzCTBPXoVR4\n",
      "arte   arte   4cr2Lbw-2QY\n",
      "france3   france3bourgogne-franche-comté   zAerYSOHS58\n",
      "france3   france3occitanie   kph9uMmO8uw\n",
      "france3   france3occitanie   0tqwQGre-z0\n",
      "france3   france3bourgogne-franche-comté   bPrYPfPtTyk\n",
      "arte   départementdesbouches-du-rhône   DlpnHR3JtsY\n",
      "france3   france3centre-valdeloire   xKC0SaPcrUE\n",
      "france3   france3provence-alpes-côted'azur   8fCi5by05QE\n",
      "france3   france3provence-alpes-côted'azur   -ZmLSD0SeNc\n",
      "france3   france3nouvelle-aquitaine   tKVvobwCk_0\n",
      "france3   france3occitanie   D1pmYUaAv30\n",
      "france3   france3bretagne   M--F8giS0e4\n",
      "arte   départementduval-de-marne   lEKy-0jH2qo\n",
      "cnews   cnews   uqV7YLtAXdQ\n",
      "france3   france3nouvelle-aquitaine   D2B-okbBV4M\n",
      "france3   france3bourgogne-franche-comté   SR69-AjmT-w\n",
      "france3   france3hauts-de-france   AHmuF3MIHKw\n",
      "france3   france3grandest   K7-J0fzo0mo\n",
      "tf1   tf1info   X2qKTVafXWg\n",
      "france3   france3nouvelle-aquitaine   J7zHSvoWeNY\n",
      "arte   arte   -Ekdwa2AirU\n",
      "france3   france3grandest   9Qosbq6osPQ\n",
      "france3   france3bretagne   0B1USKNrkRw\n",
      "cnews   cnews   6rnRY7nZEn0\n",
      "bfmtv   bfmtv   4g0Y_9-l5DE\n",
      "france3   france3grandest   pUBGJIxPlv0\n",
      "france3   france3nouvelle-aquitaine   AR0TRgehVBw\n",
      "france3   france3nouvelle-aquitaine   Y6GPS0UnYl4\n",
      "france3   france3centre-valdeloire   i83BzTjUaiM\n",
      "bfmtv   bfmtv   2uywKYWAhkI\n",
      "france3   france3normandie   AljFBeoJ8Ec\n",
      "cnews   cnews   G0dvnk8hzVs\n",
      "france3   france3grandest   eL2KHb95TKg\n",
      "france3   france3occitanie   fTCeT1rtlbo\n",
      "france3   france3nouvelle-aquitaine   tHxYXLXOc0Y\n",
      "france3   france3normandie   dWwcCrU4kok\n",
      "arte   météoàlacarte-francetélévisions   4-utGEThJFk\n",
      "france3   france3provence-alpes-côted'azur   EvyrT_wR9pw\n",
      "france3   france3occitanie   nNhi1ivUpKA\n",
      "france3   france3occitanie   ktxaES8RJtw\n",
      "arte   météoàlacarte-francetélévisions   jwAH9WKyono\n",
      "france3   france3centre-valdeloire   Myp-BV7gZHk\n",
      "bfmtv   bfmtv   nKs8WziCq3s\n",
      "bfmtv   bfmtv   RHyI-JPOueo\n",
      "france3   france3occitanie   EAISR7uf14o\n",
      "france3   france3grandest   jrYo3N--AlY\n",
      "france3   france3provence-alpes-côted'azur   sqhd5TSfRmU\n",
      "france3   france3provence-alpes-côted'azur   JIbDuYdiRss\n",
      "france3   france3provence-alpes-côted'azur   PQtfjHA8f1U\n",
      "france3   france3provence-alpes-côted'azur   L-9EUMeb91w\n",
      "france3   france3normandie   HFCEEPmiRNg\n",
      "france3   france3nouvelle-aquitaine   rWeYZv-Xx_Q\n",
      "cnews   cnews   zYQYqUaPDhQ\n",
      "france3   france3bourgogne-franche-comté   vjPDQw7bFos\n",
      "france3   france3bretagne   dusg-mIw_YA\n",
      "france3   france3bretagne   PeVx8G7AFmk\n",
      "lci   lci   G3ZHCpOpXKc\n",
      "france3   france3grandest   XUniIIzZ5BI\n",
      "arte   arte   z2O37y90vMI\n",
      "france3   france3nouvelle-aquitaine   s-pT6kQ562Q\n",
      "france3   france3nouvelle-aquitaine   KruLweAFbqs\n",
      "arte   départementlandes   5s5uq8QXBEc\n",
      "rmc   rmcbfmplay   VHr6lF6D4I8\n",
      "france3   france3auvergne-rhône-alpes   rUbPwRX2E8I\n",
      "france3   france3grandest   0DfroeEA9dA\n",
      "france3   france3grandest   TrW5hKwkPg0\n",
      "france3   france3provence-alpes-côted'azur   V3Jpmn5gRJ4\n",
      "france3   france3nouvelle-aquitaine   tesYTel8NsI\n",
      "france3   france3bourgogne-franche-comté   0sLCFMaBL2s\n",
      "france3   france3nouvelle-aquitaine   G9GclCdol80\n",
      "france3   france3nouvelle-aquitaine   t7GuLzTQxrg\n",
      "france3   france3nouvelle-aquitaine   y1dDD9sFgHg\n",
      "france3   france3nouvelle-aquitaine   RXwkA-ixobY\n",
      "france3   france3nouvelle-aquitaine   xakoBUoTdCQ\n",
      "france3   france3occitanie   1wlAkQxwrWI\n",
      "france3   france3occitanie   Uaex1oLoh4Y\n",
      "france3   france3occitanie   wHgMsZWSrEg\n",
      "canal+   canal+   BR5e5VMzoy8\n",
      "france3   france3centre-valdeloire   mPe5Wc8FxrY\n",
      "france3   france3grandest   jrkD8Kx0wJA\n"
     ]
    }
   ],
   "source": [
    "chainesTVCounter = Counter()\n",
    "videosChainesTV = []\n",
    "for video in videosF1:\n",
    "    channelName = getChannelName(video['id_chaine'])\n",
    "    for name in chainesTv:\n",
    "        if name in channelName:  \n",
    "            print(name,' ',channelName,' ',video['id_video'])\n",
    "            chainesTVCounter[name]+=1\n",
    "            videosChainesTV.append(video['id_video'])"
   ]
  },
  {
   "cell_type": "code",
   "execution_count": 121,
   "id": "0897215d",
   "metadata": {},
   "outputs": [
    {
     "data": {
      "text/plain": [
       "Counter({'france3': 146,\n",
       "         'arte': 37,\n",
       "         'france2': 10,\n",
       "         'bfmtv': 8,\n",
       "         'tf1': 7,\n",
       "         'cnews': 5,\n",
       "         'lci': 3,\n",
       "         'rmc': 1,\n",
       "         'canal+': 1})"
      ]
     },
     "execution_count": 121,
     "metadata": {},
     "output_type": "execute_result"
    }
   ],
   "source": [
    "chainesTVCounter"
   ]
  },
  {
   "cell_type": "code",
   "execution_count": 124,
   "id": "b34a2f35",
   "metadata": {},
   "outputs": [
    {
     "data": {
      "image/png": "[encoded data removed]",
      "text/plain": [
       "<Figure size 1000x600 with 1 Axes>"
      ]
     },
     "metadata": {},
     "output_type": "display_data"
    }
   ],
   "source": [
    "import matplotlib.pyplot as plt\n",
    "\n",
    "labels = list(chainesTVCounter.keys())\n",
    "sizes = list(chainesTVCounter.values())\n",
    "\n",
    "plt.figure(figsize=(10, 6))\n",
    "bars = plt.bar(labels, sizes, color='skyblue')\n",
    "\n",
    "plt.title(\"Répartition des vidéos des chaînes TV\", fontsize=14)\n",
    "plt.xlabel(\"Chaînes TV\", fontsize=12)\n",
    "plt.ylabel(\"Nombre de vidéos\", fontsize=12)\n",
    "plt.xticks(rotation=45, ha='right')\n",
    "\n",
    "total_videos_tv = sum(sizes)\n",
    "plt.text(len(labels) - 2, max(sizes) * 0.8, f\"Total : {total_videos_tv} vidéos\", fontsize=12, ha='center')\n",
    "plt.text(len(labels) - 2, max(sizes) * 0.74, \"4.62% d'ensemble des vidéos\", fontsize=12, ha='center')\n",
    "\n",
    "# Ajouter les nombres au-dessus des barres et les rendre en gras\n",
    "for bar in bars:\n",
    "    yval = bar.get_height()\n",
    "    plt.text(bar.get_x() + bar.get_width() / 2, yval + 1, f'{int(yval)}', ha='center', va='bottom', fontsize=12)\n",
    "\n",
    "plt.tight_layout()\n",
    "plt.show()\n"
   ]
  },
  {
   "cell_type": "code",
   "execution_count": 123,
   "id": "7e073204",
   "metadata": {},
   "outputs": [
    {
     "data": {
      "text/plain": [
       "4.616687844133842"
      ]
     },
     "execution_count": 123,
     "metadata": {},
     "output_type": "execute_result"
    }
   ],
   "source": [
    "(218/len(videosF1))*100"
   ]
  },
  {
   "cell_type": "markdown",
   "id": "d545f6db",
   "metadata": {},
   "source": [
    "### Creer videosF2.json"
   ]
  },
  {
   "cell_type": "code",
   "execution_count": 135,
   "id": "ee1ccc2d",
   "metadata": {},
   "outputs": [
    {
     "data": {
      "text/plain": [
       "['dLUQ0xpq8g4',\n",
       " 'y16Qgap0wW8',\n",
       " 'TFeG6-UKO9U',\n",
       " 'ojIs2lHKYdA',\n",
       " 'HXbStCizF74',\n",
       " 'A1jj7uXSxs4',\n",
       " 'IRFs_Ixy9ZM',\n",
       " 'hoFV4QDkWa8',\n",
       " 'iC-3Wo43Bro',\n",
       " 'tGj_1evPWN0',\n",
       " 'r9wRwvEHFsA',\n",
       " 'yjjRv-nEdHE',\n",
       " 'HflJXjrYBCE',\n",
       " 'b7nV4URjwDk',\n",
       " 'q_nt-DDvq4o',\n",
       " 'oxjQ2xSDRU8',\n",
       " 'jsFCmSWQmUs',\n",
       " 'fRyK_Fky8q4',\n",
       " 'g11uU0ezC7s',\n",
       " 'ul0lmV0rQvM',\n",
       " '96N7p51oO4c',\n",
       " 'rX8xnkiAAOA',\n",
       " 'MnZwX830SMQ',\n",
       " 'yMD5K1sibMo',\n",
       " '6w3hqPHPogA',\n",
       " 'zZ0btQ-aZv8',\n",
       " 'NYCCwOdqPDA',\n",
       " 'WevIdMyvFUk',\n",
       " 'epHgTx5XZTU',\n",
       " 'lokfk0lj9Rk',\n",
       " 'U5CQvKiLoCo',\n",
       " 'uVmlqnrKKoA',\n",
       " 'NRZa1ciorPg',\n",
       " 'LsCnUBSPg6M',\n",
       " 'jtfRpgVpuKU',\n",
       " 'iiZFEGe0BmI',\n",
       " 'Jjg9Pz_mZ1w',\n",
       " 'boNqBNbVT7I',\n",
       " 'q2Th8GIx2zI',\n",
       " 'mePq4SsM1dw',\n",
       " 'j0vCFOUMhSk',\n",
       " 'IDSnX_flvs8',\n",
       " 'n6oZoAGd-Hg',\n",
       " 'JuN34OyMKEo',\n",
       " 'bVQRUPP_FR8',\n",
       " 'OzgkisPNHz8',\n",
       " 'B43uPl2LP2U',\n",
       " 'HfNYyNNlBfc',\n",
       " 'DIDiDXLBdXM',\n",
       " '-TttfNfM55o',\n",
       " 'jBCVqs3ubkY',\n",
       " 'OhQccUoW9j4',\n",
       " 'KGbeiCal8hI',\n",
       " 'kggG5ewMsko',\n",
       " 'y3VnajeE0DY',\n",
       " 'Fd89ir0heWQ',\n",
       " 'nG7ZrFRv_H4',\n",
       " 'XCIHepMpkVk',\n",
       " 'fqimFtLhDQk',\n",
       " 'Bw1N_z3sLXk',\n",
       " 'JyTBmA2eaEU',\n",
       " '_Qh2R-G5IFI',\n",
       " 'Y7EjXcmBKOw',\n",
       " 'so_T-oBOzlA',\n",
       " 'iG1liDz0Eb8',\n",
       " 'ru2h6Ocrxto',\n",
       " 'YwooT05uqPY',\n",
       " 'WtoGnxeeO1M',\n",
       " 'gQVLcfspq8I',\n",
       " 'VI_3r96W2KA',\n",
       " 'bwDWWEFGSzA',\n",
       " 'FX5-FMprKSw',\n",
       " '0k5C68M7yn8',\n",
       " '0pwBaoyL3Zk',\n",
       " 'Xnfwy1_ltDY',\n",
       " 'ZlFiuWbI1t0',\n",
       " 'On-7fE0twcM',\n",
       " 'iVY9-iwqZ74',\n",
       " 'PSzUjOsD4_4',\n",
       " 'zgPVQdj4gjI',\n",
       " 'fo1Eadj23II',\n",
       " '_zpW8Wk0CI0',\n",
       " 'YWvw0l3XwuM',\n",
       " 'W4mpcpBDcho',\n",
       " '2kAXZ9qdfs4',\n",
       " 'iWpgqHdOWxg',\n",
       " '4KbD4HBd5ek',\n",
       " '4WibtxSO9No',\n",
       " '-3o4WHJJAvI',\n",
       " 'C-9ZUu6Uxts',\n",
       " 'm7jJCPsyPio',\n",
       " 'uI-Msn3Yb_k',\n",
       " 'YQf5nyX30oM',\n",
       " '6yBm6YAkjBM',\n",
       " 'fvRAAyRL4cc',\n",
       " '5eIqnUiyk0A',\n",
       " 'J30YO1cl8eI',\n",
       " 'GikHBTnQ2iM',\n",
       " 'aJK8auRUCJU',\n",
       " 'rstU6WAGJ2M',\n",
       " 'KHbEJYgh_5M',\n",
       " 'Q6XIC6AIND0',\n",
       " 'qd0oKe7Gm9I',\n",
       " 'U7UqQMIvUs0',\n",
       " 'N5YLKDG9OV4',\n",
       " 'b-fMPa75qFk',\n",
       " 'OWRaTRwdXK0',\n",
       " 'Cly3Qn5HlWc',\n",
       " 'pSIgD3ghEl4',\n",
       " 'cVYPG3F28oY',\n",
       " 'ShXr1_yMtaU',\n",
       " 'bxD5ThRqak8',\n",
       " 'wl_KV_Y1xD4',\n",
       " 'eD4ACPV1gKY',\n",
       " 'V0uuR91pnRA',\n",
       " 'oMRt_4WKx0k',\n",
       " 'yoeC9nQBllk',\n",
       " '9UmVyZepRzQ',\n",
       " 'EgrhrmLA344',\n",
       " 'mzVpp3pyW34',\n",
       " 'sYENn3_cJG0',\n",
       " 'MttqtRTSZBk',\n",
       " 'h9LoGMBJpJc',\n",
       " 'RKoAxk31-gs',\n",
       " 'H8FU2zuKFjU',\n",
       " 'hI6OhrO07UE',\n",
       " 'dfc53eNKypQ',\n",
       " 'JALfcT4yQUA',\n",
       " 'WRMfc8ITIRw',\n",
       " '6C8AVG6ucis',\n",
       " 'st31YJF-95w',\n",
       " 'bDfC_BkSgCI',\n",
       " 'THreXX8iSbc',\n",
       " '3TtMMtmFO84',\n",
       " 'BKWTI5F78Q0',\n",
       " 'sZara0UrqkQ',\n",
       " 'cThjmXSGVEk',\n",
       " 'dzCTBPXoVR4',\n",
       " '4cr2Lbw-2QY',\n",
       " 'zAerYSOHS58',\n",
       " 'kph9uMmO8uw',\n",
       " '0tqwQGre-z0',\n",
       " 'bPrYPfPtTyk',\n",
       " 'DlpnHR3JtsY',\n",
       " 'xKC0SaPcrUE',\n",
       " '8fCi5by05QE',\n",
       " '-ZmLSD0SeNc',\n",
       " 'tKVvobwCk_0',\n",
       " 'D1pmYUaAv30',\n",
       " 'M--F8giS0e4',\n",
       " 'lEKy-0jH2qo',\n",
       " 'uqV7YLtAXdQ',\n",
       " 'D2B-okbBV4M',\n",
       " 'SR69-AjmT-w',\n",
       " 'AHmuF3MIHKw',\n",
       " 'K7-J0fzo0mo',\n",
       " 'X2qKTVafXWg',\n",
       " 'J7zHSvoWeNY',\n",
       " '-Ekdwa2AirU',\n",
       " '9Qosbq6osPQ',\n",
       " '0B1USKNrkRw',\n",
       " '6rnRY7nZEn0',\n",
       " '4g0Y_9-l5DE',\n",
       " 'pUBGJIxPlv0',\n",
       " 'AR0TRgehVBw',\n",
       " 'Y6GPS0UnYl4',\n",
       " 'i83BzTjUaiM',\n",
       " '2uywKYWAhkI',\n",
       " 'AljFBeoJ8Ec',\n",
       " 'G0dvnk8hzVs',\n",
       " 'eL2KHb95TKg',\n",
       " 'fTCeT1rtlbo',\n",
       " 'tHxYXLXOc0Y',\n",
       " 'dWwcCrU4kok',\n",
       " '4-utGEThJFk',\n",
       " 'EvyrT_wR9pw',\n",
       " 'nNhi1ivUpKA',\n",
       " 'ktxaES8RJtw',\n",
       " 'jwAH9WKyono',\n",
       " 'Myp-BV7gZHk',\n",
       " 'nKs8WziCq3s',\n",
       " 'RHyI-JPOueo',\n",
       " 'EAISR7uf14o',\n",
       " 'jrYo3N--AlY',\n",
       " 'sqhd5TSfRmU',\n",
       " 'JIbDuYdiRss',\n",
       " 'PQtfjHA8f1U',\n",
       " 'L-9EUMeb91w',\n",
       " 'HFCEEPmiRNg',\n",
       " 'rWeYZv-Xx_Q',\n",
       " 'zYQYqUaPDhQ',\n",
       " 'vjPDQw7bFos',\n",
       " 'dusg-mIw_YA',\n",
       " 'PeVx8G7AFmk',\n",
       " 'G3ZHCpOpXKc',\n",
       " 'XUniIIzZ5BI',\n",
       " 'z2O37y90vMI',\n",
       " 's-pT6kQ562Q',\n",
       " 'KruLweAFbqs',\n",
       " '5s5uq8QXBEc',\n",
       " 'VHr6lF6D4I8',\n",
       " 'rUbPwRX2E8I',\n",
       " '0DfroeEA9dA',\n",
       " 'TrW5hKwkPg0',\n",
       " 'V3Jpmn5gRJ4',\n",
       " 'tesYTel8NsI',\n",
       " '0sLCFMaBL2s',\n",
       " 'G9GclCdol80',\n",
       " 't7GuLzTQxrg',\n",
       " 'y1dDD9sFgHg',\n",
       " 'RXwkA-ixobY',\n",
       " 'xakoBUoTdCQ',\n",
       " '1wlAkQxwrWI',\n",
       " 'Uaex1oLoh4Y',\n",
       " 'wHgMsZWSrEg',\n",
       " 'BR5e5VMzoy8',\n",
       " 'mPe5Wc8FxrY',\n",
       " 'jrkD8Kx0wJA']"
      ]
     },
     "execution_count": 135,
     "metadata": {},
     "output_type": "execute_result"
    }
   ],
   "source": [
    "videosChainesTV"
   ]
  },
  {
   "cell_type": "code",
   "execution_count": 128,
   "id": "10a140c3",
   "metadata": {},
   "outputs": [
    {
     "data": {
      "text/plain": [
       "218"
      ]
     },
     "execution_count": 128,
     "metadata": {},
     "output_type": "execute_result"
    }
   ],
   "source": [
    "len(videosChainesTV)"
   ]
  },
  {
   "cell_type": "code",
   "execution_count": 133,
   "id": "b291bd8b",
   "metadata": {},
   "outputs": [
    {
     "name": "stdout",
     "output_type": "stream",
     "text": [
      "\u001b[1m\u001b[32m\n",
      " json saved\u001b[0m\n"
     ]
    }
   ],
   "source": [
    "videosF2 = []\n",
    "for video in videosF1:\n",
    "    if video['id_video'] not in videosChainesTV:\n",
    "        videosF2.append(video)\n",
    "saveJson(\"../jsons/videosF2.json\",videosF2)"
   ]
  },
  {
   "cell_type": "markdown",
   "id": "f8f067c2",
   "metadata": {},
   "source": [
    "verification"
   ]
  },
  {
   "cell_type": "code",
   "execution_count": 134,
   "id": "59d7bd5d",
   "metadata": {},
   "outputs": [
    {
     "data": {
      "text/plain": [
       "218"
      ]
     },
     "execution_count": 134,
     "metadata": {},
     "output_type": "execute_result"
    }
   ],
   "source": [
    "len(videosF1)-len(videosF2)"
   ]
  },
  {
   "cell_type": "code",
   "execution_count": 136,
   "id": "5a279aed",
   "metadata": {},
   "outputs": [
    {
     "data": {
      "text/plain": [
       "4722"
      ]
     },
     "execution_count": 136,
     "metadata": {},
     "output_type": "execute_result"
    }
   ],
   "source": [
    "len(videosF1)"
   ]
  },
  {
   "cell_type": "markdown",
   "id": "208c175f",
   "metadata": {},
   "source": [
    "## Filtering 3"
   ]
  },
  {
   "cell_type": "code",
   "execution_count": null,
   "id": "f90b6c5c",
   "metadata": {},
   "outputs": [],
   "source": []
  },
  {
   "cell_type": "code",
   "execution_count": null,
   "id": "3b542f16",
   "metadata": {},
   "outputs": [],
   "source": []
  },
  {
   "cell_type": "code",
   "execution_count": null,
   "id": "f8579331",
   "metadata": {},
   "outputs": [],
   "source": []
  },
  {
   "cell_type": "code",
   "execution_count": null,
   "id": "1fa0a4dd",
   "metadata": {},
   "outputs": [],
   "source": []
  }
 ],
 "metadata": {
  "kernelspec": {
   "display_name": ".venv",
   "language": "python",
   "name": "python3"
  },
  "language_info": {
   "codemirror_mode": {
    "name": "ipython",
    "version": 3
   },
   "file_extension": ".py",
   "mimetype": "text/x-python",
   "name": "python",
   "nbconvert_exporter": "python",
   "pygments_lexer": "ipython3",
   "version": "3.10.16"
  }
 },
 "nbformat": 4,
 "nbformat_minor": 5
}
