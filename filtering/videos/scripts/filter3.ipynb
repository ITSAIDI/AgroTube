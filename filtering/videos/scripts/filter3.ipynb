{
 "cells": [
  {
   "cell_type": "code",
   "execution_count": 1,
   "id": "c95e57ec",
   "metadata": {},
   "outputs": [
    {
     "data": {
      "text/plain": [
       "True"
      ]
     },
     "execution_count": 1,
     "metadata": {},
     "output_type": "execute_result"
    }
   ],
   "source": [
    "from collections import Counter\n",
    "from tqdm import tqdm \n",
    "from colorama import Style,Fore\n",
    "import os\n",
    "from utils1 import openJson,saveJson\n",
    "from dotenv import load_dotenv\n",
    "import json\n",
    "import time\n",
    "load_dotenv()"
   ]
  },
  {
   "cell_type": "code",
   "execution_count": 4,
   "id": "291d7291",
   "metadata": {},
   "outputs": [
    {
     "data": {
      "text/plain": [
       "4.05"
      ]
     },
     "execution_count": 4,
     "metadata": {},
     "output_type": "execute_result"
    }
   ],
   "source": [
    "7.1*0.5+1*0.5"
   ]
  },
  {
   "cell_type": "markdown",
   "id": "fd258fc5",
   "metadata": {},
   "source": [
    "# With Embedding model"
   ]
  },
  {
   "cell_type": "code",
   "execution_count": null,
   "id": "a3b89e38",
   "metadata": {},
   "outputs": [],
   "source": [
    "from sentence_transformers import SentenceTransformer\n",
    "\n",
    "model = SentenceTransformer(\"dangvantuan/sentence-camembert-base\")"
   ]
  },
  {
   "cell_type": "code",
   "execution_count": null,
   "id": "81f56146",
   "metadata": {},
   "outputs": [],
   "source": [
    "from sentence_transformers import util\n",
    "\n",
    "def calculateSimilarity(videoMD, documents):\n",
    "    embedding_video = model.encode([videoMD], convert_to_tensor=True, normalize_embeddings=True)\n",
    "    embeddings_documents = model.encode(documents, convert_to_tensor=True, normalize_embeddings=True)\n",
    "    scores = util.cos_sim(embedding_video, embeddings_documents)[0]\n",
    "    simScore = scores.mean().item()\n",
    "    return simScore\n"
   ]
  },
  {
   "cell_type": "code",
   "execution_count": null,
   "id": "b6e57d3f",
   "metadata": {},
   "outputs": [],
   "source": [
    "Vocabulary = openJson(\"../jsons/Voc.json\")\n",
    "\n",
    "def construire_groupes(mots_cles, taille=25):\n",
    "    phrases = []\n",
    "    for i in range(0, len(mots_cles), taille):\n",
    "        groupe = mots_cles[i:i+taille]\n",
    "        phrase = ' '.join(groupe)\n",
    "        phrases.append(phrase)\n",
    "    return phrases\n",
    "\n",
    "documents = construire_groupes(Vocabulary)"
   ]
  },
  {
   "cell_type": "code",
   "execution_count": null,
   "id": "89853b51",
   "metadata": {},
   "outputs": [],
   "source": [
    "print(len(documents))\n",
    "print(documents[7])"
   ]
  },
  {
   "cell_type": "markdown",
   "id": "5bcee4d9",
   "metadata": {},
   "source": [
    "## Test"
   ]
  },
  {
   "cell_type": "code",
   "execution_count": null,
   "id": "f56aa456",
   "metadata": {},
   "outputs": [],
   "source": [
    "requete = \"\"\"\n",
    "On a testé la cuisinière à bois... Vous connaissez?\n",
    "🙋‍♂️Et vous, vous êtes-vous déjà servi d'une cuisinière à bois? Avez-vous des conseils à nous donner pour garantir son utilisation et la sécurité inhérente à cet appareil ancestral? ❔\\n\\n➕La cuisinière à bois, c'était clairement un bonus qu'on n'avait mis dans nos préférences en visitant la maison. On connaissait certains de ses avantages, mais en l'utilisant pour la première fois, non seulement on a été conquis, mais cette expérience a révélé de nombreux points positifs qu'on ignorait. On vous raconte tout ça dans cette nouvelle vidéo! \\n\\n🙅‍♂️J'ai oublié d'évoquer un des avantages dans cette vidéo: PRENDRE LE TEMPS! C'est tellement bon de prendre plus de temps pour faire sensiblement la même chose!\\n\\n✍️On a hâte d'avoir vos retours. Depuis cette vidéo, on est retournés une fois à nos fourneaux pour fêter la Thanksgiving canadienne, et on a définitivement adopté ce nouveau compagnon de route! En plus de tous les avantages cités dans cette vidéo, c'est ultra convivial!\\n\\n😎 Si c'est votre première fois, bienvenue sur notre chaîne. Ici on va parler autonomie bien sûr, mais transition en général, que ce soit vers des nouveaux modes de consommation, vers d'autres manières de voyager, vers un vivre-ensemble qui a du sens. En famille ou sans, c'est pareil, on est dans le même bateau.\\n\\nBonne vidéo, merci de nous soutenir en vous abonnant et à très vite dans les commentaires!\\n\\n00:00 On n'y connaissait rien\\n01:12 On présente le four (avant utilisation)\\n02:55 Premier essai: Pain...\\n05:37 ... et plein d'autres trucs (on optimise)\\n06:54 On a adoré cette première expérience!\\n07:50 On déguste. Vous venez?\\n\\n( ͡❛ ᴗ ͡❛)✊ LA FAMILLE EN TRANSITION\\n\\n❤ Abonne-toi à la Chaîne pour ne rater aucune vidéo https://www.youtube.com/channel/UC2M77RNyW6O9JQhpj1-6GOA\\n✌ Laisse-nous un pouce bleu si la vidéo t'a plue\\n\\nContacte-nous à lafamilleentransition@gmail.com\",\n",
    " \"#lafamilleentransition\",\n",
    "      \"#LFET\",\n",
    "      \"#Florian Guéret\",\n",
    "      \"#Cuisinière à bois\",\n",
    "      \"#comment cuisiner avec une cuisinière à bois\",\n",
    "      \"#bois de chauffage\",\n",
    "      \"#cuisiner comme au bon vieux temps\",\n",
    "      \"#cuisiner à l'ancienne\",\n",
    "      \"#cuisine\",\n",
    "      \"#cuisiner au feu de bois\",\n",
    "      \"#cuisine moderne\",\n",
    "      \"#cuisine traditionnelle\",\n",
    "      \"#transition\",\n",
    "      \"#entransition\",\n",
    "      \"#la famille\",\n",
    "      \"#vlog famille\",\n",
    "      \"#vlog\",\n",
    "      \"#bretagne\",\n",
    "      \"#pontivy\",\n",
    "      \"#à l'abri de la pluie\",\n",
    "      \"#comment cuisiner du pain\",\n",
    "      \"#comment faire son pain en cocotte\",\n",
    "      \"#faire son pain en baguette\"\n",
    "\"\"\"\n",
    "\n",
    "\n",
    "calculateSimilarity(requete,documents)"
   ]
  },
  {
   "cell_type": "markdown",
   "id": "bc771b93",
   "metadata": {},
   "source": [
    "## Echantillon"
   ]
  },
  {
   "cell_type": "code",
   "execution_count": null,
   "id": "ca94cfb8",
   "metadata": {},
   "outputs": [],
   "source": [
    "videosF2 = openJson(\"../jsons/videosF2.json\")\n",
    "len(videosF2)"
   ]
  },
  {
   "cell_type": "code",
   "execution_count": null,
   "id": "a502bf05",
   "metadata": {},
   "outputs": [],
   "source": [
    "import random\n",
    "\n",
    "random.seed(42)\n",
    "\n",
    "echantillon = random.sample(videosF2, 400)\n",
    "saveJson(\"../jsons/echantillon.json\",echantillon)"
   ]
  },
  {
   "cell_type": "code",
   "execution_count": null,
   "id": "e529a371",
   "metadata": {},
   "outputs": [],
   "source": []
  },
  {
   "cell_type": "markdown",
   "id": "06b2af67",
   "metadata": {},
   "source": [
    "## Run and Results "
   ]
  },
  {
   "cell_type": "code",
   "execution_count": null,
   "id": "c9aa15d0",
   "metadata": {},
   "outputs": [],
   "source": [
    "echantillon = openJson(\"../jsons/echantillon.json\")\n",
    "len(echantillon)"
   ]
  },
  {
   "cell_type": "code",
   "execution_count": null,
   "id": "263aafdd",
   "metadata": {},
   "outputs": [],
   "source": [
    "approach_1_Results = []\n",
    "for video in tqdm(echantillon):\n",
    "    context = video['titre_video'] + video['description'] + ' '.join(video['tags'])\n",
    "    score = calculateSimilarity(context,documents)\n",
    "    #print(score,'  ',video['id_video'])\n",
    "    video.update({'similarity':score})\n",
    "    approach_1_Results.append(video)\n",
    "\n",
    "saveJson(\"../jsons/approach_1_Results.json\",approach_1_Results)"
   ]
  },
  {
   "cell_type": "markdown",
   "id": "3bfeb841",
   "metadata": {},
   "source": [
    "- Analyzing"
   ]
  },
  {
   "cell_type": "code",
   "execution_count": null,
   "id": "fbab13f3",
   "metadata": {},
   "outputs": [],
   "source": [
    "approach_1_Results = openJson(\"../jsons/approach_1_Results.json\")\n",
    "len(approach_1_Results)"
   ]
  },
  {
   "cell_type": "code",
   "execution_count": null,
   "id": "111f4b23",
   "metadata": {},
   "outputs": [],
   "source": [
    "sum_similarities = 0 \n",
    "for item in approach_1_Results :\n",
    "    sum_similarities+=item['similarity']\n",
    "    \n",
    "sum_similarities/len(approach_1_Results)"
   ]
  },
  {
   "cell_type": "code",
   "execution_count": null,
   "id": "2f4d2f62",
   "metadata": {},
   "outputs": [],
   "source": [
    "similarites = [item[\"similarity\"] for item in approach_1_Results]\n",
    "\n",
    "nombre_total = len(similarites)\n",
    "nombre_sup_015 = sum(s > 0.15 for s in similarites)\n",
    "pourcentage_sup_015 = (nombre_sup_015 / nombre_total) * 100\n",
    "\n",
    "print(f\"Nombre de vidéos avec similarité > 0.15 : {nombre_sup_015}\")\n",
    "print(f\"Pourcentage : {pourcentage_sup_015:.2f}%\")\n"
   ]
  },
  {
   "cell_type": "code",
   "execution_count": null,
   "id": "f51f92eb",
   "metadata": {},
   "outputs": [],
   "source": [
    "videos_sous_015 = [item for item in approach_1_Results if item[\"similarity\"] <= 0.15]\n",
    "videos_sous_015 = sorted(videos_sous_015, key=lambda x: x[\"similarity\"])\n",
    "\n",
    "videos_sur_015 = [item for item in approach_1_Results if item[\"similarity\"] > 0.15]\n",
    "videos_sur_015 = sorted(videos_sur_015, key=lambda x: x[\"similarity\"])"
   ]
  },
  {
   "cell_type": "code",
   "execution_count": null,
   "id": "376068b6",
   "metadata": {},
   "outputs": [],
   "source": [
    "for vi_sous_015 in videos_sous_015:\n",
    "    print(f\"ID vidéo: {vi_sous_015['id_video']} - Similarité: {vi_sous_015['similarity']:.2f}\")"
   ]
  },
  {
   "cell_type": "code",
   "execution_count": null,
   "id": "3a1717b0",
   "metadata": {},
   "outputs": [],
   "source": [
    "for videos_sur_015 in videos_sur_015:\n",
    "    print(f\"ID vidéo: {videos_sur_015['id_video']} - Similarité: {videos_sur_015['similarity']:.2f}\")"
   ]
  },
  {
   "cell_type": "code",
   "execution_count": null,
   "id": "675864cf",
   "metadata": {},
   "outputs": [],
   "source": []
  },
  {
   "cell_type": "markdown",
   "id": "1f47061e",
   "metadata": {},
   "source": [
    "# With LLM"
   ]
  },
  {
   "cell_type": "code",
   "execution_count": 5,
   "id": "c085a811",
   "metadata": {},
   "outputs": [],
   "source": [
    "from langchain_google_genai import GoogleGenerativeAI\n",
    "from langchain_core.prompts import ChatPromptTemplate"
   ]
  },
  {
   "cell_type": "code",
   "execution_count": 6,
   "id": "8307aa33",
   "metadata": {},
   "outputs": [],
   "source": [
    "gemini_flash_1 = GoogleGenerativeAI(model=\"gemini-2.0-flash\", google_api_key=os.getenv(\"GOOGLE_API_KEY_1\"))\n",
    "gemini_flash_2 = GoogleGenerativeAI(model=\"gemini-2.0-flash\", google_api_key=os.getenv(\"GOOGLE_API_KEY_2\"))\n",
    "gemini_flash_3 = GoogleGenerativeAI(model=\"gemini-2.0-flash\", google_api_key=os.getenv(\"GOOGLE_API_KEY_3\"))"
   ]
  },
  {
   "cell_type": "code",
   "execution_count": 21,
   "id": "db19a2d8",
   "metadata": {},
   "outputs": [],
   "source": [
    "sysprompt = \"\"\"\n",
    "# La définition d’autosuffisance\n",
    "\n",
    "L'autosuffisance est la démarche visant à acquérir la capacité de subvenir par soi-même à ses besoins fondamentaux, \n",
    "en premier lieu alimentaires par l'autoconsommation – c'est-à-dire produire, récolter et conserver un maximum de sa propre nourriture, \n",
    "souvent en privilégiant le bio, le local et le saisonnier. \n",
    "\n",
    "L'autosuffisance Plus qu'une simple recherche d'autonomie matérielle, elle représente un engagement pour être moins dépendant du système économique et social extérieur, impliquant des choix concrets comme trouver un lieu propice et le concevoir judicieusement (par exemple en permaculture), \n",
    "ainsi qu'un changement dans la manière de valoriser son temps et de consommer, formant ainsi le fondement d'une vie plus autonome.\n",
    "\n",
    "---\n",
    "\n",
    "# Votre mission\n",
    "\n",
    "- Décider si une vidéo concerne la thématique de l'autosuffisance en se basant sur ses métadonnées (titre, description, tags).  \n",
    "- Les vlogs, les interviews et les vidéos de partage d'expériences en lien avec l'autosuffisance sont intéressants.  \n",
    "- Les tutoriels et les vidéos de conseils sont également pertinents.  \n",
    "- Les vidéos présentant une technique liée à l'autosuffisance ou y contribuant sont utiles.  \n",
    "- Attribuer un score (float) de 1 à 10 pour évaluer la pertinence de la vidéo par rapport à la thématique de l'autosuffisance.\n",
    "- Donner un score plus élevé pour les vidéos qui mentionnent explicitement des mots-clés liés à cette thématique.\n",
    "\n",
    "---\n",
    "\n",
    "# Votre réponse  \n",
    "\n",
    "- La réponse doit être au format JSON :  \n",
    "  \n",
    "    \"decision\": \"oui ou non\",\n",
    "    \"justification\": \"Justifiez votre décision avec des arguments\"\n",
    "    \"score\": Votre évaluation en format décimal pour que ce soit plus précis.\n",
    " \n",
    "\"\"\"\n",
    "\n",
    "userprompt = \"\"\"\n",
    "Titre\n",
    "---\n",
    "{titre}\n",
    "Description\n",
    "---\n",
    "{description}\n",
    "tags\n",
    "---\n",
    "{tags}\n",
    "\"\"\"\n",
    "\n",
    "prompt = ChatPromptTemplate([\n",
    "    (\"system\", sysprompt),\n",
    "    (\"user\", userprompt)\n",
    "])\n",
    "\n",
    "chain_1 = prompt | gemini_flash_1\n",
    "chain_2 = prompt | gemini_flash_2\n",
    "chain_3 = prompt | gemini_flash_3\n"
   ]
  },
  {
   "cell_type": "markdown",
   "id": "75faf29a",
   "metadata": {},
   "source": [
    "## Test"
   ]
  },
  {
   "cell_type": "code",
   "execution_count": 22,
   "id": "ba4688eb",
   "metadata": {},
   "outputs": [
    {
     "name": "stdout",
     "output_type": "stream",
     "text": [
      "{'titre': \"Projet Liberté : L'autonomie c'est les travaux\", 'description': '', 'tags': ''}\n",
      "```json\n",
      "{\n",
      "\"decision\": \"oui\",\n",
      "\"justification\": \"Le titre de la vidéo mentionne l'autonomie, qui est un concept central de l'autosuffisance. Le titre suggère également que la vidéo traite des travaux liés à l'autonomie, ce qui pourrait inclure des aspects pratiques de l'autosuffisance.\",\n",
      "\"score\": 7.5\n",
      "}\n",
      "```\n"
     ]
    }
   ],
   "source": [
    "input = {\"titre\":\"Projet Liberté : L'autonomie c'est les travaux\",\n",
    "         \"description\":\"\",\n",
    "         \"tags\":', '.join( [\n",
    "     \n",
    "    ])}\n",
    "print(input)\n",
    "print(chain_1.invoke(input))"
   ]
  },
  {
   "cell_type": "code",
   "execution_count": 25,
   "id": "73a7b973",
   "metadata": {},
   "outputs": [
    {
     "name": "stdout",
     "output_type": "stream",
     "text": [
      "{'titre': 'Pourquoi isoler au béton de chanvre ? 🌿', 'description': '\\n         \\n         Vincent, expert en eco-construction et rénovation vous partage les avantages à isoler vos murs en béton de chanvre ! 🌱\\n\\n            Le béton de chanvre, ou isolation chaux chanvre, est un matériau de construction composé de chenevotte (partie intérieure de la tige de chanvre) et d’un liant comme la chaux !\\n\\n            Léger, respirant, isolant thermique et acoustique, l’isolation en béton de chanvre présente de nombreux avantages ! 👌\\n\\n            Envie d’en savoir plus et de vous y mettre ?\\n            Découvrez nos stages pratiques en bio !\\n\\n            #chauxchanvre #betondechanvre #isolation #renovation #autoconstruction #constructiondurable #autonomie\\n         ', 'tags': ''}\n",
      "```json\n",
      "{\n",
      "    \"decision\": \"oui\",\n",
      "    \"justification\": \"La vidéo traite de l'isolation au béton de chanvre, un matériau écologique utilisé dans l'éco-construction et la rénovation. Les mots-clés comme \\\"autoconstruction\\\", \\\"construction durable\\\" et \\\"autonomie\\\" suggèrent un lien avec la thématique de l'autosuffisance, notamment en termes d'habitat autonome et de réduction de la dépendance aux matériaux de construction conventionnels.\",\n",
      "    \"score\": 8.5\n",
      "}\n",
      "```\n"
     ]
    }
   ],
   "source": [
    "input = {\"titre\":\"Pourquoi isoler au béton de chanvre ? 🌿\",\n",
    "         \"description\":\"\"\"\n",
    "         \n",
    "         Vincent, expert en eco-construction et rénovation vous partage les avantages à isoler vos murs en béton de chanvre ! 🌱\n",
    "\n",
    "            Le béton de chanvre, ou isolation chaux chanvre, est un matériau de construction composé de chenevotte (partie intérieure de la tige de chanvre) et d’un liant comme la chaux !\n",
    "\n",
    "            Léger, respirant, isolant thermique et acoustique, l’isolation en béton de chanvre présente de nombreux avantages ! 👌\n",
    "\n",
    "            Envie d’en savoir plus et de vous y mettre ?\n",
    "            Découvrez nos stages pratiques en bio !\n",
    "\n",
    "            #chauxchanvre #betondechanvre #isolation #renovation #autoconstruction #constructiondurable #autonomie\n",
    "         \"\"\"\n",
    "         ,\n",
    "         \"tags\":', '.join( [\n",
    "     \n",
    "    ])}\n",
    "print(input)\n",
    "print(chain_1.invoke(input))"
   ]
  },
  {
   "cell_type": "code",
   "execution_count": 23,
   "id": "8803121a",
   "metadata": {},
   "outputs": [
    {
     "name": "stdout",
     "output_type": "stream",
     "text": [
      "{'titre': \"[Salon de l'herbe] Autonomie protéique : des élevages laitiers très inégaux\", 'description': 'Les systèmes bovins laitiers français sont divers et ne sont pas égaux face à l’autonomie protéique. L’historique et la grande exhaustivité de la base de données Res’Alim® permet d’observer cette diversité. Elle permet en particulier de comprendre comment se construisent les situations d’autonomie au cours de l’année et de mesurer l’impact sur les rations et les résultats économiques.', 'tags': ''}\n",
      "```json\n",
      "{\n",
      "  \"decision\": \"oui\",\n",
      "  \"justification\": \"La vidéo aborde l'autonomie protéique dans les élevages laitiers, ce qui est un aspect de l'autosuffisance alimentaire. Le titre et la description mentionnent des mots-clés pertinents comme \\\"autonomie\\\" et \\\"élevage laitier\\\".\",\n",
      "  \"score\": 7.5\n",
      "}\n",
      "```\n"
     ]
    }
   ],
   "source": [
    "input = {\"titre\":\"[Salon de l'herbe] Autonomie protéique : des élevages laitiers très inégaux\",\n",
    "         \"description\":\"Les systèmes bovins laitiers français sont divers et ne sont pas égaux face à l’autonomie protéique. L’historique et la grande exhaustivité de la base de données Res’Alim® permet d’observer cette diversité. Elle permet en particulier de comprendre comment se construisent les situations d’autonomie au cours de l’année et de mesurer l’impact sur les rations et les résultats économiques.\",\n",
    "         \"tags\":', '.join( [\n",
    "     \n",
    "    ])}\n",
    "print(input)\n",
    "print(chain_1.invoke(input))"
   ]
  },
  {
   "cell_type": "code",
   "execution_count": null,
   "id": "b6bb38bd",
   "metadata": {},
   "outputs": [],
   "source": []
  },
  {
   "cell_type": "code",
   "execution_count": null,
   "id": "9c4a53c5",
   "metadata": {},
   "outputs": [],
   "source": []
  },
  {
   "cell_type": "markdown",
   "id": "db721a02",
   "metadata": {},
   "source": [
    "## Run and Results "
   ]
  },
  {
   "cell_type": "code",
   "execution_count": null,
   "id": "544cb794",
   "metadata": {},
   "outputs": [],
   "source": [
    "def cleanAnswer(answer):\n",
    "    answer = answer.strip(\"`\")   \n",
    "    if answer.startswith(\"json\"):\n",
    "        answer = answer[4:].strip() \n",
    "    return  answer"
   ]
  },
  {
   "cell_type": "code",
   "execution_count": null,
   "id": "6a5310e8",
   "metadata": {},
   "outputs": [],
   "source": [
    "echantillon = openJson(\"../jsons/echantillon.json\")\n",
    "approach_2_Results = []\n",
    "count1 = 0\n",
    "count2 = 0\n",
    "temp = 0\n",
    "\n",
    "for video in tqdm(echantillon):\n",
    "    input = {\"titre\":video['titre_video'],\n",
    "             \"description\":video['description'],\n",
    "             \"tags\":', '.join(video['tags']),}\n",
    "    try:\n",
    "        if count1  <= 13:\n",
    "            print(\"KEY 1\")\n",
    "        \n",
    "            answer = cleanAnswer(chain_1.invoke(input))\n",
    "            #print(video['id_video'],'/n',answer)\n",
    "            video.update(json.loads(answer))\n",
    "            approach_2_Results.append(video)\n",
    "            \n",
    "            count1+=1\n",
    "            temp+=1            \n",
    "             \n",
    "            print(\"count1 \",count1)  \n",
    "            \n",
    "        if count1  > 13 and count2 <= 13:\n",
    "            print(\"KEY 2\")\n",
    "            \n",
    "            answer = cleanAnswer(chain_2.invoke(input))\n",
    "            #print(video['id_video'],'/n',answer)\n",
    "            video.update(json.loads(answer))\n",
    "            approach_2_Results.append(video)\n",
    "            \n",
    "            count2+=1\n",
    "            temp+=1\n",
    "            print(\"count2 \",count2)  \n",
    "            \n",
    "        if count1 > 13 and count2 > 13 :\n",
    "            print(\"sleep for 1 min\")\n",
    "            time.sleep(60)\n",
    "            count1 = 0\n",
    "            count2 = 0\n",
    "        \n",
    "\n",
    "        if temp >= 100:\n",
    "            saveJson(\"../jsons/approach_2_Results.json\",approach_2_Results)\n",
    "            temp=0\n",
    "            \n",
    "    except Exception as e:\n",
    "        print(f\"error {e}\")"
   ]
  },
  {
   "cell_type": "markdown",
   "id": "6b8ddd64",
   "metadata": {},
   "source": [
    "## Validate the llmResults"
   ]
  },
  {
   "cell_type": "markdown",
   "id": "5ef799dd",
   "metadata": {},
   "source": [
    "### Validate the pertinent videos"
   ]
  },
  {
   "cell_type": "code",
   "execution_count": 28,
   "id": "90033c81",
   "metadata": {},
   "outputs": [
    {
     "name": "stdout",
     "output_type": "stream",
     "text": [
      "3309\n",
      "350\n"
     ]
    }
   ],
   "source": [
    "channels = openJson(\"../../../collecting/jsons/channels.json\")\n",
    "llmVideosOui = openJson(\"../jsons/llmVideosOui.json\")\n",
    "\n",
    "print(len(channels))\n",
    "print(len(llmVideosOui))"
   ]
  },
  {
   "cell_type": "code",
   "execution_count": 29,
   "id": "69b67d95",
   "metadata": {},
   "outputs": [],
   "source": [
    "def getChannelName(ID):\n",
    "    for channel in channels:\n",
    "        if channel['id_chaine']==ID:\n",
    "            return channel['nom_chaine'] "
   ]
  },
  {
   "cell_type": "code",
   "execution_count": null,
   "id": "5628ee55",
   "metadata": {},
   "outputs": [],
   "source": [
    "llmVideosOui_channelnames = []\n",
    "for videoOui in llmVideosOui:\n",
    "    llmVideosOui_channelnames.append(getChannelName(videoOui['id_chaine']))\n",
    "    \n",
    "namesCounter = Counter(llmVideosOui_channelnames)    "
   ]
  },
  {
   "cell_type": "code",
   "execution_count": null,
   "id": "6ae43141",
   "metadata": {},
   "outputs": [],
   "source": [
    "namesCounter\n",
    "\n",
    "len(namesCounter)"
   ]
  },
  {
   "cell_type": "code",
   "execution_count": null,
   "id": "99afc8a1",
   "metadata": {},
   "outputs": [],
   "source": [
    "namesCounter"
   ]
  },
  {
   "cell_type": "code",
   "execution_count": null,
   "id": "0a971151",
   "metadata": {},
   "outputs": [],
   "source": [
    "valideChannels = [\"L'ArchiPelle\",\n",
    "                  'Ver de Terre Production',\n",
    "                  'Atelier Fertile',\n",
    "                  'Nature-Simple.com',\n",
    "                  'Scop Terre vivante',\n",
    "                  'Rustica',\n",
    "                  'La clé des champs',\n",
    "                  'permaculture agroécologie etc...',\n",
    "                  'Permaculture Design',\n",
    "                  'Julien Malara',\n",
    "                  'Ecolobionature Isabelle B.',\n",
    "                  \"La p'tite ortie dans la prairie\",\n",
    "                  'Björn Duval',\n",
    "                  'PERMAFUTUR TV',\n",
    "                  'Destination Bonheur',\n",
    "                  \"Le potager d'Olivier\",\n",
    "                  'Chez Picro',\n",
    "                  'Pierre1911',\n",
    "                  \"Le Jardin d'Emerveille\",\n",
    "                  \"L' AUTONOMIE DU BONHEUR\",\n",
    "                  \"Permacult' Urbaine\",\n",
    "                  'Devenir Autosuffisant par Robert RIVIERE',\n",
    "                  'Loic Vauclin (Le Jardineur)',\n",
    "                    'fredo brico',\n",
    "                    'Edenguard',\n",
    "                    'Xavier Mathias',\n",
    "                    'Nouvelle Graine',\n",
    "                    'Lakaban Autonome',\n",
    "                    'La Ferme de Cagnolle',\n",
    "                     'Avenir Permaculture',\n",
    "                   'Alexandre Leroux',\n",
    "                            \n",
    "                  ]\n",
    "\n",
    "len(valideChannels)"
   ]
  },
  {
   "cell_type": "code",
   "execution_count": null,
   "id": "72fbf042",
   "metadata": {},
   "outputs": [],
   "source": [
    "count = 0\n",
    "for videoOui in llmVideosOui:\n",
    "    if getChannelName(videoOui['id_chaine']) in valideChannels:\n",
    "        videoOui['validation']='oui'\n",
    "        count+=1\n",
    "    else :\n",
    "        videoOui['validation']=''\n",
    "print(count)"
   ]
  },
  {
   "cell_type": "code",
   "execution_count": null,
   "id": "f3e19120",
   "metadata": {},
   "outputs": [],
   "source": [
    "saveJson(\"../jsons/llmVideosOui.json\",llmVideosOui)"
   ]
  },
  {
   "cell_type": "code",
   "execution_count": null,
   "metadata": {},
   "outputs": [],
   "source": [
    "ToValidate = []\n",
    "for videoOui in llmVideosOui:\n",
    "    if videoOui['validation']=='':\n",
    "        videoOui['lien']= f\"https://www.youtube.com/watch?v={videoOui['id_video']}\"\n",
    "        ToValidate.append(videoOui)\n",
    "   \n",
    "saveJson(\"../jsons/ToValidate.json\",ToValidate)        \n",
    "print(len(ToValidate))"
   ]
  },
  {
   "cell_type": "code",
   "execution_count": null,
   "id": "472d4797",
   "metadata": {},
   "outputs": [],
   "source": [
    "ToValidate = openJson(\"../jsons/ToValidate.json\")\n",
    "validations = []\n",
    "for val in ToValidate:\n",
    "    validations.append(val['validation'])\n",
    "    \n",
    "validationsCounter = Counter(validations)\n",
    "validationsCounter"
   ]
  },
  {
   "cell_type": "markdown",
   "id": "7c83aa6a",
   "metadata": {},
   "source": [
    "- Reintegrate the ToValidate into llmVideosOui.json"
   ]
  },
  {
   "cell_type": "code",
   "execution_count": null,
   "metadata": {},
   "outputs": [],
   "source": [
    "ToValidate = openJson(\"../jsons/ToValidate.json\")\n",
    "llmVideosOui = openJson(\"../jsons/llmVideosOui.json\")\n",
    "\n",
    "for videoOui in llmVideosOui:\n",
    "    if videoOui['validation']=='':\n",
    "        for tt in ToValidate:\n",
    "            if tt['id_video']==videoOui['id_video']:\n",
    "                videoOui['validation']=tt['validation']\n",
    "        \n",
    "saveJson(\"../jsons/llmVideosOui.json\",llmVideosOui)"
   ]
  },
  {
   "cell_type": "code",
   "execution_count": null,
   "id": "9f4b5511",
   "metadata": {},
   "outputs": [],
   "source": [
    "finalResults = []\n",
    "for videoOui in llmVideosOui:\n",
    "    finalResults.append(videoOui['validation'])\n",
    "\n",
    "finalResultsCounter = Counter(finalResults)\n",
    "finalResultsCounter"
   ]
  },
  {
   "cell_type": "code",
   "execution_count": null,
   "id": "3ecd3d13",
   "metadata": {},
   "outputs": [],
   "source": []
  },
  {
   "cell_type": "markdown",
   "id": "9af7ab0d",
   "metadata": {},
   "source": [
    "### Validate the non pertinent videos"
   ]
  },
  {
   "cell_type": "code",
   "execution_count": null,
   "id": "d18ded35",
   "metadata": {},
   "outputs": [],
   "source": [
    "llmVideosNon = openJson(\"../jsons/llmVideosNon.json\")\n",
    "len(llmVideosNon)"
   ]
  },
  {
   "cell_type": "code",
   "execution_count": null,
   "id": "daeb7082",
   "metadata": {},
   "outputs": [],
   "source": [
    "for videoNon in llmVideosNon:\n",
    "    videoNon['lien']= f\"https://www.youtube.com/watch?v={videoNon['id_video']}\"\n",
    "    videoNon['validation']=''\n",
    "\n",
    "saveJson(\"../jsons/llmVideosNon.json\",llmVideosNon)"
   ]
  },
  {
   "cell_type": "code",
   "execution_count": null,
   "id": "5c563f2e",
   "metadata": {},
   "outputs": [],
   "source": [
    "finalResults = []\n",
    "for videoNon in llmVideosNon:\n",
    "    finalResults.append(videoNon['validation'])\n",
    "\n",
    "finalResultsCounter = Counter(finalResults)\n",
    "finalResultsCounter"
   ]
  },
  {
   "cell_type": "code",
   "execution_count": null,
   "id": "ef3398a0",
   "metadata": {},
   "outputs": [],
   "source": [
    "TP = 285\n",
    "FP = 65\n",
    "FN = 2\n",
    "TN = 48\n",
    "\n",
    "accuracy = (TP + TN) / (TP + TN + FP + FN)\n",
    "precision = TP / (TP + FP)\n",
    "recall = TP / (TP + FN)\n",
    "f1_score = 2 * (precision * recall) / (precision + recall)\n",
    "\n",
    "print(f\"Accuracy : {accuracy:.2%}\")\n",
    "print(f\"Precision: {precision:.2%}\")\n",
    "print(f\"Recall   : {recall:.2%}\")\n",
    "print(f\"F1-score : {f1_score:.2%}\")\n"
   ]
  },
  {
   "cell_type": "markdown",
   "id": "8b484c7d",
   "metadata": {},
   "source": [
    "### groundTruth for the next steps"
   ]
  },
  {
   "cell_type": "code",
   "execution_count": null,
   "id": "41eca581",
   "metadata": {},
   "outputs": [],
   "source": [
    "llmVideosNon = openJson(\"../jsons/llmVideosNon.json\")\n",
    "llmVideosOui = openJson(\"../jsons/llmVideosOui.json\")\n",
    "videosF2 = openJson(\"../jsons/videosF2.json\")\n",
    "\n",
    "def getVideo(ID):\n",
    "    for v in videosF2:\n",
    "        if v['id_video']==ID:\n",
    "            return v\n",
    "\n",
    "print(len(videosF2))\n",
    "print(len(llmVideosNon),' ',len(llmVideosOui))\n",
    "\n"
   ]
  },
  {
   "cell_type": "code",
   "execution_count": null,
   "id": "8e77fac4",
   "metadata": {},
   "outputs": [],
   "source": [
    "groundTruth = []\n",
    "\n",
    "for video in llmVideosNon:\n",
    "    v = getVideo(video['id_video'])\n",
    "    v['pertinente'] = video['validation']\n",
    "    groundTruth.append(v)\n",
    "    \n",
    "for video in llmVideosOui:\n",
    "    v = getVideo(video['id_video'])\n",
    "    v['pertinente'] = video['validation']\n",
    "    groundTruth.append(v)  \n",
    "      \n",
    "len(groundTruth)"
   ]
  },
  {
   "cell_type": "code",
   "execution_count": null,
   "id": "82a1af28",
   "metadata": {},
   "outputs": [],
   "source": [
    "saveJson(\"../jsons/groundTruth.json\",groundTruth)"
   ]
  },
  {
   "cell_type": "markdown",
   "id": "849930ff",
   "metadata": {},
   "source": [
    "# Number of search queries"
   ]
  },
  {
   "cell_type": "markdown",
   "id": "1bd36f3c",
   "metadata": {},
   "source": [
    "## nbrQueries "
   ]
  },
  {
   "cell_type": "code",
   "execution_count": null,
   "id": "b358c871",
   "metadata": {},
   "outputs": [],
   "source": [
    "channels = openJson(\"../../../collecting/jsons/channels.json\")\n",
    "len(channels)"
   ]
  },
  {
   "cell_type": "code",
   "execution_count": null,
   "id": "8aa9cd8a",
   "metadata": {},
   "outputs": [],
   "source": [
    "queriesCounter = []\n",
    "for video in videosF2:\n",
    "    for channel in channels:\n",
    "        if channel['id_chaine'] == video['id_chaine']:\n",
    "            channelname = channel['nom_chaine']\n",
    "    queriesCounter.append({\n",
    "        'id_video': video['id_video'],\n",
    "        'numQueries': len(video['requete']),\n",
    "        'channelname': channelname\n",
    "    })\n",
    "\n",
    "queriesCounter = sorted(queriesCounter, key=lambda x: x['numQueries'], reverse=True)\n",
    "\n",
    "total_queries = sum(item['numQueries'] for item in queriesCounter)\n",
    "nombre_videos = len(queriesCounter)\n",
    "moyenne_queries = total_queries / nombre_videos\n",
    "\n",
    "print(queriesCounter[:5])\n",
    "print(moyenne_queries)"
   ]
  },
  {
   "cell_type": "markdown",
   "id": "220b37ae",
   "metadata": {},
   "source": [
    "- La moyenne de **nbrQueries** pour les vidéos non pertinentes."
   ]
  },
  {
   "cell_type": "code",
   "execution_count": null,
   "id": "b2a76b81",
   "metadata": {},
   "outputs": [],
   "source": [
    "groundTruth = openJson(\"../jsons/groundTruth.json\")"
   ]
  },
  {
   "cell_type": "code",
   "execution_count": null,
   "id": "f204df84",
   "metadata": {},
   "outputs": [],
   "source": [
    "queriesCounterNon = []\n",
    "queriesCounterOui = []\n",
    "\n",
    "for video in groundTruth:\n",
    "    if video['pertinente']=='oui':\n",
    "        queriesCounterOui.append(len(video['requete']))\n",
    "    else:\n",
    "        queriesCounterNon.append(len(video['requete']))\n",
    "\n",
    "print(len(queriesCounterOui))\n",
    "print(len(queriesCounterNon))"
   ]
  },
  {
   "cell_type": "code",
   "execution_count": null,
   "id": "1d9fb209",
   "metadata": {},
   "outputs": [],
   "source": [
    "print(f'Moyenne de nbrQueries pour les vidéos non pertinentes : {sum(queriesCounterNon)/len(queriesCounterNon)}')\n",
    "print(f'Moyenne de nbrQueries pour les vidéos  pertinentes : {sum(queriesCounterOui)/len(queriesCounterOui)}')"
   ]
  },
  {
   "cell_type": "markdown",
   "id": "fcb91240",
   "metadata": {},
   "source": [
    "=> nbrQueries est un bon indicateur de pertinence des videos."
   ]
  },
  {
   "cell_type": "code",
   "execution_count": null,
   "id": "31111684",
   "metadata": {},
   "outputs": [],
   "source": []
  },
  {
   "cell_type": "markdown",
   "id": "9358077e",
   "metadata": {},
   "source": [
    "## Indice de pertinence"
   ]
  },
  {
   "cell_type": "markdown",
   "id": "dc5ed746",
   "metadata": {},
   "source": [
    "I.P = llmScore × α + numQueries × β\n",
    "\n",
    "- On teste au depart avec alpha= 0.7 et beta = 0.3 sur notre echantillon "
   ]
  },
  {
   "cell_type": "markdown",
   "id": "1a0dde13",
   "metadata": {},
   "source": [
    "### les IP pour echantillon"
   ]
  },
  {
   "cell_type": "code",
   "execution_count": null,
   "id": "8dbc7be9",
   "metadata": {},
   "outputs": [],
   "source": [
    "approach_2_Results = openJson(\"../jsons/approach_2_Results.json\")\n",
    "echantillon = openJson(\"../jsons/echantillon.json\")\n",
    "\n",
    "print(len(approach_2_Results))\n",
    "print(len(echantillon))"
   ]
  },
  {
   "cell_type": "code",
   "execution_count": null,
   "id": "dddc1977",
   "metadata": {},
   "outputs": [],
   "source": [
    "def getEchantillonIP(alpha):\n",
    "    beta = 1-alpha\n",
    "    echantillonIP_Results = []\n",
    "    \n",
    "    for item in echantillon:\n",
    "        nbrQueries = len(item['requete'])\n",
    "        for v in approach_2_Results:\n",
    "            if v['id_video']==item['id_video']:\n",
    "                llmScore = v['score']\n",
    "        itemIP = llmScore*alpha + nbrQueries*beta\n",
    "        item['IP']=itemIP\n",
    "        echantillonIP_Results.append(item)\n",
    "        \n",
    "    return echantillonIP_Results"
   ]
  },
  {
   "cell_type": "code",
   "execution_count": null,
   "id": "aac3bf50",
   "metadata": {},
   "outputs": [],
   "source": [
    "echantillonIP_Results = getEchantillonIP(alpha=0.8)\n",
    "saveJson(\"../jsons/echantillonIP_Results.json\",echantillonIP_Results)\n",
    "print(len(echantillonIP_Results))"
   ]
  },
  {
   "cell_type": "code",
   "execution_count": null,
   "id": "1c795190",
   "metadata": {},
   "outputs": [],
   "source": []
  },
  {
   "cell_type": "markdown",
   "id": "3e4aa5df",
   "metadata": {},
   "source": [
    "### Distribution des IP"
   ]
  },
  {
   "cell_type": "code",
   "execution_count": null,
   "id": "e9e1bb38",
   "metadata": {},
   "outputs": [],
   "source": [
    "echantillonIP_Results = openJson(\"../jsons/echantillonIP_Results.json\")"
   ]
  },
  {
   "cell_type": "code",
   "execution_count": null,
   "metadata": {},
   "outputs": [],
   "source": [
    "import numpy as np\n",
    "import matplotlib.pyplot as plt\n",
    "\n",
    "ip_values = [item['IP'] for item in echantillonIP_Results]\n",
    "\n",
    "plt.boxplot(ip_values, vert=True)\n",
    "plt.title('Boxplot des valeurs de IP')\n",
    "plt.show()"
   ]
  },
  {
   "cell_type": "code",
   "execution_count": null,
   "metadata": {},
   "outputs": [],
   "source": [
    "min_val = np.min(ip_values)\n",
    "q1 = np.percentile(ip_values, 25)\n",
    "median = np.median(ip_values)\n",
    "q3 = np.percentile(ip_values, 75)\n",
    "max_val = np.max(ip_values)\n",
    "\n",
    "iqr = q3 - q1\n",
    "lower_limit = q1 - 1.5 * iqr\n",
    "upper_limit = q3 + 1.5 * iqr\n",
    "\n",
    "print(f'Min     = {min_val:.2f}')\n",
    "print(f'Q1      = {q1:.2f}')\n",
    "print(f'Median  = {median:.2f}')\n",
    "print(f'Q3      = {q3:.2f}')\n",
    "print(f'Max     = {max_val:.2f}')\n",
    "print(f'IQR     = {iqr:.2f}')\n",
    "print(f'Limite inférieure des moustaches = {lower_limit:.2f}')\n",
    "print(f'Limite supérieure des moustaches = {upper_limit:.2f}')\n"
   ]
  },
  {
   "cell_type": "markdown",
   "id": "c36a0c2c",
   "metadata": {},
   "source": [
    "### Choix de alpha et seuil "
   ]
  },
  {
   "cell_type": "code",
   "execution_count": null,
   "id": "dd0fae03",
   "metadata": {},
   "outputs": [],
   "source": [
    "groundTruth = openJson(\"../jsons/groundTruth.json\")"
   ]
  },
  {
   "cell_type": "code",
   "execution_count": null,
   "id": "91cbb378",
   "metadata": {},
   "outputs": [],
   "source": [
    "def getEvaluationMetrics(TP,TN,FP,FN):\n",
    "    \n",
    "    accuracy = (TP + TN) / (TP + TN + FP + FN)\n",
    "    precision = TP / (TP + FP)\n",
    "    recall = TP / (TP + FN)\n",
    "    f1_score = 2 * (precision * recall) / (precision + recall)\n",
    "    \n",
    "    #print(f\"Accuracy : {accuracy:.2%}\")\n",
    "    #print(f\"F1-score : {f1_score:.2%}\")\n",
    "    return round(accuracy,2),round(f1_score,2)\n",
    "    \n",
    "def getGround(ID):\n",
    "    for g in groundTruth:\n",
    "        if g['id_video']==ID:\n",
    "            return g['pertinente']"
   ]
  },
  {
   "cell_type": "code",
   "execution_count": null,
   "id": "e6a2a1bc",
   "metadata": {},
   "outputs": [],
   "source": [
    "import matplotlib.pyplot as plt\n",
    "import numpy as np\n",
    "\n",
    "def getMetrics(alpha,seuil):\n",
    "    echantillonIP_Results = getEchantillonIP(alpha)\n",
    "    totalPositive = 0\n",
    "    totalNegative = 0\n",
    "    TP = 0\n",
    "    TN = 0\n",
    "    for item in echantillonIP_Results:\n",
    "        if item['IP'] <= seuil:\n",
    "            totalNegative+=1\n",
    "            groundResult = getGround(item['id_video'])\n",
    "            if groundResult == 'non':\n",
    "                TN+=1\n",
    "        else:\n",
    "            totalPositive+=1\n",
    "            groundResult = getGround(item['id_video'])\n",
    "            if groundResult == 'oui':\n",
    "                TP+=1\n",
    "    FN = totalNegative-TN\n",
    "    FP = totalPositive-TP\n",
    "    \n",
    "    accuracy,f1_score = getEvaluationMetrics(TP,TN,FP,FN)\n",
    "    \n",
    "    #print(f\"Accuracy : {accuracy:.2%}\")\n",
    "    #print(f\"F1-score : {f1_score:.2%}\")\n",
    "    \n",
    "    return accuracy,f1_score \n",
    "\n",
    "def getalphaVariation(seuil):\n",
    "    accuracyValues = []\n",
    "    f1ScoreValues = []\n",
    "    \n",
    "    for alpha in np.arange(0, 1.1, 0.1):\n",
    "        accuracy,f1_score = getMetrics(alpha,seuil)\n",
    "        accuracyValues.append(accuracy)\n",
    "        f1ScoreValues.append(f1_score)\n",
    "        \n",
    "    ## Plot \n",
    "    \n",
    "    plt.figure(figsize=(8, 5))\n",
    "    plt.plot(np.arange(0, 1.1, 0.1), accuracyValues, marker='o', color='blue', label='Accuracy')\n",
    "    plt.plot(np.arange(0, 1.1, 0.1), f1ScoreValues, marker='s', color='green', label='F1 Score')\n",
    "    plt.xlabel('Alpha')\n",
    "    plt.ylabel('Score')\n",
    "    plt.title(f'Accuracy et F1 Score en fonction de Alpha (seuil = {seuil})')\n",
    "    plt.legend()\n",
    "    plt.grid(True)\n",
    "    plt.show()\n"
   ]
  },
  {
   "cell_type": "code",
   "execution_count": null,
   "id": "51604d30",
   "metadata": {},
   "outputs": [],
   "source": [
    "def gridSearchAlphaSeuil():\n",
    "    best_alpha_acc = None\n",
    "    best_seuil_acc = None\n",
    "    best_accuracy = 0\n",
    "\n",
    "    best_alpha_f1 = None\n",
    "    best_seuil_f1 = None\n",
    "    best_f1 = 0\n",
    "\n",
    "    best_alpha_sum = None\n",
    "    best_seuil_sum = None\n",
    "    best_sum = 0\n",
    "    best_sum_accuracy = 0\n",
    "    best_sum_f1 = 0\n",
    "\n",
    "    seuils = range(1, 11)\n",
    "    alphas = np.arange(0, 1.1, 0.1)\n",
    "\n",
    "    total = len(seuils) * len(alphas)\n",
    "    pbar = tqdm(total=total, desc=\"Grid Search\")\n",
    "\n",
    "    for seuil in seuils:\n",
    "        for alpha in alphas:\n",
    "            try:\n",
    "                accuracy, f1_score = getMetrics(alpha, seuil)\n",
    "                score_sum = accuracy + f1_score\n",
    "\n",
    "                if accuracy > best_accuracy:\n",
    "                    best_accuracy = accuracy\n",
    "                    best_alpha_acc = alpha\n",
    "                    best_seuil_acc = seuil\n",
    "\n",
    "                if f1_score > best_f1:\n",
    "                    best_f1 = f1_score\n",
    "                    best_alpha_f1 = alpha\n",
    "                    best_seuil_f1 = seuil\n",
    "\n",
    "                if score_sum > best_sum:\n",
    "                    best_sum = score_sum\n",
    "                    best_alpha_sum = alpha\n",
    "                    best_seuil_sum = seuil\n",
    "                    best_sum_accuracy = accuracy\n",
    "                    best_sum_f1 = f1_score\n",
    "\n",
    "            except:\n",
    "                print(f\"Combinaison impossible : seuil={seuil}, alpha={alpha}\")\n",
    "\n",
    "            pbar.update(1)\n",
    "\n",
    "    #pbar.close()\n",
    "\n",
    "    print(f\"Meilleure combinaison Accuracy                    : alpha = {best_alpha_acc}, seuil = {best_seuil_acc}, Accuracy = {best_accuracy:.4f}\")\n",
    "    print(f\"Meilleure combinaison F1-score                    : alpha = {best_alpha_f1}, seuil = {best_seuil_f1}, F1-score = {best_f1:.4f}\")\n",
    "    print(f\"Meilleure combinaison Somme (Accuracy+F1-score)   : alpha = {best_alpha_sum}, seuil = {best_seuil_sum}, Accuracy = {best_sum_accuracy:.4f}, F1-score = {best_sum_f1:.4f}, Somme = {best_sum:.4f}\")\n",
    "\n",
    "    return {\n",
    "        'accuracy': {'alpha': best_alpha_acc, 'seuil': best_seuil_acc, 'score': best_accuracy},\n",
    "        'f1_score': {'alpha': best_alpha_f1, 'seuil': best_seuil_f1, 'score': best_f1},\n",
    "        'sum': {\n",
    "            'alpha': best_alpha_sum,\n",
    "            'seuil': best_seuil_sum,\n",
    "            'accuracy': best_sum_accuracy,\n",
    "            'f1_score': best_sum_f1,\n",
    "            'score': best_sum\n",
    "        }\n",
    "    }\n"
   ]
  },
  {
   "cell_type": "code",
   "execution_count": null,
   "id": "cacdbc79",
   "metadata": {},
   "outputs": [],
   "source": [
    "gridSearchAlphaSeuil()"
   ]
  },
  {
   "cell_type": "markdown",
   "id": "00709857",
   "metadata": {},
   "source": [
    "# Apply on all videos"
   ]
  },
  {
   "cell_type": "markdown",
   "id": "3be44a1c",
   "metadata": {},
   "source": [
    "## Add previous llm scores"
   ]
  },
  {
   "cell_type": "code",
   "execution_count": null,
   "id": "c1b28d35",
   "metadata": {},
   "outputs": [],
   "source": [
    "videosR4 = openJson(\"../jsons/videosR4.json\")\n",
    "videosR44 = openJson(\"../jsons/videosR44.json\")\n",
    "llmEvaluations = openJson(r\"C:\\Users\\hp\\Downloads\\filtering\\jsons\\llmEvaluation.json\")\n",
    "approach_2_Results = openJson(\"../jsons/approach_2_Results.json\")\n",
    "\n",
    "print(len(videosR4))\n",
    "print(len(videosR44))\n",
    "print(len(llmEvaluations))\n",
    "print(len(approach_2_Results))"
   ]
  },
  {
   "cell_type": "code",
   "execution_count": null,
   "id": "9b902c78",
   "metadata": {},
   "outputs": [],
   "source": [
    "count = 0\n",
    "for video in videosR4:\n",
    "    if 'score' not in video:\n",
    "        count+=1\n",
    "count           "
   ]
  },
  {
   "cell_type": "markdown",
   "id": "1d8815b3",
   "metadata": {},
   "source": [
    "### Add 1"
   ]
  },
  {
   "cell_type": "code",
   "execution_count": null,
   "id": "b24f0e3c",
   "metadata": {},
   "outputs": [],
   "source": [
    "for video in videosR4:\n",
    "    for ev in llmEvaluations:\n",
    "        if ev['id_video']== video['id_video']:\n",
    "            video['score']=ev['score']\n",
    "     \n",
    "            \n",
    "saveJson(\"../jsons/videosR4.json\",videosR4)"
   ]
  },
  {
   "cell_type": "markdown",
   "id": "7d5b55bc",
   "metadata": {},
   "source": [
    "### Add 2"
   ]
  },
  {
   "cell_type": "code",
   "execution_count": null,
   "id": "06a24276",
   "metadata": {},
   "outputs": [],
   "source": [
    "for video in videosR4:\n",
    "    for ev in approach_2_Results:\n",
    "        if ev['id_video']== video['id_video']:\n",
    "            video['score']=ev['score']\n",
    "     \n",
    "            \n",
    "saveJson(\"../jsons/videosR4.json\",videosR4)"
   ]
  },
  {
   "cell_type": "markdown",
   "id": "e5bf9841",
   "metadata": {},
   "source": [
    "### Add 3"
   ]
  },
  {
   "cell_type": "code",
   "execution_count": null,
   "id": "f469992c",
   "metadata": {},
   "outputs": [],
   "source": [
    "for video in videosR4:\n",
    "    for ev in videosR44:\n",
    "        if ev['id_video']== video['id_video']:\n",
    "            if 'score' in ev:\n",
    "                video['score']=ev['score']\n",
    "     \n",
    "            \n",
    "saveJson(\"../jsons/videosR4.json\",videosR4)"
   ]
  },
  {
   "cell_type": "markdown",
   "id": "f34da9b5",
   "metadata": {},
   "source": [
    "## Work on the messing scores"
   ]
  },
  {
   "cell_type": "markdown",
   "id": "3e857852",
   "metadata": {},
   "source": [
    "- Run the llm function for videos still with non score"
   ]
  },
  {
   "cell_type": "code",
   "execution_count": null,
   "id": "0b737950",
   "metadata": {},
   "outputs": [],
   "source": [
    "videosR44 = []\n",
    "for video in videosR4:\n",
    "    if 'score' not in video:\n",
    "        videosR44.append(video)\n",
    "len(videosR44)\n",
    "saveJson(\"../jsons/videosR44.json\",videosR44)"
   ]
  },
  {
   "cell_type": "code",
   "execution_count": null,
   "id": "23e9cefa",
   "metadata": {},
   "outputs": [],
   "source": [
    "count1 = 0\n",
    "count2 = 0\n",
    "count3 = 0\n",
    "temp = 0\n",
    "\n",
    "for video in tqdm(videosR44):\n",
    "  \n",
    "    input = {\"titre\":video['titre_video'],\n",
    "            \"description\":video['description'],\n",
    "            \"tags\":', '.join(video['tags']),}\n",
    "    try:\n",
    "        if count1  <= 13:\n",
    "            #print(\"KEY 1\")\n",
    "        \n",
    "            answer = cleanAnswer(chain_1.invoke(input))\n",
    "            answer = json.loads(answer)\n",
    "            #print(video['id_video'],'/n',answer)\n",
    "            video['score']=answer['score']\n",
    "            \n",
    "            count1+=1\n",
    "            temp+=1            \n",
    "            \n",
    "            #print(\"count1 \",count1)  \n",
    "            \n",
    "        if count1  > 13 and count2 <= 13:\n",
    "            #print(\"KEY 2\")\n",
    "            \n",
    "            answer = cleanAnswer(chain_2.invoke(input))\n",
    "            answer = json.loads(answer)\n",
    "            #print(video['id_video'],'/n',answer)\n",
    "            video['score']=answer['score']\n",
    "            \n",
    "            count2+=1\n",
    "            temp+=1\n",
    "            #print(\"count2 \",count2) \n",
    "            \n",
    "        if  count1  > 13 and count2  > 13 and count3 <= 13:\n",
    "            \n",
    "            #print(\"KEY 3\")\n",
    "            \n",
    "            answer = cleanAnswer(chain_3.invoke(input))\n",
    "            answer = json.loads(answer)\n",
    "            #print(video['id_video'],'/n',answer)\n",
    "            video['score']=answer['score']\n",
    "            \n",
    "            count3+=1\n",
    "            temp+=1\n",
    "            #print(\"count3 \",count3) \n",
    "                \n",
    "        if count1 > 13 and count2 > 13 and count3 > 13 :\n",
    "            print(\"sleep for 1 min\")\n",
    "            time.sleep(60)\n",
    "            count1 = 0\n",
    "            count2 = 0\n",
    "            count3 = 0\n",
    "        \n",
    "\n",
    "        if temp >= 100:\n",
    "            saveJson(\"../jsons/videosR44.json\",videosR44)\n",
    "            temp=0\n",
    "            \n",
    "    except Exception as e:\n",
    "        print(f\"error {e}\")\n",
    "        \n",
    "saveJson(\"../jsons/videosR44.json\",videosR44)"
   ]
  },
  {
   "cell_type": "markdown",
   "id": "4b2d36ff",
   "metadata": {},
   "source": [
    "## I.P for All videos"
   ]
  },
  {
   "cell_type": "code",
   "execution_count": 14,
   "metadata": {},
   "outputs": [],
   "source": [
    "def calculateIpAll(videos):\n",
    "    for video in videos:\n",
    "        video['IP'] = 0.5*( len(video['requete']) + video['score'] )\n",
    "    return videos\n",
    "\n",
    "def filterVideos(videos):\n",
    "    videosOui = []\n",
    "    videosNon = []\n",
    "    for video in videos:\n",
    "        if video['IP'] > 4 :\n",
    "            videosOui.append(video) \n",
    "        else :\n",
    "            videosNon.append(video)\n",
    "            \n",
    "    print(f\"len(videosOui) : {len(videosOui)} : {len(videosOui)/len(videos)} %\")\n",
    "    print(f\"len(videosNon) : {len(videosNon)} : {len(videosNon)/len(videos)} %\")\n",
    "    \n",
    "    saveJson(\"../jsons/videosF3.json\",videosOui) \n",
    "    saveJson(\"../jsons/videosF3Non.json\",videosNon) "
   ]
  },
  {
   "cell_type": "code",
   "execution_count": null,
   "id": "78ae79a8",
   "metadata": {},
   "outputs": [],
   "source": [
    "videosR4 = openJson(\"../jsons/videosR4.json\")\n",
    "videosR4 = calculateIpAll(videosR4)"
   ]
  },
  {
   "cell_type": "code",
   "execution_count": 8,
   "id": "2d147020",
   "metadata": {},
   "outputs": [
    {
     "name": "stdout",
     "output_type": "stream",
     "text": [
      "\u001b[1m\u001b[32m\n",
      " json saved\u001b[0m\n"
     ]
    }
   ],
   "source": [
    "saveJson(\"../jsons/videosR4.json\",videosR4)"
   ]
  },
  {
   "cell_type": "code",
   "execution_count": null,
   "id": "42a3a24f",
   "metadata": {},
   "outputs": [],
   "source": [
    "videosR4 = openJson(\"../jsons/videosR4.json\")\n",
    "filterVideos(videosR4)"
   ]
  },
  {
   "cell_type": "code",
   "execution_count": 2,
   "id": "0486457a",
   "metadata": {},
   "outputs": [
    {
     "name": "stderr",
     "output_type": "stream",
     "text": [
      "Ignoring fixed y limits to fulfill fixed data aspect with adjustable data limits.\n"
     ]
    },
    {
     "data": {
      "image/png": "[encoded data removed]",
      "text/plain": [
       "<Figure size 1200x1200 with 1 Axes>"
      ]
     },
     "metadata": {},
     "output_type": "display_data"
    }
   ],
   "source": [
    "import matplotlib.pyplot as plt\n",
    "from matplotlib.patches import Wedge\n",
    "\n",
    "labels = ['Oui (Pertinent)', 'Non (Non Pertinent)']\n",
    "sizes = [3052, 1452]\n",
    "colors = ['lightgreen', 'lightcoral']\n",
    "explode = (0, 0.1)\n",
    "\n",
    "angle_start = 140\n",
    "angle_non = angle_start + (sizes[0] / sum(sizes)) * 360\n",
    "\n",
    "fig, ax = plt.subplots(figsize=(8, 8), dpi=150)\n",
    "\n",
    "w1 = Wedge(center=(0, 0), r=1, theta1=angle_start, theta2=angle_non,\n",
    "           facecolor='lightgreen', edgecolor='black', lw=2, zorder=5)\n",
    "w2 = Wedge(center=(0, 0), r=1, theta1=angle_non, theta2=angle_start + 360,\n",
    "           facecolor='lightcoral', edgecolor='black', hatch='//', lw=2, zorder=5)\n",
    "\n",
    "ax.add_patch(w1)\n",
    "ax.add_patch(w2)\n",
    "\n",
    "ax.text(-0.5, -1.2, f'Pertinente ({sizes[0]}) {sizes[0]/sum(sizes)*100:.1f}%', fontsize=14, ha='center', fontweight='bold', zorder=10)\n",
    "ax.text(0.5, 1.1, f'Non Pertinente ({sizes[1]}) {sizes[1]/sum(sizes)*100:.1f}%', fontsize=14, ha='center', fontweight='bold', zorder=10)\n",
    "\n",
    "ax.set_title(\"Répartition des vidéos après filtrage par indice de pertinence\", fontsize=16, fontweight='bold')\n",
    "\n",
    "ax.axis('equal')\n",
    "ax.set_xlim(-1.5, 1.5)\n",
    "ax.set_ylim(-1.5, 1.5)\n",
    "ax.axis('off')\n",
    "\n",
    "plt.show()\n"
   ]
  },
  {
   "cell_type": "markdown",
   "id": "23b31183",
   "metadata": {},
   "source": [
    "## Excel pour Laura"
   ]
  },
  {
   "cell_type": "code",
   "execution_count": 30,
   "id": "2bb4fb76",
   "metadata": {},
   "outputs": [
    {
     "data": {
      "text/plain": [
       "3052"
      ]
     },
     "execution_count": 30,
     "metadata": {},
     "output_type": "execute_result"
    }
   ],
   "source": [
    "videosF3 = openJson(\"../jsons/videosF3.json\")\n",
    "videosF3Non= openJson(\"../jsons/videosF3Non.json\")\n",
    "len(videosF3)"
   ]
  },
  {
   "cell_type": "code",
   "execution_count": 32,
   "id": "555741ca",
   "metadata": {},
   "outputs": [],
   "source": [
    "import pandas as pd\n",
    "\n",
    "data = []\n",
    "for video in videosF3:\n",
    "    lien = f\"https://www.youtube.com/watch?v={video['id_video']}\"\n",
    "    titre = video['titre_video']\n",
    "    description = video['description']\n",
    "    tags = video['tags']\n",
    "    score = video['score']\n",
    "    ip = video['IP']\n",
    "    channelName = getChannelName(video['id_chaine'])\n",
    "    data.append({\n",
    "        \"lien\": lien,\n",
    "        \"titre\": titre,\n",
    "        \"description\": description,\n",
    "        \"tags\": tags,\n",
    "        \"score\": score,\n",
    "        \"IP\": ip,\n",
    "        \"Nom Chaine\":channelName\n",
    "    })\n",
    "\n",
    "df = pd.DataFrame(data)\n",
    "df.to_excel(\"../xlsx/videos_pertinentes.xlsx\", index=False)\n"
   ]
  },
  {
   "cell_type": "code",
   "execution_count": 33,
   "id": "427e16db",
   "metadata": {},
   "outputs": [],
   "source": [
    "import pandas as pd\n",
    "\n",
    "data = []\n",
    "for video in videosF3Non:\n",
    "    lien = f\"https://www.youtube.com/watch?v={video['id_video']}\"\n",
    "    titre = video['titre_video']\n",
    "    description = video['description']\n",
    "    tags = video['tags']\n",
    "    score = video['score']\n",
    "    ip = video['IP']\n",
    "    channelName = getChannelName(video['id_chaine'])\n",
    "    data.append({\n",
    "        \"lien\": lien,\n",
    "        \"titre\": titre,\n",
    "        \"description\": description,\n",
    "        \"tags\": tags,\n",
    "        \"score\": score,\n",
    "        \"IP\": ip,\n",
    "        \"Nom Chaine\":channelName\n",
    "    })\n",
    "\n",
    "df = pd.DataFrame(data)\n",
    "df.to_excel(\"../xlsx/videos_non_pertinentes.xlsx\", index=False)\n"
   ]
  },
  {
   "cell_type": "code",
   "execution_count": null,
   "id": "67952347",
   "metadata": {},
   "outputs": [],
   "source": []
  },
  {
   "cell_type": "code",
   "execution_count": null,
   "id": "b755a6c8",
   "metadata": {},
   "outputs": [],
   "source": []
  }
 ],
 "metadata": {
  "kernelspec": {
   "display_name": ".venv",
   "language": "python",
   "name": "python3"
  },
  "language_info": {
   "codemirror_mode": {
    "name": "ipython",
    "version": 3
   },
   "file_extension": ".py",
   "mimetype": "text/x-python",
   "name": "python",
   "nbconvert_exporter": "python",
   "pygments_lexer": "ipython3",
   "version": "3.10.16"
  }
 },
 "nbformat": 4,
 "nbformat_minor": 5
}
