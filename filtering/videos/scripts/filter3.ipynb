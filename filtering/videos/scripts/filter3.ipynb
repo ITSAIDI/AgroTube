{
 "cells": [
  {
   "cell_type": "code",
   "execution_count": 59,
   "id": "c95e57ec",
   "metadata": {},
   "outputs": [
    {
     "data": {
      "text/plain": [
       "True"
      ]
     },
     "execution_count": 59,
     "metadata": {},
     "output_type": "execute_result"
    }
   ],
   "source": [
    "from collections import Counter\n",
    "from tqdm import tqdm \n",
    "from colorama import Style,Fore\n",
    "import os\n",
    "from utils1 import openJson,saveJson\n",
    "from dotenv import load_dotenv\n",
    "import json\n",
    "import time\n",
    "load_dotenv()"
   ]
  },
  {
   "cell_type": "markdown",
   "id": "fd258fc5",
   "metadata": {},
   "source": [
    "# With Embedding model"
   ]
  },
  {
   "cell_type": "code",
   "execution_count": null,
   "id": "a3b89e38",
   "metadata": {},
   "outputs": [],
   "source": [
    "from sentence_transformers import SentenceTransformer\n",
    "\n",
    "model = SentenceTransformer(\"dangvantuan/sentence-camembert-base\")"
   ]
  },
  {
   "cell_type": "code",
   "execution_count": null,
   "id": "81f56146",
   "metadata": {},
   "outputs": [],
   "source": [
    "from sentence_transformers import util\n",
    "\n",
    "def calculateSimilarity(videoMD, documents):\n",
    "    embedding_video = model.encode([videoMD], convert_to_tensor=True, normalize_embeddings=True)\n",
    "    embeddings_documents = model.encode(documents, convert_to_tensor=True, normalize_embeddings=True)\n",
    "    scores = util.cos_sim(embedding_video, embeddings_documents)[0]\n",
    "    simScore = scores.mean().item()\n",
    "    return simScore\n"
   ]
  },
  {
   "cell_type": "code",
   "execution_count": null,
   "id": "b6e57d3f",
   "metadata": {},
   "outputs": [],
   "source": [
    "Vocabulary = openJson(\"../jsons/Voc.json\")\n",
    "\n",
    "def construire_groupes(mots_cles, taille=25):\n",
    "    phrases = []\n",
    "    for i in range(0, len(mots_cles), taille):\n",
    "        groupe = mots_cles[i:i+taille]\n",
    "        phrase = ' '.join(groupe)\n",
    "        phrases.append(phrase)\n",
    "    return phrases\n",
    "\n",
    "documents = construire_groupes(Vocabulary)"
   ]
  },
  {
   "cell_type": "code",
   "execution_count": null,
   "id": "89853b51",
   "metadata": {},
   "outputs": [],
   "source": [
    "print(len(documents))\n",
    "print(documents[7])"
   ]
  },
  {
   "cell_type": "markdown",
   "id": "5bcee4d9",
   "metadata": {},
   "source": [
    "## Test"
   ]
  },
  {
   "cell_type": "code",
   "execution_count": null,
   "id": "f56aa456",
   "metadata": {},
   "outputs": [],
   "source": [
    "requete = \"\"\"\n",
    "On a testé la cuisinière à bois... Vous connaissez?\n",
    "🙋‍♂️Et vous, vous êtes-vous déjà servi d'une cuisinière à bois? Avez-vous des conseils à nous donner pour garantir son utilisation et la sécurité inhérente à cet appareil ancestral? ❔\\n\\n➕La cuisinière à bois, c'était clairement un bonus qu'on n'avait mis dans nos préférences en visitant la maison. On connaissait certains de ses avantages, mais en l'utilisant pour la première fois, non seulement on a été conquis, mais cette expérience a révélé de nombreux points positifs qu'on ignorait. On vous raconte tout ça dans cette nouvelle vidéo! \\n\\n🙅‍♂️J'ai oublié d'évoquer un des avantages dans cette vidéo: PRENDRE LE TEMPS! C'est tellement bon de prendre plus de temps pour faire sensiblement la même chose!\\n\\n✍️On a hâte d'avoir vos retours. Depuis cette vidéo, on est retournés une fois à nos fourneaux pour fêter la Thanksgiving canadienne, et on a définitivement adopté ce nouveau compagnon de route! En plus de tous les avantages cités dans cette vidéo, c'est ultra convivial!\\n\\n😎 Si c'est votre première fois, bienvenue sur notre chaîne. Ici on va parler autonomie bien sûr, mais transition en général, que ce soit vers des nouveaux modes de consommation, vers d'autres manières de voyager, vers un vivre-ensemble qui a du sens. En famille ou sans, c'est pareil, on est dans le même bateau.\\n\\nBonne vidéo, merci de nous soutenir en vous abonnant et à très vite dans les commentaires!\\n\\n00:00 On n'y connaissait rien\\n01:12 On présente le four (avant utilisation)\\n02:55 Premier essai: Pain...\\n05:37 ... et plein d'autres trucs (on optimise)\\n06:54 On a adoré cette première expérience!\\n07:50 On déguste. Vous venez?\\n\\n( ͡❛ ᴗ ͡❛)✊ LA FAMILLE EN TRANSITION\\n\\n❤ Abonne-toi à la Chaîne pour ne rater aucune vidéo https://www.youtube.com/channel/UC2M77RNyW6O9JQhpj1-6GOA\\n✌ Laisse-nous un pouce bleu si la vidéo t'a plue\\n\\nContacte-nous à lafamilleentransition@gmail.com\",\n",
    " \"#lafamilleentransition\",\n",
    "      \"#LFET\",\n",
    "      \"#Florian Guéret\",\n",
    "      \"#Cuisinière à bois\",\n",
    "      \"#comment cuisiner avec une cuisinière à bois\",\n",
    "      \"#bois de chauffage\",\n",
    "      \"#cuisiner comme au bon vieux temps\",\n",
    "      \"#cuisiner à l'ancienne\",\n",
    "      \"#cuisine\",\n",
    "      \"#cuisiner au feu de bois\",\n",
    "      \"#cuisine moderne\",\n",
    "      \"#cuisine traditionnelle\",\n",
    "      \"#transition\",\n",
    "      \"#entransition\",\n",
    "      \"#la famille\",\n",
    "      \"#vlog famille\",\n",
    "      \"#vlog\",\n",
    "      \"#bretagne\",\n",
    "      \"#pontivy\",\n",
    "      \"#à l'abri de la pluie\",\n",
    "      \"#comment cuisiner du pain\",\n",
    "      \"#comment faire son pain en cocotte\",\n",
    "      \"#faire son pain en baguette\"\n",
    "\"\"\"\n",
    "\n",
    "\n",
    "calculateSimilarity(requete,documents)"
   ]
  },
  {
   "cell_type": "markdown",
   "id": "bc771b93",
   "metadata": {},
   "source": [
    "## Echantillon"
   ]
  },
  {
   "cell_type": "code",
   "execution_count": null,
   "id": "ca94cfb8",
   "metadata": {},
   "outputs": [],
   "source": [
    "videosF2 = openJson(\"../jsons/videosF2.json\")\n",
    "len(videosF2)"
   ]
  },
  {
   "cell_type": "code",
   "execution_count": null,
   "id": "a502bf05",
   "metadata": {},
   "outputs": [],
   "source": [
    "import random\n",
    "\n",
    "random.seed(42)\n",
    "\n",
    "echantillon = random.sample(videosF2, 400)\n",
    "saveJson(\"../jsons/echantillon.json\",echantillon)"
   ]
  },
  {
   "cell_type": "code",
   "execution_count": null,
   "id": "e529a371",
   "metadata": {},
   "outputs": [],
   "source": []
  },
  {
   "cell_type": "markdown",
   "id": "06b2af67",
   "metadata": {},
   "source": [
    "## Run and Results "
   ]
  },
  {
   "cell_type": "code",
   "execution_count": null,
   "id": "c9aa15d0",
   "metadata": {},
   "outputs": [],
   "source": [
    "echantillon = openJson(\"../jsons/echantillon.json\")\n",
    "len(echantillon)"
   ]
  },
  {
   "cell_type": "code",
   "execution_count": null,
   "id": "263aafdd",
   "metadata": {},
   "outputs": [],
   "source": [
    "approach_1_Results = []\n",
    "for video in tqdm(echantillon):\n",
    "    context = video['titre_video'] + video['description'] + ' '.join(video['tags'])\n",
    "    score = calculateSimilarity(context,documents)\n",
    "    #print(score,'  ',video['id_video'])\n",
    "    video.update({'similarity':score})\n",
    "    approach_1_Results.append(video)\n",
    "\n",
    "saveJson(\"../jsons/approach_1_Results.json\",approach_1_Results)"
   ]
  },
  {
   "cell_type": "markdown",
   "id": "3bfeb841",
   "metadata": {},
   "source": [
    "- Analyzing"
   ]
  },
  {
   "cell_type": "code",
   "execution_count": 28,
   "id": "fbab13f3",
   "metadata": {},
   "outputs": [
    {
     "data": {
      "text/plain": [
       "400"
      ]
     },
     "execution_count": 28,
     "metadata": {},
     "output_type": "execute_result"
    }
   ],
   "source": [
    "approach_1_Results = openJson(\"../jsons/approach_1_Results.json\")\n",
    "len(approach_1_Results)"
   ]
  },
  {
   "cell_type": "code",
   "execution_count": 29,
   "id": "111f4b23",
   "metadata": {},
   "outputs": [
    {
     "data": {
      "text/plain": [
       "0.2867241595336236"
      ]
     },
     "execution_count": 29,
     "metadata": {},
     "output_type": "execute_result"
    }
   ],
   "source": [
    "sum_similarities = 0 \n",
    "for item in approach_1_Results :\n",
    "    sum_similarities+=item['similarity']\n",
    "    \n",
    "sum_similarities/len(approach_1_Results)"
   ]
  },
  {
   "cell_type": "code",
   "execution_count": 30,
   "id": "2f4d2f62",
   "metadata": {},
   "outputs": [
    {
     "name": "stdout",
     "output_type": "stream",
     "text": [
      "Nombre de vidéos avec similarité > 0.15 : 361\n",
      "Pourcentage : 90.25%\n"
     ]
    }
   ],
   "source": [
    "similarites = [item[\"similarity\"] for item in approach_1_Results]\n",
    "\n",
    "nombre_total = len(similarites)\n",
    "nombre_sup_015 = sum(s > 0.15 for s in similarites)\n",
    "pourcentage_sup_015 = (nombre_sup_015 / nombre_total) * 100\n",
    "\n",
    "print(f\"Nombre de vidéos avec similarité > 0.15 : {nombre_sup_015}\")\n",
    "print(f\"Pourcentage : {pourcentage_sup_015:.2f}%\")\n"
   ]
  },
  {
   "cell_type": "code",
   "execution_count": 31,
   "id": "f51f92eb",
   "metadata": {},
   "outputs": [],
   "source": [
    "videos_sous_015 = [item for item in approach_1_Results if item[\"similarity\"] <= 0.15]\n",
    "videos_sous_015 = sorted(videos_sous_015, key=lambda x: x[\"similarity\"])\n",
    "\n",
    "videos_sur_015 = [item for item in approach_1_Results if item[\"similarity\"] > 0.15]\n",
    "videos_sur_015 = sorted(videos_sur_015, key=lambda x: x[\"similarity\"])"
   ]
  },
  {
   "cell_type": "code",
   "execution_count": 32,
   "id": "376068b6",
   "metadata": {},
   "outputs": [
    {
     "name": "stdout",
     "output_type": "stream",
     "text": [
      "ID vidéo: JRAWlxIlA7A - Similarité: -0.01\n",
      "ID vidéo: DdzpreePx6Q - Similarité: 0.01\n",
      "ID vidéo: Rjv7GeThofI - Similarité: 0.01\n",
      "ID vidéo: wL_7d-gH7ek - Similarité: 0.02\n",
      "ID vidéo: lSoWicUMVlM - Similarité: 0.05\n",
      "ID vidéo: ZQRZviGuF4g - Similarité: 0.05\n",
      "ID vidéo: SrFPFZ14loQ - Similarité: 0.06\n",
      "ID vidéo: uIib2jT2r3w - Similarité: 0.07\n",
      "ID vidéo: 6H1_LUx-rBc - Similarité: 0.07\n",
      "ID vidéo: JG4XtGYcwtg - Similarité: 0.07\n",
      "ID vidéo: SGslcr5UEwQ - Similarité: 0.07\n",
      "ID vidéo: cvZPq2GSvcM - Similarité: 0.08\n",
      "ID vidéo: BOsV6spNbpQ - Similarité: 0.08\n",
      "ID vidéo: 0ZhPQEdANGk - Similarité: 0.09\n",
      "ID vidéo: mwpOSOWT7JM - Similarité: 0.10\n",
      "ID vidéo: fpP4KN7bN5U - Similarité: 0.10\n",
      "ID vidéo: Mjet7DYtYK4 - Similarité: 0.10\n",
      "ID vidéo: kIuYrcF8fJ4 - Similarité: 0.11\n",
      "ID vidéo: UVRDdw79eyo - Similarité: 0.11\n",
      "ID vidéo: Npz3P9yABz8 - Similarité: 0.11\n",
      "ID vidéo: eBEds_afLN0 - Similarité: 0.11\n",
      "ID vidéo: 2bgtNHirdpg - Similarité: 0.12\n",
      "ID vidéo: okbopJLO9as - Similarité: 0.12\n",
      "ID vidéo: NLVL2074Og4 - Similarité: 0.13\n",
      "ID vidéo: JmyrzMc6UeA - Similarité: 0.13\n",
      "ID vidéo: OxYz946nI3A - Similarité: 0.13\n",
      "ID vidéo: OitEzHbXflw - Similarité: 0.13\n",
      "ID vidéo: 6T7QDoMAez4 - Similarité: 0.14\n",
      "ID vidéo: _CI3Aen8ikM - Similarité: 0.14\n",
      "ID vidéo: TIzI8MW_KTg - Similarité: 0.14\n",
      "ID vidéo: mCRELWY8-_Q - Similarité: 0.14\n",
      "ID vidéo: kTpNnoERF0Q - Similarité: 0.14\n",
      "ID vidéo: WhdldlJVgs8 - Similarité: 0.14\n",
      "ID vidéo: nHlU7q8PJ4U - Similarité: 0.14\n",
      "ID vidéo: Oeu3D3rMrOE - Similarité: 0.14\n",
      "ID vidéo: 3aX4tMcdGCM - Similarité: 0.15\n",
      "ID vidéo: rh6i_5WfBuE - Similarité: 0.15\n",
      "ID vidéo: Uou8YTFucLg - Similarité: 0.15\n",
      "ID vidéo: CkvKMzsvM_M - Similarité: 0.15\n"
     ]
    }
   ],
   "source": [
    "for vi_sous_015 in videos_sous_015:\n",
    "    print(f\"ID vidéo: {vi_sous_015['id_video']} - Similarité: {vi_sous_015['similarity']:.2f}\")"
   ]
  },
  {
   "cell_type": "code",
   "execution_count": 33,
   "id": "3a1717b0",
   "metadata": {},
   "outputs": [
    {
     "name": "stdout",
     "output_type": "stream",
     "text": [
      "ID vidéo: IQDS8x3RoU0 - Similarité: 0.15\n",
      "ID vidéo: z6OIoU88m6s - Similarité: 0.15\n",
      "ID vidéo: Fpb2m32m3JU - Similarité: 0.16\n",
      "ID vidéo: D3D9gO05SPI - Similarité: 0.16\n",
      "ID vidéo: 6LEvKg8qKao - Similarité: 0.16\n",
      "ID vidéo: mbWjjECz8dY - Similarité: 0.16\n",
      "ID vidéo: i0IFbGzq-VQ - Similarité: 0.17\n",
      "ID vidéo: 31dKCfWtJmI - Similarité: 0.17\n",
      "ID vidéo: vmjxKZ4lzEk - Similarité: 0.17\n",
      "ID vidéo: mde8rq8WG9w - Similarité: 0.17\n",
      "ID vidéo: IpSDnSFd9-Y - Similarité: 0.17\n",
      "ID vidéo: d06ssNOndOk - Similarité: 0.17\n",
      "ID vidéo: js3S13MvH9M - Similarité: 0.17\n",
      "ID vidéo: ZQ8hWTDNRoA - Similarité: 0.17\n",
      "ID vidéo: nM6bhY-oGk8 - Similarité: 0.17\n",
      "ID vidéo: q3cZfxeG4zQ - Similarité: 0.17\n",
      "ID vidéo: nNzCrvIHJek - Similarité: 0.17\n",
      "ID vidéo: rGePc1eJyUQ - Similarité: 0.17\n",
      "ID vidéo: pPeKkd3PVh4 - Similarité: 0.17\n",
      "ID vidéo: p2RsgaVauCM - Similarité: 0.17\n",
      "ID vidéo: pWNzDB3PRFI - Similarité: 0.17\n",
      "ID vidéo: 7q3d5BrinCM - Similarité: 0.17\n",
      "ID vidéo: gkV3ywZiDLM - Similarité: 0.17\n",
      "ID vidéo: LtYzN2Slcm0 - Similarité: 0.18\n",
      "ID vidéo: GNkQq47JjEE - Similarité: 0.18\n",
      "ID vidéo: nP2GTY4dz4c - Similarité: 0.18\n",
      "ID vidéo: hHJKLEfxaZs - Similarité: 0.18\n",
      "ID vidéo: KPVBXMPIOBo - Similarité: 0.18\n",
      "ID vidéo: N2wCKkah44o - Similarité: 0.18\n",
      "ID vidéo: L39hhz2aqqc - Similarité: 0.18\n",
      "ID vidéo: 2NKKe0POqig - Similarité: 0.18\n",
      "ID vidéo: qhIONpZn-bI - Similarité: 0.19\n",
      "ID vidéo: 8Oq90zUAYFM - Similarité: 0.19\n",
      "ID vidéo: 076zKKkC3bA - Similarité: 0.19\n",
      "ID vidéo: DZsmw5QkLbE - Similarité: 0.19\n",
      "ID vidéo: iBjTD3urewo - Similarité: 0.19\n",
      "ID vidéo: 4Ry696-wSDo - Similarité: 0.19\n",
      "ID vidéo: fsdBU5g4Fa4 - Similarité: 0.19\n",
      "ID vidéo: gID7gmTlvu0 - Similarité: 0.19\n",
      "ID vidéo: JJm-VmvL0bM - Similarité: 0.19\n",
      "ID vidéo: yyXMxeYlX2E - Similarité: 0.19\n",
      "ID vidéo: L5rNEeHYokg - Similarité: 0.20\n",
      "ID vidéo: jlfz5KWdP1I - Similarité: 0.20\n",
      "ID vidéo: A5NXVOS9FrE - Similarité: 0.20\n",
      "ID vidéo: GYSmHYJfnvQ - Similarité: 0.20\n",
      "ID vidéo: XGcZKZ-w0FA - Similarité: 0.20\n",
      "ID vidéo: 0b39Cl2iKmU - Similarité: 0.20\n",
      "ID vidéo: cLk3SUZgV_g - Similarité: 0.20\n",
      "ID vidéo: Vv0_ddUOnBQ - Similarité: 0.20\n",
      "ID vidéo: JAYEIIk3yuI - Similarité: 0.20\n",
      "ID vidéo: riJdmbNzUKo - Similarité: 0.20\n",
      "ID vidéo: 9spqHJ4IXpo - Similarité: 0.21\n",
      "ID vidéo: OGQmCrSUaEE - Similarité: 0.21\n",
      "ID vidéo: YER-2qYt2B0 - Similarité: 0.21\n",
      "ID vidéo: bSAI5srbung - Similarité: 0.21\n",
      "ID vidéo: wynLELIWjiY - Similarité: 0.21\n",
      "ID vidéo: SoWpprMCLb8 - Similarité: 0.21\n",
      "ID vidéo: mfq0AScBnfU - Similarité: 0.21\n",
      "ID vidéo: POPtzy-5jLg - Similarité: 0.21\n",
      "ID vidéo: iL2lqxAT4Nc - Similarité: 0.21\n",
      "ID vidéo: OyTOeLxKVF4 - Similarité: 0.21\n",
      "ID vidéo: gKy8IEJmTiM - Similarité: 0.21\n",
      "ID vidéo: IHim6tinbtg - Similarité: 0.21\n",
      "ID vidéo: ditQxK5i648 - Similarité: 0.21\n",
      "ID vidéo: MRB_jAMjOoU - Similarité: 0.21\n",
      "ID vidéo: Cb0FwLbfVmo - Similarité: 0.21\n",
      "ID vidéo: J9yQZcdkIH8 - Similarité: 0.22\n",
      "ID vidéo: TOPIXbkj70k - Similarité: 0.22\n",
      "ID vidéo: f7fB1z7yZ9o - Similarité: 0.22\n",
      "ID vidéo: j3F-AvwvM6s - Similarité: 0.22\n",
      "ID vidéo: RlSUnmAr5oY - Similarité: 0.22\n",
      "ID vidéo: VRd6ezifxT0 - Similarité: 0.22\n",
      "ID vidéo: 5z4j-vMdpi8 - Similarité: 0.22\n",
      "ID vidéo: vsNmo-vsI4E - Similarité: 0.22\n",
      "ID vidéo: -b6dgogXo1U - Similarité: 0.22\n",
      "ID vidéo: ZlS1Igl2RKs - Similarité: 0.22\n",
      "ID vidéo: uNGzKmLcYgs - Similarité: 0.22\n",
      "ID vidéo: Ia9UAj1-n5k - Similarité: 0.23\n",
      "ID vidéo: xro4pjbE7Xs - Similarité: 0.23\n",
      "ID vidéo: otsoE8n7ZKA - Similarité: 0.23\n",
      "ID vidéo: VhCh_8Gs1Zk - Similarité: 0.23\n",
      "ID vidéo: bOR_UkFTZAI - Similarité: 0.23\n",
      "ID vidéo: aqigc85CfSM - Similarité: 0.23\n",
      "ID vidéo: 5CaxbvD0kCo - Similarité: 0.23\n",
      "ID vidéo: sz_rgLCabTk - Similarité: 0.23\n",
      "ID vidéo: iWpvAx1485Q - Similarité: 0.23\n",
      "ID vidéo: qtbcwYEtp9I - Similarité: 0.23\n",
      "ID vidéo: ihi165Ha_58 - Similarité: 0.23\n",
      "ID vidéo: Xd453av_52w - Similarité: 0.23\n",
      "ID vidéo: Rgh0XTZoMKs - Similarité: 0.23\n",
      "ID vidéo: oZ0_hW6MKew - Similarité: 0.23\n",
      "ID vidéo: peweH4f4UnA - Similarité: 0.24\n",
      "ID vidéo: -vhYYWX65Oc - Similarité: 0.24\n",
      "ID vidéo: lCn3Zu6yXi4 - Similarité: 0.24\n",
      "ID vidéo: IxrD-a8vvR8 - Similarité: 0.24\n",
      "ID vidéo: _N9bc4k2ank - Similarité: 0.24\n",
      "ID vidéo: mmOAsQUGndA - Similarité: 0.24\n",
      "ID vidéo: ZnV4tJw82Yc - Similarité: 0.24\n",
      "ID vidéo: RXmh8Y3pWYE - Similarité: 0.24\n",
      "ID vidéo: kqLItKmPiBE - Similarité: 0.24\n",
      "ID vidéo: WMCpW-cpL9k - Similarité: 0.24\n",
      "ID vidéo: LvXEGgxLqDo - Similarité: 0.24\n",
      "ID vidéo: 8rwFj5OL-Go - Similarité: 0.24\n",
      "ID vidéo: WWSkHvDQJts - Similarité: 0.24\n",
      "ID vidéo: MlPXnzvaq5M - Similarité: 0.24\n",
      "ID vidéo: hgXB9yzLhdE - Similarité: 0.24\n",
      "ID vidéo: 1AuYxtKsRvI - Similarité: 0.24\n",
      "ID vidéo: 8-nYE9bZNQ8 - Similarité: 0.24\n",
      "ID vidéo: nTf4xfgdQuc - Similarité: 0.24\n",
      "ID vidéo: pXjJJgCmsb8 - Similarité: 0.25\n",
      "ID vidéo: Gv4asggbIs0 - Similarité: 0.25\n",
      "ID vidéo: _YayPDbxjAE - Similarité: 0.25\n",
      "ID vidéo: 1UVbIhf8WWg - Similarité: 0.25\n",
      "ID vidéo: uDkkYZvQjZo - Similarité: 0.25\n",
      "ID vidéo: 8k6SQmWOmdA - Similarité: 0.25\n",
      "ID vidéo: 0esFlxOlZgw - Similarité: 0.25\n",
      "ID vidéo: vJLMkUWt4SI - Similarité: 0.25\n",
      "ID vidéo: lJ3_izgIUt8 - Similarité: 0.25\n",
      "ID vidéo: DtQyQAweYXc - Similarité: 0.25\n",
      "ID vidéo: rzWlSmxuEHE - Similarité: 0.25\n",
      "ID vidéo: DjEosHD-SmI - Similarité: 0.25\n",
      "ID vidéo: FTAqeeuJgbQ - Similarité: 0.25\n",
      "ID vidéo: HBP9x_3LgEM - Similarité: 0.25\n",
      "ID vidéo: 91qIonjSU6Y - Similarité: 0.25\n",
      "ID vidéo: NRVsgoI8kBM - Similarité: 0.26\n",
      "ID vidéo: kwWJeVZqkD8 - Similarité: 0.26\n",
      "ID vidéo: B0u0Hd-NDAs - Similarité: 0.26\n",
      "ID vidéo: rr9v5EkqspE - Similarité: 0.26\n",
      "ID vidéo: lXZV2eKaC30 - Similarité: 0.26\n",
      "ID vidéo: 0VuFEYDRBGM - Similarité: 0.26\n",
      "ID vidéo: l2ILLcBthvA - Similarité: 0.26\n",
      "ID vidéo: XDRYvkFg8n4 - Similarité: 0.26\n",
      "ID vidéo: oSiFjKGyHiE - Similarité: 0.26\n",
      "ID vidéo: ZQcPn8IbLfQ - Similarité: 0.27\n",
      "ID vidéo: C02NkO1TKhg - Similarité: 0.27\n",
      "ID vidéo: MbnrZ8rB1oI - Similarité: 0.27\n",
      "ID vidéo: Zek8OBS3e3s - Similarité: 0.27\n",
      "ID vidéo: 3TSTFBir23Q - Similarité: 0.27\n",
      "ID vidéo: 7vC_Xuz6J9A - Similarité: 0.27\n",
      "ID vidéo: VsBfZhApKF4 - Similarité: 0.27\n",
      "ID vidéo: 8so1zR4Iu6k - Similarité: 0.27\n",
      "ID vidéo: u7KA4jfbqLA - Similarité: 0.27\n",
      "ID vidéo: SSMY1Mq-PDA - Similarité: 0.27\n",
      "ID vidéo: KkJXmS9KxhU - Similarité: 0.27\n",
      "ID vidéo: 5zn-6O_8oUI - Similarité: 0.27\n",
      "ID vidéo: pWLqffm983w - Similarité: 0.27\n",
      "ID vidéo: 5Atl_S3ZUP0 - Similarité: 0.28\n",
      "ID vidéo: BqRiihD90nQ - Similarité: 0.28\n",
      "ID vidéo: tueIb9ojLkw - Similarité: 0.28\n",
      "ID vidéo: 25p9dvbUo8w - Similarité: 0.28\n",
      "ID vidéo: ZipUXj8sF-8 - Similarité: 0.28\n",
      "ID vidéo: fpbyiRinCx8 - Similarité: 0.28\n",
      "ID vidéo: Qwg4pXckbXI - Similarité: 0.28\n",
      "ID vidéo: MbE-Gl-YbEI - Similarité: 0.28\n",
      "ID vidéo: fLdrgURuxg4 - Similarité: 0.28\n",
      "ID vidéo: FZ2MqKpLVTA - Similarité: 0.28\n",
      "ID vidéo: eKudrSrjwFM - Similarité: 0.28\n",
      "ID vidéo: efZkKeed-3Q - Similarité: 0.28\n",
      "ID vidéo: 6i_dmtNRMUc - Similarité: 0.28\n",
      "ID vidéo: UnCO1R5JgmA - Similarité: 0.28\n",
      "ID vidéo: _zcIFWNLn8g - Similarité: 0.28\n",
      "ID vidéo: Z24_SpYdXQQ - Similarité: 0.29\n",
      "ID vidéo: zx_Uymr3snA - Similarité: 0.29\n",
      "ID vidéo: oDzLZLfy2iU - Similarité: 0.29\n",
      "ID vidéo: S5l6mCU8xL4 - Similarité: 0.29\n",
      "ID vidéo: xguEgpLQV3k - Similarité: 0.29\n",
      "ID vidéo: 3oOXxdfr09s - Similarité: 0.29\n",
      "ID vidéo: fmp538LEKOg - Similarité: 0.29\n",
      "ID vidéo: m9jX7AyzUnA - Similarité: 0.29\n",
      "ID vidéo: DWWo1qaUMrw - Similarité: 0.29\n",
      "ID vidéo: IEfHGrEsO20 - Similarité: 0.29\n",
      "ID vidéo: EaQVNpB7VI0 - Similarité: 0.29\n",
      "ID vidéo: Vz4yibOxdug - Similarité: 0.29\n",
      "ID vidéo: 1Tur0zcDnvU - Similarité: 0.29\n",
      "ID vidéo: a69Gz41dY3A - Similarité: 0.29\n",
      "ID vidéo: LGRXZaoTx0U - Similarité: 0.29\n",
      "ID vidéo: 8AzggWXmAek - Similarité: 0.29\n",
      "ID vidéo: idz54MQdHRc - Similarité: 0.30\n",
      "ID vidéo: ZZzejRAc9oE - Similarité: 0.30\n",
      "ID vidéo: Qx_g5i4Gzsg - Similarité: 0.30\n",
      "ID vidéo: IcrjKvz7cFk - Similarité: 0.30\n",
      "ID vidéo: e6wbcqqL9EA - Similarité: 0.30\n",
      "ID vidéo: Pm634cd7JWw - Similarité: 0.30\n",
      "ID vidéo: VckRdeC_oIY - Similarité: 0.30\n",
      "ID vidéo: WEkPJJdRyHI - Similarité: 0.30\n",
      "ID vidéo: Vf5yu0pOMfc - Similarité: 0.30\n",
      "ID vidéo: 7fH1c9OZv4M - Similarité: 0.30\n",
      "ID vidéo: HnmWyCLdh4I - Similarité: 0.30\n",
      "ID vidéo: 4MkKbJ6gHtE - Similarité: 0.30\n",
      "ID vidéo: i2TsSh3-yLU - Similarité: 0.30\n",
      "ID vidéo: fMCtESAAMuc - Similarité: 0.31\n",
      "ID vidéo: 3MExx8n6954 - Similarité: 0.31\n",
      "ID vidéo: LXoDDQ_GpiA - Similarité: 0.31\n",
      "ID vidéo: 6ebcpruZXrw - Similarité: 0.31\n",
      "ID vidéo: zjukYMHW54A - Similarité: 0.31\n",
      "ID vidéo: 1do3XhxMP1c - Similarité: 0.31\n",
      "ID vidéo: W9VxTJjKbjE - Similarité: 0.31\n",
      "ID vidéo: YcE0YlIMyCs - Similarité: 0.31\n",
      "ID vidéo: J-A3KoR57mQ - Similarité: 0.31\n",
      "ID vidéo: D1RZetPPMiY - Similarité: 0.31\n",
      "ID vidéo: 8waoAttTffY - Similarité: 0.31\n",
      "ID vidéo: Zrnl3YHXc9Y - Similarité: 0.31\n",
      "ID vidéo: 79UsXG2zUeA - Similarité: 0.31\n",
      "ID vidéo: Vt98hF6WhSo - Similarité: 0.32\n",
      "ID vidéo: cF6LgZktn3k - Similarité: 0.32\n",
      "ID vidéo: FGUyd2cX3SE - Similarité: 0.32\n",
      "ID vidéo: 75QloXzbvHM - Similarité: 0.32\n",
      "ID vidéo: t14uEe-Hjh8 - Similarité: 0.32\n",
      "ID vidéo: _oRD7G9XaNU - Similarité: 0.32\n",
      "ID vidéo: 2dJNcXDjT54 - Similarité: 0.32\n",
      "ID vidéo: Bk5oXpL-Qws - Similarité: 0.32\n",
      "ID vidéo: 9WfcL5sTUcU - Similarité: 0.32\n",
      "ID vidéo: JXGvkp6BoQ8 - Similarité: 0.32\n",
      "ID vidéo: uH6BlX3Cczg - Similarité: 0.32\n",
      "ID vidéo: 8S0jW93bUVI - Similarité: 0.33\n",
      "ID vidéo: z6IncdlQbN4 - Similarité: 0.33\n",
      "ID vidéo: 6rlv5bXe4zY - Similarité: 0.33\n",
      "ID vidéo: LuBrulwFl7U - Similarité: 0.33\n",
      "ID vidéo: foeqeAnMDBE - Similarité: 0.33\n",
      "ID vidéo: 9ORdIC52Was - Similarité: 0.34\n",
      "ID vidéo: 1zBeMbemRHg - Similarité: 0.34\n",
      "ID vidéo: rG7sFzfeL6U - Similarité: 0.34\n",
      "ID vidéo: YjLEdSJvqN4 - Similarité: 0.34\n",
      "ID vidéo: wwl05u5U9vo - Similarité: 0.34\n",
      "ID vidéo: 4gikpwZsV18 - Similarité: 0.34\n",
      "ID vidéo: rGb85beyT4A - Similarité: 0.34\n",
      "ID vidéo: zMovDJ2KsKA - Similarité: 0.34\n",
      "ID vidéo: wnum_REw8mo - Similarité: 0.34\n",
      "ID vidéo: 4osID-D-G7A - Similarité: 0.34\n",
      "ID vidéo: _c1IZoDTKvw - Similarité: 0.34\n",
      "ID vidéo: FJA598OLrcs - Similarité: 0.34\n",
      "ID vidéo: 8ekM4wZd9Eg - Similarité: 0.34\n",
      "ID vidéo: 13UkjLo-94A - Similarité: 0.34\n",
      "ID vidéo: I-iMhC1l778 - Similarité: 0.34\n",
      "ID vidéo: pUsYsHfdgtc - Similarité: 0.34\n",
      "ID vidéo: WZD7O0ZWuzI - Similarité: 0.35\n",
      "ID vidéo: v_zazV2r3Qc - Similarité: 0.35\n",
      "ID vidéo: 1AZsn8RNBg8 - Similarité: 0.35\n",
      "ID vidéo: nUwpTbJZWlg - Similarité: 0.35\n",
      "ID vidéo: ZZZqwKefTBw - Similarité: 0.35\n",
      "ID vidéo: otslmpbS_k4 - Similarité: 0.35\n",
      "ID vidéo: Ub36mYxT1UI - Similarité: 0.35\n",
      "ID vidéo: TIWv2O6sepM - Similarité: 0.35\n",
      "ID vidéo: sMD-LN2qV7Y - Similarité: 0.35\n",
      "ID vidéo: V4GQ5dcUHis - Similarité: 0.35\n",
      "ID vidéo: CMSPdiWzlno - Similarité: 0.35\n",
      "ID vidéo: 5D6MJfx7iqE - Similarité: 0.35\n",
      "ID vidéo: -6ecq5hc5ig - Similarité: 0.36\n",
      "ID vidéo: Ln_EbH3WJec - Similarité: 0.36\n",
      "ID vidéo: _UA8aPfNDZ8 - Similarité: 0.36\n",
      "ID vidéo: ajwVrt4q1FY - Similarité: 0.36\n",
      "ID vidéo: u-Txp1SkvmE - Similarité: 0.36\n",
      "ID vidéo: zakYfUoo7fg - Similarité: 0.36\n",
      "ID vidéo: Kceo8Q6WbBg - Similarité: 0.36\n",
      "ID vidéo: cyac6LwQgcc - Similarité: 0.36\n",
      "ID vidéo: yU8iXYOPfNY - Similarité: 0.36\n",
      "ID vidéo: hIGvqUHHzCo - Similarité: 0.36\n",
      "ID vidéo: iF3O2TSheXI - Similarité: 0.36\n",
      "ID vidéo: uGiBbD_0vYo - Similarité: 0.36\n",
      "ID vidéo: FEwDHmEXtww - Similarité: 0.36\n",
      "ID vidéo: mE--zgF016w - Similarité: 0.37\n",
      "ID vidéo: 1WQZPJEQkeg - Similarité: 0.37\n",
      "ID vidéo: Hc1WCafp9FI - Similarité: 0.37\n",
      "ID vidéo: Ks5QeTU0We8 - Similarité: 0.37\n",
      "ID vidéo: wJLssuAbQcY - Similarité: 0.37\n",
      "ID vidéo: -8rlLAFxpLU - Similarité: 0.37\n",
      "ID vidéo: cG7lJupBII0 - Similarité: 0.37\n",
      "ID vidéo: 85i3qfuDK1g - Similarité: 0.37\n",
      "ID vidéo: R0Romn-stJY - Similarité: 0.37\n",
      "ID vidéo: yu5wQ_e1UMo - Similarité: 0.37\n",
      "ID vidéo: iaeAjya38-c - Similarité: 0.37\n",
      "ID vidéo: Jd2RqnCOUhE - Similarité: 0.37\n",
      "ID vidéo: a3Senopj5-o - Similarité: 0.37\n",
      "ID vidéo: RjFPa3GOONo - Similarité: 0.37\n",
      "ID vidéo: R0C0eikT7Pg - Similarité: 0.38\n",
      "ID vidéo: 9uqDpBN1nyE - Similarité: 0.38\n",
      "ID vidéo: FVDWn3za16s - Similarité: 0.38\n",
      "ID vidéo: Rpq1xfa7nvY - Similarité: 0.38\n",
      "ID vidéo: R2f75TP_Pok - Similarité: 0.38\n",
      "ID vidéo: aFyCj9eE4xQ - Similarité: 0.38\n",
      "ID vidéo: UumCgaVeQbA - Similarité: 0.38\n",
      "ID vidéo: 1DpIZShOzKw - Similarité: 0.38\n",
      "ID vidéo: E2UNtGrOzpk - Similarité: 0.38\n",
      "ID vidéo: _UQUlR5hguw - Similarité: 0.38\n",
      "ID vidéo: RbGivT85zgM - Similarité: 0.39\n",
      "ID vidéo: Q1hE1Y7wiaU - Similarité: 0.39\n",
      "ID vidéo: 9s2TgDON3_U - Similarité: 0.39\n",
      "ID vidéo: 0uORzJZETX8 - Similarité: 0.39\n",
      "ID vidéo: RsnjEME3bwM - Similarité: 0.39\n",
      "ID vidéo: tZCP7KD7jTI - Similarité: 0.39\n",
      "ID vidéo: IJ5YTqI3fqY - Similarité: 0.39\n",
      "ID vidéo: LiOxQ1eIwk4 - Similarité: 0.39\n",
      "ID vidéo: sJQBioQH_s0 - Similarité: 0.39\n",
      "ID vidéo: uM-uhMNyWlM - Similarité: 0.39\n",
      "ID vidéo: w-lU7ctnHoQ - Similarité: 0.39\n",
      "ID vidéo: giXiOlh0pzM - Similarité: 0.39\n",
      "ID vidéo: _eQmH7eqT64 - Similarité: 0.39\n",
      "ID vidéo: ouvHMIo2CUE - Similarité: 0.39\n",
      "ID vidéo: B3gJjLrkbZI - Similarité: 0.39\n",
      "ID vidéo: -cmVPa6vrHM - Similarité: 0.40\n",
      "ID vidéo: xdqp_GmGmtU - Similarité: 0.40\n",
      "ID vidéo: 7ihp8N-adlo - Similarité: 0.40\n",
      "ID vidéo: e3D9uotfVdE - Similarité: 0.40\n",
      "ID vidéo: -fYePQpizyo - Similarité: 0.40\n",
      "ID vidéo: 8whQ6PUM4-s - Similarité: 0.40\n",
      "ID vidéo: kfnZDJZkuAo - Similarité: 0.40\n",
      "ID vidéo: mwCAsQ_2e2I - Similarité: 0.41\n",
      "ID vidéo: SvaITbil4vQ - Similarité: 0.41\n",
      "ID vidéo: 7wpPWx1PE80 - Similarité: 0.41\n",
      "ID vidéo: d7jHCy0eZZo - Similarité: 0.41\n",
      "ID vidéo: u1fU5FeuZ90 - Similarité: 0.41\n",
      "ID vidéo: sKuIlyVhQRE - Similarité: 0.42\n",
      "ID vidéo: ludExE6ixm8 - Similarité: 0.42\n",
      "ID vidéo: LWwGVQNq69M - Similarité: 0.42\n",
      "ID vidéo: R0g3PwwNNJA - Similarité: 0.42\n",
      "ID vidéo: sNhAo1GTiDg - Similarité: 0.42\n",
      "ID vidéo: UBOAy-j2JV8 - Similarité: 0.42\n",
      "ID vidéo: yCXyTUpfyWQ - Similarité: 0.42\n",
      "ID vidéo: 0mtDkccZG2M - Similarité: 0.43\n",
      "ID vidéo: ZMhGAenCMiI - Similarité: 0.43\n",
      "ID vidéo: AYYl7SuXbS0 - Similarité: 0.43\n",
      "ID vidéo: bsOdmJanrXA - Similarité: 0.43\n",
      "ID vidéo: j01V-wqA5b4 - Similarité: 0.43\n",
      "ID vidéo: hJd0s48excI - Similarité: 0.43\n",
      "ID vidéo: -PKzzkZ9gEw - Similarité: 0.43\n",
      "ID vidéo: 5UIsAYWjtVg - Similarité: 0.43\n",
      "ID vidéo: 4zFI1wvZ0zg - Similarité: 0.43\n",
      "ID vidéo: NmRVRpUulXU - Similarité: 0.44\n",
      "ID vidéo: X-LylDhHQT8 - Similarité: 0.44\n",
      "ID vidéo: SSEc14g01hY - Similarité: 0.44\n",
      "ID vidéo: iFMG2f2-BNs - Similarité: 0.44\n",
      "ID vidéo: oClJplkvSJ8 - Similarité: 0.44\n",
      "ID vidéo: BbIac6mCOKI - Similarité: 0.44\n",
      "ID vidéo: p1wGIG6QOXk - Similarité: 0.44\n",
      "ID vidéo: 9-VnZY_0SW0 - Similarité: 0.44\n",
      "ID vidéo: J-UoISZaSZo - Similarité: 0.44\n",
      "ID vidéo: gG3AAgDjF6M - Similarité: 0.44\n",
      "ID vidéo: r8UvmXQucmY - Similarité: 0.45\n",
      "ID vidéo: IJTg_1XO2k4 - Similarité: 0.45\n",
      "ID vidéo: tNtyh5B7uxQ - Similarité: 0.45\n",
      "ID vidéo: g3RQc_jCA1Q - Similarité: 0.45\n",
      "ID vidéo: 87x2vNnIexU - Similarité: 0.45\n",
      "ID vidéo: 1xrqJE1MDi8 - Similarité: 0.46\n",
      "ID vidéo: KHXpUkJOA2Y - Similarité: 0.46\n",
      "ID vidéo: iAujv10bsCg - Similarité: 0.47\n",
      "ID vidéo: xyEC9I6luRY - Similarité: 0.47\n",
      "ID vidéo: KxxfsVhI-ag - Similarité: 0.47\n",
      "ID vidéo: JSc6jDwTXso - Similarité: 0.47\n",
      "ID vidéo: IEn-QxlhoUg - Similarité: 0.47\n",
      "ID vidéo: YmE5ln7JuIQ - Similarité: 0.48\n",
      "ID vidéo: 91QgA7508Ek - Similarité: 0.48\n",
      "ID vidéo: 9NrzE8UKQOw - Similarité: 0.48\n",
      "ID vidéo: vz-WWdHJ9Kc - Similarité: 0.49\n",
      "ID vidéo: lZIQ9fzrvYs - Similarité: 0.49\n",
      "ID vidéo: SBmubDSyn3Q - Similarité: 0.50\n",
      "ID vidéo: 38hYbzQFSFE - Similarité: 0.51\n",
      "ID vidéo: KDQ34RdRIco - Similarité: 0.51\n",
      "ID vidéo: 7-l-_Av3I6I - Similarité: 0.52\n",
      "ID vidéo: SIn3L-zkLns - Similarité: 0.53\n",
      "ID vidéo: YdazOz0DnVE - Similarité: 0.61\n",
      "ID vidéo: 7dQAupf5GrI - Similarité: 0.61\n"
     ]
    }
   ],
   "source": [
    "for videos_sur_015 in videos_sur_015:\n",
    "    print(f\"ID vidéo: {videos_sur_015['id_video']} - Similarité: {videos_sur_015['similarity']:.2f}\")"
   ]
  },
  {
   "cell_type": "code",
   "execution_count": null,
   "id": "675864cf",
   "metadata": {},
   "outputs": [],
   "source": []
  },
  {
   "cell_type": "markdown",
   "id": "1f47061e",
   "metadata": {},
   "source": [
    "# With LLM"
   ]
  },
  {
   "cell_type": "code",
   "execution_count": null,
   "id": "c085a811",
   "metadata": {},
   "outputs": [],
   "source": [
    "from langchain_google_genai import GoogleGenerativeAI\n",
    "from langchain_core.prompts import ChatPromptTemplate"
   ]
  },
  {
   "cell_type": "code",
   "execution_count": null,
   "id": "8307aa33",
   "metadata": {},
   "outputs": [],
   "source": [
    "gemini_flash_1 = GoogleGenerativeAI(model=\"gemini-2.0-flash\", google_api_key=os.getenv(\"GOOGLE_API_KEY_1\"))\n",
    "gemini_flash_2 = GoogleGenerativeAI(model=\"gemini-2.0-flash\", google_api_key=os.getenv(\"GOOGLE_API_KEY_2\"))"
   ]
  },
  {
   "cell_type": "code",
   "execution_count": null,
   "id": "db19a2d8",
   "metadata": {},
   "outputs": [],
   "source": [
    "sysprompt = \"\"\"\n",
    "# La definition d'autossuffinnce\n",
    "\n",
    "L'autosuffisance est la démarche visant à acquérir la capacité de subvenir par soi-même à ses besoins fondamentaux, \n",
    "en premier lieu alimentaires par l'autoconsommation – c'est-à-dire produire, récolter et conserver un maximum de sa propre nourriture, \n",
    "souvent en privilégiant le bio, le local et le saisonnier. \n",
    "\n",
    "L'autosuffisance Plus qu'une simple recherche d'autonomie matérielle, elle représente un engagement pour être moins dépendant du système économique et social extérieur, impliquant des choix concrets comme trouver un lieu propice et le concevoir judicieusement (par exemple en permaculture), \n",
    "ainsi qu'un changement dans la manière de valoriser son temps et de consommer, formant ainsi le fondement d'une vie plus autonome.\n",
    "\n",
    "---\n",
    "\n",
    "# Votre mission\n",
    "\n",
    "- Décider si une vidéo concerne la thématique de l'autosuffisance en se basant sur ses métadonnées (titre, description, tags).  \n",
    "- Les vlogs, les interviews et les vidéos de partage d'expériences en lien avec l'autosuffisance sont intéressants.  \n",
    "- Les tutoriels et les vidéos de conseils sont également pertinents.  \n",
    "- Les vidéos présentant une technique liée à l'autosuffisance ou y contribuant sont utiles.  \n",
    "- Attribuer un score entier de 1 à 10 pour évaluer la pertinence de la vidéo par rapport à la thématique de l'autosuffisance.\n",
    "\n",
    "---\n",
    "\n",
    "# Votre réponse  \n",
    "\n",
    "- La réponse doit être au format JSON :  \n",
    "  \n",
    "    \"decision\": \"oui ou non\",\n",
    "    \"justification\": \"Justifiez votre décision avec des arguments\"\n",
    "    \"score\": votre èvaluation\n",
    " \n",
    "\"\"\"\n",
    "\n",
    "userprompt = \"\"\"\n",
    "Titre\n",
    "---\n",
    "{titre}\n",
    "Description\n",
    "---\n",
    "{description}\n",
    "tags\n",
    "---\n",
    "{tags}\n",
    "\"\"\"\n",
    "\n",
    "prompt = ChatPromptTemplate([\n",
    "    (\"system\", sysprompt),\n",
    "    (\"user\", userprompt)\n",
    "])\n",
    "\n",
    "chain_1 = prompt | gemini_flash_1\n",
    "chain_2 = prompt | gemini_flash_2\n"
   ]
  },
  {
   "cell_type": "markdown",
   "id": "75faf29a",
   "metadata": {},
   "source": [
    "## Test"
   ]
  },
  {
   "cell_type": "code",
   "execution_count": null,
   "id": "8803121a",
   "metadata": {},
   "outputs": [],
   "source": [
    "input = {\"titre\":\"Tuteurer et redresser un arbre 🌳\",\n",
    "         \"description\":\"Dans cette vidéo nous allons voir ensemble comment mettre un tuteur afin de redresser un arbre qui penche suite à la tempête.\\nCette vidéo vous aideras pour placer un tuteur en travers , sangler un arbre selon le sens du vent,\\n\\nIl existe plusieurs facon de tuteurer un arbre, haubanage, tripode,.. mais dans le cas présent un tuteur en biais suffiras puisque l'arbre n'est pas trés gros.\\n\\n\\n▬▬▬▬▬▬▬▬▬▬▬ POUR ALLER PLUS LOIN  ▬▬▬▬▬▬▬▬▬▬▬\\n\\n💡 Abonnez-vous pour me soutenir 🧡\\n\\n\\n💡Rejoignez-nous sur twitter\\net tik tok\\n\\n\\n▬▬▬▬▬▬▬▬▬▬▬ CHAPITRES DE CETTE VIDÉO ▬▬▬▬▬▬▬▬▬▬\\n\\n00:00 : Introduction\\n00:23 : Mise en place tuteur\\n01:54 : Sanglage et Redresser l'arbre\\n02:54 : Sens du vent et détails tuteurage\\n\\n▬▬▬▬▬▬▬▬▬▬▬ A PROPOS DE CETTE VIDÉO ▬▬▬▬▬▬▬▬▬▬▬\\n\\nLe Jardin du moulin\\nFrancois\\n#potager #jardindumoulin\",\n",
    "         \"tags\":', '.join( [\n",
    "      \"TCS\",\n",
    "      \"Agriculture Biologique\",\n",
    "      \"Bio\",\n",
    "      \"GAB 85\",\n",
    "      \"FNAB\",\n",
    "      \"Vendée\",\n",
    "      \"Techniques Culturales Simplifiées\",\n",
    "      \"GAEC Les Jonquilles\",\n",
    "      \"ECOPHYTO\",\n",
    "      \"Demain Vendée\",\n",
    "      \"Conservation des sols\",\n",
    "      \"Sol vivant\",\n",
    "      \"Productions végétales\",\n",
    "      \"Maïs\"\n",
    "    ])}\n",
    "print(input)\n",
    "print(chain_2.invoke(input))"
   ]
  },
  {
   "cell_type": "markdown",
   "id": "db721a02",
   "metadata": {},
   "source": [
    "## Run and Results "
   ]
  },
  {
   "cell_type": "code",
   "execution_count": null,
   "id": "544cb794",
   "metadata": {},
   "outputs": [],
   "source": [
    "def cleanAnswer(answer):\n",
    "    answer = answer.strip(\"`\")   \n",
    "    if answer.startswith(\"json\"):\n",
    "        answer = answer[4:].strip() \n",
    "    return  answer"
   ]
  },
  {
   "cell_type": "code",
   "execution_count": 37,
   "id": "6a5310e8",
   "metadata": {},
   "outputs": [
    {
     "name": "stderr",
     "output_type": "stream",
     "text": [
      "100%|█████████▉| 399/400 [22:37<00:01,  1.41s/it]"
     ]
    },
    {
     "name": "stdout",
     "output_type": "stream",
     "text": [
      "count2  8\n",
      "KEY 2\n"
     ]
    },
    {
     "name": "stderr",
     "output_type": "stream",
     "text": [
      "100%|██████████| 400/400 [22:38<00:00,  3.40s/it]"
     ]
    },
    {
     "name": "stdout",
     "output_type": "stream",
     "text": [
      "count2  9\n"
     ]
    },
    {
     "name": "stderr",
     "output_type": "stream",
     "text": [
      "\n"
     ]
    }
   ],
   "source": [
    "echantillon = openJson(\"../jsons/echantillon.json\")\n",
    "approach_2_Results = []\n",
    "count1 = 0\n",
    "count2 = 0\n",
    "temp = 0\n",
    "\n",
    "for video in tqdm(echantillon):\n",
    "    input = {\"titre\":video['titre_video'],\n",
    "             \"description\":video['description'],\n",
    "             \"tags\":', '.join(video['tags']),}\n",
    "    try:\n",
    "        if count1  <= 13:\n",
    "            print(\"KEY 1\")\n",
    "        \n",
    "            answer = cleanAnswer(chain_1.invoke(input))\n",
    "            #print(video['id_video'],'/n',answer)\n",
    "            video.update(json.loads(answer))\n",
    "            approach_2_Results.append(video)\n",
    "            \n",
    "            count1+=1\n",
    "            temp+=1            \n",
    "             \n",
    "            print(\"count1 \",count1)  \n",
    "            \n",
    "        if count1  > 13 and count2 <= 13:\n",
    "            print(\"KEY 2\")\n",
    "            \n",
    "            answer = cleanAnswer(chain_2.invoke(input))\n",
    "            #print(video['id_video'],'/n',answer)\n",
    "            video.update(json.loads(answer))\n",
    "            approach_2_Results.append(video)\n",
    "            \n",
    "            count2+=1\n",
    "            temp+=1\n",
    "            print(\"count2 \",count2)  \n",
    "            \n",
    "        if count1 > 13 and count2 > 13 :\n",
    "            print(\"sleep for 1 min\")\n",
    "            time.sleep(60)\n",
    "            count1 = 0\n",
    "            count2 = 0\n",
    "        \n",
    "\n",
    "        if temp >= 100:\n",
    "            saveJson(\"../jsons/approach_2_Results.json\",approach_2_Results)\n",
    "            temp=0\n",
    "            \n",
    "    except Exception as e:\n",
    "        print(f\"error {e}\")"
   ]
  },
  {
   "cell_type": "markdown",
   "id": "6b8ddd64",
   "metadata": {},
   "source": [
    "## Validate the llmResults"
   ]
  },
  {
   "cell_type": "markdown",
   "id": "5ef799dd",
   "metadata": {},
   "source": [
    "### Validate the pertinent videos"
   ]
  },
  {
   "cell_type": "code",
   "execution_count": 56,
   "id": "90033c81",
   "metadata": {},
   "outputs": [
    {
     "name": "stdout",
     "output_type": "stream",
     "text": [
      "3309\n",
      "350\n"
     ]
    }
   ],
   "source": [
    "channels = openJson(\"../../../collecting/jsons/channels.json\")\n",
    "llmVideosOui = openJson(\"../jsons/llmVideosOui.json\")\n",
    "\n",
    "print(len(channels))\n",
    "print(len(llmVideosOui))"
   ]
  },
  {
   "cell_type": "code",
   "execution_count": 44,
   "id": "69b67d95",
   "metadata": {},
   "outputs": [],
   "source": [
    "def getChannelName(ID):\n",
    "    for channel in channels:\n",
    "        if channel['id_chaine']==ID:\n",
    "            return channel['nom_chaine'] "
   ]
  },
  {
   "cell_type": "code",
   "execution_count": 36,
   "id": "5628ee55",
   "metadata": {},
   "outputs": [],
   "source": [
    "llmVideosOui_channelnames = []\n",
    "for videoOui in llmVideosOui:\n",
    "    llmVideosOui_channelnames.append(getChannelName(videoOui['id_chaine']))\n",
    "    \n",
    "namesCounter = Counter(llmVideosOui_channelnames)    "
   ]
  },
  {
   "cell_type": "code",
   "execution_count": 37,
   "id": "6ae43141",
   "metadata": {},
   "outputs": [
    {
     "data": {
      "text/plain": [
       "238"
      ]
     },
     "execution_count": 37,
     "metadata": {},
     "output_type": "execute_result"
    }
   ],
   "source": [
    "namesCounter\n",
    "\n",
    "len(namesCounter)"
   ]
  },
  {
   "cell_type": "code",
   "execution_count": 38,
   "id": "99afc8a1",
   "metadata": {},
   "outputs": [
    {
     "data": {
      "text/plain": [
       "Counter({\"L'ArchiPelle\": 14,\n",
       "         'Ver de Terre Production': 7,\n",
       "         'Atelier Fertile': 7,\n",
       "         'Nature-Simple.com': 5,\n",
       "         'Scop Terre vivante': 5,\n",
       "         'Rustica': 5,\n",
       "         'Permaculture & Agroforesterie': 5,\n",
       "         'La clé des champs': 5,\n",
       "         'permaculture agroécologie etc...': 4,\n",
       "         'Permaculture Design': 4,\n",
       "         'Julien Malara': 4,\n",
       "         'Ecolobionature Isabelle B.': 4,\n",
       "         'Ethique TV': 3,\n",
       "         'Neverland': 3,\n",
       "         \"La p'tite ortie dans la prairie\": 3,\n",
       "         'Björn Duval': 3,\n",
       "         'Réseau DEPHY Ecophyto': 3,\n",
       "         'Terres Inovia': 3,\n",
       "         'PERMAFUTUR TV': 3,\n",
       "         'Destination Bonheur': 3,\n",
       "         'TRUFFAUT': 3,\n",
       "         \"Le potager d'Olivier\": 3,\n",
       "         \"Chambre régionale d'agriculture d'Occitanie\": 3,\n",
       "         'Chez Picro': 3,\n",
       "         'Pierre1911': 2,\n",
       "         \"Nouvel'R Énergie\": 2,\n",
       "         \"Le Jardin d'Emerveille\": 2,\n",
       "         'Solutions & Débrouille': 2,\n",
       "         \"L' AUTONOMIE DU BONHEUR\": 2,\n",
       "         'La Vache Heureuse ': 2,\n",
       "         'Lamazuna': 2,\n",
       "         \"Permacult' Urbaine\": 2,\n",
       "         'africanews (en français)': 2,\n",
       "         'Devenir Autosuffisant par Robert RIVIERE': 2,\n",
       "         'Agreenium': 2,\n",
       "         'Onpassealacte!': 2,\n",
       "         'thonain': 2,\n",
       "         'Loic Vauclin (Le Jardineur)': 2,\n",
       "         'Myfood - Serres innovantes aquaponiques': 2,\n",
       "         \"ESILV - Ecole Supérieure d'Ingénieurs Léonard de Vinci\": 2,\n",
       "         'Mouvement Colibris': 2,\n",
       "         'Les Robinsons': 2,\n",
       "         'fredo brico': 2,\n",
       "         'Edenguard': 2,\n",
       "         'Je Bâtis Ma Maison ': 2,\n",
       "         'Xavier Mathias': 2,\n",
       "         'Entraid': 2,\n",
       "         'Cirad': 2,\n",
       "         'Nouvelle Graine': 2,\n",
       "         \"Université Francophone de l'Autonomie Alimentaire\": 2,\n",
       "         'Lakaban Autonome': 2,\n",
       "         'La Ferme de Cagnolle': 2,\n",
       "         'TV Vendée': 2,\n",
       "         'Avenir Permaculture': 2,\n",
       "         'Alexandre Leroux': 2,\n",
       "         \"Grange N' Roses\": 1,\n",
       "         'Potagerneration': 1,\n",
       "         'Cegibat': 1,\n",
       "         'Génération Éco': 1,\n",
       "         'Le potager du dimanche': 1,\n",
       "         'DONGO LE CONSEILLER AGRICOLE': 1,\n",
       "         'Denis Loessence - Liberté & résilience': 1,\n",
       "         \"Au Bord de l'Assiette\": 1,\n",
       "         'RAGT Semences FRANCE': 1,\n",
       "         'Marie-Sophie L - NatuRawChef': 1,\n",
       "         'Les Produits de Nouvelle-Aquitaine': 1,\n",
       "         \"Parc naturel régional des Caps et Marais d'Opale\": 1,\n",
       "         \"Jeunes Reporters pour l'Environnement\": 1,\n",
       "         'Les Céréales': 1,\n",
       "         'Chaux Boehm': 1,\n",
       "         'Projet Liberté': 1,\n",
       "         'LE POUDREUX': 1,\n",
       "         'naturel21230': 1,\n",
       "         'ASTREDHOR - Institut des professionnels du végétal': 1,\n",
       "         'LE BIO CHALET': 1,\n",
       "         'SLICE Peuples': 1,\n",
       "         'Sentiers du bonheur': 1,\n",
       "         'Paléo Régime': 1,\n",
       "         'Diane Expériences': 1,\n",
       "         'JARDIN SAUVAGE': 1,\n",
       "         'alann boboulo': 1,\n",
       "         'Pr. Henri Joyeux': 1,\n",
       "         'Agriculture innovante': 1,\n",
       "         'LES ENERGIES RENOUVELABLES de MacGyver': 1,\n",
       "         'Patelli Patrice': 1,\n",
       "         'IZIPLACE, la chaîne de Madame Tiny': 1,\n",
       "         'Projet micro ferme ': 1,\n",
       "         'Actu-Environnement': 1,\n",
       "         'WineFunding': 1,\n",
       "         \"Oasis du Coq à l'Âme\": 1,\n",
       "         'Clique TV': 1,\n",
       "         'AlterTour': 1,\n",
       "         'Bio Nouvelle Aquitaine': 1,\n",
       "         'DIPROCLEAN': 1,\n",
       "         'Sainbiose': 1,\n",
       "         'Evasion et émotion': 1,\n",
       "         'Télé Matin': 1,\n",
       "         'Comme un pingouin dans le désert (autoconstruction bois)': 1,\n",
       "         'Regeneration Vegetale': 1,\n",
       "         'La Ferme de la Goursaline': 1,\n",
       "         'PERMA-BATTERIES ': 1,\n",
       "         'SuperFrance Officiel': 1,\n",
       "         'Florimond Desprez': 1,\n",
       "         'Radio Mont Blanc': 1,\n",
       "         'POINT NEMO': 1,\n",
       "         \"Le Courrier de l'Ouest\": 1,\n",
       "         'Couple & Co': 1,\n",
       "         'Ukal Elevage': 1,\n",
       "         'La Ferme Du Rial': 1,\n",
       "         'Alôsnys Le village des saveurs et des savoirs': 1,\n",
       "         'Est Ensemble (Est Ensemble)': 1,\n",
       "         'Jardinerie PLANFOR': 1,\n",
       "         'Stéphane_Hqz': 1,\n",
       "         'IADEA': 1,\n",
       "         'POPOTE et POTAGER': 1,\n",
       "         'Caillard': 1,\n",
       "         'Barbier Christel': 1,\n",
       "         'Pévèle Carembault': 1,\n",
       "         'AILLEURS ▸ reportages voyages': 1,\n",
       "         'Survivre en France': 1,\n",
       "         'Rennes, Ville et Métropole': 1,\n",
       "         'Formations Bio': 1,\n",
       "         \"Papy Claude / Soigner L'Habitat\": 1,\n",
       "         'e-SVT M POURCHER': 1,\n",
       "         'Greener Family': 1,\n",
       "         'Biologement': 1,\n",
       "         \"SNHF Société Nationale d'Horticulture de France\": 1,\n",
       "         'Alizés TV': 1,\n",
       "         'Fourgon Voyageur': 1,\n",
       "         'Le Potager de Julien : le jardin autonome': 1,\n",
       "         'Cuisine vibratoire aux plantes sauvages ': 1,\n",
       "         'Une Ferme dans le Gers': 1,\n",
       "         'La Guerre Des Graines [Officiel]': 1,\n",
       "         'Anna Chrosto': 1,\n",
       "         'Forme-toi Durable': 1,\n",
       "         \"La graine s'active\": 1,\n",
       "         'MyShop Solaire': 1,\n",
       "         'Aurélie Jouan - Graines de Naturel': 1,\n",
       "         'Cultiver les champignons': 1,\n",
       "         'Geoffrey': 1,\n",
       "         'Les Alvéoles': 1,\n",
       "         \"FNE Provence-Alpes-Côte d'Azur\": 1,\n",
       "         'Les Joies Sauvages': 1,\n",
       "         'Charlotte Rutkowski': 1,\n",
       "         'Centre Hélène Borel': 1,\n",
       "         'Info Compensation Carbone': 1,\n",
       "         'Jardiner sans travail du sol': 1,\n",
       "         'Made in Marseille': 1,\n",
       "         'France Electrique': 1,\n",
       "         \"L'Ours des montagnes / Yannick Alram\": 1,\n",
       "         'Salon Tech&Bio': 1,\n",
       "         \"C'est pas sorcier\": 1,\n",
       "         'Bio en Hauts-de-France': 1,\n",
       "         'Blato CBD': 1,\n",
       "         'Low Tech Developer': 1,\n",
       "         'slash enquêtes': 1,\n",
       "         'Vergers de la Cailleuse': 1,\n",
       "         'Les Infos du Pays Gallo': 1,\n",
       "         'Herbe et Fourrages Centre-Val de Loire': 1,\n",
       "         'Biovie, alimentation vivante haute vitalité': 1,\n",
       "         'Alternative Life': 1,\n",
       "         'Chaillot Barnabé': 1,\n",
       "         'Build Green': 1,\n",
       "         'ITAVI': 1,\n",
       "         'Les Pieds dans la Salade': 1,\n",
       "         'Guyane la 1ère': 1,\n",
       "         'La France Agricole': 1,\n",
       "         'Titus MIK': 1,\n",
       "         'Chambre d’agriculture de la Corrèze': 1,\n",
       "         'Ecolieu Entre2Terres': 1,\n",
       "         'La ferme des montagnes': 1,\n",
       "         'assiette gourmande': 1,\n",
       "         'INA Arditube': 1,\n",
       "         'Civam Adage 35': 1,\n",
       "         'Hit the road Max': 1,\n",
       "         'Ferme Tourne-Sol': 1,\n",
       "         'SunActiv Habitat': 1,\n",
       "         'Les fées de SERRE': 1,\n",
       "         'Raphaël Minnesota': 1,\n",
       "         'Le Monde De Jamy - France Télévisions': 1,\n",
       "         'La ferme autosuffisante': 1,\n",
       "         'Chambre Agriculture Landes': 1,\n",
       "         \"L'Oasis de Cezay\": 1,\n",
       "         'Novabiom': 1,\n",
       "         'CuniBoss': 1,\n",
       "         'La Ressource': 1,\n",
       "         'Sarah et Olivier - Ma Maison de mes Mains': 1,\n",
       "         'LES ALTERCULTEURS': 1,\n",
       "         'Vie Autonome': 1,\n",
       "         'Zefry LADIASPORA': 1,\n",
       "         \"Compar'Études\": 1,\n",
       "         'Thierry Noguéro': 1,\n",
       "         'Les Sourciers': 1,\n",
       "         \"De l'ordre à l'harmonie\": 1,\n",
       "         'Mouton-Résilient | Survivalisme Pragmatique': 1,\n",
       "         'Assoc. La Nature au Coeur': 1,\n",
       "         'agglo thionville': 1,\n",
       "         'AGIR - ENTREPRENEURIAT': 1,\n",
       "         'Jamy - Epicurieux': 1,\n",
       "         'Futura - le média qui explore le monde': 1,\n",
       "         'Low-tech Lab': 1,\n",
       "         'La voix du maraîcher': 1,\n",
       "         'Laurent L': 1,\n",
       "         'Farming Together': 1,\n",
       "         'Envie Commune': 1,\n",
       "         'COMMUNE DE TAPUTAPUATEA': 1,\n",
       "         'France Nature Environnement Occitanie Pyrénées': 1,\n",
       "         'PowerBoost': 1,\n",
       "         'Sam, agriculteur indépendant': 1,\n",
       "         'Poulailler De Ville': 1,\n",
       "         'Au Jardin': 1,\n",
       "         'TYNILLA : Comme un Rêve de Pêche ': 1,\n",
       "         'Karine et Loïc BIODIVERS': 1,\n",
       "         'GlouGlou': 1,\n",
       "         'Coach Emmanuel AGRONOME (Poulet Local En Afrique)': 1,\n",
       "         'Le potager du bienheureux (permaculture mais pas que)': 1,\n",
       "         'COMPO EXPERT France': 1,\n",
       "         \"En quête d'autonomie\": 1,\n",
       "         'Personne Connait': 1,\n",
       "         'FRED 85 Bricolage et Rénovation pour la Maison ': 1,\n",
       "         'Christophe Ghesquière': 1,\n",
       "         'La Coopération Agricole': 1,\n",
       "         'Gargouille des campagnes': 1,\n",
       "         'Retour à la Terre': 1,\n",
       "         'Jérôme Pinte': 1,\n",
       "         \"Chambre d'Agriculture du Var\": 1,\n",
       "         'La Ferme Neuve': 1,\n",
       "         'Alain Dieudonné': 1,\n",
       "         'Tom MARSAL': 1,\n",
       "         'Souverains des bois': 1,\n",
       "         'Adventice': 1,\n",
       "         'Le Jardin Potager Du Bonheur': 1,\n",
       "         'magazine La Maison écologique': 1,\n",
       "         'imineo Documentaires': 1,\n",
       "         \"Chambre d'agriculture Aisne\": 1,\n",
       "         'Jo Tempié - Artisan vidéo': 1,\n",
       "         'Association Bienvenue en Transition': 1,\n",
       "         'le gaulois et sa famille nomade': 1})"
      ]
     },
     "execution_count": 38,
     "metadata": {},
     "output_type": "execute_result"
    }
   ],
   "source": [
    "namesCounter"
   ]
  },
  {
   "cell_type": "code",
   "execution_count": 57,
   "id": "0a971151",
   "metadata": {},
   "outputs": [
    {
     "data": {
      "text/plain": [
       "31"
      ]
     },
     "execution_count": 57,
     "metadata": {},
     "output_type": "execute_result"
    }
   ],
   "source": [
    "valideChannels = [\"L'ArchiPelle\",\n",
    "                  'Ver de Terre Production',\n",
    "                  'Atelier Fertile',\n",
    "                  'Nature-Simple.com',\n",
    "                  'Scop Terre vivante',\n",
    "                  'Rustica',\n",
    "                  'La clé des champs',\n",
    "                  'permaculture agroécologie etc...',\n",
    "                  'Permaculture Design',\n",
    "                  'Julien Malara',\n",
    "                  'Ecolobionature Isabelle B.',\n",
    "                  \"La p'tite ortie dans la prairie\",\n",
    "                  'Björn Duval',\n",
    "                  'PERMAFUTUR TV',\n",
    "                  'Destination Bonheur',\n",
    "                  \"Le potager d'Olivier\",\n",
    "                  'Chez Picro',\n",
    "                  'Pierre1911',\n",
    "                  \"Le Jardin d'Emerveille\",\n",
    "                  \"L' AUTONOMIE DU BONHEUR\",\n",
    "                  \"Permacult' Urbaine\",\n",
    "                  'Devenir Autosuffisant par Robert RIVIERE',\n",
    "                  'Loic Vauclin (Le Jardineur)',\n",
    "                    'fredo brico',\n",
    "                    'Edenguard',\n",
    "                    'Xavier Mathias',\n",
    "                    'Nouvelle Graine',\n",
    "                    'Lakaban Autonome',\n",
    "                    'La Ferme de Cagnolle',\n",
    "                     'Avenir Permaculture',\n",
    "                   'Alexandre Leroux',\n",
    "                            \n",
    "                  ]\n",
    "\n",
    "len(valideChannels)"
   ]
  },
  {
   "cell_type": "code",
   "execution_count": 58,
   "id": "72fbf042",
   "metadata": {},
   "outputs": [
    {
     "name": "stdout",
     "output_type": "stream",
     "text": [
      "110\n"
     ]
    }
   ],
   "source": [
    "count = 0\n",
    "for videoOui in llmVideosOui:\n",
    "    if getChannelName(videoOui['id_chaine']) in valideChannels:\n",
    "        videoOui['validation']='oui'\n",
    "        count+=1\n",
    "    else :\n",
    "        videoOui['validation']=''\n",
    "print(count)"
   ]
  },
  {
   "cell_type": "code",
   "execution_count": 59,
   "id": "f3e19120",
   "metadata": {},
   "outputs": [
    {
     "name": "stdout",
     "output_type": "stream",
     "text": [
      "\u001b[1m\u001b[32m\n",
      " json saved\u001b[0m\n"
     ]
    }
   ],
   "source": [
    "saveJson(\"../jsons/llmVideosOui.json\",llmVideosOui)"
   ]
  },
  {
   "cell_type": "code",
   "execution_count": 60,
   "metadata": {},
   "outputs": [
    {
     "name": "stdout",
     "output_type": "stream",
     "text": [
      "\u001b[1m\u001b[32m\n",
      " json saved\u001b[0m\n",
      "240\n"
     ]
    }
   ],
   "source": [
    "ToValidate = []\n",
    "for videoOui in llmVideosOui:\n",
    "    if videoOui['validation']=='':\n",
    "        videoOui['lien']= f\"https://www.youtube.com/watch?v={videoOui['id_video']}\"\n",
    "        ToValidate.append(videoOui)\n",
    "   \n",
    "saveJson(\"../jsons/ToValidate.json\",ToValidate)        \n",
    "print(len(ToValidate))"
   ]
  },
  {
   "cell_type": "code",
   "execution_count": 116,
   "id": "472d4797",
   "metadata": {},
   "outputs": [
    {
     "data": {
      "text/plain": [
       "Counter({'oui': 175, 'non': 65})"
      ]
     },
     "execution_count": 116,
     "metadata": {},
     "output_type": "execute_result"
    }
   ],
   "source": [
    "ToValidate = openJson(\"../jsons/ToValidate.json\")\n",
    "validations = []\n",
    "for val in ToValidate:\n",
    "    validations.append(val['validation'])\n",
    "    \n",
    "validationsCounter = Counter(validations)\n",
    "validationsCounter"
   ]
  },
  {
   "cell_type": "markdown",
   "id": "7c83aa6a",
   "metadata": {},
   "source": [
    "- Reintegrate the ToValidate into llmVideosOui.json"
   ]
  },
  {
   "cell_type": "code",
   "execution_count": 119,
   "metadata": {},
   "outputs": [
    {
     "name": "stdout",
     "output_type": "stream",
     "text": [
      "\u001b[1m\u001b[32m\n",
      " json saved\u001b[0m\n"
     ]
    }
   ],
   "source": [
    "ToValidate = openJson(\"../jsons/ToValidate.json\")\n",
    "llmVideosOui = openJson(\"../jsons/llmVideosOui.json\")\n",
    "\n",
    "for videoOui in llmVideosOui:\n",
    "    if videoOui['validation']=='':\n",
    "        for tt in ToValidate:\n",
    "            if tt['id_video']==videoOui['id_video']:\n",
    "                videoOui['validation']=tt['validation']\n",
    "        \n",
    "saveJson(\"../jsons/llmVideosOui.json\",llmVideosOui)"
   ]
  },
  {
   "cell_type": "code",
   "execution_count": 120,
   "id": "9f4b5511",
   "metadata": {},
   "outputs": [
    {
     "data": {
      "text/plain": [
       "Counter({'oui': 285, 'non': 65})"
      ]
     },
     "execution_count": 120,
     "metadata": {},
     "output_type": "execute_result"
    }
   ],
   "source": [
    "finalResults = []\n",
    "for videoOui in llmVideosOui:\n",
    "    finalResults.append(videoOui['validation'])\n",
    "\n",
    "finalResultsCounter = Counter(finalResults)\n",
    "finalResultsCounter"
   ]
  },
  {
   "cell_type": "code",
   "execution_count": null,
   "id": "3ecd3d13",
   "metadata": {},
   "outputs": [],
   "source": []
  },
  {
   "cell_type": "markdown",
   "id": "9af7ab0d",
   "metadata": {},
   "source": [
    "### Validate the non pertinent videos"
   ]
  },
  {
   "cell_type": "code",
   "execution_count": 127,
   "id": "d18ded35",
   "metadata": {},
   "outputs": [
    {
     "data": {
      "text/plain": [
       "50"
      ]
     },
     "execution_count": 127,
     "metadata": {},
     "output_type": "execute_result"
    }
   ],
   "source": [
    "llmVideosNon = openJson(\"../jsons/llmVideosNon.json\")\n",
    "len(llmVideosNon)"
   ]
  },
  {
   "cell_type": "code",
   "execution_count": 126,
   "id": "daeb7082",
   "metadata": {},
   "outputs": [
    {
     "name": "stdout",
     "output_type": "stream",
     "text": [
      "\u001b[1m\u001b[32m\n",
      " json saved\u001b[0m\n"
     ]
    }
   ],
   "source": [
    "for videoNon in llmVideosNon:\n",
    "    videoNon['lien']= f\"https://www.youtube.com/watch?v={videoNon['id_video']}\"\n",
    "    videoNon['validation']=''\n",
    "\n",
    "saveJson(\"../jsons/llmVideosNon.json\",llmVideosNon)"
   ]
  },
  {
   "cell_type": "code",
   "execution_count": 128,
   "id": "5c563f2e",
   "metadata": {},
   "outputs": [
    {
     "data": {
      "text/plain": [
       "Counter({'non': 48, 'oui': 2})"
      ]
     },
     "execution_count": 128,
     "metadata": {},
     "output_type": "execute_result"
    }
   ],
   "source": [
    "finalResults = []\n",
    "for videoNon in llmVideosNon:\n",
    "    finalResults.append(videoNon['validation'])\n",
    "\n",
    "finalResultsCounter = Counter(finalResults)\n",
    "finalResultsCounter"
   ]
  },
  {
   "cell_type": "code",
   "execution_count": 129,
   "id": "ef3398a0",
   "metadata": {},
   "outputs": [
    {
     "name": "stdout",
     "output_type": "stream",
     "text": [
      "Accuracy : 83.25%\n",
      "Precision: 81.43%\n",
      "Recall   : 99.30%\n",
      "F1-score : 89.48%\n"
     ]
    }
   ],
   "source": [
    "TP = 285\n",
    "FP = 65\n",
    "FN = 2\n",
    "TN = 48\n",
    "\n",
    "accuracy = (TP + TN) / (TP + TN + FP + FN)\n",
    "precision = TP / (TP + FP)\n",
    "recall = TP / (TP + FN)\n",
    "f1_score = 2 * (precision * recall) / (precision + recall)\n",
    "\n",
    "print(f\"Accuracy : {accuracy:.2%}\")\n",
    "print(f\"Precision: {precision:.2%}\")\n",
    "print(f\"Recall   : {recall:.2%}\")\n",
    "print(f\"F1-score : {f1_score:.2%}\")\n"
   ]
  },
  {
   "cell_type": "markdown",
   "id": "8b484c7d",
   "metadata": {},
   "source": [
    "### groundTruth for the next steps"
   ]
  },
  {
   "cell_type": "code",
   "execution_count": 6,
   "id": "41eca581",
   "metadata": {},
   "outputs": [
    {
     "name": "stdout",
     "output_type": "stream",
     "text": [
      "4504\n",
      "50   350\n"
     ]
    }
   ],
   "source": [
    "llmVideosNon = openJson(\"../jsons/llmVideosNon.json\")\n",
    "llmVideosOui = openJson(\"../jsons/llmVideosOui.json\")\n",
    "videosF2 = openJson(\"../jsons/videosF2.json\")\n",
    "\n",
    "def getVideo(ID):\n",
    "    for v in videosF2:\n",
    "        if v['id_video']==ID:\n",
    "            return v\n",
    "\n",
    "print(len(videosF2))\n",
    "print(len(llmVideosNon),' ',len(llmVideosOui))\n",
    "\n"
   ]
  },
  {
   "cell_type": "code",
   "execution_count": 10,
   "id": "8e77fac4",
   "metadata": {},
   "outputs": [
    {
     "data": {
      "text/plain": [
       "400"
      ]
     },
     "execution_count": 10,
     "metadata": {},
     "output_type": "execute_result"
    }
   ],
   "source": [
    "groundTruth = []\n",
    "\n",
    "for video in llmVideosNon:\n",
    "    v = getVideo(video['id_video'])\n",
    "    v['pertinente'] = video['validation']\n",
    "    groundTruth.append(v)\n",
    "    \n",
    "for video in llmVideosOui:\n",
    "    v = getVideo(video['id_video'])\n",
    "    v['pertinente'] = video['validation']\n",
    "    groundTruth.append(v)  \n",
    "      \n",
    "len(groundTruth)"
   ]
  },
  {
   "cell_type": "code",
   "execution_count": 11,
   "id": "82a1af28",
   "metadata": {},
   "outputs": [
    {
     "name": "stdout",
     "output_type": "stream",
     "text": [
      "\u001b[1m\u001b[32m\n",
      " json saved\u001b[0m\n"
     ]
    }
   ],
   "source": [
    "saveJson(\"../jsons/groundTruth.json\",groundTruth)"
   ]
  },
  {
   "cell_type": "markdown",
   "id": "849930ff",
   "metadata": {},
   "source": [
    "# Number of search queries"
   ]
  },
  {
   "cell_type": "markdown",
   "id": "1bd36f3c",
   "metadata": {},
   "source": [
    "## nbrQueries "
   ]
  },
  {
   "cell_type": "code",
   "execution_count": 13,
   "id": "b358c871",
   "metadata": {},
   "outputs": [
    {
     "data": {
      "text/plain": [
       "3309"
      ]
     },
     "execution_count": 13,
     "metadata": {},
     "output_type": "execute_result"
    }
   ],
   "source": [
    "channels = openJson(\"../../../collecting/jsons/channels.json\")\n",
    "len(channels)"
   ]
  },
  {
   "cell_type": "code",
   "execution_count": 14,
   "id": "8aa9cd8a",
   "metadata": {},
   "outputs": [
    {
     "name": "stdout",
     "output_type": "stream",
     "text": [
      "[{'id_video': 'iF3O2TSheXI', 'numQueries': 162, 'channelname': \"L'ArchiPelle\"}, {'id_video': 'B21So1_VYMY', 'numQueries': 112, 'channelname': \"L'ArchiPelle\"}, {'id_video': '6CI-4_XszYg', 'numQueries': 107, 'channelname': \"Le Jardin d'Emerveille\"}, {'id_video': 'POPtzy-5jLg', 'numQueries': 97, 'channelname': \"L'ArchiPelle\"}, {'id_video': 'FZBgBkMdgTg', 'numQueries': 88, 'channelname': 'Comme un pingouin dans le désert (autoconstruction bois)'}]\n",
      "2.861234458259325\n"
     ]
    }
   ],
   "source": [
    "queriesCounter = []\n",
    "for video in videosF2:\n",
    "    for channel in channels:\n",
    "        if channel['id_chaine'] == video['id_chaine']:\n",
    "            channelname = channel['nom_chaine']\n",
    "    queriesCounter.append({\n",
    "        'id_video': video['id_video'],\n",
    "        'numQueries': len(video['requete']),\n",
    "        'channelname': channelname\n",
    "    })\n",
    "\n",
    "queriesCounter = sorted(queriesCounter, key=lambda x: x['numQueries'], reverse=True)\n",
    "\n",
    "total_queries = sum(item['numQueries'] for item in queriesCounter)\n",
    "nombre_videos = len(queriesCounter)\n",
    "moyenne_queries = total_queries / nombre_videos\n",
    "\n",
    "print(queriesCounter[:5])\n",
    "print(moyenne_queries)"
   ]
  },
  {
   "cell_type": "markdown",
   "id": "220b37ae",
   "metadata": {},
   "source": [
    "- La moyenne de **nbrQueries** pour les vidéos non pertinentes."
   ]
  },
  {
   "cell_type": "code",
   "execution_count": 16,
   "id": "b2a76b81",
   "metadata": {},
   "outputs": [],
   "source": [
    "groundTruth = openJson(\"../jsons/groundTruth.json\")"
   ]
  },
  {
   "cell_type": "code",
   "execution_count": 18,
   "id": "f204df84",
   "metadata": {},
   "outputs": [
    {
     "name": "stdout",
     "output_type": "stream",
     "text": [
      "287\n",
      "113\n"
     ]
    }
   ],
   "source": [
    "queriesCounterNon = []\n",
    "queriesCounterOui = []\n",
    "\n",
    "for video in groundTruth:\n",
    "    if video['pertinente']=='oui':\n",
    "        queriesCounterOui.append(len(video['requete']))\n",
    "    else:\n",
    "        queriesCounterNon.append(len(video['requete']))\n",
    "\n",
    "print(len(queriesCounterOui))\n",
    "print(len(queriesCounterNon))"
   ]
  },
  {
   "cell_type": "code",
   "execution_count": 20,
   "id": "1d9fb209",
   "metadata": {},
   "outputs": [
    {
     "name": "stdout",
     "output_type": "stream",
     "text": [
      "Moyenne de nbrQueries pour les vidéos non pertinentes : 1.3628318584070795\n",
      "Moyenne de nbrQueries pour les vidéos  pertinentes : 3.9337979094076654\n"
     ]
    }
   ],
   "source": [
    "print(f'Moyenne de nbrQueries pour les vidéos non pertinentes : {sum(queriesCounterNon)/len(queriesCounterNon)}')\n",
    "print(f'Moyenne de nbrQueries pour les vidéos  pertinentes : {sum(queriesCounterOui)/len(queriesCounterOui)}')"
   ]
  },
  {
   "cell_type": "markdown",
   "id": "fcb91240",
   "metadata": {},
   "source": [
    "=> nbrQueries est un bon indicateur de pertinence des videos."
   ]
  },
  {
   "cell_type": "code",
   "execution_count": null,
   "id": "31111684",
   "metadata": {},
   "outputs": [],
   "source": []
  },
  {
   "cell_type": "markdown",
   "id": "9358077e",
   "metadata": {},
   "source": [
    "## Indice de pertinence"
   ]
  },
  {
   "cell_type": "markdown",
   "id": "dc5ed746",
   "metadata": {},
   "source": [
    "I.P = llmScore × α + numQueries × β\n",
    "\n",
    "- On teste au depart avec alpha= 0.7 et beta = 0.3 sur notre echantillon "
   ]
  },
  {
   "cell_type": "markdown",
   "id": "1a0dde13",
   "metadata": {},
   "source": [
    "### les IP pour echantillon"
   ]
  },
  {
   "cell_type": "code",
   "execution_count": 62,
   "id": "8dbc7be9",
   "metadata": {},
   "outputs": [
    {
     "name": "stdout",
     "output_type": "stream",
     "text": [
      "400\n",
      "400\n"
     ]
    }
   ],
   "source": [
    "approach_2_Results = openJson(\"../jsons/approach_2_Results.json\")\n",
    "echantillon = openJson(\"../jsons/echantillon.json\")\n",
    "\n",
    "print(len(approach_2_Results))\n",
    "print(len(echantillon))"
   ]
  },
  {
   "cell_type": "code",
   "execution_count": 78,
   "id": "dddc1977",
   "metadata": {},
   "outputs": [],
   "source": [
    "def getEchantillonIP(alpha):\n",
    "    beta = 1-alpha\n",
    "    echantillonIP_Results = []\n",
    "    \n",
    "    for item in echantillon:\n",
    "        nbrQueries = len(item['requete'])\n",
    "        for v in approach_2_Results:\n",
    "            if v['id_video']==item['id_video']:\n",
    "                llmScore = v['score']\n",
    "        itemIP = llmScore*alpha + nbrQueries*beta\n",
    "        item['IP']=itemIP\n",
    "        echantillonIP_Results.append(item)\n",
    "        \n",
    "    return echantillonIP_Results"
   ]
  },
  {
   "cell_type": "code",
   "execution_count": 79,
   "id": "aac3bf50",
   "metadata": {},
   "outputs": [
    {
     "name": "stdout",
     "output_type": "stream",
     "text": [
      "\u001b[1m\u001b[32m\n",
      " json saved\u001b[0m\n",
      "400\n"
     ]
    }
   ],
   "source": [
    "echantillonIP_Results = getEchantillonIP(alpha=0.8)\n",
    "saveJson(\"../jsons/echantillonIP_Results.json\",echantillonIP_Results)\n",
    "print(len(echantillonIP_Results))"
   ]
  },
  {
   "cell_type": "code",
   "execution_count": null,
   "id": "1c795190",
   "metadata": {},
   "outputs": [],
   "source": []
  },
  {
   "cell_type": "markdown",
   "id": "3e4aa5df",
   "metadata": {},
   "source": [
    "### Distribution des IP"
   ]
  },
  {
   "cell_type": "code",
   "execution_count": 80,
   "id": "e9e1bb38",
   "metadata": {},
   "outputs": [],
   "source": [
    "echantillonIP_Results = openJson(\"../jsons/echantillonIP_Results.json\")"
   ]
  },
  {
   "cell_type": "code",
   "execution_count": 81,
   "metadata": {},
   "outputs": [
    {
     "data": {
      "image/png": "[encoded data removed]",
      "text/plain": [
       "<Figure size 640x480 with 1 Axes>"
      ]
     },
     "metadata": {},
     "output_type": "display_data"
    }
   ],
   "source": [
    "import numpy as np\n",
    "import matplotlib.pyplot as plt\n",
    "\n",
    "ip_values = [item['IP'] for item in echantillonIP_Results]\n",
    "\n",
    "plt.boxplot(ip_values, vert=True)\n",
    "plt.title('Boxplot des valeurs de IP')\n",
    "plt.show()"
   ]
  },
  {
   "cell_type": "code",
   "execution_count": 74,
   "metadata": {},
   "outputs": [
    {
     "name": "stdout",
     "output_type": "stream",
     "text": [
      "Min     = 1.00\n",
      "Q1      = 5.80\n",
      "Median  = 6.60\n",
      "Q3      = 7.60\n",
      "Max     = 40.40\n",
      "IQR     = 1.80\n",
      "Limite inférieure des moustaches = 3.10\n",
      "Limite supérieure des moustaches = 10.30\n"
     ]
    }
   ],
   "source": [
    "min_val = np.min(ip_values)\n",
    "q1 = np.percentile(ip_values, 25)\n",
    "median = np.median(ip_values)\n",
    "q3 = np.percentile(ip_values, 75)\n",
    "max_val = np.max(ip_values)\n",
    "\n",
    "iqr = q3 - q1\n",
    "lower_limit = q1 - 1.5 * iqr\n",
    "upper_limit = q3 + 1.5 * iqr\n",
    "\n",
    "print(f'Min     = {min_val:.2f}')\n",
    "print(f'Q1      = {q1:.2f}')\n",
    "print(f'Median  = {median:.2f}')\n",
    "print(f'Q3      = {q3:.2f}')\n",
    "print(f'Max     = {max_val:.2f}')\n",
    "print(f'IQR     = {iqr:.2f}')\n",
    "print(f'Limite inférieure des moustaches = {lower_limit:.2f}')\n",
    "print(f'Limite supérieure des moustaches = {upper_limit:.2f}')\n"
   ]
  },
  {
   "cell_type": "markdown",
   "id": "c36a0c2c",
   "metadata": {},
   "source": [
    "### Choix de alpha et seuil "
   ]
  },
  {
   "cell_type": "code",
   "execution_count": 86,
   "id": "dd0fae03",
   "metadata": {},
   "outputs": [],
   "source": [
    "groundTruth = openJson(\"../jsons/groundTruth.json\")"
   ]
  },
  {
   "cell_type": "code",
   "execution_count": 151,
   "id": "91cbb378",
   "metadata": {},
   "outputs": [],
   "source": [
    "def getEvaluationMetrics(TP,TN,FP,FN):\n",
    "    \n",
    "    accuracy = (TP + TN) / (TP + TN + FP + FN)\n",
    "    precision = TP / (TP + FP)\n",
    "    recall = TP / (TP + FN)\n",
    "    f1_score = 2 * (precision * recall) / (precision + recall)\n",
    "    \n",
    "    #print(f\"Accuracy : {accuracy:.2%}\")\n",
    "    #print(f\"F1-score : {f1_score:.2%}\")\n",
    "    return round(accuracy,2),round(f1_score,2)\n",
    "    \n",
    "def getGround(ID):\n",
    "    for g in groundTruth:\n",
    "        if g['id_video']==ID:\n",
    "            return g['pertinente']"
   ]
  },
  {
   "cell_type": "code",
   "execution_count": 166,
   "id": "e6a2a1bc",
   "metadata": {},
   "outputs": [],
   "source": [
    "import matplotlib.pyplot as plt\n",
    "import numpy as np\n",
    "\n",
    "def getMetrics(alpha,seuil):\n",
    "    echantillonIP_Results = getEchantillonIP(alpha)\n",
    "    totalPositive = 0\n",
    "    totalNegative = 0\n",
    "    TP = 0\n",
    "    TN = 0\n",
    "    for item in echantillonIP_Results:\n",
    "        if item['IP'] <= seuil:\n",
    "            totalNegative+=1\n",
    "            groundResult = getGround(item['id_video'])\n",
    "            if groundResult == 'non':\n",
    "                TN+=1\n",
    "        else:\n",
    "            totalPositive+=1\n",
    "            groundResult = getGround(item['id_video'])\n",
    "            if groundResult == 'oui':\n",
    "                TP+=1\n",
    "    FN = totalNegative-TN\n",
    "    FP = totalPositive-TP\n",
    "    \n",
    "    accuracy,f1_score = getEvaluationMetrics(TP,TN,FP,FN)\n",
    "    \n",
    "    #print(f\"Accuracy : {accuracy:.2%}\")\n",
    "    #print(f\"F1-score : {f1_score:.2%}\")\n",
    "    \n",
    "    return accuracy,f1_score \n",
    "\n",
    "def getalphaVariation(seuil):\n",
    "    accuracyValues = []\n",
    "    f1ScoreValues = []\n",
    "    \n",
    "    for alpha in np.arange(0, 1.1, 0.1):\n",
    "        accuracy,f1_score = getMetrics(alpha,seuil)\n",
    "        accuracyValues.append(accuracy)\n",
    "        f1ScoreValues.append(f1_score)\n",
    "        \n",
    "    ## Plot \n",
    "    \n",
    "    plt.figure(figsize=(8, 5))\n",
    "    plt.plot(np.arange(0, 1.1, 0.1), accuracyValues, marker='o', color='blue', label='Accuracy')\n",
    "    plt.plot(np.arange(0, 1.1, 0.1), f1ScoreValues, marker='s', color='green', label='F1 Score')\n",
    "    plt.xlabel('Alpha')\n",
    "    plt.ylabel('Score')\n",
    "    plt.title(f'Accuracy et F1 Score en fonction de Alpha (seuil = {seuil})')\n",
    "    plt.legend()\n",
    "    plt.grid(True)\n",
    "    plt.show()\n"
   ]
  },
  {
   "cell_type": "code",
   "execution_count": 182,
   "id": "51604d30",
   "metadata": {},
   "outputs": [],
   "source": [
    "def gridSearchAlphaSeuil():\n",
    "    best_alpha_acc = None\n",
    "    best_seuil_acc = None\n",
    "    best_accuracy = 0\n",
    "\n",
    "    best_alpha_f1 = None\n",
    "    best_seuil_f1 = None\n",
    "    best_f1 = 0\n",
    "\n",
    "    best_alpha_sum = None\n",
    "    best_seuil_sum = None\n",
    "    best_sum = 0\n",
    "    best_sum_accuracy = 0\n",
    "    best_sum_f1 = 0\n",
    "\n",
    "    seuils = range(1, 11)\n",
    "    alphas = np.arange(0, 1.1, 0.1)\n",
    "\n",
    "    total = len(seuils) * len(alphas)\n",
    "    pbar = tqdm(total=total, desc=\"Grid Search\")\n",
    "\n",
    "    for seuil in seuils:\n",
    "        for alpha in alphas:\n",
    "            try:\n",
    "                accuracy, f1_score = getMetrics(alpha, seuil)\n",
    "                score_sum = accuracy + f1_score\n",
    "\n",
    "                if accuracy > best_accuracy:\n",
    "                    best_accuracy = accuracy\n",
    "                    best_alpha_acc = alpha\n",
    "                    best_seuil_acc = seuil\n",
    "\n",
    "                if f1_score > best_f1:\n",
    "                    best_f1 = f1_score\n",
    "                    best_alpha_f1 = alpha\n",
    "                    best_seuil_f1 = seuil\n",
    "\n",
    "                if score_sum > best_sum:\n",
    "                    best_sum = score_sum\n",
    "                    best_alpha_sum = alpha\n",
    "                    best_seuil_sum = seuil\n",
    "                    best_sum_accuracy = accuracy\n",
    "                    best_sum_f1 = f1_score\n",
    "\n",
    "            except:\n",
    "                print(f\"Combinaison impossible : seuil={seuil}, alpha={alpha}\")\n",
    "\n",
    "            pbar.update(1)\n",
    "\n",
    "    #pbar.close()\n",
    "\n",
    "    print(f\"Meilleure combinaison Accuracy                    : alpha = {best_alpha_acc}, seuil = {best_seuil_acc}, Accuracy = {best_accuracy:.4f}\")\n",
    "    print(f\"Meilleure combinaison F1-score                    : alpha = {best_alpha_f1}, seuil = {best_seuil_f1}, F1-score = {best_f1:.4f}\")\n",
    "    print(f\"Meilleure combinaison Somme (Accuracy+F1-score)   : alpha = {best_alpha_sum}, seuil = {best_seuil_sum}, Accuracy = {best_sum_accuracy:.4f}, F1-score = {best_sum_f1:.4f}, Somme = {best_sum:.4f}\")\n",
    "\n",
    "    return {\n",
    "        'accuracy': {'alpha': best_alpha_acc, 'seuil': best_seuil_acc, 'score': best_accuracy},\n",
    "        'f1_score': {'alpha': best_alpha_f1, 'seuil': best_seuil_f1, 'score': best_f1},\n",
    "        'sum': {\n",
    "            'alpha': best_alpha_sum,\n",
    "            'seuil': best_seuil_sum,\n",
    "            'accuracy': best_sum_accuracy,\n",
    "            'f1_score': best_sum_f1,\n",
    "            'score': best_sum\n",
    "        }\n",
    "    }\n"
   ]
  },
  {
   "cell_type": "code",
   "execution_count": 183,
   "id": "cacdbc79",
   "metadata": {},
   "outputs": [
    {
     "name": "stderr",
     "output_type": "stream",
     "text": [
      "Grid Search: 100%|██████████| 110/110 [00:07<00:00, 14.53it/s]"
     ]
    },
    {
     "name": "stdout",
     "output_type": "stream",
     "text": [
      "Combinaison impossible : seuil=10, alpha=1.0\n",
      "Meilleure combinaison Accuracy                    : alpha = 0.5, seuil = 4, Accuracy = 0.8400\n",
      "Meilleure combinaison F1-score                    : alpha = 0.2, seuil = 2, F1-score = 0.8900\n",
      "Meilleure combinaison Somme (Accuracy+F1-score)   : alpha = 0.5, seuil = 4, Accuracy = 0.8400, F1-score = 0.8900, Somme = 1.7300\n"
     ]
    },
    {
     "name": "stderr",
     "output_type": "stream",
     "text": [
      "\n"
     ]
    },
    {
     "data": {
      "text/plain": [
       "{'accuracy': {'alpha': np.float64(0.5), 'seuil': 4, 'score': 0.84},\n",
       " 'f1_score': {'alpha': np.float64(0.2), 'seuil': 2, 'score': 0.89},\n",
       " 'sum': {'alpha': np.float64(0.5),\n",
       "  'seuil': 4,\n",
       "  'accuracy': 0.84,\n",
       "  'f1_score': 0.89,\n",
       "  'score': 1.73}}"
      ]
     },
     "execution_count": 183,
     "metadata": {},
     "output_type": "execute_result"
    }
   ],
   "source": [
    "gridSearchAlphaSeuil()"
   ]
  },
  {
   "cell_type": "code",
   "execution_count": null,
   "id": "c1b28d35",
   "metadata": {},
   "outputs": [],
   "source": []
  },
  {
   "cell_type": "code",
   "execution_count": null,
   "id": "b24f0e3c",
   "metadata": {},
   "outputs": [],
   "source": []
  },
  {
   "cell_type": "code",
   "execution_count": null,
   "id": "06a24276",
   "metadata": {},
   "outputs": [],
   "source": []
  },
  {
   "cell_type": "code",
   "execution_count": null,
   "id": "23e9cefa",
   "metadata": {},
   "outputs": [],
   "source": []
  },
  {
   "cell_type": "code",
   "execution_count": null,
   "id": "b2bbab16",
   "metadata": {},
   "outputs": [],
   "source": []
  },
  {
   "cell_type": "code",
   "execution_count": null,
   "id": "c7956ced",
   "metadata": {},
   "outputs": [],
   "source": [
    "import numpy as np\n",
    "\n",
    "ip_values = [item['IP'] for item in echantillonIP]\n",
    "\n",
    "plt.boxplot(ip_values, vert=True)\n",
    "plt.title('Boxplot des valeurs de IP')\n",
    "plt.show()\n",
    "\n",
    "min_val = np.min(ip_values)\n",
    "q1 = np.percentile(ip_values, 25)\n",
    "median = np.median(ip_values)\n",
    "q3 = np.percentile(ip_values, 75)\n",
    "max_val = np.max(ip_values)\n",
    "\n",
    "iqr = q3 - q1\n",
    "lower_limit = q1 - 1.5 * iqr\n",
    "upper_limit = q3 + 1.5 * iqr\n",
    "\n",
    "print(f'Min     = {min_val:.2f}')\n",
    "print(f'Q1      = {q1:.2f}')\n",
    "print(f'Median  = {median:.2f}')\n",
    "print(f'Q3      = {q3:.2f}')\n",
    "print(f'Max     = {max_val:.2f}')\n",
    "print(f'IQR     = {iqr:.2f}')\n",
    "print(f'Limite inférieure des moustaches = {lower_limit:.2f}')\n",
    "print(f'Limite supérieure des moustaches = {upper_limit:.2f}')\n"
   ]
  },
  {
   "cell_type": "code",
   "execution_count": null,
   "id": "d84cc16f",
   "metadata": {},
   "outputs": [],
   "source": [
    "echantillonIP=openJson(\"../jsons/echantillonIP.json\")\n",
    "filtredVidoesIP = []\n",
    "for ech in echantillonIP:\n",
    "    if ech['IP'] < 2.9:\n",
    "        filtredVidoesIP.append(ech)\n",
    "    \n",
    "saveJson(\"../jsons/filtredVidoesIP.json\",filtredVidoesIP)"
   ]
  },
  {
   "cell_type": "code",
   "execution_count": null,
   "id": "8667b6ab",
   "metadata": {},
   "outputs": [],
   "source": [
    "filtredVidoesIP = openJson(\"../jsons/filtredVidoesIP.json\")\n",
    "len(filtredVidoesIP)"
   ]
  },
  {
   "cell_type": "code",
   "execution_count": null,
   "id": "7ca68dd1",
   "metadata": {},
   "outputs": [],
   "source": [
    "llmVideosNon = openJson(\"../jsons/llmVideosNon.json\")\n",
    "len(llmVideosNon)"
   ]
  },
  {
   "cell_type": "code",
   "execution_count": null,
   "id": "d50533ab",
   "metadata": {},
   "outputs": [],
   "source": [
    "for filteredvid in filtredVidoesIP:\n",
    "    exist = False\n",
    "    for vid in llmVideosNon:\n",
    "        if filteredvid['id_video']==vid['id_video']:\n",
    "            exist = True\n",
    "            break\n",
    "    if exist == False:\n",
    "        print(filteredvid['id_video'])    "
   ]
  },
  {
   "cell_type": "code",
   "execution_count": null,
   "id": "fb5114d3",
   "metadata": {},
   "outputs": [],
   "source": [
    "# RmN529MFKpU,8waoAttTffY doit revenir a LLM non\n",
    "# QCcYN8qIOAI est pertinente "
   ]
  },
  {
   "cell_type": "code",
   "execution_count": null,
   "id": "d403ba5a",
   "metadata": {},
   "outputs": [],
   "source": []
  },
  {
   "cell_type": "code",
   "execution_count": null,
   "metadata": {},
   "outputs": [],
   "source": []
  },
  {
   "cell_type": "code",
   "execution_count": null,
   "id": "0486457a",
   "metadata": {},
   "outputs": [],
   "source": []
  }
 ],
 "metadata": {
  "kernelspec": {
   "display_name": ".venv",
   "language": "python",
   "name": "python3"
  },
  "language_info": {
   "codemirror_mode": {
    "name": "ipython",
    "version": 3
   },
   "file_extension": ".py",
   "mimetype": "text/x-python",
   "name": "python",
   "nbconvert_exporter": "python",
   "pygments_lexer": "ipython3",
   "version": "3.10.16"
  }
 },
 "nbformat": 4,
 "nbformat_minor": 5
}
