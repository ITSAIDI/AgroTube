{
 "cells": [
  {
   "cell_type": "code",
   "execution_count": 38,
   "id": "99e3887a",
   "metadata": {},
   "outputs": [
    {
     "data": {
      "text/plain": [
       "True"
      ]
     },
     "execution_count": 38,
     "metadata": {},
     "output_type": "execute_result"
    }
   ],
   "source": [
    "import json \n",
    "from collections import Counter\n",
    "from tqdm import tqdm \n",
    "from colorama import Style,Fore\n",
    "import os\n",
    "from dotenv import load_dotenv\n",
    "import time\n",
    "load_dotenv()"
   ]
  },
  {
   "cell_type": "code",
   "execution_count": 5,
   "id": "65d64c1f",
   "metadata": {},
   "outputs": [],
   "source": [
    "from utils1 import openJson,saveJson"
   ]
  },
  {
   "cell_type": "markdown",
   "id": "f7f1883a",
   "metadata": {},
   "source": [
    "## Filtering 1"
   ]
  },
  {
   "cell_type": "markdown",
   "id": "90f9957c",
   "metadata": {},
   "source": [
    "- videosF1.json contain the videos with fr-FR on the language parameter"
   ]
  },
  {
   "cell_type": "code",
   "execution_count": 5,
   "id": "3808438d",
   "metadata": {},
   "outputs": [
    {
     "data": {
      "text/plain": [
       "6859"
      ]
     },
     "execution_count": 5,
     "metadata": {},
     "output_type": "execute_result"
    }
   ],
   "source": [
    "videosR3 = openJson(\"../jsons/videosR3.json\")\n",
    "len(videosR3)"
   ]
  },
  {
   "cell_type": "code",
   "execution_count": 7,
   "id": "70157702",
   "metadata": {},
   "outputs": [
    {
     "name": "stdout",
     "output_type": "stream",
     "text": [
      "\u001b[1m\u001b[32m\n",
      " json saved\u001b[0m\n"
     ]
    },
    {
     "data": {
      "text/plain": [
       "4722"
      ]
     },
     "execution_count": 7,
     "metadata": {},
     "output_type": "execute_result"
    }
   ],
   "source": [
    "videosF1 = []\n",
    "for video in videosR3:\n",
    "    if video['langue']== 'fr-FR':\n",
    "        videosF1.append(video)\n",
    "saveJson(\"../jsons/videosF1.json\",videosF1)\n",
    "len(videosF1)"
   ]
  },
  {
   "cell_type": "markdown",
   "id": "0d0c5eb6",
   "metadata": {},
   "source": [
    "## Filtering 2"
   ]
  },
  {
   "cell_type": "markdown",
   "id": "e9308cab",
   "metadata": {},
   "source": [
    "### Detecter les videos des Chaines TV "
   ]
  },
  {
   "cell_type": "code",
   "execution_count": 116,
   "id": "3f61bf02",
   "metadata": {},
   "outputs": [
    {
     "name": "stdout",
     "output_type": "stream",
     "text": [
      "25\n",
      "['france2', 'france3', 'france4', 'france5', 'franceinfo', 'bfmtv', 'c8', 'cstar', 'gulli', 'cnews', 'canal+', 'planète+', 'lci', 'parispremière', '6ter', 'arte', 'm6', 'w9', 'tfx', 'tmc', 'nrj12', 'tf1', 'lachaîneparlementaire', 'chérie25', 'rmc']\n"
     ]
    }
   ],
   "source": [
    "chainesTv = [\n",
    "    \"France 2\", \"France 3\", \"France 4\",\"France 5\",\"Franceinfo\",\n",
    "    \"BFMTV\", \"C8\", \"CStar\", \"Gulli\", \"Cnews\",\n",
    "    \"Canal+\", \"Planète+\", \"LCI\", \"Paris première\",\n",
    "    \"6ter\", \"Arte\", \"M6\", \"W9\",\n",
    "    \"TFX\", \"TMC\", \"NRJ12\", \"TF1\",\"La Chaîne parlementaire\",\n",
    "    \"Chérie 25\", \"RMC\"\n",
    "]\n",
    "chainesTv = [nomTV.lower().replace(\" \", \"\") for nomTV in chainesTv]\n",
    "\n",
    "print(len(chainesTv))\n",
    "print(chainesTv)"
   ]
  },
  {
   "cell_type": "code",
   "execution_count": 117,
   "id": "7952b5b6",
   "metadata": {},
   "outputs": [
    {
     "data": {
      "text/plain": [
       "4722"
      ]
     },
     "execution_count": 117,
     "metadata": {},
     "output_type": "execute_result"
    }
   ],
   "source": [
    "videosF1 = openJson(\"../jsons/videosF1.json\")\n",
    "len(videosF1)"
   ]
  },
  {
   "cell_type": "code",
   "execution_count": 118,
   "id": "bdb7ef51",
   "metadata": {},
   "outputs": [],
   "source": [
    "channels = openJson(\"../../collecting/jsons/channels.json\")\n",
    "def getChannelName(channelId):\n",
    "    for channel in channels:\n",
    "        if channel['id_chaine']==channelId:\n",
    "            return channel['nom_chaine'].lower().replace(\" \", \"\")"
   ]
  },
  {
   "cell_type": "code",
   "execution_count": 126,
   "id": "2359fa91",
   "metadata": {},
   "outputs": [
    {
     "name": "stdout",
     "output_type": "stream",
     "text": [
      "france3   france3grandest   dLUQ0xpq8g4\n",
      "france3   france3normandie   y16Qgap0wW8\n",
      "france3   france3nouvelle-aquitaine   TFeG6-UKO9U\n",
      "tf1   tf1info   ojIs2lHKYdA\n",
      "france3   france3normandie   HXbStCizF74\n",
      "france3   france3bourgogne-franche-comté   A1jj7uXSxs4\n",
      "france3   france3occitanie   IRFs_Ixy9ZM\n",
      "france3   france3hauts-de-france   hoFV4QDkWa8\n",
      "france3   france3toutesrégions   iC-3Wo43Bro\n",
      "france3   france3nouvelle-aquitaine   tGj_1evPWN0\n",
      "arte   arte   r9wRwvEHFsA\n",
      "france3   france3occitanie   yjjRv-nEdHE\n",
      "france3   france3grandest   HflJXjrYBCE\n",
      "france3   france3corseviastella   b7nV4URjwDk\n",
      "arte   arte   q_nt-DDvq4o\n",
      "france3   france3occitanie   oxjQ2xSDRU8\n",
      "france2   france24   jsFCmSWQmUs\n",
      "france2   france24   fRyK_Fky8q4\n",
      "tf1   tf1info   g11uU0ezC7s\n",
      "france3   france3provence-alpes-côted'azur   ul0lmV0rQvM\n",
      "arte   météoàlacarte-francetélévisions   96N7p51oO4c\n",
      "france2   france24   rX8xnkiAAOA\n",
      "france3   france3nouvelle-aquitaine   MnZwX830SMQ\n",
      "france3   france3bourgogne-franche-comté   yMD5K1sibMo\n",
      "tf1   tf1info   6w3hqPHPogA\n",
      "france3   france3provence-alpes-côted'azur   zZ0btQ-aZv8\n",
      "france3   france3nouvelle-aquitaine   NYCCwOdqPDA\n",
      "france3   france3hauts-de-france   WevIdMyvFUk\n",
      "france3   france3nouvelle-aquitaine   epHgTx5XZTU\n",
      "france3   france3centre-valdeloire   lokfk0lj9Rk\n",
      "france2   france24   U5CQvKiLoCo\n",
      "bfmtv   bfmtv   uVmlqnrKKoA\n",
      "arte   arte   NRZa1ciorPg\n",
      "arte   arte   LsCnUBSPg6M\n",
      "arte   arte   jtfRpgVpuKU\n",
      "arte   arte   iiZFEGe0BmI\n",
      "france3   france3nouvelle-aquitaine   Jjg9Pz_mZ1w\n",
      "arte   arte   boNqBNbVT7I\n",
      "france3   france3normandie   q2Th8GIx2zI\n",
      "arte   départementdelaseine-maritime   mePq4SsM1dw\n",
      "france3   france3paysdelaloire   j0vCFOUMhSk\n",
      "france3   france3nouvelle-aquitaine   IDSnX_flvs8\n",
      "arte   partenaireslikeleparisien   n6oZoAGd-Hg\n",
      "arte   artefamilyfr   JuN34OyMKEo\n",
      "arte   arte   bVQRUPP_FR8\n",
      "arte   arte   OzgkisPNHz8\n",
      "cnews   cnews   B43uPl2LP2U\n",
      "arte   météoàlacarte-francetélévisions   HfNYyNNlBfc\n",
      "arte   arte   DIDiDXLBdXM\n",
      "france3   france3nouvelle-aquitaine   -TttfNfM55o\n",
      "arte   météoàlacarte-francetélévisions   jBCVqs3ubkY\n",
      "arte   arte   OhQccUoW9j4\n",
      "tf1   tf1info   KGbeiCal8hI\n",
      "france3   france3nouvelle-aquitaine   kggG5ewMsko\n",
      "france3   france3bourgogne-franche-comté   y3VnajeE0DY\n",
      "france3   france3auvergne-rhône-alpes   Fd89ir0heWQ\n",
      "france3   france3bourgogne-franche-comté   nG7ZrFRv_H4\n",
      "france3   france3nouvelle-aquitaine   XCIHepMpkVk\n",
      "france3   france3normandie   fqimFtLhDQk\n",
      "arte   météoàlacarte-francetélévisions   Bw1N_z3sLXk\n",
      "france3   france3bourgogne-franche-comté   JyTBmA2eaEU\n",
      "france3   france3auvergne-rhône-alpes   _Qh2R-G5IFI\n",
      "france2   france24   Y7EjXcmBKOw\n",
      "france3   france3toutesrégions   so_T-oBOzlA\n",
      "france3   france3nouvelle-aquitaine   iG1liDz0Eb8\n",
      "france3   france3nouvelle-aquitaine   ru2h6Ocrxto\n",
      "france3   france3rhône-alpes   YwooT05uqPY\n",
      "france3   france3occitanie   WtoGnxeeO1M\n",
      "france3   france3provence-alpes-côted'azur   gQVLcfspq8I\n",
      "arte   météoàlacarte-francetélévisions   VI_3r96W2KA\n",
      "france3   france3centre-valdeloire   bwDWWEFGSzA\n",
      "arte   météoàlacarte-francetélévisions   FX5-FMprKSw\n",
      "bfmtv   bfmtv   0k5C68M7yn8\n",
      "france3   france3bourgogne-franche-comté   0pwBaoyL3Zk\n",
      "france3   france3grandest   Xnfwy1_ltDY\n",
      "france3   france3nouvelle-aquitaine   ZlFiuWbI1t0\n",
      "france2   france24   On-7fE0twcM\n",
      "arte   arteneso®-human&beeconnectadventure   iVY9-iwqZ74\n",
      "lci   cimentscalcia   PSzUjOsD4_4\n",
      "france3   france3grandest   zgPVQdj4gjI\n",
      "france2   france24   fo1Eadj23II\n",
      "france3   france3occitanie   _zpW8Wk0CI0\n",
      "france3   france3occitanie   YWvw0l3XwuM\n",
      "france2   france24   W4mpcpBDcho\n",
      "france3   france3grandest   2kAXZ9qdfs4\n",
      "france3   france3normandie   iWpgqHdOWxg\n",
      "france3   france3centre-valdeloire   4KbD4HBd5ek\n",
      "france3   france3grandest   4WibtxSO9No\n",
      "tf1   tf1info   -3o4WHJJAvI\n",
      "france3   france3centre-valdeloire   C-9ZUu6Uxts\n",
      "france3   france3normandie   m7jJCPsyPio\n",
      "arte   météoàlacarte-francetélévisions   uI-Msn3Yb_k\n",
      "arte   météoàlacarte-francetélévisions   YQf5nyX30oM\n",
      "france3   france3grandest   6yBm6YAkjBM\n",
      "france3   france3grandest   fvRAAyRL4cc\n",
      "arte   arte   5eIqnUiyk0A\n",
      "france3   france3grandest   J30YO1cl8eI\n",
      "france3   france3provence-alpes-côted'azur   GikHBTnQ2iM\n",
      "france3   france3provence-alpes-côted'azur   aJK8auRUCJU\n",
      "lci   quentindoulcier   rstU6WAGJ2M\n",
      "france2   france24   KHbEJYgh_5M\n",
      "france3   france3bourgogne-franche-comté   Q6XIC6AIND0\n",
      "arte   arte   qd0oKe7Gm9I\n",
      "arte   arte   U7UqQMIvUs0\n",
      "arte   arte   N5YLKDG9OV4\n",
      "france3   france3nouvelle-aquitaine   b-fMPa75qFk\n",
      "france3   france3normandie   OWRaTRwdXK0\n",
      "france3   france3corseviastella   Cly3Qn5HlWc\n",
      "arte   météoàlacarte-francetélévisions   pSIgD3ghEl4\n",
      "france3   france3nouvelle-aquitaine   cVYPG3F28oY\n",
      "france3   france3occitanie   ShXr1_yMtaU\n",
      "france3   france3bretagne   bxD5ThRqak8\n",
      "france3   france3occitanie   wl_KV_Y1xD4\n",
      "bfmtv   bfmtv   eD4ACPV1gKY\n",
      "france3   france3grandest   V0uuR91pnRA\n",
      "france3   france3auvergne-rhône-alpes   oMRt_4WKx0k\n",
      "france3   france3nouvelle-aquitaine   yoeC9nQBllk\n",
      "arte   météoàlacarte-francetélévisions   9UmVyZepRzQ\n",
      "france3   france3bourgogne-franche-comté   EgrhrmLA344\n",
      "france3   france3normandie   mzVpp3pyW34\n",
      "france3   france3bretagne   sYENn3_cJG0\n",
      "bfmtv   bfmtv   MttqtRTSZBk\n",
      "france3   france3grandest   h9LoGMBJpJc\n",
      "france3   france3nouvelle-aquitaine   RKoAxk31-gs\n",
      "france3   france3centre-valdeloire   H8FU2zuKFjU\n",
      "france3   france3bretagne   hI6OhrO07UE\n",
      "france2   france24   dfc53eNKypQ\n",
      "france3   france3auvergne-rhône-alpes   JALfcT4yQUA\n",
      "tf1   tf1info   WRMfc8ITIRw\n",
      "france3   france3nouvelle-aquitaine   6C8AVG6ucis\n",
      "france3   france3bretagne   st31YJF-95w\n",
      "france3   france3occitanie   bDfC_BkSgCI\n",
      "france3   france3bourgogne-franche-comté   THreXX8iSbc\n",
      "france3   france3hauts-de-france   3TtMMtmFO84\n",
      "france3   france3paysdelaloire   BKWTI5F78Q0\n",
      "france3   france3provence-alpes-côted'azur   sZara0UrqkQ\n",
      "france3   france3centre-valdeloire   cThjmXSGVEk\n",
      "france3   france3grandest   dzCTBPXoVR4\n",
      "arte   arte   4cr2Lbw-2QY\n",
      "france3   france3bourgogne-franche-comté   zAerYSOHS58\n",
      "france3   france3occitanie   kph9uMmO8uw\n",
      "france3   france3occitanie   0tqwQGre-z0\n",
      "france3   france3bourgogne-franche-comté   bPrYPfPtTyk\n",
      "arte   départementdesbouches-du-rhône   DlpnHR3JtsY\n",
      "france3   france3centre-valdeloire   xKC0SaPcrUE\n",
      "france3   france3provence-alpes-côted'azur   8fCi5by05QE\n",
      "france3   france3provence-alpes-côted'azur   -ZmLSD0SeNc\n",
      "france3   france3nouvelle-aquitaine   tKVvobwCk_0\n",
      "france3   france3occitanie   D1pmYUaAv30\n",
      "france3   france3bretagne   M--F8giS0e4\n",
      "arte   départementduval-de-marne   lEKy-0jH2qo\n",
      "cnews   cnews   uqV7YLtAXdQ\n",
      "france3   france3nouvelle-aquitaine   D2B-okbBV4M\n",
      "france3   france3bourgogne-franche-comté   SR69-AjmT-w\n",
      "france3   france3hauts-de-france   AHmuF3MIHKw\n",
      "france3   france3grandest   K7-J0fzo0mo\n",
      "tf1   tf1info   X2qKTVafXWg\n",
      "france3   france3nouvelle-aquitaine   J7zHSvoWeNY\n",
      "arte   arte   -Ekdwa2AirU\n",
      "france3   france3grandest   9Qosbq6osPQ\n",
      "france3   france3bretagne   0B1USKNrkRw\n",
      "cnews   cnews   6rnRY7nZEn0\n",
      "bfmtv   bfmtv   4g0Y_9-l5DE\n",
      "france3   france3grandest   pUBGJIxPlv0\n",
      "france3   france3nouvelle-aquitaine   AR0TRgehVBw\n",
      "france3   france3nouvelle-aquitaine   Y6GPS0UnYl4\n",
      "france3   france3centre-valdeloire   i83BzTjUaiM\n",
      "bfmtv   bfmtv   2uywKYWAhkI\n",
      "france3   france3normandie   AljFBeoJ8Ec\n",
      "cnews   cnews   G0dvnk8hzVs\n",
      "france3   france3grandest   eL2KHb95TKg\n",
      "france3   france3occitanie   fTCeT1rtlbo\n",
      "france3   france3nouvelle-aquitaine   tHxYXLXOc0Y\n",
      "france3   france3normandie   dWwcCrU4kok\n",
      "arte   météoàlacarte-francetélévisions   4-utGEThJFk\n",
      "france3   france3provence-alpes-côted'azur   EvyrT_wR9pw\n",
      "france3   france3occitanie   nNhi1ivUpKA\n",
      "france3   france3occitanie   ktxaES8RJtw\n",
      "arte   météoàlacarte-francetélévisions   jwAH9WKyono\n",
      "france3   france3centre-valdeloire   Myp-BV7gZHk\n",
      "bfmtv   bfmtv   nKs8WziCq3s\n",
      "bfmtv   bfmtv   RHyI-JPOueo\n",
      "france3   france3occitanie   EAISR7uf14o\n",
      "france3   france3grandest   jrYo3N--AlY\n",
      "france3   france3provence-alpes-côted'azur   sqhd5TSfRmU\n",
      "france3   france3provence-alpes-côted'azur   JIbDuYdiRss\n",
      "france3   france3provence-alpes-côted'azur   PQtfjHA8f1U\n",
      "france3   france3provence-alpes-côted'azur   L-9EUMeb91w\n",
      "france3   france3normandie   HFCEEPmiRNg\n",
      "france3   france3nouvelle-aquitaine   rWeYZv-Xx_Q\n",
      "cnews   cnews   zYQYqUaPDhQ\n",
      "france3   france3bourgogne-franche-comté   vjPDQw7bFos\n",
      "france3   france3bretagne   dusg-mIw_YA\n",
      "france3   france3bretagne   PeVx8G7AFmk\n",
      "lci   lci   G3ZHCpOpXKc\n",
      "france3   france3grandest   XUniIIzZ5BI\n",
      "arte   arte   z2O37y90vMI\n",
      "france3   france3nouvelle-aquitaine   s-pT6kQ562Q\n",
      "france3   france3nouvelle-aquitaine   KruLweAFbqs\n",
      "arte   départementlandes   5s5uq8QXBEc\n",
      "rmc   rmcbfmplay   VHr6lF6D4I8\n",
      "france3   france3auvergne-rhône-alpes   rUbPwRX2E8I\n",
      "france3   france3grandest   0DfroeEA9dA\n",
      "france3   france3grandest   TrW5hKwkPg0\n",
      "france3   france3provence-alpes-côted'azur   V3Jpmn5gRJ4\n",
      "france3   france3nouvelle-aquitaine   tesYTel8NsI\n",
      "france3   france3bourgogne-franche-comté   0sLCFMaBL2s\n",
      "france3   france3nouvelle-aquitaine   G9GclCdol80\n",
      "france3   france3nouvelle-aquitaine   t7GuLzTQxrg\n",
      "france3   france3nouvelle-aquitaine   y1dDD9sFgHg\n",
      "france3   france3nouvelle-aquitaine   RXwkA-ixobY\n",
      "france3   france3nouvelle-aquitaine   xakoBUoTdCQ\n",
      "france3   france3occitanie   1wlAkQxwrWI\n",
      "france3   france3occitanie   Uaex1oLoh4Y\n",
      "france3   france3occitanie   wHgMsZWSrEg\n",
      "canal+   canal+   BR5e5VMzoy8\n",
      "france3   france3centre-valdeloire   mPe5Wc8FxrY\n",
      "france3   france3grandest   jrkD8Kx0wJA\n"
     ]
    }
   ],
   "source": [
    "chainesTVCounter = Counter()\n",
    "videosChainesTV = []\n",
    "for video in videosF1:\n",
    "    channelName = getChannelName(video['id_chaine'])\n",
    "    for name in chainesTv:\n",
    "        if name in channelName:  \n",
    "            print(name,' ',channelName,' ',video['id_video'])\n",
    "            chainesTVCounter[name]+=1\n",
    "            videosChainesTV.append(video['id_video'])"
   ]
  },
  {
   "cell_type": "code",
   "execution_count": 121,
   "id": "0897215d",
   "metadata": {},
   "outputs": [
    {
     "data": {
      "text/plain": [
       "Counter({'france3': 146,\n",
       "         'arte': 37,\n",
       "         'france2': 10,\n",
       "         'bfmtv': 8,\n",
       "         'tf1': 7,\n",
       "         'cnews': 5,\n",
       "         'lci': 3,\n",
       "         'rmc': 1,\n",
       "         'canal+': 1})"
      ]
     },
     "execution_count": 121,
     "metadata": {},
     "output_type": "execute_result"
    }
   ],
   "source": [
    "chainesTVCounter"
   ]
  },
  {
   "cell_type": "code",
   "execution_count": 124,
   "id": "b34a2f35",
   "metadata": {},
   "outputs": [
    {
     "data": {
      "image/png": "[encoded data removed]",
      "text/plain": [
       "<Figure size 1000x600 with 1 Axes>"
      ]
     },
     "metadata": {},
     "output_type": "display_data"
    }
   ],
   "source": [
    "import matplotlib.pyplot as plt\n",
    "\n",
    "labels = list(chainesTVCounter.keys())\n",
    "sizes = list(chainesTVCounter.values())\n",
    "\n",
    "plt.figure(figsize=(10, 6))\n",
    "bars = plt.bar(labels, sizes, color='skyblue')\n",
    "\n",
    "plt.title(\"Répartition des vidéos des chaînes TV\", fontsize=14)\n",
    "plt.xlabel(\"Chaînes TV\", fontsize=12)\n",
    "plt.ylabel(\"Nombre de vidéos\", fontsize=12)\n",
    "plt.xticks(rotation=45, ha='right')\n",
    "\n",
    "total_videos_tv = sum(sizes)\n",
    "plt.text(len(labels) - 2, max(sizes) * 0.8, f\"Total : {total_videos_tv} vidéos\", fontsize=12, ha='center')\n",
    "plt.text(len(labels) - 2, max(sizes) * 0.74, \"4.62% d'ensemble des vidéos\", fontsize=12, ha='center')\n",
    "\n",
    "# Ajouter les nombres au-dessus des barres et les rendre en gras\n",
    "for bar in bars:\n",
    "    yval = bar.get_height()\n",
    "    plt.text(bar.get_x() + bar.get_width() / 2, yval + 1, f'{int(yval)}', ha='center', va='bottom', fontsize=12)\n",
    "\n",
    "plt.tight_layout()\n",
    "plt.show()\n"
   ]
  },
  {
   "cell_type": "code",
   "execution_count": 123,
   "id": "7e073204",
   "metadata": {},
   "outputs": [
    {
     "data": {
      "text/plain": [
       "4.616687844133842"
      ]
     },
     "execution_count": 123,
     "metadata": {},
     "output_type": "execute_result"
    }
   ],
   "source": [
    "(218/len(videosF1))*100"
   ]
  },
  {
   "cell_type": "markdown",
   "id": "d545f6db",
   "metadata": {},
   "source": [
    "### Creer videosF2.json"
   ]
  },
  {
   "cell_type": "code",
   "execution_count": 135,
   "id": "ee1ccc2d",
   "metadata": {},
   "outputs": [
    {
     "data": {
      "text/plain": [
       "['dLUQ0xpq8g4',\n",
       " 'y16Qgap0wW8',\n",
       " 'TFeG6-UKO9U',\n",
       " 'ojIs2lHKYdA',\n",
       " 'HXbStCizF74',\n",
       " 'A1jj7uXSxs4',\n",
       " 'IRFs_Ixy9ZM',\n",
       " 'hoFV4QDkWa8',\n",
       " 'iC-3Wo43Bro',\n",
       " 'tGj_1evPWN0',\n",
       " 'r9wRwvEHFsA',\n",
       " 'yjjRv-nEdHE',\n",
       " 'HflJXjrYBCE',\n",
       " 'b7nV4URjwDk',\n",
       " 'q_nt-DDvq4o',\n",
       " 'oxjQ2xSDRU8',\n",
       " 'jsFCmSWQmUs',\n",
       " 'fRyK_Fky8q4',\n",
       " 'g11uU0ezC7s',\n",
       " 'ul0lmV0rQvM',\n",
       " '96N7p51oO4c',\n",
       " 'rX8xnkiAAOA',\n",
       " 'MnZwX830SMQ',\n",
       " 'yMD5K1sibMo',\n",
       " '6w3hqPHPogA',\n",
       " 'zZ0btQ-aZv8',\n",
       " 'NYCCwOdqPDA',\n",
       " 'WevIdMyvFUk',\n",
       " 'epHgTx5XZTU',\n",
       " 'lokfk0lj9Rk',\n",
       " 'U5CQvKiLoCo',\n",
       " 'uVmlqnrKKoA',\n",
       " 'NRZa1ciorPg',\n",
       " 'LsCnUBSPg6M',\n",
       " 'jtfRpgVpuKU',\n",
       " 'iiZFEGe0BmI',\n",
       " 'Jjg9Pz_mZ1w',\n",
       " 'boNqBNbVT7I',\n",
       " 'q2Th8GIx2zI',\n",
       " 'mePq4SsM1dw',\n",
       " 'j0vCFOUMhSk',\n",
       " 'IDSnX_flvs8',\n",
       " 'n6oZoAGd-Hg',\n",
       " 'JuN34OyMKEo',\n",
       " 'bVQRUPP_FR8',\n",
       " 'OzgkisPNHz8',\n",
       " 'B43uPl2LP2U',\n",
       " 'HfNYyNNlBfc',\n",
       " 'DIDiDXLBdXM',\n",
       " '-TttfNfM55o',\n",
       " 'jBCVqs3ubkY',\n",
       " 'OhQccUoW9j4',\n",
       " 'KGbeiCal8hI',\n",
       " 'kggG5ewMsko',\n",
       " 'y3VnajeE0DY',\n",
       " 'Fd89ir0heWQ',\n",
       " 'nG7ZrFRv_H4',\n",
       " 'XCIHepMpkVk',\n",
       " 'fqimFtLhDQk',\n",
       " 'Bw1N_z3sLXk',\n",
       " 'JyTBmA2eaEU',\n",
       " '_Qh2R-G5IFI',\n",
       " 'Y7EjXcmBKOw',\n",
       " 'so_T-oBOzlA',\n",
       " 'iG1liDz0Eb8',\n",
       " 'ru2h6Ocrxto',\n",
       " 'YwooT05uqPY',\n",
       " 'WtoGnxeeO1M',\n",
       " 'gQVLcfspq8I',\n",
       " 'VI_3r96W2KA',\n",
       " 'bwDWWEFGSzA',\n",
       " 'FX5-FMprKSw',\n",
       " '0k5C68M7yn8',\n",
       " '0pwBaoyL3Zk',\n",
       " 'Xnfwy1_ltDY',\n",
       " 'ZlFiuWbI1t0',\n",
       " 'On-7fE0twcM',\n",
       " 'iVY9-iwqZ74',\n",
       " 'PSzUjOsD4_4',\n",
       " 'zgPVQdj4gjI',\n",
       " 'fo1Eadj23II',\n",
       " '_zpW8Wk0CI0',\n",
       " 'YWvw0l3XwuM',\n",
       " 'W4mpcpBDcho',\n",
       " '2kAXZ9qdfs4',\n",
       " 'iWpgqHdOWxg',\n",
       " '4KbD4HBd5ek',\n",
       " '4WibtxSO9No',\n",
       " '-3o4WHJJAvI',\n",
       " 'C-9ZUu6Uxts',\n",
       " 'm7jJCPsyPio',\n",
       " 'uI-Msn3Yb_k',\n",
       " 'YQf5nyX30oM',\n",
       " '6yBm6YAkjBM',\n",
       " 'fvRAAyRL4cc',\n",
       " '5eIqnUiyk0A',\n",
       " 'J30YO1cl8eI',\n",
       " 'GikHBTnQ2iM',\n",
       " 'aJK8auRUCJU',\n",
       " 'rstU6WAGJ2M',\n",
       " 'KHbEJYgh_5M',\n",
       " 'Q6XIC6AIND0',\n",
       " 'qd0oKe7Gm9I',\n",
       " 'U7UqQMIvUs0',\n",
       " 'N5YLKDG9OV4',\n",
       " 'b-fMPa75qFk',\n",
       " 'OWRaTRwdXK0',\n",
       " 'Cly3Qn5HlWc',\n",
       " 'pSIgD3ghEl4',\n",
       " 'cVYPG3F28oY',\n",
       " 'ShXr1_yMtaU',\n",
       " 'bxD5ThRqak8',\n",
       " 'wl_KV_Y1xD4',\n",
       " 'eD4ACPV1gKY',\n",
       " 'V0uuR91pnRA',\n",
       " 'oMRt_4WKx0k',\n",
       " 'yoeC9nQBllk',\n",
       " '9UmVyZepRzQ',\n",
       " 'EgrhrmLA344',\n",
       " 'mzVpp3pyW34',\n",
       " 'sYENn3_cJG0',\n",
       " 'MttqtRTSZBk',\n",
       " 'h9LoGMBJpJc',\n",
       " 'RKoAxk31-gs',\n",
       " 'H8FU2zuKFjU',\n",
       " 'hI6OhrO07UE',\n",
       " 'dfc53eNKypQ',\n",
       " 'JALfcT4yQUA',\n",
       " 'WRMfc8ITIRw',\n",
       " '6C8AVG6ucis',\n",
       " 'st31YJF-95w',\n",
       " 'bDfC_BkSgCI',\n",
       " 'THreXX8iSbc',\n",
       " '3TtMMtmFO84',\n",
       " 'BKWTI5F78Q0',\n",
       " 'sZara0UrqkQ',\n",
       " 'cThjmXSGVEk',\n",
       " 'dzCTBPXoVR4',\n",
       " '4cr2Lbw-2QY',\n",
       " 'zAerYSOHS58',\n",
       " 'kph9uMmO8uw',\n",
       " '0tqwQGre-z0',\n",
       " 'bPrYPfPtTyk',\n",
       " 'DlpnHR3JtsY',\n",
       " 'xKC0SaPcrUE',\n",
       " '8fCi5by05QE',\n",
       " '-ZmLSD0SeNc',\n",
       " 'tKVvobwCk_0',\n",
       " 'D1pmYUaAv30',\n",
       " 'M--F8giS0e4',\n",
       " 'lEKy-0jH2qo',\n",
       " 'uqV7YLtAXdQ',\n",
       " 'D2B-okbBV4M',\n",
       " 'SR69-AjmT-w',\n",
       " 'AHmuF3MIHKw',\n",
       " 'K7-J0fzo0mo',\n",
       " 'X2qKTVafXWg',\n",
       " 'J7zHSvoWeNY',\n",
       " '-Ekdwa2AirU',\n",
       " '9Qosbq6osPQ',\n",
       " '0B1USKNrkRw',\n",
       " '6rnRY7nZEn0',\n",
       " '4g0Y_9-l5DE',\n",
       " 'pUBGJIxPlv0',\n",
       " 'AR0TRgehVBw',\n",
       " 'Y6GPS0UnYl4',\n",
       " 'i83BzTjUaiM',\n",
       " '2uywKYWAhkI',\n",
       " 'AljFBeoJ8Ec',\n",
       " 'G0dvnk8hzVs',\n",
       " 'eL2KHb95TKg',\n",
       " 'fTCeT1rtlbo',\n",
       " 'tHxYXLXOc0Y',\n",
       " 'dWwcCrU4kok',\n",
       " '4-utGEThJFk',\n",
       " 'EvyrT_wR9pw',\n",
       " 'nNhi1ivUpKA',\n",
       " 'ktxaES8RJtw',\n",
       " 'jwAH9WKyono',\n",
       " 'Myp-BV7gZHk',\n",
       " 'nKs8WziCq3s',\n",
       " 'RHyI-JPOueo',\n",
       " 'EAISR7uf14o',\n",
       " 'jrYo3N--AlY',\n",
       " 'sqhd5TSfRmU',\n",
       " 'JIbDuYdiRss',\n",
       " 'PQtfjHA8f1U',\n",
       " 'L-9EUMeb91w',\n",
       " 'HFCEEPmiRNg',\n",
       " 'rWeYZv-Xx_Q',\n",
       " 'zYQYqUaPDhQ',\n",
       " 'vjPDQw7bFos',\n",
       " 'dusg-mIw_YA',\n",
       " 'PeVx8G7AFmk',\n",
       " 'G3ZHCpOpXKc',\n",
       " 'XUniIIzZ5BI',\n",
       " 'z2O37y90vMI',\n",
       " 's-pT6kQ562Q',\n",
       " 'KruLweAFbqs',\n",
       " '5s5uq8QXBEc',\n",
       " 'VHr6lF6D4I8',\n",
       " 'rUbPwRX2E8I',\n",
       " '0DfroeEA9dA',\n",
       " 'TrW5hKwkPg0',\n",
       " 'V3Jpmn5gRJ4',\n",
       " 'tesYTel8NsI',\n",
       " '0sLCFMaBL2s',\n",
       " 'G9GclCdol80',\n",
       " 't7GuLzTQxrg',\n",
       " 'y1dDD9sFgHg',\n",
       " 'RXwkA-ixobY',\n",
       " 'xakoBUoTdCQ',\n",
       " '1wlAkQxwrWI',\n",
       " 'Uaex1oLoh4Y',\n",
       " 'wHgMsZWSrEg',\n",
       " 'BR5e5VMzoy8',\n",
       " 'mPe5Wc8FxrY',\n",
       " 'jrkD8Kx0wJA']"
      ]
     },
     "execution_count": 135,
     "metadata": {},
     "output_type": "execute_result"
    }
   ],
   "source": [
    "videosChainesTV"
   ]
  },
  {
   "cell_type": "code",
   "execution_count": 128,
   "id": "10a140c3",
   "metadata": {},
   "outputs": [
    {
     "data": {
      "text/plain": [
       "218"
      ]
     },
     "execution_count": 128,
     "metadata": {},
     "output_type": "execute_result"
    }
   ],
   "source": [
    "len(videosChainesTV)"
   ]
  },
  {
   "cell_type": "code",
   "execution_count": 133,
   "id": "b291bd8b",
   "metadata": {},
   "outputs": [
    {
     "name": "stdout",
     "output_type": "stream",
     "text": [
      "\u001b[1m\u001b[32m\n",
      " json saved\u001b[0m\n"
     ]
    }
   ],
   "source": [
    "videosF2 = []\n",
    "for video in videosF1:\n",
    "    if video['id_video'] not in videosChainesTV:\n",
    "        videosF2.append(video)\n",
    "saveJson(\"../jsons/videosF2.json\",videosF2)"
   ]
  },
  {
   "cell_type": "markdown",
   "id": "f8f067c2",
   "metadata": {},
   "source": [
    "verification"
   ]
  },
  {
   "cell_type": "code",
   "execution_count": 134,
   "id": "59d7bd5d",
   "metadata": {},
   "outputs": [
    {
     "data": {
      "text/plain": [
       "218"
      ]
     },
     "execution_count": 134,
     "metadata": {},
     "output_type": "execute_result"
    }
   ],
   "source": [
    "len(videosF1)-len(videosF2)"
   ]
  },
  {
   "cell_type": "code",
   "execution_count": 136,
   "id": "5a279aed",
   "metadata": {},
   "outputs": [
    {
     "data": {
      "text/plain": [
       "4722"
      ]
     },
     "execution_count": 136,
     "metadata": {},
     "output_type": "execute_result"
    }
   ],
   "source": [
    "len(videosF1)"
   ]
  },
  {
   "cell_type": "markdown",
   "id": "208c175f",
   "metadata": {},
   "source": [
    "## Filtering 3"
   ]
  },
  {
   "cell_type": "code",
   "execution_count": 5,
   "id": "2cbae660",
   "metadata": {},
   "outputs": [
    {
     "data": {
      "application/vnd.jupyter.widget-view+json": {
       "model_id": "56dcfea961cf4484a5c3baae8bb5a17a",
       "version_major": 2,
       "version_minor": 0
      },
      "text/plain": [
       "modules.json:   0%|          | 0.00/229 [00:00<?, ?B/s]"
      ]
     },
     "metadata": {},
     "output_type": "display_data"
    },
    {
     "data": {
      "application/vnd.jupyter.widget-view+json": {
       "model_id": "abb0f5640cdc4c4aa4f85557c29ce3ae",
       "version_major": 2,
       "version_minor": 0
      },
      "text/plain": [
       "config_sentence_transformers.json:   0%|          | 0.00/123 [00:00<?, ?B/s]"
      ]
     },
     "metadata": {},
     "output_type": "display_data"
    },
    {
     "data": {
      "application/vnd.jupyter.widget-view+json": {
       "model_id": "890507e9d34d45cc92b343f52b8e943d",
       "version_major": 2,
       "version_minor": 0
      },
      "text/plain": [
       "README.md:   0%|          | 0.00/4.27k [00:00<?, ?B/s]"
      ]
     },
     "metadata": {},
     "output_type": "display_data"
    },
    {
     "data": {
      "application/vnd.jupyter.widget-view+json": {
       "model_id": "37083a2e58d4422e981cf345c5e2a5f3",
       "version_major": 2,
       "version_minor": 0
      },
      "text/plain": [
       "sentence_bert_config.json:   0%|          | 0.00/53.0 [00:00<?, ?B/s]"
      ]
     },
     "metadata": {},
     "output_type": "display_data"
    },
    {
     "data": {
      "application/vnd.jupyter.widget-view+json": {
       "model_id": "0ea59fdc101a4e288701d7696cde05af",
       "version_major": 2,
       "version_minor": 0
      },
      "text/plain": [
       "config.json:   0%|          | 0.00/727 [00:00<?, ?B/s]"
      ]
     },
     "metadata": {},
     "output_type": "display_data"
    },
    {
     "data": {
      "application/vnd.jupyter.widget-view+json": {
       "model_id": "82711d251fc947eeb8653ea64de4258d",
       "version_major": 2,
       "version_minor": 0
      },
      "text/plain": [
       "model.safetensors:   0%|          | 0.00/443M [00:00<?, ?B/s]"
      ]
     },
     "metadata": {},
     "output_type": "display_data"
    },
    {
     "data": {
      "application/vnd.jupyter.widget-view+json": {
       "model_id": "4e500e463f1a470abd3c6729bea7688b",
       "version_major": 2,
       "version_minor": 0
      },
      "text/plain": [
       "tokenizer_config.json:   0%|          | 0.00/463 [00:00<?, ?B/s]"
      ]
     },
     "metadata": {},
     "output_type": "display_data"
    },
    {
     "data": {
      "application/vnd.jupyter.widget-view+json": {
       "model_id": "553e5eb6cc1f433c8332e181e7bbcb62",
       "version_major": 2,
       "version_minor": 0
      },
      "text/plain": [
       "sentencepiece.bpe.model:   0%|          | 0.00/811k [00:00<?, ?B/s]"
      ]
     },
     "metadata": {},
     "output_type": "display_data"
    },
    {
     "data": {
      "application/vnd.jupyter.widget-view+json": {
       "model_id": "5922d31c78fe4fde880fac4f38e0ec95",
       "version_major": 2,
       "version_minor": 0
      },
      "text/plain": [
       "tokenizer.json:   0%|          | 0.00/1.40M [00:00<?, ?B/s]"
      ]
     },
     "metadata": {},
     "output_type": "display_data"
    },
    {
     "data": {
      "application/vnd.jupyter.widget-view+json": {
       "model_id": "375a59cad3414faca08a607c01d81e94",
       "version_major": 2,
       "version_minor": 0
      },
      "text/plain": [
       "special_tokens_map.json:   0%|          | 0.00/298 [00:00<?, ?B/s]"
      ]
     },
     "metadata": {},
     "output_type": "display_data"
    },
    {
     "data": {
      "application/vnd.jupyter.widget-view+json": {
       "model_id": "5b264a4636e649068cf9b7f934ebbdfc",
       "version_major": 2,
       "version_minor": 0
      },
      "text/plain": [
       "config.json:   0%|          | 0.00/190 [00:00<?, ?B/s]"
      ]
     },
     "metadata": {},
     "output_type": "display_data"
    }
   ],
   "source": [
    "from sentence_transformers import SentenceTransformer\n",
    "\n",
    "model = SentenceTransformer(\"dangvantuan/sentence-camembert-base\")"
   ]
  },
  {
   "cell_type": "code",
   "execution_count": 6,
   "id": "f90b6c5c",
   "metadata": {},
   "outputs": [],
   "source": [
    "from sentence_transformers import util\n",
    "\n",
    "def calculateSimilarity(videoMD, youtubequeries):\n",
    "    embedding_video = model.encode([videoMD], convert_to_tensor=True, normalize_embeddings=True)\n",
    "    embeddings_queries = model.encode(youtubequeries, convert_to_tensor=True, normalize_embeddings=True)\n",
    "    scores = util.cos_sim(embedding_video, embeddings_queries)[0]\n",
    "    simScore = scores.mean().item()\n",
    "    return simScore\n"
   ]
  },
  {
   "cell_type": "code",
   "execution_count": 12,
   "id": "3b542f16",
   "metadata": {},
   "outputs": [
    {
     "data": {
      "text/plain": [
       "0.14659950137138367"
      ]
     },
     "execution_count": 12,
     "metadata": {},
     "output_type": "execute_result"
    }
   ],
   "source": [
    "requete = \"Mes livres préférés pour l'AUTONOMIE/AUTOSUFFISANCE : potager, élevage, cuisine, transfo ect)\"\n",
    "\n",
    "documents =  [\n",
    "    \"autosuffisance potager\",\n",
    "    \"autosuffisance poêle à bois bouilleur\",\n",
    "    \"autosuffisance maison torchis\",\n",
    "    \"autosuffisance aquaponie\",\n",
    "    \"autosuffisance filtration naturelle\",\n",
    "    \"autosuffisance fumage\",\n",
    "    \"autosuffisance legumes\",\n",
    "    \"autosuffisance agriculture biologique\",\n",
    "    \"autosuffisance arbres fruitiers\",\n",
    "    \"autosuffisance mangeoire automatique\",\n",
    "    \"autosuffisance sol vivant\",\n",
    "    \"autosuffisance compost\",\n",
    "    \"autosuffisance décomposeurs\",\n",
    "    \"autosuffisance fertilisant\",\n",
    "    \"autosuffisance rotation des cultures\",\n",
    "    \"autosuffisance salades\",\n",
    "    \"autosuffisance plantation\",\n",
    "    \"autosuffisance légumineuses\",\n",
    "    \"autosuffisance microferme\",\n",
    "    \"autosuffisance cultures sous les arbres\",\n",
    "    \"autosuffisance pollinisation\",\n",
    "    \"autosuffisance plantes\",\n",
    "    \"autosuffisance tuteurage\",\n",
    "    \"autosuffisance germination\",\n",
    "    \"autosuffisance maison en ossature bois\",\n",
    "    \"autosuffisance fruitier\",\n",
    "    \"autosuffisance fromage\",\n",
    "    \"autosuffisance foin\",\n",
    "    \"autosuffisance sol\",\n",
    "    \"autosuffisance haricots\",\n",
    "    \"autosuffisance eau\",\n",
    "    \"autosuffisance pomme de terre\",\n",
    "    \"autosuffisance itinéraire technique\",\n",
    "    \"autosuffisance sécheresse\",\n",
    "    \"autosuffisance cendre\",\n",
    "    \"autosuffisance changement climatique\",\n",
    "    \"autosuffisance bio\",\n",
    "    \"autosuffisance lombricompost\",\n",
    "    \"autosuffisance courgettes\",\n",
    "    \"autosuffisance azote\",\n",
    "    \"autosuffisance marc de café\",\n",
    "    \"autosuffisance cultures précoces\",\n",
    "    \"autosuffisance fertilisation organique\",\n",
    "    \"autosuffisance exploitation agricole\",\n",
    "    \"autosuffisance poullailler\",\n",
    "    \"autosuffisance cultivate\",\n",
    "    \"autosuffisance amendement\",\n",
    "    \"autosuffisance fientes de poulet\",\n",
    "    \"autosuffisance fumier\",\n",
    "    \"autosuffisance terres\",\n",
    "    \"autosuffisance eau dynamisée\",\n",
    "    \"autosuffisance résilience\",\n",
    "    \"autosuffisance lombricomposteur\",\n",
    "    \"autosuffisance plantes médicinales\",\n",
    "    \"autosuffisance chaux\",\n",
    "    \"autosuffisance choux Daubenton\",\n",
    "    \"autosuffisance vivace\",\n",
    "    \"autosuffisance tracteur\",\n",
    "    \"autosuffisance panneau solaire\",\n",
    "    \"autosuffisance installation solaire\",\n",
    "    \"autosuffisance glycol\",\n",
    "    \"autonomie potager\",\n",
    "    \"autonomie poêle à bois bouilleur\",\n",
    "    \"autonomie maison torchis\",\n",
    "    \"autonomie aquaponie\",\n",
    "    \"autonomie filtration naturelle\",\n",
    "    \"autonomie fumage\",\n",
    "    \"autonomie legumes\",\n",
    "    \"autonomie agriculture biologique\",\n",
    "    \"autonomie arbres fruitiers\",\n",
    "    \"autonomie mangeoire automatique\",\n",
    "    \"autonomie sol vivant\",\n",
    "    \"autonomie compost\",\n",
    "    \"autonomie décomposeurs\",\n",
    "    \"autonomie fertilisant\",\n",
    "    \"autonomie rotation des cultures\",\n",
    "    \"autonomie salades\",\n",
    "    \"autonomie plantation\",\n",
    "    \"autonomie légumineuses\",\n",
    "    \"autonomie microferme\",\n",
    "    \"autonomie cultures sous les arbres\",\n",
    "    \"autonomie pollinisation\",\n",
    "    \"autonomie plantes\",\n",
    "    \"autonomie tuteurage\",\n",
    "    \"autonomie germination\",\n",
    "    \"autonomie maison en ossature bois\",\n",
    "    \"autonomie fruitier\",\n",
    "    \"autonomie fromage\",\n",
    "    \"autonomie foin\",\n",
    "    \"autonomie sol\",\n",
    "    \"autonomie haricots\",\n",
    "    \"autonomie eau\",\n",
    "    \"autonomie pomme de terre\",\n",
    "    \"autonomie itinéraire technique\",\n",
    "    \"autonomie sécheresse\",\n",
    "    \"autonomie cendre\",\n",
    "    \"autonomie changement climatique\",\n",
    "    \"autonomie bio\",\n",
    "    \"autonomie lombricompost\",\n",
    "    \"autonomie courgettes\",\n",
    "    \"autonomie azote\",\n",
    "    \"autonomie marc de café\",\n",
    "    \"autonomie cultures précoces\",\n",
    "    \"autonomie fertilisation organique\",\n",
    "    \"autonomie exploitation agricole\",\n",
    "    \"autonomie poullailler\",\n",
    "    \"autonomie cultivate\",\n",
    "    \"autonomie amendement\",\n",
    "    \"autonomie fientes de poulet\",\n",
    "    \"autonomie fumier\",\n",
    "    \"autonomie terres\",\n",
    "    \"autonomie eau dynamisée\",\n",
    "    \"autonomie résilience\",\n",
    "    \"autonomie lombricomposteur\",\n",
    "    \"autonomie plantes médicinales\",\n",
    "    \"autonomie chaux\",\n",
    "    \"autonomie choux Daubenton\",\n",
    "    \"autonomie vivace\",\n",
    "    \"autonomie tracteur\",\n",
    "    \"autonomie panneau solaire\",\n",
    "    \"autonomie installation solaire\",\n",
    "    \"autonomie glycol\",\n",
    "    \"vie en autarcie potager\",\n",
    "    \"vie en autarcie poêle à bois bouilleur\",\n",
    "    \"vie en autarcie maison torchis\",\n",
    "    \"vie en autarcie aquaponie\",\n",
    "    \"vie en autarcie filtration naturelle\",\n",
    "    \"vie en autarcie fumage\",\n",
    "    \"vie en autarcie legumes\",\n",
    "    \"vie en autarcie agriculture biologique\",\n",
    "    \"vie en autarcie arbres fruitiers\",\n",
    "    \"vie en autarcie mangeoire automatique\",\n",
    "    \"vie en autarcie sol vivant\",\n",
    "    \"vie en autarcie compost\",\n",
    "    \"vie en autarcie décomposeurs\",\n",
    "    \"vie en autarcie fertilisant\",\n",
    "    \"vie en autarcie rotation des cultures\",\n",
    "    \"vie en autarcie salades\",\n",
    "    \"vie en autarcie plantation\",\n",
    "    \"vie en autarcie légumineuses\",\n",
    "    \"vie en autarcie microferme\",\n",
    "    \"vie en autarcie cultures sous les arbres\",\n",
    "    \"vie en autarcie pollinisation\",\n",
    "    \"vie en autarcie plantes\",\n",
    "    \"vie en autarcie tuteurage\",\n",
    "    \"vie en autarcie germination\",\n",
    "    \"vie en autarcie maison en ossature bois\",\n",
    "    \"vie en autarcie fruitier\",\n",
    "    \"vie en autarcie fromage\",\n",
    "    \"vie en autarcie foin\",\n",
    "    \"vie en autarcie sol\",\n",
    "    \"vie en autarcie haricots\",\n",
    "    \"vie en autarcie eau\",\n",
    "    \"vie en autarcie pomme de terre\",\n",
    "    \"vie en autarcie itinéraire technique\",\n",
    "    \"vie en autarcie sécheresse\",\n",
    "    \"vie en autarcie cendre\",\n",
    "    \"vie en autarcie changement climatique\",\n",
    "    \"vie en autarcie bio\",\n",
    "    \"vie en autarcie lombricompost\",\n",
    "    \"vie en autarcie courgettes\",\n",
    "    \"vie en autarcie azote\",\n",
    "    \"vie en autarcie marc de café\",\n",
    "    \"vie en autarcie cultures précoces\",\n",
    "    \"vie en autarcie fertilisation organique\",\n",
    "    \"vie en autarcie exploitation agricole\",\n",
    "    \"vie en autarcie poullailler\",\n",
    "    \"vie en autarcie cultivate\",\n",
    "    \"vie en autarcie amendement\",\n",
    "    \"vie en autarcie fientes de poulet\",\n",
    "    \"vie en autarcie fumier\",\n",
    "    \"vie en autarcie terres\",\n",
    "    \"vie en autarcie eau dynamisée\",\n",
    "    \"vie en autarcie résilience\",\n",
    "    \"vie en autarcie lombricomposteur\",\n",
    "    \"vie en autarcie plantes médicinales\",\n",
    "    \"vie en autarcie chaux\",\n",
    "    \"vie en autarcie choux Daubenton\",\n",
    "    \"vie en autarcie vivace\",\n",
    "    \"vie en autarcie tracteur\",\n",
    "    \"vie en autarcie panneau solaire\",\n",
    "    \"vie en autarcie installation solaire\",\n",
    "    \"vie en autarcie glycol\",\n",
    "    \"habitats autonomes potager\",\n",
    "    \"habitats autonomes poêle à bois bouilleur\",\n",
    "    \"habitats autonomes maison torchis\",\n",
    "    \"habitats autonomes aquaponie\",\n",
    "    \"habitats autonomes filtration naturelle\",\n",
    "    \"habitats autonomes fumage\",\n",
    "    \"habitats autonomes legumes\",\n",
    "    \"habitats autonomes agriculture biologique\",\n",
    "    \"habitats autonomes arbres fruitiers\",\n",
    "    \"habitats autonomes mangeoire automatique\",\n",
    "    \"habitats autonomes sol vivant\",\n",
    "    \"habitats autonomes compost\",\n",
    "    \"habitats autonomes décomposeurs\",\n",
    "    \"habitats autonomes fertilisant\",\n",
    "    \"habitats autonomes rotation des cultures\",\n",
    "    \"habitats autonomes salades\",\n",
    "    \"habitats autonomes plantation\",\n",
    "    \"habitats autonomes légumineuses\",\n",
    "    \"habitats autonomes microferme\",\n",
    "    \"habitats autonomes cultures sous les arbres\",\n",
    "    \"habitats autonomes pollinisation\",\n",
    "    \"habitats autonomes plantes\",\n",
    "    \"habitats autonomes tuteurage\",\n",
    "    \"habitats autonomes germination\",\n",
    "    \"habitats autonomes maison en ossature bois\",\n",
    "    \"habitats autonomes fruitier\",\n",
    "    \"habitats autonomes fromage\",\n",
    "    \"habitats autonomes foin\",\n",
    "    \"habitats autonomes sol\",\n",
    "    \"habitats autonomes haricots\",\n",
    "    \"habitats autonomes eau\",\n",
    "    \"habitats autonomes pomme de terre\",\n",
    "    \"habitats autonomes itinéraire technique\",\n",
    "    \"habitats autonomes sécheresse\",\n",
    "    \"habitats autonomes cendre\",\n",
    "    \"habitats autonomes changement climatique\",\n",
    "    \"habitats autonomes bio\",\n",
    "    \"habitats autonomes lombricompost\",\n",
    "    \"habitats autonomes courgettes\",\n",
    "    \"habitats autonomes azote\",\n",
    "    \"habitats autonomes marc de café\",\n",
    "    \"habitats autonomes cultures précoces\",\n",
    "    \"habitats autonomes fertilisation organique\",\n",
    "    \"habitats autonomes exploitation agricole\",\n",
    "    \"habitats autonomes poullailler\",\n",
    "    \"habitats autonomes cultivate\",\n",
    "    \"habitats autonomes amendement\",\n",
    "    \"habitats autonomes fientes de poulet\",\n",
    "    \"habitats autonomes fumier\",\n",
    "    \"habitats autonomes terres\",\n",
    "    \"habitats autonomes eau dynamisée\",\n",
    "    \"habitats autonomes résilience\",\n",
    "    \"habitats autonomes lombricomposteur\",\n",
    "    \"habitats autonomes plantes médicinales\",\n",
    "    \"habitats autonomes chaux\",\n",
    "    \"habitats autonomes choux Daubenton\",\n",
    "    \"habitats autonomes vivace\",\n",
    "    \"habitats autonomes tracteur\",\n",
    "    \"habitats autonomes panneau solaire\",\n",
    "    \"habitats autonomes installation solaire\",\n",
    "    \"habitats autonomes glycol\",\n",
    "    \"ferme autonome potager\",\n",
    "    \"ferme autonome poêle à bois bouilleur\",\n",
    "    \"ferme autonome maison torchis\",\n",
    "    \"ferme autonome aquaponie\",\n",
    "    \"ferme autonome filtration naturelle\",\n",
    "    \"ferme autonome fumage\",\n",
    "    \"ferme autonome legumes\",\n",
    "    \"ferme autonome agriculture biologique\",\n",
    "    \"ferme autonome arbres fruitiers\",\n",
    "    \"ferme autonome mangeoire automatique\",\n",
    "    \"ferme autonome sol vivant\",\n",
    "    \"ferme autonome compost\",\n",
    "    \"ferme autonome décomposeurs\",\n",
    "    \"ferme autonome fertilisant\",\n",
    "    \"ferme autonome rotation des cultures\",\n",
    "    \"ferme autonome salades\",\n",
    "    \"ferme autonome plantation\",\n",
    "    \"ferme autonome légumineuses\",\n",
    "    \"ferme autonome microferme\",\n",
    "    \"ferme autonome cultures sous les arbres\",\n",
    "    \"ferme autonome pollinisation\",\n",
    "    \"ferme autonome plantes\",\n",
    "    \"ferme autonome tuteurage\",\n",
    "    \"ferme autonome germination\",\n",
    "    \"ferme autonome maison en ossature bois\",\n",
    "    \"ferme autonome fruitier\",\n",
    "    \"ferme autonome fromage\",\n",
    "    \"ferme autonome foin\",\n",
    "    \"ferme autonome sol\",\n",
    "    \"ferme autonome haricots\",\n",
    "    \"ferme autonome eau\",\n",
    "    \"ferme autonome pomme de terre\",\n",
    "    \"ferme autonome itinéraire technique\",\n",
    "    \"ferme autonome sécheresse\",\n",
    "    \"ferme autonome cendre\",\n",
    "    \"ferme autonome changement climatique\",\n",
    "    \"ferme autonome bio\",\n",
    "    \"ferme autonome lombricompost\",\n",
    "    \"ferme autonome courgettes\",\n",
    "    \"ferme autonome azote\",\n",
    "    \"ferme autonome marc de café\",\n",
    "    \"ferme autonome cultures précoces\",\n",
    "    \"ferme autonome fertilisation organique\",\n",
    "    \"ferme autonome exploitation agricole\",\n",
    "    \"ferme autonome poullailler\",\n",
    "    \"ferme autonome cultivate\",\n",
    "    \"ferme autonome amendement\",\n",
    "    \"ferme autonome fientes de poulet\",\n",
    "    \"ferme autonome fumier\",\n",
    "    \"ferme autonome terres\",\n",
    "    \"ferme autonome eau dynamisée\",\n",
    "    \"ferme autonome résilience\",\n",
    "    \"ferme autonome lombricomposteur\",\n",
    "    \"ferme autonome plantes médicinales\",\n",
    "    \"ferme autonome chaux\",\n",
    "    \"ferme autonome choux Daubenton\",\n",
    "    \"ferme autonome vivace\",\n",
    "    \"ferme autonome tracteur\",\n",
    "    \"ferme autonome panneau solaire\",\n",
    "    \"ferme autonome installation solaire\",\n",
    "    \"ferme autonome glycol\",\n",
    "    \"éco-lieu potager\",\n",
    "    \"éco-lieu poêle à bois bouilleur\",\n",
    "    \"éco-lieu maison torchis\",\n",
    "    \"éco-lieu aquaponie\",\n",
    "    \"éco-lieu filtration naturelle\",\n",
    "    \"éco-lieu fumage\",\n",
    "    \"éco-lieu legumes\",\n",
    "    \"éco-lieu agriculture biologique\",\n",
    "    \"éco-lieu arbres fruitiers\",\n",
    "    \"éco-lieu mangeoire automatique\",\n",
    "    \"éco-lieu sol vivant\",\n",
    "    \"éco-lieu compost\",\n",
    "    \"éco-lieu décomposeurs\",\n",
    "    \"éco-lieu fertilisant\",\n",
    "    \"éco-lieu rotation des cultures\",\n",
    "    \"éco-lieu salades\",\n",
    "    \"éco-lieu plantation\",\n",
    "    \"éco-lieu légumineuses\",\n",
    "    \"éco-lieu microferme\",\n",
    "    \"éco-lieu cultures sous les arbres\",\n",
    "    \"éco-lieu pollinisation\",\n",
    "    \"éco-lieu plantes\",\n",
    "    \"éco-lieu tuteurage\",\n",
    "    \"éco-lieu germination\",\n",
    "    \"éco-lieu maison en ossature bois\",\n",
    "    \"éco-lieu fruitier\",\n",
    "    \"éco-lieu fromage\",\n",
    "    \"éco-lieu foin\",\n",
    "    \"éco-lieu sol\",\n",
    "    \"éco-lieu haricots\",\n",
    "    \"éco-lieu eau\",\n",
    "    \"éco-lieu pomme de terre\",\n",
    "    \"éco-lieu itinéraire technique\",\n",
    "    \"éco-lieu sécheresse\",\n",
    "    \"éco-lieu cendre\",\n",
    "    \"éco-lieu changement climatique\",\n",
    "    \"éco-lieu bio\",\n",
    "    \"éco-lieu lombricompost\",\n",
    "    \"éco-lieu courgettes\",\n",
    "    \"éco-lieu azote\",\n",
    "    \"éco-lieu marc de café\",\n",
    "    \"éco-lieu cultures précoces\",\n",
    "    \"éco-lieu fertilisation organique\",\n",
    "    \"éco-lieu exploitation agricole\",\n",
    "    \"éco-lieu poullailler\",\n",
    "    \"éco-lieu cultivate\",\n",
    "    \"éco-lieu amendement\",\n",
    "    \"éco-lieu fientes de poulet\",\n",
    "    \"éco-lieu fumier\",\n",
    "    \"éco-lieu terres\",\n",
    "    \"éco-lieu eau dynamisée\",\n",
    "    \"éco-lieu résilience\",\n",
    "    \"éco-lieu lombricomposteur\",\n",
    "    \"éco-lieu plantes médicinales\",\n",
    "    \"éco-lieu chaux\",\n",
    "    \"éco-lieu choux Daubenton\",\n",
    "    \"éco-lieu vivace\",\n",
    "    \"éco-lieu tracteur\",\n",
    "    \"éco-lieu panneau solaire\",\n",
    "    \"éco-lieu installation solaire\",\n",
    "    \"éco-lieu glycol\"\n",
    "  ]\n",
    "\n",
    "calculateSimilarity(requete,documents)"
   ]
  },
  {
   "cell_type": "code",
   "execution_count": 16,
   "id": "1235db59",
   "metadata": {},
   "outputs": [],
   "source": [
    "contexte_autosuffisance = [\n",
    "    \"Potager familial productif pour l'autonomie en légumes\",\n",
    "    \"Élevage de poules, moutons et canards pour l’autonomie alimentaire\",\n",
    "    \"Utilisation de plantes médicinales et aromatiques cultivées sur place\",\n",
    "    \"Récupération et filtration de l'eau via un puits et osmose inverse\",\n",
    "    \"Construction de bacs permacoles faits maison pour une culture efficace\",\n",
    "    \"Transformation du sol en terre fertile pour maximiser les rendements\",\n",
    "    \"Vie en sobriété heureuse et respect de la nature\",\n",
    "    \"Utilisation de semences locales et choix variétal réfléchi\",\n",
    "    \"Production locale de viande, œufs et légumes\",\n",
    "    \"Utilisation d'une serre pour prolonger les cultures\",\n",
    "    \"Métiers artisanaux (ébénisterie, photographie culinaire) intégrés dans le mode de vie\",\n",
    "    \"Conception d’un lieu de vie en autonomie énergétique et alimentaire\"\n",
    "]\n"
   ]
  },
  {
   "cell_type": "code",
   "execution_count": 18,
   "id": "9b1027eb",
   "metadata": {},
   "outputs": [
    {
     "name": "stderr",
     "output_type": "stream",
     "text": [
      "  0%|          | 1/4504 [00:07<9:46:22,  7.81s/it]"
     ]
    },
    {
     "name": "stdout",
     "output_type": "stream",
     "text": [
      "0.12522189319133759    NRzflSM89iI\n"
     ]
    },
    {
     "name": "stderr",
     "output_type": "stream",
     "text": [
      "  0%|          | 2/4504 [00:17<11:29:00,  9.18s/it]"
     ]
    },
    {
     "name": "stdout",
     "output_type": "stream",
     "text": [
      "0.17426565289497375    6CI-4_XszYg\n"
     ]
    },
    {
     "name": "stderr",
     "output_type": "stream",
     "text": [
      "  0%|          | 3/4504 [00:25<10:39:29,  8.52s/it]"
     ]
    },
    {
     "name": "stdout",
     "output_type": "stream",
     "text": [
      "0.1539665013551712    E1Zo4dBPbGM\n"
     ]
    },
    {
     "name": "stderr",
     "output_type": "stream",
     "text": [
      "  0%|          | 4/4504 [00:36<11:47:30,  9.43s/it]"
     ]
    },
    {
     "name": "stdout",
     "output_type": "stream",
     "text": [
      "0.09188460558652878    z35x21dbhsw\n"
     ]
    },
    {
     "name": "stderr",
     "output_type": "stream",
     "text": [
      "  0%|          | 5/4504 [00:44<11:15:21,  9.01s/it]"
     ]
    },
    {
     "name": "stdout",
     "output_type": "stream",
     "text": [
      "0.14590317010879517    iF3O2TSheXI\n"
     ]
    },
    {
     "name": "stderr",
     "output_type": "stream",
     "text": [
      "  0%|          | 6/4504 [00:54<11:38:20,  9.32s/it]"
     ]
    },
    {
     "name": "stdout",
     "output_type": "stream",
     "text": [
      "0.09888356178998947    9nl8mw96R90\n"
     ]
    },
    {
     "name": "stderr",
     "output_type": "stream",
     "text": [
      "  0%|          | 7/4504 [01:02<11:08:49,  8.92s/it]"
     ]
    },
    {
     "name": "stdout",
     "output_type": "stream",
     "text": [
      "0.11587613075971603    viSl4Gv9mqU\n"
     ]
    },
    {
     "name": "stderr",
     "output_type": "stream",
     "text": [
      "  0%|          | 8/4504 [01:12<11:25:10,  9.14s/it]"
     ]
    },
    {
     "name": "stdout",
     "output_type": "stream",
     "text": [
      "0.05904807522892952    A31isr90nNI\n"
     ]
    },
    {
     "name": "stderr",
     "output_type": "stream",
     "text": [
      "  0%|          | 9/4504 [01:20<10:54:34,  8.74s/it]"
     ]
    },
    {
     "name": "stdout",
     "output_type": "stream",
     "text": [
      "0.07330767810344696    9-pbc-zRdss\n"
     ]
    },
    {
     "name": "stderr",
     "output_type": "stream",
     "text": [
      "  0%|          | 10/4504 [01:30<11:30:55,  9.22s/it]"
     ]
    },
    {
     "name": "stdout",
     "output_type": "stream",
     "text": [
      "0.13107413053512573    _l191QtAqlc\n"
     ]
    },
    {
     "name": "stderr",
     "output_type": "stream",
     "text": [
      "  0%|          | 11/4504 [01:41<12:10:50,  9.76s/it]"
     ]
    },
    {
     "name": "stdout",
     "output_type": "stream",
     "text": [
      "0.10049177706241608    -5ahOCpQi-k\n"
     ]
    },
    {
     "name": "stderr",
     "output_type": "stream",
     "text": [
      "  0%|          | 12/4504 [01:49<11:28:16,  9.19s/it]"
     ]
    },
    {
     "name": "stdout",
     "output_type": "stream",
     "text": [
      "0.11352601647377014    7dO0lOOPZVw\n"
     ]
    },
    {
     "name": "stderr",
     "output_type": "stream",
     "text": [
      "  0%|          | 13/4504 [01:59<11:38:13,  9.33s/it]"
     ]
    },
    {
     "name": "stdout",
     "output_type": "stream",
     "text": [
      "0.08490554988384247    pCf8PjSn6xs\n"
     ]
    },
    {
     "name": "stderr",
     "output_type": "stream",
     "text": [
      "  0%|          | 14/4504 [02:08<11:31:30,  9.24s/it]"
     ]
    },
    {
     "name": "stdout",
     "output_type": "stream",
     "text": [
      "0.08423230051994324    YER-2qYt2B0\n"
     ]
    },
    {
     "name": "stderr",
     "output_type": "stream",
     "text": [
      "  0%|          | 15/4504 [02:17<11:29:20,  9.21s/it]"
     ]
    },
    {
     "name": "stdout",
     "output_type": "stream",
     "text": [
      "0.010712231509387493    lSoWicUMVlM\n"
     ]
    },
    {
     "name": "stderr",
     "output_type": "stream",
     "text": [
      "  0%|          | 16/4504 [02:25<11:09:13,  8.95s/it]"
     ]
    },
    {
     "name": "stdout",
     "output_type": "stream",
     "text": [
      "0.1582910567522049    G4_vmWaSU3Q\n"
     ]
    },
    {
     "name": "stderr",
     "output_type": "stream",
     "text": [
      "  0%|          | 17/4504 [02:33<10:42:04,  8.59s/it]"
     ]
    },
    {
     "name": "stdout",
     "output_type": "stream",
     "text": [
      "0.11804836243391037    CbPHyfHqIHw\n"
     ]
    },
    {
     "name": "stderr",
     "output_type": "stream",
     "text": [
      "  0%|          | 18/4504 [02:43<11:10:32,  8.97s/it]"
     ]
    },
    {
     "name": "stdout",
     "output_type": "stream",
     "text": [
      "0.19018098711967468    yu5wQ_e1UMo\n"
     ]
    },
    {
     "name": "stderr",
     "output_type": "stream",
     "text": [
      "  0%|          | 19/4504 [02:51<10:43:58,  8.62s/it]"
     ]
    },
    {
     "name": "stdout",
     "output_type": "stream",
     "text": [
      "0.1649240255355835    1UvvwnWkFho\n"
     ]
    },
    {
     "name": "stderr",
     "output_type": "stream",
     "text": [
      "  0%|          | 20/4504 [03:00<11:03:30,  8.88s/it]"
     ]
    },
    {
     "name": "stdout",
     "output_type": "stream",
     "text": [
      "0.027286991477012634    tbrycDTUECg\n"
     ]
    },
    {
     "name": "stderr",
     "output_type": "stream",
     "text": [
      "  0%|          | 21/4504 [03:08<10:46:17,  8.65s/it]"
     ]
    },
    {
     "name": "stdout",
     "output_type": "stream",
     "text": [
      "-0.02901868149638176    e2gMKuiDxQY\n"
     ]
    },
    {
     "name": "stderr",
     "output_type": "stream",
     "text": [
      "  0%|          | 22/4504 [03:19<11:33:42,  9.29s/it]"
     ]
    },
    {
     "name": "stdout",
     "output_type": "stream",
     "text": [
      "0.0738668218255043    VmaB1cxsLxA\n"
     ]
    },
    {
     "name": "stderr",
     "output_type": "stream",
     "text": [
      "  1%|          | 23/4504 [03:29<11:59:53,  9.64s/it]"
     ]
    },
    {
     "name": "stdout",
     "output_type": "stream",
     "text": [
      "0.07115449756383896    -PYlxVfbEGA\n"
     ]
    },
    {
     "name": "stderr",
     "output_type": "stream",
     "text": [
      "  1%|          | 24/4504 [03:38<11:29:50,  9.24s/it]"
     ]
    },
    {
     "name": "stdout",
     "output_type": "stream",
     "text": [
      "0.12048967182636261    IG35vKlx0U0\n"
     ]
    },
    {
     "name": "stderr",
     "output_type": "stream",
     "text": [
      "  1%|          | 25/4504 [03:47<11:42:44,  9.41s/it]"
     ]
    },
    {
     "name": "stdout",
     "output_type": "stream",
     "text": [
      "0.1175050139427185    EyExd5h_j3M\n"
     ]
    },
    {
     "name": "stderr",
     "output_type": "stream",
     "text": [
      "  1%|          | 26/4504 [03:56<11:29:39,  9.24s/it]"
     ]
    },
    {
     "name": "stdout",
     "output_type": "stream",
     "text": [
      "0.1027696505188942    pzMvlEuc7xc\n"
     ]
    },
    {
     "name": "stderr",
     "output_type": "stream",
     "text": [
      "  1%|          | 27/4504 [04:06<11:32:21,  9.28s/it]"
     ]
    },
    {
     "name": "stdout",
     "output_type": "stream",
     "text": [
      "0.12154670804738998    -6ecq5hc5ig\n"
     ]
    },
    {
     "name": "stderr",
     "output_type": "stream",
     "text": [
      "  1%|          | 28/4504 [04:14<11:12:54,  9.02s/it]"
     ]
    },
    {
     "name": "stdout",
     "output_type": "stream",
     "text": [
      "0.14580528438091278    gjcxL3mVVe0\n"
     ]
    },
    {
     "name": "stderr",
     "output_type": "stream",
     "text": [
      "  1%|          | 29/4504 [04:24<11:26:46,  9.21s/it]"
     ]
    },
    {
     "name": "stdout",
     "output_type": "stream",
     "text": [
      "0.05499275028705597    VC0jyL7qnDU\n"
     ]
    },
    {
     "name": "stderr",
     "output_type": "stream",
     "text": [
      "  1%|          | 30/4504 [04:32<11:12:02,  9.01s/it]"
     ]
    },
    {
     "name": "stdout",
     "output_type": "stream",
     "text": [
      "0.12130878865718842    1Tur0zcDnvU\n"
     ]
    },
    {
     "name": "stderr",
     "output_type": "stream",
     "text": [
      "  1%|          | 31/4504 [04:42<11:24:04,  9.18s/it]"
     ]
    },
    {
     "name": "stdout",
     "output_type": "stream",
     "text": [
      "0.08566529303789139    XYZwomaR3ns\n"
     ]
    },
    {
     "name": "stderr",
     "output_type": "stream",
     "text": [
      "  1%|          | 32/4504 [04:50<11:06:12,  8.94s/it]"
     ]
    },
    {
     "name": "stdout",
     "output_type": "stream",
     "text": [
      "0.15773630142211914    0nZyupbiRVQ\n"
     ]
    },
    {
     "name": "stderr",
     "output_type": "stream",
     "text": [
      "  1%|          | 33/4504 [05:01<11:44:38,  9.46s/it]"
     ]
    },
    {
     "name": "stdout",
     "output_type": "stream",
     "text": [
      "0.13179506361484528    LJP8bYpCBPI\n"
     ]
    },
    {
     "name": "stderr",
     "output_type": "stream",
     "text": [
      "  1%|          | 34/4504 [05:11<11:59:18,  9.66s/it]"
     ]
    },
    {
     "name": "stdout",
     "output_type": "stream",
     "text": [
      "0.164107546210289    7ZnBr3v59Iw\n"
     ]
    },
    {
     "name": "stderr",
     "output_type": "stream",
     "text": [
      "  1%|          | 35/4504 [05:19<11:28:07,  9.24s/it]"
     ]
    },
    {
     "name": "stdout",
     "output_type": "stream",
     "text": [
      "0.08383823186159134    HkpV4V4dYOw\n"
     ]
    },
    {
     "name": "stderr",
     "output_type": "stream",
     "text": [
      "  1%|          | 36/4504 [05:28<11:14:36,  9.06s/it]"
     ]
    },
    {
     "name": "stdout",
     "output_type": "stream",
     "text": [
      "0.13691072165966034    ayUMX5QFZBs\n"
     ]
    },
    {
     "name": "stderr",
     "output_type": "stream",
     "text": [
      "  1%|          | 37/4504 [05:38<11:28:51,  9.25s/it]"
     ]
    },
    {
     "name": "stdout",
     "output_type": "stream",
     "text": [
      "0.09955555200576782    Wcgs5XjxzFs\n"
     ]
    },
    {
     "name": "stderr",
     "output_type": "stream",
     "text": [
      "  1%|          | 38/4504 [05:46<11:13:15,  9.05s/it]"
     ]
    },
    {
     "name": "stdout",
     "output_type": "stream",
     "text": [
      "0.1382737010717392    vJSzXIPoOkw\n"
     ]
    },
    {
     "name": "stderr",
     "output_type": "stream",
     "text": [
      "  1%|          | 39/4504 [05:55<11:07:16,  8.97s/it]"
     ]
    },
    {
     "name": "stdout",
     "output_type": "stream",
     "text": [
      "0.16849583387374878    aZusRHXECMY\n"
     ]
    },
    {
     "name": "stderr",
     "output_type": "stream",
     "text": [
      "  1%|          | 40/4504 [06:03<10:44:35,  8.66s/it]"
     ]
    },
    {
     "name": "stdout",
     "output_type": "stream",
     "text": [
      "0.14704309403896332    LifnAsRRY4E\n"
     ]
    },
    {
     "name": "stderr",
     "output_type": "stream",
     "text": [
      "  1%|          | 41/4504 [06:13<11:13:52,  9.06s/it]"
     ]
    },
    {
     "name": "stdout",
     "output_type": "stream",
     "text": [
      "0.08221543580293655    EMKZk61uA0w\n"
     ]
    },
    {
     "name": "stderr",
     "output_type": "stream",
     "text": [
      "  1%|          | 42/4504 [06:21<10:41:01,  8.62s/it]"
     ]
    },
    {
     "name": "stdout",
     "output_type": "stream",
     "text": [
      "0.08285196870565414    U7RY1lzS6us\n"
     ]
    },
    {
     "name": "stderr",
     "output_type": "stream",
     "text": [
      "  1%|          | 43/4504 [06:30<11:07:28,  8.98s/it]"
     ]
    },
    {
     "name": "stdout",
     "output_type": "stream",
     "text": [
      "0.013404173776507378    _3X3muyDFKY\n"
     ]
    },
    {
     "name": "stderr",
     "output_type": "stream",
     "text": [
      "  1%|          | 44/4504 [06:38<10:46:09,  8.69s/it]"
     ]
    },
    {
     "name": "stdout",
     "output_type": "stream",
     "text": [
      "0.08837468177080154    W79c-I7vqFI\n"
     ]
    },
    {
     "name": "stderr",
     "output_type": "stream",
     "text": [
      "  1%|          | 45/4504 [06:50<11:54:03,  9.61s/it]"
     ]
    },
    {
     "name": "stdout",
     "output_type": "stream",
     "text": [
      "-0.0041385311633348465    8ChX6276Rhk\n"
     ]
    },
    {
     "name": "stderr",
     "output_type": "stream",
     "text": [
      "  1%|          | 46/4504 [06:59<11:41:14,  9.44s/it]"
     ]
    },
    {
     "name": "stdout",
     "output_type": "stream",
     "text": [
      "0.11584722995758057    M92CPBXG0U0\n"
     ]
    },
    {
     "name": "stderr",
     "output_type": "stream",
     "text": [
      "  1%|          | 47/4504 [07:09<11:53:59,  9.61s/it]"
     ]
    },
    {
     "name": "stdout",
     "output_type": "stream",
     "text": [
      "0.1844758838415146    FZBgBkMdgTg\n"
     ]
    },
    {
     "name": "stderr",
     "output_type": "stream",
     "text": [
      "  1%|          | 48/4504 [07:20<12:20:39,  9.97s/it]"
     ]
    },
    {
     "name": "stdout",
     "output_type": "stream",
     "text": [
      "0.03602290526032448    BCENbxCl7XU\n"
     ]
    },
    {
     "name": "stderr",
     "output_type": "stream",
     "text": [
      "  1%|          | 49/4504 [07:28<11:41:28,  9.45s/it]"
     ]
    },
    {
     "name": "stdout",
     "output_type": "stream",
     "text": [
      "0.16035063564777374    ihOZZgTg9hg\n"
     ]
    },
    {
     "name": "stderr",
     "output_type": "stream",
     "text": [
      "  1%|          | 50/4504 [07:39<12:07:32,  9.80s/it]"
     ]
    },
    {
     "name": "stdout",
     "output_type": "stream",
     "text": [
      "0.038315750658512115    NgdYYbRCtrc\n"
     ]
    },
    {
     "name": "stderr",
     "output_type": "stream",
     "text": [
      "  1%|          | 51/4504 [07:47<11:41:27,  9.45s/it]"
     ]
    },
    {
     "name": "stdout",
     "output_type": "stream",
     "text": [
      "0.026463018730282784    3KxD8q2oWVc\n"
     ]
    },
    {
     "name": "stderr",
     "output_type": "stream",
     "text": [
      "  1%|          | 52/4504 [07:56<11:30:46,  9.31s/it]"
     ]
    },
    {
     "name": "stdout",
     "output_type": "stream",
     "text": [
      "0.10203157365322113    5nsdQucYdak\n"
     ]
    },
    {
     "name": "stderr",
     "output_type": "stream",
     "text": [
      "  1%|          | 52/4504 [07:59<11:23:51,  9.22s/it]\n"
     ]
    },
    {
     "ename": "KeyboardInterrupt",
     "evalue": "",
     "output_type": "error",
     "traceback": [
      "\u001b[0;31m---------------------------------------------------------------------------\u001b[0m",
      "\u001b[0;31mKeyboardInterrupt\u001b[0m                         Traceback (most recent call last)",
      "Cell \u001b[0;32mIn[18], line 5\u001b[0m\n\u001b[1;32m      3\u001b[0m \u001b[38;5;28;01mfor\u001b[39;00m video \u001b[38;5;129;01min\u001b[39;00m tqdm(videosF2):\n\u001b[1;32m      4\u001b[0m     context \u001b[38;5;241m=\u001b[39m video[\u001b[38;5;124m'\u001b[39m\u001b[38;5;124mtitre_video\u001b[39m\u001b[38;5;124m'\u001b[39m] \u001b[38;5;241m+\u001b[39m video[\u001b[38;5;124m'\u001b[39m\u001b[38;5;124mdescription\u001b[39m\u001b[38;5;124m'\u001b[39m] \u001b[38;5;241m+\u001b[39m \u001b[38;5;124m'\u001b[39m\u001b[38;5;124m \u001b[39m\u001b[38;5;124m'\u001b[39m\u001b[38;5;241m.\u001b[39mjoin(video[\u001b[38;5;124m'\u001b[39m\u001b[38;5;124mtags\u001b[39m\u001b[38;5;124m'\u001b[39m])\n\u001b[0;32m----> 5\u001b[0m     score \u001b[38;5;241m=\u001b[39m \u001b[43mcalculateSimilarity\u001b[49m\u001b[43m(\u001b[49m\u001b[43mcontext\u001b[49m\u001b[43m,\u001b[49m\u001b[43mdocuments\u001b[49m\u001b[43m)\u001b[49m\n\u001b[1;32m      6\u001b[0m     \u001b[38;5;28mprint\u001b[39m(score,\u001b[38;5;124m'\u001b[39m\u001b[38;5;124m  \u001b[39m\u001b[38;5;124m'\u001b[39m,video[\u001b[38;5;124m'\u001b[39m\u001b[38;5;124mid_video\u001b[39m\u001b[38;5;124m'\u001b[39m])\n\u001b[1;32m      7\u001b[0m     scores[video[\u001b[38;5;124m'\u001b[39m\u001b[38;5;124mid_video\u001b[39m\u001b[38;5;124m'\u001b[39m]]\u001b[38;5;241m=\u001b[39mscore\n",
      "Cell \u001b[0;32mIn[6], line 5\u001b[0m, in \u001b[0;36mcalculateSimilarity\u001b[0;34m(videoMD, youtubequeries)\u001b[0m\n\u001b[1;32m      3\u001b[0m \u001b[38;5;28;01mdef\u001b[39;00m\u001b[38;5;250m \u001b[39m\u001b[38;5;21mcalculateSimilarity\u001b[39m(videoMD, youtubequeries):\n\u001b[1;32m      4\u001b[0m     embedding_video \u001b[38;5;241m=\u001b[39m model\u001b[38;5;241m.\u001b[39mencode([videoMD], convert_to_tensor\u001b[38;5;241m=\u001b[39m\u001b[38;5;28;01mTrue\u001b[39;00m, normalize_embeddings\u001b[38;5;241m=\u001b[39m\u001b[38;5;28;01mTrue\u001b[39;00m)\n\u001b[0;32m----> 5\u001b[0m     embeddings_queries \u001b[38;5;241m=\u001b[39m \u001b[43mmodel\u001b[49m\u001b[38;5;241;43m.\u001b[39;49m\u001b[43mencode\u001b[49m\u001b[43m(\u001b[49m\u001b[43myoutubequeries\u001b[49m\u001b[43m,\u001b[49m\u001b[43m \u001b[49m\u001b[43mconvert_to_tensor\u001b[49m\u001b[38;5;241;43m=\u001b[39;49m\u001b[38;5;28;43;01mTrue\u001b[39;49;00m\u001b[43m,\u001b[49m\u001b[43m \u001b[49m\u001b[43mnormalize_embeddings\u001b[49m\u001b[38;5;241;43m=\u001b[39;49m\u001b[38;5;28;43;01mTrue\u001b[39;49;00m\u001b[43m)\u001b[49m\n\u001b[1;32m      6\u001b[0m     scores \u001b[38;5;241m=\u001b[39m util\u001b[38;5;241m.\u001b[39mcos_sim(embedding_video, embeddings_queries)[\u001b[38;5;241m0\u001b[39m]\n\u001b[1;32m      7\u001b[0m     simScore \u001b[38;5;241m=\u001b[39m scores\u001b[38;5;241m.\u001b[39mmean()\u001b[38;5;241m.\u001b[39mitem()\n",
      "File \u001b[0;32m~/AgroTube/.venv/lib/python3.10/site-packages/sentence_transformers/SentenceTransformer.py:685\u001b[0m, in \u001b[0;36mSentenceTransformer.encode\u001b[0;34m(self, sentences, prompt_name, prompt, batch_size, show_progress_bar, output_value, precision, convert_to_numpy, convert_to_tensor, device, normalize_embeddings, **kwargs)\u001b[0m\n\u001b[1;32m    682\u001b[0m features\u001b[38;5;241m.\u001b[39mupdate(extra_features)\n\u001b[1;32m    684\u001b[0m \u001b[38;5;28;01mwith\u001b[39;00m torch\u001b[38;5;241m.\u001b[39mno_grad():\n\u001b[0;32m--> 685\u001b[0m     out_features \u001b[38;5;241m=\u001b[39m \u001b[38;5;28;43mself\u001b[39;49m\u001b[38;5;241;43m.\u001b[39;49m\u001b[43mforward\u001b[49m\u001b[43m(\u001b[49m\u001b[43mfeatures\u001b[49m\u001b[43m,\u001b[49m\u001b[43m \u001b[49m\u001b[38;5;241;43m*\u001b[39;49m\u001b[38;5;241;43m*\u001b[39;49m\u001b[43mkwargs\u001b[49m\u001b[43m)\u001b[49m\n\u001b[1;32m    686\u001b[0m     \u001b[38;5;28;01mif\u001b[39;00m \u001b[38;5;28mself\u001b[39m\u001b[38;5;241m.\u001b[39mdevice\u001b[38;5;241m.\u001b[39mtype \u001b[38;5;241m==\u001b[39m \u001b[38;5;124m\"\u001b[39m\u001b[38;5;124mhpu\u001b[39m\u001b[38;5;124m\"\u001b[39m:\n\u001b[1;32m    687\u001b[0m         out_features \u001b[38;5;241m=\u001b[39m copy\u001b[38;5;241m.\u001b[39mdeepcopy(out_features)\n",
      "File \u001b[0;32m~/AgroTube/.venv/lib/python3.10/site-packages/sentence_transformers/SentenceTransformer.py:758\u001b[0m, in \u001b[0;36mSentenceTransformer.forward\u001b[0;34m(self, input, **kwargs)\u001b[0m\n\u001b[1;32m    756\u001b[0m     module_kwarg_keys \u001b[38;5;241m=\u001b[39m \u001b[38;5;28mself\u001b[39m\u001b[38;5;241m.\u001b[39mmodule_kwargs\u001b[38;5;241m.\u001b[39mget(module_name, [])\n\u001b[1;32m    757\u001b[0m     module_kwargs \u001b[38;5;241m=\u001b[39m {key: value \u001b[38;5;28;01mfor\u001b[39;00m key, value \u001b[38;5;129;01min\u001b[39;00m kwargs\u001b[38;5;241m.\u001b[39mitems() \u001b[38;5;28;01mif\u001b[39;00m key \u001b[38;5;129;01min\u001b[39;00m module_kwarg_keys}\n\u001b[0;32m--> 758\u001b[0m     \u001b[38;5;28minput\u001b[39m \u001b[38;5;241m=\u001b[39m \u001b[43mmodule\u001b[49m\u001b[43m(\u001b[49m\u001b[38;5;28;43minput\u001b[39;49m\u001b[43m,\u001b[49m\u001b[43m \u001b[49m\u001b[38;5;241;43m*\u001b[39;49m\u001b[38;5;241;43m*\u001b[39;49m\u001b[43mmodule_kwargs\u001b[49m\u001b[43m)\u001b[49m\n\u001b[1;32m    759\u001b[0m \u001b[38;5;28;01mreturn\u001b[39;00m \u001b[38;5;28minput\u001b[39m\n",
      "File \u001b[0;32m~/AgroTube/.venv/lib/python3.10/site-packages/torch/nn/modules/module.py:1739\u001b[0m, in \u001b[0;36mModule._wrapped_call_impl\u001b[0;34m(self, *args, **kwargs)\u001b[0m\n\u001b[1;32m   1737\u001b[0m     \u001b[38;5;28;01mreturn\u001b[39;00m \u001b[38;5;28mself\u001b[39m\u001b[38;5;241m.\u001b[39m_compiled_call_impl(\u001b[38;5;241m*\u001b[39margs, \u001b[38;5;241m*\u001b[39m\u001b[38;5;241m*\u001b[39mkwargs)  \u001b[38;5;66;03m# type: ignore[misc]\u001b[39;00m\n\u001b[1;32m   1738\u001b[0m \u001b[38;5;28;01melse\u001b[39;00m:\n\u001b[0;32m-> 1739\u001b[0m     \u001b[38;5;28;01mreturn\u001b[39;00m \u001b[38;5;28;43mself\u001b[39;49m\u001b[38;5;241;43m.\u001b[39;49m\u001b[43m_call_impl\u001b[49m\u001b[43m(\u001b[49m\u001b[38;5;241;43m*\u001b[39;49m\u001b[43margs\u001b[49m\u001b[43m,\u001b[49m\u001b[43m \u001b[49m\u001b[38;5;241;43m*\u001b[39;49m\u001b[38;5;241;43m*\u001b[39;49m\u001b[43mkwargs\u001b[49m\u001b[43m)\u001b[49m\n",
      "File \u001b[0;32m~/AgroTube/.venv/lib/python3.10/site-packages/torch/nn/modules/module.py:1750\u001b[0m, in \u001b[0;36mModule._call_impl\u001b[0;34m(self, *args, **kwargs)\u001b[0m\n\u001b[1;32m   1745\u001b[0m \u001b[38;5;66;03m# If we don't have any hooks, we want to skip the rest of the logic in\u001b[39;00m\n\u001b[1;32m   1746\u001b[0m \u001b[38;5;66;03m# this function, and just call forward.\u001b[39;00m\n\u001b[1;32m   1747\u001b[0m \u001b[38;5;28;01mif\u001b[39;00m \u001b[38;5;129;01mnot\u001b[39;00m (\u001b[38;5;28mself\u001b[39m\u001b[38;5;241m.\u001b[39m_backward_hooks \u001b[38;5;129;01mor\u001b[39;00m \u001b[38;5;28mself\u001b[39m\u001b[38;5;241m.\u001b[39m_backward_pre_hooks \u001b[38;5;129;01mor\u001b[39;00m \u001b[38;5;28mself\u001b[39m\u001b[38;5;241m.\u001b[39m_forward_hooks \u001b[38;5;129;01mor\u001b[39;00m \u001b[38;5;28mself\u001b[39m\u001b[38;5;241m.\u001b[39m_forward_pre_hooks\n\u001b[1;32m   1748\u001b[0m         \u001b[38;5;129;01mor\u001b[39;00m _global_backward_pre_hooks \u001b[38;5;129;01mor\u001b[39;00m _global_backward_hooks\n\u001b[1;32m   1749\u001b[0m         \u001b[38;5;129;01mor\u001b[39;00m _global_forward_hooks \u001b[38;5;129;01mor\u001b[39;00m _global_forward_pre_hooks):\n\u001b[0;32m-> 1750\u001b[0m     \u001b[38;5;28;01mreturn\u001b[39;00m \u001b[43mforward_call\u001b[49m\u001b[43m(\u001b[49m\u001b[38;5;241;43m*\u001b[39;49m\u001b[43margs\u001b[49m\u001b[43m,\u001b[49m\u001b[43m \u001b[49m\u001b[38;5;241;43m*\u001b[39;49m\u001b[38;5;241;43m*\u001b[39;49m\u001b[43mkwargs\u001b[49m\u001b[43m)\u001b[49m\n\u001b[1;32m   1752\u001b[0m result \u001b[38;5;241m=\u001b[39m \u001b[38;5;28;01mNone\u001b[39;00m\n\u001b[1;32m   1753\u001b[0m called_always_called_hooks \u001b[38;5;241m=\u001b[39m \u001b[38;5;28mset\u001b[39m()\n",
      "File \u001b[0;32m~/AgroTube/.venv/lib/python3.10/site-packages/sentence_transformers/models/Transformer.py:442\u001b[0m, in \u001b[0;36mTransformer.forward\u001b[0;34m(self, features, **kwargs)\u001b[0m\n\u001b[1;32m    435\u001b[0m \u001b[38;5;250m\u001b[39m\u001b[38;5;124;03m\"\"\"Returns token_embeddings, cls_token\"\"\"\u001b[39;00m\n\u001b[1;32m    436\u001b[0m trans_features \u001b[38;5;241m=\u001b[39m {\n\u001b[1;32m    437\u001b[0m     key: value\n\u001b[1;32m    438\u001b[0m     \u001b[38;5;28;01mfor\u001b[39;00m key, value \u001b[38;5;129;01min\u001b[39;00m features\u001b[38;5;241m.\u001b[39mitems()\n\u001b[1;32m    439\u001b[0m     \u001b[38;5;28;01mif\u001b[39;00m key \u001b[38;5;129;01min\u001b[39;00m [\u001b[38;5;124m\"\u001b[39m\u001b[38;5;124minput_ids\u001b[39m\u001b[38;5;124m\"\u001b[39m, \u001b[38;5;124m\"\u001b[39m\u001b[38;5;124mattention_mask\u001b[39m\u001b[38;5;124m\"\u001b[39m, \u001b[38;5;124m\"\u001b[39m\u001b[38;5;124mtoken_type_ids\u001b[39m\u001b[38;5;124m\"\u001b[39m, \u001b[38;5;124m\"\u001b[39m\u001b[38;5;124minputs_embeds\u001b[39m\u001b[38;5;124m\"\u001b[39m]\n\u001b[1;32m    440\u001b[0m }\n\u001b[0;32m--> 442\u001b[0m outputs \u001b[38;5;241m=\u001b[39m \u001b[38;5;28;43mself\u001b[39;49m\u001b[38;5;241;43m.\u001b[39;49m\u001b[43mauto_model\u001b[49m\u001b[43m(\u001b[49m\u001b[38;5;241;43m*\u001b[39;49m\u001b[38;5;241;43m*\u001b[39;49m\u001b[43mtrans_features\u001b[49m\u001b[43m,\u001b[49m\u001b[43m \u001b[49m\u001b[38;5;241;43m*\u001b[39;49m\u001b[38;5;241;43m*\u001b[39;49m\u001b[43mkwargs\u001b[49m\u001b[43m,\u001b[49m\u001b[43m \u001b[49m\u001b[43mreturn_dict\u001b[49m\u001b[38;5;241;43m=\u001b[39;49m\u001b[38;5;28;43;01mTrue\u001b[39;49;00m\u001b[43m)\u001b[49m\n\u001b[1;32m    443\u001b[0m token_embeddings \u001b[38;5;241m=\u001b[39m outputs[\u001b[38;5;241m0\u001b[39m]\n\u001b[1;32m    444\u001b[0m features[\u001b[38;5;124m\"\u001b[39m\u001b[38;5;124mtoken_embeddings\u001b[39m\u001b[38;5;124m\"\u001b[39m] \u001b[38;5;241m=\u001b[39m token_embeddings\n",
      "File \u001b[0;32m~/AgroTube/.venv/lib/python3.10/site-packages/torch/nn/modules/module.py:1739\u001b[0m, in \u001b[0;36mModule._wrapped_call_impl\u001b[0;34m(self, *args, **kwargs)\u001b[0m\n\u001b[1;32m   1737\u001b[0m     \u001b[38;5;28;01mreturn\u001b[39;00m \u001b[38;5;28mself\u001b[39m\u001b[38;5;241m.\u001b[39m_compiled_call_impl(\u001b[38;5;241m*\u001b[39margs, \u001b[38;5;241m*\u001b[39m\u001b[38;5;241m*\u001b[39mkwargs)  \u001b[38;5;66;03m# type: ignore[misc]\u001b[39;00m\n\u001b[1;32m   1738\u001b[0m \u001b[38;5;28;01melse\u001b[39;00m:\n\u001b[0;32m-> 1739\u001b[0m     \u001b[38;5;28;01mreturn\u001b[39;00m \u001b[38;5;28;43mself\u001b[39;49m\u001b[38;5;241;43m.\u001b[39;49m\u001b[43m_call_impl\u001b[49m\u001b[43m(\u001b[49m\u001b[38;5;241;43m*\u001b[39;49m\u001b[43margs\u001b[49m\u001b[43m,\u001b[49m\u001b[43m \u001b[49m\u001b[38;5;241;43m*\u001b[39;49m\u001b[38;5;241;43m*\u001b[39;49m\u001b[43mkwargs\u001b[49m\u001b[43m)\u001b[49m\n",
      "File \u001b[0;32m~/AgroTube/.venv/lib/python3.10/site-packages/torch/nn/modules/module.py:1750\u001b[0m, in \u001b[0;36mModule._call_impl\u001b[0;34m(self, *args, **kwargs)\u001b[0m\n\u001b[1;32m   1745\u001b[0m \u001b[38;5;66;03m# If we don't have any hooks, we want to skip the rest of the logic in\u001b[39;00m\n\u001b[1;32m   1746\u001b[0m \u001b[38;5;66;03m# this function, and just call forward.\u001b[39;00m\n\u001b[1;32m   1747\u001b[0m \u001b[38;5;28;01mif\u001b[39;00m \u001b[38;5;129;01mnot\u001b[39;00m (\u001b[38;5;28mself\u001b[39m\u001b[38;5;241m.\u001b[39m_backward_hooks \u001b[38;5;129;01mor\u001b[39;00m \u001b[38;5;28mself\u001b[39m\u001b[38;5;241m.\u001b[39m_backward_pre_hooks \u001b[38;5;129;01mor\u001b[39;00m \u001b[38;5;28mself\u001b[39m\u001b[38;5;241m.\u001b[39m_forward_hooks \u001b[38;5;129;01mor\u001b[39;00m \u001b[38;5;28mself\u001b[39m\u001b[38;5;241m.\u001b[39m_forward_pre_hooks\n\u001b[1;32m   1748\u001b[0m         \u001b[38;5;129;01mor\u001b[39;00m _global_backward_pre_hooks \u001b[38;5;129;01mor\u001b[39;00m _global_backward_hooks\n\u001b[1;32m   1749\u001b[0m         \u001b[38;5;129;01mor\u001b[39;00m _global_forward_hooks \u001b[38;5;129;01mor\u001b[39;00m _global_forward_pre_hooks):\n\u001b[0;32m-> 1750\u001b[0m     \u001b[38;5;28;01mreturn\u001b[39;00m \u001b[43mforward_call\u001b[49m\u001b[43m(\u001b[49m\u001b[38;5;241;43m*\u001b[39;49m\u001b[43margs\u001b[49m\u001b[43m,\u001b[49m\u001b[43m \u001b[49m\u001b[38;5;241;43m*\u001b[39;49m\u001b[38;5;241;43m*\u001b[39;49m\u001b[43mkwargs\u001b[49m\u001b[43m)\u001b[49m\n\u001b[1;32m   1752\u001b[0m result \u001b[38;5;241m=\u001b[39m \u001b[38;5;28;01mNone\u001b[39;00m\n\u001b[1;32m   1753\u001b[0m called_always_called_hooks \u001b[38;5;241m=\u001b[39m \u001b[38;5;28mset\u001b[39m()\n",
      "File \u001b[0;32m~/AgroTube/.venv/lib/python3.10/site-packages/transformers/models/camembert/modeling_camembert.py:1037\u001b[0m, in \u001b[0;36mCamembertModel.forward\u001b[0;34m(self, input_ids, attention_mask, token_type_ids, position_ids, head_mask, inputs_embeds, encoder_hidden_states, encoder_attention_mask, past_key_values, use_cache, output_attentions, output_hidden_states, return_dict)\u001b[0m\n\u001b[1;32m   1030\u001b[0m \u001b[38;5;66;03m# Prepare head mask if needed\u001b[39;00m\n\u001b[1;32m   1031\u001b[0m \u001b[38;5;66;03m# 1.0 in head_mask indicate we keep the head\u001b[39;00m\n\u001b[1;32m   1032\u001b[0m \u001b[38;5;66;03m# attention_probs has shape bsz x n_heads x N x N\u001b[39;00m\n\u001b[1;32m   1033\u001b[0m \u001b[38;5;66;03m# input head_mask has shape [num_heads] or [num_hidden_layers x num_heads]\u001b[39;00m\n\u001b[1;32m   1034\u001b[0m \u001b[38;5;66;03m# and head_mask is converted to shape [num_hidden_layers x batch x num_heads x seq_length x seq_length]\u001b[39;00m\n\u001b[1;32m   1035\u001b[0m head_mask \u001b[38;5;241m=\u001b[39m \u001b[38;5;28mself\u001b[39m\u001b[38;5;241m.\u001b[39mget_head_mask(head_mask, \u001b[38;5;28mself\u001b[39m\u001b[38;5;241m.\u001b[39mconfig\u001b[38;5;241m.\u001b[39mnum_hidden_layers)\n\u001b[0;32m-> 1037\u001b[0m encoder_outputs \u001b[38;5;241m=\u001b[39m \u001b[38;5;28;43mself\u001b[39;49m\u001b[38;5;241;43m.\u001b[39;49m\u001b[43mencoder\u001b[49m\u001b[43m(\u001b[49m\n\u001b[1;32m   1038\u001b[0m \u001b[43m    \u001b[49m\u001b[43membedding_output\u001b[49m\u001b[43m,\u001b[49m\n\u001b[1;32m   1039\u001b[0m \u001b[43m    \u001b[49m\u001b[43mattention_mask\u001b[49m\u001b[38;5;241;43m=\u001b[39;49m\u001b[43mextended_attention_mask\u001b[49m\u001b[43m,\u001b[49m\n\u001b[1;32m   1040\u001b[0m \u001b[43m    \u001b[49m\u001b[43mhead_mask\u001b[49m\u001b[38;5;241;43m=\u001b[39;49m\u001b[43mhead_mask\u001b[49m\u001b[43m,\u001b[49m\n\u001b[1;32m   1041\u001b[0m \u001b[43m    \u001b[49m\u001b[43mencoder_hidden_states\u001b[49m\u001b[38;5;241;43m=\u001b[39;49m\u001b[43mencoder_hidden_states\u001b[49m\u001b[43m,\u001b[49m\n\u001b[1;32m   1042\u001b[0m \u001b[43m    \u001b[49m\u001b[43mencoder_attention_mask\u001b[49m\u001b[38;5;241;43m=\u001b[39;49m\u001b[43mencoder_extended_attention_mask\u001b[49m\u001b[43m,\u001b[49m\n\u001b[1;32m   1043\u001b[0m \u001b[43m    \u001b[49m\u001b[43mpast_key_values\u001b[49m\u001b[38;5;241;43m=\u001b[39;49m\u001b[43mpast_key_values\u001b[49m\u001b[43m,\u001b[49m\n\u001b[1;32m   1044\u001b[0m \u001b[43m    \u001b[49m\u001b[43muse_cache\u001b[49m\u001b[38;5;241;43m=\u001b[39;49m\u001b[43muse_cache\u001b[49m\u001b[43m,\u001b[49m\n\u001b[1;32m   1045\u001b[0m \u001b[43m    \u001b[49m\u001b[43moutput_attentions\u001b[49m\u001b[38;5;241;43m=\u001b[39;49m\u001b[43moutput_attentions\u001b[49m\u001b[43m,\u001b[49m\n\u001b[1;32m   1046\u001b[0m \u001b[43m    \u001b[49m\u001b[43moutput_hidden_states\u001b[49m\u001b[38;5;241;43m=\u001b[39;49m\u001b[43moutput_hidden_states\u001b[49m\u001b[43m,\u001b[49m\n\u001b[1;32m   1047\u001b[0m \u001b[43m    \u001b[49m\u001b[43mreturn_dict\u001b[49m\u001b[38;5;241;43m=\u001b[39;49m\u001b[43mreturn_dict\u001b[49m\u001b[43m,\u001b[49m\n\u001b[1;32m   1048\u001b[0m \u001b[43m\u001b[49m\u001b[43m)\u001b[49m\n\u001b[1;32m   1049\u001b[0m sequence_output \u001b[38;5;241m=\u001b[39m encoder_outputs[\u001b[38;5;241m0\u001b[39m]\n\u001b[1;32m   1050\u001b[0m pooled_output \u001b[38;5;241m=\u001b[39m \u001b[38;5;28mself\u001b[39m\u001b[38;5;241m.\u001b[39mpooler(sequence_output) \u001b[38;5;28;01mif\u001b[39;00m \u001b[38;5;28mself\u001b[39m\u001b[38;5;241m.\u001b[39mpooler \u001b[38;5;129;01mis\u001b[39;00m \u001b[38;5;129;01mnot\u001b[39;00m \u001b[38;5;28;01mNone\u001b[39;00m \u001b[38;5;28;01melse\u001b[39;00m \u001b[38;5;28;01mNone\u001b[39;00m\n",
      "File \u001b[0;32m~/AgroTube/.venv/lib/python3.10/site-packages/torch/nn/modules/module.py:1739\u001b[0m, in \u001b[0;36mModule._wrapped_call_impl\u001b[0;34m(self, *args, **kwargs)\u001b[0m\n\u001b[1;32m   1737\u001b[0m     \u001b[38;5;28;01mreturn\u001b[39;00m \u001b[38;5;28mself\u001b[39m\u001b[38;5;241m.\u001b[39m_compiled_call_impl(\u001b[38;5;241m*\u001b[39margs, \u001b[38;5;241m*\u001b[39m\u001b[38;5;241m*\u001b[39mkwargs)  \u001b[38;5;66;03m# type: ignore[misc]\u001b[39;00m\n\u001b[1;32m   1738\u001b[0m \u001b[38;5;28;01melse\u001b[39;00m:\n\u001b[0;32m-> 1739\u001b[0m     \u001b[38;5;28;01mreturn\u001b[39;00m \u001b[38;5;28;43mself\u001b[39;49m\u001b[38;5;241;43m.\u001b[39;49m\u001b[43m_call_impl\u001b[49m\u001b[43m(\u001b[49m\u001b[38;5;241;43m*\u001b[39;49m\u001b[43margs\u001b[49m\u001b[43m,\u001b[49m\u001b[43m \u001b[49m\u001b[38;5;241;43m*\u001b[39;49m\u001b[38;5;241;43m*\u001b[39;49m\u001b[43mkwargs\u001b[49m\u001b[43m)\u001b[49m\n",
      "File \u001b[0;32m~/AgroTube/.venv/lib/python3.10/site-packages/torch/nn/modules/module.py:1750\u001b[0m, in \u001b[0;36mModule._call_impl\u001b[0;34m(self, *args, **kwargs)\u001b[0m\n\u001b[1;32m   1745\u001b[0m \u001b[38;5;66;03m# If we don't have any hooks, we want to skip the rest of the logic in\u001b[39;00m\n\u001b[1;32m   1746\u001b[0m \u001b[38;5;66;03m# this function, and just call forward.\u001b[39;00m\n\u001b[1;32m   1747\u001b[0m \u001b[38;5;28;01mif\u001b[39;00m \u001b[38;5;129;01mnot\u001b[39;00m (\u001b[38;5;28mself\u001b[39m\u001b[38;5;241m.\u001b[39m_backward_hooks \u001b[38;5;129;01mor\u001b[39;00m \u001b[38;5;28mself\u001b[39m\u001b[38;5;241m.\u001b[39m_backward_pre_hooks \u001b[38;5;129;01mor\u001b[39;00m \u001b[38;5;28mself\u001b[39m\u001b[38;5;241m.\u001b[39m_forward_hooks \u001b[38;5;129;01mor\u001b[39;00m \u001b[38;5;28mself\u001b[39m\u001b[38;5;241m.\u001b[39m_forward_pre_hooks\n\u001b[1;32m   1748\u001b[0m         \u001b[38;5;129;01mor\u001b[39;00m _global_backward_pre_hooks \u001b[38;5;129;01mor\u001b[39;00m _global_backward_hooks\n\u001b[1;32m   1749\u001b[0m         \u001b[38;5;129;01mor\u001b[39;00m _global_forward_hooks \u001b[38;5;129;01mor\u001b[39;00m _global_forward_pre_hooks):\n\u001b[0;32m-> 1750\u001b[0m     \u001b[38;5;28;01mreturn\u001b[39;00m \u001b[43mforward_call\u001b[49m\u001b[43m(\u001b[49m\u001b[38;5;241;43m*\u001b[39;49m\u001b[43margs\u001b[49m\u001b[43m,\u001b[49m\u001b[43m \u001b[49m\u001b[38;5;241;43m*\u001b[39;49m\u001b[38;5;241;43m*\u001b[39;49m\u001b[43mkwargs\u001b[49m\u001b[43m)\u001b[49m\n\u001b[1;32m   1752\u001b[0m result \u001b[38;5;241m=\u001b[39m \u001b[38;5;28;01mNone\u001b[39;00m\n\u001b[1;32m   1753\u001b[0m called_always_called_hooks \u001b[38;5;241m=\u001b[39m \u001b[38;5;28mset\u001b[39m()\n",
      "File \u001b[0;32m~/AgroTube/.venv/lib/python3.10/site-packages/transformers/models/camembert/modeling_camembert.py:649\u001b[0m, in \u001b[0;36mCamembertEncoder.forward\u001b[0;34m(self, hidden_states, attention_mask, head_mask, encoder_hidden_states, encoder_attention_mask, past_key_values, use_cache, output_attentions, output_hidden_states, return_dict)\u001b[0m\n\u001b[1;32m    638\u001b[0m     layer_outputs \u001b[38;5;241m=\u001b[39m \u001b[38;5;28mself\u001b[39m\u001b[38;5;241m.\u001b[39m_gradient_checkpointing_func(\n\u001b[1;32m    639\u001b[0m         layer_module\u001b[38;5;241m.\u001b[39m\u001b[38;5;21m__call__\u001b[39m,\n\u001b[1;32m    640\u001b[0m         hidden_states,\n\u001b[0;32m   (...)\u001b[0m\n\u001b[1;32m    646\u001b[0m         output_attentions,\n\u001b[1;32m    647\u001b[0m     )\n\u001b[1;32m    648\u001b[0m \u001b[38;5;28;01melse\u001b[39;00m:\n\u001b[0;32m--> 649\u001b[0m     layer_outputs \u001b[38;5;241m=\u001b[39m \u001b[43mlayer_module\u001b[49m\u001b[43m(\u001b[49m\n\u001b[1;32m    650\u001b[0m \u001b[43m        \u001b[49m\u001b[43mhidden_states\u001b[49m\u001b[43m,\u001b[49m\n\u001b[1;32m    651\u001b[0m \u001b[43m        \u001b[49m\u001b[43mattention_mask\u001b[49m\u001b[43m,\u001b[49m\n\u001b[1;32m    652\u001b[0m \u001b[43m        \u001b[49m\u001b[43mlayer_head_mask\u001b[49m\u001b[43m,\u001b[49m\n\u001b[1;32m    653\u001b[0m \u001b[43m        \u001b[49m\u001b[43mencoder_hidden_states\u001b[49m\u001b[43m,\u001b[49m\n\u001b[1;32m    654\u001b[0m \u001b[43m        \u001b[49m\u001b[43mencoder_attention_mask\u001b[49m\u001b[43m,\u001b[49m\n\u001b[1;32m    655\u001b[0m \u001b[43m        \u001b[49m\u001b[43mpast_key_value\u001b[49m\u001b[43m,\u001b[49m\n\u001b[1;32m    656\u001b[0m \u001b[43m        \u001b[49m\u001b[43moutput_attentions\u001b[49m\u001b[43m,\u001b[49m\n\u001b[1;32m    657\u001b[0m \u001b[43m    \u001b[49m\u001b[43m)\u001b[49m\n\u001b[1;32m    659\u001b[0m hidden_states \u001b[38;5;241m=\u001b[39m layer_outputs[\u001b[38;5;241m0\u001b[39m]\n\u001b[1;32m    660\u001b[0m \u001b[38;5;28;01mif\u001b[39;00m use_cache:\n",
      "File \u001b[0;32m~/AgroTube/.venv/lib/python3.10/site-packages/torch/nn/modules/module.py:1739\u001b[0m, in \u001b[0;36mModule._wrapped_call_impl\u001b[0;34m(self, *args, **kwargs)\u001b[0m\n\u001b[1;32m   1737\u001b[0m     \u001b[38;5;28;01mreturn\u001b[39;00m \u001b[38;5;28mself\u001b[39m\u001b[38;5;241m.\u001b[39m_compiled_call_impl(\u001b[38;5;241m*\u001b[39margs, \u001b[38;5;241m*\u001b[39m\u001b[38;5;241m*\u001b[39mkwargs)  \u001b[38;5;66;03m# type: ignore[misc]\u001b[39;00m\n\u001b[1;32m   1738\u001b[0m \u001b[38;5;28;01melse\u001b[39;00m:\n\u001b[0;32m-> 1739\u001b[0m     \u001b[38;5;28;01mreturn\u001b[39;00m \u001b[38;5;28;43mself\u001b[39;49m\u001b[38;5;241;43m.\u001b[39;49m\u001b[43m_call_impl\u001b[49m\u001b[43m(\u001b[49m\u001b[38;5;241;43m*\u001b[39;49m\u001b[43margs\u001b[49m\u001b[43m,\u001b[49m\u001b[43m \u001b[49m\u001b[38;5;241;43m*\u001b[39;49m\u001b[38;5;241;43m*\u001b[39;49m\u001b[43mkwargs\u001b[49m\u001b[43m)\u001b[49m\n",
      "File \u001b[0;32m~/AgroTube/.venv/lib/python3.10/site-packages/torch/nn/modules/module.py:1750\u001b[0m, in \u001b[0;36mModule._call_impl\u001b[0;34m(self, *args, **kwargs)\u001b[0m\n\u001b[1;32m   1745\u001b[0m \u001b[38;5;66;03m# If we don't have any hooks, we want to skip the rest of the logic in\u001b[39;00m\n\u001b[1;32m   1746\u001b[0m \u001b[38;5;66;03m# this function, and just call forward.\u001b[39;00m\n\u001b[1;32m   1747\u001b[0m \u001b[38;5;28;01mif\u001b[39;00m \u001b[38;5;129;01mnot\u001b[39;00m (\u001b[38;5;28mself\u001b[39m\u001b[38;5;241m.\u001b[39m_backward_hooks \u001b[38;5;129;01mor\u001b[39;00m \u001b[38;5;28mself\u001b[39m\u001b[38;5;241m.\u001b[39m_backward_pre_hooks \u001b[38;5;129;01mor\u001b[39;00m \u001b[38;5;28mself\u001b[39m\u001b[38;5;241m.\u001b[39m_forward_hooks \u001b[38;5;129;01mor\u001b[39;00m \u001b[38;5;28mself\u001b[39m\u001b[38;5;241m.\u001b[39m_forward_pre_hooks\n\u001b[1;32m   1748\u001b[0m         \u001b[38;5;129;01mor\u001b[39;00m _global_backward_pre_hooks \u001b[38;5;129;01mor\u001b[39;00m _global_backward_hooks\n\u001b[1;32m   1749\u001b[0m         \u001b[38;5;129;01mor\u001b[39;00m _global_forward_hooks \u001b[38;5;129;01mor\u001b[39;00m _global_forward_pre_hooks):\n\u001b[0;32m-> 1750\u001b[0m     \u001b[38;5;28;01mreturn\u001b[39;00m \u001b[43mforward_call\u001b[49m\u001b[43m(\u001b[49m\u001b[38;5;241;43m*\u001b[39;49m\u001b[43margs\u001b[49m\u001b[43m,\u001b[49m\u001b[43m \u001b[49m\u001b[38;5;241;43m*\u001b[39;49m\u001b[38;5;241;43m*\u001b[39;49m\u001b[43mkwargs\u001b[49m\u001b[43m)\u001b[49m\n\u001b[1;32m   1752\u001b[0m result \u001b[38;5;241m=\u001b[39m \u001b[38;5;28;01mNone\u001b[39;00m\n\u001b[1;32m   1753\u001b[0m called_always_called_hooks \u001b[38;5;241m=\u001b[39m \u001b[38;5;28mset\u001b[39m()\n",
      "File \u001b[0;32m~/AgroTube/.venv/lib/python3.10/site-packages/transformers/models/camembert/modeling_camembert.py:580\u001b[0m, in \u001b[0;36mCamembertLayer.forward\u001b[0;34m(self, hidden_states, attention_mask, head_mask, encoder_hidden_states, encoder_attention_mask, past_key_value, output_attentions)\u001b[0m\n\u001b[1;32m    577\u001b[0m     cross_attn_present_key_value \u001b[38;5;241m=\u001b[39m cross_attention_outputs[\u001b[38;5;241m-\u001b[39m\u001b[38;5;241m1\u001b[39m]\n\u001b[1;32m    578\u001b[0m     present_key_value \u001b[38;5;241m=\u001b[39m present_key_value \u001b[38;5;241m+\u001b[39m cross_attn_present_key_value\n\u001b[0;32m--> 580\u001b[0m layer_output \u001b[38;5;241m=\u001b[39m \u001b[43mapply_chunking_to_forward\u001b[49m\u001b[43m(\u001b[49m\n\u001b[1;32m    581\u001b[0m \u001b[43m    \u001b[49m\u001b[38;5;28;43mself\u001b[39;49m\u001b[38;5;241;43m.\u001b[39;49m\u001b[43mfeed_forward_chunk\u001b[49m\u001b[43m,\u001b[49m\u001b[43m \u001b[49m\u001b[38;5;28;43mself\u001b[39;49m\u001b[38;5;241;43m.\u001b[39;49m\u001b[43mchunk_size_feed_forward\u001b[49m\u001b[43m,\u001b[49m\u001b[43m \u001b[49m\u001b[38;5;28;43mself\u001b[39;49m\u001b[38;5;241;43m.\u001b[39;49m\u001b[43mseq_len_dim\u001b[49m\u001b[43m,\u001b[49m\u001b[43m \u001b[49m\u001b[43mattention_output\u001b[49m\n\u001b[1;32m    582\u001b[0m \u001b[43m\u001b[49m\u001b[43m)\u001b[49m\n\u001b[1;32m    583\u001b[0m outputs \u001b[38;5;241m=\u001b[39m (layer_output,) \u001b[38;5;241m+\u001b[39m outputs\n\u001b[1;32m    585\u001b[0m \u001b[38;5;66;03m# if decoder, return the attn key/values as the last output\u001b[39;00m\n",
      "File \u001b[0;32m~/AgroTube/.venv/lib/python3.10/site-packages/transformers/pytorch_utils.py:253\u001b[0m, in \u001b[0;36mapply_chunking_to_forward\u001b[0;34m(forward_fn, chunk_size, chunk_dim, *input_tensors)\u001b[0m\n\u001b[1;32m    250\u001b[0m     \u001b[38;5;66;03m# concatenate output at same dimension\u001b[39;00m\n\u001b[1;32m    251\u001b[0m     \u001b[38;5;28;01mreturn\u001b[39;00m torch\u001b[38;5;241m.\u001b[39mcat(output_chunks, dim\u001b[38;5;241m=\u001b[39mchunk_dim)\n\u001b[0;32m--> 253\u001b[0m \u001b[38;5;28;01mreturn\u001b[39;00m \u001b[43mforward_fn\u001b[49m\u001b[43m(\u001b[49m\u001b[38;5;241;43m*\u001b[39;49m\u001b[43minput_tensors\u001b[49m\u001b[43m)\u001b[49m\n",
      "File \u001b[0;32m~/AgroTube/.venv/lib/python3.10/site-packages/transformers/models/camembert/modeling_camembert.py:593\u001b[0m, in \u001b[0;36mCamembertLayer.feed_forward_chunk\u001b[0;34m(self, attention_output)\u001b[0m\n\u001b[1;32m    591\u001b[0m \u001b[38;5;28;01mdef\u001b[39;00m\u001b[38;5;250m \u001b[39m\u001b[38;5;21mfeed_forward_chunk\u001b[39m(\u001b[38;5;28mself\u001b[39m, attention_output):\n\u001b[1;32m    592\u001b[0m     intermediate_output \u001b[38;5;241m=\u001b[39m \u001b[38;5;28mself\u001b[39m\u001b[38;5;241m.\u001b[39mintermediate(attention_output)\n\u001b[0;32m--> 593\u001b[0m     layer_output \u001b[38;5;241m=\u001b[39m \u001b[38;5;28;43mself\u001b[39;49m\u001b[38;5;241;43m.\u001b[39;49m\u001b[43moutput\u001b[49m\u001b[43m(\u001b[49m\u001b[43mintermediate_output\u001b[49m\u001b[43m,\u001b[49m\u001b[43m \u001b[49m\u001b[43mattention_output\u001b[49m\u001b[43m)\u001b[49m\n\u001b[1;32m    594\u001b[0m     \u001b[38;5;28;01mreturn\u001b[39;00m layer_output\n",
      "File \u001b[0;32m~/AgroTube/.venv/lib/python3.10/site-packages/torch/nn/modules/module.py:1739\u001b[0m, in \u001b[0;36mModule._wrapped_call_impl\u001b[0;34m(self, *args, **kwargs)\u001b[0m\n\u001b[1;32m   1737\u001b[0m     \u001b[38;5;28;01mreturn\u001b[39;00m \u001b[38;5;28mself\u001b[39m\u001b[38;5;241m.\u001b[39m_compiled_call_impl(\u001b[38;5;241m*\u001b[39margs, \u001b[38;5;241m*\u001b[39m\u001b[38;5;241m*\u001b[39mkwargs)  \u001b[38;5;66;03m# type: ignore[misc]\u001b[39;00m\n\u001b[1;32m   1738\u001b[0m \u001b[38;5;28;01melse\u001b[39;00m:\n\u001b[0;32m-> 1739\u001b[0m     \u001b[38;5;28;01mreturn\u001b[39;00m \u001b[38;5;28;43mself\u001b[39;49m\u001b[38;5;241;43m.\u001b[39;49m\u001b[43m_call_impl\u001b[49m\u001b[43m(\u001b[49m\u001b[38;5;241;43m*\u001b[39;49m\u001b[43margs\u001b[49m\u001b[43m,\u001b[49m\u001b[43m \u001b[49m\u001b[38;5;241;43m*\u001b[39;49m\u001b[38;5;241;43m*\u001b[39;49m\u001b[43mkwargs\u001b[49m\u001b[43m)\u001b[49m\n",
      "File \u001b[0;32m~/AgroTube/.venv/lib/python3.10/site-packages/torch/nn/modules/module.py:1750\u001b[0m, in \u001b[0;36mModule._call_impl\u001b[0;34m(self, *args, **kwargs)\u001b[0m\n\u001b[1;32m   1745\u001b[0m \u001b[38;5;66;03m# If we don't have any hooks, we want to skip the rest of the logic in\u001b[39;00m\n\u001b[1;32m   1746\u001b[0m \u001b[38;5;66;03m# this function, and just call forward.\u001b[39;00m\n\u001b[1;32m   1747\u001b[0m \u001b[38;5;28;01mif\u001b[39;00m \u001b[38;5;129;01mnot\u001b[39;00m (\u001b[38;5;28mself\u001b[39m\u001b[38;5;241m.\u001b[39m_backward_hooks \u001b[38;5;129;01mor\u001b[39;00m \u001b[38;5;28mself\u001b[39m\u001b[38;5;241m.\u001b[39m_backward_pre_hooks \u001b[38;5;129;01mor\u001b[39;00m \u001b[38;5;28mself\u001b[39m\u001b[38;5;241m.\u001b[39m_forward_hooks \u001b[38;5;129;01mor\u001b[39;00m \u001b[38;5;28mself\u001b[39m\u001b[38;5;241m.\u001b[39m_forward_pre_hooks\n\u001b[1;32m   1748\u001b[0m         \u001b[38;5;129;01mor\u001b[39;00m _global_backward_pre_hooks \u001b[38;5;129;01mor\u001b[39;00m _global_backward_hooks\n\u001b[1;32m   1749\u001b[0m         \u001b[38;5;129;01mor\u001b[39;00m _global_forward_hooks \u001b[38;5;129;01mor\u001b[39;00m _global_forward_pre_hooks):\n\u001b[0;32m-> 1750\u001b[0m     \u001b[38;5;28;01mreturn\u001b[39;00m \u001b[43mforward_call\u001b[49m\u001b[43m(\u001b[49m\u001b[38;5;241;43m*\u001b[39;49m\u001b[43margs\u001b[49m\u001b[43m,\u001b[49m\u001b[43m \u001b[49m\u001b[38;5;241;43m*\u001b[39;49m\u001b[38;5;241;43m*\u001b[39;49m\u001b[43mkwargs\u001b[49m\u001b[43m)\u001b[49m\n\u001b[1;32m   1752\u001b[0m result \u001b[38;5;241m=\u001b[39m \u001b[38;5;28;01mNone\u001b[39;00m\n\u001b[1;32m   1753\u001b[0m called_always_called_hooks \u001b[38;5;241m=\u001b[39m \u001b[38;5;28mset\u001b[39m()\n",
      "File \u001b[0;32m~/AgroTube/.venv/lib/python3.10/site-packages/transformers/models/camembert/modeling_camembert.py:504\u001b[0m, in \u001b[0;36mCamembertOutput.forward\u001b[0;34m(self, hidden_states, input_tensor)\u001b[0m\n\u001b[1;32m    503\u001b[0m \u001b[38;5;28;01mdef\u001b[39;00m\u001b[38;5;250m \u001b[39m\u001b[38;5;21mforward\u001b[39m(\u001b[38;5;28mself\u001b[39m, hidden_states: torch\u001b[38;5;241m.\u001b[39mTensor, input_tensor: torch\u001b[38;5;241m.\u001b[39mTensor) \u001b[38;5;241m-\u001b[39m\u001b[38;5;241m>\u001b[39m torch\u001b[38;5;241m.\u001b[39mTensor:\n\u001b[0;32m--> 504\u001b[0m     hidden_states \u001b[38;5;241m=\u001b[39m \u001b[38;5;28;43mself\u001b[39;49m\u001b[38;5;241;43m.\u001b[39;49m\u001b[43mdense\u001b[49m\u001b[43m(\u001b[49m\u001b[43mhidden_states\u001b[49m\u001b[43m)\u001b[49m\n\u001b[1;32m    505\u001b[0m     hidden_states \u001b[38;5;241m=\u001b[39m \u001b[38;5;28mself\u001b[39m\u001b[38;5;241m.\u001b[39mdropout(hidden_states)\n\u001b[1;32m    506\u001b[0m     hidden_states \u001b[38;5;241m=\u001b[39m \u001b[38;5;28mself\u001b[39m\u001b[38;5;241m.\u001b[39mLayerNorm(hidden_states \u001b[38;5;241m+\u001b[39m input_tensor)\n",
      "File \u001b[0;32m~/AgroTube/.venv/lib/python3.10/site-packages/torch/nn/modules/module.py:1739\u001b[0m, in \u001b[0;36mModule._wrapped_call_impl\u001b[0;34m(self, *args, **kwargs)\u001b[0m\n\u001b[1;32m   1737\u001b[0m     \u001b[38;5;28;01mreturn\u001b[39;00m \u001b[38;5;28mself\u001b[39m\u001b[38;5;241m.\u001b[39m_compiled_call_impl(\u001b[38;5;241m*\u001b[39margs, \u001b[38;5;241m*\u001b[39m\u001b[38;5;241m*\u001b[39mkwargs)  \u001b[38;5;66;03m# type: ignore[misc]\u001b[39;00m\n\u001b[1;32m   1738\u001b[0m \u001b[38;5;28;01melse\u001b[39;00m:\n\u001b[0;32m-> 1739\u001b[0m     \u001b[38;5;28;01mreturn\u001b[39;00m \u001b[38;5;28;43mself\u001b[39;49m\u001b[38;5;241;43m.\u001b[39;49m\u001b[43m_call_impl\u001b[49m\u001b[43m(\u001b[49m\u001b[38;5;241;43m*\u001b[39;49m\u001b[43margs\u001b[49m\u001b[43m,\u001b[49m\u001b[43m \u001b[49m\u001b[38;5;241;43m*\u001b[39;49m\u001b[38;5;241;43m*\u001b[39;49m\u001b[43mkwargs\u001b[49m\u001b[43m)\u001b[49m\n",
      "File \u001b[0;32m~/AgroTube/.venv/lib/python3.10/site-packages/torch/nn/modules/module.py:1750\u001b[0m, in \u001b[0;36mModule._call_impl\u001b[0;34m(self, *args, **kwargs)\u001b[0m\n\u001b[1;32m   1745\u001b[0m \u001b[38;5;66;03m# If we don't have any hooks, we want to skip the rest of the logic in\u001b[39;00m\n\u001b[1;32m   1746\u001b[0m \u001b[38;5;66;03m# this function, and just call forward.\u001b[39;00m\n\u001b[1;32m   1747\u001b[0m \u001b[38;5;28;01mif\u001b[39;00m \u001b[38;5;129;01mnot\u001b[39;00m (\u001b[38;5;28mself\u001b[39m\u001b[38;5;241m.\u001b[39m_backward_hooks \u001b[38;5;129;01mor\u001b[39;00m \u001b[38;5;28mself\u001b[39m\u001b[38;5;241m.\u001b[39m_backward_pre_hooks \u001b[38;5;129;01mor\u001b[39;00m \u001b[38;5;28mself\u001b[39m\u001b[38;5;241m.\u001b[39m_forward_hooks \u001b[38;5;129;01mor\u001b[39;00m \u001b[38;5;28mself\u001b[39m\u001b[38;5;241m.\u001b[39m_forward_pre_hooks\n\u001b[1;32m   1748\u001b[0m         \u001b[38;5;129;01mor\u001b[39;00m _global_backward_pre_hooks \u001b[38;5;129;01mor\u001b[39;00m _global_backward_hooks\n\u001b[1;32m   1749\u001b[0m         \u001b[38;5;129;01mor\u001b[39;00m _global_forward_hooks \u001b[38;5;129;01mor\u001b[39;00m _global_forward_pre_hooks):\n\u001b[0;32m-> 1750\u001b[0m     \u001b[38;5;28;01mreturn\u001b[39;00m \u001b[43mforward_call\u001b[49m\u001b[43m(\u001b[49m\u001b[38;5;241;43m*\u001b[39;49m\u001b[43margs\u001b[49m\u001b[43m,\u001b[49m\u001b[43m \u001b[49m\u001b[38;5;241;43m*\u001b[39;49m\u001b[38;5;241;43m*\u001b[39;49m\u001b[43mkwargs\u001b[49m\u001b[43m)\u001b[49m\n\u001b[1;32m   1752\u001b[0m result \u001b[38;5;241m=\u001b[39m \u001b[38;5;28;01mNone\u001b[39;00m\n\u001b[1;32m   1753\u001b[0m called_always_called_hooks \u001b[38;5;241m=\u001b[39m \u001b[38;5;28mset\u001b[39m()\n",
      "File \u001b[0;32m~/AgroTube/.venv/lib/python3.10/site-packages/torch/nn/modules/linear.py:125\u001b[0m, in \u001b[0;36mLinear.forward\u001b[0;34m(self, input)\u001b[0m\n\u001b[1;32m    124\u001b[0m \u001b[38;5;28;01mdef\u001b[39;00m\u001b[38;5;250m \u001b[39m\u001b[38;5;21mforward\u001b[39m(\u001b[38;5;28mself\u001b[39m, \u001b[38;5;28minput\u001b[39m: Tensor) \u001b[38;5;241m-\u001b[39m\u001b[38;5;241m>\u001b[39m Tensor:\n\u001b[0;32m--> 125\u001b[0m     \u001b[38;5;28;01mreturn\u001b[39;00m \u001b[43mF\u001b[49m\u001b[38;5;241;43m.\u001b[39;49m\u001b[43mlinear\u001b[49m\u001b[43m(\u001b[49m\u001b[38;5;28;43minput\u001b[39;49m\u001b[43m,\u001b[49m\u001b[43m \u001b[49m\u001b[38;5;28;43mself\u001b[39;49m\u001b[38;5;241;43m.\u001b[39;49m\u001b[43mweight\u001b[49m\u001b[43m,\u001b[49m\u001b[43m \u001b[49m\u001b[38;5;28;43mself\u001b[39;49m\u001b[38;5;241;43m.\u001b[39;49m\u001b[43mbias\u001b[49m\u001b[43m)\u001b[49m\n",
      "\u001b[0;31mKeyboardInterrupt\u001b[0m: "
     ]
    }
   ],
   "source": [
    "videosF2 = openJson(\"../jsons/videosF2.json\")\n",
    "scores = {}\n",
    "for video in tqdm(videosF2):\n",
    "    context = video['titre_video'] + video['description'] + ' '.join(video['tags'])\n",
    "    score = calculateSimilarity(context,documents)\n",
    "    print(score,'  ',video['id_video'])\n",
    "    scores[video['id_video']]=score\n"
   ]
  },
  {
   "cell_type": "code",
   "execution_count": 17,
   "id": "f8579331",
   "metadata": {},
   "outputs": [
    {
     "name": "stderr",
     "output_type": "stream",
     "text": [
      "  0%|          | 0/4504 [00:00<?, ?it/s]"
     ]
    },
    {
     "name": "stderr",
     "output_type": "stream",
     "text": [
      "  0%|          | 1/4504 [00:02<3:40:20,  2.94s/it]"
     ]
    },
    {
     "name": "stdout",
     "output_type": "stream",
     "text": [
      "0.24666140973567963    NRzflSM89iI\n"
     ]
    },
    {
     "name": "stderr",
     "output_type": "stream",
     "text": [
      "  0%|          | 2/4504 [00:04<2:34:56,  2.06s/it]"
     ]
    },
    {
     "name": "stdout",
     "output_type": "stream",
     "text": [
      "0.2544892728328705    6CI-4_XszYg\n"
     ]
    },
    {
     "name": "stderr",
     "output_type": "stream",
     "text": [
      "  0%|          | 3/4504 [00:05<2:09:21,  1.72s/it]"
     ]
    },
    {
     "name": "stdout",
     "output_type": "stream",
     "text": [
      "0.3018917739391327    E1Zo4dBPbGM\n"
     ]
    },
    {
     "name": "stderr",
     "output_type": "stream",
     "text": [
      "  0%|          | 4/4504 [00:06<1:41:36,  1.35s/it]"
     ]
    },
    {
     "name": "stdout",
     "output_type": "stream",
     "text": [
      "0.25268277525901794    z35x21dbhsw\n"
     ]
    },
    {
     "name": "stderr",
     "output_type": "stream",
     "text": [
      "  0%|          | 5/4504 [00:07<1:23:57,  1.12s/it]"
     ]
    },
    {
     "name": "stdout",
     "output_type": "stream",
     "text": [
      "0.2886052131652832    iF3O2TSheXI\n"
     ]
    },
    {
     "name": "stderr",
     "output_type": "stream",
     "text": [
      "  0%|          | 6/4504 [00:07<1:13:00,  1.03it/s]"
     ]
    },
    {
     "name": "stdout",
     "output_type": "stream",
     "text": [
      "0.3012021481990814    9nl8mw96R90\n"
     ]
    },
    {
     "name": "stderr",
     "output_type": "stream",
     "text": [
      "  0%|          | 7/4504 [00:08<1:10:08,  1.07it/s]"
     ]
    },
    {
     "name": "stdout",
     "output_type": "stream",
     "text": [
      "0.27946367859840393    viSl4Gv9mqU\n"
     ]
    },
    {
     "name": "stderr",
     "output_type": "stream",
     "text": [
      "  0%|          | 8/4504 [00:09<1:08:49,  1.09it/s]"
     ]
    },
    {
     "name": "stdout",
     "output_type": "stream",
     "text": [
      "0.16324396431446075    A31isr90nNI\n"
     ]
    },
    {
     "name": "stderr",
     "output_type": "stream",
     "text": [
      "  0%|          | 9/4504 [00:10<1:10:35,  1.06it/s]"
     ]
    },
    {
     "name": "stdout",
     "output_type": "stream",
     "text": [
      "0.18646736443042755    9-pbc-zRdss\n"
     ]
    },
    {
     "name": "stderr",
     "output_type": "stream",
     "text": [
      "  0%|          | 10/4504 [00:11<1:15:23,  1.01s/it]"
     ]
    },
    {
     "name": "stdout",
     "output_type": "stream",
     "text": [
      "0.18015508353710175    _l191QtAqlc\n"
     ]
    },
    {
     "name": "stderr",
     "output_type": "stream",
     "text": [
      "  0%|          | 11/4504 [00:12<1:14:20,  1.01it/s]"
     ]
    },
    {
     "name": "stdout",
     "output_type": "stream",
     "text": [
      "0.21390224993228912    -5ahOCpQi-k\n"
     ]
    },
    {
     "name": "stderr",
     "output_type": "stream",
     "text": [
      "  0%|          | 12/4504 [00:13<1:07:48,  1.10it/s]"
     ]
    },
    {
     "name": "stdout",
     "output_type": "stream",
     "text": [
      "0.19297100603580475    7dO0lOOPZVw\n"
     ]
    },
    {
     "name": "stderr",
     "output_type": "stream",
     "text": [
      "  0%|          | 13/4504 [00:14<1:09:11,  1.08it/s]"
     ]
    },
    {
     "name": "stdout",
     "output_type": "stream",
     "text": [
      "0.15504805743694305    pCf8PjSn6xs\n"
     ]
    },
    {
     "name": "stderr",
     "output_type": "stream",
     "text": [
      "  0%|          | 14/4504 [00:15<1:06:17,  1.13it/s]"
     ]
    },
    {
     "name": "stdout",
     "output_type": "stream",
     "text": [
      "0.16446198523044586    YER-2qYt2B0\n"
     ]
    },
    {
     "name": "stderr",
     "output_type": "stream",
     "text": [
      "  0%|          | 15/4504 [00:15<1:03:22,  1.18it/s]"
     ]
    },
    {
     "name": "stdout",
     "output_type": "stream",
     "text": [
      "0.10104575753211975    lSoWicUMVlM\n"
     ]
    },
    {
     "name": "stderr",
     "output_type": "stream",
     "text": [
      "  0%|          | 16/4504 [00:16<1:01:09,  1.22it/s]"
     ]
    },
    {
     "name": "stdout",
     "output_type": "stream",
     "text": [
      "0.2351469248533249    G4_vmWaSU3Q\n"
     ]
    },
    {
     "name": "stderr",
     "output_type": "stream",
     "text": [
      "  0%|          | 17/4504 [00:17<1:03:34,  1.18it/s]"
     ]
    },
    {
     "name": "stdout",
     "output_type": "stream",
     "text": [
      "0.22625233232975006    CbPHyfHqIHw\n"
     ]
    },
    {
     "name": "stderr",
     "output_type": "stream",
     "text": [
      "  0%|          | 18/4504 [00:19<1:32:30,  1.24s/it]"
     ]
    },
    {
     "name": "stdout",
     "output_type": "stream",
     "text": [
      "0.25443193316459656    yu5wQ_e1UMo\n"
     ]
    },
    {
     "name": "stderr",
     "output_type": "stream",
     "text": [
      "  0%|          | 19/4504 [00:20<1:27:31,  1.17s/it]"
     ]
    },
    {
     "name": "stdout",
     "output_type": "stream",
     "text": [
      "0.21378415822982788    1UvvwnWkFho\n"
     ]
    },
    {
     "name": "stderr",
     "output_type": "stream",
     "text": [
      "  0%|          | 20/4504 [00:21<1:19:53,  1.07s/it]"
     ]
    },
    {
     "name": "stdout",
     "output_type": "stream",
     "text": [
      "0.13367758691310883    tbrycDTUECg\n"
     ]
    },
    {
     "name": "stderr",
     "output_type": "stream",
     "text": [
      "  0%|          | 21/4504 [00:22<1:09:47,  1.07it/s]"
     ]
    },
    {
     "name": "stdout",
     "output_type": "stream",
     "text": [
      "0.08641704171895981    e2gMKuiDxQY\n"
     ]
    },
    {
     "name": "stderr",
     "output_type": "stream",
     "text": [
      "  0%|          | 22/4504 [00:23<1:07:53,  1.10it/s]"
     ]
    },
    {
     "name": "stdout",
     "output_type": "stream",
     "text": [
      "0.23149611055850983    VmaB1cxsLxA\n"
     ]
    },
    {
     "name": "stderr",
     "output_type": "stream",
     "text": [
      "  1%|          | 23/4504 [00:24<1:07:45,  1.10it/s]"
     ]
    },
    {
     "name": "stdout",
     "output_type": "stream",
     "text": [
      "0.26428404450416565    -PYlxVfbEGA\n"
     ]
    },
    {
     "name": "stderr",
     "output_type": "stream",
     "text": [
      "  1%|          | 24/4504 [00:24<1:04:34,  1.16it/s]"
     ]
    },
    {
     "name": "stdout",
     "output_type": "stream",
     "text": [
      "0.10859186202287674    IG35vKlx0U0\n"
     ]
    },
    {
     "name": "stderr",
     "output_type": "stream",
     "text": [
      "  1%|          | 25/4504 [00:25<1:09:18,  1.08it/s]"
     ]
    },
    {
     "name": "stdout",
     "output_type": "stream",
     "text": [
      "0.23291051387786865    EyExd5h_j3M\n"
     ]
    },
    {
     "name": "stderr",
     "output_type": "stream",
     "text": [
      "  1%|          | 26/4504 [00:26<1:14:00,  1.01it/s]"
     ]
    },
    {
     "name": "stdout",
     "output_type": "stream",
     "text": [
      "0.19022810459136963    pzMvlEuc7xc\n"
     ]
    },
    {
     "name": "stderr",
     "output_type": "stream",
     "text": [
      "  1%|          | 27/4504 [00:27<1:08:18,  1.09it/s]"
     ]
    },
    {
     "name": "stdout",
     "output_type": "stream",
     "text": [
      "0.2569611966609955    -6ecq5hc5ig\n"
     ]
    },
    {
     "name": "stderr",
     "output_type": "stream",
     "text": [
      "  1%|          | 28/4504 [00:28<1:04:24,  1.16it/s]"
     ]
    },
    {
     "name": "stdout",
     "output_type": "stream",
     "text": [
      "0.2880748510360718    gjcxL3mVVe0\n"
     ]
    },
    {
     "name": "stderr",
     "output_type": "stream",
     "text": [
      "  1%|          | 29/4504 [00:29<59:55,  1.24it/s]  "
     ]
    },
    {
     "name": "stdout",
     "output_type": "stream",
     "text": [
      "0.15027040243148804    VC0jyL7qnDU\n"
     ]
    },
    {
     "name": "stderr",
     "output_type": "stream",
     "text": [
      "  1%|          | 30/4504 [00:29<58:18,  1.28it/s]"
     ]
    },
    {
     "name": "stdout",
     "output_type": "stream",
     "text": [
      "0.2617793083190918    1Tur0zcDnvU\n"
     ]
    },
    {
     "name": "stderr",
     "output_type": "stream",
     "text": [
      "  1%|          | 31/4504 [00:30<59:15,  1.26it/s]"
     ]
    },
    {
     "name": "stdout",
     "output_type": "stream",
     "text": [
      "0.20479021966457367    XYZwomaR3ns\n"
     ]
    },
    {
     "name": "stderr",
     "output_type": "stream",
     "text": [
      "  1%|          | 32/4504 [00:31<59:39,  1.25it/s]"
     ]
    },
    {
     "name": "stdout",
     "output_type": "stream",
     "text": [
      "0.2811856269836426    0nZyupbiRVQ\n"
     ]
    },
    {
     "name": "stderr",
     "output_type": "stream",
     "text": [
      "  1%|          | 33/4504 [00:32<1:03:35,  1.17it/s]"
     ]
    },
    {
     "name": "stdout",
     "output_type": "stream",
     "text": [
      "0.1956884264945984    LJP8bYpCBPI\n"
     ]
    },
    {
     "name": "stderr",
     "output_type": "stream",
     "text": [
      "  1%|          | 34/4504 [00:33<1:04:20,  1.16it/s]"
     ]
    },
    {
     "name": "stdout",
     "output_type": "stream",
     "text": [
      "0.1934119462966919    7ZnBr3v59Iw\n"
     ]
    },
    {
     "name": "stderr",
     "output_type": "stream",
     "text": [
      "  1%|          | 35/4504 [00:34<1:01:05,  1.22it/s]"
     ]
    },
    {
     "name": "stdout",
     "output_type": "stream",
     "text": [
      "0.07198984175920486    HkpV4V4dYOw\n"
     ]
    },
    {
     "name": "stderr",
     "output_type": "stream",
     "text": [
      "  1%|          | 36/4504 [00:34<59:38,  1.25it/s]  "
     ]
    },
    {
     "name": "stdout",
     "output_type": "stream",
     "text": [
      "0.27434542775154114    ayUMX5QFZBs\n"
     ]
    },
    {
     "name": "stderr",
     "output_type": "stream",
     "text": [
      "  1%|          | 37/4504 [00:35<1:00:34,  1.23it/s]"
     ]
    },
    {
     "name": "stdout",
     "output_type": "stream",
     "text": [
      "0.13600905239582062    Wcgs5XjxzFs\n"
     ]
    },
    {
     "name": "stderr",
     "output_type": "stream",
     "text": [
      "  1%|          | 38/4504 [00:36<1:02:26,  1.19it/s]"
     ]
    },
    {
     "name": "stdout",
     "output_type": "stream",
     "text": [
      "0.18514300882816315    vJSzXIPoOkw\n"
     ]
    },
    {
     "name": "stderr",
     "output_type": "stream",
     "text": [
      "  1%|          | 39/4504 [00:37<1:01:02,  1.22it/s]"
     ]
    },
    {
     "name": "stdout",
     "output_type": "stream",
     "text": [
      "0.17944888770580292    aZusRHXECMY\n"
     ]
    },
    {
     "name": "stderr",
     "output_type": "stream",
     "text": [
      "  1%|          | 40/4504 [00:38<59:57,  1.24it/s]  "
     ]
    },
    {
     "name": "stdout",
     "output_type": "stream",
     "text": [
      "0.1815786212682724    LifnAsRRY4E\n"
     ]
    },
    {
     "name": "stderr",
     "output_type": "stream",
     "text": [
      "  1%|          | 41/4504 [00:39<1:16:38,  1.03s/it]"
     ]
    },
    {
     "name": "stdout",
     "output_type": "stream",
     "text": [
      "0.045952245593070984    EMKZk61uA0w\n"
     ]
    },
    {
     "name": "stderr",
     "output_type": "stream",
     "text": [
      "  1%|          | 42/4504 [00:41<1:25:07,  1.14s/it]"
     ]
    },
    {
     "name": "stdout",
     "output_type": "stream",
     "text": [
      "0.129450261592865    U7RY1lzS6us\n"
     ]
    },
    {
     "name": "stderr",
     "output_type": "stream",
     "text": [
      "  1%|          | 43/4504 [00:41<1:15:55,  1.02s/it]"
     ]
    },
    {
     "name": "stdout",
     "output_type": "stream",
     "text": [
      "0.1064584031701088    _3X3muyDFKY\n"
     ]
    },
    {
     "name": "stderr",
     "output_type": "stream",
     "text": [
      "  1%|          | 44/4504 [00:42<1:08:49,  1.08it/s]"
     ]
    },
    {
     "name": "stdout",
     "output_type": "stream",
     "text": [
      "0.21849264204502106    W79c-I7vqFI\n"
     ]
    },
    {
     "name": "stderr",
     "output_type": "stream",
     "text": [
      "  1%|          | 45/4504 [00:43<1:04:12,  1.16it/s]"
     ]
    },
    {
     "name": "stdout",
     "output_type": "stream",
     "text": [
      "0.05574826896190643    8ChX6276Rhk\n"
     ]
    },
    {
     "name": "stderr",
     "output_type": "stream",
     "text": [
      "  1%|          | 46/4504 [00:44<1:02:14,  1.19it/s]"
     ]
    },
    {
     "name": "stdout",
     "output_type": "stream",
     "text": [
      "0.20310012996196747    M92CPBXG0U0\n"
     ]
    },
    {
     "name": "stderr",
     "output_type": "stream",
     "text": [
      "  1%|          | 47/4504 [00:44<1:04:15,  1.16it/s]"
     ]
    },
    {
     "name": "stdout",
     "output_type": "stream",
     "text": [
      "0.2922811806201935    FZBgBkMdgTg\n"
     ]
    },
    {
     "name": "stderr",
     "output_type": "stream",
     "text": [
      "  1%|          | 48/4504 [00:45<1:01:12,  1.21it/s]"
     ]
    },
    {
     "name": "stdout",
     "output_type": "stream",
     "text": [
      "0.11429282277822495    BCENbxCl7XU\n"
     ]
    },
    {
     "name": "stderr",
     "output_type": "stream",
     "text": [
      "  1%|          | 49/4504 [00:46<1:02:27,  1.19it/s]"
     ]
    },
    {
     "name": "stdout",
     "output_type": "stream",
     "text": [
      "0.2583397328853607    ihOZZgTg9hg\n"
     ]
    },
    {
     "name": "stderr",
     "output_type": "stream",
     "text": [
      "  1%|          | 50/4504 [00:47<1:04:53,  1.14it/s]"
     ]
    },
    {
     "name": "stdout",
     "output_type": "stream",
     "text": [
      "0.18150430917739868    NgdYYbRCtrc\n"
     ]
    },
    {
     "name": "stderr",
     "output_type": "stream",
     "text": [
      "  1%|          | 51/4504 [00:48<1:13:49,  1.01it/s]"
     ]
    },
    {
     "name": "stdout",
     "output_type": "stream",
     "text": [
      "0.17618316411972046    3KxD8q2oWVc\n"
     ]
    },
    {
     "name": "stderr",
     "output_type": "stream",
     "text": [
      "  1%|          | 52/4504 [00:49<1:13:11,  1.01it/s]"
     ]
    },
    {
     "name": "stdout",
     "output_type": "stream",
     "text": [
      "0.21890123188495636    5nsdQucYdak\n"
     ]
    },
    {
     "name": "stderr",
     "output_type": "stream",
     "text": [
      "  1%|          | 53/4504 [00:51<1:21:13,  1.09s/it]"
     ]
    },
    {
     "name": "stdout",
     "output_type": "stream",
     "text": [
      "0.33847105503082275    XDvc6vkvKJU\n"
     ]
    },
    {
     "name": "stderr",
     "output_type": "stream",
     "text": [
      "  1%|          | 54/4504 [00:51<1:15:40,  1.02s/it]"
     ]
    },
    {
     "name": "stdout",
     "output_type": "stream",
     "text": [
      "0.27322500944137573    85i3qfuDK1g\n"
     ]
    },
    {
     "name": "stderr",
     "output_type": "stream",
     "text": [
      "  1%|          | 55/4504 [00:52<1:10:19,  1.05it/s]"
     ]
    },
    {
     "name": "stdout",
     "output_type": "stream",
     "text": [
      "0.17660582065582275    jLlyOeOrIzA\n"
     ]
    },
    {
     "name": "stderr",
     "output_type": "stream",
     "text": [
      "  1%|          | 56/4504 [00:53<1:16:38,  1.03s/it]"
     ]
    },
    {
     "name": "stdout",
     "output_type": "stream",
     "text": [
      "0.16302619874477386    sOTzAnxcohI\n"
     ]
    },
    {
     "name": "stderr",
     "output_type": "stream",
     "text": [
      "  1%|▏         | 57/4504 [00:55<1:35:04,  1.28s/it]"
     ]
    },
    {
     "name": "stdout",
     "output_type": "stream",
     "text": [
      "0.1647396832704544    NHLziogcmNA\n"
     ]
    },
    {
     "name": "stderr",
     "output_type": "stream",
     "text": [
      "  1%|▏         | 58/4504 [00:56<1:30:36,  1.22s/it]"
     ]
    },
    {
     "name": "stdout",
     "output_type": "stream",
     "text": [
      "0.2439260631799698    B9oMHIbBJaQ\n"
     ]
    },
    {
     "name": "stderr",
     "output_type": "stream",
     "text": [
      "  1%|▏         | 59/4504 [00:58<1:38:15,  1.33s/it]"
     ]
    },
    {
     "name": "stdout",
     "output_type": "stream",
     "text": [
      "0.2668727934360504    -cmVPa6vrHM\n"
     ]
    },
    {
     "name": "stderr",
     "output_type": "stream",
     "text": [
      "  1%|▏         | 60/4504 [00:59<1:32:41,  1.25s/it]"
     ]
    },
    {
     "name": "stdout",
     "output_type": "stream",
     "text": [
      "0.1402226686477661    nTi-xbAEjOw\n"
     ]
    },
    {
     "name": "stderr",
     "output_type": "stream",
     "text": [
      "  1%|▏         | 61/4504 [01:00<1:29:55,  1.21s/it]"
     ]
    },
    {
     "name": "stdout",
     "output_type": "stream",
     "text": [
      "0.22587426006793976    -v1RyFcWmp8\n"
     ]
    },
    {
     "name": "stderr",
     "output_type": "stream",
     "text": [
      "  1%|▏         | 62/4504 [01:02<1:53:44,  1.54s/it]"
     ]
    },
    {
     "name": "stdout",
     "output_type": "stream",
     "text": [
      "0.180482879281044    krNa-Re4Hlw\n"
     ]
    },
    {
     "name": "stderr",
     "output_type": "stream",
     "text": [
      "  1%|▏         | 63/4504 [01:04<1:43:12,  1.39s/it]"
     ]
    },
    {
     "name": "stdout",
     "output_type": "stream",
     "text": [
      "0.19081997871398926    YakXcfaE9YA\n"
     ]
    },
    {
     "name": "stderr",
     "output_type": "stream",
     "text": [
      "  1%|▏         | 64/4504 [01:05<1:33:49,  1.27s/it]"
     ]
    },
    {
     "name": "stdout",
     "output_type": "stream",
     "text": [
      "0.18455761671066284    VbhHpgDrPD0\n"
     ]
    },
    {
     "name": "stderr",
     "output_type": "stream",
     "text": [
      "  1%|▏         | 65/4504 [01:05<1:25:07,  1.15s/it]"
     ]
    },
    {
     "name": "stdout",
     "output_type": "stream",
     "text": [
      "0.3738349378108978    SBmubDSyn3Q\n"
     ]
    },
    {
     "name": "stderr",
     "output_type": "stream",
     "text": [
      "  1%|▏         | 66/4504 [01:06<1:15:57,  1.03s/it]"
     ]
    },
    {
     "name": "stdout",
     "output_type": "stream",
     "text": [
      "0.24123822152614594    XvsQoaumzNg\n"
     ]
    },
    {
     "name": "stderr",
     "output_type": "stream",
     "text": [
      "  1%|▏         | 67/4504 [01:07<1:12:48,  1.02it/s]"
     ]
    },
    {
     "name": "stdout",
     "output_type": "stream",
     "text": [
      "0.22535176575183868    3qYQJQEU2Pk\n"
     ]
    },
    {
     "name": "stderr",
     "output_type": "stream",
     "text": [
      "  2%|▏         | 68/4504 [01:08<1:09:55,  1.06it/s]"
     ]
    },
    {
     "name": "stdout",
     "output_type": "stream",
     "text": [
      "0.28872933983802795    LimuekuregU\n"
     ]
    },
    {
     "name": "stderr",
     "output_type": "stream",
     "text": [
      "  2%|▏         | 69/4504 [01:08<1:01:34,  1.20it/s]"
     ]
    },
    {
     "name": "stdout",
     "output_type": "stream",
     "text": [
      "0.12214169651269913    f1Lj91M5U6E\n"
     ]
    },
    {
     "name": "stderr",
     "output_type": "stream",
     "text": [
      "  2%|▏         | 70/4504 [01:09<1:03:21,  1.17it/s]"
     ]
    },
    {
     "name": "stdout",
     "output_type": "stream",
     "text": [
      "0.22640885412693024    3fVTRIFiCck\n"
     ]
    },
    {
     "name": "stderr",
     "output_type": "stream",
     "text": [
      "  2%|▏         | 71/4504 [01:10<1:09:25,  1.06it/s]"
     ]
    },
    {
     "name": "stdout",
     "output_type": "stream",
     "text": [
      "0.2330329418182373    efy2uUZG7JQ\n"
     ]
    },
    {
     "name": "stderr",
     "output_type": "stream",
     "text": [
      "  2%|▏         | 72/4504 [01:11<1:06:42,  1.11it/s]"
     ]
    },
    {
     "name": "stdout",
     "output_type": "stream",
     "text": [
      "0.23125465214252472    A6ULOgGvSmk\n"
     ]
    },
    {
     "name": "stderr",
     "output_type": "stream",
     "text": [
      "  2%|▏         | 73/4504 [01:12<1:02:57,  1.17it/s]"
     ]
    },
    {
     "name": "stdout",
     "output_type": "stream",
     "text": [
      "0.17402029037475586    uPIyZCw-Odk\n"
     ]
    },
    {
     "name": "stderr",
     "output_type": "stream",
     "text": [
      "  2%|▏         | 74/4504 [01:13<1:02:51,  1.17it/s]"
     ]
    },
    {
     "name": "stdout",
     "output_type": "stream",
     "text": [
      "0.2546558380126953    T6cFPxLRkTs\n"
     ]
    },
    {
     "name": "stderr",
     "output_type": "stream",
     "text": [
      "  2%|▏         | 75/4504 [01:14<57:53,  1.27it/s]  "
     ]
    },
    {
     "name": "stdout",
     "output_type": "stream",
     "text": [
      "0.24425213038921356    7bb-3Y96Ixw\n"
     ]
    },
    {
     "name": "stderr",
     "output_type": "stream",
     "text": [
      "  2%|▏         | 76/4504 [01:14<56:42,  1.30it/s]"
     ]
    },
    {
     "name": "stdout",
     "output_type": "stream",
     "text": [
      "0.29708361625671387    ftyO41TYOI0\n"
     ]
    },
    {
     "name": "stderr",
     "output_type": "stream",
     "text": [
      "  2%|▏         | 77/4504 [01:15<57:40,  1.28it/s]"
     ]
    },
    {
     "name": "stdout",
     "output_type": "stream",
     "text": [
      "0.23494400084018707    _eQmH7eqT64\n"
     ]
    },
    {
     "name": "stderr",
     "output_type": "stream",
     "text": [
      "  2%|▏         | 78/4504 [01:17<1:12:35,  1.02it/s]"
     ]
    },
    {
     "name": "stdout",
     "output_type": "stream",
     "text": [
      "0.2984417974948883    Zyv99CUSe0M\n"
     ]
    },
    {
     "name": "stderr",
     "output_type": "stream",
     "text": [
      "  2%|▏         | 79/4504 [01:18<1:31:27,  1.24s/it]"
     ]
    },
    {
     "name": "stdout",
     "output_type": "stream",
     "text": [
      "0.26983991265296936    MrpGaGb-iFY\n"
     ]
    },
    {
     "name": "stderr",
     "output_type": "stream",
     "text": [
      "  2%|▏         | 80/4504 [01:19<1:22:16,  1.12s/it]"
     ]
    },
    {
     "name": "stdout",
     "output_type": "stream",
     "text": [
      "0.18462027609348297    IJ5YTqI3fqY\n"
     ]
    },
    {
     "name": "stderr",
     "output_type": "stream",
     "text": [
      "  2%|▏         | 81/4504 [01:20<1:14:23,  1.01s/it]"
     ]
    },
    {
     "name": "stdout",
     "output_type": "stream",
     "text": [
      "0.1870443969964981    N8dPyKqeQvQ\n"
     ]
    },
    {
     "name": "stderr",
     "output_type": "stream",
     "text": [
      "  2%|▏         | 82/4504 [01:21<1:08:36,  1.07it/s]"
     ]
    },
    {
     "name": "stdout",
     "output_type": "stream",
     "text": [
      "0.2803082764148712    eH8bnmclXGo\n"
     ]
    },
    {
     "name": "stderr",
     "output_type": "stream",
     "text": [
      "  2%|▏         | 83/4504 [01:21<1:05:06,  1.13it/s]"
     ]
    },
    {
     "name": "stdout",
     "output_type": "stream",
     "text": [
      "0.16208992898464203    ERTG4JexXLw\n"
     ]
    },
    {
     "name": "stderr",
     "output_type": "stream",
     "text": [
      "  2%|▏         | 84/4504 [01:22<1:01:10,  1.20it/s]"
     ]
    },
    {
     "name": "stdout",
     "output_type": "stream",
     "text": [
      "0.2966439425945282    i4cpZ76nnf8\n"
     ]
    },
    {
     "name": "stderr",
     "output_type": "stream",
     "text": [
      "  2%|▏         | 85/4504 [01:23<59:56,  1.23it/s]  "
     ]
    },
    {
     "name": "stdout",
     "output_type": "stream",
     "text": [
      "0.29749688506126404    9Wi53NrNL04\n"
     ]
    },
    {
     "name": "stderr",
     "output_type": "stream",
     "text": [
      "  2%|▏         | 86/4504 [01:24<1:06:14,  1.11it/s]"
     ]
    },
    {
     "name": "stdout",
     "output_type": "stream",
     "text": [
      "0.2691712975502014    KynhuzSEtqU\n"
     ]
    },
    {
     "name": "stderr",
     "output_type": "stream",
     "text": [
      "  2%|▏         | 87/4504 [01:25<1:14:03,  1.01s/it]"
     ]
    },
    {
     "name": "stdout",
     "output_type": "stream",
     "text": [
      "0.2261364459991455    IetnX1zHuWE\n"
     ]
    },
    {
     "name": "stderr",
     "output_type": "stream",
     "text": [
      "  2%|▏         | 88/4504 [01:26<1:10:59,  1.04it/s]"
     ]
    },
    {
     "name": "stdout",
     "output_type": "stream",
     "text": [
      "0.1396729201078415    wpjiT-hCfR4\n"
     ]
    },
    {
     "name": "stderr",
     "output_type": "stream",
     "text": [
      "  2%|▏         | 89/4504 [01:27<1:15:58,  1.03s/it]"
     ]
    },
    {
     "name": "stdout",
     "output_type": "stream",
     "text": [
      "0.16596390306949615    mGlfXPQJL9Y\n"
     ]
    },
    {
     "name": "stderr",
     "output_type": "stream",
     "text": [
      "  2%|▏         | 90/4504 [01:28<1:15:00,  1.02s/it]"
     ]
    },
    {
     "name": "stdout",
     "output_type": "stream",
     "text": [
      "0.19363564252853394    OmshTBwMZt0\n"
     ]
    },
    {
     "name": "stderr",
     "output_type": "stream",
     "text": [
      "  2%|▏         | 91/4504 [01:29<1:15:07,  1.02s/it]"
     ]
    },
    {
     "name": "stdout",
     "output_type": "stream",
     "text": [
      "0.23902475833892822    bM4ii9-EP1k\n"
     ]
    },
    {
     "name": "stderr",
     "output_type": "stream",
     "text": [
      "  2%|▏         | 92/4504 [01:31<1:19:17,  1.08s/it]"
     ]
    },
    {
     "name": "stdout",
     "output_type": "stream",
     "text": [
      "0.28945961594581604    RjAFHTTGH60\n"
     ]
    },
    {
     "name": "stderr",
     "output_type": "stream",
     "text": [
      "  2%|▏         | 93/4504 [01:32<1:26:39,  1.18s/it]"
     ]
    },
    {
     "name": "stdout",
     "output_type": "stream",
     "text": [
      "0.20440717041492462    RBkzm2lSqKE\n"
     ]
    },
    {
     "name": "stderr",
     "output_type": "stream",
     "text": [
      "  2%|▏         | 94/4504 [01:33<1:24:06,  1.14s/it]"
     ]
    },
    {
     "name": "stdout",
     "output_type": "stream",
     "text": [
      "0.30772945284843445    v7VSeqTj1S8\n"
     ]
    },
    {
     "name": "stderr",
     "output_type": "stream",
     "text": [
      "  2%|▏         | 95/4504 [01:34<1:15:06,  1.02s/it]"
     ]
    },
    {
     "name": "stdout",
     "output_type": "stream",
     "text": [
      "0.2043112963438034    LXoDDQ_GpiA\n"
     ]
    },
    {
     "name": "stderr",
     "output_type": "stream",
     "text": [
      "  2%|▏         | 96/4504 [01:35<1:10:59,  1.03it/s]"
     ]
    },
    {
     "name": "stdout",
     "output_type": "stream",
     "text": [
      "0.20953315496444702    AEhDDHES19g\n"
     ]
    },
    {
     "name": "stderr",
     "output_type": "stream",
     "text": [
      "  2%|▏         | 97/4504 [01:36<1:13:02,  1.01it/s]"
     ]
    },
    {
     "name": "stdout",
     "output_type": "stream",
     "text": [
      "0.21382880210876465    2Yau2HrKDM4\n"
     ]
    },
    {
     "name": "stderr",
     "output_type": "stream",
     "text": [
      "  2%|▏         | 98/4504 [01:37<1:10:04,  1.05it/s]"
     ]
    },
    {
     "name": "stdout",
     "output_type": "stream",
     "text": [
      "0.21391092240810394    kUIPnI6fBCU\n"
     ]
    },
    {
     "name": "stderr",
     "output_type": "stream",
     "text": [
      "  2%|▏         | 99/4504 [01:38<1:22:42,  1.13s/it]"
     ]
    },
    {
     "name": "stdout",
     "output_type": "stream",
     "text": [
      "0.24518023431301117    qftPJ3vP26Y\n"
     ]
    },
    {
     "name": "stderr",
     "output_type": "stream",
     "text": [
      "  2%|▏         | 100/4504 [01:39<1:28:49,  1.21s/it]"
     ]
    },
    {
     "name": "stdout",
     "output_type": "stream",
     "text": [
      "0.18404638767242432    6AuAhotFf6A\n"
     ]
    },
    {
     "name": "stderr",
     "output_type": "stream",
     "text": [
      "  2%|▏         | 101/4504 [01:41<1:31:18,  1.24s/it]"
     ]
    },
    {
     "name": "stdout",
     "output_type": "stream",
     "text": [
      "0.26784661412239075    TfwKOE_bv4g\n"
     ]
    },
    {
     "name": "stderr",
     "output_type": "stream",
     "text": [
      "  2%|▏         | 102/4504 [01:42<1:21:47,  1.11s/it]"
     ]
    },
    {
     "name": "stdout",
     "output_type": "stream",
     "text": [
      "0.2729097306728363    X_StBE-tyXw\n"
     ]
    },
    {
     "name": "stderr",
     "output_type": "stream",
     "text": [
      "  2%|▏         | 103/4504 [01:42<1:12:34,  1.01it/s]"
     ]
    },
    {
     "name": "stdout",
     "output_type": "stream",
     "text": [
      "0.23357319831848145    hAgGD_YiFlA\n"
     ]
    },
    {
     "name": "stderr",
     "output_type": "stream",
     "text": [
      "  2%|▏         | 104/4504 [01:43<1:11:09,  1.03it/s]"
     ]
    },
    {
     "name": "stdout",
     "output_type": "stream",
     "text": [
      "0.30118659138679504    HhQ7KohYp18\n"
     ]
    },
    {
     "name": "stderr",
     "output_type": "stream",
     "text": [
      "  2%|▏         | 105/4504 [01:44<1:09:25,  1.06it/s]"
     ]
    },
    {
     "name": "stdout",
     "output_type": "stream",
     "text": [
      "0.20445799827575684    _j582iDvMGQ\n"
     ]
    },
    {
     "name": "stderr",
     "output_type": "stream",
     "text": [
      "  2%|▏         | 106/4504 [01:45<1:06:23,  1.10it/s]"
     ]
    },
    {
     "name": "stdout",
     "output_type": "stream",
     "text": [
      "0.19230259954929352    wEaZTXMsbK0\n"
     ]
    },
    {
     "name": "stderr",
     "output_type": "stream",
     "text": [
      "  2%|▏         | 107/4504 [01:46<1:09:08,  1.06it/s]"
     ]
    },
    {
     "name": "stdout",
     "output_type": "stream",
     "text": [
      "0.28947320580482483    ex2KDWtFW_Q\n"
     ]
    },
    {
     "name": "stderr",
     "output_type": "stream",
     "text": [
      "  2%|▏         | 108/4504 [01:47<1:07:14,  1.09it/s]"
     ]
    },
    {
     "name": "stdout",
     "output_type": "stream",
     "text": [
      "0.2155519276857376    F2Htc-RF4R0\n"
     ]
    },
    {
     "name": "stderr",
     "output_type": "stream",
     "text": [
      "  2%|▏         | 109/4504 [01:47<1:01:05,  1.20it/s]"
     ]
    },
    {
     "name": "stdout",
     "output_type": "stream",
     "text": [
      "0.10407688468694687    ZFfc0R9IiZU\n"
     ]
    },
    {
     "name": "stderr",
     "output_type": "stream",
     "text": [
      "  2%|▏         | 110/4504 [01:48<59:37,  1.23it/s]  "
     ]
    },
    {
     "name": "stdout",
     "output_type": "stream",
     "text": [
      "0.22633801400661469    YFQCiz6-xx4\n"
     ]
    },
    {
     "name": "stderr",
     "output_type": "stream",
     "text": [
      "  2%|▏         | 111/4504 [01:49<57:03,  1.28it/s]"
     ]
    },
    {
     "name": "stdout",
     "output_type": "stream",
     "text": [
      "0.2281160205602646    amnDBxwuRRg\n"
     ]
    },
    {
     "name": "stderr",
     "output_type": "stream",
     "text": [
      "  2%|▏         | 112/4504 [01:50<55:55,  1.31it/s]"
     ]
    },
    {
     "name": "stdout",
     "output_type": "stream",
     "text": [
      "0.34013882279396057    JZNhEr9takk\n"
     ]
    },
    {
     "name": "stderr",
     "output_type": "stream",
     "text": [
      "  3%|▎         | 113/4504 [01:50<54:10,  1.35it/s]"
     ]
    },
    {
     "name": "stdout",
     "output_type": "stream",
     "text": [
      "0.25774744153022766    b3NDEBu6OJQ\n"
     ]
    },
    {
     "name": "stderr",
     "output_type": "stream",
     "text": [
      "  3%|▎         | 114/4504 [01:51<50:08,  1.46it/s]"
     ]
    },
    {
     "name": "stdout",
     "output_type": "stream",
     "text": [
      "0.19995594024658203    oMXFZgiM9F4\n"
     ]
    },
    {
     "name": "stderr",
     "output_type": "stream",
     "text": [
      "  3%|▎         | 115/4504 [01:52<50:19,  1.45it/s]"
     ]
    },
    {
     "name": "stdout",
     "output_type": "stream",
     "text": [
      "0.20107458531856537    ZHl25-3t_Jc\n"
     ]
    },
    {
     "name": "stderr",
     "output_type": "stream",
     "text": [
      "  3%|▎         | 116/4504 [01:53<1:14:49,  1.02s/it]"
     ]
    },
    {
     "name": "stdout",
     "output_type": "stream",
     "text": [
      "0.2579346299171448    yTQYw5Omdso\n"
     ]
    },
    {
     "name": "stderr",
     "output_type": "stream",
     "text": [
      "  3%|▎         | 117/4504 [01:54<1:15:35,  1.03s/it]"
     ]
    },
    {
     "name": "stdout",
     "output_type": "stream",
     "text": [
      "0.24059152603149414    -5UIyQPhSvM\n"
     ]
    },
    {
     "name": "stderr",
     "output_type": "stream",
     "text": [
      "  3%|▎         | 118/4504 [01:56<1:16:11,  1.04s/it]"
     ]
    },
    {
     "name": "stdout",
     "output_type": "stream",
     "text": [
      "0.15394280850887299    M57HHnx3iAg\n"
     ]
    },
    {
     "name": "stderr",
     "output_type": "stream",
     "text": [
      "  3%|▎         | 119/4504 [01:57<1:14:58,  1.03s/it]"
     ]
    },
    {
     "name": "stdout",
     "output_type": "stream",
     "text": [
      "0.2116754651069641    4voCJjxOoAE\n"
     ]
    },
    {
     "name": "stderr",
     "output_type": "stream",
     "text": [
      "  3%|▎         | 120/4504 [01:57<1:07:56,  1.08it/s]"
     ]
    },
    {
     "name": "stdout",
     "output_type": "stream",
     "text": [
      "0.17397671937942505    HheJdCzUBkQ\n"
     ]
    },
    {
     "name": "stderr",
     "output_type": "stream",
     "text": [
      "  3%|▎         | 121/4504 [01:58<1:04:10,  1.14it/s]"
     ]
    },
    {
     "name": "stdout",
     "output_type": "stream",
     "text": [
      "0.1266057789325714    Vz4yibOxdug\n"
     ]
    },
    {
     "name": "stderr",
     "output_type": "stream",
     "text": [
      "  3%|▎         | 122/4504 [01:59<59:58,  1.22it/s]  "
     ]
    },
    {
     "name": "stdout",
     "output_type": "stream",
     "text": [
      "0.18717467784881592    eEWiyt4JZmw\n"
     ]
    },
    {
     "name": "stderr",
     "output_type": "stream",
     "text": [
      "  3%|▎         | 123/4504 [02:00<1:06:51,  1.09it/s]"
     ]
    },
    {
     "name": "stdout",
     "output_type": "stream",
     "text": [
      "0.20871345698833466    w-ZzRpXvgqI\n"
     ]
    },
    {
     "name": "stderr",
     "output_type": "stream",
     "text": [
      "  3%|▎         | 124/4504 [02:01<1:06:26,  1.10it/s]"
     ]
    },
    {
     "name": "stdout",
     "output_type": "stream",
     "text": [
      "0.2627376616001129    7ZX0nQrq05Q\n"
     ]
    },
    {
     "name": "stderr",
     "output_type": "stream",
     "text": [
      "  3%|▎         | 125/4504 [02:01<1:02:11,  1.17it/s]"
     ]
    },
    {
     "name": "stdout",
     "output_type": "stream",
     "text": [
      "0.2892884910106659    oaJcEvGe3lQ\n"
     ]
    },
    {
     "name": "stderr",
     "output_type": "stream",
     "text": [
      "  3%|▎         | 126/4504 [02:02<1:00:45,  1.20it/s]"
     ]
    },
    {
     "name": "stdout",
     "output_type": "stream",
     "text": [
      "0.18297065794467926    OzlVBfSFR-c\n"
     ]
    },
    {
     "name": "stderr",
     "output_type": "stream",
     "text": [
      "  3%|▎         | 127/4504 [02:03<59:49,  1.22it/s]  "
     ]
    },
    {
     "name": "stdout",
     "output_type": "stream",
     "text": [
      "0.08573228865861893    llEgjaXDR0k\n"
     ]
    },
    {
     "name": "stderr",
     "output_type": "stream",
     "text": [
      "  3%|▎         | 128/4504 [02:04<55:39,  1.31it/s]"
     ]
    },
    {
     "name": "stdout",
     "output_type": "stream",
     "text": [
      "0.25230690836906433    K_DFOssQRBw\n"
     ]
    },
    {
     "name": "stderr",
     "output_type": "stream",
     "text": [
      "  3%|▎         | 129/4504 [02:04<54:25,  1.34it/s]"
     ]
    },
    {
     "name": "stdout",
     "output_type": "stream",
     "text": [
      "0.1807134598493576    KJeHDFicB1g\n"
     ]
    },
    {
     "name": "stderr",
     "output_type": "stream",
     "text": [
      "  3%|▎         | 130/4504 [02:05<52:06,  1.40it/s]"
     ]
    },
    {
     "name": "stdout",
     "output_type": "stream",
     "text": [
      "0.23048049211502075    c65AOBiV4ew\n"
     ]
    },
    {
     "name": "stderr",
     "output_type": "stream",
     "text": [
      "  3%|▎         | 131/4504 [02:06<1:06:10,  1.10it/s]"
     ]
    },
    {
     "name": "stdout",
     "output_type": "stream",
     "text": [
      "0.2335156947374344    ydO_4q91fJk\n"
     ]
    },
    {
     "name": "stderr",
     "output_type": "stream",
     "text": [
      "  3%|▎         | 132/4504 [02:07<1:04:09,  1.14it/s]"
     ]
    },
    {
     "name": "stdout",
     "output_type": "stream",
     "text": [
      "0.25761064887046814    ZtKqOFXCX1Y\n"
     ]
    },
    {
     "name": "stderr",
     "output_type": "stream",
     "text": [
      "  3%|▎         | 133/4504 [02:08<1:01:42,  1.18it/s]"
     ]
    },
    {
     "name": "stdout",
     "output_type": "stream",
     "text": [
      "0.28020668029785156    81OLMeIWjzE\n"
     ]
    },
    {
     "name": "stderr",
     "output_type": "stream",
     "text": [
      "  3%|▎         | 134/4504 [02:09<1:00:33,  1.20it/s]"
     ]
    },
    {
     "name": "stdout",
     "output_type": "stream",
     "text": [
      "0.24609124660491943    0mGmEw96pLE\n"
     ]
    },
    {
     "name": "stderr",
     "output_type": "stream",
     "text": [
      "  3%|▎         | 135/4504 [02:10<1:07:09,  1.08it/s]"
     ]
    },
    {
     "name": "stdout",
     "output_type": "stream",
     "text": [
      "0.2085103988647461    I8zyXW1R4dY\n"
     ]
    },
    {
     "name": "stderr",
     "output_type": "stream",
     "text": [
      "  3%|▎         | 136/4504 [02:11<1:08:45,  1.06it/s]"
     ]
    },
    {
     "name": "stdout",
     "output_type": "stream",
     "text": [
      "0.24602113664150238    GWsvm_VriS0\n"
     ]
    },
    {
     "name": "stderr",
     "output_type": "stream",
     "text": [
      "  3%|▎         | 137/4504 [02:12<1:06:56,  1.09it/s]"
     ]
    },
    {
     "name": "stdout",
     "output_type": "stream",
     "text": [
      "0.21952222287654877    1uwAf3mmluk\n"
     ]
    },
    {
     "name": "stderr",
     "output_type": "stream",
     "text": [
      "  3%|▎         | 138/4504 [02:13<1:06:32,  1.09it/s]"
     ]
    },
    {
     "name": "stdout",
     "output_type": "stream",
     "text": [
      "0.2270243912935257    LIJ3eH0qoQI\n"
     ]
    },
    {
     "name": "stderr",
     "output_type": "stream",
     "text": [
      "  3%|▎         | 139/4504 [02:14<1:18:45,  1.08s/it]"
     ]
    },
    {
     "name": "stdout",
     "output_type": "stream",
     "text": [
      "0.21898253262043    lZIVe1UVdN8\n"
     ]
    },
    {
     "name": "stderr",
     "output_type": "stream",
     "text": [
      "  3%|▎         | 140/4504 [02:15<1:15:43,  1.04s/it]"
     ]
    },
    {
     "name": "stdout",
     "output_type": "stream",
     "text": [
      "0.27181828022003174    gEOjS9nk5Kg\n"
     ]
    },
    {
     "name": "stderr",
     "output_type": "stream",
     "text": [
      "  3%|▎         | 141/4504 [02:16<1:07:06,  1.08it/s]"
     ]
    },
    {
     "name": "stdout",
     "output_type": "stream",
     "text": [
      "0.2997611463069916    6mM5v2lKtIY\n"
     ]
    },
    {
     "name": "stderr",
     "output_type": "stream",
     "text": [
      "  3%|▎         | 142/4504 [02:17<1:05:32,  1.11it/s]"
     ]
    },
    {
     "name": "stdout",
     "output_type": "stream",
     "text": [
      "0.23292849957942963    ulHrMzlbGp0\n"
     ]
    },
    {
     "name": "stderr",
     "output_type": "stream",
     "text": [
      "  3%|▎         | 143/4504 [02:17<1:06:16,  1.10it/s]"
     ]
    },
    {
     "name": "stdout",
     "output_type": "stream",
     "text": [
      "0.18528960645198822    AOGwUQ56rkc\n"
     ]
    },
    {
     "name": "stderr",
     "output_type": "stream",
     "text": [
      "  3%|▎         | 144/4504 [02:18<1:06:59,  1.08it/s]"
     ]
    },
    {
     "name": "stdout",
     "output_type": "stream",
     "text": [
      "0.15969853103160858    c_MFhZMdKbY\n"
     ]
    },
    {
     "name": "stderr",
     "output_type": "stream",
     "text": [
      "  3%|▎         | 145/4504 [02:19<1:03:11,  1.15it/s]"
     ]
    },
    {
     "name": "stdout",
     "output_type": "stream",
     "text": [
      "0.15301871299743652    LHDhp6tqQI0\n"
     ]
    },
    {
     "name": "stderr",
     "output_type": "stream",
     "text": [
      "  3%|▎         | 146/4504 [02:20<1:07:29,  1.08it/s]"
     ]
    },
    {
     "name": "stdout",
     "output_type": "stream",
     "text": [
      "0.21659016609191895    B21So1_VYMY\n"
     ]
    },
    {
     "name": "stderr",
     "output_type": "stream",
     "text": [
      "  3%|▎         | 147/4504 [02:21<1:14:58,  1.03s/it]"
     ]
    },
    {
     "name": "stdout",
     "output_type": "stream",
     "text": [
      "0.07960647344589233    3BgBITcr9So\n"
     ]
    },
    {
     "name": "stderr",
     "output_type": "stream",
     "text": [
      "  3%|▎         | 148/4504 [02:22<1:06:42,  1.09it/s]"
     ]
    },
    {
     "name": "stdout",
     "output_type": "stream",
     "text": [
      "0.2177104353904724    NgzTNEpm4-w\n"
     ]
    },
    {
     "name": "stderr",
     "output_type": "stream",
     "text": [
      "  3%|▎         | 149/4504 [02:23<1:01:26,  1.18it/s]"
     ]
    },
    {
     "name": "stdout",
     "output_type": "stream",
     "text": [
      "0.25056836009025574    RM5Mzgh07A4\n"
     ]
    },
    {
     "name": "stderr",
     "output_type": "stream",
     "text": [
      "  3%|▎         | 150/4504 [02:24<1:01:44,  1.18it/s]"
     ]
    },
    {
     "name": "stdout",
     "output_type": "stream",
     "text": [
      "0.09898123145103455    8E_cw_Hn3v0\n"
     ]
    },
    {
     "name": "stderr",
     "output_type": "stream",
     "text": [
      "  3%|▎         | 151/4504 [02:24<59:40,  1.22it/s]  "
     ]
    },
    {
     "name": "stdout",
     "output_type": "stream",
     "text": [
      "0.11233065277338028    p6-4-DMjDY0\n"
     ]
    },
    {
     "name": "stderr",
     "output_type": "stream",
     "text": [
      "  3%|▎         | 152/4504 [02:25<56:04,  1.29it/s]"
     ]
    },
    {
     "name": "stdout",
     "output_type": "stream",
     "text": [
      "0.12498968839645386    7W3WSj7QuzU\n"
     ]
    },
    {
     "name": "stderr",
     "output_type": "stream",
     "text": [
      "  3%|▎         | 153/4504 [02:26<55:14,  1.31it/s]"
     ]
    },
    {
     "name": "stdout",
     "output_type": "stream",
     "text": [
      "0.13241028785705566    ZbAq3xPHuQ4\n"
     ]
    },
    {
     "name": "stderr",
     "output_type": "stream",
     "text": [
      "  3%|▎         | 154/4504 [02:27<1:07:27,  1.07it/s]"
     ]
    },
    {
     "name": "stdout",
     "output_type": "stream",
     "text": [
      "0.13510267436504364    KNnyTf1l6dg\n"
     ]
    },
    {
     "name": "stderr",
     "output_type": "stream",
     "text": [
      "  3%|▎         | 155/4504 [02:29<1:23:29,  1.15s/it]"
     ]
    },
    {
     "name": "stdout",
     "output_type": "stream",
     "text": [
      "0.1303386688232422    j4rQ8FAKEAk\n"
     ]
    },
    {
     "name": "stderr",
     "output_type": "stream",
     "text": [
      "  3%|▎         | 156/4504 [02:30<1:23:41,  1.15s/it]"
     ]
    },
    {
     "name": "stdout",
     "output_type": "stream",
     "text": [
      "0.2898007035255432    J8rLzR9yByg\n"
     ]
    },
    {
     "name": "stderr",
     "output_type": "stream",
     "text": [
      "  3%|▎         | 157/4504 [02:31<1:24:01,  1.16s/it]"
     ]
    },
    {
     "name": "stdout",
     "output_type": "stream",
     "text": [
      "0.19214682281017303    K1MpIjlpUy0\n"
     ]
    },
    {
     "name": "stderr",
     "output_type": "stream",
     "text": [
      "  4%|▎         | 158/4504 [02:32<1:19:09,  1.09s/it]"
     ]
    },
    {
     "name": "stdout",
     "output_type": "stream",
     "text": [
      "0.1431605964899063    e9f2ALW1zLY\n"
     ]
    },
    {
     "name": "stderr",
     "output_type": "stream",
     "text": [
      "  4%|▎         | 159/4504 [02:33<1:14:18,  1.03s/it]"
     ]
    },
    {
     "name": "stdout",
     "output_type": "stream",
     "text": [
      "0.10926035046577454    iAMAGNLO37A\n"
     ]
    },
    {
     "name": "stderr",
     "output_type": "stream",
     "text": [
      "  4%|▎         | 160/4504 [02:34<1:09:11,  1.05it/s]"
     ]
    },
    {
     "name": "stdout",
     "output_type": "stream",
     "text": [
      "0.10409963130950928    ihi165Ha_58\n"
     ]
    },
    {
     "name": "stderr",
     "output_type": "stream",
     "text": [
      "  4%|▎         | 161/4504 [02:35<1:17:14,  1.07s/it]"
     ]
    },
    {
     "name": "stdout",
     "output_type": "stream",
     "text": [
      "0.2257518321275711    imLUIQnpzTU\n"
     ]
    },
    {
     "name": "stderr",
     "output_type": "stream",
     "text": [
      "  4%|▎         | 162/4504 [02:36<1:11:01,  1.02it/s]"
     ]
    },
    {
     "name": "stdout",
     "output_type": "stream",
     "text": [
      "0.12679462134838104    hr_vD5fy8FA\n"
     ]
    },
    {
     "name": "stderr",
     "output_type": "stream",
     "text": [
      "  4%|▎         | 163/4504 [02:37<1:04:59,  1.11it/s]"
     ]
    },
    {
     "name": "stdout",
     "output_type": "stream",
     "text": [
      "0.2290240079164505    mqj4FAw06wo\n"
     ]
    },
    {
     "name": "stderr",
     "output_type": "stream",
     "text": [
      "  4%|▎         | 164/4504 [02:37<1:04:54,  1.11it/s]"
     ]
    },
    {
     "name": "stdout",
     "output_type": "stream",
     "text": [
      "0.04282359406352043    x8NLEDvgESk\n"
     ]
    },
    {
     "name": "stderr",
     "output_type": "stream",
     "text": [
      "  4%|▎         | 165/4504 [02:38<1:00:16,  1.20it/s]"
     ]
    },
    {
     "name": "stdout",
     "output_type": "stream",
     "text": [
      "0.20754314959049225    qWPEATmeIUU\n"
     ]
    },
    {
     "name": "stderr",
     "output_type": "stream",
     "text": [
      "  4%|▎         | 166/4504 [02:39<56:03,  1.29it/s]  "
     ]
    },
    {
     "name": "stdout",
     "output_type": "stream",
     "text": [
      "0.07398954778909683    grrBPjWgPE0\n"
     ]
    },
    {
     "name": "stderr",
     "output_type": "stream",
     "text": [
      "  4%|▎         | 167/4504 [02:40<54:49,  1.32it/s]"
     ]
    },
    {
     "name": "stdout",
     "output_type": "stream",
     "text": [
      "0.1968601495027542    ViaVmfrmF2M\n"
     ]
    },
    {
     "name": "stderr",
     "output_type": "stream",
     "text": [
      "  4%|▎         | 168/4504 [02:41<1:04:30,  1.12it/s]"
     ]
    },
    {
     "name": "stdout",
     "output_type": "stream",
     "text": [
      "0.18320314586162567    9QxmGn5If48\n"
     ]
    },
    {
     "name": "stderr",
     "output_type": "stream",
     "text": [
      "  4%|▍         | 169/4504 [02:43<1:24:40,  1.17s/it]"
     ]
    },
    {
     "name": "stdout",
     "output_type": "stream",
     "text": [
      "0.17454521358013153    ScNDOguxyQE\n"
     ]
    },
    {
     "name": "stderr",
     "output_type": "stream",
     "text": [
      "  4%|▍         | 170/4504 [02:44<1:30:27,  1.25s/it]"
     ]
    },
    {
     "name": "stdout",
     "output_type": "stream",
     "text": [
      "0.09970007091760635    -inrKRnDpiU\n"
     ]
    },
    {
     "name": "stderr",
     "output_type": "stream",
     "text": [
      "  4%|▍         | 171/4504 [02:45<1:23:52,  1.16s/it]"
     ]
    },
    {
     "name": "stdout",
     "output_type": "stream",
     "text": [
      "0.2854466438293457    I9-khUrt2qI\n"
     ]
    },
    {
     "name": "stderr",
     "output_type": "stream",
     "text": [
      "  4%|▍         | 172/4504 [02:46<1:22:38,  1.14s/it]"
     ]
    },
    {
     "name": "stdout",
     "output_type": "stream",
     "text": [
      "0.23675836622714996    w06_1HNoxZM\n"
     ]
    },
    {
     "name": "stderr",
     "output_type": "stream",
     "text": [
      "  4%|▍         | 173/4504 [02:47<1:19:04,  1.10s/it]"
     ]
    },
    {
     "name": "stdout",
     "output_type": "stream",
     "text": [
      "0.16521841287612915    jlfz5KWdP1I\n"
     ]
    },
    {
     "name": "stderr",
     "output_type": "stream",
     "text": [
      "  4%|▍         | 174/4504 [02:48<1:16:57,  1.07s/it]"
     ]
    },
    {
     "name": "stdout",
     "output_type": "stream",
     "text": [
      "0.25315943360328674    s8mNAirza5U\n"
     ]
    },
    {
     "name": "stderr",
     "output_type": "stream",
     "text": [
      "  4%|▍         | 175/4504 [02:50<1:33:37,  1.30s/it]"
     ]
    },
    {
     "name": "stdout",
     "output_type": "stream",
     "text": [
      "0.282427042722702    94GAyrnAq8w\n"
     ]
    },
    {
     "name": "stderr",
     "output_type": "stream",
     "text": [
      "  4%|▍         | 176/4504 [02:51<1:33:37,  1.30s/it]"
     ]
    },
    {
     "name": "stdout",
     "output_type": "stream",
     "text": [
      "0.26103851199150085    HkYYWec5JjY\n"
     ]
    },
    {
     "name": "stderr",
     "output_type": "stream",
     "text": [
      "  4%|▍         | 177/4504 [02:52<1:21:06,  1.12s/it]"
     ]
    },
    {
     "name": "stdout",
     "output_type": "stream",
     "text": [
      "0.2318483591079712    93XeojuElwA\n"
     ]
    },
    {
     "name": "stderr",
     "output_type": "stream",
     "text": [
      "  4%|▍         | 178/4504 [02:53<1:15:53,  1.05s/it]"
     ]
    },
    {
     "name": "stdout",
     "output_type": "stream",
     "text": [
      "0.07107331603765488    3SCLflWdpeg\n"
     ]
    },
    {
     "name": "stderr",
     "output_type": "stream",
     "text": [
      "  4%|▍         | 179/4504 [02:53<1:08:36,  1.05it/s]"
     ]
    },
    {
     "name": "stdout",
     "output_type": "stream",
     "text": [
      "0.3128916323184967    x0vRWEFKlb8\n"
     ]
    },
    {
     "name": "stderr",
     "output_type": "stream",
     "text": [
      "  4%|▍         | 180/4504 [02:54<1:04:33,  1.12it/s]"
     ]
    },
    {
     "name": "stdout",
     "output_type": "stream",
     "text": [
      "0.21804143488407135    hKAPzInHZs0\n"
     ]
    },
    {
     "name": "stderr",
     "output_type": "stream",
     "text": [
      "  4%|▍         | 181/4504 [02:55<1:02:21,  1.16it/s]"
     ]
    },
    {
     "name": "stdout",
     "output_type": "stream",
     "text": [
      "0.31605663895606995    GNIKAhiizyU\n"
     ]
    },
    {
     "name": "stderr",
     "output_type": "stream",
     "text": [
      "  4%|▍         | 182/4504 [02:56<59:36,  1.21it/s]  "
     ]
    },
    {
     "name": "stdout",
     "output_type": "stream",
     "text": [
      "0.1678084135055542    k2zPHYtPDYA\n"
     ]
    },
    {
     "name": "stderr",
     "output_type": "stream",
     "text": [
      "  4%|▍         | 183/4504 [02:57<1:03:25,  1.14it/s]"
     ]
    },
    {
     "name": "stdout",
     "output_type": "stream",
     "text": [
      "0.2152854949235916    L30sT4Nxsx0\n"
     ]
    },
    {
     "name": "stderr",
     "output_type": "stream",
     "text": [
      "  4%|▍         | 184/4504 [02:58<1:04:10,  1.12it/s]"
     ]
    },
    {
     "name": "stdout",
     "output_type": "stream",
     "text": [
      "0.31872180104255676    ss568YMuVUM\n"
     ]
    },
    {
     "name": "stderr",
     "output_type": "stream",
     "text": [
      "  4%|▍         | 185/4504 [02:58<59:08,  1.22it/s]  "
     ]
    },
    {
     "name": "stdout",
     "output_type": "stream",
     "text": [
      "0.10108649730682373    qB7mwR4PERs\n"
     ]
    },
    {
     "name": "stderr",
     "output_type": "stream",
     "text": [
      "  4%|▍         | 186/4504 [02:59<58:57,  1.22it/s]"
     ]
    },
    {
     "name": "stdout",
     "output_type": "stream",
     "text": [
      "0.13281001150608063    QUDYFP2xDYk\n"
     ]
    },
    {
     "name": "stderr",
     "output_type": "stream",
     "text": [
      "  4%|▍         | 187/4504 [03:00<58:54,  1.22it/s]"
     ]
    },
    {
     "name": "stdout",
     "output_type": "stream",
     "text": [
      "0.1922188550233841    lwDKZiMEjlw\n"
     ]
    },
    {
     "name": "stderr",
     "output_type": "stream",
     "text": [
      "  4%|▍         | 188/4504 [03:01<55:38,  1.29it/s]"
     ]
    },
    {
     "name": "stdout",
     "output_type": "stream",
     "text": [
      "0.18975955247879028    Jj98cj-r9wI\n"
     ]
    },
    {
     "name": "stderr",
     "output_type": "stream",
     "text": [
      "  4%|▍         | 189/4504 [03:01<55:12,  1.30it/s]"
     ]
    },
    {
     "name": "stdout",
     "output_type": "stream",
     "text": [
      "0.18995071947574615    Rpz5t48b9a8\n"
     ]
    },
    {
     "name": "stderr",
     "output_type": "stream",
     "text": [
      "  4%|▍         | 190/4504 [03:03<1:03:50,  1.13it/s]"
     ]
    },
    {
     "name": "stdout",
     "output_type": "stream",
     "text": [
      "0.2050027847290039    Wc0r-ExqjB8\n"
     ]
    },
    {
     "name": "stderr",
     "output_type": "stream",
     "text": [
      "  4%|▍         | 191/4504 [03:04<1:15:24,  1.05s/it]"
     ]
    },
    {
     "name": "stdout",
     "output_type": "stream",
     "text": [
      "0.11015487462282181    HaTRptXhtzk\n"
     ]
    },
    {
     "name": "stderr",
     "output_type": "stream",
     "text": [
      "  4%|▍         | 192/4504 [03:06<1:36:20,  1.34s/it]"
     ]
    },
    {
     "name": "stdout",
     "output_type": "stream",
     "text": [
      "0.16929183900356293    UKdt2Su7eew\n"
     ]
    },
    {
     "name": "stderr",
     "output_type": "stream",
     "text": [
      "  4%|▍         | 193/4504 [03:07<1:29:19,  1.24s/it]"
     ]
    },
    {
     "name": "stdout",
     "output_type": "stream",
     "text": [
      "0.16862225532531738    ymf8S_h_KaQ\n"
     ]
    },
    {
     "name": "stderr",
     "output_type": "stream",
     "text": [
      "  4%|▍         | 194/4504 [03:08<1:18:43,  1.10s/it]"
     ]
    },
    {
     "name": "stdout",
     "output_type": "stream",
     "text": [
      "0.19011974334716797    LiOxQ1eIwk4\n"
     ]
    },
    {
     "name": "stderr",
     "output_type": "stream",
     "text": [
      "  4%|▍         | 195/4504 [03:09<1:12:53,  1.01s/it]"
     ]
    },
    {
     "name": "stdout",
     "output_type": "stream",
     "text": [
      "0.23594798147678375    2lkdgOdX3jA\n"
     ]
    },
    {
     "name": "stderr",
     "output_type": "stream",
     "text": [
      "  4%|▍         | 196/4504 [03:09<1:08:12,  1.05it/s]"
     ]
    },
    {
     "name": "stdout",
     "output_type": "stream",
     "text": [
      "0.17706142365932465    mFqSuB8Vt40\n"
     ]
    },
    {
     "name": "stderr",
     "output_type": "stream",
     "text": [
      "  4%|▍         | 197/4504 [03:10<1:02:49,  1.14it/s]"
     ]
    },
    {
     "name": "stdout",
     "output_type": "stream",
     "text": [
      "0.1307571530342102    Vai-581l-kc\n"
     ]
    },
    {
     "name": "stderr",
     "output_type": "stream",
     "text": [
      "  4%|▍         | 198/4504 [03:11<1:05:13,  1.10it/s]"
     ]
    },
    {
     "name": "stdout",
     "output_type": "stream",
     "text": [
      "0.18645362555980682    4hPDZvKFRcs\n"
     ]
    },
    {
     "name": "stderr",
     "output_type": "stream",
     "text": [
      "  4%|▍         | 199/4504 [03:12<1:09:34,  1.03it/s]"
     ]
    },
    {
     "name": "stdout",
     "output_type": "stream",
     "text": [
      "0.17393232882022858    2gtwp02AiVE\n"
     ]
    },
    {
     "name": "stderr",
     "output_type": "stream",
     "text": [
      "  4%|▍         | 200/4504 [03:13<1:05:58,  1.09it/s]"
     ]
    },
    {
     "name": "stdout",
     "output_type": "stream",
     "text": [
      "0.07412219792604446    6Aty6FPBshY\n"
     ]
    },
    {
     "name": "stderr",
     "output_type": "stream",
     "text": [
      "  4%|▍         | 201/4504 [03:14<1:04:17,  1.12it/s]"
     ]
    },
    {
     "name": "stdout",
     "output_type": "stream",
     "text": [
      "0.06360898911952972    SGslcr5UEwQ\n"
     ]
    },
    {
     "name": "stderr",
     "output_type": "stream",
     "text": [
      "  4%|▍         | 202/4504 [03:15<1:02:31,  1.15it/s]"
     ]
    },
    {
     "name": "stdout",
     "output_type": "stream",
     "text": [
      "0.2866506278514862    TZSkspDJgxA\n"
     ]
    },
    {
     "name": "stderr",
     "output_type": "stream",
     "text": [
      "  5%|▍         | 203/4504 [03:16<1:04:18,  1.11it/s]"
     ]
    },
    {
     "name": "stdout",
     "output_type": "stream",
     "text": [
      "0.26516473293304443    55Z_usdxsoE\n"
     ]
    },
    {
     "name": "stderr",
     "output_type": "stream",
     "text": [
      "  5%|▍         | 204/4504 [03:16<1:03:44,  1.12it/s]"
     ]
    },
    {
     "name": "stdout",
     "output_type": "stream",
     "text": [
      "0.2593444883823395    YcE0YlIMyCs\n"
     ]
    },
    {
     "name": "stderr",
     "output_type": "stream",
     "text": [
      "  5%|▍         | 205/4504 [03:17<58:29,  1.22it/s]  "
     ]
    },
    {
     "name": "stdout",
     "output_type": "stream",
     "text": [
      "0.25450941920280457    t14uEe-Hjh8\n"
     ]
    },
    {
     "name": "stderr",
     "output_type": "stream",
     "text": [
      "  5%|▍         | 206/4504 [03:18<56:25,  1.27it/s]"
     ]
    },
    {
     "name": "stdout",
     "output_type": "stream",
     "text": [
      "0.09868577867746353    bIMjariydVA\n"
     ]
    },
    {
     "name": "stderr",
     "output_type": "stream",
     "text": [
      "  5%|▍         | 207/4504 [03:19<1:05:52,  1.09it/s]"
     ]
    },
    {
     "name": "stdout",
     "output_type": "stream",
     "text": [
      "0.24637649953365326    OmT42WYsstU\n"
     ]
    },
    {
     "name": "stderr",
     "output_type": "stream",
     "text": [
      "  5%|▍         | 208/4504 [03:20<1:08:26,  1.05it/s]"
     ]
    },
    {
     "name": "stdout",
     "output_type": "stream",
     "text": [
      "0.20794065296649933    P9kotBU36XI\n"
     ]
    },
    {
     "name": "stderr",
     "output_type": "stream",
     "text": [
      "  5%|▍         | 209/4504 [03:21<1:07:46,  1.06it/s]"
     ]
    },
    {
     "name": "stdout",
     "output_type": "stream",
     "text": [
      "0.1511157900094986    IcHfSnYhoTs\n"
     ]
    },
    {
     "name": "stderr",
     "output_type": "stream",
     "text": [
      "  5%|▍         | 210/4504 [03:22<1:06:42,  1.07it/s]"
     ]
    },
    {
     "name": "stdout",
     "output_type": "stream",
     "text": [
      "0.13561756908893585    De1X6ThCx9k\n"
     ]
    },
    {
     "name": "stderr",
     "output_type": "stream",
     "text": [
      "  5%|▍         | 211/4504 [03:23<1:06:00,  1.08it/s]"
     ]
    },
    {
     "name": "stdout",
     "output_type": "stream",
     "text": [
      "0.2108451873064041    RfuShOa10m0\n"
     ]
    },
    {
     "name": "stderr",
     "output_type": "stream",
     "text": [
      "  5%|▍         | 212/4504 [03:24<1:02:55,  1.14it/s]"
     ]
    },
    {
     "name": "stdout",
     "output_type": "stream",
     "text": [
      "0.22737663984298706    UDK78cTg_lk\n"
     ]
    },
    {
     "name": "stderr",
     "output_type": "stream",
     "text": [
      "  5%|▍         | 213/4504 [03:25<1:02:57,  1.14it/s]"
     ]
    },
    {
     "name": "stdout",
     "output_type": "stream",
     "text": [
      "0.26999619603157043    NzoaJgzKWIU\n"
     ]
    },
    {
     "name": "stderr",
     "output_type": "stream",
     "text": [
      "  5%|▍         | 214/4504 [03:25<1:01:18,  1.17it/s]"
     ]
    },
    {
     "name": "stdout",
     "output_type": "stream",
     "text": [
      "0.15370237827301025    s54awbl_G4s\n"
     ]
    },
    {
     "name": "stderr",
     "output_type": "stream",
     "text": [
      "  5%|▍         | 215/4504 [03:27<1:12:50,  1.02s/it]"
     ]
    },
    {
     "name": "stdout",
     "output_type": "stream",
     "text": [
      "0.23394204676151276    vQhkwuEACEg\n"
     ]
    },
    {
     "name": "stderr",
     "output_type": "stream",
     "text": [
      "  5%|▍         | 216/4504 [03:28<1:12:28,  1.01s/it]"
     ]
    },
    {
     "name": "stdout",
     "output_type": "stream",
     "text": [
      "0.30064907670021057    71OgP_082kE\n"
     ]
    },
    {
     "name": "stderr",
     "output_type": "stream",
     "text": [
      "  5%|▍         | 217/4504 [03:28<1:07:25,  1.06it/s]"
     ]
    },
    {
     "name": "stdout",
     "output_type": "stream",
     "text": [
      "0.1272549033164978    b6jWmnORmwM\n"
     ]
    },
    {
     "name": "stderr",
     "output_type": "stream",
     "text": [
      "  5%|▍         | 218/4504 [03:29<1:01:01,  1.17it/s]"
     ]
    },
    {
     "name": "stdout",
     "output_type": "stream",
     "text": [
      "0.22930307686328888    79UsXG2zUeA\n"
     ]
    },
    {
     "name": "stderr",
     "output_type": "stream",
     "text": [
      "  5%|▍         | 219/4504 [03:30<59:19,  1.20it/s]  "
     ]
    },
    {
     "name": "stdout",
     "output_type": "stream",
     "text": [
      "0.22748161852359772    Xh88OaKYNUs\n"
     ]
    },
    {
     "name": "stderr",
     "output_type": "stream",
     "text": [
      "  5%|▍         | 220/4504 [03:31<59:49,  1.19it/s]"
     ]
    },
    {
     "name": "stdout",
     "output_type": "stream",
     "text": [
      "0.18278789520263672    leiUG5re4m8\n"
     ]
    },
    {
     "name": "stderr",
     "output_type": "stream",
     "text": [
      "  5%|▍         | 221/4504 [03:31<53:53,  1.32it/s]"
     ]
    },
    {
     "name": "stdout",
     "output_type": "stream",
     "text": [
      "0.21128499507904053    n1Y8x-DM6DI\n"
     ]
    },
    {
     "name": "stderr",
     "output_type": "stream",
     "text": [
      "  5%|▍         | 222/4504 [03:32<53:31,  1.33it/s]"
     ]
    },
    {
     "name": "stdout",
     "output_type": "stream",
     "text": [
      "0.16745512187480927    EWNjhLPss8o\n"
     ]
    },
    {
     "name": "stderr",
     "output_type": "stream",
     "text": [
      "  5%|▍         | 223/4504 [03:33<55:47,  1.28it/s]"
     ]
    },
    {
     "name": "stdout",
     "output_type": "stream",
     "text": [
      "0.09302052855491638    cbdk2qmFMI4\n"
     ]
    },
    {
     "name": "stderr",
     "output_type": "stream",
     "text": [
      "  5%|▍         | 224/4504 [03:34<1:03:06,  1.13it/s]"
     ]
    },
    {
     "name": "stdout",
     "output_type": "stream",
     "text": [
      "0.1161622405052185    FCv7HDlaqSA\n"
     ]
    },
    {
     "name": "stderr",
     "output_type": "stream",
     "text": [
      "  5%|▍         | 225/4504 [03:35<1:10:36,  1.01it/s]"
     ]
    },
    {
     "name": "stdout",
     "output_type": "stream",
     "text": [
      "0.11416315287351608    i_N4H4t0aFg\n"
     ]
    },
    {
     "name": "stderr",
     "output_type": "stream",
     "text": [
      "  5%|▌         | 226/4504 [03:36<1:12:35,  1.02s/it]"
     ]
    },
    {
     "name": "stdout",
     "output_type": "stream",
     "text": [
      "0.16254591941833496    74FhjUmo6Og\n"
     ]
    },
    {
     "name": "stderr",
     "output_type": "stream",
     "text": [
      "  5%|▌         | 227/4504 [03:37<1:06:20,  1.07it/s]"
     ]
    },
    {
     "name": "stdout",
     "output_type": "stream",
     "text": [
      "0.05836182460188866    jhs5BvrlT88\n"
     ]
    },
    {
     "name": "stderr",
     "output_type": "stream",
     "text": [
      "  5%|▌         | 228/4504 [03:38<1:10:03,  1.02it/s]"
     ]
    },
    {
     "name": "stdout",
     "output_type": "stream",
     "text": [
      "0.18612194061279297    ARI6J4PQ74c\n"
     ]
    },
    {
     "name": "stderr",
     "output_type": "stream",
     "text": [
      "  5%|▌         | 229/4504 [03:40<1:20:56,  1.14s/it]"
     ]
    },
    {
     "name": "stdout",
     "output_type": "stream",
     "text": [
      "0.16639886796474457    3Bejohn3D2c\n"
     ]
    },
    {
     "name": "stderr",
     "output_type": "stream",
     "text": [
      "  5%|▌         | 230/4504 [03:41<1:30:44,  1.27s/it]"
     ]
    },
    {
     "name": "stdout",
     "output_type": "stream",
     "text": [
      "0.13949334621429443    xBRhefx1qOc\n"
     ]
    },
    {
     "name": "stderr",
     "output_type": "stream",
     "text": [
      "  5%|▌         | 231/4504 [03:42<1:20:59,  1.14s/it]"
     ]
    },
    {
     "name": "stdout",
     "output_type": "stream",
     "text": [
      "0.09301497787237167    ZYI5bSJK1tU\n"
     ]
    },
    {
     "name": "stderr",
     "output_type": "stream",
     "text": [
      "  5%|▌         | 232/4504 [03:43<1:17:54,  1.09s/it]"
     ]
    },
    {
     "name": "stdout",
     "output_type": "stream",
     "text": [
      "0.09433493763208389    NHLH58L6VYA\n"
     ]
    },
    {
     "name": "stderr",
     "output_type": "stream",
     "text": [
      "  5%|▌         | 233/4504 [03:44<1:12:41,  1.02s/it]"
     ]
    },
    {
     "name": "stdout",
     "output_type": "stream",
     "text": [
      "0.08861652761697769    G8opfBP1rg8\n"
     ]
    },
    {
     "name": "stderr",
     "output_type": "stream",
     "text": [
      "  5%|▌         | 234/4504 [03:45<1:08:00,  1.05it/s]"
     ]
    },
    {
     "name": "stdout",
     "output_type": "stream",
     "text": [
      "0.030418923124670982    iCDYAunYQFA\n"
     ]
    },
    {
     "name": "stderr",
     "output_type": "stream",
     "text": [
      "  5%|▌         | 235/4504 [03:45<1:02:14,  1.14it/s]"
     ]
    },
    {
     "name": "stdout",
     "output_type": "stream",
     "text": [
      "0.2283858060836792    yvRSd9A3GGM\n"
     ]
    },
    {
     "name": "stderr",
     "output_type": "stream",
     "text": [
      "  5%|▌         | 236/4504 [03:46<58:33,  1.21it/s]  "
     ]
    },
    {
     "name": "stdout",
     "output_type": "stream",
     "text": [
      "0.25484344363212585    EICl50Aj8ro\n"
     ]
    },
    {
     "name": "stderr",
     "output_type": "stream",
     "text": [
      "  5%|▌         | 237/4504 [03:47<52:40,  1.35it/s]"
     ]
    },
    {
     "name": "stdout",
     "output_type": "stream",
     "text": [
      "0.22963277995586395    gq4PzMtTGxA\n"
     ]
    },
    {
     "name": "stderr",
     "output_type": "stream",
     "text": [
      "  5%|▌         | 238/4504 [03:48<55:16,  1.29it/s]"
     ]
    },
    {
     "name": "stdout",
     "output_type": "stream",
     "text": [
      "0.1620078831911087    u0xKDWXbFvY\n"
     ]
    },
    {
     "name": "stderr",
     "output_type": "stream",
     "text": [
      "  5%|▌         | 239/4504 [03:49<1:02:39,  1.13it/s]"
     ]
    },
    {
     "name": "stdout",
     "output_type": "stream",
     "text": [
      "0.16836653649806976    g-agU2r3JWY\n"
     ]
    },
    {
     "name": "stderr",
     "output_type": "stream",
     "text": [
      "  5%|▌         | 240/4504 [03:49<1:00:29,  1.17it/s]"
     ]
    },
    {
     "name": "stdout",
     "output_type": "stream",
     "text": [
      "0.13826532661914825    TzUawmn80XA\n"
     ]
    },
    {
     "name": "stderr",
     "output_type": "stream",
     "text": [
      "  5%|▌         | 241/4504 [03:50<57:05,  1.24it/s]  "
     ]
    },
    {
     "name": "stdout",
     "output_type": "stream",
     "text": [
      "0.2631930112838745    mh5g8rDQwzU\n"
     ]
    },
    {
     "name": "stderr",
     "output_type": "stream",
     "text": [
      "  5%|▌         | 242/4504 [03:51<53:51,  1.32it/s]"
     ]
    },
    {
     "name": "stdout",
     "output_type": "stream",
     "text": [
      "0.2174852043390274    M4IGy_aWug8\n"
     ]
    },
    {
     "name": "stderr",
     "output_type": "stream",
     "text": [
      "  5%|▌         | 243/4504 [03:52<54:39,  1.30it/s]"
     ]
    },
    {
     "name": "stdout",
     "output_type": "stream",
     "text": [
      "0.2336813360452652    TeCJ4s_9Gts\n"
     ]
    },
    {
     "name": "stderr",
     "output_type": "stream",
     "text": [
      "  5%|▌         | 244/4504 [03:52<53:15,  1.33it/s]"
     ]
    },
    {
     "name": "stdout",
     "output_type": "stream",
     "text": [
      "0.18590344488620758    hXQfRPOpXbY\n"
     ]
    },
    {
     "name": "stderr",
     "output_type": "stream",
     "text": [
      "  5%|▌         | 245/4504 [03:53<51:58,  1.37it/s]"
     ]
    },
    {
     "name": "stdout",
     "output_type": "stream",
     "text": [
      "0.21975290775299072    S5l6mCU8xL4\n"
     ]
    },
    {
     "name": "stderr",
     "output_type": "stream",
     "text": [
      "  5%|▌         | 246/4504 [03:54<55:16,  1.28it/s]"
     ]
    },
    {
     "name": "stdout",
     "output_type": "stream",
     "text": [
      "0.21554845571517944    MuFOH6Rtm1Y\n"
     ]
    },
    {
     "name": "stderr",
     "output_type": "stream",
     "text": [
      "  5%|▌         | 247/4504 [03:55<1:02:30,  1.14it/s]"
     ]
    },
    {
     "name": "stdout",
     "output_type": "stream",
     "text": [
      "0.1653517633676529    C2FACGzIJ3c\n"
     ]
    },
    {
     "name": "stderr",
     "output_type": "stream",
     "text": [
      "  6%|▌         | 248/4504 [03:56<1:03:08,  1.12it/s]"
     ]
    },
    {
     "name": "stdout",
     "output_type": "stream",
     "text": [
      "0.13851021230220795    CW65LazOX5s\n"
     ]
    },
    {
     "name": "stderr",
     "output_type": "stream",
     "text": [
      "  6%|▌         | 249/4504 [03:57<59:42,  1.19it/s]  "
     ]
    },
    {
     "name": "stdout",
     "output_type": "stream",
     "text": [
      "0.22499339282512665    kxQhRwgf2u4\n"
     ]
    },
    {
     "name": "stderr",
     "output_type": "stream",
     "text": [
      "  6%|▌         | 250/4504 [03:57<57:42,  1.23it/s]"
     ]
    },
    {
     "name": "stdout",
     "output_type": "stream",
     "text": [
      "0.18898653984069824    9uGmCSXJYgk\n"
     ]
    },
    {
     "name": "stderr",
     "output_type": "stream",
     "text": [
      "  6%|▌         | 251/4504 [03:58<56:40,  1.25it/s]"
     ]
    },
    {
     "name": "stdout",
     "output_type": "stream",
     "text": [
      "0.21954697370529175    FQ21tjyIOeo\n"
     ]
    },
    {
     "name": "stderr",
     "output_type": "stream",
     "text": [
      "  6%|▌         | 252/4504 [03:59<1:01:17,  1.16it/s]"
     ]
    },
    {
     "name": "stdout",
     "output_type": "stream",
     "text": [
      "0.2040974497795105    fIvSQsHKEHE\n"
     ]
    },
    {
     "name": "stderr",
     "output_type": "stream",
     "text": [
      "  6%|▌         | 253/4504 [04:00<57:26,  1.23it/s]  "
     ]
    },
    {
     "name": "stdout",
     "output_type": "stream",
     "text": [
      "0.2297133058309555    6ZDmDWITp9I\n"
     ]
    },
    {
     "name": "stderr",
     "output_type": "stream",
     "text": [
      "  6%|▌         | 254/4504 [04:01<55:34,  1.27it/s]"
     ]
    },
    {
     "name": "stdout",
     "output_type": "stream",
     "text": [
      "0.2304343730211258    heOuHHI_C4I\n"
     ]
    },
    {
     "name": "stderr",
     "output_type": "stream",
     "text": [
      "  6%|▌         | 255/4504 [04:01<58:10,  1.22it/s]"
     ]
    },
    {
     "name": "stdout",
     "output_type": "stream",
     "text": [
      "0.18275578320026398    5iNpvA7uwg4\n"
     ]
    },
    {
     "name": "stderr",
     "output_type": "stream",
     "text": [
      "  6%|▌         | 256/4504 [04:04<1:29:56,  1.27s/it]"
     ]
    },
    {
     "name": "stdout",
     "output_type": "stream",
     "text": [
      "0.15714341402053833    OSLSlojC8Yc\n"
     ]
    },
    {
     "name": "stderr",
     "output_type": "stream",
     "text": [
      "  6%|▌         | 257/4504 [04:05<1:22:48,  1.17s/it]"
     ]
    },
    {
     "name": "stdout",
     "output_type": "stream",
     "text": [
      "0.08789003640413284    z-uIawE6UTE\n"
     ]
    },
    {
     "name": "stderr",
     "output_type": "stream",
     "text": [
      "  6%|▌         | 258/4504 [04:06<1:20:48,  1.14s/it]"
     ]
    },
    {
     "name": "stdout",
     "output_type": "stream",
     "text": [
      "0.10501434653997421    i2TsSh3-yLU\n"
     ]
    },
    {
     "name": "stderr",
     "output_type": "stream",
     "text": [
      "  6%|▌         | 259/4504 [04:07<1:18:14,  1.11s/it]"
     ]
    },
    {
     "name": "stdout",
     "output_type": "stream",
     "text": [
      "0.16382922232151031    HetQbwCA5ys\n"
     ]
    },
    {
     "name": "stderr",
     "output_type": "stream",
     "text": [
      "  6%|▌         | 260/4504 [04:08<1:09:43,  1.01it/s]"
     ]
    },
    {
     "name": "stdout",
     "output_type": "stream",
     "text": [
      "0.1841059774160385    meeLkuHoswI\n"
     ]
    },
    {
     "name": "stderr",
     "output_type": "stream",
     "text": [
      "  6%|▌         | 261/4504 [04:08<1:05:37,  1.08it/s]"
     ]
    },
    {
     "name": "stdout",
     "output_type": "stream",
     "text": [
      "0.3068050742149353    SvaITbil4vQ\n"
     ]
    },
    {
     "name": "stderr",
     "output_type": "stream",
     "text": [
      "  6%|▌         | 262/4504 [04:10<1:15:48,  1.07s/it]"
     ]
    },
    {
     "name": "stdout",
     "output_type": "stream",
     "text": [
      "0.07037875801324844    68YnJLnHDuU\n"
     ]
    },
    {
     "name": "stderr",
     "output_type": "stream",
     "text": [
      "  6%|▌         | 263/4504 [04:11<1:19:37,  1.13s/it]"
     ]
    },
    {
     "name": "stdout",
     "output_type": "stream",
     "text": [
      "0.2577154040336609    iFMG2f2-BNs\n"
     ]
    },
    {
     "name": "stderr",
     "output_type": "stream",
     "text": [
      "  6%|▌         | 264/4504 [04:12<1:11:44,  1.02s/it]"
     ]
    },
    {
     "name": "stdout",
     "output_type": "stream",
     "text": [
      "0.15221019089221954    HQwNWuC5k-A\n"
     ]
    },
    {
     "name": "stderr",
     "output_type": "stream",
     "text": [
      "  6%|▌         | 265/4504 [04:13<1:05:59,  1.07it/s]"
     ]
    },
    {
     "name": "stdout",
     "output_type": "stream",
     "text": [
      "0.15325938165187836    zakYfUoo7fg\n"
     ]
    },
    {
     "name": "stderr",
     "output_type": "stream",
     "text": [
      "  6%|▌         | 266/4504 [04:13<1:03:38,  1.11it/s]"
     ]
    },
    {
     "name": "stdout",
     "output_type": "stream",
     "text": [
      "0.08398023992776871    FSPQ6x1y2oU\n"
     ]
    },
    {
     "name": "stderr",
     "output_type": "stream",
     "text": [
      "  6%|▌         | 267/4504 [04:14<1:01:15,  1.15it/s]"
     ]
    },
    {
     "name": "stdout",
     "output_type": "stream",
     "text": [
      "0.16141670942306519    2TiSPUImHbQ\n"
     ]
    },
    {
     "name": "stderr",
     "output_type": "stream",
     "text": [
      "  6%|▌         | 268/4504 [04:15<59:28,  1.19it/s]  "
     ]
    },
    {
     "name": "stdout",
     "output_type": "stream",
     "text": [
      "0.22505927085876465    GojXvlVfcAU\n"
     ]
    },
    {
     "name": "stderr",
     "output_type": "stream",
     "text": [
      "  6%|▌         | 269/4504 [04:16<58:42,  1.20it/s]"
     ]
    },
    {
     "name": "stdout",
     "output_type": "stream",
     "text": [
      "0.165155291557312    R0eS9tica-4\n"
     ]
    },
    {
     "name": "stderr",
     "output_type": "stream",
     "text": [
      "  6%|▌         | 270/4504 [04:17<1:09:50,  1.01it/s]"
     ]
    },
    {
     "name": "stdout",
     "output_type": "stream",
     "text": [
      "0.20530034601688385    k2d_jSuXNM0\n"
     ]
    },
    {
     "name": "stderr",
     "output_type": "stream",
     "text": [
      "  6%|▌         | 271/4504 [04:19<1:19:05,  1.12s/it]"
     ]
    },
    {
     "name": "stdout",
     "output_type": "stream",
     "text": [
      "0.08145050704479218    8mRzKhlcH6o\n"
     ]
    },
    {
     "name": "stderr",
     "output_type": "stream",
     "text": [
      "  6%|▌         | 272/4504 [04:19<1:08:23,  1.03it/s]"
     ]
    },
    {
     "name": "stdout",
     "output_type": "stream",
     "text": [
      "0.21333062648773193    BXYpXbfF2Xk\n"
     ]
    },
    {
     "name": "stderr",
     "output_type": "stream",
     "text": [
      "  6%|▌         | 273/4504 [04:20<1:00:45,  1.16it/s]"
     ]
    },
    {
     "name": "stdout",
     "output_type": "stream",
     "text": [
      "0.2108534425497055    fFLdqPRBToI\n"
     ]
    },
    {
     "name": "stderr",
     "output_type": "stream",
     "text": [
      "  6%|▌         | 274/4504 [04:20<56:57,  1.24it/s]  "
     ]
    },
    {
     "name": "stdout",
     "output_type": "stream",
     "text": [
      "0.18963415920734406    -J8tUNVD7u4\n"
     ]
    },
    {
     "name": "stderr",
     "output_type": "stream",
     "text": [
      "  6%|▌         | 275/4504 [04:21<51:47,  1.36it/s]"
     ]
    },
    {
     "name": "stdout",
     "output_type": "stream",
     "text": [
      "0.23015587031841278    ebwA9efjDyg\n"
     ]
    },
    {
     "name": "stderr",
     "output_type": "stream",
     "text": [
      "  6%|▌         | 276/4504 [04:22<52:52,  1.33it/s]"
     ]
    },
    {
     "name": "stdout",
     "output_type": "stream",
     "text": [
      "0.2513347566127777    S-YEu_UJiio\n"
     ]
    },
    {
     "name": "stderr",
     "output_type": "stream",
     "text": [
      "  6%|▌         | 277/4504 [04:22<52:11,  1.35it/s]"
     ]
    },
    {
     "name": "stdout",
     "output_type": "stream",
     "text": [
      "0.22547990083694458    70phFq2MnD4\n"
     ]
    },
    {
     "name": "stderr",
     "output_type": "stream",
     "text": [
      "  6%|▌         | 278/4504 [04:23<51:42,  1.36it/s]"
     ]
    },
    {
     "name": "stdout",
     "output_type": "stream",
     "text": [
      "0.267354816198349    Kg_moYtLH0Q\n"
     ]
    },
    {
     "name": "stderr",
     "output_type": "stream",
     "text": [
      "  6%|▌         | 279/4504 [04:25<1:07:35,  1.04it/s]"
     ]
    },
    {
     "name": "stdout",
     "output_type": "stream",
     "text": [
      "0.20427566766738892    YkiG5gE8Q8A\n"
     ]
    },
    {
     "name": "stderr",
     "output_type": "stream",
     "text": [
      "  6%|▌         | 280/4504 [04:26<1:05:52,  1.07it/s]"
     ]
    },
    {
     "name": "stdout",
     "output_type": "stream",
     "text": [
      "0.11026784777641296    B_-g9Pp2bBQ\n"
     ]
    },
    {
     "name": "stderr",
     "output_type": "stream",
     "text": [
      "  6%|▌         | 281/4504 [04:26<59:44,  1.18it/s]  "
     ]
    },
    {
     "name": "stdout",
     "output_type": "stream",
     "text": [
      "0.27639371156692505    sgm_zU_W5jc\n"
     ]
    },
    {
     "name": "stderr",
     "output_type": "stream",
     "text": [
      "  6%|▋         | 282/4504 [04:27<59:43,  1.18it/s]"
     ]
    },
    {
     "name": "stdout",
     "output_type": "stream",
     "text": [
      "0.20501603186130524    B5Kw5S2kfw8\n"
     ]
    },
    {
     "name": "stderr",
     "output_type": "stream",
     "text": [
      "  6%|▋         | 283/4504 [04:28<1:03:08,  1.11it/s]"
     ]
    },
    {
     "name": "stdout",
     "output_type": "stream",
     "text": [
      "0.1840398907661438    -45uiNBc-KY\n"
     ]
    },
    {
     "name": "stderr",
     "output_type": "stream",
     "text": [
      "  6%|▋         | 284/4504 [04:29<59:40,  1.18it/s]  "
     ]
    },
    {
     "name": "stdout",
     "output_type": "stream",
     "text": [
      "0.16505809128284454    bUMd5TYbhMo\n"
     ]
    },
    {
     "name": "stderr",
     "output_type": "stream",
     "text": [
      "  6%|▋         | 285/4504 [04:30<59:57,  1.17it/s]"
     ]
    },
    {
     "name": "stdout",
     "output_type": "stream",
     "text": [
      "0.29912614822387695    i255mA2XDLg\n"
     ]
    },
    {
     "name": "stderr",
     "output_type": "stream",
     "text": [
      "  6%|▋         | 286/4504 [04:31<1:02:38,  1.12it/s]"
     ]
    },
    {
     "name": "stdout",
     "output_type": "stream",
     "text": [
      "0.1823602169752121    FKlWh9e33Ks\n"
     ]
    },
    {
     "name": "stderr",
     "output_type": "stream",
     "text": [
      "  6%|▋         | 287/4504 [04:33<1:28:22,  1.26s/it]"
     ]
    },
    {
     "name": "stdout",
     "output_type": "stream",
     "text": [
      "0.18780188262462616    vYR-oN1Fols\n"
     ]
    },
    {
     "name": "stderr",
     "output_type": "stream",
     "text": [
      "  6%|▋         | 288/4504 [04:34<1:28:57,  1.27s/it]"
     ]
    },
    {
     "name": "stdout",
     "output_type": "stream",
     "text": [
      "0.16051970422267914    qmHxjcYCgJI\n"
     ]
    },
    {
     "name": "stderr",
     "output_type": "stream",
     "text": [
      "  6%|▋         | 289/4504 [04:35<1:30:42,  1.29s/it]"
     ]
    },
    {
     "name": "stdout",
     "output_type": "stream",
     "text": [
      "0.19936668872833252    1HbTJ6LjMkg\n"
     ]
    },
    {
     "name": "stderr",
     "output_type": "stream",
     "text": [
      "  6%|▋         | 290/4504 [04:36<1:20:15,  1.14s/it]"
     ]
    },
    {
     "name": "stdout",
     "output_type": "stream",
     "text": [
      "0.1264471411705017    erLg5U_1SqY\n"
     ]
    },
    {
     "name": "stderr",
     "output_type": "stream",
     "text": [
      "  6%|▋         | 291/4504 [04:37<1:13:03,  1.04s/it]"
     ]
    },
    {
     "name": "stdout",
     "output_type": "stream",
     "text": [
      "0.14634764194488525    LsNOE_ApxG0\n"
     ]
    },
    {
     "name": "stderr",
     "output_type": "stream",
     "text": [
      "  6%|▋         | 292/4504 [04:38<1:09:40,  1.01it/s]"
     ]
    },
    {
     "name": "stdout",
     "output_type": "stream",
     "text": [
      "0.12350425869226456    8DGcT8d-43I\n"
     ]
    },
    {
     "name": "stderr",
     "output_type": "stream",
     "text": [
      "  7%|▋         | 293/4504 [04:39<1:11:29,  1.02s/it]"
     ]
    },
    {
     "name": "stdout",
     "output_type": "stream",
     "text": [
      "0.10878685861825943    mni8sZJSdfQ\n"
     ]
    },
    {
     "name": "stderr",
     "output_type": "stream",
     "text": [
      "  7%|▋         | 294/4504 [04:40<1:09:53,  1.00it/s]"
     ]
    },
    {
     "name": "stdout",
     "output_type": "stream",
     "text": [
      "0.08967045694589615    CDBkv2Az8RY\n"
     ]
    },
    {
     "name": "stderr",
     "output_type": "stream",
     "text": [
      "  7%|▋         | 295/4504 [04:41<1:04:27,  1.09it/s]"
     ]
    },
    {
     "name": "stdout",
     "output_type": "stream",
     "text": [
      "0.16557027399539948    AuI_MMfceNQ\n"
     ]
    },
    {
     "name": "stderr",
     "output_type": "stream",
     "text": [
      "  7%|▋         | 296/4504 [04:42<1:05:29,  1.07it/s]"
     ]
    },
    {
     "name": "stdout",
     "output_type": "stream",
     "text": [
      "0.16097885370254517    cF6LgZktn3k\n"
     ]
    },
    {
     "name": "stderr",
     "output_type": "stream",
     "text": [
      "  7%|▋         | 297/4504 [04:42<1:02:24,  1.12it/s]"
     ]
    },
    {
     "name": "stdout",
     "output_type": "stream",
     "text": [
      "0.24056701362133026    YAnFVLP1orQ\n"
     ]
    },
    {
     "name": "stderr",
     "output_type": "stream",
     "text": [
      "  7%|▋         | 298/4504 [04:43<59:45,  1.17it/s]  "
     ]
    },
    {
     "name": "stdout",
     "output_type": "stream",
     "text": [
      "0.10903459787368774    1c3AV5X1exg\n"
     ]
    },
    {
     "name": "stderr",
     "output_type": "stream",
     "text": [
      "  7%|▋         | 299/4504 [04:44<55:45,  1.26it/s]"
     ]
    },
    {
     "name": "stdout",
     "output_type": "stream",
     "text": [
      "0.1058640107512474    X3A2Wfqcoko\n"
     ]
    },
    {
     "name": "stderr",
     "output_type": "stream",
     "text": [
      "  7%|▋         | 300/4504 [04:44<51:59,  1.35it/s]"
     ]
    },
    {
     "name": "stdout",
     "output_type": "stream",
     "text": [
      "0.20642609894275665    65PZvB-2aqw\n"
     ]
    },
    {
     "name": "stderr",
     "output_type": "stream",
     "text": [
      "  7%|▋         | 301/4504 [04:46<1:17:13,  1.10s/it]"
     ]
    },
    {
     "name": "stdout",
     "output_type": "stream",
     "text": [
      "0.27027902007102966    GgS8H0L9Uy8\n"
     ]
    },
    {
     "name": "stderr",
     "output_type": "stream",
     "text": [
      "  7%|▋         | 302/4504 [04:47<1:09:06,  1.01it/s]"
     ]
    },
    {
     "name": "stdout",
     "output_type": "stream",
     "text": [
      "0.21915674209594727    cLKgmqed-rY\n"
     ]
    },
    {
     "name": "stderr",
     "output_type": "stream",
     "text": [
      "  7%|▋         | 303/4504 [04:48<1:02:18,  1.12it/s]"
     ]
    },
    {
     "name": "stdout",
     "output_type": "stream",
     "text": [
      "0.2968606948852539    oTEmWvK453U\n"
     ]
    },
    {
     "name": "stderr",
     "output_type": "stream",
     "text": [
      "  7%|▋         | 304/4504 [04:49<1:10:31,  1.01s/it]"
     ]
    },
    {
     "name": "stdout",
     "output_type": "stream",
     "text": [
      "0.18486130237579346    G28uj1O6xcw\n"
     ]
    },
    {
     "name": "stderr",
     "output_type": "stream",
     "text": [
      "  7%|▋         | 305/4504 [04:50<1:11:48,  1.03s/it]"
     ]
    },
    {
     "name": "stdout",
     "output_type": "stream",
     "text": [
      "0.2452741116285324    BgcwRob6S7c\n"
     ]
    },
    {
     "name": "stderr",
     "output_type": "stream",
     "text": [
      "  7%|▋         | 306/4504 [04:51<1:08:02,  1.03it/s]"
     ]
    },
    {
     "name": "stdout",
     "output_type": "stream",
     "text": [
      "0.2119169384241104    xOMVDdzZCAE\n"
     ]
    },
    {
     "name": "stderr",
     "output_type": "stream",
     "text": [
      "  7%|▋         | 307/4504 [04:52<1:10:34,  1.01s/it]"
     ]
    },
    {
     "name": "stdout",
     "output_type": "stream",
     "text": [
      "0.15937116742134094    _jmYodtbYKE\n"
     ]
    },
    {
     "name": "stderr",
     "output_type": "stream",
     "text": [
      "  7%|▋         | 308/4504 [04:53<1:05:41,  1.06it/s]"
     ]
    },
    {
     "name": "stdout",
     "output_type": "stream",
     "text": [
      "0.14429356157779694    nmapTAJcA4E\n"
     ]
    },
    {
     "name": "stderr",
     "output_type": "stream",
     "text": [
      "  7%|▋         | 309/4504 [04:54<1:06:01,  1.06it/s]"
     ]
    },
    {
     "name": "stdout",
     "output_type": "stream",
     "text": [
      "0.18564583361148834    fhHGI_yXbyI\n"
     ]
    },
    {
     "name": "stderr",
     "output_type": "stream",
     "text": [
      "  7%|▋         | 310/4504 [04:54<1:00:26,  1.16it/s]"
     ]
    },
    {
     "name": "stdout",
     "output_type": "stream",
     "text": [
      "0.2119366079568863    wPGNUPVjgzk\n"
     ]
    },
    {
     "name": "stderr",
     "output_type": "stream",
     "text": [
      "  7%|▋         | 311/4504 [04:55<57:34,  1.21it/s]  "
     ]
    },
    {
     "name": "stdout",
     "output_type": "stream",
     "text": [
      "0.1628895252943039    pJtu9gf-xOg\n"
     ]
    },
    {
     "name": "stderr",
     "output_type": "stream",
     "text": [
      "  7%|▋         | 312/4504 [04:56<54:01,  1.29it/s]"
     ]
    },
    {
     "name": "stdout",
     "output_type": "stream",
     "text": [
      "0.11831559985876083    Mq-vL_V_3hA\n"
     ]
    },
    {
     "name": "stderr",
     "output_type": "stream",
     "text": [
      "  7%|▋         | 313/4504 [04:57<54:16,  1.29it/s]"
     ]
    },
    {
     "name": "stdout",
     "output_type": "stream",
     "text": [
      "0.319094717502594    NhjRcdbPpMg\n"
     ]
    },
    {
     "name": "stderr",
     "output_type": "stream",
     "text": [
      "  7%|▋         | 314/4504 [04:57<54:02,  1.29it/s]"
     ]
    },
    {
     "name": "stdout",
     "output_type": "stream",
     "text": [
      "0.2897791266441345    7-l-_Av3I6I\n"
     ]
    },
    {
     "name": "stderr",
     "output_type": "stream",
     "text": [
      "  7%|▋         | 315/4504 [04:58<55:24,  1.26it/s]"
     ]
    },
    {
     "name": "stdout",
     "output_type": "stream",
     "text": [
      "0.23507146537303925    hdeJUcDYTqY\n"
     ]
    },
    {
     "name": "stderr",
     "output_type": "stream",
     "text": [
      "  7%|▋         | 316/4504 [04:59<1:00:31,  1.15it/s]"
     ]
    },
    {
     "name": "stdout",
     "output_type": "stream",
     "text": [
      "0.12839771807193756    bLoHGlpQdaU\n"
     ]
    },
    {
     "name": "stderr",
     "output_type": "stream",
     "text": [
      "  7%|▋         | 317/4504 [05:00<1:02:46,  1.11it/s]"
     ]
    },
    {
     "name": "stdout",
     "output_type": "stream",
     "text": [
      "0.22123046219348907    4RNYUpDgp10\n"
     ]
    },
    {
     "name": "stderr",
     "output_type": "stream",
     "text": [
      "  7%|▋         | 318/4504 [05:01<57:58,  1.20it/s]  "
     ]
    },
    {
     "name": "stdout",
     "output_type": "stream",
     "text": [
      "0.1745314747095108    8waoAttTffY\n"
     ]
    },
    {
     "name": "stderr",
     "output_type": "stream",
     "text": [
      "  7%|▋         | 319/4504 [05:02<1:00:05,  1.16it/s]"
     ]
    },
    {
     "name": "stdout",
     "output_type": "stream",
     "text": [
      "0.07659321278333664    RmN529MFKpU\n"
     ]
    },
    {
     "name": "stderr",
     "output_type": "stream",
     "text": [
      "  7%|▋         | 320/4504 [05:03<59:18,  1.18it/s]  "
     ]
    },
    {
     "name": "stdout",
     "output_type": "stream",
     "text": [
      "0.21233969926834106    99vuxK3Z14Y\n"
     ]
    },
    {
     "name": "stderr",
     "output_type": "stream",
     "text": [
      "  7%|▋         | 321/4504 [05:04<58:46,  1.19it/s]"
     ]
    },
    {
     "name": "stdout",
     "output_type": "stream",
     "text": [
      "0.1278521567583084    5WzUWDhp4Ow\n"
     ]
    },
    {
     "name": "stderr",
     "output_type": "stream",
     "text": [
      "  7%|▋         | 322/4504 [05:04<1:01:38,  1.13it/s]"
     ]
    },
    {
     "name": "stdout",
     "output_type": "stream",
     "text": [
      "0.2166745513677597    cTQMX0n48-Q\n"
     ]
    },
    {
     "name": "stderr",
     "output_type": "stream",
     "text": [
      "  7%|▋         | 323/4504 [05:06<1:13:01,  1.05s/it]"
     ]
    },
    {
     "name": "stdout",
     "output_type": "stream",
     "text": [
      "0.21363990008831024    96T_cMJJthU\n"
     ]
    },
    {
     "name": "stderr",
     "output_type": "stream",
     "text": [
      "  7%|▋         | 324/4504 [05:08<1:30:19,  1.30s/it]"
     ]
    },
    {
     "name": "stdout",
     "output_type": "stream",
     "text": [
      "0.1704849749803543    UvOn_jVrSAg\n"
     ]
    },
    {
     "name": "stderr",
     "output_type": "stream",
     "text": [
      "  7%|▋         | 325/4504 [05:09<1:26:20,  1.24s/it]"
     ]
    },
    {
     "name": "stdout",
     "output_type": "stream",
     "text": [
      "0.21739494800567627    s3X_N5Y2fUY\n"
     ]
    },
    {
     "name": "stderr",
     "output_type": "stream",
     "text": [
      "  7%|▋         | 326/4504 [05:10<1:15:55,  1.09s/it]"
     ]
    },
    {
     "name": "stdout",
     "output_type": "stream",
     "text": [
      "0.17594069242477417    POPtzy-5jLg\n"
     ]
    },
    {
     "name": "stderr",
     "output_type": "stream",
     "text": [
      "  7%|▋         | 327/4504 [05:10<1:07:32,  1.03it/s]"
     ]
    },
    {
     "name": "stdout",
     "output_type": "stream",
     "text": [
      "0.1860029548406601    v_zazV2r3Qc\n"
     ]
    },
    {
     "name": "stderr",
     "output_type": "stream",
     "text": [
      "  7%|▋         | 328/4504 [05:11<1:01:01,  1.14it/s]"
     ]
    },
    {
     "name": "stdout",
     "output_type": "stream",
     "text": [
      "0.1922527700662613    XW0XiPLImeg\n"
     ]
    },
    {
     "name": "stderr",
     "output_type": "stream",
     "text": [
      "  7%|▋         | 329/4504 [05:12<57:10,  1.22it/s]  "
     ]
    },
    {
     "name": "stdout",
     "output_type": "stream",
     "text": [
      "0.17443828284740448    RsgydG1bTm4\n"
     ]
    },
    {
     "name": "stderr",
     "output_type": "stream",
     "text": [
      "  7%|▋         | 330/4504 [05:12<53:07,  1.31it/s]"
     ]
    },
    {
     "name": "stdout",
     "output_type": "stream",
     "text": [
      "0.23803795874118805    VV-_swO-S8k\n"
     ]
    },
    {
     "name": "stderr",
     "output_type": "stream",
     "text": [
      "  7%|▋         | 331/4504 [05:13<53:32,  1.30it/s]"
     ]
    },
    {
     "name": "stdout",
     "output_type": "stream",
     "text": [
      "0.15216703712940216    OatSU906QT0\n"
     ]
    },
    {
     "name": "stderr",
     "output_type": "stream",
     "text": [
      "  7%|▋         | 332/4504 [05:14<1:00:44,  1.14it/s]"
     ]
    },
    {
     "name": "stdout",
     "output_type": "stream",
     "text": [
      "0.1934909224510193    OMiwTN9XLGM\n"
     ]
    },
    {
     "name": "stderr",
     "output_type": "stream",
     "text": [
      "  7%|▋         | 333/4504 [05:15<1:00:58,  1.14it/s]"
     ]
    },
    {
     "name": "stdout",
     "output_type": "stream",
     "text": [
      "0.2508198320865631    2Tp70X_U5og\n"
     ]
    },
    {
     "name": "stderr",
     "output_type": "stream",
     "text": [
      "  7%|▋         | 334/4504 [05:16<57:05,  1.22it/s]  "
     ]
    },
    {
     "name": "stdout",
     "output_type": "stream",
     "text": [
      "0.23441533744335175    fCAUbCwsQ9A\n"
     ]
    },
    {
     "name": "stderr",
     "output_type": "stream",
     "text": [
      "  7%|▋         | 335/4504 [05:17<57:46,  1.20it/s]"
     ]
    },
    {
     "name": "stdout",
     "output_type": "stream",
     "text": [
      "0.14740611612796783    ttAYTle1ocw\n"
     ]
    },
    {
     "name": "stderr",
     "output_type": "stream",
     "text": [
      "  7%|▋         | 336/4504 [05:17<57:15,  1.21it/s]"
     ]
    },
    {
     "name": "stdout",
     "output_type": "stream",
     "text": [
      "0.2493269294500351    L1cXBYBIkWA\n"
     ]
    },
    {
     "name": "stderr",
     "output_type": "stream",
     "text": [
      "  7%|▋         | 337/4504 [05:18<58:15,  1.19it/s]"
     ]
    },
    {
     "name": "stdout",
     "output_type": "stream",
     "text": [
      "0.16244398057460785    IHxz_qjL9D0\n"
     ]
    },
    {
     "name": "stderr",
     "output_type": "stream",
     "text": [
      "  8%|▊         | 338/4504 [05:19<57:05,  1.22it/s]"
     ]
    },
    {
     "name": "stdout",
     "output_type": "stream",
     "text": [
      "0.1168796643614769    XEkMBsW5qOA\n"
     ]
    },
    {
     "name": "stderr",
     "output_type": "stream",
     "text": [
      "  8%|▊         | 339/4504 [05:20<57:21,  1.21it/s]"
     ]
    },
    {
     "name": "stdout",
     "output_type": "stream",
     "text": [
      "0.08816546201705933    5d0hw4TZfFU\n"
     ]
    },
    {
     "name": "stderr",
     "output_type": "stream",
     "text": [
      "  8%|▊         | 340/4504 [05:22<1:29:22,  1.29s/it]"
     ]
    },
    {
     "name": "stdout",
     "output_type": "stream",
     "text": [
      "0.18682706356048584    QThC10R9mMA\n"
     ]
    },
    {
     "name": "stderr",
     "output_type": "stream",
     "text": [
      "  8%|▊         | 341/4504 [05:23<1:25:31,  1.23s/it]"
     ]
    },
    {
     "name": "stdout",
     "output_type": "stream",
     "text": [
      "0.1824561208486557    8rAKrGSj3No\n"
     ]
    },
    {
     "name": "stderr",
     "output_type": "stream",
     "text": [
      "  8%|▊         | 342/4504 [05:25<1:25:28,  1.23s/it]"
     ]
    },
    {
     "name": "stdout",
     "output_type": "stream",
     "text": [
      "0.10193177312612534    dNiLrpYD_uk\n"
     ]
    },
    {
     "name": "stderr",
     "output_type": "stream",
     "text": [
      "  8%|▊         | 343/4504 [05:25<1:15:59,  1.10s/it]"
     ]
    },
    {
     "name": "stdout",
     "output_type": "stream",
     "text": [
      "0.1762307733297348    xro4pjbE7Xs\n"
     ]
    },
    {
     "name": "stderr",
     "output_type": "stream",
     "text": [
      "  8%|▊         | 344/4504 [05:26<1:08:48,  1.01it/s]"
     ]
    },
    {
     "name": "stdout",
     "output_type": "stream",
     "text": [
      "0.13770468533039093    5uAfBTnxMq4\n"
     ]
    },
    {
     "name": "stderr",
     "output_type": "stream",
     "text": [
      "  8%|▊         | 345/4504 [05:27<1:05:17,  1.06it/s]"
     ]
    },
    {
     "name": "stdout",
     "output_type": "stream",
     "text": [
      "0.05398574844002724    MW5TnTnQ_1Q\n"
     ]
    },
    {
     "name": "stderr",
     "output_type": "stream",
     "text": [
      "  8%|▊         | 346/4504 [05:28<1:03:38,  1.09it/s]"
     ]
    },
    {
     "name": "stdout",
     "output_type": "stream",
     "text": [
      "0.16224706172943115    4oRgLcuGO74\n"
     ]
    },
    {
     "name": "stderr",
     "output_type": "stream",
     "text": [
      "  8%|▊         | 347/4504 [05:30<1:34:21,  1.36s/it]"
     ]
    },
    {
     "name": "stdout",
     "output_type": "stream",
     "text": [
      "0.20675690472126007    AYQmIlzRRI8\n"
     ]
    },
    {
     "name": "stderr",
     "output_type": "stream",
     "text": [
      "  8%|▊         | 348/4504 [05:31<1:22:09,  1.19s/it]"
     ]
    },
    {
     "name": "stdout",
     "output_type": "stream",
     "text": [
      "0.11303634196519852    SxkDjZ7GOM8\n"
     ]
    },
    {
     "name": "stderr",
     "output_type": "stream",
     "text": [
      "  8%|▊         | 349/4504 [05:32<1:16:30,  1.10s/it]"
     ]
    },
    {
     "name": "stdout",
     "output_type": "stream",
     "text": [
      "0.14616522192955017    iS9SAXgusq4\n"
     ]
    },
    {
     "name": "stderr",
     "output_type": "stream",
     "text": [
      "  8%|▊         | 350/4504 [05:33<1:11:10,  1.03s/it]"
     ]
    },
    {
     "name": "stdout",
     "output_type": "stream",
     "text": [
      "0.1341567039489746    n1eiHMsTWiE\n"
     ]
    },
    {
     "name": "stderr",
     "output_type": "stream",
     "text": [
      "  8%|▊         | 351/4504 [05:34<1:07:25,  1.03it/s]"
     ]
    },
    {
     "name": "stdout",
     "output_type": "stream",
     "text": [
      "0.23503999412059784    LNOKw93wnRk\n"
     ]
    },
    {
     "name": "stderr",
     "output_type": "stream",
     "text": [
      "  8%|▊         | 352/4504 [05:34<1:04:43,  1.07it/s]"
     ]
    },
    {
     "name": "stdout",
     "output_type": "stream",
     "text": [
      "0.2302556186914444    CENTSXvuKSE\n"
     ]
    },
    {
     "name": "stderr",
     "output_type": "stream",
     "text": [
      "  8%|▊         | 353/4504 [05:35<1:00:31,  1.14it/s]"
     ]
    },
    {
     "name": "stdout",
     "output_type": "stream",
     "text": [
      "0.09030395746231079    XzD5byHxW68\n"
     ]
    },
    {
     "name": "stderr",
     "output_type": "stream",
     "text": [
      "  8%|▊         | 354/4504 [05:36<1:01:08,  1.13it/s]"
     ]
    },
    {
     "name": "stdout",
     "output_type": "stream",
     "text": [
      "0.17260587215423584    3Ujg5K8nDTQ\n"
     ]
    },
    {
     "name": "stderr",
     "output_type": "stream",
     "text": [
      "  8%|▊         | 355/4504 [05:37<59:36,  1.16it/s]  "
     ]
    },
    {
     "name": "stdout",
     "output_type": "stream",
     "text": [
      "0.15171664953231812    NEnaxn-nRLo\n"
     ]
    },
    {
     "name": "stderr",
     "output_type": "stream",
     "text": [
      "  8%|▊         | 356/4504 [05:38<54:57,  1.26it/s]"
     ]
    },
    {
     "name": "stdout",
     "output_type": "stream",
     "text": [
      "0.28519871830940247    gG3AAgDjF6M\n"
     ]
    },
    {
     "name": "stderr",
     "output_type": "stream",
     "text": [
      "  8%|▊         | 357/4504 [05:38<53:16,  1.30it/s]"
     ]
    },
    {
     "name": "stdout",
     "output_type": "stream",
     "text": [
      "0.24736164510250092    7ud9Yshseww\n"
     ]
    },
    {
     "name": "stderr",
     "output_type": "stream",
     "text": [
      "  8%|▊         | 358/4504 [05:39<53:31,  1.29it/s]"
     ]
    },
    {
     "name": "stdout",
     "output_type": "stream",
     "text": [
      "0.2567846179008484    JU517Lpz64Q\n"
     ]
    },
    {
     "name": "stderr",
     "output_type": "stream",
     "text": [
      "  8%|▊         | 359/4504 [05:40<56:11,  1.23it/s]"
     ]
    },
    {
     "name": "stdout",
     "output_type": "stream",
     "text": [
      "0.28435835242271423    S2GVvXkKLeU\n"
     ]
    },
    {
     "name": "stderr",
     "output_type": "stream",
     "text": [
      "  8%|▊         | 360/4504 [05:41<58:27,  1.18it/s]"
     ]
    },
    {
     "name": "stdout",
     "output_type": "stream",
     "text": [
      "0.20999176800251007    GkZ6xJZ-BzY\n"
     ]
    },
    {
     "name": "stderr",
     "output_type": "stream",
     "text": [
      "  8%|▊         | 361/4504 [05:42<58:11,  1.19it/s]"
     ]
    },
    {
     "name": "stdout",
     "output_type": "stream",
     "text": [
      "0.24820716679096222    qBzoqgnSkUY\n"
     ]
    },
    {
     "name": "stderr",
     "output_type": "stream",
     "text": [
      "  8%|▊         | 362/4504 [05:44<1:24:46,  1.23s/it]"
     ]
    },
    {
     "name": "stdout",
     "output_type": "stream",
     "text": [
      "0.12541130185127258    eKudrSrjwFM\n"
     ]
    },
    {
     "name": "stderr",
     "output_type": "stream",
     "text": [
      "  8%|▊         | 363/4504 [05:45<1:14:41,  1.08s/it]"
     ]
    },
    {
     "name": "stdout",
     "output_type": "stream",
     "text": [
      "0.18792963027954102    MOSzLYnA_14\n"
     ]
    },
    {
     "name": "stderr",
     "output_type": "stream",
     "text": [
      "  8%|▊         | 364/4504 [05:45<1:06:38,  1.04it/s]"
     ]
    },
    {
     "name": "stdout",
     "output_type": "stream",
     "text": [
      "0.18251217901706696    TOPIXbkj70k\n"
     ]
    },
    {
     "name": "stderr",
     "output_type": "stream",
     "text": [
      "  8%|▊         | 365/4504 [05:46<1:03:55,  1.08it/s]"
     ]
    },
    {
     "name": "stdout",
     "output_type": "stream",
     "text": [
      "0.1899208277463913    aDbbH734ThA\n"
     ]
    },
    {
     "name": "stderr",
     "output_type": "stream",
     "text": [
      "  8%|▊         | 366/4504 [05:47<1:05:28,  1.05it/s]"
     ]
    },
    {
     "name": "stdout",
     "output_type": "stream",
     "text": [
      "0.20376305282115936    VgUVzkHVc7I\n"
     ]
    },
    {
     "name": "stderr",
     "output_type": "stream",
     "text": [
      "  8%|▊         | 367/4504 [05:48<1:02:12,  1.11it/s]"
     ]
    },
    {
     "name": "stdout",
     "output_type": "stream",
     "text": [
      "0.11871784925460815    7gfbk82ksLY\n"
     ]
    },
    {
     "name": "stderr",
     "output_type": "stream",
     "text": [
      "  8%|▊         | 367/4504 [05:49<1:05:35,  1.05it/s]\n"
     ]
    },
    {
     "ename": "KeyboardInterrupt",
     "evalue": "",
     "output_type": "error",
     "traceback": [
      "\u001b[0;31m---------------------------------------------------------------------------\u001b[0m",
      "\u001b[0;31mKeyboardInterrupt\u001b[0m                         Traceback (most recent call last)",
      "Cell \u001b[0;32mIn[17], line 5\u001b[0m\n\u001b[1;32m      3\u001b[0m \u001b[38;5;28;01mfor\u001b[39;00m video \u001b[38;5;129;01min\u001b[39;00m tqdm(videosF2):\n\u001b[1;32m      4\u001b[0m     context \u001b[38;5;241m=\u001b[39m video[\u001b[38;5;124m'\u001b[39m\u001b[38;5;124mtitre_video\u001b[39m\u001b[38;5;124m'\u001b[39m] \u001b[38;5;241m+\u001b[39m video[\u001b[38;5;124m'\u001b[39m\u001b[38;5;124mdescription\u001b[39m\u001b[38;5;124m'\u001b[39m] \u001b[38;5;241m+\u001b[39m \u001b[38;5;124m'\u001b[39m\u001b[38;5;124m \u001b[39m\u001b[38;5;124m'\u001b[39m\u001b[38;5;241m.\u001b[39mjoin(video[\u001b[38;5;124m'\u001b[39m\u001b[38;5;124mtags\u001b[39m\u001b[38;5;124m'\u001b[39m])\n\u001b[0;32m----> 5\u001b[0m     score \u001b[38;5;241m=\u001b[39m \u001b[43mcalculateSimilarity\u001b[49m\u001b[43m(\u001b[49m\u001b[43mcontext\u001b[49m\u001b[43m,\u001b[49m\u001b[43mcontexte_autosuffisance\u001b[49m\u001b[43m)\u001b[49m\n\u001b[1;32m      6\u001b[0m     \u001b[38;5;28mprint\u001b[39m(score,\u001b[38;5;124m'\u001b[39m\u001b[38;5;124m  \u001b[39m\u001b[38;5;124m'\u001b[39m,video[\u001b[38;5;124m'\u001b[39m\u001b[38;5;124mid_video\u001b[39m\u001b[38;5;124m'\u001b[39m])\n\u001b[1;32m      7\u001b[0m     scores[video[\u001b[38;5;124m'\u001b[39m\u001b[38;5;124mid_video\u001b[39m\u001b[38;5;124m'\u001b[39m]]\u001b[38;5;241m=\u001b[39mscore\n",
      "Cell \u001b[0;32mIn[6], line 5\u001b[0m, in \u001b[0;36mcalculateSimilarity\u001b[0;34m(videoMD, youtubequeries)\u001b[0m\n\u001b[1;32m      3\u001b[0m \u001b[38;5;28;01mdef\u001b[39;00m\u001b[38;5;250m \u001b[39m\u001b[38;5;21mcalculateSimilarity\u001b[39m(videoMD, youtubequeries):\n\u001b[1;32m      4\u001b[0m     embedding_video \u001b[38;5;241m=\u001b[39m model\u001b[38;5;241m.\u001b[39mencode([videoMD], convert_to_tensor\u001b[38;5;241m=\u001b[39m\u001b[38;5;28;01mTrue\u001b[39;00m, normalize_embeddings\u001b[38;5;241m=\u001b[39m\u001b[38;5;28;01mTrue\u001b[39;00m)\n\u001b[0;32m----> 5\u001b[0m     embeddings_queries \u001b[38;5;241m=\u001b[39m \u001b[43mmodel\u001b[49m\u001b[38;5;241;43m.\u001b[39;49m\u001b[43mencode\u001b[49m\u001b[43m(\u001b[49m\u001b[43myoutubequeries\u001b[49m\u001b[43m,\u001b[49m\u001b[43m \u001b[49m\u001b[43mconvert_to_tensor\u001b[49m\u001b[38;5;241;43m=\u001b[39;49m\u001b[38;5;28;43;01mTrue\u001b[39;49;00m\u001b[43m,\u001b[49m\u001b[43m \u001b[49m\u001b[43mnormalize_embeddings\u001b[49m\u001b[38;5;241;43m=\u001b[39;49m\u001b[38;5;28;43;01mTrue\u001b[39;49;00m\u001b[43m)\u001b[49m\n\u001b[1;32m      6\u001b[0m     scores \u001b[38;5;241m=\u001b[39m util\u001b[38;5;241m.\u001b[39mcos_sim(embedding_video, embeddings_queries)[\u001b[38;5;241m0\u001b[39m]\n\u001b[1;32m      7\u001b[0m     simScore \u001b[38;5;241m=\u001b[39m scores\u001b[38;5;241m.\u001b[39mmean()\u001b[38;5;241m.\u001b[39mitem()\n",
      "File \u001b[0;32m~/AgroTube/.venv/lib/python3.10/site-packages/sentence_transformers/SentenceTransformer.py:685\u001b[0m, in \u001b[0;36mSentenceTransformer.encode\u001b[0;34m(self, sentences, prompt_name, prompt, batch_size, show_progress_bar, output_value, precision, convert_to_numpy, convert_to_tensor, device, normalize_embeddings, **kwargs)\u001b[0m\n\u001b[1;32m    682\u001b[0m features\u001b[38;5;241m.\u001b[39mupdate(extra_features)\n\u001b[1;32m    684\u001b[0m \u001b[38;5;28;01mwith\u001b[39;00m torch\u001b[38;5;241m.\u001b[39mno_grad():\n\u001b[0;32m--> 685\u001b[0m     out_features \u001b[38;5;241m=\u001b[39m \u001b[38;5;28;43mself\u001b[39;49m\u001b[38;5;241;43m.\u001b[39;49m\u001b[43mforward\u001b[49m\u001b[43m(\u001b[49m\u001b[43mfeatures\u001b[49m\u001b[43m,\u001b[49m\u001b[43m \u001b[49m\u001b[38;5;241;43m*\u001b[39;49m\u001b[38;5;241;43m*\u001b[39;49m\u001b[43mkwargs\u001b[49m\u001b[43m)\u001b[49m\n\u001b[1;32m    686\u001b[0m     \u001b[38;5;28;01mif\u001b[39;00m \u001b[38;5;28mself\u001b[39m\u001b[38;5;241m.\u001b[39mdevice\u001b[38;5;241m.\u001b[39mtype \u001b[38;5;241m==\u001b[39m \u001b[38;5;124m\"\u001b[39m\u001b[38;5;124mhpu\u001b[39m\u001b[38;5;124m\"\u001b[39m:\n\u001b[1;32m    687\u001b[0m         out_features \u001b[38;5;241m=\u001b[39m copy\u001b[38;5;241m.\u001b[39mdeepcopy(out_features)\n",
      "File \u001b[0;32m~/AgroTube/.venv/lib/python3.10/site-packages/sentence_transformers/SentenceTransformer.py:758\u001b[0m, in \u001b[0;36mSentenceTransformer.forward\u001b[0;34m(self, input, **kwargs)\u001b[0m\n\u001b[1;32m    756\u001b[0m     module_kwarg_keys \u001b[38;5;241m=\u001b[39m \u001b[38;5;28mself\u001b[39m\u001b[38;5;241m.\u001b[39mmodule_kwargs\u001b[38;5;241m.\u001b[39mget(module_name, [])\n\u001b[1;32m    757\u001b[0m     module_kwargs \u001b[38;5;241m=\u001b[39m {key: value \u001b[38;5;28;01mfor\u001b[39;00m key, value \u001b[38;5;129;01min\u001b[39;00m kwargs\u001b[38;5;241m.\u001b[39mitems() \u001b[38;5;28;01mif\u001b[39;00m key \u001b[38;5;129;01min\u001b[39;00m module_kwarg_keys}\n\u001b[0;32m--> 758\u001b[0m     \u001b[38;5;28minput\u001b[39m \u001b[38;5;241m=\u001b[39m \u001b[43mmodule\u001b[49m\u001b[43m(\u001b[49m\u001b[38;5;28;43minput\u001b[39;49m\u001b[43m,\u001b[49m\u001b[43m \u001b[49m\u001b[38;5;241;43m*\u001b[39;49m\u001b[38;5;241;43m*\u001b[39;49m\u001b[43mmodule_kwargs\u001b[49m\u001b[43m)\u001b[49m\n\u001b[1;32m    759\u001b[0m \u001b[38;5;28;01mreturn\u001b[39;00m \u001b[38;5;28minput\u001b[39m\n",
      "File \u001b[0;32m~/AgroTube/.venv/lib/python3.10/site-packages/torch/nn/modules/module.py:1739\u001b[0m, in \u001b[0;36mModule._wrapped_call_impl\u001b[0;34m(self, *args, **kwargs)\u001b[0m\n\u001b[1;32m   1737\u001b[0m     \u001b[38;5;28;01mreturn\u001b[39;00m \u001b[38;5;28mself\u001b[39m\u001b[38;5;241m.\u001b[39m_compiled_call_impl(\u001b[38;5;241m*\u001b[39margs, \u001b[38;5;241m*\u001b[39m\u001b[38;5;241m*\u001b[39mkwargs)  \u001b[38;5;66;03m# type: ignore[misc]\u001b[39;00m\n\u001b[1;32m   1738\u001b[0m \u001b[38;5;28;01melse\u001b[39;00m:\n\u001b[0;32m-> 1739\u001b[0m     \u001b[38;5;28;01mreturn\u001b[39;00m \u001b[38;5;28;43mself\u001b[39;49m\u001b[38;5;241;43m.\u001b[39;49m\u001b[43m_call_impl\u001b[49m\u001b[43m(\u001b[49m\u001b[38;5;241;43m*\u001b[39;49m\u001b[43margs\u001b[49m\u001b[43m,\u001b[49m\u001b[43m \u001b[49m\u001b[38;5;241;43m*\u001b[39;49m\u001b[38;5;241;43m*\u001b[39;49m\u001b[43mkwargs\u001b[49m\u001b[43m)\u001b[49m\n",
      "File \u001b[0;32m~/AgroTube/.venv/lib/python3.10/site-packages/torch/nn/modules/module.py:1750\u001b[0m, in \u001b[0;36mModule._call_impl\u001b[0;34m(self, *args, **kwargs)\u001b[0m\n\u001b[1;32m   1745\u001b[0m \u001b[38;5;66;03m# If we don't have any hooks, we want to skip the rest of the logic in\u001b[39;00m\n\u001b[1;32m   1746\u001b[0m \u001b[38;5;66;03m# this function, and just call forward.\u001b[39;00m\n\u001b[1;32m   1747\u001b[0m \u001b[38;5;28;01mif\u001b[39;00m \u001b[38;5;129;01mnot\u001b[39;00m (\u001b[38;5;28mself\u001b[39m\u001b[38;5;241m.\u001b[39m_backward_hooks \u001b[38;5;129;01mor\u001b[39;00m \u001b[38;5;28mself\u001b[39m\u001b[38;5;241m.\u001b[39m_backward_pre_hooks \u001b[38;5;129;01mor\u001b[39;00m \u001b[38;5;28mself\u001b[39m\u001b[38;5;241m.\u001b[39m_forward_hooks \u001b[38;5;129;01mor\u001b[39;00m \u001b[38;5;28mself\u001b[39m\u001b[38;5;241m.\u001b[39m_forward_pre_hooks\n\u001b[1;32m   1748\u001b[0m         \u001b[38;5;129;01mor\u001b[39;00m _global_backward_pre_hooks \u001b[38;5;129;01mor\u001b[39;00m _global_backward_hooks\n\u001b[1;32m   1749\u001b[0m         \u001b[38;5;129;01mor\u001b[39;00m _global_forward_hooks \u001b[38;5;129;01mor\u001b[39;00m _global_forward_pre_hooks):\n\u001b[0;32m-> 1750\u001b[0m     \u001b[38;5;28;01mreturn\u001b[39;00m \u001b[43mforward_call\u001b[49m\u001b[43m(\u001b[49m\u001b[38;5;241;43m*\u001b[39;49m\u001b[43margs\u001b[49m\u001b[43m,\u001b[49m\u001b[43m \u001b[49m\u001b[38;5;241;43m*\u001b[39;49m\u001b[38;5;241;43m*\u001b[39;49m\u001b[43mkwargs\u001b[49m\u001b[43m)\u001b[49m\n\u001b[1;32m   1752\u001b[0m result \u001b[38;5;241m=\u001b[39m \u001b[38;5;28;01mNone\u001b[39;00m\n\u001b[1;32m   1753\u001b[0m called_always_called_hooks \u001b[38;5;241m=\u001b[39m \u001b[38;5;28mset\u001b[39m()\n",
      "File \u001b[0;32m~/AgroTube/.venv/lib/python3.10/site-packages/sentence_transformers/models/Transformer.py:442\u001b[0m, in \u001b[0;36mTransformer.forward\u001b[0;34m(self, features, **kwargs)\u001b[0m\n\u001b[1;32m    435\u001b[0m \u001b[38;5;250m\u001b[39m\u001b[38;5;124;03m\"\"\"Returns token_embeddings, cls_token\"\"\"\u001b[39;00m\n\u001b[1;32m    436\u001b[0m trans_features \u001b[38;5;241m=\u001b[39m {\n\u001b[1;32m    437\u001b[0m     key: value\n\u001b[1;32m    438\u001b[0m     \u001b[38;5;28;01mfor\u001b[39;00m key, value \u001b[38;5;129;01min\u001b[39;00m features\u001b[38;5;241m.\u001b[39mitems()\n\u001b[1;32m    439\u001b[0m     \u001b[38;5;28;01mif\u001b[39;00m key \u001b[38;5;129;01min\u001b[39;00m [\u001b[38;5;124m\"\u001b[39m\u001b[38;5;124minput_ids\u001b[39m\u001b[38;5;124m\"\u001b[39m, \u001b[38;5;124m\"\u001b[39m\u001b[38;5;124mattention_mask\u001b[39m\u001b[38;5;124m\"\u001b[39m, \u001b[38;5;124m\"\u001b[39m\u001b[38;5;124mtoken_type_ids\u001b[39m\u001b[38;5;124m\"\u001b[39m, \u001b[38;5;124m\"\u001b[39m\u001b[38;5;124minputs_embeds\u001b[39m\u001b[38;5;124m\"\u001b[39m]\n\u001b[1;32m    440\u001b[0m }\n\u001b[0;32m--> 442\u001b[0m outputs \u001b[38;5;241m=\u001b[39m \u001b[38;5;28;43mself\u001b[39;49m\u001b[38;5;241;43m.\u001b[39;49m\u001b[43mauto_model\u001b[49m\u001b[43m(\u001b[49m\u001b[38;5;241;43m*\u001b[39;49m\u001b[38;5;241;43m*\u001b[39;49m\u001b[43mtrans_features\u001b[49m\u001b[43m,\u001b[49m\u001b[43m \u001b[49m\u001b[38;5;241;43m*\u001b[39;49m\u001b[38;5;241;43m*\u001b[39;49m\u001b[43mkwargs\u001b[49m\u001b[43m,\u001b[49m\u001b[43m \u001b[49m\u001b[43mreturn_dict\u001b[49m\u001b[38;5;241;43m=\u001b[39;49m\u001b[38;5;28;43;01mTrue\u001b[39;49;00m\u001b[43m)\u001b[49m\n\u001b[1;32m    443\u001b[0m token_embeddings \u001b[38;5;241m=\u001b[39m outputs[\u001b[38;5;241m0\u001b[39m]\n\u001b[1;32m    444\u001b[0m features[\u001b[38;5;124m\"\u001b[39m\u001b[38;5;124mtoken_embeddings\u001b[39m\u001b[38;5;124m\"\u001b[39m] \u001b[38;5;241m=\u001b[39m token_embeddings\n",
      "File \u001b[0;32m~/AgroTube/.venv/lib/python3.10/site-packages/torch/nn/modules/module.py:1739\u001b[0m, in \u001b[0;36mModule._wrapped_call_impl\u001b[0;34m(self, *args, **kwargs)\u001b[0m\n\u001b[1;32m   1737\u001b[0m     \u001b[38;5;28;01mreturn\u001b[39;00m \u001b[38;5;28mself\u001b[39m\u001b[38;5;241m.\u001b[39m_compiled_call_impl(\u001b[38;5;241m*\u001b[39margs, \u001b[38;5;241m*\u001b[39m\u001b[38;5;241m*\u001b[39mkwargs)  \u001b[38;5;66;03m# type: ignore[misc]\u001b[39;00m\n\u001b[1;32m   1738\u001b[0m \u001b[38;5;28;01melse\u001b[39;00m:\n\u001b[0;32m-> 1739\u001b[0m     \u001b[38;5;28;01mreturn\u001b[39;00m \u001b[38;5;28;43mself\u001b[39;49m\u001b[38;5;241;43m.\u001b[39;49m\u001b[43m_call_impl\u001b[49m\u001b[43m(\u001b[49m\u001b[38;5;241;43m*\u001b[39;49m\u001b[43margs\u001b[49m\u001b[43m,\u001b[49m\u001b[43m \u001b[49m\u001b[38;5;241;43m*\u001b[39;49m\u001b[38;5;241;43m*\u001b[39;49m\u001b[43mkwargs\u001b[49m\u001b[43m)\u001b[49m\n",
      "File \u001b[0;32m~/AgroTube/.venv/lib/python3.10/site-packages/torch/nn/modules/module.py:1750\u001b[0m, in \u001b[0;36mModule._call_impl\u001b[0;34m(self, *args, **kwargs)\u001b[0m\n\u001b[1;32m   1745\u001b[0m \u001b[38;5;66;03m# If we don't have any hooks, we want to skip the rest of the logic in\u001b[39;00m\n\u001b[1;32m   1746\u001b[0m \u001b[38;5;66;03m# this function, and just call forward.\u001b[39;00m\n\u001b[1;32m   1747\u001b[0m \u001b[38;5;28;01mif\u001b[39;00m \u001b[38;5;129;01mnot\u001b[39;00m (\u001b[38;5;28mself\u001b[39m\u001b[38;5;241m.\u001b[39m_backward_hooks \u001b[38;5;129;01mor\u001b[39;00m \u001b[38;5;28mself\u001b[39m\u001b[38;5;241m.\u001b[39m_backward_pre_hooks \u001b[38;5;129;01mor\u001b[39;00m \u001b[38;5;28mself\u001b[39m\u001b[38;5;241m.\u001b[39m_forward_hooks \u001b[38;5;129;01mor\u001b[39;00m \u001b[38;5;28mself\u001b[39m\u001b[38;5;241m.\u001b[39m_forward_pre_hooks\n\u001b[1;32m   1748\u001b[0m         \u001b[38;5;129;01mor\u001b[39;00m _global_backward_pre_hooks \u001b[38;5;129;01mor\u001b[39;00m _global_backward_hooks\n\u001b[1;32m   1749\u001b[0m         \u001b[38;5;129;01mor\u001b[39;00m _global_forward_hooks \u001b[38;5;129;01mor\u001b[39;00m _global_forward_pre_hooks):\n\u001b[0;32m-> 1750\u001b[0m     \u001b[38;5;28;01mreturn\u001b[39;00m \u001b[43mforward_call\u001b[49m\u001b[43m(\u001b[49m\u001b[38;5;241;43m*\u001b[39;49m\u001b[43margs\u001b[49m\u001b[43m,\u001b[49m\u001b[43m \u001b[49m\u001b[38;5;241;43m*\u001b[39;49m\u001b[38;5;241;43m*\u001b[39;49m\u001b[43mkwargs\u001b[49m\u001b[43m)\u001b[49m\n\u001b[1;32m   1752\u001b[0m result \u001b[38;5;241m=\u001b[39m \u001b[38;5;28;01mNone\u001b[39;00m\n\u001b[1;32m   1753\u001b[0m called_always_called_hooks \u001b[38;5;241m=\u001b[39m \u001b[38;5;28mset\u001b[39m()\n",
      "File \u001b[0;32m~/AgroTube/.venv/lib/python3.10/site-packages/transformers/models/camembert/modeling_camembert.py:1037\u001b[0m, in \u001b[0;36mCamembertModel.forward\u001b[0;34m(self, input_ids, attention_mask, token_type_ids, position_ids, head_mask, inputs_embeds, encoder_hidden_states, encoder_attention_mask, past_key_values, use_cache, output_attentions, output_hidden_states, return_dict)\u001b[0m\n\u001b[1;32m   1030\u001b[0m \u001b[38;5;66;03m# Prepare head mask if needed\u001b[39;00m\n\u001b[1;32m   1031\u001b[0m \u001b[38;5;66;03m# 1.0 in head_mask indicate we keep the head\u001b[39;00m\n\u001b[1;32m   1032\u001b[0m \u001b[38;5;66;03m# attention_probs has shape bsz x n_heads x N x N\u001b[39;00m\n\u001b[1;32m   1033\u001b[0m \u001b[38;5;66;03m# input head_mask has shape [num_heads] or [num_hidden_layers x num_heads]\u001b[39;00m\n\u001b[1;32m   1034\u001b[0m \u001b[38;5;66;03m# and head_mask is converted to shape [num_hidden_layers x batch x num_heads x seq_length x seq_length]\u001b[39;00m\n\u001b[1;32m   1035\u001b[0m head_mask \u001b[38;5;241m=\u001b[39m \u001b[38;5;28mself\u001b[39m\u001b[38;5;241m.\u001b[39mget_head_mask(head_mask, \u001b[38;5;28mself\u001b[39m\u001b[38;5;241m.\u001b[39mconfig\u001b[38;5;241m.\u001b[39mnum_hidden_layers)\n\u001b[0;32m-> 1037\u001b[0m encoder_outputs \u001b[38;5;241m=\u001b[39m \u001b[38;5;28;43mself\u001b[39;49m\u001b[38;5;241;43m.\u001b[39;49m\u001b[43mencoder\u001b[49m\u001b[43m(\u001b[49m\n\u001b[1;32m   1038\u001b[0m \u001b[43m    \u001b[49m\u001b[43membedding_output\u001b[49m\u001b[43m,\u001b[49m\n\u001b[1;32m   1039\u001b[0m \u001b[43m    \u001b[49m\u001b[43mattention_mask\u001b[49m\u001b[38;5;241;43m=\u001b[39;49m\u001b[43mextended_attention_mask\u001b[49m\u001b[43m,\u001b[49m\n\u001b[1;32m   1040\u001b[0m \u001b[43m    \u001b[49m\u001b[43mhead_mask\u001b[49m\u001b[38;5;241;43m=\u001b[39;49m\u001b[43mhead_mask\u001b[49m\u001b[43m,\u001b[49m\n\u001b[1;32m   1041\u001b[0m \u001b[43m    \u001b[49m\u001b[43mencoder_hidden_states\u001b[49m\u001b[38;5;241;43m=\u001b[39;49m\u001b[43mencoder_hidden_states\u001b[49m\u001b[43m,\u001b[49m\n\u001b[1;32m   1042\u001b[0m \u001b[43m    \u001b[49m\u001b[43mencoder_attention_mask\u001b[49m\u001b[38;5;241;43m=\u001b[39;49m\u001b[43mencoder_extended_attention_mask\u001b[49m\u001b[43m,\u001b[49m\n\u001b[1;32m   1043\u001b[0m \u001b[43m    \u001b[49m\u001b[43mpast_key_values\u001b[49m\u001b[38;5;241;43m=\u001b[39;49m\u001b[43mpast_key_values\u001b[49m\u001b[43m,\u001b[49m\n\u001b[1;32m   1044\u001b[0m \u001b[43m    \u001b[49m\u001b[43muse_cache\u001b[49m\u001b[38;5;241;43m=\u001b[39;49m\u001b[43muse_cache\u001b[49m\u001b[43m,\u001b[49m\n\u001b[1;32m   1045\u001b[0m \u001b[43m    \u001b[49m\u001b[43moutput_attentions\u001b[49m\u001b[38;5;241;43m=\u001b[39;49m\u001b[43moutput_attentions\u001b[49m\u001b[43m,\u001b[49m\n\u001b[1;32m   1046\u001b[0m \u001b[43m    \u001b[49m\u001b[43moutput_hidden_states\u001b[49m\u001b[38;5;241;43m=\u001b[39;49m\u001b[43moutput_hidden_states\u001b[49m\u001b[43m,\u001b[49m\n\u001b[1;32m   1047\u001b[0m \u001b[43m    \u001b[49m\u001b[43mreturn_dict\u001b[49m\u001b[38;5;241;43m=\u001b[39;49m\u001b[43mreturn_dict\u001b[49m\u001b[43m,\u001b[49m\n\u001b[1;32m   1048\u001b[0m \u001b[43m\u001b[49m\u001b[43m)\u001b[49m\n\u001b[1;32m   1049\u001b[0m sequence_output \u001b[38;5;241m=\u001b[39m encoder_outputs[\u001b[38;5;241m0\u001b[39m]\n\u001b[1;32m   1050\u001b[0m pooled_output \u001b[38;5;241m=\u001b[39m \u001b[38;5;28mself\u001b[39m\u001b[38;5;241m.\u001b[39mpooler(sequence_output) \u001b[38;5;28;01mif\u001b[39;00m \u001b[38;5;28mself\u001b[39m\u001b[38;5;241m.\u001b[39mpooler \u001b[38;5;129;01mis\u001b[39;00m \u001b[38;5;129;01mnot\u001b[39;00m \u001b[38;5;28;01mNone\u001b[39;00m \u001b[38;5;28;01melse\u001b[39;00m \u001b[38;5;28;01mNone\u001b[39;00m\n",
      "File \u001b[0;32m~/AgroTube/.venv/lib/python3.10/site-packages/torch/nn/modules/module.py:1739\u001b[0m, in \u001b[0;36mModule._wrapped_call_impl\u001b[0;34m(self, *args, **kwargs)\u001b[0m\n\u001b[1;32m   1737\u001b[0m     \u001b[38;5;28;01mreturn\u001b[39;00m \u001b[38;5;28mself\u001b[39m\u001b[38;5;241m.\u001b[39m_compiled_call_impl(\u001b[38;5;241m*\u001b[39margs, \u001b[38;5;241m*\u001b[39m\u001b[38;5;241m*\u001b[39mkwargs)  \u001b[38;5;66;03m# type: ignore[misc]\u001b[39;00m\n\u001b[1;32m   1738\u001b[0m \u001b[38;5;28;01melse\u001b[39;00m:\n\u001b[0;32m-> 1739\u001b[0m     \u001b[38;5;28;01mreturn\u001b[39;00m \u001b[38;5;28;43mself\u001b[39;49m\u001b[38;5;241;43m.\u001b[39;49m\u001b[43m_call_impl\u001b[49m\u001b[43m(\u001b[49m\u001b[38;5;241;43m*\u001b[39;49m\u001b[43margs\u001b[49m\u001b[43m,\u001b[49m\u001b[43m \u001b[49m\u001b[38;5;241;43m*\u001b[39;49m\u001b[38;5;241;43m*\u001b[39;49m\u001b[43mkwargs\u001b[49m\u001b[43m)\u001b[49m\n",
      "File \u001b[0;32m~/AgroTube/.venv/lib/python3.10/site-packages/torch/nn/modules/module.py:1750\u001b[0m, in \u001b[0;36mModule._call_impl\u001b[0;34m(self, *args, **kwargs)\u001b[0m\n\u001b[1;32m   1745\u001b[0m \u001b[38;5;66;03m# If we don't have any hooks, we want to skip the rest of the logic in\u001b[39;00m\n\u001b[1;32m   1746\u001b[0m \u001b[38;5;66;03m# this function, and just call forward.\u001b[39;00m\n\u001b[1;32m   1747\u001b[0m \u001b[38;5;28;01mif\u001b[39;00m \u001b[38;5;129;01mnot\u001b[39;00m (\u001b[38;5;28mself\u001b[39m\u001b[38;5;241m.\u001b[39m_backward_hooks \u001b[38;5;129;01mor\u001b[39;00m \u001b[38;5;28mself\u001b[39m\u001b[38;5;241m.\u001b[39m_backward_pre_hooks \u001b[38;5;129;01mor\u001b[39;00m \u001b[38;5;28mself\u001b[39m\u001b[38;5;241m.\u001b[39m_forward_hooks \u001b[38;5;129;01mor\u001b[39;00m \u001b[38;5;28mself\u001b[39m\u001b[38;5;241m.\u001b[39m_forward_pre_hooks\n\u001b[1;32m   1748\u001b[0m         \u001b[38;5;129;01mor\u001b[39;00m _global_backward_pre_hooks \u001b[38;5;129;01mor\u001b[39;00m _global_backward_hooks\n\u001b[1;32m   1749\u001b[0m         \u001b[38;5;129;01mor\u001b[39;00m _global_forward_hooks \u001b[38;5;129;01mor\u001b[39;00m _global_forward_pre_hooks):\n\u001b[0;32m-> 1750\u001b[0m     \u001b[38;5;28;01mreturn\u001b[39;00m \u001b[43mforward_call\u001b[49m\u001b[43m(\u001b[49m\u001b[38;5;241;43m*\u001b[39;49m\u001b[43margs\u001b[49m\u001b[43m,\u001b[49m\u001b[43m \u001b[49m\u001b[38;5;241;43m*\u001b[39;49m\u001b[38;5;241;43m*\u001b[39;49m\u001b[43mkwargs\u001b[49m\u001b[43m)\u001b[49m\n\u001b[1;32m   1752\u001b[0m result \u001b[38;5;241m=\u001b[39m \u001b[38;5;28;01mNone\u001b[39;00m\n\u001b[1;32m   1753\u001b[0m called_always_called_hooks \u001b[38;5;241m=\u001b[39m \u001b[38;5;28mset\u001b[39m()\n",
      "File \u001b[0;32m~/AgroTube/.venv/lib/python3.10/site-packages/transformers/models/camembert/modeling_camembert.py:649\u001b[0m, in \u001b[0;36mCamembertEncoder.forward\u001b[0;34m(self, hidden_states, attention_mask, head_mask, encoder_hidden_states, encoder_attention_mask, past_key_values, use_cache, output_attentions, output_hidden_states, return_dict)\u001b[0m\n\u001b[1;32m    638\u001b[0m     layer_outputs \u001b[38;5;241m=\u001b[39m \u001b[38;5;28mself\u001b[39m\u001b[38;5;241m.\u001b[39m_gradient_checkpointing_func(\n\u001b[1;32m    639\u001b[0m         layer_module\u001b[38;5;241m.\u001b[39m\u001b[38;5;21m__call__\u001b[39m,\n\u001b[1;32m    640\u001b[0m         hidden_states,\n\u001b[0;32m   (...)\u001b[0m\n\u001b[1;32m    646\u001b[0m         output_attentions,\n\u001b[1;32m    647\u001b[0m     )\n\u001b[1;32m    648\u001b[0m \u001b[38;5;28;01melse\u001b[39;00m:\n\u001b[0;32m--> 649\u001b[0m     layer_outputs \u001b[38;5;241m=\u001b[39m \u001b[43mlayer_module\u001b[49m\u001b[43m(\u001b[49m\n\u001b[1;32m    650\u001b[0m \u001b[43m        \u001b[49m\u001b[43mhidden_states\u001b[49m\u001b[43m,\u001b[49m\n\u001b[1;32m    651\u001b[0m \u001b[43m        \u001b[49m\u001b[43mattention_mask\u001b[49m\u001b[43m,\u001b[49m\n\u001b[1;32m    652\u001b[0m \u001b[43m        \u001b[49m\u001b[43mlayer_head_mask\u001b[49m\u001b[43m,\u001b[49m\n\u001b[1;32m    653\u001b[0m \u001b[43m        \u001b[49m\u001b[43mencoder_hidden_states\u001b[49m\u001b[43m,\u001b[49m\n\u001b[1;32m    654\u001b[0m \u001b[43m        \u001b[49m\u001b[43mencoder_attention_mask\u001b[49m\u001b[43m,\u001b[49m\n\u001b[1;32m    655\u001b[0m \u001b[43m        \u001b[49m\u001b[43mpast_key_value\u001b[49m\u001b[43m,\u001b[49m\n\u001b[1;32m    656\u001b[0m \u001b[43m        \u001b[49m\u001b[43moutput_attentions\u001b[49m\u001b[43m,\u001b[49m\n\u001b[1;32m    657\u001b[0m \u001b[43m    \u001b[49m\u001b[43m)\u001b[49m\n\u001b[1;32m    659\u001b[0m hidden_states \u001b[38;5;241m=\u001b[39m layer_outputs[\u001b[38;5;241m0\u001b[39m]\n\u001b[1;32m    660\u001b[0m \u001b[38;5;28;01mif\u001b[39;00m use_cache:\n",
      "File \u001b[0;32m~/AgroTube/.venv/lib/python3.10/site-packages/torch/nn/modules/module.py:1739\u001b[0m, in \u001b[0;36mModule._wrapped_call_impl\u001b[0;34m(self, *args, **kwargs)\u001b[0m\n\u001b[1;32m   1737\u001b[0m     \u001b[38;5;28;01mreturn\u001b[39;00m \u001b[38;5;28mself\u001b[39m\u001b[38;5;241m.\u001b[39m_compiled_call_impl(\u001b[38;5;241m*\u001b[39margs, \u001b[38;5;241m*\u001b[39m\u001b[38;5;241m*\u001b[39mkwargs)  \u001b[38;5;66;03m# type: ignore[misc]\u001b[39;00m\n\u001b[1;32m   1738\u001b[0m \u001b[38;5;28;01melse\u001b[39;00m:\n\u001b[0;32m-> 1739\u001b[0m     \u001b[38;5;28;01mreturn\u001b[39;00m \u001b[38;5;28;43mself\u001b[39;49m\u001b[38;5;241;43m.\u001b[39;49m\u001b[43m_call_impl\u001b[49m\u001b[43m(\u001b[49m\u001b[38;5;241;43m*\u001b[39;49m\u001b[43margs\u001b[49m\u001b[43m,\u001b[49m\u001b[43m \u001b[49m\u001b[38;5;241;43m*\u001b[39;49m\u001b[38;5;241;43m*\u001b[39;49m\u001b[43mkwargs\u001b[49m\u001b[43m)\u001b[49m\n",
      "File \u001b[0;32m~/AgroTube/.venv/lib/python3.10/site-packages/torch/nn/modules/module.py:1750\u001b[0m, in \u001b[0;36mModule._call_impl\u001b[0;34m(self, *args, **kwargs)\u001b[0m\n\u001b[1;32m   1745\u001b[0m \u001b[38;5;66;03m# If we don't have any hooks, we want to skip the rest of the logic in\u001b[39;00m\n\u001b[1;32m   1746\u001b[0m \u001b[38;5;66;03m# this function, and just call forward.\u001b[39;00m\n\u001b[1;32m   1747\u001b[0m \u001b[38;5;28;01mif\u001b[39;00m \u001b[38;5;129;01mnot\u001b[39;00m (\u001b[38;5;28mself\u001b[39m\u001b[38;5;241m.\u001b[39m_backward_hooks \u001b[38;5;129;01mor\u001b[39;00m \u001b[38;5;28mself\u001b[39m\u001b[38;5;241m.\u001b[39m_backward_pre_hooks \u001b[38;5;129;01mor\u001b[39;00m \u001b[38;5;28mself\u001b[39m\u001b[38;5;241m.\u001b[39m_forward_hooks \u001b[38;5;129;01mor\u001b[39;00m \u001b[38;5;28mself\u001b[39m\u001b[38;5;241m.\u001b[39m_forward_pre_hooks\n\u001b[1;32m   1748\u001b[0m         \u001b[38;5;129;01mor\u001b[39;00m _global_backward_pre_hooks \u001b[38;5;129;01mor\u001b[39;00m _global_backward_hooks\n\u001b[1;32m   1749\u001b[0m         \u001b[38;5;129;01mor\u001b[39;00m _global_forward_hooks \u001b[38;5;129;01mor\u001b[39;00m _global_forward_pre_hooks):\n\u001b[0;32m-> 1750\u001b[0m     \u001b[38;5;28;01mreturn\u001b[39;00m \u001b[43mforward_call\u001b[49m\u001b[43m(\u001b[49m\u001b[38;5;241;43m*\u001b[39;49m\u001b[43margs\u001b[49m\u001b[43m,\u001b[49m\u001b[43m \u001b[49m\u001b[38;5;241;43m*\u001b[39;49m\u001b[38;5;241;43m*\u001b[39;49m\u001b[43mkwargs\u001b[49m\u001b[43m)\u001b[49m\n\u001b[1;32m   1752\u001b[0m result \u001b[38;5;241m=\u001b[39m \u001b[38;5;28;01mNone\u001b[39;00m\n\u001b[1;32m   1753\u001b[0m called_always_called_hooks \u001b[38;5;241m=\u001b[39m \u001b[38;5;28mset\u001b[39m()\n",
      "File \u001b[0;32m~/AgroTube/.venv/lib/python3.10/site-packages/transformers/models/camembert/modeling_camembert.py:580\u001b[0m, in \u001b[0;36mCamembertLayer.forward\u001b[0;34m(self, hidden_states, attention_mask, head_mask, encoder_hidden_states, encoder_attention_mask, past_key_value, output_attentions)\u001b[0m\n\u001b[1;32m    577\u001b[0m     cross_attn_present_key_value \u001b[38;5;241m=\u001b[39m cross_attention_outputs[\u001b[38;5;241m-\u001b[39m\u001b[38;5;241m1\u001b[39m]\n\u001b[1;32m    578\u001b[0m     present_key_value \u001b[38;5;241m=\u001b[39m present_key_value \u001b[38;5;241m+\u001b[39m cross_attn_present_key_value\n\u001b[0;32m--> 580\u001b[0m layer_output \u001b[38;5;241m=\u001b[39m \u001b[43mapply_chunking_to_forward\u001b[49m\u001b[43m(\u001b[49m\n\u001b[1;32m    581\u001b[0m \u001b[43m    \u001b[49m\u001b[38;5;28;43mself\u001b[39;49m\u001b[38;5;241;43m.\u001b[39;49m\u001b[43mfeed_forward_chunk\u001b[49m\u001b[43m,\u001b[49m\u001b[43m \u001b[49m\u001b[38;5;28;43mself\u001b[39;49m\u001b[38;5;241;43m.\u001b[39;49m\u001b[43mchunk_size_feed_forward\u001b[49m\u001b[43m,\u001b[49m\u001b[43m \u001b[49m\u001b[38;5;28;43mself\u001b[39;49m\u001b[38;5;241;43m.\u001b[39;49m\u001b[43mseq_len_dim\u001b[49m\u001b[43m,\u001b[49m\u001b[43m \u001b[49m\u001b[43mattention_output\u001b[49m\n\u001b[1;32m    582\u001b[0m \u001b[43m\u001b[49m\u001b[43m)\u001b[49m\n\u001b[1;32m    583\u001b[0m outputs \u001b[38;5;241m=\u001b[39m (layer_output,) \u001b[38;5;241m+\u001b[39m outputs\n\u001b[1;32m    585\u001b[0m \u001b[38;5;66;03m# if decoder, return the attn key/values as the last output\u001b[39;00m\n",
      "File \u001b[0;32m~/AgroTube/.venv/lib/python3.10/site-packages/transformers/pytorch_utils.py:253\u001b[0m, in \u001b[0;36mapply_chunking_to_forward\u001b[0;34m(forward_fn, chunk_size, chunk_dim, *input_tensors)\u001b[0m\n\u001b[1;32m    250\u001b[0m     \u001b[38;5;66;03m# concatenate output at same dimension\u001b[39;00m\n\u001b[1;32m    251\u001b[0m     \u001b[38;5;28;01mreturn\u001b[39;00m torch\u001b[38;5;241m.\u001b[39mcat(output_chunks, dim\u001b[38;5;241m=\u001b[39mchunk_dim)\n\u001b[0;32m--> 253\u001b[0m \u001b[38;5;28;01mreturn\u001b[39;00m \u001b[43mforward_fn\u001b[49m\u001b[43m(\u001b[49m\u001b[38;5;241;43m*\u001b[39;49m\u001b[43minput_tensors\u001b[49m\u001b[43m)\u001b[49m\n",
      "File \u001b[0;32m~/AgroTube/.venv/lib/python3.10/site-packages/transformers/models/camembert/modeling_camembert.py:592\u001b[0m, in \u001b[0;36mCamembertLayer.feed_forward_chunk\u001b[0;34m(self, attention_output)\u001b[0m\n\u001b[1;32m    591\u001b[0m \u001b[38;5;28;01mdef\u001b[39;00m\u001b[38;5;250m \u001b[39m\u001b[38;5;21mfeed_forward_chunk\u001b[39m(\u001b[38;5;28mself\u001b[39m, attention_output):\n\u001b[0;32m--> 592\u001b[0m     intermediate_output \u001b[38;5;241m=\u001b[39m \u001b[38;5;28;43mself\u001b[39;49m\u001b[38;5;241;43m.\u001b[39;49m\u001b[43mintermediate\u001b[49m\u001b[43m(\u001b[49m\u001b[43mattention_output\u001b[49m\u001b[43m)\u001b[49m\n\u001b[1;32m    593\u001b[0m     layer_output \u001b[38;5;241m=\u001b[39m \u001b[38;5;28mself\u001b[39m\u001b[38;5;241m.\u001b[39moutput(intermediate_output, attention_output)\n\u001b[1;32m    594\u001b[0m     \u001b[38;5;28;01mreturn\u001b[39;00m layer_output\n",
      "File \u001b[0;32m~/AgroTube/.venv/lib/python3.10/site-packages/torch/nn/modules/module.py:1739\u001b[0m, in \u001b[0;36mModule._wrapped_call_impl\u001b[0;34m(self, *args, **kwargs)\u001b[0m\n\u001b[1;32m   1737\u001b[0m     \u001b[38;5;28;01mreturn\u001b[39;00m \u001b[38;5;28mself\u001b[39m\u001b[38;5;241m.\u001b[39m_compiled_call_impl(\u001b[38;5;241m*\u001b[39margs, \u001b[38;5;241m*\u001b[39m\u001b[38;5;241m*\u001b[39mkwargs)  \u001b[38;5;66;03m# type: ignore[misc]\u001b[39;00m\n\u001b[1;32m   1738\u001b[0m \u001b[38;5;28;01melse\u001b[39;00m:\n\u001b[0;32m-> 1739\u001b[0m     \u001b[38;5;28;01mreturn\u001b[39;00m \u001b[38;5;28;43mself\u001b[39;49m\u001b[38;5;241;43m.\u001b[39;49m\u001b[43m_call_impl\u001b[49m\u001b[43m(\u001b[49m\u001b[38;5;241;43m*\u001b[39;49m\u001b[43margs\u001b[49m\u001b[43m,\u001b[49m\u001b[43m \u001b[49m\u001b[38;5;241;43m*\u001b[39;49m\u001b[38;5;241;43m*\u001b[39;49m\u001b[43mkwargs\u001b[49m\u001b[43m)\u001b[49m\n",
      "File \u001b[0;32m~/AgroTube/.venv/lib/python3.10/site-packages/torch/nn/modules/module.py:1750\u001b[0m, in \u001b[0;36mModule._call_impl\u001b[0;34m(self, *args, **kwargs)\u001b[0m\n\u001b[1;32m   1745\u001b[0m \u001b[38;5;66;03m# If we don't have any hooks, we want to skip the rest of the logic in\u001b[39;00m\n\u001b[1;32m   1746\u001b[0m \u001b[38;5;66;03m# this function, and just call forward.\u001b[39;00m\n\u001b[1;32m   1747\u001b[0m \u001b[38;5;28;01mif\u001b[39;00m \u001b[38;5;129;01mnot\u001b[39;00m (\u001b[38;5;28mself\u001b[39m\u001b[38;5;241m.\u001b[39m_backward_hooks \u001b[38;5;129;01mor\u001b[39;00m \u001b[38;5;28mself\u001b[39m\u001b[38;5;241m.\u001b[39m_backward_pre_hooks \u001b[38;5;129;01mor\u001b[39;00m \u001b[38;5;28mself\u001b[39m\u001b[38;5;241m.\u001b[39m_forward_hooks \u001b[38;5;129;01mor\u001b[39;00m \u001b[38;5;28mself\u001b[39m\u001b[38;5;241m.\u001b[39m_forward_pre_hooks\n\u001b[1;32m   1748\u001b[0m         \u001b[38;5;129;01mor\u001b[39;00m _global_backward_pre_hooks \u001b[38;5;129;01mor\u001b[39;00m _global_backward_hooks\n\u001b[1;32m   1749\u001b[0m         \u001b[38;5;129;01mor\u001b[39;00m _global_forward_hooks \u001b[38;5;129;01mor\u001b[39;00m _global_forward_pre_hooks):\n\u001b[0;32m-> 1750\u001b[0m     \u001b[38;5;28;01mreturn\u001b[39;00m \u001b[43mforward_call\u001b[49m\u001b[43m(\u001b[49m\u001b[38;5;241;43m*\u001b[39;49m\u001b[43margs\u001b[49m\u001b[43m,\u001b[49m\u001b[43m \u001b[49m\u001b[38;5;241;43m*\u001b[39;49m\u001b[38;5;241;43m*\u001b[39;49m\u001b[43mkwargs\u001b[49m\u001b[43m)\u001b[49m\n\u001b[1;32m   1752\u001b[0m result \u001b[38;5;241m=\u001b[39m \u001b[38;5;28;01mNone\u001b[39;00m\n\u001b[1;32m   1753\u001b[0m called_always_called_hooks \u001b[38;5;241m=\u001b[39m \u001b[38;5;28mset\u001b[39m()\n",
      "File \u001b[0;32m~/AgroTube/.venv/lib/python3.10/site-packages/transformers/models/camembert/modeling_camembert.py:490\u001b[0m, in \u001b[0;36mCamembertIntermediate.forward\u001b[0;34m(self, hidden_states)\u001b[0m\n\u001b[1;32m    489\u001b[0m \u001b[38;5;28;01mdef\u001b[39;00m\u001b[38;5;250m \u001b[39m\u001b[38;5;21mforward\u001b[39m(\u001b[38;5;28mself\u001b[39m, hidden_states: torch\u001b[38;5;241m.\u001b[39mTensor) \u001b[38;5;241m-\u001b[39m\u001b[38;5;241m>\u001b[39m torch\u001b[38;5;241m.\u001b[39mTensor:\n\u001b[0;32m--> 490\u001b[0m     hidden_states \u001b[38;5;241m=\u001b[39m \u001b[38;5;28;43mself\u001b[39;49m\u001b[38;5;241;43m.\u001b[39;49m\u001b[43mdense\u001b[49m\u001b[43m(\u001b[49m\u001b[43mhidden_states\u001b[49m\u001b[43m)\u001b[49m\n\u001b[1;32m    491\u001b[0m     hidden_states \u001b[38;5;241m=\u001b[39m \u001b[38;5;28mself\u001b[39m\u001b[38;5;241m.\u001b[39mintermediate_act_fn(hidden_states)\n\u001b[1;32m    492\u001b[0m     \u001b[38;5;28;01mreturn\u001b[39;00m hidden_states\n",
      "File \u001b[0;32m~/AgroTube/.venv/lib/python3.10/site-packages/torch/nn/modules/module.py:1739\u001b[0m, in \u001b[0;36mModule._wrapped_call_impl\u001b[0;34m(self, *args, **kwargs)\u001b[0m\n\u001b[1;32m   1737\u001b[0m     \u001b[38;5;28;01mreturn\u001b[39;00m \u001b[38;5;28mself\u001b[39m\u001b[38;5;241m.\u001b[39m_compiled_call_impl(\u001b[38;5;241m*\u001b[39margs, \u001b[38;5;241m*\u001b[39m\u001b[38;5;241m*\u001b[39mkwargs)  \u001b[38;5;66;03m# type: ignore[misc]\u001b[39;00m\n\u001b[1;32m   1738\u001b[0m \u001b[38;5;28;01melse\u001b[39;00m:\n\u001b[0;32m-> 1739\u001b[0m     \u001b[38;5;28;01mreturn\u001b[39;00m \u001b[38;5;28;43mself\u001b[39;49m\u001b[38;5;241;43m.\u001b[39;49m\u001b[43m_call_impl\u001b[49m\u001b[43m(\u001b[49m\u001b[38;5;241;43m*\u001b[39;49m\u001b[43margs\u001b[49m\u001b[43m,\u001b[49m\u001b[43m \u001b[49m\u001b[38;5;241;43m*\u001b[39;49m\u001b[38;5;241;43m*\u001b[39;49m\u001b[43mkwargs\u001b[49m\u001b[43m)\u001b[49m\n",
      "File \u001b[0;32m~/AgroTube/.venv/lib/python3.10/site-packages/torch/nn/modules/module.py:1750\u001b[0m, in \u001b[0;36mModule._call_impl\u001b[0;34m(self, *args, **kwargs)\u001b[0m\n\u001b[1;32m   1745\u001b[0m \u001b[38;5;66;03m# If we don't have any hooks, we want to skip the rest of the logic in\u001b[39;00m\n\u001b[1;32m   1746\u001b[0m \u001b[38;5;66;03m# this function, and just call forward.\u001b[39;00m\n\u001b[1;32m   1747\u001b[0m \u001b[38;5;28;01mif\u001b[39;00m \u001b[38;5;129;01mnot\u001b[39;00m (\u001b[38;5;28mself\u001b[39m\u001b[38;5;241m.\u001b[39m_backward_hooks \u001b[38;5;129;01mor\u001b[39;00m \u001b[38;5;28mself\u001b[39m\u001b[38;5;241m.\u001b[39m_backward_pre_hooks \u001b[38;5;129;01mor\u001b[39;00m \u001b[38;5;28mself\u001b[39m\u001b[38;5;241m.\u001b[39m_forward_hooks \u001b[38;5;129;01mor\u001b[39;00m \u001b[38;5;28mself\u001b[39m\u001b[38;5;241m.\u001b[39m_forward_pre_hooks\n\u001b[1;32m   1748\u001b[0m         \u001b[38;5;129;01mor\u001b[39;00m _global_backward_pre_hooks \u001b[38;5;129;01mor\u001b[39;00m _global_backward_hooks\n\u001b[1;32m   1749\u001b[0m         \u001b[38;5;129;01mor\u001b[39;00m _global_forward_hooks \u001b[38;5;129;01mor\u001b[39;00m _global_forward_pre_hooks):\n\u001b[0;32m-> 1750\u001b[0m     \u001b[38;5;28;01mreturn\u001b[39;00m \u001b[43mforward_call\u001b[49m\u001b[43m(\u001b[49m\u001b[38;5;241;43m*\u001b[39;49m\u001b[43margs\u001b[49m\u001b[43m,\u001b[49m\u001b[43m \u001b[49m\u001b[38;5;241;43m*\u001b[39;49m\u001b[38;5;241;43m*\u001b[39;49m\u001b[43mkwargs\u001b[49m\u001b[43m)\u001b[49m\n\u001b[1;32m   1752\u001b[0m result \u001b[38;5;241m=\u001b[39m \u001b[38;5;28;01mNone\u001b[39;00m\n\u001b[1;32m   1753\u001b[0m called_always_called_hooks \u001b[38;5;241m=\u001b[39m \u001b[38;5;28mset\u001b[39m()\n",
      "File \u001b[0;32m~/AgroTube/.venv/lib/python3.10/site-packages/torch/nn/modules/linear.py:125\u001b[0m, in \u001b[0;36mLinear.forward\u001b[0;34m(self, input)\u001b[0m\n\u001b[1;32m    124\u001b[0m \u001b[38;5;28;01mdef\u001b[39;00m\u001b[38;5;250m \u001b[39m\u001b[38;5;21mforward\u001b[39m(\u001b[38;5;28mself\u001b[39m, \u001b[38;5;28minput\u001b[39m: Tensor) \u001b[38;5;241m-\u001b[39m\u001b[38;5;241m>\u001b[39m Tensor:\n\u001b[0;32m--> 125\u001b[0m     \u001b[38;5;28;01mreturn\u001b[39;00m \u001b[43mF\u001b[49m\u001b[38;5;241;43m.\u001b[39;49m\u001b[43mlinear\u001b[49m\u001b[43m(\u001b[49m\u001b[38;5;28;43minput\u001b[39;49m\u001b[43m,\u001b[49m\u001b[43m \u001b[49m\u001b[38;5;28;43mself\u001b[39;49m\u001b[38;5;241;43m.\u001b[39;49m\u001b[43mweight\u001b[49m\u001b[43m,\u001b[49m\u001b[43m \u001b[49m\u001b[38;5;28;43mself\u001b[39;49m\u001b[38;5;241;43m.\u001b[39;49m\u001b[43mbias\u001b[49m\u001b[43m)\u001b[49m\n",
      "\u001b[0;31mKeyboardInterrupt\u001b[0m: "
     ]
    }
   ],
   "source": [
    "videosF2 = openJson(\"../jsons/videosF2.json\")\n",
    "scores = {}\n",
    "for video in tqdm(videosF2):\n",
    "    context = video['titre_video'] + video['description'] + ' '.join(video['tags'])\n",
    "    score = calculateSimilarity(context,contexte_autosuffisance)\n",
    "    print(score,'  ',video['id_video'])\n",
    "    scores[video['id_video']]=score\n"
   ]
  },
  {
   "cell_type": "code",
   "execution_count": 12,
   "id": "7155182c",
   "metadata": {},
   "outputs": [],
   "source": [
    "from langchain_google_genai import GoogleGenerativeAI\n",
    "from langchain_core.prompts import ChatPromptTemplate,PromptTemplate"
   ]
  },
  {
   "cell_type": "code",
   "execution_count": null,
   "id": "1fa0a4dd",
   "metadata": {},
   "outputs": [],
   "source": [
    "gemini_flash = GoogleGenerativeAI(model=\"gemini-2.0-flash\", google_api_key=os.getenv(\"GOOGLE_API_KEY\"))"
   ]
  },
  {
   "cell_type": "code",
   "execution_count": null,
   "id": "bd6a659f",
   "metadata": {},
   "outputs": [],
   "source": [
    "Voici la version corrigée :\n",
    "\n",
    "---\n",
    "\n",
    "- Décider si une vidéo concerne la thématique de l'autosuffisance (vlogs, interviews, partages d'expériences, tutoriels, conseils...) en se basant sur les métadonnées de la vidéo (description, titre, tags).\n",
    "\n",
    "# Votre réponse  \n",
    "---------------  \n",
    "- La réponse doit être au format JSON :  \n",
    "  ```json\n",
    "  {\n",
    "    \"decision\": \"...\",\n",
    "    \"justification\": \"Justifiez votre décision avec des arguments\"\n",
    "  }\n",
    "  ```"
   ]
  },
  {
   "cell_type": "code",
   "execution_count": 33,
   "id": "b9e48db2",
   "metadata": {},
   "outputs": [],
   "source": [
    "sysprompt = \"\"\"\n",
    "# La definition d'autossuffinnce\n",
    "\n",
    "L'autosuffisance est la démarche visant à acquérir la capacité de subvenir par soi-même à ses besoins fondamentaux, \n",
    "en premier lieu alimentaires par l'autoconsommation – c'est-à-dire produire, récolter et conserver un maximum de sa propre nourriture, \n",
    "souvent en privilégiant le bio, le local et le saisonnier. Plus qu'une simple recherche d'autonomie matérielle, \n",
    "elle représente un engagement pour être moins dépendant du système économique et social extérieur, impliquant des choix concrets comme trouver un lieu propice et le concevoir judicieusement (par exemple en permaculture), \n",
    "ainsi qu'un changement dans la manière de valoriser son temps et de consommer, formant ainsi le fondement d'une vie plus autonome.\n",
    "\n",
    "---\n",
    "\n",
    "# Votre mission\n",
    "\n",
    "- Décider si une vidéo concerne la thématique de l'autosuffisance (vlogs, interviews, partages d'expériences, tutoriels, conseils...) \n",
    "en se basant sur les métadonnées de la vidéo (description, titre, tags).\n",
    "\n",
    "---\n",
    "\n",
    "# Votre réponse  \n",
    "\n",
    "- La réponse doit être au format JSON :  \n",
    "  \n",
    "    \"decision\": \"...\",\n",
    "    \"justification\": \"Justifiez votre décision avec des arguments\"\n",
    "  \n",
    "---\n",
    "\n",
    "# Exemples des videos sur autosuffisance\n",
    "  \n",
    "    \"titre_video\": \"Mes livres préférés pour l'AUTONOMIE/AUTOSUFFISANCE : potager, élevage, cuisine, transfo ect)\",\n",
    "    \"description\": \"00:00 Le guide terre vivante de l'autonomie au jardin \\n04:06 Le traité Rustica des arbres fruitiers\\n05:08 Jardin-Forêt de Fabrice Desjours\\n10:30 La forêt Jardin de Martin crawford\\n11:15 Cultiver les champignons de Folko Kullmann\\n13:00 Le guide des champignons de France et d'Europe de Guillaume Eyssartier et Paul Roux\\n15:08 La bible du jardinage Maison Rustique \\n19:07 Faites pousser et dégustez vos protéines de François Couplan et Xavier Mathias\\n20:25 Manger sauvage de Richard Mabey\\n21:49 Le traité Rustica de la conservation \\n25:21 Le traité Rustica de la bonne cuisine maison \\n30:00 L'art de la fermentation de Luna Kyung et Camille Oger\\n31:40 Prodigieuse lactofermentation de Pascal Labbé\\n32:06 L'art de faire son fromage de David Asher \\n34:15 Le traité Rustica de la ferme familiale \\n37:56 Vivre en autosuffisance \\n39:29 L'autosuffisance de John Seymour\\n41:40 Petit manuel à l'usage de ceux qui vivent retiré du monde chez Larousse\\n42:35 La cuisine de la ferme de Sarah Mayor \\n43:40 Le petit traité Rustica de l'apiculteur débutant \\n43:58 Les plantes mellifères mois par mois de Jacques Piquée\\n44:17 Planter des arbres pour les abeilles de Yves Darricau\\n45:05 Arbres fourragers de Jerome Goust\\n45:45 Planter des haies pour la biodiversité de Bernard Farinelli \\n48:00 Manuel de construction en bambou\\n\\n\\n\\n\\n\\n\\n\\nLe lien du discord pour participer à la recopie des 5 tomes de la maison rustique : https://discord.gg/mNkvh5cr\\nLes 2 vidéos dont je parle pour le livre sur le jardin foret  : https://www.youtube.com/watch?v=D6z-4adGWN4   et https://www.youtube.com/watch?v=WqOt7lfYChU\\n\\nTu as une question à poser en rapport avec la vidéo ? Je t'invite à le faire en priorité dans les commentaires pour qu'elle puisse servir à tous, mais si tu n'oses pas la poser en public, tu peux me contacter par mail  ! \\n\\n\\n\\nMon mail : laptiteortie@gmail.com\\n\\n\\nTu peux me retrouver sur le discord réseautonome : https://reseautono.me/​​​​\\nTu y retrouveras des catégories avec plein de conseils dans le domaine de l'autonomie, j'y puise énormément d'infos, beaucoup d'entraide !\\n\\n\\nNotre sol et climat (pour t'aider vis à vis des vidéos de jardin) : Nous vivons dans le Limousin, donc un climat continental, plutôt proche du climat parisien, notre terre est acide et sablo-limoneuse. Nos hivers sont doux même si parfois cela peut geler très fort (-10 en général) et nos étés sont en général secs (et le sont de plus en plus)\\n\\n\\nPour avoir des nouvelles quotidiennement, je t'invite à m'ajouter sur Instagram où je partage tous les jours : https://www.instagram.com/laptiteorti...\",\n",
    "    \"tags\": \"\",\n",
    "---\n",
    "   \n",
    "    \"titre_video\": \"Autonomie alimentaire.  Être autosuffisant sur petite surface !\",\n",
    "    \"description\": \"Découvrez le Pirate de la Permaculture et son autonomie alimentaire sur toute petite surface. Picro arrive à être autosuffisant sur une surface d'à peine 800m2... de quoi rêver.\\n\\nAdhérez à cette chaîne pour obtenir des avantages :\\nhttps://www.youtube.com/channel/UC9Q8WeyCb3yxySC3P3mGpBw/join\\nPour me soutenir, suivez ce lien : https://fr.tipeee.com/le-jardin-d-emerveille\\n\\nAu sommaire :\\n0:00 - Présentations\\n0:53 - Quelles productions\\n4:24 - Comment calculer son autosuffisance !\\n5:00 - Réduire sa dépendance énergétique\\n6:20 - Visite du lieu\\n8:08 - Surface et organisation de la production\\n10:58 - Gestion de l'eau\\n11:51 - Jardin forêt ?\\n13:24 - Le pirate Picro et sa chaîne YouTube.\\n\\nLa chaîne YouTube de Picro : https://www.youtube.com/user/piiicro\\n\\nPour me soutenir, suivez ce lien : https://fr.tipeee.com/le-jardin-d-emerveille\\n\\nMerci à vous tous les permapotes d'avoir regardé cette vidéo. :)\\nCliquez sur ce lien pour vous abonner : \\nhttps://www.youtube.com/channel/UC9Q8WeyCb3yxySC3P3mGpBw\",\n",
    "    \"tags\": [\n",
    "      \"Autonomie alimentaire. Être autosuffisant sur petite surface !\",\n",
    "      \"permaculture\",\n",
    "      \"plantes\",\n",
    "      \"jardin\",\n",
    "      \"biodiversité\",\n",
    "      \"agroécologie\",\n",
    "      \"potager\",\n",
    "      \"d'émerveille\",\n",
    "      \"des merveilles\",\n",
    "      \"Autonomie alimentaire\",\n",
    "      \"Produire sa nourriture\",\n",
    "      \"comment créer son potager bio\",\n",
    "      \"comment démarrer son potager\",\n",
    "      \"comment démarrer un potager\",\n",
    "      \"comment faire un potager bio\",\n",
    "      \"comment préparer son potager\",\n",
    "      \"créer son jardin\",\n",
    "      \"créer son potager\",\n",
    "      \"faire un potager\",\n",
    "      \"etre autosuffisant\",\n",
    "      \"Autosuffisant sur petite surface\"\n",
    "    ],\n",
    "---\n",
    "    \"titre_video\": \"Lancement et présentation de la chaine : Le jardin de Julien: Le potager autonome ou autosuffisant 🌱\",\n",
    "    \"description\": \"Vidéo de présentation de ma chaine dédiée au potager autosuffisant.\\nje pose les bases de fonctionnement de mon potager. Celui ci me permet d' être autonome et autosuffisant a 95% sur les légumes et 60 % sur les fruits. \\nJe suis aux antipodes des chaines et techniques du moment ( Permaculture,  non travail du sol, MSV ) difficilement compatibles à mon sens avec les enjeux d'une autosuffisance et ce avec un temps passé restreint au jardin.\\nCela ne m'empêche pas de piocher dans certaines techniques très utiles au potager comme celles de jean martin Fortier.\\nDe même j' essai de limiter au maximum les investissements, en utilisant du matériel ancien ou de récup pour ne pas exploser le budget.\\nBeaucoup de chaines ont de belles idées, et de superbes potagers, mais pas à la portée de toutes les bourses au vu des investissements.\\n\\nbon visionnage \\n\\nMa page FB : https://www.facebook.com/profile.php?id=100071363591677\",\n",
    "    \"tags\": [\n",
    "      \"Potager\",\n",
    "      \"potager dolivier\",\n",
    "      \"autonome\",\n",
    "      \"autosuffisant alimentaire\",\n",
    "      \"devenir autosuffisant\",\n",
    "      \"potager garden\",\n",
    "      \"le jardin de Julien\",\n",
    "      \"MSV\",\n",
    "      \"permaculture\",\n",
    "      \"jean martin fortier\",\n",
    "      \"jean martin fortier farm\",\n",
    "      \"non travail du sol\",\n",
    "      \"légumes\",\n",
    "      \"fruits\",\n",
    "      \"Antoine le potagiste\",\n",
    "      \"loic le jardineur\",\n",
    "      \"le jardin d'émerveille\",\n",
    "      \"graines\",\n",
    "      \"aromatiques\"\n",
    "    ],\n",
    "\"\"\"\n",
    "\n",
    "userprompt = \"\"\"\n",
    "Titre\n",
    "---\n",
    "{titre}\n",
    "Description\n",
    "---\n",
    "{descriptions}\n",
    "tags\n",
    "---\n",
    "{tags}\n",
    "\"\"\"\n",
    "\n",
    "prompt = ChatPromptTemplate([\n",
    "    (\"system\", sysprompt),\n",
    "    (\"user\", userprompt)\n",
    "])\n",
    "\n",
    "chain = prompt | gemini_flash\n"
   ]
  },
  {
   "cell_type": "code",
   "execution_count": 34,
   "id": "cd6a972e",
   "metadata": {},
   "outputs": [
    {
     "name": "stdout",
     "output_type": "stream",
     "text": [
      "```json\n",
      "{\n",
      "  \"decision\": \"yes\",\n",
      "  \"justification\": \"La description de la vidéo mentionne clairement la recherche d'une \\\"plus grande autonomie protéique\\\" à travers la \\\"diversification des rotations\\\". L'autonomie protéique est un aspect important de l'autosuffisance alimentaire, qui est au cœur de la thématique de l'autosuffisance.\"\n",
      "}\n",
      "```\n"
     ]
    }
   ],
   "source": [
    "input = {\"titre\":\"La diversification des rotations pour une plus grande autonomie protéique.\",\n",
    "         \"descriptions\":\"[#OnEssaiePourVous] – Episode 1/4. Connaissez-vous la station expérimentale de #Kerguéhennec ? Nous y menons de nombreux essais sur les grandes cultures. Caroline Cocoual, Chargée d’études, vous présente les essais qu’elle mène sur la diversification des rotations pour une plus grande autonomie protéique.\",\n",
    "         \"tags\":\"\"}\n",
    "print(chain.invoke(input))"
   ]
  },
  {
   "cell_type": "code",
   "execution_count": null,
   "id": "82038bcb",
   "metadata": {},
   "outputs": [
    {
     "name": "stderr",
     "output_type": "stream",
     "text": [
      "  0%|          | 1/4504 [00:01<1:42:08,  1.36s/it]"
     ]
    },
    {
     "name": "stdout",
     "output_type": "stream",
     "text": [
      "NRzflSM89iI /n ```json\n",
      "{\n",
      "  \"decision\": \"yes\",\n",
      "  \"justification\": \"Le titre de la vidéo mentionne clairement \\\"AUTONOMIE/AUTOSUFFISANCE\\\". La description détaille une liste de livres relatifs au potager, à l'élevage, à la cuisine et à la transformation, qui sont tous des aspects liés à l'autosuffisance. De plus, la description contient des mots-clés pertinents comme \\\"autonomie au jardin\\\", \\\"vivre en autosuffisance\\\" et \\\"l'autosuffisance\\\".\"\n",
      "}\n",
      "```\n"
     ]
    },
    {
     "name": "stderr",
     "output_type": "stream",
     "text": [
      "  0%|          | 2/4504 [00:02<1:42:55,  1.37s/it]"
     ]
    },
    {
     "name": "stdout",
     "output_type": "stream",
     "text": [
      "6CI-4_XszYg /n ```json\n",
      "{\n",
      "  \"decision\": \"yes\",\n",
      "  \"justification\": \"Le titre et la description de la vidéo mentionnent clairement l'autonomie alimentaire et l'autosuffisance sur une petite surface. De plus, les tags incluent des termes pertinents tels que 'Autonomie alimentaire', 'Produire sa nourriture', 'etre autosuffisant', 'Autosuffisant sur petite surface', ainsi que des pratiques associées comme la permaculture et le potager.\"\n",
      "}\n",
      "```\n"
     ]
    },
    {
     "name": "stderr",
     "output_type": "stream",
     "text": [
      "  0%|          | 3/4504 [00:03<1:27:09,  1.16s/it]"
     ]
    },
    {
     "name": "stdout",
     "output_type": "stream",
     "text": [
      "E1Zo4dBPbGM /n ```json\n",
      "{\n",
      "  \"decision\": \"yes\",\n",
      "  \"justification\": \"Le titre et la description de la vidéo mentionnent explicitement le potager autosuffisant et l'autonomie alimentaire. De plus, les tags incluent des termes tels que 'autosuffisant alimentaire' et 'devenir autosuffisant', ce qui confirme que la vidéo traite de la thématique de l'autosuffisance.\"\n",
      "}\n",
      "```\n"
     ]
    },
    {
     "name": "stderr",
     "output_type": "stream",
     "text": [
      "  0%|          | 4/4504 [00:04<1:25:29,  1.14s/it]"
     ]
    },
    {
     "name": "stdout",
     "output_type": "stream",
     "text": [
      "z35x21dbhsw /n ```json\n",
      "{\n",
      "  \"decision\": \"yes\",\n",
      "  \"justification\": \"La vidéo traite clairement de l'autonomie alimentaire et de l'autosuffisance. Le titre mentionne \\\"autonomie alimentaire\\\" et la description détaille un projet d'autonomie avec des bacs de culture productifs, un potager, et des animaux contribuant à l'autonomie. Les tags incluent des termes comme \\\"autonomie\\\", \\\"permaculture\\\", \\\"potager\\\", et \\\"autosuffisance\\\".\"\n",
      "}\n",
      "```\n"
     ]
    },
    {
     "name": "stderr",
     "output_type": "stream",
     "text": [
      "  0%|          | 5/4504 [00:05<1:26:18,  1.15s/it]"
     ]
    },
    {
     "name": "stdout",
     "output_type": "stream",
     "text": [
      "iF3O2TSheXI /n ```json\n",
      "{\n",
      "  \"decision\": \"yes\",\n",
      "  \"justification\": \"La vidéo décrit une ferme qui vise une autonomie complète en eau, viande, légumes, plantes aromatiques et perpétuelles. Les métadonnées (titre, description, tags) utilisent des termes clés liés à l'autosuffisance et à des pratiques agricoles autonomes comme l'élevage, la production de légumes, la permaculture, et la gestion de l'eau.\"\n",
      "}\n",
      "```\n"
     ]
    },
    {
     "name": "stderr",
     "output_type": "stream",
     "text": [
      "  0%|          | 6/4504 [00:07<1:26:44,  1.16s/it]"
     ]
    },
    {
     "name": "stdout",
     "output_type": "stream",
     "text": [
      "9nl8mw96R90 /n ```json\n",
      "{\n",
      "  \"decision\": \"true\",\n",
      "  \"justification\": \"La vidéo décrit une famille qui est 100% autonome en légumes grâce à un petit potager. La description mentionne également la permaculture, l'autonomie, et un petit élevage, tous des aspects liés à l'autosuffisance. Les tags incluent \\\"autonome\\\", \\\"permaculture\\\", \\\"autonomie\\\", \\\"potager\\\", et \\\"légumes\\\", confirmant la thématique de l'autosuffisance.\"\n",
      "}\n",
      "```\n"
     ]
    },
    {
     "name": "stderr",
     "output_type": "stream",
     "text": [
      "  0%|          | 7/4504 [00:08<1:24:51,  1.13s/it]"
     ]
    },
    {
     "name": "stdout",
     "output_type": "stream",
     "text": [
      "viSl4Gv9mqU /n ```json\n",
      "{\n",
      "  \"decision\": \"yes\",\n",
      "  \"justification\": \"La vidéo aborde des thèmes centraux de l'autosuffisance, notamment à travers la présentation d'un mode de vie proche de la nature, l'élevage de volailles et de moutons, et la culture potagère en utilisant des techniques de permaculture. Les tags '#permaculture' et '#autonomie' confirment l'orientation de la vidéo vers cette thématique.\"\n",
      "}\n",
      "```\n"
     ]
    },
    {
     "name": "stderr",
     "output_type": "stream",
     "text": [
      "  0%|          | 8/4504 [00:09<1:25:33,  1.14s/it]"
     ]
    },
    {
     "name": "stdout",
     "output_type": "stream",
     "text": [
      "A31isr90nNI /n ```json\n",
      "{\n",
      "  \"decision\": \"yes\",\n",
      "  \"justification\": \"Le titre et la description de la vidéo indiquent clairement un contenu axé sur l'autonomie en légumes, avec des conseils et des méthodes pour atteindre cet objectif. Les tags confirment également la thématique de l'autonomie, du potager, du jardinage et de la permaculture.\"\n",
      "}\n",
      "```\n"
     ]
    },
    {
     "name": "stderr",
     "output_type": "stream",
     "text": [
      "  0%|          | 9/4504 [00:10<1:36:00,  1.28s/it]"
     ]
    },
    {
     "name": "stdout",
     "output_type": "stream",
     "text": [
      "9-pbc-zRdss /n ```json\n",
      "{\n",
      "  \"decision\": \"true\",\n",
      "  \"justification\": \"La vidéo présente une cuisinière à bois comme un investissement pour l'autonomie. La description mentionne la cuisson des aliments, le chauffage et la robustesse de l'appareil, des éléments importants pour réduire la dépendance aux systèmes modernes et atteindre une certaine autosuffisance. Les tags incluent des termes comme 'autonomie', 'autonome', 'cuisinière à bois', et 'bois de chauffage', confirmant le lien avec la thématique.\"\n",
      "}\n",
      "```\n"
     ]
    },
    {
     "name": "stderr",
     "output_type": "stream",
     "text": [
      "  0%|          | 10/4504 [00:12<1:36:37,  1.29s/it]"
     ]
    },
    {
     "name": "stdout",
     "output_type": "stream",
     "text": [
      "_l191QtAqlc /n ```json\n",
      "{\n",
      "  \"decision\": \"yes\",\n",
      "  \"justification\": \"La vidéo traite de l'autonomie en chauffage grâce à une combinaison de chauffage solaire et de poêle bouilleur. Bien que l'autosuffisance soit principalement associée à l'alimentation, elle englobe également d'autres besoins fondamentaux comme le chauffage. La vidéo aborde donc une forme d'autonomie, en l'occurrence énergétique, et propose une solution pour réduire la dépendance aux systèmes de chauffage conventionnels. De plus, le tag 'autonomie en chauffage' confirme la thématique.\"\n",
      "}\n",
      "```\n"
     ]
    },
    {
     "name": "stderr",
     "output_type": "stream",
     "text": [
      "  0%|          | 11/4504 [00:13<1:30:16,  1.21s/it]"
     ]
    },
    {
     "name": "stdout",
     "output_type": "stream",
     "text": [
      "-5ahOCpQi-k /n ```json\n",
      "{\n",
      "  \"decision\": \"yes\",\n",
      "  \"justification\": \"La vidéo traite de l'autonomie énergétique, un aspect important de l'autosuffisance. Elle présente des méthodes low-tech pour produire son propre chauffage et électricité, en accord avec la définition de l'autosuffisance qui inclut la réduction de la dépendance au système économique extérieur.\"\n",
      "}\n",
      "```\n"
     ]
    },
    {
     "name": "stderr",
     "output_type": "stream",
     "text": [
      "  0%|          | 12/4504 [00:14<1:27:21,  1.17s/it]"
     ]
    },
    {
     "name": "stdout",
     "output_type": "stream",
     "text": [
      "7dO0lOOPZVw /n ```json\n",
      "{\n",
      "  \"decision\": \"yes\",\n",
      "  \"justification\": \"La vidéo traite de l'autonomie en chauffage grâce à un poêle bouilleur, ce qui s'inscrit dans la thématique de l'autosuffisance énergétique, un aspect important de l'autonomie globale. La description mentionne explicitement \\\"autonomie énergétique\\\" et \\\"faire soi-même\\\", soulignant la volonté de réduire la dépendance au système extérieur et de produire localement ses besoins.\"\n",
      "}\n",
      "```\n",
      "pCf8PjSn6xs /n ```json\n",
      "{\n",
      "  \"decision\": \"true\",\n",
      "  \"justification\": \"La vidéo traite de la fabrication d'un chauffe-eau au bois DIY, ce qui contribue à l'autonomie énergétique. La description et les tags mentionnent explicitement l'autonomie, l'eau chaude autonome, et des solutions low-tech pour la production d'eau chaude, ce qui correspond à la thématique de l'autosuffisance.\"\n",
      "}\n",
      "```\n",
      "sleep for 1 min\n"
     ]
    },
    {
     "name": "stderr",
     "output_type": "stream",
     "text": [
      "  0%|          | 14/4504 [01:16<17:09:27, 13.76s/it]"
     ]
    },
    {
     "name": "stdout",
     "output_type": "stream",
     "text": [
      "YER-2qYt2B0 /n ```json\n",
      "{\n",
      "  \"decision\": \"yes\",\n",
      "  \"justification\": \"La description de la vidéo mentionne l'autonomie, le low-tech et le low-cost pour garder le maximum de confort dans la maison. De plus, la chaîne traite de sujets concernant l'autonomie, et les tags incluent 'eau chaude autonome' et 'DIY', ce qui correspond à la thématique de l'autosuffisance.\"\n",
      "}\n",
      "```\n"
     ]
    },
    {
     "name": "stderr",
     "output_type": "stream",
     "text": [
      "  0%|          | 15/4504 [01:17<12:23:12,  9.93s/it]"
     ]
    },
    {
     "name": "stdout",
     "output_type": "stream",
     "text": [
      "lSoWicUMVlM /n ```json\n",
      "{\n",
      "  \"decision\": \"oui\",\n",
      "  \"justification\": \"Bien que la vidéo se concentre sur l'utilisation d'une cuisinière à bois, la description mentionne explicitement l'autonomie et la transition vers de nouveaux modes de consommation, ce qui correspond à la thématique de l'autosuffisance. L'utilisation d'une cuisinière à bois peut être perçue comme un pas vers une plus grande autonomie énergétique et une réduction de la dépendance aux systèmes modernes.\"\n",
      "}\n",
      "```\n"
     ]
    },
    {
     "name": "stderr",
     "output_type": "stream",
     "text": [
      "  0%|          | 16/4504 [01:18<9:07:40,  7.32s/it] "
     ]
    },
    {
     "name": "stdout",
     "output_type": "stream",
     "text": [
      "G4_vmWaSU3Q /n ```json\n",
      "{\n",
      "  \"decision\": \"yes\",\n",
      "  \"justification\": \"La vidéo, d'après son titre et ses tags, concerne un système de chauffage au bois, ce qui contribue à l'autonomie énergétique et donc à l'autosuffisance. Les tags incluent explicitement 'autonomie' et 'autosuffisance', ainsi que d'autres termes associés comme 'permaculture', 'décroissance', 'économies d'énergie', et 'sobriété'.\"\n",
      "}\n",
      "```\n"
     ]
    },
    {
     "name": "stderr",
     "output_type": "stream",
     "text": [
      "  0%|          | 17/4504 [01:19<6:47:34,  5.45s/it]"
     ]
    },
    {
     "name": "stdout",
     "output_type": "stream",
     "text": [
      "CbPHyfHqIHw /n ```json\n",
      "{\n",
      "  \"decision\": \"yes\",\n",
      "  \"justification\": \"La vidéo traite de l'autonomie énergétique en produisant sa propre énergie grâce à un poêle bouilleur, ce qui correspond à un aspect de l'autosuffisance, notamment la réduction de la dépendance au système énergétique extérieur.\"\n",
      "}\n",
      "```\n"
     ]
    },
    {
     "name": "stderr",
     "output_type": "stream",
     "text": [
      "  0%|          | 18/4504 [01:20<5:04:37,  4.07s/it]"
     ]
    },
    {
     "name": "stdout",
     "output_type": "stream",
     "text": [
      "yu5wQ_e1UMo /n ```json\n",
      "{\n",
      "  \"decision\": \"yes\",\n",
      "  \"justification\": \"La vidéo traite du chauffage économique et fait référence à l'autosuffisance, notamment à travers la promotion d'un livre sur le sujet. Les tags incluent explicitement 'autosuffisance' et 'autonomie'.\"\n",
      "}\n",
      "```\n"
     ]
    },
    {
     "name": "stderr",
     "output_type": "stream",
     "text": [
      "  0%|          | 19/4504 [01:21<3:54:51,  3.14s/it]"
     ]
    },
    {
     "name": "stdout",
     "output_type": "stream",
     "text": [
      "1UvvwnWkFho /n ```json\n",
      "{\n",
      "  \"decision\": \"yes\",\n",
      "  \"justification\": \"La vidéo décrit un système de chauffe-eau sanitaire combinant bois et solaire pour une autonomie à 100%. Le titre et la description mentionnent clairement l'autonomie et le retour d'expérience sur un tel système, ce qui correspond à la thématique de l'autosuffisance énergétique.\"\n",
      "}\n",
      "```\n"
     ]
    },
    {
     "name": "stderr",
     "output_type": "stream",
     "text": [
      "  0%|          | 20/4504 [01:22<3:07:10,  2.50s/it]"
     ]
    },
    {
     "name": "stdout",
     "output_type": "stream",
     "text": [
      "tbrycDTUECg /n ```json\n",
      "{\n",
      "  \"decision\": \"oui\",\n",
      "  \"justification\": \"La vidéo traite de la fabrication et de l'utilisation du torchis, un matériau de construction traditionnel fabriqué à partir de terre, de paille et d'eau. L'utilisation de matériaux naturels et locaux comme le torchis s'inscrit dans une démarche d'autonomie et de réduction de la dépendance aux matériaux industriels, ce qui est un aspect de l'autosuffisance.\"\n",
      "}\n",
      "```\n"
     ]
    },
    {
     "name": "stderr",
     "output_type": "stream",
     "text": [
      "  0%|          | 21/4504 [01:23<2:33:50,  2.06s/it]"
     ]
    },
    {
     "name": "stdout",
     "output_type": "stream",
     "text": [
      "e2gMKuiDxQY /n ```json\n",
      "{\n",
      "  \"decision\": \"false\",\n",
      "  \"justification\": \"La vidéo présente un DIY sur le torchis à l'ancienne, une technique de construction. Bien que cela puisse contribuer à l'autonomie en matière de logement, ce n'est pas directement lié à l'autosuffisance alimentaire ou à la réduction de la dépendance au système économique et social au sens strict de la définition.\"\n",
      "}\n",
      "```\n"
     ]
    },
    {
     "name": "stderr",
     "output_type": "stream",
     "text": [
      "  0%|          | 22/4504 [01:24<2:16:41,  1.83s/it]"
     ]
    },
    {
     "name": "stdout",
     "output_type": "stream",
     "text": [
      "VmaB1cxsLxA /n ```json\n",
      "{\n",
      "  \"decision\": \"yes\",\n",
      "  \"justification\": \"La vidéo traite clairement de l'autonomie, notamment à travers la permaculture et la construction de cabanes en torchis. Le titre mentionne \\\"L'AUTONOMIE\\\" et la description détaille les efforts d'une famille pour atteindre cet objectif avec un budget limité, ce qui correspond à la définition de l'autosuffisance. Les tags incluent également des termes pertinents comme 'autonomie', 'permaculture', 'jardin', 'potager'.\"\n",
      "}\n",
      "```\n"
     ]
    },
    {
     "name": "stderr",
     "output_type": "stream",
     "text": [
      "  1%|          | 23/4504 [01:25<1:58:13,  1.58s/it]"
     ]
    },
    {
     "name": "stdout",
     "output_type": "stream",
     "text": [
      "-PYlxVfbEGA /n ```json\n",
      "{\n",
      "  \"decision\": \"yes\",\n",
      "  \"justification\": \"La vidéo traite de l'éco-construction d'une maison en terre-paille, de la visite d'un écolieu, du potager et du verger en permaculture, du chauffe-eau solaire en autoconstruction et de la phytoépuration en autoconstruction. Tous ces éléments sont liés à l'autosuffisance et à l'autonomie.\"\n",
      "}\n",
      "```\n"
     ]
    },
    {
     "name": "stderr",
     "output_type": "stream",
     "text": [
      "  1%|          | 24/4504 [01:26<1:44:54,  1.40s/it]"
     ]
    },
    {
     "name": "stdout",
     "output_type": "stream",
     "text": [
      "IG35vKlx0U0 /n ```json\n",
      "{\n",
      "  \"decision\": \"false\",\n",
      "  \"justification\": \"La vidéo montre comment remplir le torchis sous toiture, ce qui concerne la construction écologique et l'isolation, mais ne se concentre pas directement sur la production alimentaire ou la réduction de la dépendance au système économique et social extérieur, qui sont des aspects centraux de l'autosuffisance.\"\n",
      "}\n",
      "```\n"
     ]
    },
    {
     "name": "stderr",
     "output_type": "stream",
     "text": [
      "  1%|          | 25/4504 [01:28<1:43:51,  1.39s/it]"
     ]
    },
    {
     "name": "stdout",
     "output_type": "stream",
     "text": [
      "EyExd5h_j3M /n ```json\n",
      "{\n",
      "  \"decision\": \"yes\",\n",
      "  \"justification\": \"La vidéo traite de l'aquaponie, une méthode de culture combinant l'élevage de poissons et la culture de plantes, présentée comme un moyen d'atteindre l'autonomie en poissons et légumes. La description détaille les avantages de l'aquaponie, notamment la production de nourriture, la réduction de la consommation d'eau, l'absence de pesticides et la possibilité de cultiver dans de petits espaces. Les tags incluent des termes clés tels que 'autonomie', 'autonomie alimentaire', 'aquaponie', 'légumes', 'poissons', ce qui confirme que la vidéo est bien axée sur le thème de l'autosuffisance.\"\n",
      "}\n",
      "```\n",
      "pzMvlEuc7xc /n ```json\n",
      "{\n",
      "  \"decision\": \"True\",\n",
      "  \"justification\": \"La vidéo décrit la production d'une serre aquaponique en 2022 avec un bilan de 258 kg de légumes et 22 kg de poissons. La description mentionne explicitement \\\"Un pas de plus vers l'autonomie alimentaire !\\\" et inclut les tags \\\"#autonomiealimentaire\\\" et \\\"#autonomie\\\". Ces éléments indiquent clairement que la vidéo concerne la thématique de l'autosuffisance, en particulier l'autonomie alimentaire.\"\n",
      "}\n",
      "```\n",
      "sleep for 1 min\n"
     ]
    },
    {
     "name": "stderr",
     "output_type": "stream",
     "text": [
      "  1%|          | 27/4504 [02:30<17:15:01, 13.87s/it]"
     ]
    },
    {
     "name": "stdout",
     "output_type": "stream",
     "text": [
      "-6ecq5hc5ig /n ```json\n",
      "{\n",
      "  \"decision\": \"true\",\n",
      "  \"justification\": \"La vidéo aborde la production alimentaire dans une serre, avec l'objectif d'atteindre l'autonomie alimentaire. Le témoignage de Frédéric, qui vise à subvenir à ses besoins alimentaires et à ceux de sa famille grâce à son potager et sa serre, correspond à la définition de l'autosuffisance. De plus, il produit ses propres graines, ce qui renforce son autonomie.\"\n",
      "}\n",
      "```\n"
     ]
    },
    {
     "name": "stderr",
     "output_type": "stream",
     "text": [
      "  1%|          | 28/4504 [02:31<12:25:48, 10.00s/it]"
     ]
    },
    {
     "name": "stdout",
     "output_type": "stream",
     "text": [
      "gjcxL3mVVe0 /n ```json\n",
      "{\n",
      "  \"decision\": \"yes\",\n",
      "  \"justification\": \"La vidéo traite de l'aquaponie, un système de production alimentaire combinant culture de plantes et élevage de poissons en circuit fermé. Les tags incluent \\\"Autonomie\\\", \\\"Permaculture\\\", \\\"Culture hors-sol\\\", \\\"potager hors-sol\\\", ce qui indique que la vidéo aborde des aspects liés à l'autosuffisance alimentaire et à des méthodes de production alternatives.\"\n",
      "}\n",
      "```\n"
     ]
    },
    {
     "name": "stderr",
     "output_type": "stream",
     "text": [
      "  1%|          | 29/4504 [02:32<9:01:36,  7.26s/it] "
     ]
    },
    {
     "name": "stdout",
     "output_type": "stream",
     "text": [
      "VC0jyL7qnDU /n ```json\n",
      "{\n",
      "  \"decision\": \"yes\",\n",
      "  \"justification\": \"Le titre de la vidéo mentionne explicitement l'autosuffisance énergétique et le salon \\\"Survival Expo\\\" qui traite de l'autonomie. La description confirme que le salon aborde l'autonomie et le développement durable.\"\n",
      "}\n",
      "```\n"
     ]
    },
    {
     "name": "stderr",
     "output_type": "stream",
     "text": [
      "  1%|          | 30/4504 [02:33<6:36:45,  5.32s/it]"
     ]
    },
    {
     "name": "stdout",
     "output_type": "stream",
     "text": [
      "1Tur0zcDnvU /n ```json\n",
      "{\n",
      "  \"decision\": \"true\",\n",
      "  \"justification\": \"La description de la vidéo mentionne clairement le souhait de Béatrice de vivre en totale autonomie et son atteinte de cet objectif grâce à sa serre et son système en aquaponie. Le titre indique également une proximité avec l'autonomie.\"\n",
      "}\n",
      "```\n"
     ]
    },
    {
     "name": "stderr",
     "output_type": "stream",
     "text": [
      "  1%|          | 31/4504 [02:34<4:59:39,  4.02s/it]"
     ]
    },
    {
     "name": "stdout",
     "output_type": "stream",
     "text": [
      "XYZwomaR3ns /n ```json\n",
      "{\n",
      "  \"decision\": \"yes\",\n",
      "  \"justification\": \"La vidéo aborde directement la question de l'aquaponie dans le cadre d'un projet d'autonomie alimentaire. Les métadonnées (titre, description et tags) contiennent des termes clés liés à l'autosuffisance et à la production de nourriture (autonomie alimentaire, élevage, potager).\"\n",
      "}\n",
      "```\n"
     ]
    },
    {
     "name": "stderr",
     "output_type": "stream",
     "text": [
      "  1%|          | 32/4504 [02:35<3:51:58,  3.11s/it]"
     ]
    },
    {
     "name": "stdout",
     "output_type": "stream",
     "text": [
      "0nZyupbiRVQ /n ```json\n",
      "{\n",
      "  \"decision\": \"yes\",\n",
      "  \"justification\": \"La vidéo traite de l'élevage de truites en aquaponie, ce qui est une méthode pour tendre vers l'autonomie alimentaire en associant la pisciculture et le potager hors-sol. Les mots-clés comme 'Autonomie', 'Aquaponie', 'pisciculture', 'potager hors-sol' et 'élevage de truites' confirment que le sujet est lié à l'autosuffisance.\"\n",
      "}\n",
      "```\n"
     ]
    },
    {
     "name": "stderr",
     "output_type": "stream",
     "text": [
      "  1%|          | 33/4504 [02:35<3:00:38,  2.42s/it]"
     ]
    },
    {
     "name": "stdout",
     "output_type": "stream",
     "text": [
      "LJP8bYpCBPI /n ```json\n",
      "{\n",
      "  \"decision\": \"yes\",\n",
      "  \"justification\": \"Le titre et la description de la vidéo mentionnent l'aquaponie, l'autonomie alimentaire et la construction d'une serre aquaponique, ce qui est directement lié à la thématique de l'autosuffisance alimentaire.\"\n",
      "}\n",
      "```\n"
     ]
    },
    {
     "name": "stderr",
     "output_type": "stream",
     "text": [
      "  1%|          | 34/4504 [02:36<2:25:01,  1.95s/it]"
     ]
    },
    {
     "name": "stdout",
     "output_type": "stream",
     "text": [
      "7ZnBr3v59Iw /n ```json\n",
      "{\n",
      "  \"decision\": \"yes\",\n",
      "  \"justification\": \"La vidéo concerne la fabrication d'un filtre à eau, ce qui est essentiel pour l'autonomie, en particulier dans un contexte de survie. La description et les tags confirment que la vidéo traite de la purification de l'eau, une compétence importante pour l'autosuffisance.\"\n",
      "}\n",
      "```\n"
     ]
    },
    {
     "name": "stderr",
     "output_type": "stream",
     "text": [
      "  1%|          | 35/4504 [02:37<2:03:36,  1.66s/it]"
     ]
    },
    {
     "name": "stdout",
     "output_type": "stream",
     "text": [
      "HkpV4V4dYOw /n ```json\n",
      "{\n",
      "  \"decision\": \"yes\",\n",
      "  \"justification\": \"La vidéo montre comment fabriquer un filtre à eau de survie, ce qui est essentiel pour l'autonomie et la résilience, en particulier dans des situations où l'accès à l'eau potable est limité. Les tags incluent des termes comme 'survie', 'autonomie', 'indépendance', 'résilience', et 'potabiliser', ce qui indique clairement un lien avec le thème de l'autosuffisance.\"\n",
      "}\n",
      "```\n"
     ]
    },
    {
     "name": "stderr",
     "output_type": "stream",
     "text": [
      "  1%|          | 36/4504 [02:38<1:46:44,  1.43s/it]"
     ]
    },
    {
     "name": "stdout",
     "output_type": "stream",
     "text": [
      "ayUMX5QFZBs /n ```json\n",
      "{\n",
      "  \"decision\": \"true\",\n",
      "  \"justification\": \"Bien que la vidéo porte sur l'aménagement d'un bassin naturel, elle se situe dans un contexte de permaculture et vise à établir un équilibre naturel et une certaine autonomie. L'autonomie est un aspect important de l'autosuffisance, car elle permet de réduire la dépendance aux ressources extérieures.\"\n",
      "}\n",
      "```\n"
     ]
    },
    {
     "name": "stderr",
     "output_type": "stream",
     "text": [
      "  1%|          | 37/4504 [02:39<1:35:32,  1.28s/it]"
     ]
    },
    {
     "name": "stdout",
     "output_type": "stream",
     "text": [
      "Wcgs5XjxzFs /n ```json\n",
      "{\n",
      "  \"decision\": \"Oui\",\n",
      "  \"justification\": \"La vidéo montre comment fabriquer un filtre à eau de pluie avec des matériaux de récupération, ce qui contribue à l'autonomie en eau et à la réduction de la dépendance aux systèmes de distribution d'eau conventionnels. L'utilisation de matériaux de récupération s'inscrit dans une démarche d'autosuffisance et de réduction de l'empreinte écologique.\"\n",
      "}\n",
      "```\n"
     ]
    },
    {
     "name": "stderr",
     "output_type": "stream",
     "text": [
      "  1%|          | 38/4504 [02:40<1:28:50,  1.19s/it]"
     ]
    },
    {
     "name": "stdout",
     "output_type": "stream",
     "text": [
      "vJSzXIPoOkw /n ```json\n",
      "{\n",
      "  \"decision\": \"yes\",\n",
      "  \"justification\": \"Le titre et la description mentionnent clairement \\\"Permaculture, la Voie de l'Autonomie\\\". Les tags incluent \\\"autonomie\\\" et le contenu décrit la permaculture comme un mode de vie équitable et durable, promouvant l'autonomie. Un extrait de film documentaire sur l'autonomie via la permaculture correspond clairement à la thématique de l'autosuffisance.\"\n",
      "}\n",
      "```\n",
      "aZusRHXECMY /n ```json\n",
      "{\n",
      "  \"decision\": \"no\",\n",
      "  \"justification\": \"La vidéo traite de la purification de l'eau en milieu naturel en situation de survie, ce qui est une compétence utile, mais elle ne s'inscrit pas directement dans la démarche d'autosuffisance telle que définie dans la description (production alimentaire, autonomie matérielle, etc.).\"\n",
      "}\n",
      "```\n",
      "sleep for 1 min\n"
     ]
    },
    {
     "name": "stderr",
     "output_type": "stream",
     "text": [
      "  1%|          | 40/4504 [03:42<17:02:08, 13.74s/it]"
     ]
    },
    {
     "name": "stdout",
     "output_type": "stream",
     "text": [
      "LifnAsRRY4E /n ```json\n",
      "{\n",
      "  \"decision\": \"yes\",\n",
      "  \"justification\": \"La vidéo traite de l'autonomie en eau, un aspect important de l'autosuffisance. Le titre et la description indiquent clairement qu'il s'agit d'un bilan sur une année d'autonomie en eau, avec des conseils sur la collecte, le stockage, la filtration et la consommation d'eau de pluie. Les tags confirment également le sujet de l'autonomie et de l'autosuffisance.\"\n",
      "}\n",
      "```\n"
     ]
    },
    {
     "name": "stderr",
     "output_type": "stream",
     "text": [
      "  1%|          | 41/4504 [03:43<12:16:54,  9.91s/it]"
     ]
    },
    {
     "name": "stdout",
     "output_type": "stream",
     "text": [
      "EMKZk61uA0w /n ```json\n",
      "{\n",
      "  \"decision\": \"yes\",\n",
      "  \"justification\": \"Bien que la vidéo elle-même porte sur la préparation de maquereaux fumés, la description mentionne une chaîne secondaire dédiée à l'autonomie et au survivalisme, ce qui indique un intérêt pour les thématiques d'autosuffisance.\"\n",
      "}\n",
      "```\n"
     ]
    },
    {
     "name": "stderr",
     "output_type": "stream",
     "text": [
      "  1%|          | 42/4504 [03:44<8:52:27,  7.16s/it] "
     ]
    },
    {
     "name": "stdout",
     "output_type": "stream",
     "text": [
      "U7RY1lzS6us /n ```json\n",
      "{\n",
      "  \"decision\": \"true\",\n",
      "  \"justification\": \"La vidéo concerne le fumage à froid, une technique de conservation des aliments, ce qui est pertinent pour l'autosuffisance alimentaire, notamment pour conserver les viandes et poissons.\"\n",
      "}\n",
      "```\n"
     ]
    },
    {
     "name": "stderr",
     "output_type": "stream",
     "text": [
      "  1%|          | 43/4504 [03:45<6:35:16,  5.32s/it]"
     ]
    },
    {
     "name": "stdout",
     "output_type": "stream",
     "text": [
      "_3X3muyDFKY /n ```json\n",
      "{\n",
      "  \"decision\": \"yes\",\n",
      "  \"justification\": \"La description de la vidéo mentionne que la chaîne est dédiée à l'autosuffisance et détaille les réalisations pour la mise en autonomie d'une maison familiale avec un jardin en permaculture. De plus, les tags incluent des termes comme 'autonomie', 'permaculture', et 'résilience', indiquant un lien direct avec le thème de l'autosuffisance.\"\n",
      "}\n",
      "```\n"
     ]
    },
    {
     "name": "stderr",
     "output_type": "stream",
     "text": [
      "  1%|          | 44/4504 [03:46<5:02:56,  4.08s/it]"
     ]
    },
    {
     "name": "stdout",
     "output_type": "stream",
     "text": [
      "W79c-I7vqFI /n ```json\n",
      "{\n",
      "  \"decision\": \"yes\",\n",
      "  \"justification\": \"Bien que la vidéo ne soit pas directement un tutoriel sur l'autosuffisance alimentaire, elle met en avant un producteur local qui utilise l'aquaponie, un système durable de production alimentaire. De plus, la description mentionne l'autonomie alimentaire et la résilience, ce qui correspond à la thématique de l'autosuffisance.\"\n",
      "}\n",
      "```\n"
     ]
    },
    {
     "name": "stderr",
     "output_type": "stream",
     "text": [
      "  1%|          | 45/4504 [03:48<4:09:45,  3.36s/it]"
     ]
    },
    {
     "name": "stdout",
     "output_type": "stream",
     "text": [
      "8ChX6276Rhk /n ```json\n",
      "{\n",
      "  \"decision\": \"oui\",\n",
      "  \"justification\": \"Bien que la vidéo porte spécifiquement sur la truite fumée, elle s'inscrit dans une démarche d'autosuffisance alimentaire en encourageant la production \\\"maison\\\" et locale d'une alternative au saumon fumé. La description détaille le processus de A à Z, du choix de la truite à la conservation, en passant par le fumage, offrant ainsi un tutoriel complet pour ceux qui souhaitent s'affranchir des produits industriels et gagner en autonomie alimentaire.\"\n",
      "}\n",
      "```\n"
     ]
    },
    {
     "name": "stderr",
     "output_type": "stream",
     "text": [
      "  1%|          | 46/4504 [03:49<3:19:00,  2.68s/it]"
     ]
    },
    {
     "name": "stdout",
     "output_type": "stream",
     "text": [
      "M92CPBXG0U0 /n ```json\n",
      "{\n",
      "  \"decision\": \"true\",\n",
      "  \"justification\": \"Le titre de la vidéo mentionne clairement l'autonomie en légumes, et la description parle de la dimension du potager pour être autonome en légumes et fruits à l'année. De plus, les tags incluent des termes comme 'autonomie', 'permaculture' et 'légumes', ce qui confirme que la vidéo traite de l'autosuffisance alimentaire.\"\n",
      "}\n",
      "```\n"
     ]
    },
    {
     "name": "stderr",
     "output_type": "stream",
     "text": [
      "  1%|          | 47/4504 [03:50<2:39:31,  2.15s/it]"
     ]
    },
    {
     "name": "stdout",
     "output_type": "stream",
     "text": [
      "FZBgBkMdgTg /n ```json\n",
      "{\n",
      "  \"decision\": \"yes\",\n",
      "  \"justification\": \"Le titre et la description de la vidéo mentionnent clairement l'autonomie alimentaire, la production de légumes, et les méthodes de conservation. De plus, les tags incluent des termes tels que 'autonomie alimentaire', 'autonomie énergétique', et 'autonomie eau', ce qui confirme que le sujet principal de la vidéo est bien l'autosuffisance.\"\n",
      "}\n",
      "```\n"
     ]
    },
    {
     "name": "stderr",
     "output_type": "stream",
     "text": [
      "  1%|          | 48/4504 [03:51<2:14:32,  1.81s/it]"
     ]
    },
    {
     "name": "stdout",
     "output_type": "stream",
     "text": [
      "BCENbxCl7XU /n ```json\n",
      "{\n",
      "  \"decision\": \"yes\",\n",
      "  \"justification\": \"La vidéo traite du stockage de nourriture, ce qui est un aspect important de l'autonomie et de l'autosuffisance alimentaire. La description mentionne des sites pour acheter de la nourriture en gros et des contenants pour la conservation, ce qui confirme le lien avec la thématique de l'autosuffisance.\"\n",
      "}\n",
      "```\n"
     ]
    },
    {
     "name": "stderr",
     "output_type": "stream",
     "text": [
      "  1%|          | 49/4504 [03:52<1:56:17,  1.57s/it]"
     ]
    },
    {
     "name": "stdout",
     "output_type": "stream",
     "text": [
      "ihOZZgTg9hg /n ```json\n",
      "{\n",
      "  \"decision\": \"yes\",\n",
      "  \"justification\": \"Le titre de la vidéo mentionne clairement \\\"vers l'autosuffisance\\\" et la description explique comment la personne essaye de manger le maximum de ce qu'elle trouve dans son jardin. Les tags incluent également \\\"autosuffisance\\\", \\\"jardin\\\", \\\"récolte\\\", \\\"potager\\\" et \\\"permaculture\\\", ce qui confirme que la vidéo est bien sur le thème de l'autosuffisance.\"\n",
      "}\n",
      "```\n"
     ]
    },
    {
     "name": "stderr",
     "output_type": "stream",
     "text": [
      "  1%|          | 50/4504 [03:53<1:44:19,  1.41s/it]"
     ]
    },
    {
     "name": "stdout",
     "output_type": "stream",
     "text": [
      "NgdYYbRCtrc /n ```json\n",
      "{\n",
      "  \"decision\": \"yes\",\n",
      "  \"justification\": \"La vidéo traite de l'autosuffisance alimentaire à l'échelle de la ville d'Albi, en mettant en avant la production locale, l'agriculture biologique et les circuits courts. Les mots-clés comme 'autosuffisance alimentaire', 'agriculture bio', et 'local' confirment que le sujet principal est bien l'autosuffisance.\"\n",
      "}\n",
      "```\n"
     ]
    },
    {
     "name": "stderr",
     "output_type": "stream",
     "text": [
      "  1%|          | 51/4504 [03:54<1:37:17,  1.31s/it]"
     ]
    },
    {
     "name": "stdout",
     "output_type": "stream",
     "text": [
      "3KxD8q2oWVc /n ```json\n",
      "{\n",
      "  \"decision\": \"yes\",\n",
      "  \"justification\": \"La vidéo présente la Ferme du Bec Hellouin, un exemple concret d'agriculture permaculturelle et de transition vers une agriculture durable et résiliente. Les mots-clés \\\"autonomie\\\", \\\"permaculture\\\", \\\"ferme autonome\\\" et la mention des \\\"Néo-Autonomistes\\\" dans la description indiquent clairement que la vidéo traite de l'autosuffisance et de modes de vie alternatifs.\"\n",
      "}\n",
      "```\n",
      "5nsdQucYdak /n ```json\n",
      "{\n",
      "  \"decision\": \"yes\",\n",
      "  \"justification\": \"La vidéo aborde l'autonomie en agriculture biologique, notamment à travers l'exemple d'une exploitation laitière. Elle mentionne également l'approvisionnement en semences bio, ce qui est un aspect important de l'autosuffisance alimentaire dans le contexte de l'agriculture biologique.\"\n",
      "}\n",
      "```\n",
      "sleep for 1 min\n"
     ]
    },
    {
     "name": "stderr",
     "output_type": "stream",
     "text": [
      "  1%|          | 53/4504 [04:56<17:03:02, 13.79s/it]"
     ]
    },
    {
     "name": "stdout",
     "output_type": "stream",
     "text": [
      "XDvc6vkvKJU /n ```json\n",
      "{\n",
      "  \"decision\": \"yes\",\n",
      "  \"justification\": \"La vidéo décrit une ferme autonome bio qui expérimente des techniques agricoles innovantes pour être résiliente et moins dépendante des intrants extérieurs. Les thèmes abordés, comme l'agriculture de conservation des sols, l'agroforesterie, et l'autonomie en semences et en alimentation pour le bétail, sont directement liés à la thématique de l'autosuffisance.\"\n",
      "}\n",
      "```\n"
     ]
    },
    {
     "name": "stderr",
     "output_type": "stream",
     "text": [
      "  1%|          | 54/4504 [04:57<12:15:19,  9.91s/it]"
     ]
    },
    {
     "name": "stdout",
     "output_type": "stream",
     "text": [
      "85i3qfuDK1g /n ```json\n",
      "{\n",
      "  \"decision\": \"yes\",\n",
      "  \"justification\": \"La vidéo décrit le témoignage d'un agriculteur bio qui a basé son système sur l'autonomie alimentaire, ce qui correspond à la définition de l'autosuffisance. Les tags tels que 'autonomie fourragère' et 'agriculture biologique' renforcent cette thématique.\"\n",
      "}\n",
      "```\n"
     ]
    },
    {
     "name": "stderr",
     "output_type": "stream",
     "text": [
      "  1%|          | 55/4504 [04:58<8:57:16,  7.25s/it] "
     ]
    },
    {
     "name": "stdout",
     "output_type": "stream",
     "text": [
      "jLlyOeOrIzA /n ```json\n",
      "{\n",
      "  \"decision\": \"yes\",\n",
      "  \"justification\": \"Le titre mentionne explicitement l'autosuffisance alimentaire et la description évoque la crise et les pénuries liées à l'épidémie de Covid-19, ainsi que la possibilité d'y remédier grâce à l'agriculture locale. Cela correspond à la thématique de l'autosuffisance.\"\n",
      "}\n",
      "```\n"
     ]
    },
    {
     "name": "stderr",
     "output_type": "stream",
     "text": [
      "  1%|          | 56/4504 [04:59<6:38:27,  5.37s/it]"
     ]
    },
    {
     "name": "stdout",
     "output_type": "stream",
     "text": [
      "sOTzAnxcohI /n ```json\n",
      "{\n",
      "  \"decision\": \"true\",\n",
      "  \"justification\": \"La description de la vidéo mentionne explicitement que la chaîne est dédiée à l'autosuffisance et détaille les réalisations pour la mise en autonomie d'une maison familiale. De plus, les tags incluent des termes comme 'autonomie', 'permaculture', 'résilience', et 'vivre à la campagne', qui sont tous liés à la thématique de l'autosuffisance.\"\n",
      "}\n",
      "```\n"
     ]
    },
    {
     "name": "stderr",
     "output_type": "stream",
     "text": [
      "  1%|▏         | 57/4504 [05:03<5:57:35,  4.82s/it]"
     ]
    },
    {
     "name": "stdout",
     "output_type": "stream",
     "text": [
      "NHLziogcmNA /n ```json\n",
      "{\n",
      "  \"decision\": \"true\",\n",
      "  \"justification\": \"La vidéo traite de la greffe d'arbres fruitiers, une technique essentielle pour l'autonomie alimentaire en permettant de multiplier et d'améliorer les variétés fruitières. Les mots-clés \\\"autonomie alimentaire\\\", \\\"verger\\\", \\\"greffe pommier\\\", \\\"comment greffer un pommier\\\", \\\"pépinière\\\", \\\"autonomie\\\", \\\"permaculture\\\" confirment que le sujet est bien lié à l'autosuffisance.\"\n",
      "}\n",
      "```\n"
     ]
    },
    {
     "name": "stderr",
     "output_type": "stream",
     "text": [
      "  1%|▏         | 58/4504 [05:04<4:40:02,  3.78s/it]"
     ]
    },
    {
     "name": "stdout",
     "output_type": "stream",
     "text": [
      "B9oMHIbBJaQ /n ```json\n",
      "{\n",
      "  \"decision\": \"yes\",\n",
      "  \"justification\": \"La vidéo traite du choix d'arbres fruitiers en pépinière dans le but d'assurer une autonomie alimentaire. Les tags incluent des termes tels que 'autonomie', 'arbre fruitier', 'potager', 'agroécologie', 'jardin', 'verger', 'fruitiers', 'jardinage', 'forêt comestible', 'ma ferme autonome', 'survivalisme', 'survivaliste', 'collapsologie', ce qui confirme que le sujet est pertinent pour la thématique de l'autosuffisance.\"\n",
      "}\n",
      "```\n"
     ]
    },
    {
     "name": "stderr",
     "output_type": "stream",
     "text": [
      "  1%|▏         | 59/4504 [05:05<3:42:28,  3.00s/it]"
     ]
    },
    {
     "name": "stdout",
     "output_type": "stream",
     "text": [
      "-cmVPa6vrHM /n ```json\n",
      "{\n",
      "  \"decision\": \"yes\",\n",
      "  \"justification\": \"La vidéo traite de l'autonomie alimentaire en présentant les meilleurs arbres fruitiers pour atteindre cet objectif. Les métadonnées (titre, description et tags) contiennent des mots-clés pertinents tels que \\\"autonomie alimentaire\\\", \\\"autonomie fruits\\\", \\\"arbres fruitiers pour l'autonomie\\\", \\\"verger autonomie\\\", \\\"jardin vivrier\\\", etc. De plus, la description mentionne un livre sur l'autonomie avec les principes de la permaculture, ce qui renforce la pertinence du contenu pour la thématique de l'autosuffisance.\"\n",
      "}\n",
      "```\n"
     ]
    },
    {
     "name": "stderr",
     "output_type": "stream",
     "text": [
      "  1%|▏         | 60/4504 [05:06<2:54:08,  2.35s/it]"
     ]
    },
    {
     "name": "stdout",
     "output_type": "stream",
     "text": [
      "nTi-xbAEjOw /n ```json\n",
      "{\n",
      "  \"decision\": \"yes\",\n",
      "  \"justification\": \"La vidéo décrit une plantation de 50 arbres fruitiers, ce qui contribue à l'autonomie alimentaire. La description mentionne également que la chaîne est dédiée à l'autosuffisance et à la permaculture.\"\n",
      "}\n",
      "```\n"
     ]
    },
    {
     "name": "stderr",
     "output_type": "stream",
     "text": [
      "  1%|▏         | 61/4504 [05:07<2:24:27,  1.95s/it]"
     ]
    },
    {
     "name": "stdout",
     "output_type": "stream",
     "text": [
      "-v1RyFcWmp8 /n ```json\n",
      "{\n",
      "  \"decision\": \"yes\",\n",
      "  \"justification\": \"La vidéo présente un jardin avec plus de 500 arbres fruitiers sur un terrain de 3000m², incluant une yourte et un potager. Les tags incluent 'autonomie', 'forêt comestible', 'jardinage', 'permaculture', et des noms de fruits et de plantes, ce qui indique un lien avec la production de nourriture et potentiellement l'autosuffisance.\"\n",
      "}\n",
      "```\n"
     ]
    },
    {
     "name": "stderr",
     "output_type": "stream",
     "text": [
      "  1%|▏         | 62/4504 [05:08<2:05:18,  1.69s/it]"
     ]
    },
    {
     "name": "stdout",
     "output_type": "stream",
     "text": [
      "krNa-Re4Hlw /n ```json\n",
      "{\n",
      "  \"decision\": \"yes\",\n",
      "  \"justification\": \"Le titre et la description de la vidéo mentionnent clairement l'autonomie alimentaire et l'autosuffisance, ainsi que la permaculture et le jardinage, qui sont des éléments clés de l'autosuffisance. Les tags confirment également cette thématique.\"\n",
      "}\n",
      "```\n"
     ]
    },
    {
     "name": "stderr",
     "output_type": "stream",
     "text": [
      "  1%|▏         | 63/4504 [05:09<1:44:21,  1.41s/it]"
     ]
    },
    {
     "name": "stdout",
     "output_type": "stream",
     "text": [
      "YakXcfaE9YA /n ```json\n",
      "{\n",
      "  \"decision\": \"yes\",\n",
      "  \"justification\": \"La description de la vidéo mentionne l'autonomie et la permaculture, ce qui correspond à la thématique de l'autosuffisance. De plus, les tags incluent le mot \\\"autonomie\\\".\"\n",
      "}\n",
      "```\n"
     ]
    },
    {
     "name": "stderr",
     "output_type": "stream",
     "text": [
      "  1%|▏         | 64/4504 [05:10<1:36:07,  1.30s/it]"
     ]
    },
    {
     "name": "stdout",
     "output_type": "stream",
     "text": [
      "VbhHpgDrPD0 /n ```json\n",
      "{\n",
      "  \"decision\": \"true\",\n",
      "  \"justification\": \"La description mentionne que la chaîne est dédiée à l'autosuffisance, et la vidéo aborde un aspect de la culture des arbres fruitiers, qui contribue à l'autonomie alimentaire. De plus, les tags incluent des termes comme 'autonomie', 'permaculture', et 'vivre à la campagne', qui sont liés à l'autosuffisance.\"\n",
      "}\n",
      "```\n",
      "SBmubDSyn3Q /n ```json\n",
      "{\n",
      "  \"decision\": \"true\",\n",
      "  \"justification\": \"La description de la chaîne mentionne explicitement qu'elle est dédiée à l'autosuffisance. De plus, les tags incluent des termes clés comme 'autonomie', 'permaculture', 'potager', 'verger', et 'vivre à la campagne', qui sont tous liés à la thématique de l'autosuffisance.\"\n",
      "}\n",
      "```\n",
      "sleep for 1 min\n"
     ]
    },
    {
     "name": "stderr",
     "output_type": "stream",
     "text": [
      "  1%|▏         | 66/4504 [06:12<16:58:38, 13.77s/it]"
     ]
    },
    {
     "name": "stdout",
     "output_type": "stream",
     "text": [
      "XvsQoaumzNg /n ```json\n",
      "{\n",
      "  \"decision\": \"yes\",\n",
      "  \"justification\": \"Le titre et la description mentionnent clairement l'autonomie alimentaire et l'autosuffisance. Les tags incluent des termes pertinents comme 'autonomie', 'permaculture', 'autonomie alimentaire', et des sujets liés à la production de nourriture (verger, potager). De plus, la description indique que la chaîne est dédiée à l'autosuffisance.\"\n",
      "}\n",
      "```\n"
     ]
    },
    {
     "name": "stderr",
     "output_type": "stream",
     "text": [
      "  1%|▏         | 67/4504 [06:13<12:14:27,  9.93s/it]"
     ]
    },
    {
     "name": "stdout",
     "output_type": "stream",
     "text": [
      "3qYQJQEU2Pk /n ```json\n",
      "{\n",
      "  \"decision\": \"yes\",\n",
      "  \"justification\": \"La vidéo décrit comment automatiser un poulailler pour le rendre plus autonome en termes d'ouverture de porte, d'approvisionnement en eau et en nourriture. L'autonomie est un aspect clé de l'autosuffisance, car elle réduit la dépendance aux systèmes externes.\"\n",
      "}\n",
      "```\n"
     ]
    },
    {
     "name": "stderr",
     "output_type": "stream",
     "text": [
      "  2%|▏         | 68/4504 [06:14<8:57:17,  7.27s/it] "
     ]
    },
    {
     "name": "stdout",
     "output_type": "stream",
     "text": [
      "LimuekuregU /n ```json\n",
      "{\n",
      "  \"decision\": \"yes\",\n",
      "  \"justification\": \"La vidéo traite d'un distributeur automatique fait maison en utilisant des matériaux de récupération, ce qui s'inscrit dans une démarche d'autonomie et d'autosuffisance. De plus, les tags incluent des termes clés comme \\\"permaculture\\\", \\\"autosuffisance\\\", \\\"autonomie\\\", \\\"écologie\\\", et leurs traductions dans d'autres langues, confirmant que le contenu est lié à la thématique.\"\n",
      "}\n",
      "```\n"
     ]
    },
    {
     "name": "stderr",
     "output_type": "stream",
     "text": [
      "  2%|▏         | 69/4504 [06:15<6:40:08,  5.41s/it]"
     ]
    },
    {
     "name": "stdout",
     "output_type": "stream",
     "text": [
      "f1Lj91M5U6E /n ```json\n",
      "{\n",
      "  \"decision\": \"true\",\n",
      "  \"justification\": \"La vidéo concerne l'élevage de poules et la fabrication d'une mangeoire anti-gaspillage. L'élevage de poules est une composante de l'autosuffisance, car il permet de produire ses propres œufs et parfois sa propre viande. La mangeoire anti-gaspillage s'inscrit dans une démarche d'optimisation des ressources, ce qui est également lié à l'autosuffisance.\"\n",
      "}\n",
      "```\n"
     ]
    },
    {
     "name": "stderr",
     "output_type": "stream",
     "text": [
      "  2%|▏         | 70/4504 [06:16<5:00:36,  4.07s/it]"
     ]
    },
    {
     "name": "stdout",
     "output_type": "stream",
     "text": [
      "3fVTRIFiCck /n ```json\n",
      "{\n",
      "  \"decision\": \"yes\",\n",
      "  \"justification\": \"La vidéo traite de la construction d'un poulailler autonome et de l'installation d'une porte automatique, ce qui contribue à l'autonomie en réduisant la dépendance à l'intervention humaine pour la sécurité et le bien-être des poules.\"\n",
      "}\n",
      "```\n"
     ]
    },
    {
     "name": "stderr",
     "output_type": "stream",
     "text": [
      "  2%|▏         | 71/4504 [06:17<3:53:13,  3.16s/it]"
     ]
    },
    {
     "name": "stdout",
     "output_type": "stream",
     "text": [
      "efy2uUZG7JQ /n ```json\n",
      "{\n",
      "  \"decision\": \"yes\",\n",
      "  \"justification\": \"La vidéo présente un poulailler autonome, ce qui contribue à l'autosuffisance en permettant de produire ses propres œufs et potentiellement de la viande de volaille de manière plus indépendante. Les éléments présentés (portier automatique, mangeoire anti-gaspillage, abreuvoir grande capacité) visent à réduire la dépendance à une intervention humaine constante, un aspect important de l'autosuffisance.\"\n",
      "}\n",
      "```\n"
     ]
    },
    {
     "name": "stderr",
     "output_type": "stream",
     "text": [
      "  2%|▏         | 72/4504 [06:18<3:09:31,  2.57s/it]"
     ]
    },
    {
     "name": "stdout",
     "output_type": "stream",
     "text": [
      "A6ULOgGvSmk /n ```json\n",
      "{\n",
      "  \"decision\": \"yes\",\n",
      "  \"justification\": \"La vidéo concerne la création d'une mangeoire anti-nuisible et anti-gaspillage pour un poulailler, ainsi que des conseils pour la santé des poules. L'élevage de poules est une composante de l'autosuffisance, car il permet de produire ses propres œufs et potentiellement sa propre viande. De plus, la construction d'un poulailler autonome et de mangeoires anti-gaspillage contribue à réduire la dépendance envers des systèmes extérieurs et à optimiser l'utilisation des ressources.\"\n",
      "}\n",
      "```\n"
     ]
    },
    {
     "name": "stderr",
     "output_type": "stream",
     "text": [
      "  2%|▏         | 73/4504 [06:19<2:30:38,  2.04s/it]"
     ]
    },
    {
     "name": "stdout",
     "output_type": "stream",
     "text": [
      "uPIyZCw-Odk /n ```json\n",
      "{\n",
      "  \"decision\": \"false\",\n",
      "  \"justification\": \"La vidéo décrit un distributeur automatique de nourriture et d'eau pour rongeurs. Cela ne correspond pas à la définition de l'autosuffisance, qui se concentre sur la production de sa propre nourriture et la réduction de la dépendance au système économique extérieur.\"\n",
      "}\n",
      "```\n"
     ]
    },
    {
     "name": "stderr",
     "output_type": "stream",
     "text": [
      "  2%|▏         | 74/4504 [06:20<2:10:33,  1.77s/it]"
     ]
    },
    {
     "name": "stdout",
     "output_type": "stream",
     "text": [
      "T6cFPxLRkTs /n ```json\n",
      "{\n",
      "  \"decision\": \"yes\",\n",
      "  \"justification\": \"La vidéo présente une ferme bio qui met l'accent sur la santé du sol pour répondre aux défis de l'agriculture moderne. Les tags incluent des termes liés à l'autonomie, à l'agroécologie et à la permaculture, qui sont des éléments clés de l'autosuffisance. De plus, la description mentionne une formation à la ferme en maraîchage bio/permaculture pour l'autonomie à l'échelle du jardin familial.\"\n",
      "}\n",
      "```\n"
     ]
    },
    {
     "name": "stderr",
     "output_type": "stream",
     "text": [
      "  2%|▏         | 75/4504 [06:21<1:52:00,  1.52s/it]"
     ]
    },
    {
     "name": "stdout",
     "output_type": "stream",
     "text": [
      "7bb-3Y96Ixw /n ```json\n",
      "{\n",
      "  \"decision\": \"yes\",\n",
      "  \"justification\": \"La vidéo traite de permaculture et de techniques pour obtenir un sol vivant au jardin potager, ce qui est directement lié à l'autosuffisance alimentaire et à la production de sa propre nourriture. Les tags incluent des termes pertinents comme 'permaculture', 'potager', 'légumes', 'bio', 'sol vivant', 'fertilité'.\"\n",
      "}\n",
      "```\n"
     ]
    },
    {
     "name": "stderr",
     "output_type": "stream",
     "text": [
      "  2%|▏         | 76/4504 [06:22<1:43:57,  1.41s/it]"
     ]
    },
    {
     "name": "stdout",
     "output_type": "stream",
     "text": [
      "ftyO41TYOI0 /n ```json\n",
      "{\n",
      "  \"decision\": \"yes\",\n",
      "  \"justification\": \"La vidéo présente un système agricole autonome où l'élevage et la culture céréalière se complètent pour améliorer la fertilité du sol et diversifier les revenus. Bien que le terme \\\"autosuffisance\\\" ne soit pas explicitement mentionné, l'accent mis sur un système autonome, fonctionnant sans intrants extérieurs, et sur la diversification des revenus, correspond à la démarche d'autosuffisance telle que définie.\"\n",
      "}\n",
      "```\n"
     ]
    },
    {
     "name": "stderr",
     "output_type": "stream",
     "text": [
      "  2%|▏         | 77/4504 [06:23<1:32:41,  1.26s/it]"
     ]
    },
    {
     "name": "stdout",
     "output_type": "stream",
     "text": [
      "_eQmH7eqT64 /n ```json\n",
      "{\n",
      "  \"decision\": \"yes\",\n",
      "  \"justification\": \"La vidéo concerne la thématique de l'autosuffisance car elle parle de maraîchage sur sol vivant, de formation en permaculture et de potager. L'autonomie et la souveraineté alimentaire sont mentionnées dans les tags.\"\n",
      "}\n",
      "```\n",
      "Zyv99CUSe0M /n ```json\n",
      "{\n",
      "  \"decision\": \"Oui\",\n",
      "  \"justification\": \"La vidéo traite de l'agriculture sur sols vivants et de l'auto-fertilité, ce qui est lié à l'autosuffisance alimentaire, car cela permet de produire sa propre nourriture de manière durable. La description et les tags mentionnent des techniques comme les ferments lactiques et les thés de compost, qui contribuent à enrichir le sol et à favoriser l'autonomie de la ferme.\"\n",
      "}\n",
      "```\n",
      "sleep for 1 min\n"
     ]
    },
    {
     "name": "stderr",
     "output_type": "stream",
     "text": [
      "  2%|▏         | 79/4504 [07:25<17:01:35, 13.85s/it]"
     ]
    },
    {
     "name": "stdout",
     "output_type": "stream",
     "text": [
      "MrpGaGb-iFY /n ```json\n",
      "{\n",
      "  \"decision\": \"yes\",\n",
      "  \"justification\": \"La vidéo aborde des thématiques liées à l'agriculture durable et à l'autonomie, notamment à travers le maraîchage sur sol vivant. La description mentionne des formations en maraîchage bio/permaculture qui visent à accompagner les projets d'autonomie, même à l'échelle du jardin familial. De plus, le tag \\\"autonomie\\\" est présent.\"\n",
      "}\n",
      "```\n"
     ]
    },
    {
     "name": "stderr",
     "output_type": "stream",
     "text": [
      "  2%|▏         | 80/4504 [07:27<12:19:09, 10.02s/it]"
     ]
    },
    {
     "name": "stdout",
     "output_type": "stream",
     "text": [
      "IJ5YTqI3fqY /n ```json\n",
      "{\n",
      "  \"decision\": \"oui\",\n",
      "  \"justification\": \"Le titre et la description de la vidéo mentionnent l'autosuffisance du sol grâce à l'utilisation du Bois Raméal Fragmenté (BRF), une technique qui améliore la qualité des sols et réduit la dépendance à l'irrigation. Cela correspond à la définition de l'autosuffisance, qui vise à réduire la dépendance au système extérieur en trouvant des moyens de subvenir à ses besoins de manière autonome.\"\n",
      "}\n",
      "```\n"
     ]
    },
    {
     "name": "stderr",
     "output_type": "stream",
     "text": [
      "  2%|▏         | 81/4504 [07:28<8:59:35,  7.32s/it] "
     ]
    },
    {
     "name": "stdout",
     "output_type": "stream",
     "text": [
      "N8dPyKqeQvQ /n ```json\n",
      "{\n",
      "  \"decision\": \"yes\",\n",
      "  \"justification\": \"La vidéo traite de l'autosuffisance en montrant comment transformer les déchets en compost, même en appartement, grâce au lombricompostage. Elle aborde également des thématiques connexes comme la réduction de l'empreinte carbone, l'investissement vert et l'écologie urbaine, ce qui correspond à la définition de l'autosuffisance comme un engagement pour être moins dépendant du système économique et social extérieur.\"\n",
      "}\n",
      "```\n"
     ]
    },
    {
     "name": "stderr",
     "output_type": "stream",
     "text": [
      "  2%|▏         | 82/4504 [07:29<6:41:43,  5.45s/it]"
     ]
    },
    {
     "name": "stdout",
     "output_type": "stream",
     "text": [
      "eH8bnmclXGo /n ```json\n",
      "{\n",
      "  \"decision\": \"true\",\n",
      "  \"justification\": \"Le titre et la description de la vidéo mettent en avant l'autonomie grâce au compostage, en utilisant les ressources du jardin. Les tags confirment également que la vidéo traite de l'autonomie, du compostage et de techniques de jardinage naturel (permaculture, agroécologie), ce qui correspond à la thématique de l'autosuffisance.\"\n",
      "}\n",
      "```\n"
     ]
    },
    {
     "name": "stderr",
     "output_type": "stream",
     "text": [
      "  2%|▏         | 83/4504 [07:30<5:03:13,  4.12s/it]"
     ]
    },
    {
     "name": "stdout",
     "output_type": "stream",
     "text": [
      "ERTG4JexXLw /n ```json\n",
      "{\n",
      "  \"decision\": \"true\",\n",
      "  \"justification\": \"La vidéo traite du compostage et de son utilisation au potager, en mettant en avant la récupération et le zéro déchet. Le compostage est une pratique essentielle pour l'autonomie au potager et la fertilité du sol, contribuant ainsi à l'autosuffisance alimentaire.\"\n",
      "}\n",
      "```\n"
     ]
    },
    {
     "name": "stderr",
     "output_type": "stream",
     "text": [
      "  2%|▏         | 84/4504 [07:31<3:59:54,  3.26s/it]"
     ]
    },
    {
     "name": "stdout",
     "output_type": "stream",
     "text": [
      "i4cpZ76nnf8 /n ```json\n",
      "{\n",
      "  \"decision\": \"yes\",\n",
      "  \"justification\": \"La description mentionne un \\\"projet d'autonomie et de Permaculture\\\" et le partage d'une méthode de jardinage visant à cultiver sans travailler le sol, ce qui s'inscrit dans une démarche d'autosuffisance alimentaire et de réduction de la dépendance au système agricole conventionnel. Bien que le titre se concentre sur les \\\"Cultures sur compost\\\", le contexte général et la description indiquent un lien fort avec la thématique de l'autosuffisance.\"\n",
      "}\n",
      "```\n"
     ]
    },
    {
     "name": "stderr",
     "output_type": "stream",
     "text": [
      "  2%|▏         | 85/4504 [07:32<3:07:44,  2.55s/it]"
     ]
    },
    {
     "name": "stdout",
     "output_type": "stream",
     "text": [
      "9Wi53NrNL04 /n ```json\n",
      "{\n",
      "  \"decision\": \"yes\",\n",
      "  \"justification\": \"La description de la vidéo mentionne l'autosuffisance alimentaire, énergétique et financière. De plus, elle aborde des sujets liés au potager bio, au compost et à l'utilisation de plantes compagnes, ce qui correspond à des pratiques courantes dans une démarche d'autosuffisance.\"\n",
      "}\n",
      "```\n"
     ]
    },
    {
     "name": "stderr",
     "output_type": "stream",
     "text": [
      "  2%|▏         | 86/4504 [07:33<2:41:39,  2.20s/it]"
     ]
    },
    {
     "name": "stdout",
     "output_type": "stream",
     "text": [
      "KynhuzSEtqU /n ```json\n",
      "{\n",
      "  \"decision\": \"yes\",\n",
      "  \"justification\": \"La vidéo aborde le compostage, une pratique essentielle pour l'autonomie au jardin. Elle explique comment utiliser les déchets organiques pour nourrir le sol et créer du terreau, contribuant ainsi à réduire la dépendance aux engrais externes et à favoriser l'autosuffisance alimentaire. De plus, les tags incluent des termes pertinents comme \\\"Jardin\\\", \\\"potager\\\", \\\"Faire un compost\\\", \\\"Terre vivante\\\" et \\\"4 saisons\\\", ce qui renforce le lien avec la thématique de l'autosuffisance.\"\n",
      "}\n",
      "```\n"
     ]
    },
    {
     "name": "stderr",
     "output_type": "stream",
     "text": [
      "  2%|▏         | 87/4504 [07:34<2:15:50,  1.85s/it]"
     ]
    },
    {
     "name": "stdout",
     "output_type": "stream",
     "text": [
      "IetnX1zHuWE /n ```json\n",
      "{\n",
      "  \"decision\": \"yes\",\n",
      "  \"justification\": \"La vidéo traite de la fertilité et de la biodiversité du sol dans le contexte de La Ferme de Cagnolle, qui propose également des formations en maraîchage bio/permaculture. De plus, les tags incluent des termes tels que 'autonomie', 'sol vivant', 'maraichage', 'permaculture', 'agroecologie', qui sont directement liés à la thématique de l'autosuffisance, notamment l'autonomie alimentaire.\"\n",
      "}\n",
      "```\n"
     ]
    },
    {
     "name": "stderr",
     "output_type": "stream",
     "text": [
      "  2%|▏         | 88/4504 [07:35<1:57:12,  1.59s/it]"
     ]
    },
    {
     "name": "stdout",
     "output_type": "stream",
     "text": [
      "wpjiT-hCfR4 /n ```json\n",
      "{\n",
      "  \"decision\": \"true\",\n",
      "  \"justification\": \"Bien que la vidéo ne parle pas directement d'autosuffisance, elle aborde une technique essentielle pour améliorer la qualité du sol (BRF), ce qui est un prérequis important pour la culture de nourriture et donc pour atteindre une certaine autonomie alimentaire. L'amélioration du sol est un pilier de l'autosuffisance.\"\n",
      "}\n",
      "```\n"
     ]
    },
    {
     "name": "stderr",
     "output_type": "stream",
     "text": [
      "  2%|▏         | 89/4504 [07:36<1:47:51,  1.47s/it]"
     ]
    },
    {
     "name": "stdout",
     "output_type": "stream",
     "text": [
      "mGlfXPQJL9Y /n ```json\n",
      "{\n",
      "  \"decision\": \"yes\",\n",
      "  \"justification\": \"La vidéo traite de la fertilisation du sol pour le potager, en utilisant un produit naturel qui améliore la rétention d'eau et favorise l'échange de nutriments. Bien que le terme \\\"autosuffisance\\\" ne soit pas directement mentionné, l'amélioration de la fertilité du sol est une étape importante pour une production potagère plus autonome et durable, s'inscrivant dans une démarche d'autonomie alimentaire.\"\n",
      "}\n",
      "```\n"
     ]
    },
    {
     "name": "stderr",
     "output_type": "stream",
     "text": [
      "  2%|▏         | 90/4504 [07:37<1:35:07,  1.29s/it]"
     ]
    },
    {
     "name": "stdout",
     "output_type": "stream",
     "text": [
      "OmshTBwMZt0 /n ```json\n",
      "{\n",
      "  \"decision\": \"true\",\n",
      "  \"justification\": \"La vidéo concerne le compostage domestique, une pratique essentielle pour l'autosuffisance alimentaire et la réduction de la dépendance au système économique extérieur. Le compostage permet de recycler les déchets organiques et de créer un amendement riche pour le sol, favorisant ainsi la production de nourriture locale et biologique.\"\n",
      "}\n",
      "```\n",
      "bM4ii9-EP1k /n ```json\n",
      "{\n",
      "  \"decision\": \"false\",\n",
      "  \"justification\": \"La vidéo porte sur la fertilisation des sols en maraîchage biologique. Bien que la fertilisation soit un aspect important de la production alimentaire, la vidéo ne traite pas directement de l'autosuffisance, qui implique une démarche plus large visant à subvenir à ses propres besoins alimentaires de manière autonome en produisant sa propre nourriture.\"\n",
      "}\n",
      "```\n",
      "sleep for 1 min\n"
     ]
    },
    {
     "name": "stderr",
     "output_type": "stream",
     "text": [
      "  2%|▏         | 92/4504 [08:40<16:56:57, 13.83s/it]"
     ]
    },
    {
     "name": "stdout",
     "output_type": "stream",
     "text": [
      "RjAFHTTGH60 /n ```json\n",
      "{\n",
      "  \"decision\": \"yes\",\n",
      "  \"justification\": \"La vidéo traite de permaculture et de l'utilisation des turricules de vers de terre comme engrais naturel, ce qui est directement lié à l'autosuffisance alimentaire et à la réduction de la dépendance aux intrants extérieurs pour le potager. Les tags incluent des termes comme 'permaculture', 'engrais naturel', 'sol vivant', et 'autonomie', confirmant la pertinence de la vidéo pour la thématique de l'autosuffisance.\"\n",
      "}\n",
      "```\n"
     ]
    },
    {
     "name": "stderr",
     "output_type": "stream",
     "text": [
      "  2%|▏         | 93/4504 [08:40<12:11:54,  9.96s/it]"
     ]
    },
    {
     "name": "stdout",
     "output_type": "stream",
     "text": [
      "RBkzm2lSqKE /n ```json\n",
      "{\n",
      "  \"decision\": \"true\",\n",
      "  \"justification\": \"La vidéo traite de l'utilisation de l'eau de bananes comme fertilisant, ce qui est directement lié à l'autonomie au jardin et à la permaculture, des éléments centraux de l'autosuffisance. De plus, la description et les tags mentionnent explicitement \\\"autonomie\\\" et \\\"permaculture\\\".\"\n",
      "}\n",
      "```\n"
     ]
    },
    {
     "name": "stderr",
     "output_type": "stream",
     "text": [
      "  2%|▏         | 94/4504 [08:42<9:01:53,  7.37s/it] "
     ]
    },
    {
     "name": "stdout",
     "output_type": "stream",
     "text": [
      "v7VSeqTj1S8 /n ```json\n",
      "{\n",
      "  \"decision\": \"true\",\n",
      "  \"justification\": \"La vidéo décrit une ferme qui met en oeuvre des techniques d'autosuffisance alimentaire et énergétique. Les mots-clés \\\"autonomie\\\", \\\"autosuffisance\\\", \\\"autonomie alimentaire\\\", \\\"ferme autonome\\\" confirment que le sujet principal de la vidéo est bien l'autosuffisance.\"\n",
      "}\n",
      "```\n"
     ]
    },
    {
     "name": "stderr",
     "output_type": "stream",
     "text": [
      "  2%|▏         | 95/4504 [08:43<6:41:42,  5.47s/it]"
     ]
    },
    {
     "name": "stdout",
     "output_type": "stream",
     "text": [
      "LXoDDQ_GpiA /n ```json\n",
      "{\n",
      "  \"decision\": \"yes\",\n",
      "  \"justification\": \"La vidéo traite de l'autosuffisance en Algérie, notamment dans les domaines du blé, du lait, du sucre et des engrais. Le titre et la description mettent en avant la volonté du pays de devenir autosuffisant et de réduire ses importations, ce qui correspond à la thématique de l'autosuffisance.\"\n",
      "}\n",
      "```\n"
     ]
    },
    {
     "name": "stderr",
     "output_type": "stream",
     "text": [
      "  2%|▏         | 96/4504 [08:44<4:59:57,  4.08s/it]"
     ]
    },
    {
     "name": "stdout",
     "output_type": "stream",
     "text": [
      "AEhDDHES19g /n ```json\n",
      "{\n",
      "  \"decision\": \"true\",\n",
      "  \"justification\": \"La vidéo explique comment utiliser l'urine au potager, ce qui est lié à la production de nourriture et donc à l'autosuffisance alimentaire.\"\n",
      "}\n",
      "```\n"
     ]
    },
    {
     "name": "stderr",
     "output_type": "stream",
     "text": [
      "  2%|▏         | 97/4504 [08:45<3:56:18,  3.22s/it]"
     ]
    },
    {
     "name": "stdout",
     "output_type": "stream",
     "text": [
      "2Yau2HrKDM4 /n ```json\n",
      "{\n",
      "  \"decision\": \"Non\",\n",
      "  \"justification\": \"Bien que la vidéo aborde des aspects liés à la santé des sols et à la nutrition des plantes, elle ne traite pas directement de l'autosuffisance alimentaire ou de la réduction de la dépendance au système économique et social extérieur. Elle se concentre davantage sur l'optimisation des pratiques agricoles conventionnelles, même si elle souligne l'importance de la vie du sol.\"\n",
      "}\n",
      "```\n"
     ]
    },
    {
     "name": "stderr",
     "output_type": "stream",
     "text": [
      "  2%|▏         | 98/4504 [08:46<3:08:14,  2.56s/it]"
     ]
    },
    {
     "name": "stdout",
     "output_type": "stream",
     "text": [
      "kUIPnI6fBCU /n ```json\n",
      "{\n",
      "  \"decision\": \"false\",\n",
      "  \"justification\": \"Bien que la vidéo mentionne l'agriculture et les engrais organiques, elle ne traite pas directement de l'autosuffisance alimentaire ou de la réduction de la dépendance au système économique et social extérieur. L'accent est mis sur la production locale d'engrais, ce qui est un aspect connexe, mais ne correspond pas à la définition principale de l'autosuffisance.\"\n",
      "}\n",
      "```\n"
     ]
    },
    {
     "name": "stderr",
     "output_type": "stream",
     "text": [
      "  2%|▏         | 99/4504 [08:47<2:36:52,  2.14s/it]"
     ]
    },
    {
     "name": "stdout",
     "output_type": "stream",
     "text": [
      "qftPJ3vP26Y /n ```json\n",
      "{\n",
      "  \"decision\": \"false\",\n",
      "  \"justification\": \"La vidéo traite de la rotation des cultures en permaculture, une technique agricole qui vise à améliorer la santé du sol et à optimiser les rendements. Bien que la permaculture soit souvent associée à l'autosuffisance, la vidéo se concentre principalement sur les aspects techniques de la rotation des cultures et n'aborde pas directement les thèmes de l'autonomie alimentaire, de la réduction de la dépendance au système économique ou des choix de vie liés à l'autosuffisance.\"\n",
      "}\n",
      "```\n"
     ]
    },
    {
     "name": "stderr",
     "output_type": "stream",
     "text": [
      "  2%|▏         | 100/4504 [08:48<2:16:00,  1.85s/it]"
     ]
    },
    {
     "name": "stdout",
     "output_type": "stream",
     "text": [
      "6AuAhotFf6A /n ```json\n",
      "{\n",
      "  \"decision\": \"false\",\n",
      "  \"justification\": \"La vidéo traite de la rotation des cultures après la fin de vie des tomates et concombres. Bien que cela puisse contribuer à une production alimentaire durable, l'accent n'est pas mis sur l'autosuffisance au sens large, ni sur la réduction de la dépendance au système économique extérieur. Les tags indiquent plutôt une focalisation sur les problèmes de parasites et les techniques de nettoyage des parcelles, et non sur les aspects plus larges de l'autonomie alimentaire.\"\n",
      "}\n",
      "```\n"
     ]
    },
    {
     "name": "stderr",
     "output_type": "stream",
     "text": [
      "  2%|▏         | 101/4504 [08:49<1:58:29,  1.61s/it]"
     ]
    },
    {
     "name": "stdout",
     "output_type": "stream",
     "text": [
      "TfwKOE_bv4g /n ```json\n",
      "{\n",
      "  \"decision\": \"false\",\n",
      "  \"justification\": \"La vidéo traite du désherbage des céréales en grandes cultures, en se concentrant sur les techniques de rotation et d'assolement. Bien que cela puisse contribuer à une agriculture plus durable, elle ne se concentre pas sur l'autosuffisance alimentaire ou la réduction de la dépendance au système économique extérieur, qui sont des éléments centraux de la définition de l'autosuffisance.\"\n",
      "}\n",
      "```\n"
     ]
    },
    {
     "name": "stderr",
     "output_type": "stream",
     "text": [
      "  2%|▏         | 102/4504 [08:50<1:47:34,  1.47s/it]"
     ]
    },
    {
     "name": "stdout",
     "output_type": "stream",
     "text": [
      "X_StBE-tyXw /n ```json\n",
      "{\n",
      "  \"decision\": \"yes\",\n",
      "  \"justification\": \"La vidéo aborde des techniques d'optimisation des cultures au potager, en mettant l'accent sur l'enchaînement des cultures pour maximiser la production sur une même surface. Les thèmes abordés comme l'optimisation des cultures, et les cultures intercalaires sont liés à l'autonomie alimentaire et donc à l'autosuffisance.\"\n",
      "}\n",
      "```\n"
     ]
    },
    {
     "name": "stderr",
     "output_type": "stream",
     "text": [
      "  2%|▏         | 103/4504 [08:52<1:42:14,  1.39s/it]"
     ]
    },
    {
     "name": "stdout",
     "output_type": "stream",
     "text": [
      "hAgGD_YiFlA /n ```json\n",
      "{\n",
      "  \"decision\": \"false\",\n",
      "  \"justification\": \"La vidéo aborde la rotation des cultures en agriculture, ce qui est une pratique agricole bénéfique pour la santé des sols et la réduction des nuisibles. Bien que cela puisse contribuer à une production alimentaire plus durable, la vidéo ne se concentre pas directement sur l'autosuffisance alimentaire ou la réduction de la dépendance au système économique extérieur. L'accent est mis sur les avantages agronomiques de la rotation des cultures dans un contexte agricole plus large.\"\n",
      "}\n",
      "```\n",
      "HhQ7KohYp18 /n ```json\n",
      "{\n",
      "  \"decision\": \"true\",\n",
      "  \"justification\": \"Bien que le titre ne contienne pas explicitement le mot \\\"autosuffisance\\\", la description et les tags de la vidéo font référence à des pratiques de permaculture et d'agroécologie pour un potager productif et en bonne santé. Ces pratiques sont souvent liées à l'objectif d'autonomie alimentaire et de réduction de la dépendance aux systèmes extérieurs, ce qui correspond à la définition de l'autosuffisance.\"\n",
      "}\n",
      "```\n",
      "sleep for 1 min\n"
     ]
    },
    {
     "name": "stderr",
     "output_type": "stream",
     "text": [
      "  2%|▏         | 105/4504 [09:54<16:54:24, 13.84s/it]"
     ]
    },
    {
     "name": "stdout",
     "output_type": "stream",
     "text": [
      "_j582iDvMGQ /n ```json\n",
      "{\n",
      "  \"decision\": \"yes\",\n",
      "  \"justification\": \"La vidéo aborde la rotation des cultures au potager, une pratique qui contribue à l'autonomie alimentaire et à l'autosuffisance en améliorant la fertilité du sol et en limitant les problèmes de maladies et de ravageurs. Les tags incluent explicitement 'autonomie alimentaire' et 'autosuffisance'.\"\n",
      "}\n",
      "```\n"
     ]
    },
    {
     "name": "stderr",
     "output_type": "stream",
     "text": [
      "  2%|▏         | 106/4504 [09:55<12:10:19,  9.96s/it]"
     ]
    },
    {
     "name": "stdout",
     "output_type": "stream",
     "text": [
      "wEaZTXMsbK0 /n ```json\n",
      "{\n",
      "  \"decision\": \"true\",\n",
      "  \"justification\": \"La vidéo traite de la culture potagère en vue d'une autonomie alimentaire, en expliquant comment récolter toute l'année grâce à la rotation des cultures et des semis. Les tags incluent également \\\"autonomie\\\" et \\\"permaculture\\\", confirmant le lien avec l'autosuffisance.\"\n",
      "}\n",
      "```\n"
     ]
    },
    {
     "name": "stderr",
     "output_type": "stream",
     "text": [
      "  2%|▏         | 107/4504 [09:56<8:55:05,  7.30s/it] "
     ]
    },
    {
     "name": "stdout",
     "output_type": "stream",
     "text": [
      "ex2KDWtFW_Q /n ```json\n",
      "{\n",
      "  \"decision\": \"false\",\n",
      "  \"justification\": \"La vidéo aborde la rotation des cultures au potager, une technique importante pour la santé du sol et des plantes, mais ne se concentre pas directement sur l'autosuffisance. Bien que la rotation des cultures puisse contribuer à une production potagère plus durable et abondante, l'objectif principal de la vidéo ne semble pas être l'autonomie alimentaire ou la réduction de la dépendance au système économique extérieur.\"\n",
      "}\n",
      "```\n"
     ]
    },
    {
     "name": "stderr",
     "output_type": "stream",
     "text": [
      "  2%|▏         | 108/4504 [09:57<6:37:31,  5.43s/it]"
     ]
    },
    {
     "name": "stdout",
     "output_type": "stream",
     "text": [
      "F2Htc-RF4R0 /n ```json\n",
      "{\n",
      "  \"decision\": \"true\",\n",
      "  \"justification\": \"Bien que le titre soit général sur la rotation des cultures, la description mentionne la permaculture et l'autonomie, des éléments clés liés à l'autosuffisance. La permaculture est une approche de conception de systèmes agricoles et humains durables et autosuffisants. Par conséquent, cette vidéo peut potentiellement aborder des aspects de l'autosuffisance.\"\n",
      "}\n",
      "```\n"
     ]
    },
    {
     "name": "stderr",
     "output_type": "stream",
     "text": [
      "  2%|▏         | 109/4504 [09:58<4:57:18,  4.06s/it]"
     ]
    },
    {
     "name": "stdout",
     "output_type": "stream",
     "text": [
      "ZFfc0R9IiZU /n ```json\n",
      "{\n",
      "  \"decision\": \"yes\",\n",
      "  \"justification\": \"Le titre et la description de la vidéo mentionnent explicitement l'autosuffisance dans les cultures stratégiques en Égypte. Bien que le contexte soit plus axé sur l'économie et la politique agricole d'un pays, le thème central de l'autosuffisance est clairement présent.\"\n",
      "}\n",
      "```\n"
     ]
    },
    {
     "name": "stderr",
     "output_type": "stream",
     "text": [
      "  2%|▏         | 110/4504 [09:59<3:50:44,  3.15s/it]"
     ]
    },
    {
     "name": "stdout",
     "output_type": "stream",
     "text": [
      "YFQCiz6-xx4 /n ```json\n",
      "{\n",
      "  \"decision\": \"true\",\n",
      "  \"justification\": \"La vidéo décrit l'agrandissement d'un potager dans le but de tendre vers l'autonomie alimentaire, avec des semis de radis, salades, persil, navet, roquette. Les tags incluent 'autonomie alimentaire', 'devenir autonome', et 'produire sa nourriture', ce qui correspond à la thématique de l'autosuffisance.\"\n",
      "}\n",
      "```\n"
     ]
    },
    {
     "name": "stderr",
     "output_type": "stream",
     "text": [
      "  2%|▏         | 111/4504 [10:00<3:02:49,  2.50s/it]"
     ]
    },
    {
     "name": "stdout",
     "output_type": "stream",
     "text": [
      "amnDBxwuRRg /n ```json\n",
      "{\n",
      "  \"decision\": \"true\",\n",
      "  \"justification\": \"La vidéo traite de l'autonomie alimentaire en expliquant comment cultiver de la mâche (doucette), une salade sauvage, pour une production alimentaire facile et durable. Les tags incluent des termes pertinents comme 'autonomie alimentaire', 'plantes sauvages comestibles', et 'foret comestible', confirmant le thème de l'autosuffisance.\"\n",
      "}\n",
      "```\n"
     ]
    },
    {
     "name": "stderr",
     "output_type": "stream",
     "text": [
      "  2%|▏         | 112/4504 [10:01<2:24:24,  1.97s/it]"
     ]
    },
    {
     "name": "stdout",
     "output_type": "stream",
     "text": [
      "JZNhEr9takk /n ```json\n",
      "{\n",
      "  \"decision\": \"yes\",\n",
      "  \"justification\": \"Le titre de la vidéo mentionne l'autonomie alimentaire, et le tag inclut 'Permaculture Autonomie jardinage', ce qui correspond à la thématique de l'autosuffisance.\"\n",
      "}\n",
      "```\n"
     ]
    },
    {
     "name": "stderr",
     "output_type": "stream",
     "text": [
      "  3%|▎         | 113/4504 [10:02<2:06:32,  1.73s/it]"
     ]
    },
    {
     "name": "stdout",
     "output_type": "stream",
     "text": [
      "b3NDEBu6OJQ /n ```json\n",
      "{\n",
      "  \"decision\": \"true\",\n",
      "  \"justification\": \"La vidéo parle d'autonomie alimentaire en présentant l'avancement de cultures de salades, choux, brocolis, romanesco et radis en serre, avec des salades prêtes à consommer cultivées tout l'hiver. Ces éléments indiquent une démarche visant à produire sa propre nourriture et donc à l'autosuffisance alimentaire.\"\n",
      "}\n",
      "```\n"
     ]
    },
    {
     "name": "stderr",
     "output_type": "stream",
     "text": [
      "  3%|▎         | 114/4504 [10:03<1:51:18,  1.52s/it]"
     ]
    },
    {
     "name": "stdout",
     "output_type": "stream",
     "text": [
      "oMXFZgiM9F4 /n ```json\n",
      "{\n",
      "  \"decision\": \"yes\",\n",
      "  \"justification\": \"La vidéo décrit une plante sauvage comestible, le mouron des oiseaux, et propose une recette de salade. Cela s'inscrit dans la thématique de l'autosuffisance alimentaire, car elle montre comment utiliser des ressources naturelles disponibles pour se nourrir.\"\n",
      "}\n",
      "```\n"
     ]
    },
    {
     "name": "stderr",
     "output_type": "stream",
     "text": [
      "  3%|▎         | 115/4504 [10:04<1:36:11,  1.32s/it]"
     ]
    },
    {
     "name": "stdout",
     "output_type": "stream",
     "text": [
      "ZHl25-3t_Jc /n ```json\n",
      "{\n",
      "  \"decision\": \"yes\",\n",
      "  \"justification\": \"La vidéo traite de la production de salades sur une petite surface en utilisant des techniques de permaculture, ce qui est directement lié à l'autosuffisance alimentaire et à l'optimisation de l'espace pour la culture de nourriture.\"\n",
      "}\n",
      "```\n"
     ]
    },
    {
     "name": "stderr",
     "output_type": "stream",
     "text": [
      "  3%|▎         | 116/4504 [10:05<1:27:03,  1.19s/it]"
     ]
    },
    {
     "name": "stdout",
     "output_type": "stream",
     "text": [
      "yTQYw5Omdso /n ```json\n",
      "{\n",
      "  \"decision\": \"yes\",\n",
      "  \"justification\": \"Le titre et la description de la vidéo indiquent clairement qu'elle traite de l'autonomie alimentaire, en particulier de la culture de salades en hiver sans serre. Le lien vers un article sur la permaculture familiale renforce cette thématique.\"\n",
      "}\n",
      "```\n",
      "-5UIyQPhSvM /n ```json\n",
      "{\n",
      "  \"decision\": \"yes\",\n",
      "  \"justification\": \"La vidéo traite de l'autonomie alimentaire, un aspect clé de l'autosuffisance, en montrant un repas composé de produits du potager et en documentant la recherche d'autonomie alimentaire en permaculture.\"\n",
      "}\n",
      "```\n",
      "sleep for 1 min\n"
     ]
    },
    {
     "name": "stderr",
     "output_type": "stream",
     "text": [
      "  3%|▎         | 118/4504 [11:06<16:38:58, 13.67s/it]"
     ]
    },
    {
     "name": "stdout",
     "output_type": "stream",
     "text": [
      "M57HHnx3iAg /n ```json\n",
      "{\n",
      "  \"decision\": \"true\",\n",
      "  \"justification\": \"La vidéo traite de la culture du kiwi pour l'autonomie alimentaire, mentionne l'autosuffisance et la permaculture, et propose des conseils pour la multiplication et la récolte du kiwi. Les tags incluent également des termes clés tels que 'autosuffisance', 'autosuffisance alimentaire', 'permaculture', et 'résilience'.\"\n",
      "}\n",
      "```\n"
     ]
    },
    {
     "name": "stderr",
     "output_type": "stream",
     "text": [
      "  3%|▎         | 119/4504 [11:08<12:04:37,  9.92s/it]"
     ]
    },
    {
     "name": "stdout",
     "output_type": "stream",
     "text": [
      "4voCJjxOoAE /n ```json\n",
      "{\n",
      "  \"decision\": \"true\",\n",
      "  \"justification\": \"La description de la chaîne \\\"La clé des champs\\\" indique clairement qu'elle est dédiée à l'autosuffisance et à la mise en autonomie d'une maison familiale avec un jardin en permaculture. De plus, les tags incluent des termes comme 'autonomie', 'permaculture', 'résilience', et 'vivre à la campagne', ce qui confirme que la vidéo s'inscrit dans la thématique de l'autosuffisance.\"\n",
      "}\n",
      "```\n"
     ]
    },
    {
     "name": "stderr",
     "output_type": "stream",
     "text": [
      "  3%|▎         | 120/4504 [11:09<8:50:47,  7.26s/it] "
     ]
    },
    {
     "name": "stdout",
     "output_type": "stream",
     "text": [
      "HheJdCzUBkQ /n ```json\n",
      "{\n",
      "  \"decision\": \"yes\",\n",
      "  \"justification\": \"Le titre et la description de la vidéo mentionnent explicitement l'autosuffisance, la résilience et la permaculture. De plus, les tags incluent des termes clés tels que 'autonomie', 'permaculture', 'résilience', 'autosuffisance', 'potager', ce qui indique clairement que la vidéo traite de ce sujet.\"\n",
      "}\n",
      "```\n"
     ]
    },
    {
     "name": "stderr",
     "output_type": "stream",
     "text": [
      "  3%|▎         | 121/4504 [11:09<6:30:29,  5.35s/it]"
     ]
    },
    {
     "name": "stdout",
     "output_type": "stream",
     "text": [
      "Vz4yibOxdug /n ```json\n",
      "{\n",
      "  \"decision\": \"yes\",\n",
      "  \"justification\": \"La vidéo présente une culture potagère (petits pois) et les tags incluent les mots clés \\\"permaculture\\\", \\\"autonomie\\\" et \\\"autosuffisance\\\", ce qui correspond à la thématique de l'autosuffisance.\"\n",
      "}\n",
      "```\n"
     ]
    },
    {
     "name": "stderr",
     "output_type": "stream",
     "text": [
      "  3%|▎         | 122/4504 [11:11<4:56:31,  4.06s/it]"
     ]
    },
    {
     "name": "stdout",
     "output_type": "stream",
     "text": [
      "eEWiyt4JZmw /n ```json\n",
      "{\n",
      "  \"decision\": \"true\",\n",
      "  \"justification\": \"La vidéo aborde la culture de céréales et de légumineuses, qui sont des éléments importants pour l'autosuffisance alimentaire. De plus, elle est liée à la permaculture et à l'agroécologie, qui sont des approches souvent utilisées dans une démarche d'autosuffisance.\"\n",
      "}\n",
      "```\n"
     ]
    },
    {
     "name": "stderr",
     "output_type": "stream",
     "text": [
      "  3%|▎         | 123/4504 [11:12<3:51:18,  3.17s/it]"
     ]
    },
    {
     "name": "stdout",
     "output_type": "stream",
     "text": [
      "w-ZzRpXvgqI /n ```json\n",
      "{\n",
      "  \"decision\": \"yes\",\n",
      "  \"justification\": \"La vidéo traite de la culture de légumes vivaces, qui est une méthode pour produire de la nourriture de manière autonome et durable. La description et les tags incluent des termes liés à la permaculture, au potager, à l'agroécologie et à la culture de légumes, ce qui indique que la vidéo est pertinente pour le thème de l'autosuffisance alimentaire.\"\n",
      "}\n",
      "```\n"
     ]
    },
    {
     "name": "stderr",
     "output_type": "stream",
     "text": [
      "  3%|▎         | 124/4504 [11:13<3:08:26,  2.58s/it]"
     ]
    },
    {
     "name": "stdout",
     "output_type": "stream",
     "text": [
      "7ZX0nQrq05Q /n ```json\n",
      "{\n",
      "  \"decision\": \"yes\",\n",
      "  \"justification\": \"La vidéo aborde la production de graines au potager, un élément clé pour l'autosuffisance alimentaire. Elle explique comment éviter les croisements entre différentes variétés de légumes, ce qui est essentiel pour maintenir la qualité et la pureté des semences, et donc pour assurer une production alimentaire autonome à long terme. De plus, le titre et la description contiennent le mot-clé \\\"autosuffisance\\\".\"\n",
      "}\n",
      "```\n"
     ]
    },
    {
     "name": "stderr",
     "output_type": "stream",
     "text": [
      "  3%|▎         | 125/4504 [11:14<2:32:30,  2.09s/it]"
     ]
    },
    {
     "name": "stdout",
     "output_type": "stream",
     "text": [
      "oaJcEvGe3lQ /n ```json\n",
      "{\n",
      "  \"decision\": \"false\",\n",
      "  \"justification\": \"La vidéo décrit la récolte de pois et le semis de sarrasin avec un semoir / déchaumeur. Le thème principal est l'agriculture durable et les légumineuses. Bien que cela puisse contribuer à l'autonomie alimentaire, ce n'est pas le sujet central de la vidéo. Les mots clés et la description ne mettent pas en évidence l'autosuffisance.\"\n",
      "}\n",
      "```\n"
     ]
    },
    {
     "name": "stderr",
     "output_type": "stream",
     "text": [
      "  3%|▎         | 126/4504 [11:15<2:05:07,  1.71s/it]"
     ]
    },
    {
     "name": "stdout",
     "output_type": "stream",
     "text": [
      "OzlVBfSFR-c /n ```json\n",
      "{\n",
      "  \"decision\": \"yes\",\n",
      "  \"justification\": \"La vidéo traite de la lactofermentation des légumes, une méthode de conservation des aliments qui contribue à l'autonomie alimentaire en permettant de conserver les récoltes du potager. De plus, les tags incluent le mot \\\"autonomie\\\".\"\n",
      "}\n",
      "```\n"
     ]
    },
    {
     "name": "stderr",
     "output_type": "stream",
     "text": [
      "  3%|▎         | 127/4504 [11:16<1:48:47,  1.49s/it]"
     ]
    },
    {
     "name": "stdout",
     "output_type": "stream",
     "text": [
      "llEgjaXDR0k /n ```json\n",
      "{\n",
      "  \"decision\": \"false\",\n",
      "  \"justification\": \"La vidéo porte sur la cuisson des légumes secs pour réduire les problèmes de digestion. Bien que cela puisse contribuer à une alimentation saine, elle ne traite pas directement de l'autosuffisance telle que définie, qui implique la production et la conservation de sa propre nourriture et une réduction de la dépendance au système économique extérieur.\"\n",
      "}\n",
      "```\n"
     ]
    },
    {
     "name": "stderr",
     "output_type": "stream",
     "text": [
      "  3%|▎         | 128/4504 [11:17<1:37:45,  1.34s/it]"
     ]
    },
    {
     "name": "stdout",
     "output_type": "stream",
     "text": [
      "K_DFOssQRBw /n ```json\n",
      "{\n",
      "  \"decision\": \"yes\",\n",
      "  \"justification\": \"La vidéo présente des techniques et des exemples de cultures potagères visant à augmenter l'autonomie alimentaire. Le titre et la description mentionnent des légumes/aromatiques insolites et des méthodes de permaculture, suggérant une démarche d'autosuffisance alimentaire en diversifiant les sources de nourriture et en optimisant la production du potager.\"\n",
      "}\n",
      "```\n"
     ]
    },
    {
     "name": "stderr",
     "output_type": "stream",
     "text": [
      "  3%|▎         | 129/4504 [11:18<1:34:11,  1.29s/it]"
     ]
    },
    {
     "name": "stdout",
     "output_type": "stream",
     "text": [
      "KJeHDFicB1g /n ```json\n",
      "{\n",
      "  \"decision\": \"false\",\n",
      "  \"justification\": \"La vidéo traite des associations de plantes au jardin (légumineuses et légumes feuilles). Bien que cela puisse contribuer à un potager plus productif, le sujet principal n'est pas l'autosuffisance elle-même. L'autosuffisance implique une démarche plus globale visant à couvrir l'ensemble des besoins alimentaires.\"\n",
      "}\n",
      "```\n",
      "c65AOBiV4ew /n ```json\n",
      "{\n",
      "  \"decision\": \"yes\",\n",
      "  \"justification\": \"La présence des mots-clés \\\"autosuffisance\\\", \\\"garden\\\", \\\"food\\\", \\\"nature\\\", \\\"ecology\\\", \\\"legumes\\\", \\\"fruit\\\" dans le titre suggère fortement que la vidéo traite du thème de l'autosuffisance alimentaire et de la production de nourriture dans un jardin, en accord avec la définition fournie.\"\n",
      "}\n",
      "```\n",
      "sleep for 1 min\n"
     ]
    },
    {
     "name": "stderr",
     "output_type": "stream",
     "text": [
      "  3%|▎         | 131/4504 [12:20<16:43:29, 13.77s/it]"
     ]
    },
    {
     "name": "stdout",
     "output_type": "stream",
     "text": [
      "ydO_4q91fJk /n ```json\n",
      "{\n",
      "  \"decision\": \"true\",\n",
      "  \"justification\": \"Le titre, la description et les tags de la vidéo indiquent clairement qu'elle traite de l'autosuffisance, de l'autonomie, et des méthodes pour y parvenir (production de nourriture, énergie, habitat durable, etc.). Les mots-clés comme 'permaculture', 'vie autonome', 'jardinage', 'potager', 'énergie renouvelable' renforcent cette thématique.\"\n",
      "}\n",
      "```\n"
     ]
    },
    {
     "name": "stderr",
     "output_type": "stream",
     "text": [
      "  3%|▎         | 132/4504 [12:21<12:08:04,  9.99s/it]"
     ]
    },
    {
     "name": "stdout",
     "output_type": "stream",
     "text": [
      "ZtKqOFXCX1Y /n ```json\n",
      "{\n",
      "  \"decision\": \"true\",\n",
      "  \"justification\": \"La vidéo aborde des thèmes liés à la permaculture et au maraîchage, qui sont des pratiques souvent associées à la recherche d'autosuffisance alimentaire et d'autonomie. Les tags incluent des termes comme 'permaculture', 'maraichage bio', 'microferme', ce qui indique un intérêt pour des systèmes de production alimentaire à petite échelle et durables, souvent dans une optique d'autosuffisance.\"\n",
      "}\n",
      "```\n"
     ]
    },
    {
     "name": "stderr",
     "output_type": "stream",
     "text": [
      "  3%|▎         | 133/4504 [12:22<8:52:27,  7.31s/it] "
     ]
    },
    {
     "name": "stdout",
     "output_type": "stream",
     "text": [
      "81OLMeIWjzE /n ```json\n",
      "{\n",
      "  \"decision\": \"yes\",\n",
      "  \"justification\": \"La vidéo aborde la permaculture et l'autonomie, en particulier à travers l'étude des trognes, des arbres taillés de manière spécifique pour divers usages. Le titre, la description et les tags incluent des termes clés liés à l'autosuffisance et à des pratiques agricoles durables comme la permaculture et l'agroécologie.\"\n",
      "}\n",
      "```\n"
     ]
    },
    {
     "name": "stderr",
     "output_type": "stream",
     "text": [
      "  3%|▎         | 134/4504 [12:23<6:35:09,  5.43s/it]"
     ]
    },
    {
     "name": "stdout",
     "output_type": "stream",
     "text": [
      "0mGmEw96pLE /n ```json\n",
      "{\n",
      "  \"decision\": \"yes\",\n",
      "  \"justification\": \"La vidéo décrit une ferme en autonomie développée depuis plus de 30 ans, avec des installations autonomes électriques, un système d'irrigation, et un cheptel. Les tags incluent \\\"autonomie\\\", \\\"ferme autonome\\\", \\\"autonomie electrique\\\", \\\"devenir autonome\\\", ce qui indique clairement que le sujet principal est l'autosuffisance.\"\n",
      "}\n",
      "```\n"
     ]
    },
    {
     "name": "stderr",
     "output_type": "stream",
     "text": [
      "  3%|▎         | 135/4504 [12:24<5:01:51,  4.15s/it]"
     ]
    },
    {
     "name": "stdout",
     "output_type": "stream",
     "text": [
      "I8zyXW1R4dY /n ```json\n",
      "{\n",
      "  \"decision\": \"yes\",\n",
      "  \"justification\": \"La vidéo traite de la création d'une pépinière, ce qui contribue à l'autonomie alimentaire et financière. La description et les tags mentionnent des termes clés comme 'autonomie', 'arbres fruitiers', et 'permaculture', indiquant un lien direct avec la thématique de l'autosuffisance.\"\n",
      "}\n",
      "```\n"
     ]
    },
    {
     "name": "stderr",
     "output_type": "stream",
     "text": [
      "  3%|▎         | 136/4504 [12:25<3:52:15,  3.19s/it]"
     ]
    },
    {
     "name": "stdout",
     "output_type": "stream",
     "text": [
      "GWsvm_VriS0 /n ```json\n",
      "{\n",
      "  \"decision\": \"yes\",\n",
      "  \"justification\": \"La vidéo traite de la culture de légumes sans effort, ce qui est lié à l'autonomie alimentaire et à la réduction de la dépendance au système agricole conventionnel. Les tags incluent \\\"permaculture\\\" et \\\"autonomie\\\", ce qui renforce le lien avec l'autosuffisance.\"\n",
      "}\n",
      "```\n"
     ]
    },
    {
     "name": "stderr",
     "output_type": "stream",
     "text": [
      "  3%|▎         | 137/4504 [12:27<3:10:44,  2.62s/it]"
     ]
    },
    {
     "name": "stdout",
     "output_type": "stream",
     "text": [
      "1uwAf3mmluk /n ```json\n",
      "{\n",
      "  \"decision\": \"yes\",\n",
      "  \"justification\": \"La vidéo présente des arbres fruitiers exotiques adaptés à la France, permettant d'être autonome en baies, condiments et épices. Les tags incluent 'autonomie', 'autonomie alimentaire', 'permaculture' et 'fruitiers', ce qui correspond à la thématique de l'autosuffisance.\"\n",
      "}\n",
      "```\n"
     ]
    },
    {
     "name": "stderr",
     "output_type": "stream",
     "text": [
      "  3%|▎         | 138/4504 [12:27<2:33:36,  2.11s/it]"
     ]
    },
    {
     "name": "stdout",
     "output_type": "stream",
     "text": [
      "LIJ3eH0qoQI /n ```json\n",
      "{\n",
      "  \"decision\": \"yes\",\n",
      "  \"justification\": \"La vidéo parle d'arbres indispensables au jardin pour des récoltes abondantes et mentionne la permaculture et l'agroécologie. De plus, les tags incluent 'autonomie' et 'fruitiers', ce qui suggère un lien avec la production alimentaire et donc l'autosuffisance.\"\n",
      "}\n",
      "```\n"
     ]
    },
    {
     "name": "stderr",
     "output_type": "stream",
     "text": [
      "  3%|▎         | 139/4504 [12:29<2:11:50,  1.81s/it]"
     ]
    },
    {
     "name": "stdout",
     "output_type": "stream",
     "text": [
      "lZIVe1UVdN8 /n ```json\n",
      "{\n",
      "  \"decision\": \"yes\",\n",
      "  \"justification\": \"Le titre et la description de la vidéo mentionnent l'autosuffisance (sous le terme d'autarcie), ainsi que des éléments clés comme le verger, la serre, la culture de fruits et légumes, qui sont des composantes importantes de l'autosuffisance alimentaire. Les tags incluent également 'autarcie' et 'autonomie'.\"\n",
      "}\n",
      "```\n"
     ]
    },
    {
     "name": "stderr",
     "output_type": "stream",
     "text": [
      "  3%|▎         | 140/4504 [12:29<1:51:12,  1.53s/it]"
     ]
    },
    {
     "name": "stdout",
     "output_type": "stream",
     "text": [
      "gEOjS9nk5Kg /n ```json\n",
      "{\n",
      "  \"decision\": \"true\",\n",
      "  \"justification\": \"La vidéo traite du paillage au potager, une pratique liée à la permaculture et à l'autonomie, comme l'indiquent le titre, la description et les tags. La description mentionne également des livres sur la permaculture et les forêts comestibles, qui sont des éléments clés de l'autosuffisance.\"\n",
      "}\n",
      "```\n"
     ]
    },
    {
     "name": "stderr",
     "output_type": "stream",
     "text": [
      "  3%|▎         | 141/4504 [12:30<1:40:33,  1.38s/it]"
     ]
    },
    {
     "name": "stdout",
     "output_type": "stream",
     "text": [
      "6mM5v2lKtIY /n ```json\n",
      "{\n",
      "  \"decision\": \"yes\",\n",
      "  \"justification\": \"Le titre et la description mentionnent explicitement la pollinisation des courgettes dans un contexte de permaculture et d'autonomie en graines, ce qui correspond directement à la thématique de l'autosuffisance, notamment en termes de production alimentaire (graines) et d'application des principes de la permaculture pour y parvenir.\"\n",
      "}\n",
      "```\n"
     ]
    },
    {
     "name": "stderr",
     "output_type": "stream",
     "text": [
      "  3%|▎         | 142/4504 [12:32<1:35:00,  1.31s/it]"
     ]
    },
    {
     "name": "stdout",
     "output_type": "stream",
     "text": [
      "ulHrMzlbGp0 /n ```json\n",
      "{\n",
      "  \"decision\": \"yes\",\n",
      "  \"justification\": \"La vidéo traite de la pollinisation manuelle des courgettes dans un jardin potager en permaculture. La description et les tags incluent les termes \\\"jardin\\\", \\\"potager\\\", \\\"permaculture\\\", et \\\"autonomie\\\", ce qui indique clairement un lien avec la thématique de l'autosuffisance, notamment par la production de sa propre nourriture.\"\n",
      "}\n",
      "```\n",
      "AOGwUQ56rkc /n ```json\n",
      "{\n",
      "  \"decision\": \"yes\",\n",
      "  \"justification\": \"La description indique clairement que la chaîne est dédiée à l'autosuffisance, et le titre mentionne des erreurs à éviter en autonomie. Les tags incluent des termes clés comme 'autonomie', 'permaculture', 'résilience', 'potager', et 'vivre à la campagne', ce qui confirme que la vidéo est pertinente pour le thème de l'autosuffisance.\"\n",
      "}\n",
      "```\n",
      "sleep for 1 min\n"
     ]
    },
    {
     "name": "stderr",
     "output_type": "stream",
     "text": [
      "  3%|▎         | 144/4504 [13:34<16:45:49, 13.84s/it]"
     ]
    },
    {
     "name": "stdout",
     "output_type": "stream",
     "text": [
      "c_MFhZMdKbY /n ```json\n",
      "{\n",
      "  \"decision\": \"yes\",\n",
      "  \"justification\": \"La vidéo concerne la pollinisation des courgettes au potager, ce qui est une pratique liée à l'autosuffisance alimentaire. De plus, la description et les tags incluent des termes comme \\\"autonomie\\\", \\\"potager bio\\\", \\\"permaculture\\\" et \\\"potager\\\", qui sont des éléments clés de l'autosuffisance.\"\n",
      "}\n",
      "```\n"
     ]
    },
    {
     "name": "stderr",
     "output_type": "stream",
     "text": [
      "  3%|▎         | 145/4504 [13:35<12:16:35, 10.14s/it]"
     ]
    },
    {
     "name": "stdout",
     "output_type": "stream",
     "text": [
      "LHDhp6tqQI0 /n ```json\n",
      "{\n",
      "  \"decision\": \"yes\",\n",
      "  \"justification\": \"La vidéo traite de permaculture et d'autosuffisance, en se concentrant sur la technique de la butte. Les tags incluent explicitement \\\"autosuffisance\\\", \\\"permaculture\\\" et \\\"autonomie\\\", et la description mentionne l'objectif de gagner du temps en partageant des recherches sur un aspect spécifique de cette pratique.\"\n",
      "}\n",
      "```\n"
     ]
    },
    {
     "name": "stderr",
     "output_type": "stream",
     "text": [
      "  3%|▎         | 146/4504 [13:37<9:04:00,  7.49s/it] "
     ]
    },
    {
     "name": "stdout",
     "output_type": "stream",
     "text": [
      "B21So1_VYMY /n ```json\n",
      "{\n",
      "  \"decision\": \"yes\",\n",
      "  \"justification\": \"La vidéo présente un projet d'autonomie réalisé par une personne qui a acheté une maison avec un grand terrain pour y créer une activité agricole. La description et les tags mentionnent des termes clés liés à l'autosuffisance comme \\\"autonomie\\\", \\\"permaculture\\\", \\\"potager\\\", \\\"jardin forêt\\\", \\\"vivre en autonomie\\\", \\\"activité agricole\\\", etc. De plus, la vidéo détaille les différentes composantes du projet, notamment le potager, le jardin forêt, la production de plantes aromatiques, et les techniques utilisées, ce qui correspond à la thématique de l'autosuffisance.\"\n",
      "}\n",
      "```\n"
     ]
    },
    {
     "name": "stderr",
     "output_type": "stream",
     "text": [
      "  3%|▎         | 147/4504 [13:38<6:43:37,  5.56s/it]"
     ]
    },
    {
     "name": "stdout",
     "output_type": "stream",
     "text": [
      "3BgBITcr9So /n ```json\n",
      "{\n",
      "  \"decision\": \"false\",\n",
      "  \"justification\": \"La vidéo explique comment tuteurer et redresser un arbre, ce qui concerne le jardinage mais ne s'inscrit pas directement dans une démarche d'autosuffisance alimentaire ou de réduction de la dépendance au système économique et social extérieur. L'objectif principal semble être de soutenir la croissance de l'arbre, et non de produire sa propre nourriture.\"\n",
      "}\n",
      "```\n"
     ]
    },
    {
     "name": "stderr",
     "output_type": "stream",
     "text": [
      "  3%|▎         | 148/4504 [13:39<5:03:37,  4.18s/it]"
     ]
    },
    {
     "name": "stdout",
     "output_type": "stream",
     "text": [
      "NgzTNEpm4-w /n ```json\n",
      "{\n",
      "  \"decision\": \"yes\",\n",
      "  \"justification\": \"La vidéo traite de la plantation de tomates, en utilisant une méthode inspirée de la permaculture, avec un tuteurage en tipi pour optimiser l'espace. Les tags incluent \\\"Autonomie\\\", \\\"Permaculture\\\" et \\\"plantation des tomates\\\", ce qui indique un lien direct avec la production de nourriture et donc l'autosuffisance alimentaire.\"\n",
      "}\n",
      "```\n"
     ]
    },
    {
     "name": "stderr",
     "output_type": "stream",
     "text": [
      "  3%|▎         | 149/4504 [13:40<3:56:09,  3.25s/it]"
     ]
    },
    {
     "name": "stdout",
     "output_type": "stream",
     "text": [
      "RM5Mzgh07A4 /n ```json\n",
      "{\n",
      "  \"decision\": \"yes\",\n",
      "  \"justification\": \"La vidéo concerne la culture de tomates, ce qui est directement lié à la production de nourriture pour l'autoconsommation. De plus, les tags incluent \\\"Autonomie\\\" et \\\"potager\\\", ce qui confirme que le contenu est pertinent pour le thème de l'autosuffisance.\"\n",
      "}\n",
      "```\n"
     ]
    },
    {
     "name": "stderr",
     "output_type": "stream",
     "text": [
      "  3%|▎         | 150/4504 [13:41<3:11:12,  2.64s/it]"
     ]
    },
    {
     "name": "stdout",
     "output_type": "stream",
     "text": [
      "8E_cw_Hn3v0 /n ```json\n",
      "{\n",
      "  \"decision\": \"true\",\n",
      "  \"justification\": \"La vidéo montre une technique pour cultiver des courgettes à la verticale afin de gagner de la place et d'améliorer la circulation de l'air, ce qui contribue à une production alimentaire plus efficace au jardin. De plus, la description mentionne \\\"l'autonomie au jardin\\\" en lien avec David Latassa, un abonné des 4 saisons, ce qui suggère un lien avec la thématique de l'autosuffisance.\"\n",
      "}\n",
      "```\n"
     ]
    },
    {
     "name": "stderr",
     "output_type": "stream",
     "text": [
      "  3%|▎         | 151/4504 [13:42<2:45:11,  2.28s/it]"
     ]
    },
    {
     "name": "stdout",
     "output_type": "stream",
     "text": [
      "p6-4-DMjDY0 /n ```json\n",
      "{\n",
      "  \"decision\": \"false\",\n",
      "  \"justification\": \"La vidéo décrit un tuteurage tripode pour un arbre. Bien que cela puisse contribuer à la santé de l'arbre et potentiellement à sa production de fruits, le sujet principal n'est pas directement lié à l'autosuffisance alimentaire ou à la réduction de la dépendance au système économique et social extérieur. Le tuteurage est une technique de jardinage, mais pas nécessairement un élément central de l'autosuffisance.\"\n",
      "}\n",
      "```\n"
     ]
    },
    {
     "name": "stderr",
     "output_type": "stream",
     "text": [
      "  3%|▎         | 152/4504 [13:45<2:42:23,  2.24s/it]"
     ]
    },
    {
     "name": "stdout",
     "output_type": "stream",
     "text": [
      "7W3WSj7QuzU /n ```json\n",
      "{\n",
      "  \"decision\": \"false\",\n",
      "  \"justification\": \"La vidéo décrit une technique de tuteurage d'arbre. Bien que cela puisse contribuer à la croissance et à la santé de l'arbre, cela ne relève pas directement de l'autosuffisance alimentaire ou de la réduction de la dépendance au système économique et social extérieur, qui sont des éléments clés de la définition de l'autosuffisance.\"\n",
      "}\n",
      "```\n"
     ]
    },
    {
     "name": "stderr",
     "output_type": "stream",
     "text": [
      "  3%|▎         | 153/4504 [13:46<2:17:56,  1.90s/it]"
     ]
    },
    {
     "name": "stdout",
     "output_type": "stream",
     "text": [
      "ZbAq3xPHuQ4 /n ```json\n",
      "{\n",
      "  \"decision\": \"false\",\n",
      "  \"justification\": \"La vidéo explique comment tuteurer les tomates en serre. Bien que la culture de tomates puisse contribuer à l'autosuffisance alimentaire, la vidéo se concentre sur une technique de jardinage spécifique et ne traite pas de l'autosuffisance de manière globale.\"\n",
      "}\n",
      "```\n"
     ]
    },
    {
     "name": "stderr",
     "output_type": "stream",
     "text": [
      "  3%|▎         | 154/4504 [13:47<2:09:51,  1.79s/it]"
     ]
    },
    {
     "name": "stdout",
     "output_type": "stream",
     "text": [
      "KNnyTf1l6dg /n ```json\n",
      "{\n",
      "  \"decision\": \"yes\",\n",
      "  \"justification\": \"La vidéo traite de la fabrication de tuteurs gratuits pour le potager, en utilisant des matériaux naturels comme le roseau et la canne. Les tags incluent \\\"Potager bio\\\", \\\"Permaculture\\\", \\\"résilience\\\" et \\\"autonomie\\\", ce qui indique un lien avec la thématique de l'autosuffisance, notamment en termes de production alimentaire autonome et respectueuse de l'environnement.\"\n",
      "}\n",
      "```\n"
     ]
    },
    {
     "name": "stderr",
     "output_type": "stream",
     "text": [
      "  3%|▎         | 155/4504 [13:49<2:13:57,  1.85s/it]"
     ]
    },
    {
     "name": "stdout",
     "output_type": "stream",
     "text": [
      "j4rQ8FAKEAk /n ```json\n",
      "{\n",
      "  \"decision\": \"yes\",\n",
      "  \"justification\": \"La vidéo traite des semis d'avril pour divers légumes et fruits, en mettant en avant des méthodes pour réussir ses semis et optimiser la germination. Les tags incluent le mot-clé \\\"autosuffisance\\\", ce qui indique que la vidéo aborde le thème de l'autosuffisance alimentaire à travers le jardinage.\"\n",
      "}\n",
      "```\n",
      "J8rLzR9yByg /n ```json\n",
      "{\n",
      "  \"decision\": \"yes\",\n",
      "  \"justification\": \"La vidéo traite de l'autonomie décisionnelle dans le domaine agricole, avec un focus sur la production de semences et le calcul des doses de semis. L'objectif est de gagner en autonomie, ce qui correspond à la thématique de l'autosuffisance.\"\n",
      "}\n",
      "```\n",
      "sleep for 1 min\n"
     ]
    },
    {
     "name": "stderr",
     "output_type": "stream",
     "text": [
      "  3%|▎         | 157/4504 [14:52<17:09:10, 14.21s/it]"
     ]
    },
    {
     "name": "stdout",
     "output_type": "stream",
     "text": [
      "K1MpIjlpUy0 /n ```json\n",
      "{\n",
      "  \"decision\": \"false\",\n",
      "  \"justification\": \"La vidéo décrit le processus de germination des graines et le cycle de vie d'une plante. Bien que cela puisse être lié à la production alimentaire, l'accent principal est mis sur l'éducation et la compréhension du monde vivant pour les enfants, plutôt que sur l'autosuffisance alimentaire ou la réduction de la dépendance au système économique.\"\n",
      "}\n",
      "```\n"
     ]
    },
    {
     "name": "stderr",
     "output_type": "stream",
     "text": [
      "  4%|▎         | 158/4504 [14:53<12:27:39, 10.32s/it]"
     ]
    },
    {
     "name": "stdout",
     "output_type": "stream",
     "text": [
      "e9f2ALW1zLY /n ```json\n",
      "{\n",
      "  \"decision\": \"false\",\n",
      "  \"justification\": \"La vidéo porte sur la germination des graines de lotus. Bien que la culture de plantes puisse être un aspect de l'autosuffisance, la vidéo se concentre spécifiquement sur la germination et ne traite pas des aspects plus larges de l'autosuffisance tels que la production alimentaire, la réduction de la dépendance au système économique, ou la conception d'un lieu de vie autonome.\"\n",
      "}\n",
      "```\n"
     ]
    },
    {
     "name": "stderr",
     "output_type": "stream",
     "text": [
      "  4%|▎         | 159/4504 [14:54<9:08:01,  7.57s/it] "
     ]
    },
    {
     "name": "stdout",
     "output_type": "stream",
     "text": [
      "iAMAGNLO37A /n ```json\n",
      "{\n",
      "  \"decision\": \"yes\",\n",
      "  \"justification\": \"La vidéo décrit la construction d'une maison autonome en énergie, sans chauffage, et une autre en matériaux biosourcés (paille et bois). L'autonomie énergétique et l'utilisation de matériaux naturels sont des aspects importants de l'autosuffisance, car ils réduisent la dépendance aux systèmes extérieurs et favorisent une vie plus durable.\"\n",
      "}\n",
      "```\n"
     ]
    },
    {
     "name": "stderr",
     "output_type": "stream",
     "text": [
      "  4%|▎         | 160/4504 [14:55<6:39:07,  5.51s/it]"
     ]
    },
    {
     "name": "stdout",
     "output_type": "stream",
     "text": [
      "ihi165Ha_58 /n ```json\n",
      "{\n",
      "  \"decision\": \"yes\",\n",
      "  \"justification\": \"La vidéo décrit la construction d'une maison en bois 100% autonome, y compris l'autonomie énergétique et en eau, ce qui correspond à la définition de l'autosuffisance.\"\n",
      "}\n",
      "```\n"
     ]
    },
    {
     "name": "stderr",
     "output_type": "stream",
     "text": [
      "  4%|▎         | 161/4504 [14:56<5:01:28,  4.16s/it]"
     ]
    },
    {
     "name": "stdout",
     "output_type": "stream",
     "text": [
      "imLUIQnpzTU /n ```json\n",
      "{\n",
      "  \"decision\": \"true\",\n",
      "  \"justification\": \"La vidéo décrit la construction d'une maison autoconstruite et autonome en eau, électricité, viandes, légumes et fruits. Les métadonnées (titre, description et tags) contiennent des termes clés liés à l'autonomie, l'autosuffisance, la permaculture, l'autonomie alimentaire et la construction écologique, ce qui correspond à la thématique de l'autosuffisance.\"\n",
      "}\n",
      "```\n"
     ]
    },
    {
     "name": "stderr",
     "output_type": "stream",
     "text": [
      "  4%|▎         | 162/4504 [14:57<3:53:50,  3.23s/it]"
     ]
    },
    {
     "name": "stdout",
     "output_type": "stream",
     "text": [
      "hr_vD5fy8FA /n ```json\n",
      "{\n",
      "  \"decision\": \"oui\",\n",
      "  \"justification\": \"Bien que la vidéo ne traite pas directement de l'autosuffisance alimentaire, elle aborde la construction d'une maison écologique et économique, ce qui est un aspect important de l'autonomie et de la réduction de la dépendance au système économique traditionnel. La vidéo mentionne également la récupération de l'eau de pluie pour le potager, ce qui est un élément clé de l'autosuffisance.\"\n",
      "}\n",
      "```\n"
     ]
    },
    {
     "name": "stderr",
     "output_type": "stream",
     "text": [
      "  4%|▎         | 163/4504 [14:59<3:19:48,  2.76s/it]"
     ]
    },
    {
     "name": "stdout",
     "output_type": "stream",
     "text": [
      "mqj4FAw06wo /n ```json\n",
      "{\n",
      "  \"decision\": \"yes\",\n",
      "  \"justification\": \"La vidéo aborde l'autosuffisance financière, un aspect important de l'autonomie globale. Elle explique comment une famille s'organise financièrement pour réaliser un projet d'autoconstruction, en adoptant un mode de vie minimaliste pour réduire sa dépendance à la société de consommation. Bien que centrée sur l'aspect financier et la construction, elle s'inscrit dans une démarche d'autonomie plus large.\"\n",
      "}\n",
      "```\n"
     ]
    },
    {
     "name": "stderr",
     "output_type": "stream",
     "text": [
      "  4%|▎         | 164/4504 [15:00<2:44:12,  2.27s/it]"
     ]
    },
    {
     "name": "stdout",
     "output_type": "stream",
     "text": [
      "x8NLEDvgESk /n ```json\n",
      "{\n",
      "  \"decision\": \"yes\",\n",
      "  \"justification\": \"Bien que le titre principal puisse induire en erreur, la description mentionne clairement un \\\"projet d'autonomie énergétique et alimentaire à long terme\\\" et détaille les travaux d'autoconstruction de la maison, le potager en permaculture, et les installations pour tendre vers l'autonomie énergétique. Ces éléments sont directement liés à la thématique de l'autosuffisance.\"\n",
      "}\n",
      "```\n"
     ]
    },
    {
     "name": "stderr",
     "output_type": "stream",
     "text": [
      "  4%|▎         | 165/4504 [15:01<2:19:50,  1.93s/it]"
     ]
    },
    {
     "name": "stdout",
     "output_type": "stream",
     "text": [
      "qWPEATmeIUU /n ```json\n",
      "{\n",
      "  \"decision\": \"yes\",\n",
      "  \"justification\": \"Le titre et la description mentionnent explicitement \\\"Maison Autonome\\\", \\\"éco-hameau solidaire et autosuffisant\\\", \\\"éco-construction\\\", et \\\"maison en paille\\\". Ces termes sont directement liés à la thématique de l'autosuffisance et de la construction écologique, qui est un aspect important de l'autonomie.\"\n",
      "}\n",
      "```\n"
     ]
    },
    {
     "name": "stderr",
     "output_type": "stream",
     "text": [
      "  4%|▎         | 166/4504 [15:03<2:08:12,  1.77s/it]"
     ]
    },
    {
     "name": "stdout",
     "output_type": "stream",
     "text": [
      "grrBPjWgPE0 /n ```json\n",
      "{\n",
      "  \"decision\": \"yes\",\n",
      "  \"justification\": \"Bien que la vidéo porte sur la construction d'une maison, la description mentionne un \\\"projet d'autonomie énergétique et alimentaire à long terme\\\". De plus, il est fait référence à un \\\"potager en permaculture\\\" et des installations pour tendre vers l'autonomie énergétique. Cela suggère un lien avec la thématique de l'autosuffisance, notamment en termes d'habitat autonome et de production alimentaire.\"\n",
      "}\n",
      "```\n"
     ]
    },
    {
     "name": "stderr",
     "output_type": "stream",
     "text": [
      "  4%|▎         | 167/4504 [15:04<2:00:33,  1.67s/it]"
     ]
    },
    {
     "name": "stdout",
     "output_type": "stream",
     "text": [
      "ViaVmfrmF2M /n ```json\n",
      "{\n",
      "  \"decision\": \"oui\",\n",
      "  \"justification\": \"Bien que la vidéo ne traite pas directement de l'autosuffisance au sens large, elle aborde un aspect important de celle-ci : la production de produits laitiers maison. La capacité à faire ses propres fromages et yaourts contribue à réduire la dépendance aux produits industriels et au système alimentaire conventionnel, ce qui est un élément clé de la démarche d'autosuffisance. De plus, les tags incluent \\\"DIY\\\" (faire soi-même), ce qui renforce le lien avec l'autonomie et l'autosuffisance.\"\n",
      "}\n",
      "```\n"
     ]
    },
    {
     "name": "stderr",
     "output_type": "stream",
     "text": [
      "  4%|▎         | 168/4504 [15:05<1:46:43,  1.48s/it]"
     ]
    },
    {
     "name": "stdout",
     "output_type": "stream",
     "text": [
      "9QxmGn5If48 /n ```json\n",
      "{\n",
      "  \"decision\": \"true\",\n",
      "  \"justification\": \"La vidéo traite de la fabrication de fromage Kurut, une méthode traditionnelle de conservation du lait, ce qui contribue à l'autonomie alimentaire. Les tags incluent explicitement \\\"autonomie alimentaire\\\", \\\"autonomie\\\", \\\"ferments lactiques naturels\\\", \\\"savoirs ancestraux\\\" et \\\"vie rurale\\\", ce qui confirme que le sujet est pertinent pour l'autosuffisance.\"\n",
      "}\n",
      "```\n",
      "ScNDOguxyQE /n ```json\n",
      "{\n",
      "  \"decision\": \"true\",\n",
      "  \"justification\": \"La vidéo décrit la recherche d'une recette de fromage simple, en utilisant des ingrédients que l'auteur pourra produire en autonomie. Les tags incluent 'autonomie alimentaire', 'produire sa nourriture', et 'autonomie en fromage', ce qui correspond à la thématique de l'autosuffisance.\"\n",
      "}\n",
      "```\n",
      "sleep for 1 min\n"
     ]
    },
    {
     "name": "stderr",
     "output_type": "stream",
     "text": [
      "  4%|▍         | 170/4504 [16:07<16:37:38, 13.81s/it]"
     ]
    },
    {
     "name": "stdout",
     "output_type": "stream",
     "text": [
      "-inrKRnDpiU /n ```json\n",
      "{\n",
      "  \"decision\": \"yes\",\n",
      "  \"justification\": \"La vidéo décrit comment fabriquer du fromage de vache à la maison, en partant de lait cru, et détaille les étapes nécessaires. La chaîne est dédiée à l'autosuffisance, ce qui correspond à la thématique demandée.\"\n",
      "}\n",
      "```\n"
     ]
    },
    {
     "name": "stderr",
     "output_type": "stream",
     "text": [
      "  4%|▍         | 171/4504 [16:08<12:02:12, 10.00s/it]"
     ]
    },
    {
     "name": "stdout",
     "output_type": "stream",
     "text": [
      "I9-khUrt2qI /n ```json\n",
      "{\n",
      "  \"decision\": \"true\",\n",
      "  \"justification\": \"Le titre et la description mentionnent clairement l'autonomie, le paillage et le potager, ce qui correspond à la thématique de l'autosuffisance, notamment en termes de production de ressources pour le jardin.\"\n",
      "}\n",
      "```\n"
     ]
    },
    {
     "name": "stderr",
     "output_type": "stream",
     "text": [
      "  4%|▍         | 172/4504 [16:09<8:53:32,  7.39s/it] "
     ]
    },
    {
     "name": "stdout",
     "output_type": "stream",
     "text": [
      "w06_1HNoxZM /n ```json\n",
      "{\n",
      "  \"decision\": \"yes\",\n",
      "  \"justification\": \"La vidéo décrit les étapes de la production de foin, une ressource essentielle pour l'alimentation animale dans un contexte d'autonomie. Le titre mentionne \\\"Projet Autonomie\\\", et la description détaille le processus de fauchage, fanage, andainage et pressage des bottes de foin, soulignant l'utilisation du foin pour le fourrage et la construction. De plus, la description fait référence à un serveur Discord dédié à l'autonomie.\\\"Réseautonome\\\". De plus, le mot clé \\\"autonomie\\\" est présent dans les tags.\"\n",
      "}\n",
      "```\n"
     ]
    },
    {
     "name": "stderr",
     "output_type": "stream",
     "text": [
      "  4%|▍         | 173/4504 [16:11<6:39:07,  5.53s/it]"
     ]
    },
    {
     "name": "stdout",
     "output_type": "stream",
     "text": [
      "jlfz5KWdP1I /n ```json\n",
      "{\n",
      "  \"decision\": \"yes\",\n",
      "  \"justification\": \"Le titre et la description mentionnent clairement l'autosuffisance alimentaire et l'autonomie alimentaire. Les tags incluent également des termes pertinents comme 'autosuffisance alimentaire', 'autonomie alimentaire', 'ferme', 'ferme familiale', ce qui indique que la vidéo traite bien du sujet.\"\n",
      "}\n",
      "```\n"
     ]
    },
    {
     "name": "stderr",
     "output_type": "stream",
     "text": [
      "  4%|▍         | 174/4504 [16:12<5:18:18,  4.41s/it]"
     ]
    },
    {
     "name": "stdout",
     "output_type": "stream",
     "text": [
      "s8mNAirza5U /n ```json\n",
      "{\n",
      "  \"decision\": \"yes\",\n",
      "  \"justification\": \"La vidéo traite de la production de foin pour les moutons et son utilisation potentielle pour le potager (compost, enrichissement du sol). L'élevage de moutons et le potager sont des éléments importants dans une démarche d'autosuffisance alimentaire. De plus, la description mentionne l'autonomie alimentaire et la permaculture, qui sont des concepts clés liés à l'autosuffisance.\"\n",
      "}\n",
      "```\n"
     ]
    },
    {
     "name": "stderr",
     "output_type": "stream",
     "text": [
      "  4%|▍         | 175/4504 [16:14<4:12:29,  3.50s/it]"
     ]
    },
    {
     "name": "stdout",
     "output_type": "stream",
     "text": [
      "94GAyrnAq8w /n ```json\n",
      "{\n",
      "  \"decision\": \"yes\",\n",
      "  \"justification\": \"La vidéo traite de l'autonomie alimentaire dans un élevage caprin, en mettant en avant l'utilisation du foin ventilé pour nourrir les chèvres. Les tags incluent \\\"Autonomie alimentaire\\\", ce qui confirme le sujet de la vidéo.\"\n",
      "}\n",
      "```\n"
     ]
    },
    {
     "name": "stderr",
     "output_type": "stream",
     "text": [
      "  4%|▍         | 176/4504 [16:15<3:18:16,  2.75s/it]"
     ]
    },
    {
     "name": "stdout",
     "output_type": "stream",
     "text": [
      "HkYYWec5JjY /n ```json\n",
      "{\n",
      "  \"decision\": \"yes\",\n",
      "  \"justification\": \"La description de la chaîne indique clairement qu'elle est dédiée à l'autosuffisance et à la mise en autonomie d'une maison familiale. Les tags incluent des termes liés à l'autosuffisance, à la permaculture, au potager, au poulailler, à l'énergie renouvelable, etc. La vidéo semble donc traiter de sujets pertinents pour l'autosuffisance.\"\n",
      "}\n",
      "```\n"
     ]
    },
    {
     "name": "stderr",
     "output_type": "stream",
     "text": [
      "  4%|▍         | 177/4504 [16:15<2:35:03,  2.15s/it]"
     ]
    },
    {
     "name": "stdout",
     "output_type": "stream",
     "text": [
      "93XeojuElwA /n ```json\n",
      "{\n",
      "  \"decision\": \"yes\",\n",
      "  \"justification\": \"Le titre et la description de la vidéo mentionnent clairement l'autosuffisance alimentaire à travers l'élevage, ce qui correspond à la thématique définie.\"\n",
      "}\n",
      "```\n"
     ]
    },
    {
     "name": "stderr",
     "output_type": "stream",
     "text": [
      "  4%|▍         | 178/4504 [16:17<2:11:42,  1.83s/it]"
     ]
    },
    {
     "name": "stdout",
     "output_type": "stream",
     "text": [
      "3SCLflWdpeg /n ```json\n",
      "{\n",
      "  \"decision\": \"yes\",\n",
      "  \"justification\": \"Le titre de la chaine Youtube, le hashtag et le nom du blog sont 'la ferme autosuffisante'. La description et les tags contiennent les mots 'Autonomie' et 'autosuffisance'. Il s'agit donc bien d'une vidéo concernant l'autosuffisance.\"\n",
      "}\n",
      "```\n"
     ]
    },
    {
     "name": "stderr",
     "output_type": "stream",
     "text": [
      "  4%|▍         | 179/4504 [16:17<1:51:12,  1.54s/it]"
     ]
    },
    {
     "name": "stdout",
     "output_type": "stream",
     "text": [
      "x0vRWEFKlb8 /n ```json\n",
      "{\n",
      "  \"decision\": \"yes\",\n",
      "  \"justification\": \"Le titre et la description de la vidéo mentionnent explicitement l'autosuffisance alimentaire et la culture hors sol comme solution pour assurer une alimentation saine et durable. Bien que les tags soient génériques, le contenu de la description est pertinent pour la thématique de l'autosuffisance.\"\n",
      "}\n",
      "```\n"
     ]
    },
    {
     "name": "stderr",
     "output_type": "stream",
     "text": [
      "  4%|▍         | 180/4504 [16:19<1:42:41,  1.42s/it]"
     ]
    },
    {
     "name": "stdout",
     "output_type": "stream",
     "text": [
      "hKAPzInHZs0 /n ```json\n",
      "{\n",
      "  \"decision\": \"yes\",\n",
      "  \"justification\": \"La vidéo décrit le processus de creusage d'un puits à la main pour obtenir de l'eau, une ressource essentielle pour l'autonomie, notamment pour l'irrigation d'un jardin. Les tags incluent des termes liés à l'autosuffisance, à l'autonomie en eau et au DIY, ce qui confirme que la vidéo concerne la thématique de l'autosuffisance.\"\n",
      "}\n",
      "```\n"
     ]
    },
    {
     "name": "stderr",
     "output_type": "stream",
     "text": [
      "  4%|▍         | 181/4504 [16:20<1:32:53,  1.29s/it]"
     ]
    },
    {
     "name": "stdout",
     "output_type": "stream",
     "text": [
      "GNIKAhiizyU /n ```json\n",
      "{\n",
      "  \"decision\": \"true\",\n",
      "  \"justification\": \"Le titre et la description de la vidéo mentionnent explicitement l'autonomie alimentaire et l'autosuffisance sur une petite surface. De plus, les tags incluent des termes comme 'autonomie alimentaire', 'autonomie énergétique', 'permaculture' et 'agriculture de conservation', qui sont tous liés à la thématique de l'autosuffisance.\"\n",
      "}\n",
      "```\n",
      "k2zPHYtPDYA /n ```json\n",
      "{\n",
      "  \"decision\": \"yes\",\n",
      "  \"justification\": \"La vidéo aborde directement l'autosuffisance alimentaire, expliquant pourquoi et comment l'atteindre, en mettant l'accent sur la réduction de la dépendance aux chaînes d'approvisionnement et la priorisation des productions locales. Les tags incluent des termes clés comme 'autosuffisance alimentaire', 'circuits courts', 'résilience alimentaire', et 'locavorisme', confirmant la pertinence du sujet.\"\n",
      "}\n",
      "```\n",
      "sleep for 1 min\n"
     ]
    },
    {
     "name": "stderr",
     "output_type": "stream",
     "text": [
      "  4%|▍         | 183/4504 [17:22<16:30:46, 13.76s/it]"
     ]
    },
    {
     "name": "stdout",
     "output_type": "stream",
     "text": [
      "L30sT4Nxsx0 /n ```json\n",
      "{\n",
      "  \"decision\": \"oui\",\n",
      "  \"justification\": \"La vidéo traite de permaculture et d'autosuffisance dans une ferme, ce qui correspond à la définition de l'autosuffisance et aux exemples fournis. Les tags incluent des termes clés comme 'vivre en autosuffisance', 'autosuffisance', 'autosuffisance alimentaire', et 'permaculture'.\"\n",
      "}\n",
      "```\n"
     ]
    },
    {
     "name": "stderr",
     "output_type": "stream",
     "text": [
      "  4%|▍         | 184/4504 [17:23<11:53:26,  9.91s/it]"
     ]
    },
    {
     "name": "stdout",
     "output_type": "stream",
     "text": [
      "ss568YMuVUM /n ```json\n",
      "{\n",
      "  \"decision\": \"yes\",\n",
      "  \"justification\": \"Le titre mentionne explicitement \\\"Autosuffisance\\\" et la description parle de \\\"buttes de permaculture\\\", une technique souvent associée à l'autosuffisance alimentaire. De plus, la description mentionne \\\"Autonomie & Résilience\\\", ce qui renforce le lien avec la thématique.\"\n",
      "}\n",
      "```\n"
     ]
    },
    {
     "name": "stderr",
     "output_type": "stream",
     "text": [
      "  4%|▍         | 185/4504 [17:24<8:40:00,  7.22s/it] "
     ]
    },
    {
     "name": "stdout",
     "output_type": "stream",
     "text": [
      "qB7mwR4PERs /n ```json\n",
      "{\n",
      "  \"decision\": \"yes\",\n",
      "  \"justification\": \"Le titre et la description de la vidéo font directement référence à la production de graines pour l'année suivante, ce qui est une pratique courante dans l'autosuffisance alimentaire. L'objectif étant de ne pas dépendre de l'extérieur pour les semences.\"\n",
      "}\n",
      "```\n"
     ]
    },
    {
     "name": "stderr",
     "output_type": "stream",
     "text": [
      "  4%|▍         | 186/4504 [17:24<6:20:45,  5.29s/it]"
     ]
    },
    {
     "name": "stdout",
     "output_type": "stream",
     "text": [
      "QUDYFP2xDYk /n ```json\n",
      "{\n",
      "  \"decision\": \"true\",\n",
      "  \"justification\": \"La vidéo parle de la culture de haricots verts au potager. Le potager est un élément important pour atteindre l'autosuffisance alimentaire, un des aspects de l'autosuffisance. De plus, le tag #autonomie est présent.\"\n",
      "}\n",
      "```\n"
     ]
    },
    {
     "name": "stderr",
     "output_type": "stream",
     "text": [
      "  4%|▍         | 187/4504 [17:25<4:48:04,  4.00s/it]"
     ]
    },
    {
     "name": "stdout",
     "output_type": "stream",
     "text": [
      "lwDKZiMEjlw /n ```json\n",
      "{\n",
      "  \"decision\": \"yes\",\n",
      "  \"justification\": \"La vidéo, bien que centrée sur le semis de haricots verts, mentionne l'autonomie dans ses tags. De plus, la chaîne semble aborder des thématiques liées au potager et à la culture de légumes, ce qui peut contribuer à l'autosuffisance alimentaire.\"\n",
      "}\n",
      "```\n"
     ]
    },
    {
     "name": "stderr",
     "output_type": "stream",
     "text": [
      "  4%|▍         | 188/4504 [17:26<3:39:05,  3.05s/it]"
     ]
    },
    {
     "name": "stdout",
     "output_type": "stream",
     "text": [
      "Jj98cj-r9wI /n ```json\n",
      "{\n",
      "  \"decision\": \"yes\",\n",
      "  \"justification\": \"La vidéo décrit l'association de légumes \\\"Milpa\\\" (haricot/mais/courge), une technique de jardinage ancestrale favorisant l'autonomie au jardin et l'optimisation de l'espace, ce qui est lié à l'autosuffisance alimentaire.\"\n",
      "}\n",
      "```\n"
     ]
    },
    {
     "name": "stderr",
     "output_type": "stream",
     "text": [
      "  4%|▍         | 189/4504 [17:27<2:55:45,  2.44s/it]"
     ]
    },
    {
     "name": "stdout",
     "output_type": "stream",
     "text": [
      "Rpz5t48b9a8 /n ```json\n",
      "{\n",
      "  \"decision\": \"true\",\n",
      "  \"justification\": \"La vidéo concerne l'autosuffisance car elle montre la préparation de conserves de haricots tarbais \\\"maison\\\", ce qui contribue à l'autonomie alimentaire. De plus, la description indique que la chaîne est dédiée à l'autosuffisance et détaille les réalisations pour la mise en autonomie d'une maison familiale avec un jardin en permaculture. Les tags incluent des termes liés à l'autosuffisance, à la permaculture et à la résilience.\"\n",
      "}\n",
      "```\n"
     ]
    },
    {
     "name": "stderr",
     "output_type": "stream",
     "text": [
      "  4%|▍         | 190/4504 [17:28<2:25:54,  2.03s/it]"
     ]
    },
    {
     "name": "stdout",
     "output_type": "stream",
     "text": [
      "Wc0r-ExqjB8 /n ```json\n",
      "{\n",
      "  \"decision\": \"yes\",\n",
      "  \"justification\": \"La vidéo montre la préparation des semis de haricots et de soja. Bien que le terme \\\"autosuffisance\\\" ne soit pas explicitement mentionné, l'activité agricole de semis et de préparation du sol pour la culture de haricots et de soja est une étape fondamentale vers l'autonomie alimentaire et donc en lien direct avec l'autosuffisance.\"\n",
      "}\n",
      "```\n"
     ]
    },
    {
     "name": "stderr",
     "output_type": "stream",
     "text": [
      "  4%|▍         | 191/4504 [17:29<2:00:51,  1.68s/it]"
     ]
    },
    {
     "name": "stdout",
     "output_type": "stream",
     "text": [
      "HaTRptXhtzk /n ```json\n",
      "{\n",
      "  \"decision\": \"yes\",\n",
      "  \"justification\": \"La vidéo explique comment cultiver des haricots, ce qui est directement lié à la production de nourriture pour l'autoconsommation. L'autosuffisance alimentaire est un aspect clé de l'autosuffisance en général.\"\n",
      "}\n",
      "```\n"
     ]
    },
    {
     "name": "stderr",
     "output_type": "stream",
     "text": [
      "  4%|▍         | 192/4504 [17:30<1:41:34,  1.41s/it]"
     ]
    },
    {
     "name": "stdout",
     "output_type": "stream",
     "text": [
      "UKdt2Su7eew /n ```json\n",
      "{\n",
      "  \"decision\": \"true\",\n",
      "  \"justification\": \"La vidéo concerne la culture de haricots au potager, ce qui est lié à l'autosuffisance alimentaire, un aspect central de la thématique de l'autosuffisance. De plus, les tags incluent 'autonomie' et 'potager', renforçant le lien avec le sujet.\"\n",
      "}\n",
      "```\n"
     ]
    },
    {
     "name": "stderr",
     "output_type": "stream",
     "text": [
      "  4%|▍         | 193/4504 [17:31<1:31:19,  1.27s/it]"
     ]
    },
    {
     "name": "stdout",
     "output_type": "stream",
     "text": [
      "ymf8S_h_KaQ /n ```json\n",
      "{\n",
      "  \"decision\": \"yes\",\n",
      "  \"justification\": \"La vidéo traite de l'autonomie en eau, un besoin fondamental, en abordant les méthodes d'approvisionnement, de stockage, les problèmes rencontrés et les solutions. Les tags confirment également le thème de l'autonomie en eau et de la vie hors réseau.\"\n",
      "}\n",
      "```\n"
     ]
    },
    {
     "name": "stderr",
     "output_type": "stream",
     "text": [
      "  4%|▍         | 194/4504 [17:32<1:22:16,  1.15s/it]"
     ]
    },
    {
     "name": "stdout",
     "output_type": "stream",
     "text": [
      "LiOxQ1eIwk4 /n ```json\n",
      "{\n",
      "  \"decision\": \"yes\",\n",
      "  \"justification\": \"La vidéo traite de la récupération de l'eau de pluie et de la régénération des sols grâce à la technique des baissières en permaculture. Ces pratiques contribuent à l'autonomie et à la résilience, des aspects clés de l'autosuffisance.\"\n",
      "}\n",
      "```\n",
      "2lkdgOdX3jA /n ```json\n",
      "{\n",
      "  \"decision\": \"yes\",\n",
      "  \"justification\": \"La vidéo traite de l'autonomie en eau grâce à la récupération de l'eau de pluie, un aspect important de l'autosuffisance. Les mots-clés tels que 'autonomie', 'permaculture', 'autarcie', 'maison autonome' et la description de la chaîne comme étant dédiée à l'autonomie confirment cela.\"\n",
      "}\n",
      "```\n",
      "sleep for 1 min\n"
     ]
    },
    {
     "name": "stderr",
     "output_type": "stream",
     "text": [
      "  4%|▍         | 196/4504 [18:34<16:19:22, 13.64s/it]"
     ]
    },
    {
     "name": "stdout",
     "output_type": "stream",
     "text": [
      "mFqSuB8Vt40 /n ```json\n",
      "{\n",
      "  \"decision\": \"yes\",\n",
      "  \"justification\": \"La vidéo traite de l'autonomie en eau grâce à la récupération de l'eau de pluie, ce qui est un aspect important de l'autosuffisance. La description et les tags mentionnent explicitement l'autonomie, la permaculture et l'autosuffisance en eau.\"\n",
      "}\n",
      "```\n"
     ]
    },
    {
     "name": "stderr",
     "output_type": "stream",
     "text": [
      "  4%|▍         | 197/4504 [18:35<11:46:58,  9.85s/it]"
     ]
    },
    {
     "name": "stdout",
     "output_type": "stream",
     "text": [
      "Vai-581l-kc /n ```json\n",
      "{\n",
      "  \"decision\": \"yes\",\n",
      "  \"justification\": \"La vidéo traite de l'autonomie en eau, un élément essentiel de l'autosuffisance. La description mentionne l'importance de l'eau dans un projet d'autonomie et aborde la question de l'accès à l'eau potable, ce qui correspond à la thématique de l'autosuffisance.\"\n",
      "}\n",
      "```\n"
     ]
    },
    {
     "name": "stderr",
     "output_type": "stream",
     "text": [
      "  4%|▍         | 198/4504 [18:36<8:35:38,  7.19s/it] "
     ]
    },
    {
     "name": "stdout",
     "output_type": "stream",
     "text": [
      "4hPDZvKFRcs /n ```json\n",
      "{\n",
      "  \"decision\": \"yes\",\n",
      "  \"justification\": \"La vidéo traite de la fabrication d'un récupérateur d'eau de pluie autonome, ce qui contribue directement à l'autosuffisance en eau. Les tags incluent \\\"autonomie\\\", \\\"autosuffisance\\\", \\\"autonomie en eau\\\", \\\"récupération eau de pluie\\\", ce qui confirme que le sujet est bien lié à l'autosuffisance.\"\n",
      "}\n",
      "```\n"
     ]
    },
    {
     "name": "stderr",
     "output_type": "stream",
     "text": [
      "  4%|▍         | 199/4504 [18:37<6:24:07,  5.35s/it]"
     ]
    },
    {
     "name": "stdout",
     "output_type": "stream",
     "text": [
      "2gtwp02AiVE /n ```json\n",
      "{\n",
      "  \"decision\": \"yes\",\n",
      "  \"justification\": \"La vidéo décrit une installation autonome de collecte et de traitement de l'eau de pluie, ce qui contribue à l'autosuffisance en eau. Les métadonnées (titre, description, tags) mettent en évidence les aspects de collecte, filtration et autonomie en eau, directement liés à la capacité de subvenir à ses besoins fondamentaux par soi-même.\"\n",
      "}\n",
      "```\n"
     ]
    },
    {
     "name": "stderr",
     "output_type": "stream",
     "text": [
      "  4%|▍         | 200/4504 [18:38<4:48:31,  4.02s/it]"
     ]
    },
    {
     "name": "stdout",
     "output_type": "stream",
     "text": [
      "6Aty6FPBshY /n ```json\n",
      "{\n",
      "  \"decision\": \"yes\",\n",
      "  \"justification\": \"La vidéo traite de l'autonomie en eau, un besoin fondamental, et aborde la question de la potabilité de l'eau, un aspect crucial pour l'autosuffisance. Les tags incluent explicitement 'autonomie' et 'autosuffisance'.\"\n",
      "}\n",
      "```\n"
     ]
    },
    {
     "name": "stderr",
     "output_type": "stream",
     "text": [
      "  4%|▍         | 201/4504 [18:38<3:39:37,  3.06s/it]"
     ]
    },
    {
     "name": "stdout",
     "output_type": "stream",
     "text": [
      "SGslcr5UEwQ /n ```json\n",
      "{\n",
      "  \"decision\": \"true\",\n",
      "  \"justification\": \"Le titre de la vidéo contient le mot clé \\\"autonomie\\\" et la description indique qu'il s'agit de produire ses propres pommes de terre. Cela correspond à la définition de l'autosuffisance qui inclut la production de sa propre nourriture.\"\n",
      "}\n",
      "```\n"
     ]
    },
    {
     "name": "stderr",
     "output_type": "stream",
     "text": [
      "  4%|▍         | 202/4504 [18:40<3:04:25,  2.57s/it]"
     ]
    },
    {
     "name": "stdout",
     "output_type": "stream",
     "text": [
      "TZSkspDJgxA /n ```json\n",
      "{\n",
      "  \"decision\": \"true\",\n",
      "  \"justification\": \"La vidéo présente une expérience de culture de pommes de terre en sac, en comparant les résultats avec une culture en pleine terre. Bien que le terme \\\"autosuffisance\\\" ne soit pas explicitement mentionné, la culture de pommes de terre, un aliment de base, s'inscrit dans une démarche d'autonomie alimentaire et de production de sa propre nourriture, ce qui est un aspect important de l'autosuffisance.\"\n",
      "}\n",
      "```\n"
     ]
    },
    {
     "name": "stderr",
     "output_type": "stream",
     "text": [
      "  5%|▍         | 203/4504 [18:41<2:30:50,  2.10s/it]"
     ]
    },
    {
     "name": "stdout",
     "output_type": "stream",
     "text": [
      "55Z_usdxsoE /n ```json\n",
      "{\n",
      "  \"decision\": \"true\",\n",
      "  \"justification\": \"La vidéo décrit une expérience personnelle de culture de pommes de terre dans le but d'autosuffisance alimentaire. La description mentionne l'émancipation vers un parcours personnel orienté sur l'autosuffisance alimentaire, énergétique et financière. Bien que la récolte n'ait pas été optimale, elle s'inscrit clairement dans une démarche d'autosuffisance.\"\n",
      "}\n",
      "```\n"
     ]
    },
    {
     "name": "stderr",
     "output_type": "stream",
     "text": [
      "  5%|▍         | 204/4504 [18:42<2:04:29,  1.74s/it]"
     ]
    },
    {
     "name": "stdout",
     "output_type": "stream",
     "text": [
      "YcE0YlIMyCs /n ```json\n",
      "{\n",
      "  \"decision\": \"yes\",\n",
      "  \"justification\": \"La description de la vidéo mentionne clairement l'autosuffisance alimentaire et l'émancipation du système, ce qui correspond à la thématique de l'autosuffisance. De plus, le titre inclut le terme \\\"autonomie\\\", qui est étroitement lié à l'autosuffisance.\"\n",
      "}\n",
      "```\n"
     ]
    },
    {
     "name": "stderr",
     "output_type": "stream",
     "text": [
      "  5%|▍         | 205/4504 [18:42<1:43:54,  1.45s/it]"
     ]
    },
    {
     "name": "stdout",
     "output_type": "stream",
     "text": [
      "t14uEe-Hjh8 /n ```json\n",
      "{\n",
      "  \"decision\": \"true\",\n",
      "  \"justification\": \"Le titre et la description de la vidéo mentionnent clairement l'autonomie et l'autosuffisance alimentaire, ainsi que la culture de pommes de terre pour un potager, ce qui correspond à la définition de l'autosuffisance.\"\n",
      "}\n",
      "```\n"
     ]
    },
    {
     "name": "stderr",
     "output_type": "stream",
     "text": [
      "  5%|▍         | 206/4504 [18:44<1:36:32,  1.35s/it]"
     ]
    },
    {
     "name": "stdout",
     "output_type": "stream",
     "text": [
      "bIMjariydVA /n ```json\n",
      "{\n",
      "  \"decision\": \"yes\",\n",
      "  \"justification\": \"La vidéo traite de l'autosuffisance alimentaire au Burkina Faso, en mettant en avant une récolte record de pommes de terre et les efforts du pays pour atteindre l'indépendance agricole. Les mots clés comme \\\"AutosuffisanceAlimentaire\\\", \\\"Agriculture\\\", \\\"Développement\\\" et \\\"ProductionRecord\\\" confirment que le sujet principal est bien lié à l'autosuffisance.\"\n",
      "}\n",
      "```\n"
     ]
    },
    {
     "name": "stderr",
     "output_type": "stream",
     "text": [
      "  5%|▍         | 207/4504 [18:45<1:33:32,  1.31s/it]"
     ]
    },
    {
     "name": "stdout",
     "output_type": "stream",
     "text": [
      "OmT42WYsstU /n ```json\n",
      "{\n",
      "  \"decision\": \"no\",\n",
      "  \"justification\": \"La vidéo parle de réussite agricole et de techniques de culture pour la pomme de terre et l'aubergine, mais ne mentionne pas l'autosuffisance, l'autonomie ou la réduction de la dépendance au système économique et social extérieur. L'objectif principal semble être la prospérité financière grâce à l'agriculture, et non l'autosuffisance alimentaire.\"\n",
      "}\n",
      "```\n",
      "P9kotBU36XI /n ```json\n",
      "{\n",
      "  \"decision\": \"false\",\n",
      "  \"justification\": \"La vidéo décrit l'itinéraire technique d'un agriculteur bio pour implanter une culture après prairie sans labour. Bien que liée à l'agriculture biologique, elle se concentre sur des techniques agricoles spécifiques et ne traite pas directement de l'autosuffisance alimentaire ou de la réduction de la dépendance au système économique et social, qui sont des éléments centraux de la définition de l'autosuffisance.\"\n",
      "}\n",
      "```\n",
      "sleep for 1 min\n"
     ]
    },
    {
     "name": "stderr",
     "output_type": "stream",
     "text": [
      "  5%|▍         | 209/4504 [19:47<16:30:53, 13.84s/it]"
     ]
    },
    {
     "name": "stdout",
     "output_type": "stream",
     "text": [
      "IcHfSnYhoTs /n ```json\n",
      "{\n",
      "  \"decision\": \"yes\",\n",
      "  \"justification\": \"La vidéo décrit une technique de culture de pommes de terre sans travail du sol, ce qui contribue à l'autonomie alimentaire. De plus, la description et les tags mentionnent des termes liés à l'autosuffisance, l'autonomie, la permaculture, l'agroécologie et le potager, indiquant que le contenu de la vidéo est pertinent pour le sujet de l'autosuffisance.\"\n",
      "}\n",
      "```\n"
     ]
    },
    {
     "name": "stderr",
     "output_type": "stream",
     "text": [
      "  5%|▍         | 210/4504 [19:48<11:53:26,  9.97s/it]"
     ]
    },
    {
     "name": "stdout",
     "output_type": "stream",
     "text": [
      "De1X6ThCx9k /n ```json\n",
      "{\n",
      "  \"decision\": \"false\",\n",
      "  \"justification\": \"Le titre et la description de la vidéo sont trop vagues pour déterminer si elle traite de l'autosuffisance. L'expression \\\"Itinéraires techniques en détail\\\" ne permet pas d'affirmer que la vidéo aborde la production de nourriture ou d'autres aspects liés à l'autosuffisance.\"\n",
      "}\n",
      "```\n"
     ]
    },
    {
     "name": "stderr",
     "output_type": "stream",
     "text": [
      "  5%|▍         | 211/4504 [19:49<8:41:12,  7.28s/it] "
     ]
    },
    {
     "name": "stdout",
     "output_type": "stream",
     "text": [
      "RfuShOa10m0 /n ```json\n",
      "{\n",
      "  \"decision\": \"false\",\n",
      "  \"justification\": \"Bien que la vidéo traite de carottes primeurs cultivées sur compost, elle se concentre principalement sur les techniques agricoles et les itinéraires techniques spécifiques. Les métadonnées ne suggèrent pas un lien direct avec l'autosuffisance, l'autoconsommation ou la réduction de la dépendance au système économique extérieur, qui sont des éléments clés de la définition de l'autosuffisance.\"\n",
      "}\n",
      "```\n"
     ]
    },
    {
     "name": "stderr",
     "output_type": "stream",
     "text": [
      "  5%|▍         | 212/4504 [19:50<6:24:41,  5.38s/it]"
     ]
    },
    {
     "name": "stdout",
     "output_type": "stream",
     "text": [
      "UDK78cTg_lk /n ```json\n",
      "{\n",
      "  \"decision\": \"yes\",\n",
      "  \"justification\": \"La vidéo aborde l'autonomie en protéines dans une ferme biologique, un aspect important de l'autosuffisance alimentaire. Elle détaille les itinéraires techniques pour la production laitière bio, les rotations des cultures, et la ration du troupeau, ce qui relève directement de la thématique de l'autosuffisance.\"\n",
      "}\n",
      "```\n"
     ]
    },
    {
     "name": "stderr",
     "output_type": "stream",
     "text": [
      "  5%|▍         | 213/4504 [19:51<4:49:36,  4.05s/it]"
     ]
    },
    {
     "name": "stdout",
     "output_type": "stream",
     "text": [
      "NzoaJgzKWIU /n ```json\n",
      "{\n",
      "  \"decision\": \"false\",\n",
      "  \"justification\": \"La vidéo parle de la culture de papayes et de techniques agricoles innovantes, mais ne se concentre pas sur l'autosuffisance au sens de produire sa propre nourriture pour réduire la dépendance au système économique extérieur. Bien qu'elle mentionne une formation pour rendre les gens autonomes, le sujet principal reste la culture de papayes et les techniques agricoles.\"\n",
      "}\n",
      "```\n"
     ]
    },
    {
     "name": "stderr",
     "output_type": "stream",
     "text": [
      "  5%|▍         | 214/4504 [19:52<3:44:45,  3.14s/it]"
     ]
    },
    {
     "name": "stdout",
     "output_type": "stream",
     "text": [
      "s54awbl_G4s /n ```json\n",
      "{\n",
      "  \"decision\": \"no\",\n",
      "  \"justification\": \"Bien que la vidéo aborde des techniques agricoles alternatives et durables comme le maraîchage sol vivant, la permaculture et l'agroécologie, le sujet principal est la culture de pommes de terre nouvelles sous serre. L'autosuffisance n'est pas le thème central de la vidéo, mais plutôt un aspect possible de l'application de ces techniques agricoles.\"\n",
      "}\n",
      "```\n"
     ]
    },
    {
     "name": "stderr",
     "output_type": "stream",
     "text": [
      "  5%|▍         | 215/4504 [19:53<3:04:44,  2.58s/it]"
     ]
    },
    {
     "name": "stdout",
     "output_type": "stream",
     "text": [
      "vQhkwuEACEg /n ```json\n",
      "{\n",
      "  \"decision\": \"yes\",\n",
      "  \"justification\": \"La vidéo traite du maraîchage sur sol vivant, une technique agricole qui contribue à l'autonomie alimentaire. La description mentionne également des formations en permaculture et en itinéraires de cultures sur sol vivant, visant à accompagner les projets d'autonomie, y compris à l'échelle du jardin familial. De plus, le tag 'autonomie' est présent.\"\n",
      "}\n",
      "```\n"
     ]
    },
    {
     "name": "stderr",
     "output_type": "stream",
     "text": [
      "  5%|▍         | 216/4504 [19:54<2:32:51,  2.14s/it]"
     ]
    },
    {
     "name": "stdout",
     "output_type": "stream",
     "text": [
      "71OgP_082kE /n ```json\n",
      "{\n",
      "  \"decision\": \"true\",\n",
      "  \"justification\": \"La vidéo aborde clairement la thématique de l'autosuffisance alimentaire à travers le potager. Elle explique comment cultiver un potager même avec peu de temps disponible, l'importance du désherbage pour optimiser les cultures et la gestion des adventices. La description met en avant l'objectif d'autonomie alimentaire, ce qui correspond à la définition de l'autosuffisance.\"\n",
      "}\n",
      "```\n"
     ]
    },
    {
     "name": "stderr",
     "output_type": "stream",
     "text": [
      "  5%|▍         | 217/4504 [19:55<2:08:26,  1.80s/it]"
     ]
    },
    {
     "name": "stdout",
     "output_type": "stream",
     "text": [
      "b6jWmnORmwM /n ```json\n",
      "{\n",
      "  \"decision\": \"False\",\n",
      "  \"justification\": \"La vidéo traite de la sécheresse et de ses conséquences sur les éleveurs ovins, sans mention d'autonomie ou de tentative de résilience face à cette situation par des méthodes d'autosuffisance. Le sujet central est la difficulté économique rencontrée par l'éleveur à cause du coût du fourrage.\"\n",
      "}\n",
      "```\n"
     ]
    },
    {
     "name": "stderr",
     "output_type": "stream",
     "text": [
      "  5%|▍         | 218/4504 [19:56<1:51:04,  1.55s/it]"
     ]
    },
    {
     "name": "stdout",
     "output_type": "stream",
     "text": [
      "79UsXG2zUeA /n ```json\n",
      "{\n",
      "  \"decision\": \"yes\",\n",
      "  \"justification\": \"Le titre et la description de la vidéo mentionnent clairement l'autonomie, le choix du terrain, l'électricité, l'eau, l'habitat et la nourriture, tous des éléments clés de l'autosuffisance. Les tags incluent également le mot \\\"autonomie\\\" et \\\"forêt comestible\\\". La vidéo semble donc concerner la thématique de l'autosuffisance.\"\n",
      "}\n",
      "```\n"
     ]
    },
    {
     "name": "stderr",
     "output_type": "stream",
     "text": [
      "  5%|▍         | 219/4504 [19:58<1:47:32,  1.51s/it]"
     ]
    },
    {
     "name": "stdout",
     "output_type": "stream",
     "text": [
      "Xh88OaKYNUs /n ```json\n",
      "{\n",
      "  \"decision\": \"yes\",\n",
      "  \"justification\": \"La vidéo aborde la gestion de la sécheresse dans le cadre d'un stage de permaculture. La permaculture est une approche de conception de systèmes agricoles et humains durables et autonomes, étroitement liée à l'autosuffisance. De plus, les tags incluent des termes comme \\\"Autonomie\\\", \\\"Permaculture\\\", \\\"jardin\\\", \\\"écologie\\\", \\\"solvivant\\\", \\\"maraichage\\\", \\\"legumes\\\", \\\"sécheresse\\\", qui sont tous pertinents pour le concept d'autosuffisance.\"\n",
      "}\n",
      "```\n"
     ]
    },
    {
     "name": "stderr",
     "output_type": "stream",
     "text": [
      "  5%|▍         | 220/4504 [19:59<1:39:56,  1.40s/it]"
     ]
    },
    {
     "name": "stdout",
     "output_type": "stream",
     "text": [
      "leiUG5re4m8 /n ```json\n",
      "{\n",
      "  \"decision\": \"oui\",\n",
      "  \"justification\": \"Bien que la vidéo traite de la sécurité alimentaire au Zimbabwe et non directement de l'autosuffisance, elle mentionne des formations aux techniques de conservation agricole pour augmenter la production de maïs par les petits producteurs. Cette démarche peut être considérée comme un pas vers une plus grande autosuffisance alimentaire au niveau local, car elle vise à réduire la dépendance à l'aide extérieure en cas de sécheresse.\"\n",
      "}\n",
      "```\n",
      "n1Y8x-DM6DI /n ```json\n",
      "{\n",
      "  \"decision\": \"yes\",\n",
      "  \"justification\": \"La vidéo semble traiter de l'autosuffisance car le titre contient le mot \\\"autonomie\\\" ainsi que les termes \\\"permaculture\\\" et \\\"potager\\\", qui sont souvent liés à ce concept.\"\n",
      "}\n",
      "```\n",
      "sleep for 1 min\n"
     ]
    },
    {
     "name": "stderr",
     "output_type": "stream",
     "text": [
      "  5%|▍         | 222/4504 [21:01<16:24:00, 13.79s/it]"
     ]
    },
    {
     "name": "stdout",
     "output_type": "stream",
     "text": [
      "EWNjhLPss8o /n ```json\n",
      "{\n",
      "  \"decision\": \"false\",\n",
      "  \"justification\": \"La vidéo traite de la culture du maïs et de la gestion de la sécheresse, mais elle ne mentionne pas l'autosuffisance. Elle s'adresse aux agriculteurs et aux techniciens, et vise à améliorer la production de maïs dans un contexte de changement climatique, mais pas nécessairement pour l'autoconsommation ou la réduction de la dépendance au système économique.\"\n",
      "}\n",
      "```\n"
     ]
    },
    {
     "name": "stderr",
     "output_type": "stream",
     "text": [
      "  5%|▍         | 223/4504 [21:02<11:50:56,  9.96s/it]"
     ]
    },
    {
     "name": "stdout",
     "output_type": "stream",
     "text": [
      "cbdk2qmFMI4 /n ```json\n",
      "{\n",
      "  \"decision\": \"yes\",\n",
      "  \"justification\": \"La vidéo traite de la fabrication de lessive à partir de cendres, une pratique qui s'inscrit dans une démarche d'autonomie et de réduction de la dépendance aux produits industriels, ce qui est un aspect de l'autosuffisance. De plus, la description et les tags mentionnent explicitement l'autosuffisance et des termes associés.\"\n",
      "}\n",
      "```\n"
     ]
    },
    {
     "name": "stderr",
     "output_type": "stream",
     "text": [
      "  5%|▍         | 224/4504 [21:03<8:37:15,  7.25s/it] "
     ]
    },
    {
     "name": "stdout",
     "output_type": "stream",
     "text": [
      "FCv7HDlaqSA /n ```json\n",
      "{\n",
      "  \"decision\": \"yes\",\n",
      "  \"justification\": \"La vidéo concerne la fabrication de lessive de cendre, ce qui correspond à un besoin de base (hygiène) et s'inscrit dans une démarche d'autonomie et de réduction de la dépendance au système économique extérieur. Les tags confirment également cette thématique (autosuffisance, DIY, zéro déchet, etc.).\"\n",
      "}\n",
      "```\n"
     ]
    },
    {
     "name": "stderr",
     "output_type": "stream",
     "text": [
      "  5%|▍         | 225/4504 [21:04<6:25:29,  5.41s/it]"
     ]
    },
    {
     "name": "stdout",
     "output_type": "stream",
     "text": [
      "i_N4H4t0aFg /n ```json\n",
      "{\n",
      "  \"decision\": \"false\",\n",
      "  \"justification\": \"La vidéo parle de l'utilisation de la cendre de bois au potager. Bien que le potager puisse être un élément de l'autosuffisance alimentaire, la vidéo ne traite pas directement de l'autosuffisance en général. Elle se concentre sur une technique de jardinage spécifique.\"\n",
      "}\n",
      "```\n"
     ]
    },
    {
     "name": "stderr",
     "output_type": "stream",
     "text": [
      "  5%|▌         | 226/4504 [21:05<4:50:03,  4.07s/it]"
     ]
    },
    {
     "name": "stdout",
     "output_type": "stream",
     "text": [
      "74FhjUmo6Og /n ```json\n",
      "{\n",
      "  \"decision\": \"true\",\n",
      "  \"justification\": \"La vidéo explique comment fabriquer de la lessive de cendre, ce qui contribue à l'autonomie en réduisant la dépendance aux produits de lessive commerciaux. Le titre et la description mentionnent clairement l'autonomie et le tutoriel explique un processus pour fabriquer un produit de base soi-même.\"\n",
      "}\n",
      "```\n"
     ]
    },
    {
     "name": "stderr",
     "output_type": "stream",
     "text": [
      "  5%|▌         | 227/4504 [21:06<3:43:37,  3.14s/it]"
     ]
    },
    {
     "name": "stdout",
     "output_type": "stream",
     "text": [
      "jhs5BvrlT88 /n ```json\n",
      "{\n",
      "  \"decision\": \"false\",\n",
      "  \"justification\": \"La vidéo traite de la lessive à la cendre, un produit d'entretien ménager. Bien que cela puisse s'inscrire dans une démarche de réduction des déchets et d'autonomie en matière de produits ménagers, cela ne correspond pas directement à la définition de l'autosuffisance alimentaire ou à la production de ses propres ressources de manière générale.\"\n",
      "}\n",
      "```\n"
     ]
    },
    {
     "name": "stderr",
     "output_type": "stream",
     "text": [
      "  5%|▌         | 228/4504 [21:07<2:59:16,  2.52s/it]"
     ]
    },
    {
     "name": "stdout",
     "output_type": "stream",
     "text": [
      "ARI6J4PQ74c /n ```json\n",
      "{\n",
      "  \"decision\": \"yes\",\n",
      "  \"justification\": \"La vidéo traite des méthodes de conservation des aliments utilisées par les Amish sans électricité, ce qui est directement lié à l'autosuffisance et à la réduction de la dépendance aux systèmes modernes. Les tags incluent \\\"autosuffisance\\\", \\\"durabilité\\\", \\\"méthodes traditionnelles\\\", et la description mentionne comment ces pratiques peuvent influencer nos vies modernes et apporter une touche d'autosuffisance.\"\n",
      "}\n",
      "```\n"
     ]
    },
    {
     "name": "stderr",
     "output_type": "stream",
     "text": [
      "  5%|▌         | 229/4504 [21:08<2:24:49,  2.03s/it]"
     ]
    },
    {
     "name": "stdout",
     "output_type": "stream",
     "text": [
      "3Bejohn3D2c /n ```json\n",
      "{\n",
      "  \"decision\": \"true\",\n",
      "  \"justification\": \"La vidéo explique comment fabriquer sa propre lessive à partir de cendre, ce qui correspond à une démarche d'autonomie et de réduction de la dépendance au système économique extérieur. Les tags et la description confirment l'orientation vers l'autosuffisance et le \\\"faire soi-même\\\".\"\n",
      "}\n",
      "```\n"
     ]
    },
    {
     "name": "stderr",
     "output_type": "stream",
     "text": [
      "  5%|▌         | 230/4504 [21:09<2:01:48,  1.71s/it]"
     ]
    },
    {
     "name": "stdout",
     "output_type": "stream",
     "text": [
      "xBRhefx1qOc /n ```json\n",
      "{\n",
      "  \"decision\": \"yes\",\n",
      "  \"justification\": \"La vidéo explique comment fabriquer sa propre lessive à la cendre, ce qui est une forme d'autonomie et de réduction de la dépendance au système économique extérieur. Cela correspond à la définition de l'autosuffisance, notamment en réduisant les dépenses et en produisant ses propres biens de consommation.\"\n",
      "}\n",
      "```\n"
     ]
    },
    {
     "name": "stderr",
     "output_type": "stream",
     "text": [
      "  5%|▌         | 231/4504 [21:09<1:41:01,  1.42s/it]"
     ]
    },
    {
     "name": "stdout",
     "output_type": "stream",
     "text": [
      "ZYI5bSJK1tU /n ```json\n",
      "{\n",
      "  \"decision\": \"yes\",\n",
      "  \"justification\": \"Le titre de la vidéo mentionne directement le terme \\\"Autosuffisance\\\", ce qui indique clairement que le contenu est lié à cette thématique.\"\n",
      "}\n",
      "```\n"
     ]
    },
    {
     "name": "stderr",
     "output_type": "stream",
     "text": [
      "  5%|▌         | 232/4504 [21:11<1:40:31,  1.41s/it]"
     ]
    },
    {
     "name": "stdout",
     "output_type": "stream",
     "text": [
      "NHLH58L6VYA /n ```json\n",
      "{\n",
      "  \"decision\": \"false\",\n",
      "  \"justification\": \"La vidéo aborde la sécurité alimentaire et le réchauffement climatique, mais ne traite pas directement de l'autosuffisance comme la capacité de subvenir à ses besoins alimentaires par l'autoconsommation. Elle se concentre sur les défis globaux de nourrir la population mondiale tout en atténuant le changement climatique.\"\n",
      "}\n",
      "```\n"
     ]
    },
    {
     "name": "stderr",
     "output_type": "stream",
     "text": [
      "  5%|▌         | 233/4504 [21:12<1:33:31,  1.31s/it]"
     ]
    },
    {
     "name": "stdout",
     "output_type": "stream",
     "text": [
      "G8opfBP1rg8 /n ```json\n",
      "{\n",
      "  \"decision\": \"false\",\n",
      "  \"justification\": \"La vidéo traite de l'adaptation de l'agriculture au changement climatique en Afrique. Bien que cela puisse indirectement influencer l'autosuffisance alimentaire, le sujet principal n'est pas centré sur les pratiques et les méthodes pour atteindre l'autosuffisance au niveau individuel ou familial. Les métadonnées mettent l'accent sur les aspects économiques, environnementaux et les politiques liées à l'agriculture face au changement climatique.\"\n",
      "}\n",
      "```\n",
      "iCDYAunYQFA /n ```json\n",
      "{\n",
      "  \"decision\": \"false\",\n",
      "  \"justification\": \"La vidéo traite du réchauffement climatique et des mesures pour le limiter. Bien que cela puisse avoir un impact indirect sur l'autosuffisance (en rendant certaines pratiques plus difficiles ou en nécessitant des adaptations), le sujet principal n'est pas l'autosuffisance elle-même.\"\n",
      "}\n",
      "```\n",
      "sleep for 1 min\n"
     ]
    },
    {
     "name": "stderr",
     "output_type": "stream",
     "text": [
      "  5%|▌         | 235/4504 [22:14<16:24:55, 13.84s/it]"
     ]
    },
    {
     "name": "stdout",
     "output_type": "stream",
     "text": [
      "yvRSd9A3GGM /n ```json\n",
      "{\n",
      "  \"decision\": \"yes\",\n",
      "  \"justification\": \"Le titre et la description de la vidéo mentionnent explicitement l'autosuffisance alimentaire et les défis associés, ce qui correspond à la thématique de l'autosuffisance. Les tags comme \\\"alimentationdufutur\\\" et \\\"DéfiClimatique\\\" renforcent cette pertinence en liant l'autosuffisance aux enjeux actuels.\"\n",
      "}\n",
      "```\n"
     ]
    },
    {
     "name": "stderr",
     "output_type": "stream",
     "text": [
      "  5%|▌         | 236/4504 [22:15<11:53:06, 10.02s/it]"
     ]
    },
    {
     "name": "stdout",
     "output_type": "stream",
     "text": [
      "EICl50Aj8ro /n ```json\n",
      "{\n",
      "  \"decision\": \"yes\",\n",
      "  \"justification\": \"La description de la chaîne indique clairement qu'elle est dédiée à l'autosuffisance. De plus, les tags incluent des termes comme 'autonomie', 'permaculture', 'potager', 'résilience', et 'vivre à la campagne', qui sont tous liés à la thématique de l'autosuffisance. Le titre de la vidéo mentionne un jardin nourricier face au réchauffement climatique, ce qui s'inscrit dans la démarche d'autosuffisance alimentaire.\"\n",
      "}\n",
      "```\n"
     ]
    },
    {
     "name": "stderr",
     "output_type": "stream",
     "text": [
      "  5%|▌         | 237/4504 [22:16<8:35:46,  7.25s/it] "
     ]
    },
    {
     "name": "stdout",
     "output_type": "stream",
     "text": [
      "gq4PzMtTGxA /n ```json\n",
      "{\n",
      "  \"decision\": \"yes\",\n",
      "  \"justification\": \"Le titre et la description de la vidéo mentionnent explicitement l'autosuffisance alimentaire et l'élevage de lapins, ce qui correspond à la thématique de l'autosuffisance définie.\"\n",
      "}\n",
      "```\n"
     ]
    },
    {
     "name": "stderr",
     "output_type": "stream",
     "text": [
      "  5%|▌         | 238/4504 [22:17<6:23:31,  5.39s/it]"
     ]
    },
    {
     "name": "stdout",
     "output_type": "stream",
     "text": [
      "u0xKDWXbFvY /n ```json\n",
      "{\n",
      "  \"decision\": \"yes\",\n",
      "  \"justification\": \"Le titre de la vidéo \\\"VIVRE SANS ARGENT ? (les premiers pas vers l'autosuffisance)\\\" et les tags incluent explicitement les termes \\\"autosuffisance\\\", \\\"autonomie\\\", et \\\"vivre sans argent\\\", qui sont directement liés à la thématique de l'autosuffisance. La description contient des liens vers des livres sur le sujet, ce qui confirme l'orientation de la vidéo vers cette thématique.\"\n",
      "}\n",
      "```\n"
     ]
    },
    {
     "name": "stderr",
     "output_type": "stream",
     "text": [
      "  5%|▌         | 239/4504 [22:18<4:50:14,  4.08s/it]"
     ]
    },
    {
     "name": "stdout",
     "output_type": "stream",
     "text": [
      "g-agU2r3JWY /n ```json\n",
      "{\n",
      "  \"decision\": \"yes\",\n",
      "  \"justification\": \"Le lombricompostage est une méthode de compostage qui utilise des vers pour décomposer la matière organique. Il s'agit d'une pratique durable et écologique qui peut être utilisée pour améliorer la qualité du sol et réduire les déchets. Le lombricompost peut être utilisé pour fertiliser les jardins et les potagers, ce qui contribue à l'autosuffisance alimentaire.\"\n",
      "}\n",
      "```\n"
     ]
    },
    {
     "name": "stderr",
     "output_type": "stream",
     "text": [
      "  5%|▌         | 240/4504 [22:19<3:50:38,  3.25s/it]"
     ]
    },
    {
     "name": "stdout",
     "output_type": "stream",
     "text": [
      "TzUawmn80XA /n ```json\n",
      "{\n",
      "  \"decision\": \"yes\",\n",
      "  \"justification\": \"La vidéo présente une jardinière d'intérieur avec lombricompost, un système qui permet de cultiver des plantes de manière autonome en utilisant les déchets organiques. Les tags incluent des termes comme \\\"jardiniere autonome\\\", \\\"lombricompost\\\", \\\"conseil compost\\\", suggérant que la vidéo aborde un aspect de l'autosuffisance alimentaire, même à petite échelle.\"\n",
      "}\n",
      "```\n"
     ]
    },
    {
     "name": "stderr",
     "output_type": "stream",
     "text": [
      "  5%|▌         | 241/4504 [22:21<3:04:21,  2.59s/it]"
     ]
    },
    {
     "name": "stdout",
     "output_type": "stream",
     "text": [
      "mh5g8rDQwzU /n ```json\n",
      "{\n",
      "  \"decision\": \"true\",\n",
      "  \"justification\": \"La vidéo traite de l'autonomie en compost, un élément essentiel pour l'autosuffisance au jardin. La description mentionne clairement l'objectif de devenir autonome en compost en utilisant les ressources du jardin, ce qui correspond à la définition de l'autosuffisance.\"\n",
      "}\n",
      "```\n"
     ]
    },
    {
     "name": "stderr",
     "output_type": "stream",
     "text": [
      "  5%|▌         | 242/4504 [22:22<2:32:57,  2.15s/it]"
     ]
    },
    {
     "name": "stdout",
     "output_type": "stream",
     "text": [
      "M4IGy_aWug8 /n ```json\n",
      "{\n",
      "  \"decision\": \"yes\",\n",
      "  \"justification\": \"La vidéo concerne le lombricompostage, une méthode pour créer son propre engrais naturel. Cette pratique est liée à l'autonomie alimentaire et à la réduction de la dépendance au système économique extérieur en produisant ses propres ressources pour le jardinage, contribuant ainsi à l'autosuffisance. La description mentionne également un projet de vie vers l'autonomie, l'alimentation, le zéro déchet et la construction d'un earthship, tous des thèmes liés à l'autosuffisance.\"\n",
      "}\n",
      "```\n"
     ]
    },
    {
     "name": "stderr",
     "output_type": "stream",
     "text": [
      "  5%|▌         | 243/4504 [22:23<2:06:13,  1.78s/it]"
     ]
    },
    {
     "name": "stdout",
     "output_type": "stream",
     "text": [
      "TeCJ4s_9Gts /n ```json\n",
      "{\n",
      "  \"decision\": \"yes\",\n",
      "  \"justification\": \"La vidéo concerne le compostage, une technique essentielle pour l'autonomie au jardin et la production de terreau pour les semis. Les tags incluent \\\"autonomie\\\", \\\"potager\\\", et \\\"viealacampagne\\\", ce qui indique clairement un lien avec la thématique de l'autosuffisance.\"\n",
      "}\n",
      "```\n"
     ]
    },
    {
     "name": "stderr",
     "output_type": "stream",
     "text": [
      "  5%|▌         | 244/4504 [22:24<1:50:31,  1.56s/it]"
     ]
    },
    {
     "name": "stdout",
     "output_type": "stream",
     "text": [
      "hXQfRPOpXbY /n ```json\n",
      "{\n",
      "  \"decision\": \"true\",\n",
      "  \"justification\": \"La description de la vidéo mentionne un livre intitulé \\\"mon-potager-autosuffisant-en-2-heures-par-semaine\\\". De plus, les tags incluent \\\"potager\\\" et \\\"jardin potager\\\", ce qui indique un lien avec la production alimentaire personnelle, un aspect central de l'autosuffisance.\"\n",
      "}\n",
      "```\n"
     ]
    },
    {
     "name": "stderr",
     "output_type": "stream",
     "text": [
      "  5%|▌         | 245/4504 [22:25<1:38:07,  1.38s/it]"
     ]
    },
    {
     "name": "stdout",
     "output_type": "stream",
     "text": [
      "S5l6mCU8xL4 /n ```json\n",
      "{\n",
      "  \"decision\": \"true\",\n",
      "  \"justification\": \"Bien que la vidéo se concentre sur la rentabilité de la culture de courgettes, la description mentionne explicitement la participation à l'autosuffisance alimentaire. L'objectif de fournir des techniques agricoles accessibles et rentables s'aligne avec la réduction de la dépendance au système économique extérieur, un aspect clé de l'autosuffisance.\"\n",
      "}\n",
      "```\n"
     ]
    },
    {
     "name": "stderr",
     "output_type": "stream",
     "text": [
      "  5%|▌         | 246/4504 [22:26<1:37:02,  1.37s/it]"
     ]
    },
    {
     "name": "stdout",
     "output_type": "stream",
     "text": [
      "MuFOH6Rtm1Y /n ```json\n",
      "{\n",
      "  \"decision\": \"yes\",\n",
      "  \"justification\": \"La vidéo traite de la culture de courgettes au potager familial, en mettant l'accent sur les méthodes naturelles et locales. Bien que le terme \\\"autosuffisance\\\" ne soit pas explicitement mentionné, la culture de légumes pour la consommation personnelle est un aspect important de l'autosuffisance alimentaire. De plus, la description met en avant une approche \\\"plus que bio\\\", ce qui est cohérent avec les pratiques privilégiées dans une démarche d'autosuffisance.\"\n",
      "}\n",
      "```\n",
      "C2FACGzIJ3c /n ```json\n",
      "{\n",
      "  \"decision\": \"true\",\n",
      "  \"justification\": \"La vidéo traite de l'autonomie alimentaire en présentant la courge de Siam comme une plante indispensable pour augmenter son autonomie alimentaire grâce à sa facilité de culture et son long temps de conservation. La description contient les mots-clés \\\"autonomie alimentaire\\\" et \\\"permaculture\\\" qui sont des indicateurs forts de la thématique.\"\n",
      "}\n",
      "```\n",
      "sleep for 1 min\n"
     ]
    },
    {
     "name": "stderr",
     "output_type": "stream",
     "text": [
      "  6%|▌         | 248/4504 [23:28<16:19:43, 13.81s/it]"
     ]
    },
    {
     "name": "stdout",
     "output_type": "stream",
     "text": [
      "CW65LazOX5s /n ```json\n",
      "{\n",
      "  \"decision\": \"yes\",\n",
      "  \"justification\": \"Bien que la vidéo soit principalement axée sur une recette de cuisine, la description inclut le hashtag \\\"#autonomie\\\", et mentionne que la recette utilise des légumes de saison provenant du potager. Cela suggère un lien, même indirect, avec la thématique de l'autosuffisance alimentaire, notamment par l'utilisation de produits locaux et de saison.\"\n",
      "}\n",
      "```\n"
     ]
    },
    {
     "name": "stderr",
     "output_type": "stream",
     "text": [
      "  6%|▌         | 249/4504 [23:29<11:47:46,  9.98s/it]"
     ]
    },
    {
     "name": "stdout",
     "output_type": "stream",
     "text": [
      "kxQhRwgf2u4 /n ```json\n",
      "{\n",
      "  \"decision\": \"yes\",\n",
      "  \"justification\": \"La vidéo aborde la permaculture, l'autonomie et propose une recette de cuisine à base de courgettes du jardin. Les tags incluent des termes pertinents comme 'permaculture', 'agroforesterie', 'autonomie', 'jardin', 'potager', 'recette', 'cuisine'.\"\n",
      "}\n",
      "```\n"
     ]
    },
    {
     "name": "stderr",
     "output_type": "stream",
     "text": [
      "  6%|▌         | 250/4504 [23:30<8:38:07,  7.31s/it] "
     ]
    },
    {
     "name": "stdout",
     "output_type": "stream",
     "text": [
      "9uGmCSXJYgk /n ```json\n",
      "{\n",
      "  \"decision\": \"oui\",\n",
      "  \"justification\": \"Bien que la vidéo ne parle pas directement d'autosuffisance, elle aborde un aspect essentiel pour atteindre l'autonomie alimentaire, à savoir la gestion de l'azote dans le sol. La description mentionne \\\"Faim Fixation et Autonomie en Azote\\\", ce qui indique un lien direct avec la capacité à produire sa propre nourriture de manière autonome.\"\n",
      "}\n",
      "```\n"
     ]
    },
    {
     "name": "stderr",
     "output_type": "stream",
     "text": [
      "  6%|▌         | 251/4504 [23:31<6:24:55,  5.43s/it]"
     ]
    },
    {
     "name": "stdout",
     "output_type": "stream",
     "text": [
      "FQ21tjyIOeo /n ```json\n",
      "{\n",
      "  \"decision\": \"false\",\n",
      "  \"justification\": \"La vidéo traite de l'autonomie en azote dans les systèmes céréaliers biologiques. Bien que cela puisse contribuer à une agriculture plus durable, le sujet principal n'est pas directement lié à l'autosuffisance alimentaire ou à la réduction de la dépendance au système économique et social extérieur, mais plutôt à l'optimisation des pratiques agricoles biologiques.\"\n",
      "}\n",
      "```\n"
     ]
    },
    {
     "name": "stderr",
     "output_type": "stream",
     "text": [
      "  6%|▌         | 252/4504 [23:33<4:57:53,  4.20s/it]"
     ]
    },
    {
     "name": "stdout",
     "output_type": "stream",
     "text": [
      "fIvSQsHKEHE /n ```json\n",
      "{\n",
      "  \"decision\": \"true\",\n",
      "  \"justification\": \"Bien que le titre soit centré sur le paillage, la description et les tags incluent des termes clés liés à l'autosuffisance comme 'Autonomie', 'jardin', 'potager', 'cultiver', 'Permaculture', suggérant que la vidéo aborde des aspects pertinents pour les personnes intéressées par l'autosuffisance alimentaire et la culture de son propre jardin.\"\n",
      "}\n",
      "```\n"
     ]
    },
    {
     "name": "stderr",
     "output_type": "stream",
     "text": [
      "  6%|▌         | 253/4504 [23:34<3:57:23,  3.35s/it]"
     ]
    },
    {
     "name": "stdout",
     "output_type": "stream",
     "text": [
      "6ZDmDWITp9I /n ```json\n",
      "{\n",
      "  \"decision\": \"false\",\n",
      "  \"justification\": \"La vidéo aborde la question de l'optimisation des apports azotés dans les systèmes agricoles pour réduire les pertes dans l'air. Bien que cela puisse avoir un impact indirect sur l'environnement et potentiellement sur la durabilité des pratiques agricoles, le sujet principal n'est pas directement lié à l'autosuffisance alimentaire ou à la réduction de la dépendance au système économique et social extérieur, qui sont les éléments centraux de la définition de l'autosuffisance.\"\n",
      "}\n",
      "```\n"
     ]
    },
    {
     "name": "stderr",
     "output_type": "stream",
     "text": [
      "  6%|▌         | 254/4504 [23:35<3:07:06,  2.64s/it]"
     ]
    },
    {
     "name": "stdout",
     "output_type": "stream",
     "text": [
      "heOuHHI_C4I /n ```json\n",
      "{\n",
      "  \"decision\": \"False\",\n",
      "  \"justification\": \"La vidéo porte sur la gestion de l'azote en agriculture biologique, ce qui est un aspect de l'agriculture durable mais ne se concentre pas directement sur l'autosuffisance, qui implique de subvenir à ses besoins alimentaires par sa propre production. Bien que l'agriculture biologique puisse contribuer à l'autosuffisance, ce n'est pas le sujet principal de cette vidéo.\"\n",
      "}\n",
      "```\n"
     ]
    },
    {
     "name": "stderr",
     "output_type": "stream",
     "text": [
      "  6%|▌         | 255/4504 [23:36<2:32:51,  2.16s/it]"
     ]
    },
    {
     "name": "stdout",
     "output_type": "stream",
     "text": [
      "5iNpvA7uwg4 /n ```json\n",
      "{\n",
      "  \"decision\": \"false\",\n",
      "  \"justification\": \"La vidéo porte sur le compostage et l'équilibre carbone/azote, ce qui est lié à la gestion des déchets organiques pour le jardinage. Bien que cela puisse contribuer à l'autosuffisance alimentaire en améliorant la qualité du sol pour la culture, le sujet principal n'est pas directement l'autosuffisance elle-même (production de nourriture, autonomie matérielle, etc.).\"\n",
      "}\n",
      "```\n"
     ]
    },
    {
     "name": "stderr",
     "output_type": "stream",
     "text": [
      "  6%|▌         | 256/4504 [23:37<2:13:29,  1.89s/it]"
     ]
    },
    {
     "name": "stdout",
     "output_type": "stream",
     "text": [
      "OSLSlojC8Yc /n ```json\n",
      "{\n",
      "  \"decision\": \"false\",\n",
      "  \"justification\": \"La vidéo traite de l'azote, du rapport C/N et de la faim d'azote dans le contexte du jardinage et du potager. Bien que ces éléments soient importants pour la culture de plantes et pourraient indirectement contribuer à l'autosuffisance alimentaire, le sujet principal de la vidéo ne porte pas directement sur les pratiques et les stratégies d'autosuffisance telles que la production, la récolte et la conservation de sa propre nourriture, ni sur la réduction de la dépendance au système économique extérieur.\"\n",
      "}\n",
      "```\n"
     ]
    },
    {
     "name": "stderr",
     "output_type": "stream",
     "text": [
      "  6%|▌         | 257/4504 [23:38<1:57:25,  1.66s/it]"
     ]
    },
    {
     "name": "stdout",
     "output_type": "stream",
     "text": [
      "z-uIawE6UTE /n ```json\n",
      "{\n",
      "  \"decision\": \"false\",\n",
      "  \"justification\": \"La vidéo traite de l'utilisation du marc de café au jardin, en expliquant ses avantages et inconvénients. Bien que le jardinage puisse être une composante de l'autosuffisance alimentaire, cette vidéo spécifique ne se concentre pas sur l'autosuffisance elle-même. Elle aborde un aspect particulier du jardinage sans viser l'autonomie alimentaire complète.\"\n",
      "}\n",
      "```\n"
     ]
    },
    {
     "name": "stderr",
     "output_type": "stream",
     "text": [
      "  6%|▌         | 258/4504 [23:39<1:39:23,  1.40s/it]"
     ]
    },
    {
     "name": "stdout",
     "output_type": "stream",
     "text": [
      "i2TsSh3-yLU /n ```json\n",
      "{\n",
      "  \"decision\": \"oui\",\n",
      "  \"justification\": \"La vidéo explique comment cultiver des champignons sur du marc de café. La culture de champignons peut contribuer à l'autosuffisance alimentaire, car elle permet de produire sa propre nourriture.\"\n",
      "}\n",
      "```\n"
     ]
    },
    {
     "name": "stderr",
     "output_type": "stream",
     "text": [
      "  6%|▌         | 259/4504 [23:40<1:32:30,  1.31s/it]"
     ]
    },
    {
     "name": "stdout",
     "output_type": "stream",
     "text": [
      "HetQbwCA5ys /n ```json\n",
      "{\n",
      "  \"decision\": \"true\",\n",
      "  \"justification\": \"La vidéo traite de l'utilisation du marc de café au potager, un sujet lié à la culture de légumes et à l'amélioration du sol, ce qui entre dans le domaine de l'autosuffisance alimentaire. Les tags incluent \\\"autonomie\\\" et \\\"potager\\\", confirmant la pertinence du sujet.\"\n",
      "}\n",
      "```\n",
      "meeLkuHoswI /n ```json\n",
      "{\n",
      "  \"decision\": \"oui\",\n",
      "  \"justification\": \"La vidéo traite de l'utilisation du marc de café au jardin, ce qui est lié à la production de nourriture et donc à l'autosuffisance alimentaire.\"\n",
      "}\n",
      "```\n",
      "sleep for 1 min\n"
     ]
    },
    {
     "name": "stderr",
     "output_type": "stream",
     "text": [
      "  6%|▌         | 261/4504 [24:42<16:13:22, 13.76s/it]"
     ]
    },
    {
     "name": "stdout",
     "output_type": "stream",
     "text": [
      "SvaITbil4vQ /n ```json\n",
      "{\n",
      "  \"decision\": \"true\",\n",
      "  \"justification\": \"La vidéo concerne le potager et donne des astuces pour optimiser la culture de légumes, en utilisant des éléments naturels comme le marc de café et la cendre de bois. Bien que le terme \\\"autosuffisance\\\" ne soit pas explicitement mentionné, l'optimisation du potager et l'utilisation de méthodes naturelles contribuent à une plus grande autonomie alimentaire.\"\n",
      "}\n",
      "```\n"
     ]
    },
    {
     "name": "stderr",
     "output_type": "stream",
     "text": [
      "  6%|▌         | 262/4504 [24:43<11:49:22, 10.03s/it]"
     ]
    },
    {
     "name": "stdout",
     "output_type": "stream",
     "text": [
      "68YnJLnHDuU /n ```json\n",
      "{\n",
      "  \"decision\": \"yes\",\n",
      "  \"justification\": \"La vidéo montre un essai de culture de pleurotes sur du marc de café, ce qui est une forme d'autoconsommation alimentaire et de valorisation des déchets organiques. Cela s'inscrit dans une démarche d'autonomie matérielle et de réduction de la dépendance au système économique extérieur, en produisant sa propre nourriture.\"\n",
      "}\n",
      "```\n"
     ]
    },
    {
     "name": "stderr",
     "output_type": "stream",
     "text": [
      "  6%|▌         | 263/4504 [24:46<8:59:38,  7.63s/it] "
     ]
    },
    {
     "name": "stdout",
     "output_type": "stream",
     "text": [
      "iFMG2f2-BNs /n ```json\n",
      "{\n",
      "  \"decision\": \"true\",\n",
      "  \"justification\": \"La vidéo traite de la fabrication de terreau et d'engrais à partir de marc de café pour le potager, en utilisant les principes de la permaculture urbaine. Cela s'inscrit dans une démarche d'autonomie et de valorisation des ressources locales pour la production alimentaire.\"\n",
      "}\n",
      "```\n"
     ]
    },
    {
     "name": "stderr",
     "output_type": "stream",
     "text": [
      "  6%|▌         | 264/4504 [24:47<6:40:09,  5.66s/it]"
     ]
    },
    {
     "name": "stdout",
     "output_type": "stream",
     "text": [
      "HQwNWuC5k-A /n ```json\n",
      "{\n",
      "  \"decision\": \"yes\",\n",
      "  \"justification\": \"La vidéo présente un tutoriel sur la culture de pleurotes en utilisant du marc de café et des copeaux de bois, ce qui correspond à une forme d'autoconsommation alimentaire et de valorisation des déchets, s'inscrivant dans une démarche d'autonomie matérielle et de réduction de la dépendance au système économique extérieur.\"\n",
      "}\n",
      "```\n"
     ]
    },
    {
     "name": "stderr",
     "output_type": "stream",
     "text": [
      "  6%|▌         | 265/4504 [24:48<5:00:48,  4.26s/it]"
     ]
    },
    {
     "name": "stdout",
     "output_type": "stream",
     "text": [
      "zakYfUoo7fg /n ```json\n",
      "{\n",
      "  \"decision\": \"false\",\n",
      "  \"justification\": \"La vidéo porte sur la collecte des biodéchets en entreprise et l'économie circulaire, mais ne traite pas directement de l'autosuffisance alimentaire ou de la réduction de la dépendance au système économique et social extérieur. L'objectif principal semble être l'engagement écologique en entreprise.\"\n",
      "}\n",
      "```\n"
     ]
    },
    {
     "name": "stderr",
     "output_type": "stream",
     "text": [
      "  6%|▌         | 266/4504 [24:49<4:07:21,  3.50s/it]"
     ]
    },
    {
     "name": "stdout",
     "output_type": "stream",
     "text": [
      "FSPQ6x1y2oU /n ```json\n",
      "{\n",
      "  \"decision\": \"false\",\n",
      "  \"justification\": \"La vidéo semble traiter de santé, d'autonomie et de liberté au sens large, mais pas spécifiquement d'autosuffisance alimentaire ou de production de ressources de base. Les thèmes abordés semblent plus axés sur le bien-être personnel et l'accès à l'information non censurée.\"\n",
      "}\n",
      "```\n"
     ]
    },
    {
     "name": "stderr",
     "output_type": "stream",
     "text": [
      "  6%|▌         | 267/4504 [24:51<3:20:55,  2.85s/it]"
     ]
    },
    {
     "name": "stdout",
     "output_type": "stream",
     "text": [
      "2TiSPUImHbQ /n ```json\n",
      "{\n",
      "  \"decision\": \"false\",\n",
      "  \"justification\": \"Bien que la vidéo traite de la culture de tomates au potager, elle ne met pas l'accent sur l'autosuffisance alimentaire ou la réduction de la dépendance au système économique extérieur. Elle se concentre davantage sur une technique de jardinage pour optimiser l'espace et améliorer la récolte, sans aborder les aspects de l'autoconsommation, du bio, du local, du saisonnier, ou de la conception d'un lieu propice à l'autonomie.\"\n",
      "}\n",
      "```\n"
     ]
    },
    {
     "name": "stderr",
     "output_type": "stream",
     "text": [
      "  6%|▌         | 268/4504 [24:52<2:42:25,  2.30s/it]"
     ]
    },
    {
     "name": "stdout",
     "output_type": "stream",
     "text": [
      "GojXvlVfcAU /n ```json\n",
      "{\n",
      "  \"decision\": \"oui\",\n",
      "  \"justification\": \"Bien que la vidéo ne traite pas directement de l'autosuffisance, elle aborde la rotation des cultures dans un potager familial, ce qui contribue à une plus grande autonomie alimentaire. Les tags incluent également le mot \\\"autonomie\\\".\"\n",
      "}\n",
      "```\n"
     ]
    },
    {
     "name": "stderr",
     "output_type": "stream",
     "text": [
      "  6%|▌         | 269/4504 [24:53<2:14:12,  1.90s/it]"
     ]
    },
    {
     "name": "stdout",
     "output_type": "stream",
     "text": [
      "R0eS9tica-4 /n ```json\n",
      "{\n",
      "  \"decision\": \"false\",\n",
      "  \"justification\": \"La vidéo décrit une technique de culture de carottes au potager. Bien que la culture de légumes soit un aspect de l'autosuffisance alimentaire, la vidéo se concentre principalement sur les techniques agricoles et non sur l'objectif global de devenir autosuffisant.\"\n",
      "}\n",
      "```\n"
     ]
    },
    {
     "name": "stderr",
     "output_type": "stream",
     "text": [
      "  6%|▌         | 270/4504 [24:54<2:09:14,  1.83s/it]"
     ]
    },
    {
     "name": "stdout",
     "output_type": "stream",
     "text": [
      "k2d_jSuXNM0 /n ```json\n",
      "{\n",
      "  \"decision\": \"Non\",\n",
      "  \"justification\": \"La vidéo traite des cultures dérobées dans un contexte agricole et technique, en se concentrant sur les aspects agronomiques et les itinéraires techniques pour les oléagineux et protéagineux. Bien que cela puisse contribuer à une production agricole plus efficace, l'objectif principal n'est pas l'autosuffisance alimentaire au sens de l'autoconsommation et de la réduction de la dépendance au système économique extérieur. Les mots clés et la description mettent en avant l'agronomie, les techniques agricoles et les conseils pour les agriculteurs, plutôt que l'autonomie individuelle ou familiale.\"\n",
      "}\n",
      "```\n"
     ]
    },
    {
     "name": "stderr",
     "output_type": "stream",
     "text": [
      "  6%|▌         | 271/4504 [24:55<1:54:24,  1.62s/it]"
     ]
    },
    {
     "name": "stdout",
     "output_type": "stream",
     "text": [
      "8mRzKhlcH6o /n ```json\n",
      "{\n",
      "  \"decision\": \"yes\",\n",
      "  \"justification\": \"La vidéo concerne la culture de pommes de terre au potager. Le #autosuffisance est aussi présent dans les tags.\"\n",
      "}\n",
      "```\n"
     ]
    },
    {
     "name": "stderr",
     "output_type": "stream",
     "text": [
      "  6%|▌         | 272/4504 [24:57<1:50:56,  1.57s/it]"
     ]
    },
    {
     "name": "stdout",
     "output_type": "stream",
     "text": [
      "BXYpXbfF2Xk /n ```json\n",
      "{\n",
      "  \"decision\": \"yes\",\n",
      "  \"justification\": \"La vidéo traite de la création d'une nouvelle zone de culture en utilisant des méthodes simples et efficaces pour rendre le jardin résilient et productif. Bien que le terme \\\"autosuffisance\\\" ne soit pas explicitement mentionné, la thématique du potager, de la permaculture, de l'agroécologie et de la production de légumes est fortement liée à l'autosuffisance alimentaire. Les tags incluent des termes comme \\\"créer son potager\\\" et \\\"faire son jardin en permaculture\\\", ce qui suggère que la vidéo vise à aider les spectateurs à cultiver leur propre nourriture, un aspect essentiel de l'autosuffisance.\"\n",
      "}\n",
      "```\n",
      "fFLdqPRBToI /n ```json\n",
      "{\n",
      "  \"decision\": \"false\",\n",
      "  \"justification\": \"La vidéo décrit une succession de cultures (concombre, radis noir, fenouil et tomates précoces) dans un contexte d'agriculture et de maraîchage, notamment en lien avec le GIEE \\\"zéro désherbage\\\". Bien que les tags mentionnent des termes comme \\\"permaculture\\\", \\\"bio\\\" et \\\"agroécologie\\\", l'objectif principal de la vidéo semble être l'optimisation des cultures et la réduction du désherbage, plutôt que l'atteinte de l'autosuffisance au sens de la définition fournie. Il n'y a pas d'indication claire que la vidéo traite de la production de nourriture pour l'autoconsommation, de la réduction de la dépendance au système économique, ou d'un changement de mode de vie vers plus d'autonomie.\"\n",
      "}\n",
      "```\n",
      "sleep for 1 min\n"
     ]
    },
    {
     "name": "stderr",
     "output_type": "stream",
     "text": [
      "  6%|▌         | 274/4504 [26:00<16:29:40, 14.04s/it]"
     ]
    },
    {
     "name": "stdout",
     "output_type": "stream",
     "text": [
      "-J8tUNVD7u4 /n ```json\n",
      "{\n",
      "  \"decision\": \"false\",\n",
      "  \"justification\": \"La vidéo parle de plantation de vignes, mais ne mentionne pas l'autosuffisance comme objectif principal. L'objectif est de créer de l'ombre pour d'autres cultures et d'adapter les cultures au dérèglement climatique. Bien que cela puisse contribuer à une certaine forme d'autonomie, ce n'est pas le thème central de la vidéo.\"\n",
      "}\n",
      "```\n"
     ]
    },
    {
     "name": "stderr",
     "output_type": "stream",
     "text": [
      "  6%|▌         | 275/4504 [26:01<11:52:48, 10.11s/it]"
     ]
    },
    {
     "name": "stdout",
     "output_type": "stream",
     "text": [
      "ebwA9efjDyg /n ```json\n",
      "{\n",
      "  \"decision\": \"yes\",\n",
      "  \"justification\": \"La description de la vidéo mentionne une formation sur les fertilisants organiques et la gestion durable des sols, avec l'objectif de permettre aux participants d'être autonomes. Cela correspond à la thématique de l'autosuffisance, notamment dans le domaine de l'agriculture.\"\n",
      "}\n",
      "```\n"
     ]
    },
    {
     "name": "stderr",
     "output_type": "stream",
     "text": [
      "  6%|▌         | 276/4504 [26:02<8:44:11,  7.44s/it] "
     ]
    },
    {
     "name": "stdout",
     "output_type": "stream",
     "text": [
      "S-YEu_UJiio /n ```json\n",
      "{\n",
      "  \"decision\": \"False\",\n",
      "  \"justification\": \"La vidéo porte sur la fertilisation des blés bio avec de l'engrais organique. Bien que l'agriculture biologique puisse être un aspect de l'autosuffisance alimentaire, la vidéo ne traite pas directement des aspects de production pour l'autoconsommation, de la réduction de la dépendance au système économique, ou des choix de vie liés à l'autonomie. Elle se concentre sur les techniques agricoles pour la culture du blé bio.\"\n",
      "}\n",
      "```\n"
     ]
    },
    {
     "name": "stderr",
     "output_type": "stream",
     "text": [
      "  6%|▌         | 277/4504 [26:03<6:29:52,  5.53s/it]"
     ]
    },
    {
     "name": "stdout",
     "output_type": "stream",
     "text": [
      "70phFq2MnD4 /n ```json\n",
      "{\n",
      "  \"decision\": \"false\",\n",
      "  \"justification\": \"La vidéo traite de la fertilisation des sols pour améliorer le rendement et la qualité des cultures. Bien que cela puisse contribuer à l'autosuffisance alimentaire, le sujet principal n'est pas directement axé sur les pratiques et les stratégies d'autonomie et d'indépendance du système économique et social, mais plus sur l'optimisation de la production agricole en général.\"\n",
      "}\n",
      "```\n"
     ]
    },
    {
     "name": "stderr",
     "output_type": "stream",
     "text": [
      "  6%|▌         | 278/4504 [26:04<4:53:56,  4.17s/it]"
     ]
    },
    {
     "name": "stdout",
     "output_type": "stream",
     "text": [
      "Kg_moYtLH0Q /n ```json\n",
      "{\n",
      "  \"decision\": \"yes\",\n",
      "  \"justification\": \"La vidéo traite de l'autonomie fourragère dans les systèmes d'élevage, ce qui est une composante de l'autosuffisance. La description mentionne l'amélioration de la nutrition minérale pour maximiser la production et la qualité des fourrages, ce qui est directement lié à la capacité de subvenir aux besoins alimentaires du bétail par soi-même.\"\n",
      "}\n",
      "```\n"
     ]
    },
    {
     "name": "stderr",
     "output_type": "stream",
     "text": [
      "  6%|▌         | 279/4504 [26:05<3:50:01,  3.27s/it]"
     ]
    },
    {
     "name": "stdout",
     "output_type": "stream",
     "text": [
      "YkiG5gE8Q8A /n ```json\n",
      "{\n",
      "  \"decision\": \"oui\",\n",
      "  \"justification\": \"Bien que la vidéo ne traite pas directement de l'autosuffisance au sens strict de la production personnelle de nourriture, elle aborde un aspect important pour atteindre cet objectif à l'échelle d'un pays : l'amélioration de la production agricole par l'utilisation d'engrais organiques. L'autosuffisance alimentaire d'un pays est un prérequis pour l'autosuffisance de ses citoyens.\"\n",
      "}\n",
      "```\n"
     ]
    },
    {
     "name": "stderr",
     "output_type": "stream",
     "text": [
      "  6%|▌         | 280/4504 [26:06<3:02:59,  2.60s/it]"
     ]
    },
    {
     "name": "stdout",
     "output_type": "stream",
     "text": [
      "B_-g9Pp2bBQ /n ```json\n",
      "{\n",
      "  \"decision\": \"oui\",\n",
      "  \"justification\": \"La vidéo décrit une formation en agroécologie en Côte d'Ivoire, axée sur la production d'engrais organiques à partir de ressources locales. L'agroécologie est une approche de l'agriculture qui vise à créer des systèmes agricoles durables et autonomes, en réduisant la dépendance aux intrants externes et en favorisant la biodiversité. Elle est donc liée à l'autosuffisance alimentaire.\"\n",
      "}\n",
      "```\n"
     ]
    },
    {
     "name": "stderr",
     "output_type": "stream",
     "text": [
      "  6%|▌         | 281/4504 [26:07<2:29:45,  2.13s/it]"
     ]
    },
    {
     "name": "stdout",
     "output_type": "stream",
     "text": [
      "sgm_zU_W5jc /n ```json\n",
      "{\n",
      "  \"decision\": \"false\",\n",
      "  \"justification\": \"La vidéo aborde l'agriculture biologique et la fertilisation organique, mais ne mentionne pas explicitement l'autosuffisance alimentaire ou la réduction de la dépendance au système économique extérieur. Les thèmes abordés sont liés à des pratiques agricoles durables, mais ne correspondent pas directement à la définition de l'autosuffisance.\"\n",
      "}\n",
      "```\n"
     ]
    },
    {
     "name": "stderr",
     "output_type": "stream",
     "text": [
      "  6%|▋         | 282/4504 [26:08<2:10:35,  1.86s/it]"
     ]
    },
    {
     "name": "stdout",
     "output_type": "stream",
     "text": [
      "B5Kw5S2kfw8 /n ```json\n",
      "{\n",
      "  \"decision\": \"yes\",\n",
      "  \"justification\": \"La vidéo décrit une ferme autonome, un éleveur bio qui maîtrise toute sa production et cherche à s'affranchir des contraintes de l'industrie et de la grande distribution. Les mots clés tels que 'ferme autonome', 'autonomie', 'élevage' et 'agriculture' dans le titre, la description et les tags indiquent un lien direct avec la thématique de l'autosuffisance, notamment dans le domaine alimentaire.\"\n",
      "}\n",
      "```\n"
     ]
    },
    {
     "name": "stderr",
     "output_type": "stream",
     "text": [
      "  6%|▋         | 283/4504 [26:09<1:52:55,  1.61s/it]"
     ]
    },
    {
     "name": "stdout",
     "output_type": "stream",
     "text": [
      "-45uiNBc-KY /n ```json\n",
      "{\n",
      "  \"decision\": \"yes\",\n",
      "  \"justification\": \"La vidéo aborde directement la thématique de l'autonomie dans les systèmes agricoles, en définissant le concept et en soulignant la dépendance aux ressources externes. Les tags 'autonomie', 'systemes agricoles' et 'agroecologie' confirment l'orientation de la vidéo vers l'autosuffisance et l'autonomie.\"\n",
      "}\n",
      "```\n"
     ]
    },
    {
     "name": "stderr",
     "output_type": "stream",
     "text": [
      "  6%|▋         | 284/4504 [26:10<1:40:20,  1.43s/it]"
     ]
    },
    {
     "name": "stdout",
     "output_type": "stream",
     "text": [
      "bUMd5TYbhMo /n ```json\n",
      "{\n",
      "  \"decision\": \"yes\",\n",
      "  \"justification\": \"Le titre de la vidéo mentionne explicitement \\\"autosuffisance alimentaire\\\". La description souligne l'importance de l'autosuffisance alimentaire en France et les tags incluent \\\"Autosuffisance\\\", indiquant clairement que le contenu est lié à ce thème.\"\n",
      "}\n",
      "```\n"
     ]
    },
    {
     "name": "stderr",
     "output_type": "stream",
     "text": [
      "  6%|▋         | 285/4504 [26:11<1:33:47,  1.33s/it]"
     ]
    },
    {
     "name": "stdout",
     "output_type": "stream",
     "text": [
      "i255mA2XDLg /n ```json\n",
      "{\n",
      "  \"decision\": \"yes\",\n",
      "  \"justification\": \"La vidéo décrit la visite d'une exploitation agricole visant l'autosuffisance, notamment dans la production de fromage de vaches et de chèvres. Les thèmes abordés incluent l'élevage, la production de fourrage, la production d'énergie et l'agriculture biologique de conservation, tous liés à l'autosuffisance.\"\n",
      "}\n",
      "```\n",
      "FKlWh9e33Ks /n ```json\n",
      "{\n",
      "  \"decision\": \"yes\",\n",
      "  \"justification\": \"Bien que la vidéo se concentre sur les aménagements d'un poulailler, la description indique clairement que la chaîne est dédiée à l'autosuffisance et à la mise en autonomie d'une maison familiale grâce à la permaculture. De plus, les tags incluent des termes tels que 'autonomie', 'résilience', 'vivre à la campagne', et 'ma ferme autonome', ce qui confirme que le sujet est lié à l'autosuffisance.\"\n",
      "}\n",
      "```\n",
      "sleep for 1 min\n"
     ]
    },
    {
     "name": "stderr",
     "output_type": "stream",
     "text": [
      "  6%|▋         | 287/4504 [27:14<16:13:04, 13.84s/it]"
     ]
    },
    {
     "name": "stdout",
     "output_type": "stream",
     "text": [
      "vYR-oN1Fols /n ```json\n",
      "{\n",
      "  \"decision\": \"yes\",\n",
      "  \"justification\": \"La vidéo porte sur la création d'un poulailler autonome, ce qui contribue à l'autosuffisance en permettant de produire ses propres œufs. La description et les tags confirment qu'il s'agit d'un projet de bricolage pour rendre un poulailler plus autonome.\"\n",
      "}\n",
      "```\n"
     ]
    },
    {
     "name": "stderr",
     "output_type": "stream",
     "text": [
      "  6%|▋         | 288/4504 [27:15<11:46:17, 10.05s/it]"
     ]
    },
    {
     "name": "stdout",
     "output_type": "stream",
     "text": [
      "qmHxjcYCgJI /n ```json\n",
      "{\n",
      "  \"decision\": \"true\",\n",
      "  \"justification\": \"La vidéo concerne l'aménagement d'un enclos pour des poules, présentées comme une ressource précieuse pour l'autonomie. Le titre et la description contiennent les mots-clés \\\"autonomie\\\" et \\\"autosuffisance\\\". De plus, les tags incluent des termes liés à l'autonomie alimentaire, énergétique et à la vie en autonomie, confirmant que le sujet principal est bien l'autosuffisance.\"\n",
      "}\n",
      "```\n"
     ]
    },
    {
     "name": "stderr",
     "output_type": "stream",
     "text": [
      "  6%|▋         | 289/4504 [27:16<8:34:59,  7.33s/it] "
     ]
    },
    {
     "name": "stdout",
     "output_type": "stream",
     "text": [
      "1HbTJ6LjMkg /n ```json\n",
      "{\n",
      "  \"decision\": \"oui\",\n",
      "  \"justification\": \"La vidéo décrit la construction d'un poulailler et mentionne un potager fait main. Ces éléments sont directement liés à l'autosuffisance alimentaire et à la création d'un système de vie plus autonome.\"\n",
      "}\n",
      "```\n"
     ]
    },
    {
     "name": "stderr",
     "output_type": "stream",
     "text": [
      "  6%|▋         | 290/4504 [27:17<6:22:43,  5.45s/it]"
     ]
    },
    {
     "name": "stdout",
     "output_type": "stream",
     "text": [
      "erLg5U_1SqY /n ```json\n",
      "{\n",
      "  \"decision\": \"yes\",\n",
      "  \"justification\": \"La vidéo présente un poulailler autonome, abordant des aspects liés à l'autonomie dans l'élevage de poules, notamment la gestion des poux rouges et l'utilisation de portes automatiques. Bien que l'autosuffisance alimentaire ne soit pas directement mentionnée, l'autonomie dans la gestion d'un poulailler contribue à une certaine forme d'autosuffisance en termes de production d'œufs et potentiellement de viande.\"\n",
      "}\n",
      "```\n"
     ]
    },
    {
     "name": "stderr",
     "output_type": "stream",
     "text": [
      "  6%|▋         | 291/4504 [27:18<4:46:22,  4.08s/it]"
     ]
    },
    {
     "name": "stdout",
     "output_type": "stream",
     "text": [
      "LsNOE_ApxG0 /n ```json\n",
      "{\n",
      "  \"decision\": \"yes\",\n",
      "  \"justification\": \"La vidéo décrit la construction d'un poulailler géant dans le but d'atteindre l'autonomie en œufs et en viande, ce qui correspond directement à la thématique de l'autosuffisance, notamment alimentaire.\"\n",
      "}\n",
      "```\n"
     ]
    },
    {
     "name": "stderr",
     "output_type": "stream",
     "text": [
      "  6%|▋         | 292/4504 [27:19<3:43:21,  3.18s/it]"
     ]
    },
    {
     "name": "stdout",
     "output_type": "stream",
     "text": [
      "8DGcT8d-43I /n ```json\n",
      "{\n",
      "  \"decision\": \"yes\",\n",
      "  \"justification\": \"La vidéo concerne la construction d'un poulailler résistant aux poux rouges, ce qui est un aspect de l'autonomie, notamment dans l'élevage de volailles pour l'autosuffisance alimentaire. De plus, la chaîne YouTube mentionnée dans la description traite de sujets liés à l'autonomie, ce qui renforce la pertinence de la vidéo pour cette thématique.\"\n",
      "}\n",
      "```\n"
     ]
    },
    {
     "name": "stderr",
     "output_type": "stream",
     "text": [
      "  7%|▋         | 293/4504 [27:20<2:57:49,  2.53s/it]"
     ]
    },
    {
     "name": "stdout",
     "output_type": "stream",
     "text": [
      "mni8sZJSdfQ /n ```json\n",
      "{\n",
      "  \"decision\": \"yes\",\n",
      "  \"justification\": \"La vidéo concerne l'amélioration d'un poulailler, un élément essentiel pour l'autosuffisance alimentaire via l'élevage de volailles. Les tags incluent explicitement 'autonomie' et 'autosuffisance alimentaire', confirmant la pertinence du sujet.\"\n",
      "}\n",
      "```\n"
     ]
    },
    {
     "name": "stderr",
     "output_type": "stream",
     "text": [
      "  7%|▋         | 294/4504 [27:21<2:24:25,  2.06s/it]"
     ]
    },
    {
     "name": "stdout",
     "output_type": "stream",
     "text": [
      "CDBkv2Az8RY /n ```json\n",
      "{\n",
      "  \"decision\": \"false\",\n",
      "  \"justification\": \"La vidéo porte sur l'accompagnement des jeunes handicapés vers une plus grande autonomie, et non sur l'autosuffisance au sens de la production de ses propres biens (nourriture, énergie...). Le terme \\\"autonomie\\\" est utilisé dans un contexte différent de celui de l'autosuffisance.\"\n",
      "}\n",
      "```\n"
     ]
    },
    {
     "name": "stderr",
     "output_type": "stream",
     "text": [
      "  7%|▋         | 295/4504 [27:22<1:59:53,  1.71s/it]"
     ]
    },
    {
     "name": "stdout",
     "output_type": "stream",
     "text": [
      "AuI_MMfceNQ /n ```json\n",
      "{\n",
      "  \"decision\": \"true\",\n",
      "  \"justification\": \"La vidéo aborde la fertilisation du potager, ce qui est essentiel pour l'autosuffisance alimentaire. De plus, les tags incluent 'Autonomie' et 'Permaculture', qui sont des concepts liés à l'autosuffisance.\"\n",
      "}\n",
      "```\n"
     ]
    },
    {
     "name": "stderr",
     "output_type": "stream",
     "text": [
      "  7%|▋         | 296/4504 [27:23<1:51:15,  1.59s/it]"
     ]
    },
    {
     "name": "stdout",
     "output_type": "stream",
     "text": [
      "cF6LgZktn3k /n ```json\n",
      "{\n",
      "  \"decision\": \"oui\",\n",
      "  \"justification\": \"Bien que la vidéo ne traite pas directement de l'autosuffisance alimentaire au sens strict, elle aborde un aspect crucial pour y parvenir : l'amélioration de la qualité du sol via des amendements calcaires. La description mentionne explicitement que la consommation de calcium est un élément à prendre en compte pour l'autonomie des champs. Cela sous-entend un lien avec la capacité à produire sa propre nourriture de manière durable, ce qui est un composant essentiel de l'autosuffisance.\"\n",
      "}\n",
      "```\n"
     ]
    },
    {
     "name": "stderr",
     "output_type": "stream",
     "text": [
      "  7%|▋         | 297/4504 [27:24<1:43:51,  1.48s/it]"
     ]
    },
    {
     "name": "stdout",
     "output_type": "stream",
     "text": [
      "YAnFVLP1orQ /n ```json\n",
      "{\n",
      "  \"decision\": \"yes\",\n",
      "  \"justification\": \"La vidéo aborde des sujets liés à l'amélioration du sol (engrais et amendements) utilisés dans un potager, ce qui est essentiel pour la production alimentaire et donc pertinent pour l'autosuffisance. De plus, le tag 'autonomie' est présent.\"\n",
      "}\n",
      "```\n"
     ]
    },
    {
     "name": "stderr",
     "output_type": "stream",
     "text": [
      "  7%|▋         | 298/4504 [27:26<1:41:04,  1.44s/it]"
     ]
    },
    {
     "name": "stdout",
     "output_type": "stream",
     "text": [
      "1c3AV5X1exg /n ```json\n",
      "{\n",
      "  \"decision\": \"false\",\n",
      "  \"justification\": \"Bien que le mot \\\"autonomie\\\" apparaisse dans le titre et la description, la vidéo traite d'une taxe sur les revenus du capital pour financer l'autonomie de la Sécurité sociale liée au grand âge. Elle ne concerne pas l'autosuffisance au sens de la production de biens et de nourriture pour subvenir à ses propres besoins.\"\n",
      "}\n",
      "```\n",
      "X3A2Wfqcoko /n ```json\n",
      "{\n",
      "  \"decision\": \"false\",\n",
      "  \"justification\": \"La vidéo traite des amendements de la loi littorale et de leurs avantages pour l'environnement et la défense du littoral. Elle ne concerne pas l'autosuffisance alimentaire ou l'autonomie matérielle.\"\n",
      "}\n",
      "```\n",
      "sleep for 1 min\n"
     ]
    },
    {
     "name": "stderr",
     "output_type": "stream",
     "text": [
      "  7%|▋         | 300/4504 [28:28<16:11:51, 13.87s/it]"
     ]
    },
    {
     "name": "stdout",
     "output_type": "stream",
     "text": [
      "65PZvB-2aqw /n ```json\n",
      "{\n",
      "  \"decision\": \"true\",\n",
      "  \"justification\": \"Le titre et les tags de la vidéo contiennent des mots-clés pertinents liés à l'autosuffisance, tels que 'permaculture', 'jardinage', 'potager', 'engrais'. Ces éléments suggèrent que la vidéo traite de techniques de jardinage visant à améliorer la production de légumes, ce qui est un aspect important de l'autosuffisance alimentaire.\"\n",
      "}\n",
      "```\n"
     ]
    },
    {
     "name": "stderr",
     "output_type": "stream",
     "text": [
      "  7%|▋         | 301/4504 [28:29<11:48:02, 10.11s/it]"
     ]
    },
    {
     "name": "stdout",
     "output_type": "stream",
     "text": [
      "GgS8H0L9Uy8 /n ```json\n",
      "{\n",
      "  \"decision\": \"yes\",\n",
      "  \"justification\": \"La vidéo traite de l'utilisation des fientes de poules au potager et au verger, ainsi que du compostage, ce qui est directement lié à la production de nourriture et à l'amélioration du sol pour l'autoconsommation. Les tags incluent des termes comme 'permaculture', 'agroforesterie', 'agroécologie', 'autonomie', 'jardinage', 'jardin potager', 'fumier poule', 'fiente poule', 'compoter poule', 'potager poule', 'potager fumier', 'potager fiente', ce qui confirme son appartenance à la thématique de l'autosuffisance.\"\n",
      "}\n",
      "```\n"
     ]
    },
    {
     "name": "stderr",
     "output_type": "stream",
     "text": [
      "  7%|▋         | 302/4504 [28:30<8:38:11,  7.40s/it] "
     ]
    },
    {
     "name": "stdout",
     "output_type": "stream",
     "text": [
      "cLKgmqed-rY /n ```json\n",
      "{\n",
      "  \"decision\": \"yes\",\n",
      "  \"justification\": \"La vidéo traite du lombricompostage à partir de fumier de poules, ce qui est une méthode pour améliorer la fertilité du sol et produire son propre engrais. Ceci est en lien direct avec l'autonomie alimentaire et l'autosuffisance, car cela permet de réduire la dépendance aux intrants extérieurs pour le jardinage et l'agriculture.\"\n",
      "}\n",
      "```\n"
     ]
    },
    {
     "name": "stderr",
     "output_type": "stream",
     "text": [
      "  7%|▋         | 303/4504 [28:32<6:29:08,  5.56s/it]"
     ]
    },
    {
     "name": "stdout",
     "output_type": "stream",
     "text": [
      "oTEmWvK453U /n ```json\n",
      "{\n",
      "  \"decision\": \"false\",\n",
      "  \"justification\": \"La vidéo aborde l'utilisation du fumier de poules comme engrais pour le potager. Bien que cela puisse contribuer à la production alimentaire, le titre, la description et les tags ne mentionnent pas explicitement l'autosuffisance, l'autonomie ou la réduction de la dépendance au système économique et social extérieur. Cela semble se concentrer sur une technique de jardinage plutôt que sur une démarche globale d'autosuffisance.\"\n",
      "}\n",
      "```\n"
     ]
    },
    {
     "name": "stderr",
     "output_type": "stream",
     "text": [
      "  7%|▋         | 304/4504 [28:33<4:56:15,  4.23s/it]"
     ]
    },
    {
     "name": "stdout",
     "output_type": "stream",
     "text": [
      "G28uj1O6xcw /n ```json\n",
      "{\n",
      "  \"decision\": \"yes\",\n",
      "  \"justification\": \"La vidéo traite de l'alimentation autonome des poules grâce à une mangeoire automatique, ce qui contribue à l'autosuffisance en réduisant la dépendance à l'intervention humaine pour nourrir les animaux.\"\n",
      "}\n",
      "```\n"
     ]
    },
    {
     "name": "stderr",
     "output_type": "stream",
     "text": [
      "  7%|▋         | 305/4504 [28:34<3:47:56,  3.26s/it]"
     ]
    },
    {
     "name": "stdout",
     "output_type": "stream",
     "text": [
      "BgcwRob6S7c /n ```json\n",
      "{\n",
      "  \"decision\": \"yes\",\n",
      "  \"justification\": \"La vidéo décrit l'élevage de poulets de chair pour la production de viande et de compost, ce qui contribue à l'autosuffisance alimentaire et à l'amélioration du sol pour le potager. Les tags incluent 'permaculture' et 'potager', renforçant le lien avec l'autosuffisance.\"\n",
      "}\n",
      "```\n"
     ]
    },
    {
     "name": "stderr",
     "output_type": "stream",
     "text": [
      "  7%|▋         | 306/4504 [28:35<3:02:07,  2.60s/it]"
     ]
    },
    {
     "name": "stdout",
     "output_type": "stream",
     "text": [
      "xOMVDdzZCAE /n ```json\n",
      "{\n",
      "  \"decision\": \"yes\",\n",
      "  \"justification\": \"La vidéo décrit comment utiliser des poules pour créer un système écologique et autosuffisant, en utilisant leurs déchets pour fertiliser le potager. Les métadonnées mettent en avant l'utilisation du fumier de poule comme engrais naturel, l'aspect écologique du potager, et la réduction des déchets, ce qui correspond à la thématique de l'autosuffisance.\"\n",
      "}\n",
      "```\n"
     ]
    },
    {
     "name": "stderr",
     "output_type": "stream",
     "text": [
      "  7%|▋         | 307/4504 [28:36<2:30:47,  2.16s/it]"
     ]
    },
    {
     "name": "stdout",
     "output_type": "stream",
     "text": [
      "_jmYodtbYKE /n ```json\n",
      "{\n",
      "  \"decision\": \"yes\",\n",
      "  \"justification\": \"La vidéo traite de l'utilisation des poules dans un potager, ce qui est une pratique courante dans les systèmes d'autosuffisance pour la gestion des déchets, le contrôle des parasites et la fertilisation du sol. De plus, la description inclut les termes \\\"permaculture\\\" et \\\"autonomie\\\", et les tags contiennent le mot \\\"autonomie\\\", ce qui confirme que le sujet est lié à l'autosuffisance.\"\n",
      "}\n",
      "```\n"
     ]
    },
    {
     "name": "stderr",
     "output_type": "stream",
     "text": [
      "  7%|▋         | 308/4504 [28:37<2:07:21,  1.82s/it]"
     ]
    },
    {
     "name": "stdout",
     "output_type": "stream",
     "text": [
      "nmapTAJcA4E /n ```json\n",
      "{\n",
      "  \"decision\": \"false\",\n",
      "  \"justification\": \"La vidéo semble porter sur l'élevage de poulets, en particulier le chauffage des poussins. Bien que l'élevage puisse contribuer à l'autosuffisance alimentaire, la vidéo se concentre sur un aspect spécifique de l'élevage et ne traite pas directement de l'autosuffisance de manière générale.\"\n",
      "}\n",
      "```\n"
     ]
    },
    {
     "name": "stderr",
     "output_type": "stream",
     "text": [
      "  7%|▋         | 309/4504 [28:38<1:51:48,  1.60s/it]"
     ]
    },
    {
     "name": "stdout",
     "output_type": "stream",
     "text": [
      "fhHGI_yXbyI /n ```json\n",
      "{\n",
      "  \"decision\": \"true\",\n",
      "  \"justification\": \"La vidéo traite de l'utilisation du fumier et de la fumure au potager. Bien que le sujet principal soit l'amélioration du sol, la description et les tags incluent des termes comme 'Autonomie', 'potager', 'légumes', et 'cultiver', ce qui indique une pertinence avec la thématique de l'autosuffisance alimentaire, car un potager productif est une composante essentielle de l'autosuffisance.\"\n",
      "}\n",
      "```\n"
     ]
    },
    {
     "name": "stderr",
     "output_type": "stream",
     "text": [
      "  7%|▋         | 310/4504 [28:39<1:44:10,  1.49s/it]"
     ]
    },
    {
     "name": "stdout",
     "output_type": "stream",
     "text": [
      "wPGNUPVjgzk /n ```json\n",
      "{\n",
      "  \"decision\": \"yes\",\n",
      "  \"justification\": \"Bien que la vidéo se concentre sur l'utilisation du fumier au potager, elle s'inscrit dans une démarche d'amélioration du sol pour la production de légumes, ce qui est un aspect important de l'autosuffisance alimentaire. La description et les tags mentionnent le potager biologique, renforçant le lien avec une production alimentaire plus autonome et respectueuse de l'environnement.\"\n",
      "}\n",
      "```\n"
     ]
    },
    {
     "name": "stderr",
     "output_type": "stream",
     "text": [
      "  7%|▋         | 311/4504 [28:40<1:35:52,  1.37s/it]"
     ]
    },
    {
     "name": "stdout",
     "output_type": "stream",
     "text": [
      "pJtu9gf-xOg /n ```json\n",
      "{\n",
      "  \"decision\": \"yes\",\n",
      "  \"justification\": \"La vidéo traite de la gestion du compost et des toilettes sèches, en mettant en avant leur rôle dans l'autosuffisance et la valorisation des déchets. Les tags incluent des termes clés tels que 'autosuffisance', 'permaculture', 'compostage', 'zéro déchet', et 'jardin bio', ce qui confirme que le contenu est pertinent pour la thématique de l'autosuffisance.\"\n",
      "}\n",
      "```\n",
      "Mq-vL_V_3hA /n ```json\n",
      "{\n",
      "  \"decision\": \"oui\",\n",
      "  \"justification\": \"Bien que la vidéo ne parle pas directement d'autosuffisance, elle aborde un aspect important pour atteindre cet objectif : l'enrichissement de la terre pour le potager. L'utilisation de fumier comme engrais bio est une pratique courante dans les démarches d'autonomie alimentaire, car elle permet d'améliorer la fertilité du sol et de produire des légumes de manière durable et naturelle. Les tags tels que 'potager', 'engrais bio', 'sol' et 'fertilisation' confirment que la vidéo est liée à la culture de légumes et à l'amélioration du sol, ce qui est pertinent pour l'autosuffisance.\"\n",
      "}\n",
      "```\n",
      "sleep for 1 min\n"
     ]
    }
   ],
   "source": [
    "videosF2 = openJson(\"../jsons/videosF2.json\")\n",
    "reponses = {}\n",
    "count = 0\n",
    "for video in tqdm(videosF2):\n",
    "    input = {\"titre\":video['titre_video'],\n",
    "             \"descriptions\":video['description'],\n",
    "             \"tags\":video['tags'],}\n",
    "    answer = chain.invoke(input)\n",
    "    print(video['id_video'],'/n',answer)\n",
    "    reponses[video['id_video']]=answer\n",
    "    count+=1\n",
    "    if count >= 13:\n",
    "        print(\"sleep for 1 min\")\n",
    "        time.sleep(60)\n",
    "        count=0"
   ]
  },
  {
   "cell_type": "code",
   "execution_count": null,
   "id": "a95e6bf0",
   "metadata": {},
   "outputs": [],
   "source": []
  },
  {
   "cell_type": "code",
   "execution_count": null,
   "id": "16703240",
   "metadata": {},
   "outputs": [],
   "source": []
  }
 ],
 "metadata": {
  "kernelspec": {
   "display_name": ".venv",
   "language": "python",
   "name": "python3"
  },
  "language_info": {
   "codemirror_mode": {
    "name": "ipython",
    "version": 3
   },
   "file_extension": ".py",
   "mimetype": "text/x-python",
   "name": "python",
   "nbconvert_exporter": "python",
   "pygments_lexer": "ipython3",
   "version": "3.10.16"
  }
 },
 "nbformat": 4,
 "nbformat_minor": 5
}
