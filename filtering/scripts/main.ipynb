{
 "cells": [
  {
   "cell_type": "code",
   "execution_count": 1,
   "id": "8e931bf3",
   "metadata": {},
   "outputs": [
    {
     "data": {
      "text/plain": [
       "True"
      ]
     },
     "execution_count": 1,
     "metadata": {},
     "output_type": "execute_result"
    }
   ],
   "source": [
    "import json \n",
    "from collections import Counter\n",
    "from tqdm import tqdm \n",
    "from colorama import Style,Fore\n",
    "import os\n",
    "from dotenv import load_dotenv\n",
    "load_dotenv()"
   ]
  },
  {
   "cell_type": "code",
   "execution_count": null,
   "id": "7b68e515",
   "metadata": {},
   "outputs": [],
   "source": [
    "import importlib\n",
    "import utils  # or whatever your module is called\n",
    "importlib.reload(utils)"
   ]
  },
  {
   "cell_type": "code",
   "execution_count": 3,
   "id": "1f1322aa",
   "metadata": {},
   "outputs": [],
   "source": [
    "from utils import openJson,saveJson"
   ]
  },
  {
   "cell_type": "markdown",
   "id": "2e4a2295",
   "metadata": {},
   "source": [
    "## Refining 1"
   ]
  },
  {
   "cell_type": "markdown",
   "id": "179c2de0",
   "metadata": {},
   "source": [
    "- Refine the language field of the videos"
   ]
  },
  {
   "cell_type": "code",
   "execution_count": null,
   "id": "92baa6b4",
   "metadata": {},
   "outputs": [],
   "source": [
    "from utils import RefineLanguage1\n"
   ]
  },
  {
   "cell_type": "code",
   "execution_count": null,
   "id": "1f0d635c",
   "metadata": {},
   "outputs": [],
   "source": [
    "RefineLanguage1()"
   ]
  },
  {
   "cell_type": "code",
   "execution_count": null,
   "id": "b8f6b351",
   "metadata": {},
   "outputs": [],
   "source": [
    "with open(\"../jsons/videosR1.json\", \"r\", encoding=\"utf-8\") as file:\n",
    "    videosR1 = json.load(file)\n",
    "len(videosR1)"
   ]
  },
  {
   "cell_type": "code",
   "execution_count": null,
   "id": "522d930f",
   "metadata": {},
   "outputs": [],
   "source": [
    "langue_counter = Counter(video['langue'] for video in videosR1)\n",
    "print(\"Toutes les valeurs uniques de langue avec leur nombre d'occurrences :\")\n",
    "for langue, count in langue_counter.items():\n",
    "    print(f\"- {langue} : {count}\")\n"
   ]
  },
  {
   "cell_type": "markdown",
   "id": "1352e2ab",
   "metadata": {},
   "source": [
    "## Refining 2"
   ]
  },
  {
   "cell_type": "markdown",
   "id": "6eae7e95",
   "metadata": {},
   "source": [
    "- Add the Localisation Information"
   ]
  },
  {
   "cell_type": "code",
   "execution_count": null,
   "id": "0293aec3",
   "metadata": {},
   "outputs": [],
   "source": [
    "from utils import RefineLanguage2"
   ]
  },
  {
   "cell_type": "code",
   "execution_count": null,
   "id": "10da376a",
   "metadata": {},
   "outputs": [],
   "source": [
    "RefineLanguage2()"
   ]
  },
  {
   "cell_type": "code",
   "execution_count": 11,
   "id": "a570648d",
   "metadata": {},
   "outputs": [
    {
     "data": {
      "text/plain": [
       "6859"
      ]
     },
     "execution_count": 11,
     "metadata": {},
     "output_type": "execute_result"
    }
   ],
   "source": [
    "with open(\"../jsons/videosR2.json\", \"r\", encoding=\"utf-8\") as file:\n",
    "    videosR2 = json.load(file)\n",
    "len(videosR2)"
   ]
  },
  {
   "cell_type": "code",
   "execution_count": 12,
   "id": "602cb3e4",
   "metadata": {},
   "outputs": [
    {
     "name": "stdout",
     "output_type": "stream",
     "text": [
      "Toutes les valeurs uniques de langue avec leur nombre d'occurrences :\n",
      "- fr-FR : 4312\n",
      "- fr : 1332\n",
      "- autre : 583\n",
      "- fr-CA : 229\n",
      "- fr-BE : 112\n",
      "- fr-CH : 88\n",
      "- fr-US : 49\n",
      "- fr-MA : 35\n",
      "- fr-NC : 14\n",
      "- fr-PT : 14\n",
      "- fr-DE : 11\n",
      "- fr-IT : 10\n",
      "- fr-RE : 8\n",
      "- fr-ES : 7\n",
      "- fr-SN : 6\n",
      "- fr-MQ : 6\n",
      "- fr-DZ : 5\n",
      "- fr-CI : 4\n",
      "- fr-GB : 4\n",
      "- fr-AR : 2\n",
      "- fr-NL : 2\n",
      "- fr-CM : 2\n",
      "- fr-ZA : 2\n",
      "- fr-PF : 2\n",
      "- fr-TH : 2\n",
      "- fr-GP : 2\n",
      "- fr-AE : 2\n",
      "- fr-TR : 1\n",
      "- fr-TG : 1\n",
      "- fr-HK : 1\n",
      "- fr-MU : 1\n",
      "- fr-RU : 1\n",
      "- fr-IN : 1\n",
      "- fr-SA : 1\n",
      "- fr-KE : 1\n",
      "- fr-KR : 1\n",
      "- fr-LU : 1\n",
      "- fr-IE : 1\n",
      "- fr-LK : 1\n",
      "- fr-BJ : 1\n",
      "- fr-TN : 1\n"
     ]
    }
   ],
   "source": [
    "langue_counter = Counter(video['langue'] for video in videosR2)\n",
    "print(\"Toutes les valeurs uniques de langue avec leur nombre d'occurrences :\")\n",
    "for langue, count in sorted(langue_counter.items(), key=lambda x: x[1], reverse=True):\n",
    "    print(f\"- {langue} : {count}\")\n"
   ]
  },
  {
   "cell_type": "code",
   "execution_count": 13,
   "metadata": {},
   "outputs": [
    {
     "name": "stdout",
     "output_type": "stream",
     "text": [
      "Total de vidéos : 6859\n",
      "- fr       : 1332 (19.42%)\n",
      "- fr-FR    : 4312 (62.87%)\n",
      "- fr-autre : 632 (9.21%)\n",
      "- autre    : 583 (8.50%)\n"
     ]
    }
   ],
   "source": [
    "total = len(videosR2)\n",
    "\n",
    "count_fr = sum(1 for video in videosR2 if video['langue'] == 'fr')\n",
    "count_frFR = sum(1 for video in videosR2 if video['langue'] == 'fr-FR')\n",
    "count_fr_autre = sum(1 for video in videosR2 if video['langue'].startswith('fr') and video['langue'] not in ['fr', 'fr-FR'])\n",
    "count_autre = total - (count_fr + count_frFR + count_fr_autre)\n",
    "\n",
    "print(f\"Total de vidéos : {total}\")\n",
    "print(f\"- fr       : {count_fr} ({count_fr / total:.2%})\")\n",
    "print(f\"- fr-FR    : {count_frFR} ({count_frFR / total:.2%})\")\n",
    "print(f\"- fr-autre : {count_fr_autre} ({count_fr_autre / total:.2%})\")\n",
    "print(f\"- autre    : {count_autre} ({count_autre / total:.2%})\")"
   ]
  },
  {
   "cell_type": "code",
   "execution_count": 22,
   "metadata": {},
   "outputs": [
    {
     "data": {
      "image/png": "[encoded data removed]",
      "text/plain": [
       "<Figure size 1200x800 with 1 Axes>"
      ]
     },
     "metadata": {},
     "output_type": "display_data"
    }
   ],
   "source": [
    "import matplotlib.pyplot as plt\n",
    "\n",
    "total = len(videosR2)\n",
    "\n",
    "count_fr = sum(1 for video in videosR2 if video['langue'] == 'fr')\n",
    "count_frFR = sum(1 for video in videosR2 if video['langue'] == 'fr-FR')\n",
    "count_fr_autre = sum(1 for video in videosR2 if video['langue'].startswith('fr') and video['langue'] not in ['fr', 'fr-FR'])\n",
    "count_autre = total - (count_fr + count_frFR + count_fr_autre)\n",
    "\n",
    "labels = ['fr', 'fr-FR', 'fr-autre', 'autre']\n",
    "sizes = [count_fr, count_frFR, count_fr_autre, count_autre]\n",
    "\n",
    "colors = ['#cce5ff', '#99ccff', '#6699ff', '#3366cc']\n",
    "\n",
    "def make_label(pct, allvals):\n",
    "    absolute = int(round(pct / 100. * total))\n",
    "    return f'{pct:.1f}% ({absolute})'\n",
    "\n",
    "plt.figure(figsize=(12, 8))\n",
    "plt.pie(sizes, labels=labels, colors=colors, autopct=lambda p: make_label(p, sizes),\n",
    "        startangle=140, textprops={'fontweight': 'bold'})\n",
    "plt.axis('equal')\n",
    "\n",
    "plt.title(\"Résultats de croisement avec localisation\", fontweight='bold', pad=20)\n",
    "\n",
    "plt.subplots_adjust(top=0.85)\n",
    "\n",
    "# Ajouter les explications à côté du graphique\n",
    "plt.text(1.2, 0.6, \"fr-FR : Français de la France\\nfr-autre : Français autre pays\\nfr : Français (localisation inconnue)\\nautre : non Français\",\n",
    "         fontsize=12, fontweight='bold', va='center')\n",
    "\n",
    "plt.show()\n"
   ]
  },
  {
   "cell_type": "code",
   "execution_count": 23,
   "id": "ab85c2f7",
   "metadata": {},
   "outputs": [
    {
     "data": {
      "text/plain": [
       "6276"
      ]
     },
     "execution_count": 23,
     "metadata": {},
     "output_type": "execute_result"
    }
   ],
   "source": [
    "4312+1332+632"
   ]
  },
  {
   "cell_type": "markdown",
   "id": "b40fe841",
   "metadata": {},
   "source": [
    "## Refining 3"
   ]
  },
  {
   "cell_type": "markdown",
   "id": "42ad6a6b",
   "metadata": {},
   "source": [
    "- Get the localisation information for 'fr' videos :\n",
    "  - Try to explore the video description+Title and Bio of the corresponding channel."
   ]
  },
  {
   "cell_type": "markdown",
   "id": "0815a72d",
   "metadata": {},
   "source": [
    "### 0.Test GLiNER"
   ]
  },
  {
   "cell_type": "code",
   "execution_count": 9,
   "id": "94ee7abc",
   "metadata": {},
   "outputs": [],
   "source": [
    "context = \"\"\"\n",
    "Le Panier Tout Vert – Un Projet de circuit court collectif en jardinage maraîcher\n",
    "\n",
    "Bonjour à toutes et à tous, passionnés d’agroécologie, Sandra et Christian sont ravis de partager Le Panier Tout Vert.\n",
    "\n",
    " Depuis 2021, ils transforment un hectare de terrain à La Trimouille, appelé CASAVERDI, en un espace de jardinage maraîcher agroécologique intégré.\n",
    "\n",
    " Le Panier Tout Vert est un projet associatif de jardinage maraîcher avec pour objectifs :\n",
    "\n",
    "- Approvisionner des familles, des cantines et restaurants, en légumes et de fruits cultivés sans engrais ni pesticides;\n",
    "\n",
    "- Offrir des situations de travail ( salarié bénévole,  stage et de volontaire) aux personnes sans emploi,en  reconversion professionnelle ou formation \n",
    "\n",
    "- Acuccueillir des campeurs écolominimaliste,  woofers,  scouts, \n",
    "\n",
    "Que vous soyez passionné, curieux ou en reconversion professionnelle, Le Panier Tout Vert vous invite à rejoindre une communauté dynamique.\n",
    "\n",
    "Merci de nous suivre, et à très bientôt pour de nouvelles aventures !      \n",
    "\"\"\""
   ]
  },
  {
   "cell_type": "code",
   "execution_count": 11,
   "id": "89ecb897",
   "metadata": {},
   "outputs": [
    {
     "data": {
      "application/vnd.jupyter.widget-view+json": {
       "model_id": "c6329de5a0984fb6baf8ffb6555ecc76",
       "version_major": 2,
       "version_minor": 0
      },
      "text/plain": [
       "Fetching 4 files:   0%|          | 0/4 [00:00<?, ?it/s]"
      ]
     },
     "metadata": {},
     "output_type": "display_data"
    },
    {
     "name": "stderr",
     "output_type": "stream",
     "text": [
      "/teamspace/studios/this_studio/AgroTube/.venv/lib/python3.10/site-packages/transformers/convert_slow_tokenizer.py:559: UserWarning: The sentencepiece tokenizer that you are converting to a fast tokenizer uses the byte fallback option which is not implemented in the fast tokenizers. In practice this means that the fast version of the tokenizer can produce unknown tokens whereas the sentencepiece version would have converted these unknown tokens into a sequence of byte tokens matching the original piece of text.\n",
      "  warnings.warn(\n",
      "Asking to truncate to max_length but no maximum length is provided and the model has no predefined maximum length. Default to no truncation.\n"
     ]
    },
    {
     "name": "stdout",
     "output_type": "stream",
     "text": [
      "La Trimouille => Localité => 0.5965201258659363\n",
      "CASAVERDI => Localisation => 0.5714259147644043\n"
     ]
    }
   ],
   "source": [
    "from gliner import GLiNER\n",
    "\n",
    "NER = GLiNER.from_pretrained(\"urchade/gliner_multi-v2.1\")\n",
    "labels = [\n",
    "    \"Localisation\",\n",
    "    \"Ville\",\n",
    "    \"Commune\",\n",
    "    \"Pays\",\n",
    "    \"Zone géographique\",\n",
    "    \"Continent\",\n",
    "    \"Région\",\n",
    "    \"Département\",\n",
    "    \"Code postal\",\n",
    "    \"Quartier\",\n",
    "    \"Adresse\",\n",
    "    \"Lieu-dit\",\n",
    "    \"Coordonnées GPS\",\n",
    "    \"Latitude\",\n",
    "    \"Longitude\",\n",
    "    \"Territoire\",\n",
    "    \"Aire urbaine\",\n",
    "    \"Zone rurale\",\n",
    "    \"Zone urbaine\",\n",
    "    \"Périmètre géographique\",\n",
    "    \"Localité\",\n",
    "]\n",
    "entities = NER.predict_entities(context, labels)\n",
    "\n",
    "for entity in entities:\n",
    "    print(entity[\"text\"], \"=>\", entity[\"label\"], \"=>\",entity[\"score\"])\n"
   ]
  },
  {
   "cell_type": "markdown",
   "id": "5de0f962",
   "metadata": {},
   "source": [
    "### 1.Seperate Channels with unknown country "
   ]
  },
  {
   "cell_type": "code",
   "execution_count": null,
   "id": "f065db9f",
   "metadata": {},
   "outputs": [
    {
     "data": {
      "text/plain": [
       "3309"
      ]
     },
     "execution_count": 12,
     "metadata": {},
     "output_type": "execute_result"
    }
   ],
   "source": [
    "channels = openJson(\"../../collecting/jsons/channels.json\")\n",
    "len(channels)"
   ]
  },
  {
   "cell_type": "code",
   "execution_count": 13,
   "id": "8a7d0b0e",
   "metadata": {},
   "outputs": [
    {
     "name": "stdout",
     "output_type": "stream",
     "text": [
      "\u001b[1m\u001b[32m\n",
      " json saved\u001b[0m\n"
     ]
    },
    {
     "data": {
      "text/plain": [
       "1077"
      ]
     },
     "execution_count": 13,
     "metadata": {},
     "output_type": "execute_result"
    }
   ],
   "source": [
    "channels_location_Unknown = []\n",
    "for channel in channels :\n",
    "    if channel['localisation']==\"\":\n",
    "        channels_location_Unknown.append(channel)\n",
    "\n",
    "saveJson(\"../jsons/channels_location_Unknown.json\",channels_location_Unknown)\n",
    "len(channels_location_Unknown)"
   ]
  },
  {
   "cell_type": "markdown",
   "id": "7b71af08",
   "metadata": {},
   "source": [
    "### 2.Refine Channels Locations"
   ]
  },
  {
   "cell_type": "code",
   "execution_count": 13,
   "id": "062fb427",
   "metadata": {},
   "outputs": [],
   "source": [
    "from utils import RefineAllChannels"
   ]
  },
  {
   "cell_type": "code",
   "execution_count": 14,
   "metadata": {},
   "outputs": [
    {
     "name": "stderr",
     "output_type": "stream",
     "text": [
      "Channels-Locations Refining...:   0%|          | 0/1077 [00:00<?, ?it/s]Asking to truncate to max_length but no maximum length is provided and the model has no predefined maximum length. Default to no truncation.\n",
      "Channels-Locations Refining...:   3%|▎         | 30/1077 [00:47<14:02,  1.24it/s] "
     ]
    },
    {
     "name": "stdout",
     "output_type": "stream",
     "text": [
      "Error with GeoCoding\n"
     ]
    },
    {
     "name": "stderr",
     "output_type": "stream",
     "text": [
      "Channels-Locations Refining...:   9%|▉         | 100/1077 [02:43<23:16,  1.43s/it] "
     ]
    },
    {
     "name": "stdout",
     "output_type": "stream",
     "text": [
      "\u001b[1m\u001b[32m\n",
      " json saved\u001b[0m\n"
     ]
    },
    {
     "name": "stderr",
     "output_type": "stream",
     "text": [
      "Channels-Locations Refining...:  18%|█▊        | 192/1077 [05:09<24:31,  1.66s/it]"
     ]
    },
    {
     "name": "stdout",
     "output_type": "stream",
     "text": [
      "Error with GeoCoding\n"
     ]
    },
    {
     "name": "stderr",
     "output_type": "stream",
     "text": [
      "Channels-Locations Refining...:  19%|█▊        | 200/1077 [05:31<20:34,  1.41s/it]  "
     ]
    },
    {
     "name": "stdout",
     "output_type": "stream",
     "text": [
      "\u001b[1m\u001b[32m\n",
      " json saved\u001b[0m\n"
     ]
    },
    {
     "name": "stderr",
     "output_type": "stream",
     "text": [
      "/teamspace/studios/this_studio/AgroTube/.venv/lib/python3.10/site-packages/gliner/data_processing/processor.py:296: UserWarning: Sentence of length 397 has been truncated to 384\n",
      "  warnings.warn(f\"Sentence of length {len(tokens)} has been truncated to {max_len}\")\n",
      "Channels-Locations Refining...:  19%|█▉        | 205/1077 [05:42<26:36,  1.83s/it]/teamspace/studios/this_studio/AgroTube/.venv/lib/python3.10/site-packages/gliner/data_processing/processor.py:296: UserWarning: Sentence of length 838 has been truncated to 384\n",
      "  warnings.warn(f\"Sentence of length {len(tokens)} has been truncated to {max_len}\")\n",
      "Channels-Locations Refining...:  19%|█▉        | 207/1077 [05:48<31:07,  2.15s/it]/teamspace/studios/this_studio/AgroTube/.venv/lib/python3.10/site-packages/gliner/data_processing/processor.py:296: UserWarning: Sentence of length 11347 has been truncated to 384\n",
      "  warnings.warn(f\"Sentence of length {len(tokens)} has been truncated to {max_len}\")\n",
      "Channels-Locations Refining...:  21%|██        | 223/1077 [06:16<16:45,  1.18s/it]/teamspace/studios/this_studio/AgroTube/.venv/lib/python3.10/site-packages/gliner/data_processing/processor.py:296: UserWarning: Sentence of length 950 has been truncated to 384\n",
      "  warnings.warn(f\"Sentence of length {len(tokens)} has been truncated to {max_len}\")\n",
      "Channels-Locations Refining...:  21%|██▏       | 229/1077 [06:24<14:07,  1.00it/s]/teamspace/studios/this_studio/AgroTube/.venv/lib/python3.10/site-packages/gliner/data_processing/processor.py:296: UserWarning: Sentence of length 644 has been truncated to 384\n",
      "  warnings.warn(f\"Sentence of length {len(tokens)} has been truncated to {max_len}\")\n",
      "Channels-Locations Refining...:  22%|██▏       | 233/1077 [06:30<16:33,  1.18s/it]/teamspace/studios/this_studio/AgroTube/.venv/lib/python3.10/site-packages/gliner/data_processing/processor.py:296: UserWarning: Sentence of length 408 has been truncated to 384\n",
      "  warnings.warn(f\"Sentence of length {len(tokens)} has been truncated to {max_len}\")\n",
      "Channels-Locations Refining...:  25%|██▌       | 272/1077 [07:44<23:27,  1.75s/it]/teamspace/studios/this_studio/AgroTube/.venv/lib/python3.10/site-packages/gliner/data_processing/processor.py:296: UserWarning: Sentence of length 1036 has been truncated to 384\n",
      "  warnings.warn(f\"Sentence of length {len(tokens)} has been truncated to {max_len}\")\n",
      "Channels-Locations Refining...:  28%|██▊       | 300/1077 [08:40<24:23,  1.88s/it]"
     ]
    },
    {
     "name": "stdout",
     "output_type": "stream",
     "text": [
      "\u001b[1m\u001b[32m\n",
      " json saved\u001b[0m\n"
     ]
    },
    {
     "name": "stderr",
     "output_type": "stream",
     "text": [
      "/teamspace/studios/this_studio/AgroTube/.venv/lib/python3.10/site-packages/gliner/data_processing/processor.py:296: UserWarning: Sentence of length 451 has been truncated to 384\n",
      "  warnings.warn(f\"Sentence of length {len(tokens)} has been truncated to {max_len}\")\n",
      "Channels-Locations Refining...:  29%|██▊       | 308/1077 [09:00<27:13,  2.12s/it]/teamspace/studios/this_studio/AgroTube/.venv/lib/python3.10/site-packages/gliner/data_processing/processor.py:296: UserWarning: Sentence of length 679 has been truncated to 384\n",
      "  warnings.warn(f\"Sentence of length {len(tokens)} has been truncated to {max_len}\")\n",
      "Channels-Locations Refining...:  31%|███       | 329/1077 [09:27<08:10,  1.53it/s]/teamspace/studios/this_studio/AgroTube/.venv/lib/python3.10/site-packages/gliner/data_processing/processor.py:296: UserWarning: Sentence of length 17903 has been truncated to 384\n",
      "  warnings.warn(f\"Sentence of length {len(tokens)} has been truncated to {max_len}\")\n",
      "Channels-Locations Refining...:  35%|███▍      | 373/1077 [10:20<10:27,  1.12it/s]/teamspace/studios/this_studio/AgroTube/.venv/lib/python3.10/site-packages/gliner/data_processing/processor.py:296: UserWarning: Sentence of length 634 has been truncated to 384\n",
      "  warnings.warn(f\"Sentence of length {len(tokens)} has been truncated to {max_len}\")\n",
      "Channels-Locations Refining...:  35%|███▌      | 377/1077 [10:28<20:25,  1.75s/it]/teamspace/studios/this_studio/AgroTube/.venv/lib/python3.10/site-packages/gliner/data_processing/processor.py:296: UserWarning: Sentence of length 537 has been truncated to 384\n",
      "  warnings.warn(f\"Sentence of length {len(tokens)} has been truncated to {max_len}\")\n",
      "Channels-Locations Refining...:  37%|███▋      | 395/1077 [11:00<14:30,  1.28s/it]/teamspace/studios/this_studio/AgroTube/.venv/lib/python3.10/site-packages/gliner/data_processing/processor.py:296: UserWarning: Sentence of length 404 has been truncated to 384\n",
      "  warnings.warn(f\"Sentence of length {len(tokens)} has been truncated to {max_len}\")\n",
      "Channels-Locations Refining...:  37%|███▋      | 398/1077 [11:06<19:57,  1.76s/it]/teamspace/studios/this_studio/AgroTube/.venv/lib/python3.10/site-packages/gliner/data_processing/processor.py:296: UserWarning: Sentence of length 620 has been truncated to 384\n",
      "  warnings.warn(f\"Sentence of length {len(tokens)} has been truncated to {max_len}\")\n",
      "Channels-Locations Refining...:  37%|███▋      | 400/1077 [11:09<16:13,  1.44s/it]"
     ]
    },
    {
     "name": "stdout",
     "output_type": "stream",
     "text": [
      "\u001b[1m\u001b[32m\n",
      " json saved\u001b[0m\n"
     ]
    },
    {
     "name": "stderr",
     "output_type": "stream",
     "text": [
      "Channels-Locations Refining...:  38%|███▊      | 405/1077 [11:14<15:25,  1.38s/it]/teamspace/studios/this_studio/AgroTube/.venv/lib/python3.10/site-packages/gliner/data_processing/processor.py:296: UserWarning: Sentence of length 456 has been truncated to 384\n",
      "  warnings.warn(f\"Sentence of length {len(tokens)} has been truncated to {max_len}\")\n",
      "Channels-Locations Refining...:  39%|███▊      | 416/1077 [11:33<18:45,  1.70s/it]/teamspace/studios/this_studio/AgroTube/.venv/lib/python3.10/site-packages/gliner/data_processing/processor.py:296: UserWarning: Sentence of length 778 has been truncated to 384\n",
      "  warnings.warn(f\"Sentence of length {len(tokens)} has been truncated to {max_len}\")\n",
      "Channels-Locations Refining...:  40%|████      | 432/1077 [12:10<29:55,  2.78s/it]/teamspace/studios/this_studio/AgroTube/.venv/lib/python3.10/site-packages/gliner/data_processing/processor.py:296: UserWarning: Sentence of length 2305 has been truncated to 384\n",
      "  warnings.warn(f\"Sentence of length {len(tokens)} has been truncated to {max_len}\")\n",
      "Channels-Locations Refining...:  40%|████      | 436/1077 [12:18<25:19,  2.37s/it]/teamspace/studios/this_studio/AgroTube/.venv/lib/python3.10/site-packages/gliner/data_processing/processor.py:296: UserWarning: Sentence of length 647 has been truncated to 384\n",
      "  warnings.warn(f\"Sentence of length {len(tokens)} has been truncated to {max_len}\")\n",
      "Channels-Locations Refining...:  44%|████▎     | 470/1077 [13:06<09:01,  1.12it/s]/teamspace/studios/this_studio/AgroTube/.venv/lib/python3.10/site-packages/gliner/data_processing/processor.py:296: UserWarning: Sentence of length 600 has been truncated to 384\n",
      "  warnings.warn(f\"Sentence of length {len(tokens)} has been truncated to {max_len}\")\n",
      "Channels-Locations Refining...:  44%|████▍     | 476/1077 [13:15<11:04,  1.11s/it]/teamspace/studios/this_studio/AgroTube/.venv/lib/python3.10/site-packages/gliner/data_processing/processor.py:296: UserWarning: Sentence of length 515 has been truncated to 384\n",
      "  warnings.warn(f\"Sentence of length {len(tokens)} has been truncated to {max_len}\")\n",
      "Channels-Locations Refining...:  44%|████▍     | 479/1077 [13:23<18:48,  1.89s/it]/teamspace/studios/this_studio/AgroTube/.venv/lib/python3.10/site-packages/gliner/data_processing/processor.py:296: UserWarning: Sentence of length 1183 has been truncated to 384\n",
      "  warnings.warn(f\"Sentence of length {len(tokens)} has been truncated to {max_len}\")\n",
      "Channels-Locations Refining...:  45%|████▌     | 490/1077 [13:45<38:26,  3.93s/it]/teamspace/studios/this_studio/AgroTube/.venv/lib/python3.10/site-packages/gliner/data_processing/processor.py:296: UserWarning: Sentence of length 733 has been truncated to 384\n",
      "  warnings.warn(f\"Sentence of length {len(tokens)} has been truncated to {max_len}\")\n",
      "Channels-Locations Refining...:  46%|████▋     | 500/1077 [13:58<10:05,  1.05s/it]"
     ]
    },
    {
     "name": "stdout",
     "output_type": "stream",
     "text": [
      "\u001b[1m\u001b[32m\n",
      " json saved\u001b[0m\n"
     ]
    },
    {
     "name": "stderr",
     "output_type": "stream",
     "text": [
      "Channels-Locations Refining...:  48%|████▊     | 518/1077 [14:25<11:08,  1.20s/it]/teamspace/studios/this_studio/AgroTube/.venv/lib/python3.10/site-packages/gliner/data_processing/processor.py:296: UserWarning: Sentence of length 453 has been truncated to 384\n",
      "  warnings.warn(f\"Sentence of length {len(tokens)} has been truncated to {max_len}\")\n",
      "Channels-Locations Refining...:  49%|████▉     | 533/1077 [14:49<15:18,  1.69s/it]/teamspace/studios/this_studio/AgroTube/.venv/lib/python3.10/site-packages/gliner/data_processing/processor.py:296: UserWarning: Sentence of length 412 has been truncated to 384\n",
      "  warnings.warn(f\"Sentence of length {len(tokens)} has been truncated to {max_len}\")\n",
      "Channels-Locations Refining...:  53%|█████▎    | 575/1077 [15:41<06:19,  1.32it/s]/teamspace/studios/this_studio/AgroTube/.venv/lib/python3.10/site-packages/gliner/data_processing/processor.py:296: UserWarning: Sentence of length 738 has been truncated to 384\n",
      "  warnings.warn(f\"Sentence of length {len(tokens)} has been truncated to {max_len}\")\n",
      "Channels-Locations Refining...:  56%|█████▌    | 598/1077 [16:11<07:14,  1.10it/s]/teamspace/studios/this_studio/AgroTube/.venv/lib/python3.10/site-packages/gliner/data_processing/processor.py:296: UserWarning: Sentence of length 660 has been truncated to 384\n",
      "  warnings.warn(f\"Sentence of length {len(tokens)} has been truncated to {max_len}\")\n",
      "Channels-Locations Refining...:  56%|█████▌    | 600/1077 [16:13<08:33,  1.08s/it]"
     ]
    },
    {
     "name": "stdout",
     "output_type": "stream",
     "text": [
      "\u001b[1m\u001b[32m\n",
      " json saved\u001b[0m\n"
     ]
    },
    {
     "name": "stderr",
     "output_type": "stream",
     "text": [
      "Channels-Locations Refining...:  58%|█████▊    | 624/1077 [16:49<12:49,  1.70s/it]/teamspace/studios/this_studio/AgroTube/.venv/lib/python3.10/site-packages/gliner/data_processing/processor.py:296: UserWarning: Sentence of length 386 has been truncated to 384\n",
      "  warnings.warn(f\"Sentence of length {len(tokens)} has been truncated to {max_len}\")\n",
      "Channels-Locations Refining...:  58%|█████▊    | 626/1077 [16:53<13:07,  1.75s/it]/teamspace/studios/this_studio/AgroTube/.venv/lib/python3.10/site-packages/gliner/data_processing/processor.py:296: UserWarning: Sentence of length 552 has been truncated to 384\n",
      "  warnings.warn(f\"Sentence of length {len(tokens)} has been truncated to {max_len}\")\n",
      "Channels-Locations Refining...:  58%|█████▊    | 630/1077 [17:02<15:21,  2.06s/it]/teamspace/studios/this_studio/AgroTube/.venv/lib/python3.10/site-packages/gliner/data_processing/processor.py:296: UserWarning: Sentence of length 472 has been truncated to 384\n",
      "  warnings.warn(f\"Sentence of length {len(tokens)} has been truncated to {max_len}\")\n",
      "Channels-Locations Refining...:  60%|██████    | 651/1077 [17:37<12:23,  1.75s/it]/teamspace/studios/this_studio/AgroTube/.venv/lib/python3.10/site-packages/gliner/data_processing/processor.py:296: UserWarning: Sentence of length 974 has been truncated to 384\n",
      "  warnings.warn(f\"Sentence of length {len(tokens)} has been truncated to {max_len}\")\n",
      "Channels-Locations Refining...:  64%|██████▍   | 687/1077 [18:28<08:05,  1.25s/it]/teamspace/studios/this_studio/AgroTube/.venv/lib/python3.10/site-packages/gliner/data_processing/processor.py:296: UserWarning: Sentence of length 425 has been truncated to 384\n",
      "  warnings.warn(f\"Sentence of length {len(tokens)} has been truncated to {max_len}\")\n",
      "Channels-Locations Refining...:  65%|██████▍   | 700/1077 [18:50<05:44,  1.09it/s]"
     ]
    },
    {
     "name": "stdout",
     "output_type": "stream",
     "text": [
      "\u001b[1m\u001b[32m\n",
      " json saved\u001b[0m\n"
     ]
    },
    {
     "name": "stderr",
     "output_type": "stream",
     "text": [
      "Channels-Locations Refining...:  67%|██████▋   | 723/1077 [19:39<10:13,  1.73s/it]/teamspace/studios/this_studio/AgroTube/.venv/lib/python3.10/site-packages/gliner/data_processing/processor.py:296: UserWarning: Sentence of length 385 has been truncated to 384\n",
      "  warnings.warn(f\"Sentence of length {len(tokens)} has been truncated to {max_len}\")\n",
      "Channels-Locations Refining...:  68%|██████▊   | 737/1077 [19:58<06:55,  1.22s/it]/teamspace/studios/this_studio/AgroTube/.venv/lib/python3.10/site-packages/gliner/data_processing/processor.py:296: UserWarning: Sentence of length 497 has been truncated to 384\n",
      "  warnings.warn(f\"Sentence of length {len(tokens)} has been truncated to {max_len}\")\n",
      "Channels-Locations Refining...:  69%|██████▉   | 742/1077 [20:10<14:27,  2.59s/it]/teamspace/studios/this_studio/AgroTube/.venv/lib/python3.10/site-packages/gliner/data_processing/processor.py:296: UserWarning: Sentence of length 401 has been truncated to 384\n",
      "  warnings.warn(f\"Sentence of length {len(tokens)} has been truncated to {max_len}\")\n",
      "Channels-Locations Refining...:  71%|███████   | 766/1077 [20:50<06:15,  1.21s/it]/teamspace/studios/this_studio/AgroTube/.venv/lib/python3.10/site-packages/gliner/data_processing/processor.py:296: UserWarning: Sentence of length 801 has been truncated to 384\n",
      "  warnings.warn(f\"Sentence of length {len(tokens)} has been truncated to {max_len}\")\n",
      "Channels-Locations Refining...:  71%|███████▏  | 769/1077 [20:55<07:54,  1.54s/it]/teamspace/studios/this_studio/AgroTube/.venv/lib/python3.10/site-packages/gliner/data_processing/processor.py:296: UserWarning: Sentence of length 1504 has been truncated to 384\n",
      "  warnings.warn(f\"Sentence of length {len(tokens)} has been truncated to {max_len}\")\n",
      "Channels-Locations Refining...:  73%|███████▎  | 781/1077 [21:10<04:52,  1.01it/s]/teamspace/studios/this_studio/AgroTube/.venv/lib/python3.10/site-packages/gliner/data_processing/processor.py:296: UserWarning: Sentence of length 1118 has been truncated to 384\n",
      "  warnings.warn(f\"Sentence of length {len(tokens)} has been truncated to {max_len}\")\n",
      "Channels-Locations Refining...:  73%|███████▎  | 785/1077 [21:21<12:48,  2.63s/it]/teamspace/studios/this_studio/AgroTube/.venv/lib/python3.10/site-packages/gliner/data_processing/processor.py:296: UserWarning: Sentence of length 411 has been truncated to 384\n",
      "  warnings.warn(f\"Sentence of length {len(tokens)} has been truncated to {max_len}\")\n",
      "Channels-Locations Refining...:  73%|███████▎  | 789/1077 [21:32<14:43,  3.07s/it]/teamspace/studios/this_studio/AgroTube/.venv/lib/python3.10/site-packages/gliner/data_processing/processor.py:296: UserWarning: Sentence of length 405 has been truncated to 384\n",
      "  warnings.warn(f\"Sentence of length {len(tokens)} has been truncated to {max_len}\")\n",
      "Channels-Locations Refining...:  74%|███████▍  | 800/1077 [21:51<06:37,  1.43s/it]"
     ]
    },
    {
     "name": "stdout",
     "output_type": "stream",
     "text": [
      "\u001b[1m\u001b[32m\n",
      " json saved\u001b[0m\n"
     ]
    },
    {
     "name": "stderr",
     "output_type": "stream",
     "text": [
      "Channels-Locations Refining...:  76%|███████▌  | 821/1077 [22:29<14:29,  3.40s/it]/teamspace/studios/this_studio/AgroTube/.venv/lib/python3.10/site-packages/gliner/data_processing/processor.py:296: UserWarning: Sentence of length 549 has been truncated to 384\n",
      "  warnings.warn(f\"Sentence of length {len(tokens)} has been truncated to {max_len}\")\n",
      "Channels-Locations Refining...:  81%|████████  | 867/1077 [23:23<02:40,  1.31it/s]/teamspace/studios/this_studio/AgroTube/.venv/lib/python3.10/site-packages/gliner/data_processing/processor.py:296: UserWarning: Sentence of length 753 has been truncated to 384\n",
      "  warnings.warn(f\"Sentence of length {len(tokens)} has been truncated to {max_len}\")\n",
      "Channels-Locations Refining...:  82%|████████▏ | 885/1077 [23:43<04:14,  1.33s/it]/teamspace/studios/this_studio/AgroTube/.venv/lib/python3.10/site-packages/gliner/data_processing/processor.py:296: UserWarning: Sentence of length 920 has been truncated to 384\n",
      "  warnings.warn(f\"Sentence of length {len(tokens)} has been truncated to {max_len}\")\n",
      "Channels-Locations Refining...:  82%|████████▏ | 886/1077 [23:46<06:14,  1.96s/it]/teamspace/studios/this_studio/AgroTube/.venv/lib/python3.10/site-packages/gliner/data_processing/processor.py:296: UserWarning: Sentence of length 674 has been truncated to 384\n",
      "  warnings.warn(f\"Sentence of length {len(tokens)} has been truncated to {max_len}\")\n",
      "Channels-Locations Refining...:  83%|████████▎ | 889/1077 [23:51<04:45,  1.52s/it]/teamspace/studios/this_studio/AgroTube/.venv/lib/python3.10/site-packages/gliner/data_processing/processor.py:296: UserWarning: Sentence of length 1176 has been truncated to 384\n",
      "  warnings.warn(f\"Sentence of length {len(tokens)} has been truncated to {max_len}\")\n",
      "Channels-Locations Refining...:  83%|████████▎ | 899/1077 [24:11<05:14,  1.77s/it]/teamspace/studios/this_studio/AgroTube/.venv/lib/python3.10/site-packages/gliner/data_processing/processor.py:296: UserWarning: Sentence of length 1182 has been truncated to 384\n",
      "  warnings.warn(f\"Sentence of length {len(tokens)} has been truncated to {max_len}\")\n",
      "Channels-Locations Refining...:  84%|████████▎ | 900/1077 [24:13<05:37,  1.91s/it]"
     ]
    },
    {
     "name": "stdout",
     "output_type": "stream",
     "text": [
      "\u001b[1m\u001b[32m\n",
      " json saved\u001b[0m\n"
     ]
    },
    {
     "name": "stderr",
     "output_type": "stream",
     "text": [
      "/teamspace/studios/this_studio/AgroTube/.venv/lib/python3.10/site-packages/gliner/data_processing/processor.py:296: UserWarning: Sentence of length 550 has been truncated to 384\n",
      "  warnings.warn(f\"Sentence of length {len(tokens)} has been truncated to {max_len}\")\n",
      "Channels-Locations Refining...:  84%|████████▎ | 901/1077 [24:15<05:47,  1.98s/it]/teamspace/studios/this_studio/AgroTube/.venv/lib/python3.10/site-packages/gliner/data_processing/processor.py:296: UserWarning: Sentence of length 1188 has been truncated to 384\n",
      "  warnings.warn(f\"Sentence of length {len(tokens)} has been truncated to {max_len}\")\n",
      "Channels-Locations Refining...:  84%|████████▍ | 909/1077 [24:29<05:47,  2.07s/it]/teamspace/studios/this_studio/AgroTube/.venv/lib/python3.10/site-packages/gliner/data_processing/processor.py:296: UserWarning: Sentence of length 523 has been truncated to 384\n",
      "  warnings.warn(f\"Sentence of length {len(tokens)} has been truncated to {max_len}\")\n",
      "Channels-Locations Refining...:  85%|████████▌ | 919/1077 [24:41<02:11,  1.20it/s]/teamspace/studios/this_studio/AgroTube/.venv/lib/python3.10/site-packages/gliner/data_processing/processor.py:296: UserWarning: Sentence of length 2334 has been truncated to 384\n",
      "  warnings.warn(f\"Sentence of length {len(tokens)} has been truncated to {max_len}\")\n",
      "Channels-Locations Refining...:  88%|████████▊ | 943/1077 [25:13<02:13,  1.01it/s]/teamspace/studios/this_studio/AgroTube/.venv/lib/python3.10/site-packages/gliner/data_processing/processor.py:296: UserWarning: Sentence of length 699 has been truncated to 384\n",
      "  warnings.warn(f\"Sentence of length {len(tokens)} has been truncated to {max_len}\")\n",
      "Channels-Locations Refining...:  89%|████████▊ | 954/1077 [25:24<01:32,  1.33it/s]/teamspace/studios/this_studio/AgroTube/.venv/lib/python3.10/site-packages/gliner/data_processing/processor.py:296: UserWarning: Sentence of length 840 has been truncated to 384\n",
      "  warnings.warn(f\"Sentence of length {len(tokens)} has been truncated to {max_len}\")\n",
      "Channels-Locations Refining...:  91%|█████████ | 975/1077 [25:52<02:03,  1.21s/it]/teamspace/studios/this_studio/AgroTube/.venv/lib/python3.10/site-packages/gliner/data_processing/processor.py:296: UserWarning: Sentence of length 589 has been truncated to 384\n",
      "  warnings.warn(f\"Sentence of length {len(tokens)} has been truncated to {max_len}\")\n",
      "Channels-Locations Refining...:  91%|█████████ | 976/1077 [25:54<02:27,  1.46s/it]/teamspace/studios/this_studio/AgroTube/.venv/lib/python3.10/site-packages/gliner/data_processing/processor.py:296: UserWarning: Sentence of length 732 has been truncated to 384\n",
      "  warnings.warn(f\"Sentence of length {len(tokens)} has been truncated to {max_len}\")\n",
      "Channels-Locations Refining...:  93%|█████████▎| 1000/1077 [26:44<02:09,  1.68s/it]"
     ]
    },
    {
     "name": "stdout",
     "output_type": "stream",
     "text": [
      "\u001b[1m\u001b[32m\n",
      " json saved\u001b[0m\n"
     ]
    },
    {
     "name": "stderr",
     "output_type": "stream",
     "text": [
      "Channels-Locations Refining...:  93%|█████████▎| 1002/1077 [26:51<03:16,  2.61s/it]/teamspace/studios/this_studio/AgroTube/.venv/lib/python3.10/site-packages/gliner/data_processing/processor.py:296: UserWarning: Sentence of length 1213 has been truncated to 384\n",
      "  warnings.warn(f\"Sentence of length {len(tokens)} has been truncated to {max_len}\")\n",
      "Channels-Locations Refining...:  93%|█████████▎| 1006/1077 [26:59<02:09,  1.82s/it]/teamspace/studios/this_studio/AgroTube/.venv/lib/python3.10/site-packages/gliner/data_processing/processor.py:296: UserWarning: Sentence of length 391 has been truncated to 384\n",
      "  warnings.warn(f\"Sentence of length {len(tokens)} has been truncated to {max_len}\")\n",
      "Channels-Locations Refining...:  95%|█████████▌| 1024/1077 [27:37<01:23,  1.57s/it]/teamspace/studios/this_studio/AgroTube/.venv/lib/python3.10/site-packages/gliner/data_processing/processor.py:296: UserWarning: Sentence of length 557 has been truncated to 384\n",
      "  warnings.warn(f\"Sentence of length {len(tokens)} has been truncated to {max_len}\")\n",
      "Channels-Locations Refining...:  96%|█████████▌| 1029/1077 [27:44<01:09,  1.45s/it]/teamspace/studios/this_studio/AgroTube/.venv/lib/python3.10/site-packages/gliner/data_processing/processor.py:296: UserWarning: Sentence of length 439 has been truncated to 384\n",
      "  warnings.warn(f\"Sentence of length {len(tokens)} has been truncated to {max_len}\")\n",
      "Channels-Locations Refining...:  96%|█████████▌| 1035/1077 [27:52<01:03,  1.52s/it]/teamspace/studios/this_studio/AgroTube/.venv/lib/python3.10/site-packages/gliner/data_processing/processor.py:296: UserWarning: Sentence of length 490 has been truncated to 384\n",
      "  warnings.warn(f\"Sentence of length {len(tokens)} has been truncated to {max_len}\")\n",
      "Channels-Locations Refining...:  97%|█████████▋| 1040/1077 [27:57<00:32,  1.13it/s]/teamspace/studios/this_studio/AgroTube/.venv/lib/python3.10/site-packages/gliner/data_processing/processor.py:296: UserWarning: Sentence of length 492 has been truncated to 384\n",
      "  warnings.warn(f\"Sentence of length {len(tokens)} has been truncated to {max_len}\")\n",
      "Channels-Locations Refining...:  99%|█████████▊| 1062/1077 [28:30<00:38,  2.60s/it]/teamspace/studios/this_studio/AgroTube/.venv/lib/python3.10/site-packages/gliner/data_processing/processor.py:296: UserWarning: Sentence of length 524 has been truncated to 384\n",
      "  warnings.warn(f\"Sentence of length {len(tokens)} has been truncated to {max_len}\")\n",
      "Channels-Locations Refining...:  99%|█████████▉| 1066/1077 [28:35<00:14,  1.28s/it]/teamspace/studios/this_studio/AgroTube/.venv/lib/python3.10/site-packages/gliner/data_processing/processor.py:296: UserWarning: Sentence of length 862 has been truncated to 384\n",
      "  warnings.warn(f\"Sentence of length {len(tokens)} has been truncated to {max_len}\")\n",
      "Channels-Locations Refining...:  99%|█████████▉| 1070/1077 [28:41<00:09,  1.32s/it]/teamspace/studios/this_studio/AgroTube/.venv/lib/python3.10/site-packages/gliner/data_processing/processor.py:296: UserWarning: Sentence of length 1204 has been truncated to 384\n",
      "  warnings.warn(f\"Sentence of length {len(tokens)} has been truncated to {max_len}\")\n",
      "Channels-Locations Refining...: 100%|█████████▉| 1073/1077 [28:46<00:05,  1.30s/it]/teamspace/studios/this_studio/AgroTube/.venv/lib/python3.10/site-packages/gliner/data_processing/processor.py:296: UserWarning: Sentence of length 478 has been truncated to 384\n",
      "  warnings.warn(f\"Sentence of length {len(tokens)} has been truncated to {max_len}\")\n",
      "Channels-Locations Refining...: 100%|██████████| 1077/1077 [28:54<00:00,  1.61s/it]"
     ]
    },
    {
     "name": "stdout",
     "output_type": "stream",
     "text": [
      "\u001b[1m\u001b[32m\n",
      " json saved\u001b[0m\n"
     ]
    },
    {
     "name": "stderr",
     "output_type": "stream",
     "text": [
      "\n"
     ]
    }
   ],
   "source": [
    "RefineAllChannels()"
   ]
  },
  {
   "cell_type": "markdown",
   "id": "fa41e79c",
   "metadata": {},
   "source": [
    "- Temps moyenne de processus avec CPU "
   ]
  },
  {
   "cell_type": "code",
   "execution_count": 16,
   "id": "f803365c",
   "metadata": {},
   "outputs": [
    {
     "name": "stdout",
     "output_type": "stream",
     "text": [
      "Temps moyen de localisation : 1.61 secondes\n"
     ]
    }
   ],
   "source": [
    "channels_location_Unknown = openJson(\"../jsons/channels_location_Unknown.json\")\n",
    "localisation_times = [\n",
    "    chaine['localisationTime(s)']\n",
    "    for chaine in channels_location_Unknown\n",
    "    if 'localisationTime(s)' in chaine and isinstance(chaine['localisationTime(s)'], (int, float))\n",
    "]\n",
    "\n",
    "if localisation_times:\n",
    "    moyenne = sum(localisation_times) / len(localisation_times)\n",
    "    print(f\"Temps moyen de localisation : {moyenne:.2f} secondes\")\n",
    "else:\n",
    "    print(\"Aucun temps de localisation valide trouvé.\")"
   ]
  },
  {
   "cell_type": "markdown",
   "id": "e55a5654",
   "metadata": {},
   "source": [
    "### 3.Results of ChannelsLocations-Refining"
   ]
  },
  {
   "cell_type": "markdown",
   "id": "bcfb0858",
   "metadata": {},
   "source": [
    "#### Create channelsR1.json\n",
    "\n",
    "To insert the New locations on the original file"
   ]
  },
  {
   "cell_type": "code",
   "execution_count": 17,
   "id": "6840b0f3",
   "metadata": {},
   "outputs": [
    {
     "name": "stdout",
     "output_type": "stream",
     "text": [
      "3309\n",
      "1077\n"
     ]
    }
   ],
   "source": [
    "channels = openJson(\"../../collecting/jsons/channels.json\")\n",
    "channels_location_Unknown = openJson(\"../jsons/channels_location_Unknown.json\")\n",
    "print(len(channels))\n",
    "print(len(channels_location_Unknown))"
   ]
  },
  {
   "cell_type": "code",
   "execution_count": 18,
   "id": "715d6ad1",
   "metadata": {},
   "outputs": [],
   "source": [
    "def returnLocation(channelId):\n",
    "    for channel in channels_location_Unknown:\n",
    "        if channel['id_chaine']==channelId:\n",
    "            return channel['localisation']"
   ]
  },
  {
   "cell_type": "code",
   "execution_count": 19,
   "id": "9f9ef540",
   "metadata": {},
   "outputs": [
    {
     "name": "stderr",
     "output_type": "stream",
     "text": [
      "100%|██████████| 3309/3309 [00:00<00:00, 74557.49it/s]"
     ]
    },
    {
     "name": "stdout",
     "output_type": "stream",
     "text": [
      "\u001b[1m\u001b[32m\n",
      " json saved\u001b[0m\n"
     ]
    },
    {
     "name": "stderr",
     "output_type": "stream",
     "text": [
      "\n"
     ]
    }
   ],
   "source": [
    "for channel in tqdm(channels):\n",
    "    if channel['localisation'] == \"\":\n",
    "        channel['localisation']  = returnLocation(channel['id_chaine'])\n",
    "\n",
    "saveJson(\"../jsons/channelsR1.json\",channels)"
   ]
  },
  {
   "cell_type": "code",
   "execution_count": null,
   "metadata": {},
   "outputs": [],
   "source": []
  },
  {
   "cell_type": "code",
   "execution_count": null,
   "metadata": {},
   "outputs": [],
   "source": []
  },
  {
   "cell_type": "code",
   "execution_count": null,
   "metadata": {},
   "outputs": [],
   "source": []
  },
  {
   "cell_type": "markdown",
   "id": "1a778435",
   "metadata": {},
   "source": [
    "### 1.Seperate These videos "
   ]
  },
  {
   "cell_type": "code",
   "execution_count": null,
   "id": "ccc9b902",
   "metadata": {},
   "outputs": [],
   "source": [
    "with open(\"../jsons/videosR2.json\", \"r\", encoding=\"utf-8\") as file:\n",
    "    videosR2 = json.load(file)\n",
    "videosfr = []\n",
    "for video in videosR2:\n",
    "    if video['langue']=='fr':\n",
    "        videosfr.append(video)\n",
    "with open(\"../jsons/videosfr.json\", \"w\", encoding=\"utf-8\") as f:\n",
    "    json.dump(videosfr, f, ensure_ascii=False, indent=2)\n",
    "    print(Style.BRIGHT+Fore.GREEN+'\\n json saved'+Style.RESET_ALL)\n",
    "    print(Style.BRIGHT+Fore.YELLOW+f'\\n json length is : {len(videosfr)}'+Style.RESET_ALL)"
   ]
  },
  {
   "cell_type": "markdown",
   "id": "1440f9a2",
   "metadata": {},
   "source": [
    "### 2. Get the location by using metadata:"
   ]
  },
  {
   "cell_type": "code",
   "execution_count": null,
   "id": "9bb94364",
   "metadata": {},
   "outputs": [],
   "source": [
    "# Get the Context first\n",
    "import importlib\n",
    "import utils  # or whatever your module is called\n",
    "importlib.reload(utils)\n",
    "\n",
    "from utils import getContextAll\n"
   ]
  },
  {
   "cell_type": "code",
   "execution_count": null,
   "id": "3fc66499",
   "metadata": {},
   "outputs": [],
   "source": [
    "getContextAll()"
   ]
  },
  {
   "cell_type": "markdown",
   "id": "8f5caa90",
   "metadata": {},
   "source": [
    "### 3.NER"
   ]
  },
  {
   "cell_type": "markdown",
   "id": "5fe30f06",
   "metadata": {},
   "source": [
    "- with spacy (not realy accurate)"
   ]
  },
  {
   "cell_type": "code",
   "execution_count": null,
   "id": "6c4f56cf",
   "metadata": {},
   "outputs": [],
   "source": [
    "import spacy\n",
    "\n",
    "nlp = spacy.load(\"fr_core_news_lg\")"
   ]
  },
  {
   "cell_type": "code",
   "execution_count": null,
   "id": "e9901e89",
   "metadata": {},
   "outputs": [],
   "source": [
    "context = \"\"\"\n",
    "Le bio de la chaine : \\n \\n        \\n###############\\n        \\nDescription : Hello ! Aujourd’hui Bruno nous invite à questionner l'usage que faisons de notre habitat et nous propose de réduire nos surfaces de vie tout en gardant notre confort, de construire notre maison sans faire de prêt bancaire sur 20 ans. Et si on voyait dans le fait de construire notre maison plus qu'un défi, un cheminement, une expérience humaine, un accomplissement ?\\nDécouvrez la construction d’un habitat autonome avec une structure bois, isolation paille, enduit terre de 24m2 avec cuisine, séjour, chambre et salle de bain pour 5000€ ! \\nPrenez bien soin de vous.  \\nJe vous embrasse, \\n\\nA bientôt 🌸 \\n\\nSarah \\n\\n\\n\\nLe site internet d’Alter’éco 30 : https://bit.ly/37pw1uj \\n\\n#OurInnerTravels #Autonomie #Habitat #Maison #HabitatAutonome #Ecologie \\n\\n\\nRetrouve moi aussi sur : \\n🎙PODCAST : https://anchor.fm/our-inner-travels\\n\\n📸 I N S T A G R A M : https://instagram.com/ourinnertravels \\n✍️ B L O G : https://ourinnertravels.com \\n📸 FACEBOOK : https://www.facebook.com/OurInnerTravels \\n💕 Abonne-toi à la chaine : https://bit.ly/2PUxikr \\n💌 Me Contacter 💌: contact@ourinnertravels.com\\n        \\n        \\n###############\\n        \\nDescription : Hello, Aujourd’hui je vous retrouve dans la première partie d’une série de 5 entretiens avec Bruno sur le thème : L’écologie et l’alternativité comme invitation à trouver un sens à la vie.\\nPartie 1 : Echovert, la construction d’un lieu alternatif, autonome et écologique\\nPartie 2 : Vivre de façon alternative, les joies\\nPartie 3 : Vivre de façon alternative, les défis \\nPartie 4 : L’écologie, une invitation à trouver un sens à la vie\\nPartie 5 : Les 3 kiffs de Bruno\\n\\nVous préférez écouter la vidéo sous format podcast ? C'est ici : https://bit.ly/3gmy5ZF\\n\\nEn octobre, de retour de voyage la réadaptation à la vie parisienne est difficile, est-ce peut-être car je n’ai pas envie de me réadapter, que je n’y vois plus de sens ? Je pars donc en Camargue, à une demi-heure de Nîmes et passe un mois dans un éco-lieu à la recherche de sens, de rencontres, de personnes qui partagent mes idées et mes aspirations. Bruno et Anne ont créé ce lieu de vie alternatif où naissent inventions respectueuses de l’environnement et expérimentations d’outils pour l’autonomie alimentaire et énergétique. Avec Bruno, on a commencé par parler de ce lieu de vie alternatif et de ce qu’implique le fait de vivre en communauté. On s’est aussi demander comment se reconnecter à soi et aux autres dans un monde qui semble parfois déconnecté du réel. Au fil de nos paroles, on en est finalement venu à se questionner sur le sens de la vie, et en quoi le fait de cultiver son écologie intérieure est peut-être la première forme d’engagement écologique à avoir. Aujourd’hui je vous propose de partir en voyage intérieur grâce à Bruno. L’écologie et l’alternativité comme invitation à trouver un sens à la vie.\\n\\nA bientôt 🌸 \\n\\nSarah \\n\\nLe site internet d’Alter’éco 30 : https://bit.ly/37pw1uj \\n\\nRetrouve moi aussi sur : \\n🎙PODCAST : https://anchor.fm/our-inner-travels\\n📸 I N S T A G R A M : https://instagram.com/ourinnertravels \\n✍️ B L O G : https://ourinnertravels.com \\n📸 FACEBOOK : https://www.facebook.com/OurInnerTravels \\n💕 Abonne-toi à la chaine : https://bit.ly/2PUxikr \\n💌 Me Contacter 💌: contact@ourinnertravels.com\\n        \\n        \\n###############\\n\\n        titre : Habitat autonome et autoconstruction\\n        \\n        \\n###############\\n\\n        titre : PARLONS #2 - 1 : Echovert, la construction d’un lieu alternatif, autonome et écologique - Bruno\\n       \n",
    "\n",
    "\"\"\"\n",
    "\n",
    "print(context)"
   ]
  },
  {
   "cell_type": "code",
   "execution_count": null,
   "metadata": {},
   "outputs": [],
   "source": [
    "doc = nlp(context)\n",
    "\n",
    "for ent in doc.ents:\n",
    "    if ent.label_ == \"LOC\":\n",
    "        print(f\"{ent}  :  {ent.label_}\" )"
   ]
  },
  {
   "cell_type": "code",
   "execution_count": null,
   "id": "6216fe2d",
   "metadata": {},
   "outputs": [],
   "source": [
    "from utils import RefineLanguage3"
   ]
  },
  {
   "cell_type": "code",
   "execution_count": 3,
   "id": "0181d606",
   "metadata": {},
   "outputs": [],
   "source": [
    "RefineLanguage3()"
   ]
  },
  {
   "cell_type": "code",
   "execution_count": 1,
   "id": "ea039f04",
   "metadata": {},
   "outputs": [
    {
     "name": "stdout",
     "output_type": "stream",
     "text": [
      "Nombre d'entrées avec un pays défini : 307\n",
      "Répartition par pays : {'FR': 209, 'CA': 16, 'BJ': 3, 'PT': 3, 'GB': 6, 'IR': 1, 'BE': 15, 'IT': 10, 'US': 14, 'GR': 1, 'CI': 6, 'ET': 1, 'BF': 5, 'MA': 1, 'CN': 2, 'AR': 3, 'SN': 1, 'CM': 1, 'IN': 1, 'AT': 1, 'TD': 1, 'TN': 1, 'CH': 1, 'MX': 1, 'HT': 1, 'AU': 1, 'PL': 1}\n"
     ]
    }
   ],
   "source": [
    "import json\n",
    "from collections import Counter\n",
    "\n",
    "# Exemple de données\n",
    "with open(\"../jsons/videosfrR3.json\", \"r\", encoding=\"utf-8\") as file:\n",
    "    data = json.load(file)\n",
    "\n",
    "# Filtrer les entrées avec une valeur de 'country' définie et différente de \"unknown\"\n",
    "valid_countries = [entry['country'] for entry in data if entry.get('country') and entry['country'] != \"unknown\"]\n",
    "\n",
    "# Compter combien par pays\n",
    "country_counts = Counter(valid_countries)\n",
    "\n",
    "# Afficher les résultats\n",
    "print(\"Nombre d'entrées avec un pays défini :\", len(valid_countries))\n",
    "print(\"Répartition par pays :\", dict(country_counts))\n"
   ]
  },
  {
   "cell_type": "code",
   "execution_count": null,
   "id": "444ec9a1",
   "metadata": {},
   "outputs": [],
   "source": [
    "from dotenv import load_dotenv\n",
    "import os\n",
    "from huggingface_hub import login\n",
    "\n",
    "load_dotenv()\n",
    "login(os.getenv(\"HUGG_TOKEN\"))\n"
   ]
  },
  {
   "cell_type": "code",
   "execution_count": null,
   "id": "35e814e2",
   "metadata": {},
   "outputs": [],
   "source": [
    "from tqdm import tqdm\n",
    "from flair.models import SequenceTagger\n",
    "from flair.data import Sentence\n",
    "\n",
    "# Enable tqdm progress bar explicitly\n",
    "tagger = SequenceTagger.load(\"flair/ner-french\")\n"
   ]
  },
  {
   "cell_type": "code",
   "execution_count": null,
   "id": "5aabb25e",
   "metadata": {},
   "outputs": [],
   "source": [
    "text = \"\"\"\n",
    "Le bio de la chaine : \\n \\n        \\n###############\\n        \\nDescription : Hello ! Aujourd’hui Bruno nous invite à questionner l'usage que faisons de notre habitat et nous propose de réduire nos surfaces de vie tout en gardant notre confort, de construire notre maison sans faire de prêt bancaire sur 20 ans. Et si on voyait dans le fait de construire notre maison plus qu'un défi, un cheminement, une expérience humaine, un accomplissement ?\\nDécouvrez la construction d’un habitat autonome avec une structure bois, isolation paille, enduit terre de 24m2 avec cuisine, séjour, chambre et salle de bain pour 5000€ ! \\nPrenez bien soin de vous.  \\nJe vous embrasse, \\n\\nA bientôt 🌸 \\n\\nSarah \\n\\n\\n\\nLe site internet d’Alter’éco 30 : https://bit.ly/37pw1uj \\n\\n#OurInnerTravels #Autonomie #Habitat #Maison #HabitatAutonome #Ecologie \\n\\n\\nRetrouve moi aussi sur : \\n🎙PODCAST : https://anchor.fm/our-inner-travels\\n\\n📸 I N S T A G R A M : https://instagram.com/ourinnertravels \\n✍️ B L O G : https://ourinnertravels.com \\n📸 FACEBOOK : https://www.facebook.com/OurInnerTravels \\n💕 Abonne-toi à la chaine : https://bit.ly/2PUxikr \\n💌 Me Contacter 💌: contact@ourinnertravels.com\\n        \\n        \\n###############\\n        \\nDescription : Hello, Aujourd’hui je vous retrouve dans la première partie d’une série de 5 entretiens avec Bruno sur le thème : L’écologie et l’alternativité comme invitation à trouver un sens à la vie.\\nPartie 1 : Echovert, la construction d’un lieu alternatif, autonome et écologique\\nPartie 2 : Vivre de façon alternative, les joies\\nPartie 3 : Vivre de façon alternative, les défis \\nPartie 4 : L’écologie, une invitation à trouver un sens à la vie\\nPartie 5 : Les 3 kiffs de Bruno\\n\\nVous préférez écouter la vidéo sous format podcast ? C'est ici : https://bit.ly/3gmy5ZF\\n\\nEn octobre, de retour de voyage la réadaptation à la vie parisienne est difficile, est-ce peut-être car je n’ai pas envie de me réadapter, que je n’y vois plus de sens ? Je pars donc en Camargue, à une demi-heure de Nîmes et passe un mois dans un éco-lieu à la recherche de sens, de rencontres, de personnes qui partagent mes idées et mes aspirations. Bruno et Anne ont créé ce lieu de vie alternatif où naissent inventions respectueuses de l’environnement et expérimentations d’outils pour l’autonomie alimentaire et énergétique. Avec Bruno, on a commencé par parler de ce lieu de vie alternatif et de ce qu’implique le fait de vivre en communauté. On s’est aussi demander comment se reconnecter à soi et aux autres dans un monde qui semble parfois déconnecté du réel. Au fil de nos paroles, on en est finalement venu à se questionner sur le sens de la vie, et en quoi le fait de cultiver son écologie intérieure est peut-être la première forme d’engagement écologique à avoir. Aujourd’hui je vous propose de partir en voyage intérieur grâce à Bruno. L’écologie et l’alternativité comme invitation à trouver un sens à la vie.\\n\\nA bientôt 🌸 \\n\\nSarah \\n\\nLe site internet d’Alter’éco 30 : https://bit.ly/37pw1uj \\n\\nRetrouve moi aussi sur : \\n🎙PODCAST : https://anchor.fm/our-inner-travels\\n📸 I N S T A G R A M : https://instagram.com/ourinnertravels \\n✍️ B L O G : https://ourinnertravels.com \\n📸 FACEBOOK : https://www.facebook.com/OurInnerTravels \\n💕 Abonne-toi à la chaine : https://bit.ly/2PUxikr \\n💌 Me Contacter 💌: contact@ourinnertravels.com\\n        \\n        \\n###############\\n\\n        titre : Habitat autonome et autoconstruction\\n        \\n        \\n###############\\n\\n        titre : PARLONS #2 - 1 : Echovert, la construction d’un lieu alternatif, autonome et écologique - Bruno\\n       \n",
    "\"\"\"\n",
    "sentence = Sentence(text)\n",
    "tagger.predict(sentence)\n",
    "\n",
    "for entity in sentence.get_spans('ner'):\n",
    "    label = entity.get_label(\"ner\")\n",
    "    if label.value == \"LOC\" and label.score >= 0.7:\n",
    "        entity_text = entity.text\n",
    "        entity_label = label.value\n",
    "        entity_score = label.score\n",
    "        print(\"Text:\", entity_text)\n",
    "        print(\"Label:\", entity_label)\n",
    "        print(\"Score:\", entity_score)"
   ]
  },
  {
   "cell_type": "code",
   "execution_count": null,
   "metadata": {},
   "outputs": [],
   "source": [
    "from geopy.geocoders import Nominatim\n",
    "\n",
    "geolocator = Nominatim(user_agent=\"geoapi\")\n",
    "location = geolocator.geocode(\"FAcebook\", language='fr', addressdetails=True, timeout=10)\n",
    "location"
   ]
  },
  {
   "cell_type": "markdown",
   "id": "b2a38097",
   "metadata": {},
   "source": [
    "## Filtering 1"
   ]
  },
  {
   "cell_type": "markdown",
   "id": "88ae9f21",
   "metadata": {},
   "source": [
    "- Remove fr-autre,autre\n",
    "- keep only fr and fr-FR , a big amount of fr are for france.\n",
    "- obtain the localisation of a channel if it's not providled by youtube api can be complexe because you can't find it anywhere."
   ]
  },
  {
   "cell_type": "code",
   "execution_count": null,
   "metadata": {},
   "outputs": [],
   "source": []
  },
  {
   "cell_type": "code",
   "execution_count": null,
   "metadata": {},
   "outputs": [],
   "source": []
  },
  {
   "cell_type": "code",
   "execution_count": null,
   "metadata": {},
   "outputs": [],
   "source": []
  },
  {
   "cell_type": "code",
   "execution_count": null,
   "metadata": {},
   "outputs": [],
   "source": []
  },
  {
   "cell_type": "code",
   "execution_count": null,
   "id": "16256aec",
   "metadata": {},
   "outputs": [],
   "source": []
  },
  {
   "cell_type": "code",
   "execution_count": null,
   "id": "e5189d28",
   "metadata": {},
   "outputs": [],
   "source": []
  },
  {
   "cell_type": "code",
   "execution_count": null,
   "id": "8d430df4",
   "metadata": {},
   "outputs": [],
   "source": []
  },
  {
   "cell_type": "code",
   "execution_count": null,
   "metadata": {},
   "outputs": [],
   "source": []
  },
  {
   "cell_type": "code",
   "execution_count": null,
   "id": "b27df94d",
   "metadata": {},
   "outputs": [],
   "source": []
  },
  {
   "cell_type": "code",
   "execution_count": null,
   "metadata": {},
   "outputs": [],
   "source": []
  },
  {
   "cell_type": "code",
   "execution_count": null,
   "id": "66616ae9",
   "metadata": {},
   "outputs": [],
   "source": []
  }
 ],
 "metadata": {
  "kernelspec": {
   "display_name": ".venv",
   "language": "python",
   "name": "python3"
  },
  "language_info": {
   "codemirror_mode": {
    "name": "ipython",
    "version": 3
   },
   "file_extension": ".py",
   "mimetype": "text/x-python",
   "name": "python",
   "nbconvert_exporter": "python",
   "pygments_lexer": "ipython3",
   "version": "3.10.16"
  }
 },
 "nbformat": 4,
 "nbformat_minor": 5
}
